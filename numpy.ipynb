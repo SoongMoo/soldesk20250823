{
  "nbformat": 4,
  "nbformat_minor": 0,
  "metadata": {
    "colab": {
      "provenance": []
    },
    "kernelspec": {
      "name": "python3",
      "display_name": "Python 3"
    },
    "language_info": {
      "name": "python"
    }
  },
  "cells": [
    {
      "cell_type": "code",
      "execution_count": null,
      "metadata": {
        "id": "zjK-bSI2xZNN"
      },
      "outputs": [],
      "source": [
        "# numpy : numeric python : 리스트 : 숫자 배열\n",
        "# 리터널 : 정수, 실수, 문자열\n",
        "# 부울\n",
        "# 리스트, 튜플, 딕셔너리, 집합"
      ]
    },
    {
      "cell_type": "code",
      "source": [
        "!pip install numpy"
      ],
      "metadata": {
        "colab": {
          "base_uri": "https://localhost:8080/"
        },
        "id": "Q7rX-Mb50WJD",
        "outputId": "52e0fd5f-eb8f-483b-961c-c49aa330daf7"
      },
      "execution_count": 1,
      "outputs": [
        {
          "output_type": "stream",
          "name": "stdout",
          "text": [
            "Requirement already satisfied: numpy in /usr/local/lib/python3.12/dist-packages (2.0.2)\n"
          ]
        }
      ]
    },
    {
      "cell_type": "code",
      "source": [
        "import numpy # 숫자 배열\n",
        "num = numpy.random.randint(10) # 0 ~ 9\n",
        "print(num)"
      ],
      "metadata": {
        "colab": {
          "base_uri": "https://localhost:8080/"
        },
        "id": "3SnLyxkZ1YEi",
        "outputId": "ed12e77c-5a2f-4bc1-c267-30c9f7a506a0"
      },
      "execution_count": 2,
      "outputs": [
        {
          "output_type": "stream",
          "name": "stdout",
          "text": [
            "0\n"
          ]
        }
      ]
    },
    {
      "cell_type": "code",
      "source": [
        "import numpy as np\n",
        "num = np.random.randint(10) # 0 ~ 9\n",
        "print(num)"
      ],
      "metadata": {
        "colab": {
          "base_uri": "https://localhost:8080/"
        },
        "id": "QMnf1PwK2QFx",
        "outputId": "ab7c4536-913e-4b95-b9c1-a48562f3f445"
      },
      "execution_count": 3,
      "outputs": [
        {
          "output_type": "stream",
          "name": "stdout",
          "text": [
            "9\n"
          ]
        }
      ]
    },
    {
      "cell_type": "code",
      "source": [
        "### 배열을 만드는 3가지 방법\n",
        "#1. random객체를 사용하는 방법\n",
        "# 1차원 배열 : 벡터(vector)\n",
        "num = np.random.randint(1, 10, 3) # 3 : size\n",
        "print(num)\n",
        "num = np.random.randint(1, 10, size=3) # 3 : size\n",
        "print(num)\n",
        "# 2차원 배열\n",
        "num2 = np.random.randint(1, 10, size=(3, 2))\n",
        "print(num2)\n",
        "num2 = np.random.randint(1, 10, size=(2, 3))\n",
        "print(num2)"
      ],
      "metadata": {
        "colab": {
          "base_uri": "https://localhost:8080/"
        },
        "id": "cDwZChcu0sC7",
        "outputId": "6ff88e66-7ad8-4d9b-da5d-737cd1b1c711"
      },
      "execution_count": 8,
      "outputs": [
        {
          "output_type": "stream",
          "name": "stdout",
          "text": [
            "[8 7 2]\n",
            "[1 5 7]\n",
            "[[4 9]\n",
            " [7 8]\n",
            " [9 1]]\n",
            "[[4 3 3]\n",
            " [7 1 6]]\n"
          ]
        }
      ]
    },
    {
      "cell_type": "code",
      "source": [
        "# 2. arange()함수를 사용하는 방법\n",
        "for i in range(9):\n",
        "  print(i, end =\" \")\n",
        "print()\n",
        "print(\"====\" * 15)\n",
        "# 1차원 배열\n",
        "num = np.arange(10)\n",
        "print(num)\n",
        "num = np.arange(11, 21)\n",
        "print(num)\n",
        "# 2차원 배열\n",
        "num2 = np.arange(12).reshape(3, 4)\n",
        "num2\n",
        "num2 = np.arange(12).reshape(4, 3)\n",
        "num2\n",
        "# num2 = np.arange(10).reshape(2, 6)\n",
        "# num2\n",
        "num1 = np.arange(11 , 11+12) # 1차원 배열\n",
        "print(num1)\n",
        "num2 = np.arange(11 , 11+12).reshape(2, 6) # 2차원 배열\n",
        "print(num2)\n",
        "num1 = np.arange(1 , 1+3)\n",
        "num1\n",
        "# 열(column)이 하나인 2차원 배열\n",
        "num2 = np.arange(1 , 1+3).reshape(3, 1)\n",
        "num2\n",
        "# 행(row)이 하나인 2차원배열로 만드시오.\n",
        "num2 = np.arange(1 , 1+3).reshape(1, 3)\n",
        "num2\n",
        "print(\"==\"* 30)\n",
        "my_arr = np.arange(1000000)\n",
        "my_arr\n",
        "my_arr = np.arange(1_000_000)\n",
        "my_arr"
      ],
      "metadata": {
        "colab": {
          "base_uri": "https://localhost:8080/"
        },
        "id": "jxp9acie3zOn",
        "outputId": "3226a781-5de9-4f47-e491-6a7385919c8e"
      },
      "execution_count": 41,
      "outputs": [
        {
          "output_type": "stream",
          "name": "stdout",
          "text": [
            "0 1 2 3 4 5 6 7 8 \n",
            "============================================================\n",
            "[0 1 2 3 4 5 6 7 8 9]\n",
            "[11 12 13 14 15 16 17 18 19 20]\n",
            "[11 12 13 14 15 16 17 18 19 20 21 22]\n",
            "[[11 12 13 14 15 16]\n",
            " [17 18 19 20 21 22]]\n",
            "============================================================\n"
          ]
        },
        {
          "output_type": "execute_result",
          "data": {
            "text/plain": [
              "array([     0,      1,      2, ..., 999997, 999998, 999999])"
            ]
          },
          "metadata": {},
          "execution_count": 41
        }
      ]
    },
    {
      "cell_type": "code",
      "source": [
        "#3. array()함수를 사용하는 방법: 리스트, 튜플\n",
        "# 1 차원\n",
        "num1 = np.array([1, 2, 3])\n",
        "print(num1)\n",
        "num1 = np.array((1, 2, 3))\n",
        "print(num1)\n",
        "l = [1, 2, 3]\n",
        "num1 = np.array(l)\n",
        "print(num1)\n",
        "# 2 차원 배열\n",
        "l2 = [[1,2,3,4],[5,6,7,8]]\n",
        "l2[0]\n",
        "print(l2)# 리스트\n",
        "num2 = np.array(l2) # 배열\n",
        "print(num2)\n",
        "# 누락값\n",
        "l2 = [[1,4,np.nan,5],[5,np.nan,8,4], [3,5,8,np.nan]]\n",
        "print(l2)\n",
        "num2 = np.array(l2)\n",
        "num2"
      ],
      "metadata": {
        "colab": {
          "base_uri": "https://localhost:8080/"
        },
        "id": "pBve3B3s8tSE",
        "outputId": "e0a5d6f6-6b54-490c-ecb7-585c54b9e34b"
      },
      "execution_count": 31,
      "outputs": [
        {
          "output_type": "stream",
          "name": "stdout",
          "text": [
            "[1 2 3]\n",
            "[1 2 3]\n",
            "[1 2 3]\n",
            "[[1, 2, 3, 4], [5, 6, 7, 8]]\n",
            "[[1 2 3 4]\n",
            " [5 6 7 8]]\n",
            "[[1, 4, nan, 5], [5, nan, 8, 4], [3, 5, 8, nan]]\n"
          ]
        },
        {
          "output_type": "execute_result",
          "data": {
            "text/plain": [
              "array([[ 1.,  4., nan,  5.],\n",
              "       [ 5., nan,  8.,  4.],\n",
              "       [ 3.,  5.,  8., nan]])"
            ]
          },
          "metadata": {},
          "execution_count": 31
        }
      ]
    },
    {
      "cell_type": "code",
      "source": [
        "z = np.zeros(10) # 1차원 0행열\n",
        "print(z)\n",
        "z = np.ones(10)\n",
        "print(z)\n",
        "# 2차원\n",
        "z = np.zeros(10).reshape(10,1)\n",
        "print(z)\n",
        "z = np.ones(10).reshape(10,1)\n",
        "print(z)\n",
        "z = np.zeros(9).reshape(3,3)\n",
        "print(z)\n",
        "z = np.ones(9).reshape(3,3)\n",
        "print(z)\n",
        "z = np.empty((2, 3))\n",
        "print(z)\n",
        "#             면 행 열\n",
        "z = np.empty((2, 3, 2))\n",
        "print(z)"
      ],
      "metadata": {
        "colab": {
          "base_uri": "https://localhost:8080/"
        },
        "id": "zgKx0IYl-4S7",
        "outputId": "eecd738e-d5bf-4a1a-c140-2292ce87e783"
      },
      "execution_count": 39,
      "outputs": [
        {
          "output_type": "stream",
          "name": "stdout",
          "text": [
            "[0. 0. 0. 0. 0. 0. 0. 0. 0. 0.]\n",
            "[1. 1. 1. 1. 1. 1. 1. 1. 1. 1.]\n",
            "[[0.]\n",
            " [0.]\n",
            " [0.]\n",
            " [0.]\n",
            " [0.]\n",
            " [0.]\n",
            " [0.]\n",
            " [0.]\n",
            " [0.]\n",
            " [0.]]\n",
            "[[1.]\n",
            " [1.]\n",
            " [1.]\n",
            " [1.]\n",
            " [1.]\n",
            " [1.]\n",
            " [1.]\n",
            " [1.]\n",
            " [1.]\n",
            " [1.]]\n",
            "[[0. 0. 0.]\n",
            " [0. 0. 0.]\n",
            " [0. 0. 0.]]\n",
            "[[1. 1. 1.]\n",
            " [1. 1. 1.]\n",
            " [1. 1. 1.]]\n",
            "[[2.0e-323 1.5e-323 1.5e-323]\n",
            " [3.5e-323 4.9e-324 3.0e-323]]\n",
            "[[[5.43e-323 5.93e-323]\n",
            "  [6.42e-323 6.92e-323]\n",
            "  [7.41e-323 7.91e-323]]\n",
            "\n",
            " [[8.40e-323 8.89e-323]\n",
            "  [9.39e-323 9.88e-323]\n",
            "  [1.04e-322 1.09e-322]]]\n"
          ]
        }
      ]
    },
    {
      "cell_type": "code",
      "source": [
        "# 배열의 데이터 유형\n",
        "num = np.arange(15)\n",
        "num\n",
        "print(num.dtype)\n",
        "arr1 = np.array([1, 2, 3])\n",
        "arr1\n",
        "print(arr1.dtype)\n",
        "arr1 = np.array([1, 2, 3], dtype=np.float64)\n",
        "arr1\n",
        "print(arr1.dtype)\n",
        "arr1 = np.array([1, 2, 3], dtype=np.int32)\n",
        "arr1\n",
        "print(arr1.dtype)"
      ],
      "metadata": {
        "colab": {
          "base_uri": "https://localhost:8080/"
        },
        "id": "YIQRcCPV5H-7",
        "outputId": "1f2dd068-26be-4c10-899c-5f5466fb46fa"
      },
      "execution_count": 48,
      "outputs": [
        {
          "output_type": "stream",
          "name": "stdout",
          "text": [
            "int64\n",
            "int64\n",
            "float64\n",
            "int32\n"
          ]
        }
      ]
    },
    {
      "cell_type": "code",
      "source": [
        " # 타입 변경하기\n",
        "arr = np.array([1, 2, 3, 4, 5])\n",
        "print(arr.dtype)\n",
        "float_arr = arr.astype(np.float64)\n",
        "print(float_arr)\n",
        "print(float_arr.dtype)\n",
        "arr = np.array([3.7, -1.2, -2.6, 0.5, 12.9, 10.1])\n",
        "print(arr)\n",
        "print(arr.astype(np.int64)) # 실수를 정수로 변경하면 절삭된다"
      ],
      "metadata": {
        "colab": {
          "base_uri": "https://localhost:8080/"
        },
        "id": "peNd5vT0Cgeh",
        "outputId": "ee236848-a4ed-4ab9-d16f-babfe7fdddad"
      },
      "execution_count": 54,
      "outputs": [
        {
          "output_type": "stream",
          "name": "stdout",
          "text": [
            "int64\n",
            "[1. 2. 3. 4. 5.]\n",
            "float64\n",
            "[ 3.7 -1.2 -2.6  0.5 12.9 10.1]\n",
            "[ 3 -1 -2  0 12 10]\n"
          ]
        }
      ]
    },
    {
      "cell_type": "code",
      "source": [
        "int_array = np.arange(10)\n",
        "print(int_array)\n",
        "print(int_array.dtype)\n",
        "calibers = np.array([.22, .270, .357, .380, .44, .50], dtype=np.float64)\n",
        "print(calibers.dtype) # float64\n",
        "converted = int_array.astype(calibers.dtype)\n",
        "print(converted.dtype)"
      ],
      "metadata": {
        "colab": {
          "base_uri": "https://localhost:8080/"
        },
        "id": "jP23gVrJFDj3",
        "outputId": "f556413d-e0b9-4f47-93d7-9bf9abffa60b"
      },
      "execution_count": 61,
      "outputs": [
        {
          "output_type": "stream",
          "name": "stdout",
          "text": [
            "[0 1 2 3 4 5 6 7 8 9]\n",
            "int64\n",
            "float64\n",
            "float64\n"
          ]
        }
      ]
    },
    {
      "cell_type": "code",
      "source": [
        "# NumPy 배열을 사용한 산술 : 유니버설 함수(UFuncs)\n",
        "arr = np.array([[1., 2., 3.], [4., 5., 6.]])\n",
        "print(arr)\n",
        "result = arr + arr\n",
        "print(result)\n",
        "result = np.add(arr, arr)\n",
        "print(result)\n",
        "\n",
        "result = arr - arr\n",
        "print(result)\n",
        "result = np.subtract(arr, arr)\n",
        "print(result)\n",
        "\n",
        "result = arr / arr\n",
        "print(result)\n",
        "result = np.divide(arr, arr)\n",
        "print(result)"
      ],
      "metadata": {
        "colab": {
          "base_uri": "https://localhost:8080/"
        },
        "id": "AzASaq2KJqA0",
        "outputId": "09dcc131-8cf4-4b40-9661-13aa44d14bd7"
      },
      "execution_count": 70,
      "outputs": [
        {
          "output_type": "stream",
          "name": "stdout",
          "text": [
            "[[1. 2. 3.]\n",
            " [4. 5. 6.]]\n",
            "[[ 2.  4.  6.]\n",
            " [ 8. 10. 12.]]\n",
            "[[ 2.  4.  6.]\n",
            " [ 8. 10. 12.]]\n",
            "[[0. 0. 0.]\n",
            " [0. 0. 0.]]\n",
            "[[0. 0. 0.]\n",
            " [0. 0. 0.]]\n",
            "[[1. 1. 1.]\n",
            " [1. 1. 1.]]\n",
            "[[1. 1. 1.]\n",
            " [1. 1. 1.]]\n"
          ]
        }
      ]
    },
    {
      "cell_type": "code",
      "source": [
        "# 브로드케스팅\n",
        "print(arr)\n",
        "result = arr + 2\n",
        "print(result)\n",
        "# 배열이 연산하기 위해서는 차원이 같아야 한다.\n",
        "'''\n",
        "[[1. 2. 3.]    +  2\n",
        " [4. 5. 6.]]\n",
        " ===>\n",
        " [[1. 2. 3.]  + [[2,2,2],\n",
        " [4. 5. 6.]]     [2,2,2]] # 브로드케스팅\n",
        "'''\n",
        "a = np.arange(3)\n",
        "print(a)\n",
        "b = a[:, np.newaxis]\n",
        "print(b)\n",
        "result = a + b\n",
        "'''\n",
        "[0 1 2] + [[0]     => [0 1 2]   + [[0][0][0]\n",
        "           [1]        [0 1 2]      [1][1][1]\n",
        "           [2]]       [0 1 2]      [2][2][2]]\n",
        "'''\n",
        "print(result)\n",
        "result = arr ** 2\n",
        "print(result)\n",
        "result = np.power(arr, 2)\n",
        "print(result)"
      ],
      "metadata": {
        "colab": {
          "base_uri": "https://localhost:8080/"
        },
        "id": "RWBrYC2TLrnR",
        "outputId": "b09718a8-71d9-4fb8-ea3c-049eddc4fcf3"
      },
      "execution_count": 76,
      "outputs": [
        {
          "output_type": "stream",
          "name": "stdout",
          "text": [
            "[[1. 2. 3.]\n",
            " [4. 5. 6.]]\n",
            "[[3. 4. 5.]\n",
            " [6. 7. 8.]]\n",
            "[0 1 2]\n",
            "[[0]\n",
            " [1]\n",
            " [2]]\n",
            "[[0 1 2]\n",
            " [1 2 3]\n",
            " [2 3 4]]\n",
            "[[ 1.  4.  9.]\n",
            " [16. 25. 36.]]\n",
            "[[ 1.  4.  9.]\n",
            " [16. 25. 36.]]\n"
          ]
        }
      ]
    },
    {
      "cell_type": "code",
      "source": [
        "arr2 = np.array([[0., 4., 1.], [7., 2., 12.]])\n",
        "print(arr)\n",
        "print(arr2)\n",
        "result = arr2 > arr # bool\n",
        "print(result) # 팬시 index\n",
        "print(arr2[result])"
      ],
      "metadata": {
        "colab": {
          "base_uri": "https://localhost:8080/"
        },
        "id": "RhtpsHmiOdIS",
        "outputId": "daa99edc-e207-4302-c2bf-b49c07d316a6"
      },
      "execution_count": 81,
      "outputs": [
        {
          "output_type": "stream",
          "name": "stdout",
          "text": [
            "[[1. 2. 3.]\n",
            " [4. 5. 6.]]\n",
            "[[ 0.  4.  1.]\n",
            " [ 7.  2. 12.]]\n",
            "[[False  True False]\n",
            " [ True False  True]]\n",
            "[ 4.  7. 12.]\n"
          ]
        }
      ]
    },
    {
      "cell_type": "code",
      "source": [
        "# 기본 인덱싱 및 슬라이싱\n",
        "l = [1,2,3,4,5,6,7,8]\n",
        "print(l[4]) # indexing\n",
        "print(l[2: 4]) # slicing\n",
        "arr = np.arange(1, 9)\n",
        "print(arr)\n",
        "print(arr[4])\n",
        "print(arr[2: 4])\n",
        "# l[2: 4] = 12\n",
        "arr[2: 4] = 12 # slicing을 이용해서 요소의 값을 변경\n",
        "print(arr)"
      ],
      "metadata": {
        "colab": {
          "base_uri": "https://localhost:8080/"
        },
        "id": "-QcBf6qQLoPr",
        "outputId": "e4cc7b5a-0400-40ee-900c-70a27cd0fbaf"
      },
      "execution_count": 90,
      "outputs": [
        {
          "output_type": "stream",
          "name": "stdout",
          "text": [
            "5\n",
            "[3, 4]\n",
            "[1 2 3 4 5 6 7 8]\n",
            "5\n",
            "[3 4]\n",
            "[ 1  2 12 12  5  6  7  8]\n"
          ]
        }
      ]
    },
    {
      "cell_type": "code",
      "source": [
        "arr = np.arange(10)\n",
        "print(arr)\n",
        "arr_slice = arr[5:8]\n",
        "print(arr_slice)\n",
        "print(arr_slice[0])\n",
        "arr_slice[0] = 50\n",
        "print(arr)\n",
        "print(arr_slice[:])\n",
        "arr_slice[:] = 100\n",
        "print(arr_slice)\n",
        "print(arr)"
      ],
      "metadata": {
        "colab": {
          "base_uri": "https://localhost:8080/"
        },
        "id": "7MdtLah0RRL4",
        "outputId": "c0775a6e-f46f-49ee-cec3-1d8ecab491d0"
      },
      "execution_count": 96,
      "outputs": [
        {
          "output_type": "stream",
          "name": "stdout",
          "text": [
            "[0 1 2 3 4 5 6 7 8 9]\n",
            "[5 6 7]\n",
            "5\n",
            "[ 0  1  2  3  4 50  6  7  8  9]\n",
            "[50  6  7]\n",
            "[100 100 100]\n",
            "[  0   1   2   3   4 100 100 100   8   9]\n"
          ]
        }
      ]
    },
    {
      "cell_type": "code",
      "source": [
        "# 슬라이스를 사용한 인덱싱\n",
        "# 1차원 배열\n",
        "num = np.random.randint(10, size=6)\n",
        "print(num) # 배열\n",
        "l1 = [6, 5, 7, 3, 9, 2]\n",
        "print(l1) # 리스트\n"
      ],
      "metadata": {
        "colab": {
          "base_uri": "https://localhost:8080/"
        },
        "id": "K930CYI_ewHV",
        "outputId": "628da072-45c9-4421-f3f2-b415512396ad"
      },
      "execution_count": 97,
      "outputs": [
        {
          "output_type": "stream",
          "name": "stdout",
          "text": [
            "[9 5 6 8 6 9]\n",
            "[6, 5, 7, 3, 9, 2]\n"
          ]
        }
      ]
    },
    {
      "cell_type": "code",
      "source": [
        "'''\n",
        "  [9 5 6 8 6 9]\n",
        "   0 1 2 3 4 5      : index\n",
        "  [6, 5, 7, 3, 9, 2]\n",
        "   0  1  2  3  4  5 : index\n",
        "'''\n",
        "print(l1[0])\n",
        "print(num[0])\n",
        "print(l1[2: 2+2])\n",
        "print(num[2: 2+2])\n",
        "print(l1[0: 2+2])\n",
        "print(num[0: 2+2])\n",
        "print(l1[: 2+2])\n",
        "print(num[: 2+2])\n",
        "print(l1[ 3 : ])\n",
        "print(num[ 3 : ])\n",
        "print(l1[ 2 : : 2])\n",
        "print(num[ 2 : : 2 ])\n",
        "print(l1[::-1])\n",
        "print(num[::-1])"
      ],
      "metadata": {
        "colab": {
          "base_uri": "https://localhost:8080/"
        },
        "id": "uL2JdZZjlA8U",
        "outputId": "344b65e3-21f2-4037-f11e-3711d15f243b"
      },
      "execution_count": 104,
      "outputs": [
        {
          "output_type": "stream",
          "name": "stdout",
          "text": [
            "6\n",
            "9\n",
            "[7, 3]\n",
            "[6 8]\n",
            "[6, 5, 7, 3]\n",
            "[9 5 6 8]\n",
            "[6, 5, 7, 3]\n",
            "[9 5 6 8]\n",
            "[3, 9, 2]\n",
            "[8 6 9]\n",
            "[7, 9]\n",
            "[6 6]\n",
            "[2, 9, 3, 7, 5, 6]\n",
            "[9 6 8 6 5 9]\n"
          ]
        }
      ]
    },
    {
      "cell_type": "code",
      "source": [
        "# 2차원\n",
        "num2 = np.random.randint(10, size=(2, 6))\n",
        "print(num2)"
      ],
      "metadata": {
        "colab": {
          "base_uri": "https://localhost:8080/"
        },
        "id": "wINy94KkmZnd",
        "outputId": "01136ae0-c11c-4ac1-931a-6e892cdbf590"
      },
      "execution_count": 105,
      "outputs": [
        {
          "output_type": "stream",
          "name": "stdout",
          "text": [
            "[[4 8 1 8 2 5]\n",
            " [4 6 5 0 9 4]]\n"
          ]
        }
      ]
    },
    {
      "cell_type": "code",
      "source": [
        "l2 = [[4, 8, 1, 8, 2, 5],\n",
        "      [4, 6, 5, 0, 9, 4]]\n",
        "print(l2)\n",
        "'''    0 1 2 3 4 5열\n",
        "     [[4 8 1 8 2 5]     0행  -2\n",
        "      [4 6 5 0 9 4]]    1행  -1\n",
        "\n",
        "       0  1  2  3  4  5 index\n",
        "     [[4, 8, 1, 8, 2, 5],  0 index   -2\n",
        "      [4, 6, 5, 0, 9, 4]]  1 index   -1\n",
        "'''\n",
        "print(l2[1])\n",
        "print(num2[1])\n",
        "print(l2[1][2])\n",
        "print(num2[1][2]) # 행열을 index로 생각\n",
        "print(num2[1, 2]) # 행열\n",
        "# print(l2[1, 2])\n",
        "print(l2[-1])\n",
        "print(num2[-1])\n",
        "print(l2[-1][-3])\n",
        "print(num2[-1][-3]) # index\n",
        "print(num2[-1,-3])\n",
        "# print(l2[-1 , -3])"
      ],
      "metadata": {
        "colab": {
          "base_uri": "https://localhost:8080/"
        },
        "id": "bQX25_9HkEP1",
        "outputId": "28e84952-b81e-4cc1-f1fe-e7bf71e44b17"
      },
      "execution_count": 117,
      "outputs": [
        {
          "output_type": "stream",
          "name": "stdout",
          "text": [
            "[[4, 8, 1, 8, 2, 5], [4, 6, 5, 0, 9, 4]]\n",
            "[4, 6, 5, 0, 9, 4]\n",
            "[4 6 5 0 9 4]\n",
            "5\n",
            "5\n",
            "5\n",
            "[4, 6, 5, 0, 9, 4]\n",
            "[4 6 5 0 9 4]\n",
            "0\n",
            "0\n",
            "0\n"
          ]
        }
      ]
    },
    {
      "cell_type": "code",
      "source": [
        "num3 = np.random.randint(10, size=(3, 4))\n",
        "print(num3)"
      ],
      "metadata": {
        "colab": {
          "base_uri": "https://localhost:8080/"
        },
        "id": "b-OKi8lQo9zs",
        "outputId": "f33f2571-9bcf-440a-b896-358786c30877"
      },
      "execution_count": 118,
      "outputs": [
        {
          "output_type": "stream",
          "name": "stdout",
          "text": [
            "[[0 5 8 7]\n",
            " [9 3 5 6]\n",
            " [5 2 1 2]]\n"
          ]
        }
      ]
    },
    {
      "cell_type": "code",
      "source": [
        "l3 = [[0, 5, 8, 7],\n",
        "      [9, 3, 5, 6],\n",
        "      [5, 2, 1, 2]]\n",
        "print(l3[1][1])\n",
        "print(num3[1][1])\n",
        "print(num3[1,1])\n",
        "print(l3[:][:])\n",
        "print(num3[:][:])\n",
        "print(num3[:, :]) # 모든행의 모든열\n",
        "# print(l3[:][:2]) index\n",
        "# print(num3[:][:2]) index\n",
        "print(num3[:, :2]) # 행 , 열\n",
        "print(num3[:2, 2: 4])\n",
        "print(num3[1, 0:2 ])\n",
        "print(num3[ : , ::2])"
      ],
      "metadata": {
        "colab": {
          "base_uri": "https://localhost:8080/"
        },
        "id": "kRAAzo7LpAOx",
        "outputId": "5c0ff5eb-f0f9-4054-c3e9-3b9156cd0caf"
      },
      "execution_count": 132,
      "outputs": [
        {
          "output_type": "stream",
          "name": "stdout",
          "text": [
            "3\n",
            "3\n",
            "3\n",
            "[[0, 5, 8, 7], [9, 3, 5, 6], [5, 2, 1, 2]]\n",
            "[[0 5 8 7]\n",
            " [9 3 5 6]\n",
            " [5 2 1 2]]\n",
            "[[0 5 8 7]\n",
            " [9 3 5 6]\n",
            " [5 2 1 2]]\n",
            "[[0 5]\n",
            " [9 3]\n",
            " [5 2]]\n",
            "[[8 7]\n",
            " [5 6]]\n",
            "[9 3]\n",
            "[[0 8]\n",
            " [9 5]\n",
            " [5 1]]\n"
          ]
        }
      ]
    },
    {
      "cell_type": "code",
      "source": [
        "# Boolean Indexing\n",
        "names = np.array([\"Bob\", \"Joe\", \"Will\", \"Bob\", \"Will\", \"Joe\", \"Joe\"])\n",
        "data = np.array([[4, 7], [0, 2], [-5, 6], [0, 0], [1, 2],[-12, -4], [3, 4]])\n",
        "print(names)\n",
        "print(data)\n",
        "print(names == \"Bob\") # [ True False False  True False False False]\n",
        "print(data[[ True, False, False,  True, False, False, False]])\n",
        "print(data[names == \"Bob\"])\n",
        "print(data[names == \"Bob\", 1]) # indexing\n",
        "print(data[names == \"Bob\", 1:]) # slicing\n",
        "# Bob이 아닌 index에 해당하는 것만 다 가져오시오\n",
        "# [False,  True,  True, False,  True,  True,  True]\n",
        "print(data[~(names == \"Bob\")])\n",
        "print(data[names != \"Bob\"])\n",
        "\n",
        "cond = names == \"Bob\"\n",
        "print(data[cond])\n",
        "print(data[~cond])\n",
        "\n",
        "mask = (names == \"Bob\") | (names == \"Will\")\n",
        "print(mask)\n",
        "print(data[mask])\n",
        "print(names[mask])\n",
        "print(data[[ True, False,  True,  True,  True, False, False]])\n",
        "print(data[data < 0])  # [ -5 -12  -4]\n",
        "data[data < 0] = 0\n",
        "print(data)\n",
        "print([names != \"Joe\"]) # [ True, False,  True,  True,  True, False, False]\n",
        "print(data[names != \"Joe\"]) #\n",
        "'''\n",
        "[[4 7]\n",
        " [0 6]\n",
        " [0 0]\n",
        " [1 2]]\n",
        " '''\n",
        "data[names != \"Joe\"] = 7\n",
        "print(data)"
      ],
      "metadata": {
        "colab": {
          "base_uri": "https://localhost:8080/"
        },
        "id": "MoLRrX48shVx",
        "outputId": "89ed3fcb-e3cc-43ab-928c-a7760b2209d2"
      },
      "execution_count": 152,
      "outputs": [
        {
          "output_type": "stream",
          "name": "stdout",
          "text": [
            "['Bob' 'Joe' 'Will' 'Bob' 'Will' 'Joe' 'Joe']\n",
            "[[  4   7]\n",
            " [  0   2]\n",
            " [ -5   6]\n",
            " [  0   0]\n",
            " [  1   2]\n",
            " [-12  -4]\n",
            " [  3   4]]\n",
            "[ True False False  True False False False]\n",
            "[[4 7]\n",
            " [0 0]]\n",
            "[[4 7]\n",
            " [0 0]]\n",
            "[7 0]\n",
            "[[7]\n",
            " [0]]\n",
            "[[  0   2]\n",
            " [ -5   6]\n",
            " [  1   2]\n",
            " [-12  -4]\n",
            " [  3   4]]\n",
            "[[  0   2]\n",
            " [ -5   6]\n",
            " [  1   2]\n",
            " [-12  -4]\n",
            " [  3   4]]\n",
            "[[4 7]\n",
            " [0 0]]\n",
            "[[  0   2]\n",
            " [ -5   6]\n",
            " [  1   2]\n",
            " [-12  -4]\n",
            " [  3   4]]\n",
            "[ True False  True  True  True False False]\n",
            "[[ 4  7]\n",
            " [-5  6]\n",
            " [ 0  0]\n",
            " [ 1  2]]\n",
            "['Bob' 'Will' 'Bob' 'Will']\n",
            "[[ 4  7]\n",
            " [-5  6]\n",
            " [ 0  0]\n",
            " [ 1  2]]\n",
            "[ -5 -12  -4]\n",
            "[[4 7]\n",
            " [0 2]\n",
            " [0 6]\n",
            " [0 0]\n",
            " [1 2]\n",
            " [0 0]\n",
            " [3 4]]\n",
            "[array([ True, False,  True,  True,  True, False, False])]\n",
            "[[4 7]\n",
            " [0 6]\n",
            " [0 0]\n",
            " [1 2]]\n",
            "[[7 7]\n",
            " [0 2]\n",
            " [7 7]\n",
            " [7 7]\n",
            " [7 7]\n",
            " [0 0]\n",
            " [3 4]]\n"
          ]
        }
      ]
    },
    {
      "cell_type": "code",
      "source": [
        "import pandas as pd\n",
        "rainfall = pd.read_csv(\"https://raw.githubusercontent.com/SoongMoo/data-analysis/refs/heads/main/data/Seattle2014.csv\")\n",
        "rainfall\n",
        "inches = np.array(rainfall['PRCP']  / 254 )\n",
        "inches\n",
        "# 0.5인치이상 온 날은 몇일입니까?\n",
        "#True :1 , False :0\n",
        "print(np.sum(inches >= 0.5))\n",
        "# 강수량이 0.5에서 0.8 사이인 날은 몇일이나 되나요?\n",
        "print(np.sum((inches >= 0.5) & (inches <= 0.8)))\n",
        "#강수량이 0.5보다 작고 0.8이 온날은?\n",
        "print(np.sum(~((inches >= 0.5) & (inches <= 0.8))))\n",
        "print(np.sum((inches < 0.5) | (inches > 0.8)))\n",
        "#비가 안온 날\n",
        "print(np.sum(inches == 0))\n",
        "#비가 온 날\n",
        "print(np.sum(inches != 0))"
      ],
      "metadata": {
        "colab": {
          "base_uri": "https://localhost:8080/"
        },
        "id": "EHovaMDHzeX7",
        "outputId": "33060910-edd4-4401-f0e9-6ba7ee28f0bf"
      },
      "execution_count": 164,
      "outputs": [
        {
          "output_type": "stream",
          "name": "stdout",
          "text": [
            "39\n",
            "26\n",
            "339\n",
            "339\n",
            "215\n",
            "150\n"
          ]
        }
      ]
    },
    {
      "cell_type": "code",
      "source": [
        "import matplotlib.pyplot as plt\n",
        "plt.hist(inches, 40)"
      ],
      "metadata": {
        "colab": {
          "base_uri": "https://localhost:8080/",
          "height": 690
        },
        "id": "4hfKm-1a2q_b",
        "outputId": "3d05373c-65aa-4f90-c21d-f7459357d3ea"
      },
      "execution_count": 166,
      "outputs": [
        {
          "output_type": "execute_result",
          "data": {
            "text/plain": [
              "(array([245.,  14.,  13.,  17.,   8.,   6.,   5.,   6.,   4.,   3.,   7.,\n",
              "          6.,   3.,   3.,   3.,   4.,   4.,   2.,   4.,   0.,   0.,   1.,\n",
              "          1.,   1.,   0.,   0.,   0.,   2.,   1.,   1.,   0.,   0.,   0.,\n",
              "          0.,   0.,   0.,   0.,   0.,   0.,   1.]),\n",
              " array([0.        , 0.04596457, 0.09192913, 0.1378937 , 0.18385827,\n",
              "        0.22982283, 0.2757874 , 0.32175197, 0.36771654, 0.4136811 ,\n",
              "        0.45964567, 0.50561024, 0.5515748 , 0.59753937, 0.64350394,\n",
              "        0.6894685 , 0.73543307, 0.78139764, 0.8273622 , 0.87332677,\n",
              "        0.91929134, 0.96525591, 1.01122047, 1.05718504, 1.10314961,\n",
              "        1.14911417, 1.19507874, 1.24104331, 1.28700787, 1.33297244,\n",
              "        1.37893701, 1.42490157, 1.47086614, 1.51683071, 1.56279528,\n",
              "        1.60875984, 1.65472441, 1.70068898, 1.74665354, 1.79261811,\n",
              "        1.83858268]),\n",
              " <BarContainer object of 40 artists>)"
            ]
          },
          "metadata": {},
          "execution_count": 166
        },
        {
          "output_type": "display_data",
          "data": {
            "text/plain": [
              "<Figure size 640x480 with 1 Axes>"
            ],
            "image/png": "[encoded data removed]"
          },
          "metadata": {}
        }
      ]
    },
    {
      "cell_type": "code",
      "source": [
        "# 팬시 index\n",
        "arr = np.zeros((8, 4))\n",
        "print(arr)\n",
        "for i in range(8):\n",
        "    arr[i] = i\n",
        "print(arr)\n",
        "'''\n",
        "[[0. 0. 0. 0.]    0\n",
        " [1. 1. 1. 1.]    1\n",
        " [2. 2. 2. 2.]    2\n",
        " [3. 3. 3. 3.]    3   -5\n",
        " [4. 4. 4. 4.]    4   -4\n",
        " [5. 5. 5. 5.]    5   -3\n",
        " [6. 6. 6. 6.]    6   -2\n",
        " [7. 7. 7. 7.]]   7   -1\n",
        "'''\n",
        "print(arr[[4,3,0,6]])\n",
        "print(arr[[-3, -5, -7]])"
      ],
      "metadata": {
        "colab": {
          "base_uri": "https://localhost:8080/"
        },
        "id": "pI4sm5iEud_y",
        "outputId": "21d7b6e2-c03f-4ab7-c7e5-0f2c41186f5d"
      },
      "execution_count": 168,
      "outputs": [
        {
          "output_type": "stream",
          "name": "stdout",
          "text": [
            "[[0. 0. 0. 0.]\n",
            " [0. 0. 0. 0.]\n",
            " [0. 0. 0. 0.]\n",
            " [0. 0. 0. 0.]\n",
            " [0. 0. 0. 0.]\n",
            " [0. 0. 0. 0.]\n",
            " [0. 0. 0. 0.]\n",
            " [0. 0. 0. 0.]]\n",
            "[[0. 0. 0. 0.]\n",
            " [1. 1. 1. 1.]\n",
            " [2. 2. 2. 2.]\n",
            " [3. 3. 3. 3.]\n",
            " [4. 4. 4. 4.]\n",
            " [5. 5. 5. 5.]\n",
            " [6. 6. 6. 6.]\n",
            " [7. 7. 7. 7.]]\n",
            "[[4. 4. 4. 4.]\n",
            " [3. 3. 3. 3.]\n",
            " [0. 0. 0. 0.]\n",
            " [6. 6. 6. 6.]]\n"
          ]
        }
      ]
    },
    {
      "cell_type": "code",
      "source": [
        "arr = np.arange(32).reshape((8, 4))\n",
        "arr\n",
        "print(arr[[1, 5, 7, 2]])\n",
        "print(arr[[1, 5, 7, 2],[0,2,1,3 ]])"
      ],
      "metadata": {
        "colab": {
          "base_uri": "https://localhost:8080/"
        },
        "id": "kA_tt7Ef4n5N",
        "outputId": "ade146db-a228-4757-ac41-e59aaf618a2d"
      },
      "execution_count": 176,
      "outputs": [
        {
          "output_type": "stream",
          "name": "stdout",
          "text": [
            "[[ 4  5  6  7]\n",
            " [20 21 22 23]\n",
            " [28 29 30 31]\n",
            " [ 8  9 10 11]]\n",
            "[ 4 22 29 11]\n"
          ]
        },
        {
          "output_type": "execute_result",
          "data": {
            "text/plain": [
              "array([[ 4,  6,  5,  7],\n",
              "       [20, 22, 21, 23],\n",
              "       [28, 30, 29, 31],\n",
              "       [ 8, 10,  9, 11]])"
            ]
          },
          "metadata": {},
          "execution_count": 176
        }
      ]
    },
    {
      "cell_type": "code",
      "source": [
        "# 열의 순서 변경\n",
        "print(arr[[1, 5, 7, 2]])\n",
        "'''\n",
        "[[ 4  5  6  7]\n",
        " [20 21 22 23]\n",
        " [28 29 30 31]\n",
        " [ 8  9 10 11]]\n",
        " '''\n",
        "arr1 = arr[[1, 5, 7, 2]]\n",
        "print(arr1[:, [ 1 , 3, 2 , 0]])\n",
        "print(arr[[1, 5, 7, 2]][: , [ 1 , 3, 2 , 0]])\n"
      ],
      "metadata": {
        "colab": {
          "base_uri": "https://localhost:8080/"
        },
        "id": "-wEEPVAL6MS_",
        "outputId": "21712ddd-168d-4ba1-826f-06e88a407cad"
      },
      "execution_count": 182,
      "outputs": [
        {
          "output_type": "stream",
          "name": "stdout",
          "text": [
            "[[ 4  5  6  7]\n",
            " [20 21 22 23]\n",
            " [28 29 30 31]\n",
            " [ 8  9 10 11]]\n",
            "[[ 5  7  6  4]\n",
            " [21 23 22 20]\n",
            " [29 31 30 28]\n",
            " [ 9 11 10  8]]\n",
            "[[ 5  7  6  4]\n",
            " [21 23 22 20]\n",
            " [29 31 30 28]\n",
            " [ 9 11 10  8]]\n",
            "[ 4 23 29 10]\n"
          ]
        }
      ]
    },
    {
      "cell_type": "code",
      "source": [
        "print(arr[[1, 5, 7, 2], [0, 3, 1, 2]])\n",
        "arr[[1, 5, 7, 2], [0, 3, 1, 2]] = 0\n",
        "print(arr)"
      ],
      "metadata": {
        "colab": {
          "base_uri": "https://localhost:8080/"
        },
        "id": "oS8kKf1-7USg",
        "outputId": "bd12060c-be91-4f45-adc5-880a64631c6b"
      },
      "execution_count": 184,
      "outputs": [
        {
          "output_type": "stream",
          "name": "stdout",
          "text": [
            "[ 4 23 29 10]\n",
            "[[ 0  1  2  3]\n",
            " [ 0  5  6  7]\n",
            " [ 8  9  0 11]\n",
            " [12 13 14 15]\n",
            " [16 17 18 19]\n",
            " [20 21 22  0]\n",
            " [24 25 26 27]\n",
            " [28  0 30 31]]\n"
          ]
        }
      ]
    },
    {
      "cell_type": "code",
      "source": [],
      "metadata": {
        "id": "E7rFTLo17qCd"
      },
      "execution_count": 188,
      "outputs": []
    }
  ]
}
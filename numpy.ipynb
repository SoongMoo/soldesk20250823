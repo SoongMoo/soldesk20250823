{
  "nbformat": 4,
  "nbformat_minor": 0,
  "metadata": {
    "colab": {
      "provenance": []
    },
    "kernelspec": {
      "name": "python3",
      "display_name": "Python 3"
    },
    "language_info": {
      "name": "python"
    }
  },
  "cells": [
    {
      "cell_type": "code",
      "execution_count": null,
      "metadata": {
        "id": "zjK-bSI2xZNN"
      },
      "outputs": [],
      "source": [
        "# numpy : numeric python : 리스트 : 숫자 배열\n",
        "# 리터널 : 정수, 실수, 문자열\n",
        "# 부울\n",
        "# 리스트, 튜플, 딕셔너리, 집합"
      ]
    },
    {
      "cell_type": "code",
      "source": [
        "!pip install numpy"
      ],
      "metadata": {
        "colab": {
          "base_uri": "https://localhost:8080/"
        },
        "id": "Q7rX-Mb50WJD",
        "outputId": "52e0fd5f-eb8f-483b-961c-c49aa330daf7"
      },
      "execution_count": 1,
      "outputs": [
        {
          "output_type": "stream",
          "name": "stdout",
          "text": [
            "Requirement already satisfied: numpy in /usr/local/lib/python3.12/dist-packages (2.0.2)\n"
          ]
        }
      ]
    },
    {
      "cell_type": "code",
      "source": [
        "import numpy # 숫자 배열\n",
        "num = numpy.random.randint(10) # 0 ~ 9\n",
        "print(num)"
      ],
      "metadata": {
        "colab": {
          "base_uri": "https://localhost:8080/"
        },
        "id": "3SnLyxkZ1YEi",
        "outputId": "ed12e77c-5a2f-4bc1-c267-30c9f7a506a0"
      },
      "execution_count": 2,
      "outputs": [
        {
          "output_type": "stream",
          "name": "stdout",
          "text": [
            "0\n"
          ]
        }
      ]
    },
    {
      "cell_type": "code",
      "source": [
        "import numpy as np\n",
        "num = np.random.randint(10) # 0 ~ 9\n",
        "print(num)"
      ],
      "metadata": {
        "colab": {
          "base_uri": "https://localhost:8080/"
        },
        "id": "QMnf1PwK2QFx",
        "outputId": "ab7c4536-913e-4b95-b9c1-a48562f3f445"
      },
      "execution_count": 3,
      "outputs": [
        {
          "output_type": "stream",
          "name": "stdout",
          "text": [
            "9\n"
          ]
        }
      ]
    },
    {
      "cell_type": "code",
      "source": [
        "### 배열을 만드는 3가지 방법\n",
        "#1. random객체를 사용하는 방법\n",
        "# 1차원 배열 : 벡터(vector)\n",
        "num = np.random.randint(1, 10, 3) # 3 : size\n",
        "print(num)\n",
        "num = np.random.randint(1, 10, size=3) # 3 : size\n",
        "print(num)\n",
        "# 2차원 배열\n",
        "num2 = np.random.randint(1, 10, size=(3, 2))\n",
        "print(num2)\n",
        "num2 = np.random.randint(1, 10, size=(2, 3))\n",
        "print(num2)"
      ],
      "metadata": {
        "colab": {
          "base_uri": "https://localhost:8080/"
        },
        "id": "cDwZChcu0sC7",
        "outputId": "6ff88e66-7ad8-4d9b-da5d-737cd1b1c711"
      },
      "execution_count": 8,
      "outputs": [
        {
          "output_type": "stream",
          "name": "stdout",
          "text": [
            "[8 7 2]\n",
            "[1 5 7]\n",
            "[[4 9]\n",
            " [7 8]\n",
            " [9 1]]\n",
            "[[4 3 3]\n",
            " [7 1 6]]\n"
          ]
        }
      ]
    },
    {
      "cell_type": "code",
      "source": [
        "# 2. arange()함수를 사용하는 방법\n",
        "for i in range(9):\n",
        "  print(i, end =\" \")\n",
        "print()\n",
        "print(\"====\" * 15)\n",
        "# 1차원 배열\n",
        "num = np.arange(10)\n",
        "print(num)\n",
        "num = np.arange(11, 21)\n",
        "print(num)\n",
        "# 2차원 배열\n",
        "num2 = np.arange(12).reshape(3, 4)\n",
        "num2\n",
        "num2 = np.arange(12).reshape(4, 3)\n",
        "num2\n",
        "# num2 = np.arange(10).reshape(2, 6)\n",
        "# num2"
      ],
      "metadata": {
        "colab": {
          "base_uri": "https://localhost:8080/"
        },
        "id": "jxp9acie3zOn",
        "outputId": "8bdd7d3c-fa33-4e03-ea1d-bf1731636c80"
      },
      "execution_count": 18,
      "outputs": [
        {
          "output_type": "stream",
          "name": "stdout",
          "text": [
            "0 1 2 3 4 5 6 7 8 \n",
            "============================================================\n",
            "[0 1 2 3 4 5 6 7 8 9]\n",
            "[11 12 13 14 15 16 17 18 19 20]\n"
          ]
        },
        {
          "output_type": "execute_result",
          "data": {
            "text/plain": [
              "array([[ 0,  1,  2],\n",
              "       [ 3,  4,  5],\n",
              "       [ 6,  7,  8],\n",
              "       [ 9, 10, 11]])"
            ]
          },
          "metadata": {},
          "execution_count": 18
        }
      ]
    },
    {
      "cell_type": "code",
      "source": [],
      "metadata": {
        "id": "YIQRcCPV5H-7"
      },
      "execution_count": null,
      "outputs": []
    }
  ]
}
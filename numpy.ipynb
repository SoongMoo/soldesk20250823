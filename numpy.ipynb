{
  "nbformat": 4,
  "nbformat_minor": 0,
  "metadata": {
    "colab": {
      "provenance": []
    },
    "kernelspec": {
      "name": "python3",
      "display_name": "Python 3"
    },
    "language_info": {
      "name": "python"
    }
  },
  "cells": [
    {
      "cell_type": "code",
      "execution_count": null,
      "metadata": {
        "id": "zjK-bSI2xZNN"
      },
      "outputs": [],
      "source": [
        "# numpy : numeric python : 리스트 : 숫자 배열\n",
        "# 리터널 : 정수, 실수, 문자열\n",
        "# 부울\n",
        "# 리스트, 튜플, 딕셔너리, 집합"
      ]
    },
    {
      "cell_type": "code",
      "source": [
        "!pip install numpy"
      ],
      "metadata": {
        "colab": {
          "base_uri": "https://localhost:8080/"
        },
        "id": "Q7rX-Mb50WJD",
        "outputId": "52e0fd5f-eb8f-483b-961c-c49aa330daf7"
      },
      "execution_count": 1,
      "outputs": [
        {
          "output_type": "stream",
          "name": "stdout",
          "text": [
            "Requirement already satisfied: numpy in /usr/local/lib/python3.12/dist-packages (2.0.2)\n"
          ]
        }
      ]
    },
    {
      "cell_type": "code",
      "source": [
        "import numpy # 숫자 배열\n",
        "num = numpy.random.randint(10) # 0 ~ 9\n",
        "print(num)"
      ],
      "metadata": {
        "colab": {
          "base_uri": "https://localhost:8080/"
        },
        "id": "3SnLyxkZ1YEi",
        "outputId": "ed12e77c-5a2f-4bc1-c267-30c9f7a506a0"
      },
      "execution_count": 2,
      "outputs": [
        {
          "output_type": "stream",
          "name": "stdout",
          "text": [
            "0\n"
          ]
        }
      ]
    },
    {
      "cell_type": "code",
      "source": [
        "import numpy as np\n",
        "num = np.random.randint(10) # 0 ~ 9\n",
        "print(num)"
      ],
      "metadata": {
        "colab": {
          "base_uri": "https://localhost:8080/"
        },
        "id": "QMnf1PwK2QFx",
        "outputId": "ab7c4536-913e-4b95-b9c1-a48562f3f445"
      },
      "execution_count": 3,
      "outputs": [
        {
          "output_type": "stream",
          "name": "stdout",
          "text": [
            "9\n"
          ]
        }
      ]
    },
    {
      "cell_type": "code",
      "source": [
        "### 배열을 만드는 3가지 방법\n",
        "#1. random객체를 사용하는 방법\n",
        "# 1차원 배열 : 벡터(vector)\n",
        "num = np.random.randint(1, 10, 3) # 3 : size\n",
        "print(num)\n",
        "num = np.random.randint(1, 10, size=3) # 3 : size\n",
        "print(num)\n",
        "# 2차원 배열\n",
        "num2 = np.random.randint(1, 10, size=(3, 2))\n",
        "print(num2)\n",
        "num2 = np.random.randint(1, 10, size=(2, 3))\n",
        "print(num2)"
      ],
      "metadata": {
        "colab": {
          "base_uri": "https://localhost:8080/"
        },
        "id": "cDwZChcu0sC7",
        "outputId": "6ff88e66-7ad8-4d9b-da5d-737cd1b1c711"
      },
      "execution_count": 8,
      "outputs": [
        {
          "output_type": "stream",
          "name": "stdout",
          "text": [
            "[8 7 2]\n",
            "[1 5 7]\n",
            "[[4 9]\n",
            " [7 8]\n",
            " [9 1]]\n",
            "[[4 3 3]\n",
            " [7 1 6]]\n"
          ]
        }
      ]
    },
    {
      "cell_type": "code",
      "source": [
        "# 2. arange()함수를 사용하는 방법\n",
        "for i in range(9):\n",
        "  print(i, end =\" \")\n",
        "print()\n",
        "print(\"====\" * 15)\n",
        "# 1차원 배열\n",
        "num = np.arange(10)\n",
        "print(num)\n",
        "num = np.arange(11, 21)\n",
        "print(num)\n",
        "# 2차원 배열\n",
        "num2 = np.arange(12).reshape(3, 4)\n",
        "num2\n",
        "num2 = np.arange(12).reshape(4, 3)\n",
        "num2\n",
        "# num2 = np.arange(10).reshape(2, 6)\n",
        "# num2\n",
        "num1 = np.arange(11 , 11+12) # 1차원 배열\n",
        "print(num1)\n",
        "num2 = np.arange(11 , 11+12).reshape(2, 6) # 2차원 배열\n",
        "print(num2)\n",
        "num1 = np.arange(1 , 1+3)\n",
        "num1\n",
        "# 열(column)이 하나인 2차원 배열\n",
        "num2 = np.arange(1 , 1+3).reshape(3, 1)\n",
        "num2\n",
        "# 행(row)이 하나인 2차원배열로 만드시오.\n",
        "num2 = np.arange(1 , 1+3).reshape(1, 3)\n",
        "num2\n",
        "print(\"==\"* 30)\n",
        "my_arr = np.arange(1000000)\n",
        "my_arr\n",
        "my_arr = np.arange(1_000_000)\n",
        "my_arr"
      ],
      "metadata": {
        "colab": {
          "base_uri": "https://localhost:8080/"
        },
        "id": "jxp9acie3zOn",
        "outputId": "3226a781-5de9-4f47-e491-6a7385919c8e"
      },
      "execution_count": 41,
      "outputs": [
        {
          "output_type": "stream",
          "name": "stdout",
          "text": [
            "0 1 2 3 4 5 6 7 8 \n",
            "============================================================\n",
            "[0 1 2 3 4 5 6 7 8 9]\n",
            "[11 12 13 14 15 16 17 18 19 20]\n",
            "[11 12 13 14 15 16 17 18 19 20 21 22]\n",
            "[[11 12 13 14 15 16]\n",
            " [17 18 19 20 21 22]]\n",
            "============================================================\n"
          ]
        },
        {
          "output_type": "execute_result",
          "data": {
            "text/plain": [
              "array([     0,      1,      2, ..., 999997, 999998, 999999])"
            ]
          },
          "metadata": {},
          "execution_count": 41
        }
      ]
    },
    {
      "cell_type": "code",
      "source": [
        "#3. array()함수를 사용하는 방법: 리스트, 튜플\n",
        "# 1 차원\n",
        "num1 = np.array([1, 2, 3])\n",
        "print(num1)\n",
        "num1 = np.array((1, 2, 3))\n",
        "print(num1)\n",
        "l = [1, 2, 3]\n",
        "num1 = np.array(l)\n",
        "print(num1)\n",
        "# 2 차원 배열\n",
        "l2 = [[1,2,3,4],[5,6,7,8]]\n",
        "l2[0]\n",
        "print(l2)# 리스트\n",
        "num2 = np.array(l2) # 배열\n",
        "print(num2)\n",
        "# 누락값\n",
        "l2 = [[1,4,np.nan,5],[5,np.nan,8,4], [3,5,8,np.nan]]\n",
        "print(l2)\n",
        "num2 = np.array(l2)\n",
        "num2"
      ],
      "metadata": {
        "colab": {
          "base_uri": "https://localhost:8080/"
        },
        "id": "pBve3B3s8tSE",
        "outputId": "e0a5d6f6-6b54-490c-ecb7-585c54b9e34b"
      },
      "execution_count": 31,
      "outputs": [
        {
          "output_type": "stream",
          "name": "stdout",
          "text": [
            "[1 2 3]\n",
            "[1 2 3]\n",
            "[1 2 3]\n",
            "[[1, 2, 3, 4], [5, 6, 7, 8]]\n",
            "[[1 2 3 4]\n",
            " [5 6 7 8]]\n",
            "[[1, 4, nan, 5], [5, nan, 8, 4], [3, 5, 8, nan]]\n"
          ]
        },
        {
          "output_type": "execute_result",
          "data": {
            "text/plain": [
              "array([[ 1.,  4., nan,  5.],\n",
              "       [ 5., nan,  8.,  4.],\n",
              "       [ 3.,  5.,  8., nan]])"
            ]
          },
          "metadata": {},
          "execution_count": 31
        }
      ]
    },
    {
      "cell_type": "code",
      "source": [
        "z = np.zeros(10) # 1차원 0행열\n",
        "print(z)\n",
        "z = np.ones(10)\n",
        "print(z)\n",
        "# 2차원\n",
        "z = np.zeros(10).reshape(10,1)\n",
        "print(z)\n",
        "z = np.ones(10).reshape(10,1)\n",
        "print(z)\n",
        "z = np.zeros(9).reshape(3,3)\n",
        "print(z)\n",
        "z = np.ones(9).reshape(3,3)\n",
        "print(z)\n",
        "z = np.empty((2, 3))\n",
        "print(z)\n",
        "#             면 행 열\n",
        "z = np.empty((2, 3, 2))\n",
        "print(z)"
      ],
      "metadata": {
        "colab": {
          "base_uri": "https://localhost:8080/"
        },
        "id": "zgKx0IYl-4S7",
        "outputId": "eecd738e-d5bf-4a1a-c140-2292ce87e783"
      },
      "execution_count": 39,
      "outputs": [
        {
          "output_type": "stream",
          "name": "stdout",
          "text": [
            "[0. 0. 0. 0. 0. 0. 0. 0. 0. 0.]\n",
            "[1. 1. 1. 1. 1. 1. 1. 1. 1. 1.]\n",
            "[[0.]\n",
            " [0.]\n",
            " [0.]\n",
            " [0.]\n",
            " [0.]\n",
            " [0.]\n",
            " [0.]\n",
            " [0.]\n",
            " [0.]\n",
            " [0.]]\n",
            "[[1.]\n",
            " [1.]\n",
            " [1.]\n",
            " [1.]\n",
            " [1.]\n",
            " [1.]\n",
            " [1.]\n",
            " [1.]\n",
            " [1.]\n",
            " [1.]]\n",
            "[[0. 0. 0.]\n",
            " [0. 0. 0.]\n",
            " [0. 0. 0.]]\n",
            "[[1. 1. 1.]\n",
            " [1. 1. 1.]\n",
            " [1. 1. 1.]]\n",
            "[[2.0e-323 1.5e-323 1.5e-323]\n",
            " [3.5e-323 4.9e-324 3.0e-323]]\n",
            "[[[5.43e-323 5.93e-323]\n",
            "  [6.42e-323 6.92e-323]\n",
            "  [7.41e-323 7.91e-323]]\n",
            "\n",
            " [[8.40e-323 8.89e-323]\n",
            "  [9.39e-323 9.88e-323]\n",
            "  [1.04e-322 1.09e-322]]]\n"
          ]
        }
      ]
    },
    {
      "cell_type": "code",
      "source": [
        "# 배열의 데이터 유형\n",
        "num = np.arange(15)\n",
        "num\n",
        "print(num.dtype)\n",
        "arr1 = np.array([1, 2, 3])\n",
        "arr1\n",
        "print(arr1.dtype)\n",
        "arr1 = np.array([1, 2, 3], dtype=np.float64)\n",
        "arr1\n",
        "print(arr1.dtype)\n",
        "arr1 = np.array([1, 2, 3], dtype=np.int32)\n",
        "arr1\n",
        "print(arr1.dtype)"
      ],
      "metadata": {
        "colab": {
          "base_uri": "https://localhost:8080/"
        },
        "id": "YIQRcCPV5H-7",
        "outputId": "1f2dd068-26be-4c10-899c-5f5466fb46fa"
      },
      "execution_count": 48,
      "outputs": [
        {
          "output_type": "stream",
          "name": "stdout",
          "text": [
            "int64\n",
            "int64\n",
            "float64\n",
            "int32\n"
          ]
        }
      ]
    },
    {
      "cell_type": "code",
      "source": [
        " # 타입 변경하기\n",
        "arr = np.array([1, 2, 3, 4, 5])\n",
        "print(arr.dtype)\n",
        "float_arr = arr.astype(np.float64)\n",
        "print(float_arr)\n",
        "print(float_arr.dtype)\n",
        "arr = np.array([3.7, -1.2, -2.6, 0.5, 12.9, 10.1])\n",
        "print(arr)\n",
        "print(arr.astype(np.int64)) # 실수를 정수로 변경하면 절삭된다"
      ],
      "metadata": {
        "colab": {
          "base_uri": "https://localhost:8080/"
        },
        "id": "peNd5vT0Cgeh",
        "outputId": "ee236848-a4ed-4ab9-d16f-babfe7fdddad"
      },
      "execution_count": 54,
      "outputs": [
        {
          "output_type": "stream",
          "name": "stdout",
          "text": [
            "int64\n",
            "[1. 2. 3. 4. 5.]\n",
            "float64\n",
            "[ 3.7 -1.2 -2.6  0.5 12.9 10.1]\n",
            "[ 3 -1 -2  0 12 10]\n"
          ]
        }
      ]
    },
    {
      "cell_type": "code",
      "source": [
        "int_array = np.arange(10)\n",
        "print(int_array)\n",
        "print(int_array.dtype)\n",
        "calibers = np.array([.22, .270, .357, .380, .44, .50], dtype=np.float64)\n",
        "print(calibers.dtype) # float64\n",
        "converted = int_array.astype(calibers.dtype)\n",
        "print(converted.dtype)"
      ],
      "metadata": {
        "colab": {
          "base_uri": "https://localhost:8080/"
        },
        "id": "jP23gVrJFDj3",
        "outputId": "f556413d-e0b9-4f47-93d7-9bf9abffa60b"
      },
      "execution_count": 61,
      "outputs": [
        {
          "output_type": "stream",
          "name": "stdout",
          "text": [
            "[0 1 2 3 4 5 6 7 8 9]\n",
            "int64\n",
            "float64\n",
            "float64\n"
          ]
        }
      ]
    }
  ]
}
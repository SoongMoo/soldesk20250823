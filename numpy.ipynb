{
  "nbformat": 4,
  "nbformat_minor": 0,
  "metadata": {
    "colab": {
      "provenance": []
    },
    "kernelspec": {
      "name": "python3",
      "display_name": "Python 3"
    },
    "language_info": {
      "name": "python"
    }
  },
  "cells": [
    {
      "cell_type": "code",
      "execution_count": null,
      "metadata": {
        "id": "zjK-bSI2xZNN"
      },
      "outputs": [],
      "source": [
        "# numpy : numeric python : 리스트 : 숫자 배열\n",
        "# 리터널 : 정수, 실수, 문자열\n",
        "# 부울\n",
        "# 리스트, 튜플, 딕셔너리, 집합"
      ]
    },
    {
      "cell_type": "code",
      "source": [
        "!pip install numpy"
      ],
      "metadata": {
        "colab": {
          "base_uri": "https://localhost:8080/"
        },
        "id": "Q7rX-Mb50WJD",
        "outputId": "52e0fd5f-eb8f-483b-961c-c49aa330daf7"
      },
      "execution_count": 1,
      "outputs": [
        {
          "output_type": "stream",
          "name": "stdout",
          "text": [
            "Requirement already satisfied: numpy in /usr/local/lib/python3.12/dist-packages (2.0.2)\n"
          ]
        }
      ]
    },
    {
      "cell_type": "code",
      "source": [
        "import numpy # 숫자 배열\n",
        "num = numpy.random.randint(10) # 0 ~ 9\n",
        "print(num)"
      ],
      "metadata": {
        "colab": {
          "base_uri": "https://localhost:8080/"
        },
        "id": "3SnLyxkZ1YEi",
        "outputId": "ed12e77c-5a2f-4bc1-c267-30c9f7a506a0"
      },
      "execution_count": 2,
      "outputs": [
        {
          "output_type": "stream",
          "name": "stdout",
          "text": [
            "0\n"
          ]
        }
      ]
    },
    {
      "cell_type": "code",
      "source": [
        "import numpy as np\n",
        "num = np.random.randint(10) # 0 ~ 9\n",
        "print(num)"
      ],
      "metadata": {
        "colab": {
          "base_uri": "https://localhost:8080/"
        },
        "id": "QMnf1PwK2QFx",
        "outputId": "ab7c4536-913e-4b95-b9c1-a48562f3f445"
      },
      "execution_count": 3,
      "outputs": [
        {
          "output_type": "stream",
          "name": "stdout",
          "text": [
            "9\n"
          ]
        }
      ]
    },
    {
      "cell_type": "code",
      "source": [
        "### 배열을 만드는 3가지 방법\n",
        "#1. random객체를 사용하는 방법\n",
        "# 1차원 배열 : 벡터(vector)\n",
        "num = np.random.randint(1, 10, 3) # 3 : size\n",
        "print(num)\n",
        "num = np.random.randint(1, 10, size=3) # 3 : size\n",
        "print(num)\n",
        "# 2차원 배열\n",
        "num2 = np.random.randint(1, 10, size=(3, 2))\n",
        "print(num2)\n",
        "num2 = np.random.randint(1, 10, size=(2, 3))\n",
        "print(num2)"
      ],
      "metadata": {
        "colab": {
          "base_uri": "https://localhost:8080/"
        },
        "id": "cDwZChcu0sC7",
        "outputId": "6ff88e66-7ad8-4d9b-da5d-737cd1b1c711"
      },
      "execution_count": 8,
      "outputs": [
        {
          "output_type": "stream",
          "name": "stdout",
          "text": [
            "[8 7 2]\n",
            "[1 5 7]\n",
            "[[4 9]\n",
            " [7 8]\n",
            " [9 1]]\n",
            "[[4 3 3]\n",
            " [7 1 6]]\n"
          ]
        }
      ]
    },
    {
      "cell_type": "code",
      "source": [
        "# 2. arange()함수를 사용하는 방법\n",
        "for i in range(9):\n",
        "  print(i, end =\" \")\n",
        "print()\n",
        "print(\"====\" * 15)\n",
        "# 1차원 배열\n",
        "num = np.arange(10)\n",
        "print(num)\n",
        "num = np.arange(11, 21)\n",
        "print(num)\n",
        "# 2차원 배열\n",
        "num2 = np.arange(12).reshape(3, 4)\n",
        "num2\n",
        "num2 = np.arange(12).reshape(4, 3)\n",
        "num2\n",
        "# num2 = np.arange(10).reshape(2, 6)\n",
        "# num2\n",
        "num1 = np.arange(11 , 11+12) # 1차원 배열\n",
        "print(num1)\n",
        "num2 = np.arange(11 , 11+12).reshape(2, 6) # 2차원 배열\n",
        "print(num2)\n",
        "num1 = np.arange(1 , 1+3)\n",
        "num1\n",
        "# 열(column)이 하나인 2차원 배열\n",
        "num2 = np.arange(1 , 1+3).reshape(3, 1)\n",
        "num2\n",
        "# 행(row)이 하나인 2차원배열로 만드시오.\n",
        "num2 = np.arange(1 , 1+3).reshape(1, 3)\n",
        "num2\n",
        "print(\"==\"* 30)\n",
        "my_arr = np.arange(1000000)\n",
        "my_arr\n",
        "my_arr = np.arange(1_000_000)\n",
        "my_arr"
      ],
      "metadata": {
        "colab": {
          "base_uri": "https://localhost:8080/"
        },
        "id": "jxp9acie3zOn",
        "outputId": "3226a781-5de9-4f47-e491-6a7385919c8e"
      },
      "execution_count": 41,
      "outputs": [
        {
          "output_type": "stream",
          "name": "stdout",
          "text": [
            "0 1 2 3 4 5 6 7 8 \n",
            "============================================================\n",
            "[0 1 2 3 4 5 6 7 8 9]\n",
            "[11 12 13 14 15 16 17 18 19 20]\n",
            "[11 12 13 14 15 16 17 18 19 20 21 22]\n",
            "[[11 12 13 14 15 16]\n",
            " [17 18 19 20 21 22]]\n",
            "============================================================\n"
          ]
        },
        {
          "output_type": "execute_result",
          "data": {
            "text/plain": [
              "array([     0,      1,      2, ..., 999997, 999998, 999999])"
            ]
          },
          "metadata": {},
          "execution_count": 41
        }
      ]
    },
    {
      "cell_type": "code",
      "source": [
        "#3. array()함수를 사용하는 방법: 리스트, 튜플\n",
        "# 1 차원\n",
        "num1 = np.array([1, 2, 3])\n",
        "print(num1)\n",
        "num1 = np.array((1, 2, 3))\n",
        "print(num1)\n",
        "l = [1, 2, 3]\n",
        "num1 = np.array(l)\n",
        "print(num1)\n",
        "# 2 차원 배열\n",
        "l2 = [[1,2,3,4],[5,6,7,8]]\n",
        "l2[0]\n",
        "print(l2)# 리스트\n",
        "num2 = np.array(l2) # 배열\n",
        "print(num2)\n",
        "# 누락값\n",
        "l2 = [[1,4,np.nan,5],[5,np.nan,8,4], [3,5,8,np.nan]]\n",
        "print(l2)\n",
        "num2 = np.array(l2)\n",
        "num2"
      ],
      "metadata": {
        "colab": {
          "base_uri": "https://localhost:8080/"
        },
        "id": "pBve3B3s8tSE",
        "outputId": "e0a5d6f6-6b54-490c-ecb7-585c54b9e34b"
      },
      "execution_count": 31,
      "outputs": [
        {
          "output_type": "stream",
          "name": "stdout",
          "text": [
            "[1 2 3]\n",
            "[1 2 3]\n",
            "[1 2 3]\n",
            "[[1, 2, 3, 4], [5, 6, 7, 8]]\n",
            "[[1 2 3 4]\n",
            " [5 6 7 8]]\n",
            "[[1, 4, nan, 5], [5, nan, 8, 4], [3, 5, 8, nan]]\n"
          ]
        },
        {
          "output_type": "execute_result",
          "data": {
            "text/plain": [
              "array([[ 1.,  4., nan,  5.],\n",
              "       [ 5., nan,  8.,  4.],\n",
              "       [ 3.,  5.,  8., nan]])"
            ]
          },
          "metadata": {},
          "execution_count": 31
        }
      ]
    },
    {
      "cell_type": "code",
      "source": [
        "z = np.zeros(10) # 1차원 0행열\n",
        "print(z)\n",
        "z = np.ones(10)\n",
        "print(z)\n",
        "# 2차원\n",
        "z = np.zeros(10).reshape(10,1)\n",
        "print(z)\n",
        "z = np.ones(10).reshape(10,1)\n",
        "print(z)\n",
        "z = np.zeros(9).reshape(3,3)\n",
        "print(z)\n",
        "z = np.ones(9).reshape(3,3)\n",
        "print(z)\n",
        "z = np.empty((2, 3))\n",
        "print(z)\n",
        "#             면 행 열\n",
        "z = np.empty((2, 3, 2))\n",
        "print(z)"
      ],
      "metadata": {
        "colab": {
          "base_uri": "https://localhost:8080/"
        },
        "id": "zgKx0IYl-4S7",
        "outputId": "eecd738e-d5bf-4a1a-c140-2292ce87e783"
      },
      "execution_count": 39,
      "outputs": [
        {
          "output_type": "stream",
          "name": "stdout",
          "text": [
            "[0. 0. 0. 0. 0. 0. 0. 0. 0. 0.]\n",
            "[1. 1. 1. 1. 1. 1. 1. 1. 1. 1.]\n",
            "[[0.]\n",
            " [0.]\n",
            " [0.]\n",
            " [0.]\n",
            " [0.]\n",
            " [0.]\n",
            " [0.]\n",
            " [0.]\n",
            " [0.]\n",
            " [0.]]\n",
            "[[1.]\n",
            " [1.]\n",
            " [1.]\n",
            " [1.]\n",
            " [1.]\n",
            " [1.]\n",
            " [1.]\n",
            " [1.]\n",
            " [1.]\n",
            " [1.]]\n",
            "[[0. 0. 0.]\n",
            " [0. 0. 0.]\n",
            " [0. 0. 0.]]\n",
            "[[1. 1. 1.]\n",
            " [1. 1. 1.]\n",
            " [1. 1. 1.]]\n",
            "[[2.0e-323 1.5e-323 1.5e-323]\n",
            " [3.5e-323 4.9e-324 3.0e-323]]\n",
            "[[[5.43e-323 5.93e-323]\n",
            "  [6.42e-323 6.92e-323]\n",
            "  [7.41e-323 7.91e-323]]\n",
            "\n",
            " [[8.40e-323 8.89e-323]\n",
            "  [9.39e-323 9.88e-323]\n",
            "  [1.04e-322 1.09e-322]]]\n"
          ]
        }
      ]
    },
    {
      "cell_type": "code",
      "source": [
        "# 배열의 데이터 유형\n",
        "num = np.arange(15)\n",
        "num\n",
        "print(num.dtype)\n",
        "arr1 = np.array([1, 2, 3])\n",
        "arr1\n",
        "print(arr1.dtype)\n",
        "arr1 = np.array([1, 2, 3], dtype=np.float64)\n",
        "arr1\n",
        "print(arr1.dtype)\n",
        "arr1 = np.array([1, 2, 3], dtype=np.int32)\n",
        "arr1\n",
        "print(arr1.dtype)"
      ],
      "metadata": {
        "colab": {
          "base_uri": "https://localhost:8080/"
        },
        "id": "YIQRcCPV5H-7",
        "outputId": "1f2dd068-26be-4c10-899c-5f5466fb46fa"
      },
      "execution_count": 48,
      "outputs": [
        {
          "output_type": "stream",
          "name": "stdout",
          "text": [
            "int64\n",
            "int64\n",
            "float64\n",
            "int32\n"
          ]
        }
      ]
    },
    {
      "cell_type": "code",
      "source": [
        " # 타입 변경하기\n",
        "arr = np.array([1, 2, 3, 4, 5])\n",
        "print(arr.dtype)\n",
        "float_arr = arr.astype(np.float64)\n",
        "print(float_arr)\n",
        "print(float_arr.dtype)\n",
        "arr = np.array([3.7, -1.2, -2.6, 0.5, 12.9, 10.1])\n",
        "print(arr)\n",
        "print(arr.astype(np.int64)) # 실수를 정수로 변경하면 절삭된다"
      ],
      "metadata": {
        "colab": {
          "base_uri": "https://localhost:8080/"
        },
        "id": "peNd5vT0Cgeh",
        "outputId": "ee236848-a4ed-4ab9-d16f-babfe7fdddad"
      },
      "execution_count": 54,
      "outputs": [
        {
          "output_type": "stream",
          "name": "stdout",
          "text": [
            "int64\n",
            "[1. 2. 3. 4. 5.]\n",
            "float64\n",
            "[ 3.7 -1.2 -2.6  0.5 12.9 10.1]\n",
            "[ 3 -1 -2  0 12 10]\n"
          ]
        }
      ]
    },
    {
      "cell_type": "code",
      "source": [
        "int_array = np.arange(10)\n",
        "print(int_array)\n",
        "print(int_array.dtype)\n",
        "calibers = np.array([.22, .270, .357, .380, .44, .50], dtype=np.float64)\n",
        "print(calibers.dtype) # float64\n",
        "converted = int_array.astype(calibers.dtype)\n",
        "print(converted.dtype)"
      ],
      "metadata": {
        "colab": {
          "base_uri": "https://localhost:8080/"
        },
        "id": "jP23gVrJFDj3",
        "outputId": "f556413d-e0b9-4f47-93d7-9bf9abffa60b"
      },
      "execution_count": 61,
      "outputs": [
        {
          "output_type": "stream",
          "name": "stdout",
          "text": [
            "[0 1 2 3 4 5 6 7 8 9]\n",
            "int64\n",
            "float64\n",
            "float64\n"
          ]
        }
      ]
    },
    {
      "cell_type": "code",
      "source": [
        "# NumPy 배열을 사용한 산술 : 유니버설 함수(UFuncs)\n",
        "arr = np.array([[1., 2., 3.], [4., 5., 6.]])\n",
        "print(arr)\n",
        "result = arr + arr\n",
        "print(result)\n",
        "result = np.add(arr, arr)\n",
        "print(result)\n",
        "\n",
        "result = arr - arr\n",
        "print(result)\n",
        "result = np.subtract(arr, arr)\n",
        "print(result)\n",
        "\n",
        "result = arr / arr\n",
        "print(result)\n",
        "result = np.divide(arr, arr)\n",
        "print(result)"
      ],
      "metadata": {
        "colab": {
          "base_uri": "https://localhost:8080/"
        },
        "id": "AzASaq2KJqA0",
        "outputId": "09dcc131-8cf4-4b40-9661-13aa44d14bd7"
      },
      "execution_count": 70,
      "outputs": [
        {
          "output_type": "stream",
          "name": "stdout",
          "text": [
            "[[1. 2. 3.]\n",
            " [4. 5. 6.]]\n",
            "[[ 2.  4.  6.]\n",
            " [ 8. 10. 12.]]\n",
            "[[ 2.  4.  6.]\n",
            " [ 8. 10. 12.]]\n",
            "[[0. 0. 0.]\n",
            " [0. 0. 0.]]\n",
            "[[0. 0. 0.]\n",
            " [0. 0. 0.]]\n",
            "[[1. 1. 1.]\n",
            " [1. 1. 1.]]\n",
            "[[1. 1. 1.]\n",
            " [1. 1. 1.]]\n"
          ]
        }
      ]
    },
    {
      "cell_type": "code",
      "source": [
        "# 브로드케스팅\n",
        "print(arr)\n",
        "result = arr + 2\n",
        "print(result)\n",
        "# 배열이 연산하기 위해서는 차원이 같아야 한다.\n",
        "'''\n",
        "[[1. 2. 3.]    +  2\n",
        " [4. 5. 6.]]\n",
        " ===>\n",
        " [[1. 2. 3.]  + [[2,2,2],\n",
        " [4. 5. 6.]]     [2,2,2]] # 브로드케스팅\n",
        "'''\n",
        "a = np.arange(3)\n",
        "print(a)\n",
        "b = a[:, np.newaxis]\n",
        "print(b)\n",
        "result = a + b\n",
        "'''\n",
        "[0 1 2] + [[0]     => [0 1 2]   + [[0][0][0]\n",
        "           [1]        [0 1 2]      [1][1][1]\n",
        "           [2]]       [0 1 2]      [2][2][2]]\n",
        "'''\n",
        "print(result)\n",
        "result = arr ** 2\n",
        "print(result)\n",
        "result = np.power(arr, 2)\n",
        "print(result)"
      ],
      "metadata": {
        "colab": {
          "base_uri": "https://localhost:8080/"
        },
        "id": "RWBrYC2TLrnR",
        "outputId": "b09718a8-71d9-4fb8-ea3c-049eddc4fcf3"
      },
      "execution_count": 76,
      "outputs": [
        {
          "output_type": "stream",
          "name": "stdout",
          "text": [
            "[[1. 2. 3.]\n",
            " [4. 5. 6.]]\n",
            "[[3. 4. 5.]\n",
            " [6. 7. 8.]]\n",
            "[0 1 2]\n",
            "[[0]\n",
            " [1]\n",
            " [2]]\n",
            "[[0 1 2]\n",
            " [1 2 3]\n",
            " [2 3 4]]\n",
            "[[ 1.  4.  9.]\n",
            " [16. 25. 36.]]\n",
            "[[ 1.  4.  9.]\n",
            " [16. 25. 36.]]\n"
          ]
        }
      ]
    },
    {
      "cell_type": "code",
      "source": [
        "arr2 = np.array([[0., 4., 1.], [7., 2., 12.]])\n",
        "print(arr)\n",
        "print(arr2)\n",
        "result = arr2 > arr # bool\n",
        "print(result) # 팬시 index\n",
        "print(arr2[result])"
      ],
      "metadata": {
        "colab": {
          "base_uri": "https://localhost:8080/"
        },
        "id": "RhtpsHmiOdIS",
        "outputId": "daa99edc-e207-4302-c2bf-b49c07d316a6"
      },
      "execution_count": 81,
      "outputs": [
        {
          "output_type": "stream",
          "name": "stdout",
          "text": [
            "[[1. 2. 3.]\n",
            " [4. 5. 6.]]\n",
            "[[ 0.  4.  1.]\n",
            " [ 7.  2. 12.]]\n",
            "[[False  True False]\n",
            " [ True False  True]]\n",
            "[ 4.  7. 12.]\n"
          ]
        }
      ]
    },
    {
      "cell_type": "code",
      "source": [
        "# 기본 인덱싱 및 슬라이싱\n",
        "l = [1,2,3,4,5,6,7,8]\n",
        "print(l[4]) # indexing\n",
        "print(l[2: 4]) # slicing\n",
        "arr = np.arange(1, 9)\n",
        "print(arr)\n",
        "print(arr[4])\n",
        "print(arr[2: 4])\n",
        "# l[2: 4] = 12\n",
        "arr[2: 4] = 12 # slicing을 이용해서 요소의 값을 변경\n",
        "print(arr)"
      ],
      "metadata": {
        "colab": {
          "base_uri": "https://localhost:8080/"
        },
        "id": "-QcBf6qQLoPr",
        "outputId": "e4cc7b5a-0400-40ee-900c-70a27cd0fbaf"
      },
      "execution_count": 90,
      "outputs": [
        {
          "output_type": "stream",
          "name": "stdout",
          "text": [
            "5\n",
            "[3, 4]\n",
            "[1 2 3 4 5 6 7 8]\n",
            "5\n",
            "[3 4]\n",
            "[ 1  2 12 12  5  6  7  8]\n"
          ]
        }
      ]
    },
    {
      "cell_type": "code",
      "source": [
        "arr = np.arange(10)\n",
        "print(arr)\n",
        "arr_slice = arr[5:8]\n",
        "print(arr_slice)\n",
        "print(arr_slice[0])\n",
        "arr_slice[0] = 50\n",
        "print(arr)\n",
        "print(arr_slice[:])\n",
        "arr_slice[:] = 100\n",
        "print(arr_slice)\n",
        "print(arr)"
      ],
      "metadata": {
        "colab": {
          "base_uri": "https://localhost:8080/"
        },
        "id": "7MdtLah0RRL4",
        "outputId": "c0775a6e-f46f-49ee-cec3-1d8ecab491d0"
      },
      "execution_count": 96,
      "outputs": [
        {
          "output_type": "stream",
          "name": "stdout",
          "text": [
            "[0 1 2 3 4 5 6 7 8 9]\n",
            "[5 6 7]\n",
            "5\n",
            "[ 0  1  2  3  4 50  6  7  8  9]\n",
            "[50  6  7]\n",
            "[100 100 100]\n",
            "[  0   1   2   3   4 100 100 100   8   9]\n"
          ]
        }
      ]
    },
    {
      "cell_type": "code",
      "source": [
        "# 슬라이스를 사용한 인덱싱\n",
        "# 1차원 배열\n",
        "num = np.random.randint(10, size=6)\n",
        "print(num) # 배열\n",
        "l1 = [6, 5, 7, 3, 9, 2]\n",
        "print(l1) # 리스트\n"
      ],
      "metadata": {
        "colab": {
          "base_uri": "https://localhost:8080/"
        },
        "id": "K930CYI_ewHV",
        "outputId": "628da072-45c9-4421-f3f2-b415512396ad"
      },
      "execution_count": 97,
      "outputs": [
        {
          "output_type": "stream",
          "name": "stdout",
          "text": [
            "[9 5 6 8 6 9]\n",
            "[6, 5, 7, 3, 9, 2]\n"
          ]
        }
      ]
    },
    {
      "cell_type": "code",
      "source": [
        "'''\n",
        "  [9 5 6 8 6 9]\n",
        "   0 1 2 3 4 5      : index\n",
        "  [6, 5, 7, 3, 9, 2]\n",
        "   0  1  2  3  4  5 : index\n",
        "'''\n",
        "print(l1[0])\n",
        "print(num[0])\n",
        "print(l1[2: 2+2])\n",
        "print(num[2: 2+2])\n",
        "print(l1[0: 2+2])\n",
        "print(num[0: 2+2])\n",
        "print(l1[: 2+2])\n",
        "print(num[: 2+2])\n",
        "print(l1[ 3 : ])\n",
        "print(num[ 3 : ])\n",
        "print(l1[ 2 : : 2])\n",
        "print(num[ 2 : : 2 ])\n",
        "print(l1[::-1])\n",
        "print(num[::-1])"
      ],
      "metadata": {
        "colab": {
          "base_uri": "https://localhost:8080/"
        },
        "id": "uL2JdZZjlA8U",
        "outputId": "344b65e3-21f2-4037-f11e-3711d15f243b"
      },
      "execution_count": 104,
      "outputs": [
        {
          "output_type": "stream",
          "name": "stdout",
          "text": [
            "6\n",
            "9\n",
            "[7, 3]\n",
            "[6 8]\n",
            "[6, 5, 7, 3]\n",
            "[9 5 6 8]\n",
            "[6, 5, 7, 3]\n",
            "[9 5 6 8]\n",
            "[3, 9, 2]\n",
            "[8 6 9]\n",
            "[7, 9]\n",
            "[6 6]\n",
            "[2, 9, 3, 7, 5, 6]\n",
            "[9 6 8 6 5 9]\n"
          ]
        }
      ]
    },
    {
      "cell_type": "code",
      "source": [
        "# 2차원\n",
        "num2 = np.random.randint(10, size=(2, 6))\n",
        "print(num2)"
      ],
      "metadata": {
        "colab": {
          "base_uri": "https://localhost:8080/"
        },
        "id": "wINy94KkmZnd",
        "outputId": "01136ae0-c11c-4ac1-931a-6e892cdbf590"
      },
      "execution_count": 105,
      "outputs": [
        {
          "output_type": "stream",
          "name": "stdout",
          "text": [
            "[[4 8 1 8 2 5]\n",
            " [4 6 5 0 9 4]]\n"
          ]
        }
      ]
    },
    {
      "cell_type": "code",
      "source": [
        "l2 = [[4, 8, 1, 8, 2, 5],\n",
        "      [4, 6, 5, 0, 9, 4]]\n",
        "print(l2)\n",
        "'''    0 1 2 3 4 5열\n",
        "     [[4 8 1 8 2 5]     0행  -2\n",
        "      [4 6 5 0 9 4]]    1행  -1\n",
        "\n",
        "       0  1  2  3  4  5 index\n",
        "     [[4, 8, 1, 8, 2, 5],  0 index   -2\n",
        "      [4, 6, 5, 0, 9, 4]]  1 index   -1\n",
        "'''\n",
        "print(l2[1])\n",
        "print(num2[1])\n",
        "print(l2[1][2])\n",
        "print(num2[1][2]) # 행열을 index로 생각\n",
        "print(num2[1, 2]) # 행열\n",
        "# print(l2[1, 2])\n",
        "print(l2[-1])\n",
        "print(num2[-1])\n",
        "print(l2[-1][-3])\n",
        "print(num2[-1][-3]) # index\n",
        "print(num2[-1,-3])\n",
        "# print(l2[-1 , -3])"
      ],
      "metadata": {
        "colab": {
          "base_uri": "https://localhost:8080/"
        },
        "id": "bQX25_9HkEP1",
        "outputId": "28e84952-b81e-4cc1-f1fe-e7bf71e44b17"
      },
      "execution_count": 117,
      "outputs": [
        {
          "output_type": "stream",
          "name": "stdout",
          "text": [
            "[[4, 8, 1, 8, 2, 5], [4, 6, 5, 0, 9, 4]]\n",
            "[4, 6, 5, 0, 9, 4]\n",
            "[4 6 5 0 9 4]\n",
            "5\n",
            "5\n",
            "5\n",
            "[4, 6, 5, 0, 9, 4]\n",
            "[4 6 5 0 9 4]\n",
            "0\n",
            "0\n",
            "0\n"
          ]
        }
      ]
    },
    {
      "cell_type": "code",
      "source": [
        "num3 = np.random.randint(10, size=(3, 4))\n",
        "print(num3)"
      ],
      "metadata": {
        "colab": {
          "base_uri": "https://localhost:8080/"
        },
        "id": "b-OKi8lQo9zs",
        "outputId": "f33f2571-9bcf-440a-b896-358786c30877"
      },
      "execution_count": 118,
      "outputs": [
        {
          "output_type": "stream",
          "name": "stdout",
          "text": [
            "[[0 5 8 7]\n",
            " [9 3 5 6]\n",
            " [5 2 1 2]]\n"
          ]
        }
      ]
    },
    {
      "cell_type": "code",
      "source": [
        "l3 = [[0, 5, 8, 7],\n",
        "      [9, 3, 5, 6],\n",
        "      [5, 2, 1, 2]]\n",
        "print(l3[1][1])\n",
        "print(num3[1][1])\n",
        "print(num3[1,1])\n",
        "print(l3[:][:])\n",
        "print(num3[:][:])\n",
        "print(num3[:, :]) # 모든행의 모든열\n",
        "# print(l3[:][:2]) index\n",
        "# print(num3[:][:2]) index\n",
        "print(num3[:, :2]) # 행 , 열\n",
        "print(num3[:2, 2: 4])\n",
        "print(num3[1, 0:2 ])\n",
        "print(num3[ : , ::2])"
      ],
      "metadata": {
        "colab": {
          "base_uri": "https://localhost:8080/"
        },
        "id": "kRAAzo7LpAOx",
        "outputId": "5c0ff5eb-f0f9-4054-c3e9-3b9156cd0caf"
      },
      "execution_count": 132,
      "outputs": [
        {
          "output_type": "stream",
          "name": "stdout",
          "text": [
            "3\n",
            "3\n",
            "3\n",
            "[[0, 5, 8, 7], [9, 3, 5, 6], [5, 2, 1, 2]]\n",
            "[[0 5 8 7]\n",
            " [9 3 5 6]\n",
            " [5 2 1 2]]\n",
            "[[0 5 8 7]\n",
            " [9 3 5 6]\n",
            " [5 2 1 2]]\n",
            "[[0 5]\n",
            " [9 3]\n",
            " [5 2]]\n",
            "[[8 7]\n",
            " [5 6]]\n",
            "[9 3]\n",
            "[[0 8]\n",
            " [9 5]\n",
            " [5 1]]\n"
          ]
        }
      ]
    },
    {
      "cell_type": "code",
      "source": [
        "# Boolean Indexing\n",
        "names = np.array([\"Bob\", \"Joe\", \"Will\", \"Bob\", \"Will\", \"Joe\", \"Joe\"])\n",
        "data = np.array([[4, 7], [0, 2], [-5, 6], [0, 0], [1, 2],[-12, -4], [3, 4]])\n",
        "print(names)\n",
        "print(data)\n",
        "print(names == \"Bob\") # [ True False False  True False False False]\n",
        "print(data[[ True, False, False,  True, False, False, False]])\n",
        "print(data[names == \"Bob\"])\n",
        "print(data[names == \"Bob\", 1]) # indexing\n",
        "print(data[names == \"Bob\", 1:]) # slicing\n",
        "# Bob이 아닌 index에 해당하는 것만 다 가져오시오\n",
        "# [False,  True,  True, False,  True,  True,  True]\n",
        "print(data[~(names == \"Bob\")])\n",
        "print(data[names != \"Bob\"])\n",
        "\n",
        "cond = names == \"Bob\"\n",
        "print(data[cond])\n",
        "print(data[~cond])\n",
        "\n",
        "mask = (names == \"Bob\") | (names == \"Will\")\n",
        "print(mask)\n",
        "print(data[mask])\n",
        "print(names[mask])\n",
        "print(data[[ True, False,  True,  True,  True, False, False]])\n",
        "print(data[data < 0])  # [ -5 -12  -4]\n",
        "data[data < 0] = 0\n",
        "print(data)\n",
        "print([names != \"Joe\"]) # [ True, False,  True,  True,  True, False, False]\n",
        "print(data[names != \"Joe\"]) #\n",
        "'''\n",
        "[[4 7]\n",
        " [0 6]\n",
        " [0 0]\n",
        " [1 2]]\n",
        " '''\n",
        "data[names != \"Joe\"] = 7\n",
        "print(data)"
      ],
      "metadata": {
        "colab": {
          "base_uri": "https://localhost:8080/"
        },
        "id": "MoLRrX48shVx",
        "outputId": "89ed3fcb-e3cc-43ab-928c-a7760b2209d2"
      },
      "execution_count": 152,
      "outputs": [
        {
          "output_type": "stream",
          "name": "stdout",
          "text": [
            "['Bob' 'Joe' 'Will' 'Bob' 'Will' 'Joe' 'Joe']\n",
            "[[  4   7]\n",
            " [  0   2]\n",
            " [ -5   6]\n",
            " [  0   0]\n",
            " [  1   2]\n",
            " [-12  -4]\n",
            " [  3   4]]\n",
            "[ True False False  True False False False]\n",
            "[[4 7]\n",
            " [0 0]]\n",
            "[[4 7]\n",
            " [0 0]]\n",
            "[7 0]\n",
            "[[7]\n",
            " [0]]\n",
            "[[  0   2]\n",
            " [ -5   6]\n",
            " [  1   2]\n",
            " [-12  -4]\n",
            " [  3   4]]\n",
            "[[  0   2]\n",
            " [ -5   6]\n",
            " [  1   2]\n",
            " [-12  -4]\n",
            " [  3   4]]\n",
            "[[4 7]\n",
            " [0 0]]\n",
            "[[  0   2]\n",
            " [ -5   6]\n",
            " [  1   2]\n",
            " [-12  -4]\n",
            " [  3   4]]\n",
            "[ True False  True  True  True False False]\n",
            "[[ 4  7]\n",
            " [-5  6]\n",
            " [ 0  0]\n",
            " [ 1  2]]\n",
            "['Bob' 'Will' 'Bob' 'Will']\n",
            "[[ 4  7]\n",
            " [-5  6]\n",
            " [ 0  0]\n",
            " [ 1  2]]\n",
            "[ -5 -12  -4]\n",
            "[[4 7]\n",
            " [0 2]\n",
            " [0 6]\n",
            " [0 0]\n",
            " [1 2]\n",
            " [0 0]\n",
            " [3 4]]\n",
            "[array([ True, False,  True,  True,  True, False, False])]\n",
            "[[4 7]\n",
            " [0 6]\n",
            " [0 0]\n",
            " [1 2]]\n",
            "[[7 7]\n",
            " [0 2]\n",
            " [7 7]\n",
            " [7 7]\n",
            " [7 7]\n",
            " [0 0]\n",
            " [3 4]]\n"
          ]
        }
      ]
    },
    {
      "cell_type": "code",
      "source": [
        "import pandas as pd\n",
        "rainfall = pd.read_csv(\"https://raw.githubusercontent.com/SoongMoo/data-analysis/refs/heads/main/data/Seattle2014.csv\")\n",
        "rainfall\n",
        "inches = np.array(rainfall['PRCP']  / 254 )\n",
        "inches\n",
        "# 0.5인치이상 온 날은 몇일입니까?\n",
        "#True :1 , False :0\n",
        "print(np.sum(inches >= 0.5))\n",
        "# 강수량이 0.5에서 0.8 사이인 날은 몇일이나 되나요?\n",
        "print(np.sum((inches >= 0.5) & (inches <= 0.8)))\n",
        "#강수량이 0.5보다 작고 0.8이 온날은?\n",
        "print(np.sum(~((inches >= 0.5) & (inches <= 0.8))))\n",
        "print(np.sum((inches < 0.5) | (inches > 0.8)))\n",
        "#비가 안온 날\n",
        "print(np.sum(inches == 0))\n",
        "#비가 온 날\n",
        "print(np.sum(inches != 0))"
      ],
      "metadata": {
        "colab": {
          "base_uri": "https://localhost:8080/"
        },
        "id": "EHovaMDHzeX7",
        "outputId": "33060910-edd4-4401-f0e9-6ba7ee28f0bf"
      },
      "execution_count": 164,
      "outputs": [
        {
          "output_type": "stream",
          "name": "stdout",
          "text": [
            "39\n",
            "26\n",
            "339\n",
            "339\n",
            "215\n",
            "150\n"
          ]
        }
      ]
    },
    {
      "cell_type": "code",
      "source": [
        "import matplotlib.pyplot as plt\n",
        "plt.hist(inches, 40)"
      ],
      "metadata": {
        "colab": {
          "base_uri": "https://localhost:8080/",
          "height": 690
        },
        "id": "4hfKm-1a2q_b",
        "outputId": "3d05373c-65aa-4f90-c21d-f7459357d3ea"
      },
      "execution_count": 166,
      "outputs": [
        {
          "output_type": "execute_result",
          "data": {
            "text/plain": [
              "(array([245.,  14.,  13.,  17.,   8.,   6.,   5.,   6.,   4.,   3.,   7.,\n",
              "          6.,   3.,   3.,   3.,   4.,   4.,   2.,   4.,   0.,   0.,   1.,\n",
              "          1.,   1.,   0.,   0.,   0.,   2.,   1.,   1.,   0.,   0.,   0.,\n",
              "          0.,   0.,   0.,   0.,   0.,   0.,   1.]),\n",
              " array([0.        , 0.04596457, 0.09192913, 0.1378937 , 0.18385827,\n",
              "        0.22982283, 0.2757874 , 0.32175197, 0.36771654, 0.4136811 ,\n",
              "        0.45964567, 0.50561024, 0.5515748 , 0.59753937, 0.64350394,\n",
              "        0.6894685 , 0.73543307, 0.78139764, 0.8273622 , 0.87332677,\n",
              "        0.91929134, 0.96525591, 1.01122047, 1.05718504, 1.10314961,\n",
              "        1.14911417, 1.19507874, 1.24104331, 1.28700787, 1.33297244,\n",
              "        1.37893701, 1.42490157, 1.47086614, 1.51683071, 1.56279528,\n",
              "        1.60875984, 1.65472441, 1.70068898, 1.74665354, 1.79261811,\n",
              "        1.83858268]),\n",
              " <BarContainer object of 40 artists>)"
            ]
          },
          "metadata": {},
          "execution_count": 166
        },
        {
          "output_type": "display_data",
          "data": {
            "text/plain": [
              "<Figure size 640x480 with 1 Axes>"
            ],
            "image/png": "[encoded data removed]"
          },
          "metadata": {}
        }
      ]
    },
    {
      "cell_type": "code",
      "source": [
        "# 팬시 index\n",
        "arr = np.zeros((8, 4))\n",
        "print(arr)\n",
        "for i in range(8):\n",
        "    arr[i] = i\n",
        "print(arr)\n",
        "'''\n",
        "[[0. 0. 0. 0.]    0\n",
        " [1. 1. 1. 1.]    1\n",
        " [2. 2. 2. 2.]    2\n",
        " [3. 3. 3. 3.]    3   -5\n",
        " [4. 4. 4. 4.]    4   -4\n",
        " [5. 5. 5. 5.]    5   -3\n",
        " [6. 6. 6. 6.]    6   -2\n",
        " [7. 7. 7. 7.]]   7   -1\n",
        "'''\n",
        "print(arr[[4,3,0,6]])\n",
        "print(arr[[-3, -5, -7]])"
      ],
      "metadata": {
        "colab": {
          "base_uri": "https://localhost:8080/"
        },
        "id": "pI4sm5iEud_y",
        "outputId": "21d7b6e2-c03f-4ab7-c7e5-0f2c41186f5d"
      },
      "execution_count": 168,
      "outputs": [
        {
          "output_type": "stream",
          "name": "stdout",
          "text": [
            "[[0. 0. 0. 0.]\n",
            " [0. 0. 0. 0.]\n",
            " [0. 0. 0. 0.]\n",
            " [0. 0. 0. 0.]\n",
            " [0. 0. 0. 0.]\n",
            " [0. 0. 0. 0.]\n",
            " [0. 0. 0. 0.]\n",
            " [0. 0. 0. 0.]]\n",
            "[[0. 0. 0. 0.]\n",
            " [1. 1. 1. 1.]\n",
            " [2. 2. 2. 2.]\n",
            " [3. 3. 3. 3.]\n",
            " [4. 4. 4. 4.]\n",
            " [5. 5. 5. 5.]\n",
            " [6. 6. 6. 6.]\n",
            " [7. 7. 7. 7.]]\n",
            "[[4. 4. 4. 4.]\n",
            " [3. 3. 3. 3.]\n",
            " [0. 0. 0. 0.]\n",
            " [6. 6. 6. 6.]]\n"
          ]
        }
      ]
    },
    {
      "cell_type": "code",
      "source": [
        "arr = np.arange(32).reshape((8, 4))\n",
        "arr\n",
        "print(arr[[1, 5, 7, 2]])\n",
        "print(arr[[1, 5, 7, 2],[0,2,1,3 ]])"
      ],
      "metadata": {
        "colab": {
          "base_uri": "https://localhost:8080/"
        },
        "id": "kA_tt7Ef4n5N",
        "outputId": "ade146db-a228-4757-ac41-e59aaf618a2d"
      },
      "execution_count": 176,
      "outputs": [
        {
          "output_type": "stream",
          "name": "stdout",
          "text": [
            "[[ 4  5  6  7]\n",
            " [20 21 22 23]\n",
            " [28 29 30 31]\n",
            " [ 8  9 10 11]]\n",
            "[ 4 22 29 11]\n"
          ]
        },
        {
          "output_type": "execute_result",
          "data": {
            "text/plain": [
              "array([[ 4,  6,  5,  7],\n",
              "       [20, 22, 21, 23],\n",
              "       [28, 30, 29, 31],\n",
              "       [ 8, 10,  9, 11]])"
            ]
          },
          "metadata": {},
          "execution_count": 176
        }
      ]
    },
    {
      "cell_type": "code",
      "source": [
        "# 열의 순서 변경\n",
        "print(arr[[1, 5, 7, 2]])\n",
        "'''\n",
        "[[ 4  5  6  7]\n",
        " [20 21 22 23]\n",
        " [28 29 30 31]\n",
        " [ 8  9 10 11]]\n",
        " '''\n",
        "arr1 = arr[[1, 5, 7, 2]]\n",
        "print(arr1[:, [ 1 , 3, 2 , 0]])\n",
        "print(arr[[1, 5, 7, 2]][: , [ 1 , 3, 2 , 0]])"
      ],
      "metadata": {
        "colab": {
          "base_uri": "https://localhost:8080/"
        },
        "id": "-wEEPVAL6MS_",
        "outputId": "21712ddd-168d-4ba1-826f-06e88a407cad"
      },
      "execution_count": 182,
      "outputs": [
        {
          "output_type": "stream",
          "name": "stdout",
          "text": [
            "[[ 4  5  6  7]\n",
            " [20 21 22 23]\n",
            " [28 29 30 31]\n",
            " [ 8  9 10 11]]\n",
            "[[ 5  7  6  4]\n",
            " [21 23 22 20]\n",
            " [29 31 30 28]\n",
            " [ 9 11 10  8]]\n",
            "[[ 5  7  6  4]\n",
            " [21 23 22 20]\n",
            " [29 31 30 28]\n",
            " [ 9 11 10  8]]\n",
            "[ 4 23 29 10]\n"
          ]
        }
      ]
    },
    {
      "cell_type": "code",
      "source": [
        "print(arr[[1, 5, 7, 2], [0, 3, 1, 2]])\n",
        "arr[[1, 5, 7, 2], [0, 3, 1, 2]] = 0\n",
        "print(arr)"
      ],
      "metadata": {
        "colab": {
          "base_uri": "https://localhost:8080/"
        },
        "id": "oS8kKf1-7USg",
        "outputId": "bd12060c-be91-4f45-adc5-880a64631c6b"
      },
      "execution_count": 184,
      "outputs": [
        {
          "output_type": "stream",
          "name": "stdout",
          "text": [
            "[ 4 23 29 10]\n",
            "[[ 0  1  2  3]\n",
            " [ 0  5  6  7]\n",
            " [ 8  9  0 11]\n",
            " [12 13 14 15]\n",
            " [16 17 18 19]\n",
            " [20 21 22  0]\n",
            " [24 25 26 27]\n",
            " [28  0 30 31]]\n"
          ]
        }
      ]
    },
    {
      "cell_type": "code",
      "source": [
        "# 배열 전치 및 축 교체\n",
        "arr = np.arange(15).reshape((3, 5))\n",
        "print(arr)\n",
        "print(arr.T)\n",
        "result = np.dot(arr.T, arr)\n",
        "print(result)"
      ],
      "metadata": {
        "colab": {
          "base_uri": "https://localhost:8080/"
        },
        "id": "E7rFTLo17qCd",
        "outputId": "ec246a30-c53d-4318-cfa1-752918070f56"
      },
      "execution_count": 196,
      "outputs": [
        {
          "output_type": "stream",
          "name": "stdout",
          "text": [
            "[[ 0  1  2  3  4]\n",
            " [ 5  6  7  8  9]\n",
            " [10 11 12 13 14]]\n",
            "[[ 0  5 10]\n",
            " [ 1  6 11]\n",
            " [ 2  7 12]\n",
            " [ 3  8 13]\n",
            " [ 4  9 14]]\n",
            "[[125 140 155 170 185]\n",
            " [140 158 176 194 212]\n",
            " [155 176 197 218 239]\n",
            " [170 194 218 242 266]\n",
            " [185 212 239 266 293]]\n"
          ]
        }
      ]
    },
    {
      "cell_type": "code",
      "source": [
        "arr = np.array([[0, 1, 0], [1, 2, -2], [6, 3, 2], [-1, 0, -1], [1, 0, 1]])\n",
        "print(arr)\n",
        "print(arr.T)\n",
        "# 행렬 곱\n",
        "result = np.dot(arr.T, arr)\n",
        "print(result)\n",
        "result = np.dot(arr, arr.T)\n",
        "print(result) # 5 , 5\n",
        "result = arr.T @ arr\n",
        "print(result)\n",
        "# 전치 행렬\n",
        "arr.T\n",
        "arr.swapaxes(0, 1)"
      ],
      "metadata": {
        "colab": {
          "base_uri": "https://localhost:8080/"
        },
        "id": "-X3VEZxEBrWT",
        "outputId": "16519419-42e2-4f99-f832-1ab2ce4df32a"
      },
      "execution_count": 199,
      "outputs": [
        {
          "output_type": "stream",
          "name": "stdout",
          "text": [
            "[[ 0  1  0]\n",
            " [ 1  2 -2]\n",
            " [ 6  3  2]\n",
            " [-1  0 -1]\n",
            " [ 1  0  1]]\n",
            "[[ 0  1  6 -1  1]\n",
            " [ 1  2  3  0  0]\n",
            " [ 0 -2  2 -1  1]]\n",
            "[[39 20 12]\n",
            " [20 14  2]\n",
            " [12  2 10]]\n",
            "[[ 1  2  3  0  0]\n",
            " [ 2  9  8  1 -1]\n",
            " [ 3  8 49 -8  8]\n",
            " [ 0  1 -8  2 -2]\n",
            " [ 0 -1  8 -2  2]]\n",
            "[[39 20 12]\n",
            " [20 14  2]\n",
            " [12  2 10]]\n"
          ]
        }
      ]
    },
    {
      "cell_type": "code",
      "source": [
        "samples = np.random.standard_normal(size=(4, 4))\n",
        "samples\n",
        "#평균이 0이고 표준편차가 1이되는 행렬을 만들 때 사용"
      ],
      "metadata": {
        "colab": {
          "base_uri": "https://localhost:8080/"
        },
        "id": "hxKRO_cbF0V4",
        "outputId": "c3149e72-6c53-45d8-be69-34918471e731"
      },
      "execution_count": 200,
      "outputs": [
        {
          "output_type": "execute_result",
          "data": {
            "text/plain": [
              "array([[-0.21873223, -0.34740575, -1.51484661,  0.38094629],\n",
              "       [ 1.830965  ,  1.18775805,  0.94079568, -0.35058134],\n",
              "       [ 1.0240447 ,  0.0813884 ,  1.33758364, -1.46717625],\n",
              "       [ 0.68618115, -0.72217544,  0.68337847, -2.62669166]])"
            ]
          },
          "metadata": {},
          "execution_count": 200
        }
      ]
    },
    {
      "cell_type": "code",
      "source": [
        "# 난수를 생성 시킨다.\n",
        "# 동일한 시드를 사용하면 같은 난수 순서를 얻게 됩니다.\n",
        "rng = np.random.default_rng(seed=12345)\n",
        "print(rng.random(3))  # 0~1 사이 난수 3개\n",
        "print(rng.integers(low=0, high=10, size=5))  # 0~9 사이 정수 5개\n",
        "\n",
        "x = rng.standard_normal(8)\n",
        "print(x)\n",
        "y = rng.standard_normal(8)\n",
        "print(y)\n",
        "np.maximum( x, y)"
      ],
      "metadata": {
        "colab": {
          "base_uri": "https://localhost:8080/"
        },
        "id": "HWqTaKEyGtUR",
        "outputId": "73f411fb-bd7f-45af-e56f-c2c5b3d4f4a4"
      },
      "execution_count": 212,
      "outputs": [
        {
          "output_type": "stream",
          "name": "stdout",
          "text": [
            "[0.22733602 0.31675834 0.79736546]\n",
            "[6 6 9 3 8]\n",
            "[-1.3677927   0.6488928   0.36105811 -1.95286306  2.34740965  0.96849691\n",
            " -0.75938718  0.90219827]\n",
            "[-0.46695317 -0.06068952  0.78884434 -1.25666813  0.57585751  1.39897899\n",
            "  1.32229806 -0.29969852]\n"
          ]
        },
        {
          "output_type": "execute_result",
          "data": {
            "text/plain": [
              "array([-0.46695317,  0.6488928 ,  0.78884434, -1.25666813,  2.34740965,\n",
              "        1.39897899,  1.32229806,  0.90219827])"
            ]
          },
          "metadata": {},
          "execution_count": 212
        }
      ]
    },
    {
      "cell_type": "code",
      "source": [
        "# 조건 논리를 배열 연산으로 표현하기\n",
        "xarr = np.array([1.1, 1.2, 1.3, 1.4, 1.5])\n",
        "print(xarr)\n",
        "yarr = np.array([2.1, 2.2, 2.3, 2.4, 2.5])\n",
        "print(yarr)\n",
        "cond = np.array([True, False, True, True, False])\n",
        "print(cond)\n",
        "print(xarr[cond])\n",
        "print(yarr[cond])"
      ],
      "metadata": {
        "colab": {
          "base_uri": "https://localhost:8080/"
        },
        "id": "59gD-8vSH6Os",
        "outputId": "774a3e08-df3f-42cc-cfad-9510f6456623"
      },
      "execution_count": 209,
      "outputs": [
        {
          "output_type": "stream",
          "name": "stdout",
          "text": [
            "[1.1 1.2 1.3 1.4 1.5]\n",
            "[2.1 2.2 2.3 2.4 2.5]\n",
            "[ True False  True  True False]\n",
            "[1.1 1.3 1.4]\n",
            "[2.1 2.3 2.4]\n"
          ]
        }
      ]
    },
    {
      "cell_type": "code",
      "source": [
        "'''\n",
        "result = []\n",
        "for x, y, c in zip(xarr, yarr, cond):\n",
        "  if c:\n",
        "    result.append(float(x))\n",
        "  else:\n",
        "    result.append(float(y))\n",
        "'''\n",
        "result = [float(x if c else y)\n",
        "    for x, y, c in zip(xarr, yarr, cond)]\n",
        "print(result)\n",
        "# cond에 팬시 index가 있다면\n",
        "result = np.where(cond, xarr, yarr)\n",
        "print(result)\n",
        "arr = rng.standard_normal((4, 4))\n",
        "print(arr)\n",
        "# arr배열의 값이 0보다 크면 2를 작으면 -2로 대체하시오\n",
        "result = np.where(arr > 0, 2, -2)\n",
        "print(result)"
      ],
      "metadata": {
        "colab": {
          "base_uri": "https://localhost:8080/"
        },
        "id": "5ptW8CVaInbl",
        "outputId": "649defb1-c130-4808-ea04-32d2d03ce8c7"
      },
      "execution_count": 216,
      "outputs": [
        {
          "output_type": "stream",
          "name": "stdout",
          "text": [
            "[1.1, 2.2, 1.3, 1.4, 2.5]\n",
            "[1.1 2.2 1.3 1.4 2.5]\n",
            "[[ 0.61835001 -0.79501746  0.30003095 -1.60270159]\n",
            " [ 0.26679883 -1.26162378 -0.07127081  0.47404973]\n",
            " [-0.41485376  0.0977165  -1.64041784 -0.85725882]\n",
            " [ 0.68828179 -1.15452958  0.65045239 -1.38835995]]\n",
            "[[ 2 -2  2 -2]\n",
            " [ 2 -2 -2  2]\n",
            " [-2  2 -2 -2]\n",
            " [ 2 -2  2 -2]]\n"
          ]
        }
      ]
    },
    {
      "cell_type": "code",
      "source": [
        "arr = rng.standard_normal((4, 4))\n",
        "print(arr)\n",
        "# arr의 값이 0보다 크면 2로 대체하고 작으면 arr값을 사용\n",
        "result = np.where(arr > 0, 2, arr)\n",
        "print(result)"
      ],
      "metadata": {
        "colab": {
          "base_uri": "https://localhost:8080/"
        },
        "id": "L_iaq3UiPk6Q",
        "outputId": "9ccd48d9-1c3e-473a-fba0-84a361b80acd"
      },
      "execution_count": 217,
      "outputs": [
        {
          "output_type": "stream",
          "name": "stdout",
          "text": [
            "[[-9.07382457e-01 -1.09542531e+00  7.14569494e-03  5.34359903e-01]\n",
            " [-1.06580785e+00 -1.81472740e-01  1.62195180e+00 -3.17391946e-01]\n",
            " [-8.15814967e-01  3.86579017e-01 -2.23638926e-01 -7.01690809e-01]\n",
            " [-1.79571318e+00  8.18325622e-01 -5.71032902e-01  7.85525063e-04]]\n",
            "[[-0.90738246 -1.09542531  2.          2.        ]\n",
            " [-1.06580785 -0.18147274  2.         -0.31739195]\n",
            " [-0.81581497  2.         -0.22363893 -0.70169081]\n",
            " [-1.79571318  2.         -0.5710329   2.        ]]\n"
          ]
        }
      ]
    },
    {
      "cell_type": "code",
      "source": [
        "# 수학적 및 통계적 방법\n",
        "m = np.random.random(size=(3,4))\n",
        "print(m)\n",
        "# 열에 대한 합계\n",
        "print(sum(m)) #  python 내장함수\n",
        "# 전체 합계\n",
        "print(np.sum(m))\n",
        "print(m.sum())\n",
        "print(np.max(m))\n",
        "print(m.max())\n",
        "print(np.min(m))\n",
        "print(m.min())\n",
        "print(np.mean(m))\n",
        "print(m.mean())\n",
        "print(m.sum(axis=0)) # 열기준\n",
        "print(m.sum(axis=1)) # 행기준\n",
        "print(m.mean(axis=0))\n",
        "print(m.mean(axis=1))"
      ],
      "metadata": {
        "colab": {
          "base_uri": "https://localhost:8080/"
        },
        "id": "6ymn92gEQB-o",
        "outputId": "8269bcc3-1d85-4c2c-e313-76a07a26bec0"
      },
      "execution_count": 231,
      "outputs": [
        {
          "output_type": "stream",
          "name": "stdout",
          "text": [
            "[[0.14088874 0.95597128 0.4563246  0.27618484]\n",
            " [0.22606275 0.64904838 0.51734418 0.76822895]\n",
            " [0.92461279 0.17177114 0.72750164 0.02456908]]\n",
            "[1.29156428 1.7767908  1.70117042 1.06898287]\n",
            "5.838508372613126\n",
            "5.838508372613126\n",
            "0.9559712756271019\n",
            "0.9559712756271019\n",
            "0.02456907873053049\n",
            "0.02456907873053049\n",
            "0.48654236438442716\n",
            "0.48654236438442716\n",
            "[1.29156428 1.7767908  1.70117042 1.06898287]\n",
            "[1.82936946 2.16068426 1.84845465]\n",
            "[0.43052143 0.5922636  0.56705681 0.35632762]\n",
            "[0.45734237 0.54017106 0.46211366]\n"
          ]
        }
      ]
    },
    {
      "cell_type": "code",
      "source": [
        "arr = np.array([0, 1, 2, 3, 4, 5, 6, 7])\n",
        "print(arr.cumsum())"
      ],
      "metadata": {
        "colab": {
          "base_uri": "https://localhost:8080/"
        },
        "id": "wVqQ6u8dR6XP",
        "outputId": "7284698e-89bd-456b-fa7d-977b4bd278fd"
      },
      "execution_count": 232,
      "outputs": [
        {
          "output_type": "stream",
          "name": "stdout",
          "text": [
            "[ 0  1  3  6 10 15 21 28]\n"
          ]
        }
      ]
    },
    {
      "cell_type": "code",
      "source": [
        "arr = np.array([[0, 1, 2, 3], [3, 4, 5, 6], [6, 7, 8, 9]])\n",
        "print(arr)\n",
        "print(arr.cumsum(axis=0)) # 열기준\n",
        "print(arr.cumsum(axis=1)) # 행 기준"
      ],
      "metadata": {
        "colab": {
          "base_uri": "https://localhost:8080/"
        },
        "id": "4Cn8tF2HSHI9",
        "outputId": "af9cb9d9-b402-4379-c66c-d780033e50db"
      },
      "execution_count": 237,
      "outputs": [
        {
          "output_type": "stream",
          "name": "stdout",
          "text": [
            "[[0 1 2 3]\n",
            " [3 4 5 6]\n",
            " [6 7 8 9]]\n",
            "[[ 0  1  2  3]\n",
            " [ 3  5  7  9]\n",
            " [ 9 12 15 18]]\n",
            "[[ 0  1  3  6]\n",
            " [ 3  7 12 18]\n",
            " [ 6 13 21 30]]\n"
          ]
        }
      ]
    },
    {
      "cell_type": "code",
      "source": [
        "# 부울 배열에 대한 메서드\n",
        "arr = rng.standard_normal(100)\n",
        "print(arr)\n",
        "print(arr > 0)\n",
        "print((arr > 0).sum())\n",
        "print((arr <= 0).sum())"
      ],
      "metadata": {
        "colab": {
          "base_uri": "https://localhost:8080/"
        },
        "id": "yYYjEJaJS7GV",
        "outputId": "5accc7fa-81fe-4015-b4db-4d07d0dbb1bf"
      },
      "execution_count": 240,
      "outputs": [
        {
          "output_type": "stream",
          "name": "stdout",
          "text": [
            "[ 0.83620358 -0.51348805 -1.01573661 -1.0702709   0.12391266 -0.80301588\n",
            " -0.63763575  1.14449564 -1.64090191 -1.31400358 -0.51035251 -0.09986088\n",
            " -0.12950676 -1.39670506  0.19380935 -0.12929273  0.35447909 -1.08287264\n",
            "  0.24493923  0.22082079 -0.66043248 -0.21853515 -0.55599901  1.35638101\n",
            " -3.11960863 -1.4476717  -1.70578539 -0.37811992 -0.67849392 -0.41124593\n",
            "  0.71901264 -1.63251948 -0.84569363 -0.22310006 -1.20221832  0.36998768\n",
            "  0.32999736 -0.71044661 -1.77110716  1.60083585  0.47109807  0.42375063\n",
            "  0.07226048 -0.00734697  0.83107567 -0.01560552 -0.63090634  0.70950138\n",
            "  0.05969517 -0.77247575 -0.90623909  1.16547928  0.6310474   1.97551858\n",
            " -0.5266552  -0.74354059  0.40389057  1.37940685  0.5967524   0.43315307\n",
            "  1.88698807 -0.74339094 -1.24794902 -0.74461832 -0.31685699  0.37335131\n",
            "  1.02196035  0.40560972  1.52331375 -0.82750813  1.90549546 -0.81202169\n",
            "  1.17073624 -0.93784297  0.34326701  0.05089841  0.51755965  0.75142476\n",
            " -0.21319917 -0.06682368  0.23911172 -1.30500814 -0.73123644 -1.62440684\n",
            "  0.00525051  2.22215696  0.74130922 -0.86542971 -0.7076847   0.97589876\n",
            " -0.47440938 -1.60848203 -1.02291555 -1.05425642 -1.02139871  0.67595082\n",
            "  0.07070287 -1.48863945 -0.53979699 -1.13832102]\n",
            "[ True False False False  True False False  True False False False False\n",
            " False False  True False  True False  True  True False False False  True\n",
            " False False False False False False  True False False False False  True\n",
            "  True False False  True  True  True  True False  True False False  True\n",
            "  True False False  True  True  True False False  True  True  True  True\n",
            "  True False False False False  True  True  True  True False  True False\n",
            "  True False  True  True  True  True False False  True False False False\n",
            "  True  True  True False False  True False False False False False  True\n",
            "  True False False False]\n",
            "43\n"
          ]
        }
      ]
    },
    {
      "cell_type": "code",
      "source": [
        "bools = np.array([False, False, True, False])\n",
        "print(bools)\n",
        "# 모두 True일 때만 True\n",
        "print(bools.all())\n",
        "# 적어도 하나가 True라면 True\n",
        "print(bools.any())"
      ],
      "metadata": {
        "colab": {
          "base_uri": "https://localhost:8080/"
        },
        "id": "uxGjEF4aTd_Q",
        "outputId": "5a5518f8-e5fb-4b0b-cc8e-4d2f333f5bb9"
      },
      "execution_count": 243,
      "outputs": [
        {
          "output_type": "stream",
          "name": "stdout",
          "text": [
            "[False False  True False]\n",
            "False\n",
            "True\n"
          ]
        }
      ]
    },
    {
      "cell_type": "code",
      "source": [
        "# 정렬\n",
        "x = np.array([3,6,2,7,5])\n",
        "x.sort()\n",
        "print(x)\n",
        "x = np.array([3,6,2,7,5])\n",
        "np.sort(x)\n",
        "print(x)"
      ],
      "metadata": {
        "colab": {
          "base_uri": "https://localhost:8080/"
        },
        "id": "BvtS7CisUIyw",
        "outputId": "c7b44126-3fee-4725-c25c-4229e449802b"
      },
      "execution_count": 246,
      "outputs": [
        {
          "output_type": "stream",
          "name": "stdout",
          "text": [
            "[2 3 5 6 7]\n",
            "[3 6 2 7 5]\n"
          ]
        }
      ]
    },
    {
      "cell_type": "code",
      "source": [
        "x = np.random.randint(0, 10,(4, 6))\n",
        "print(x)\n",
        "print(np.sort(x)) # axis = 1\n",
        "print(np.sort(x,  axis = 1))\n",
        "print(np.sort(x,  axis = 0))"
      ],
      "metadata": {
        "colab": {
          "base_uri": "https://localhost:8080/"
        },
        "id": "UGjbRw0JJxNd",
        "outputId": "4680ba9d-0ef4-4a87-9e3c-829b57ec35e2"
      },
      "execution_count": 249,
      "outputs": [
        {
          "output_type": "stream",
          "name": "stdout",
          "text": [
            "[[3 8 6 8 7 7]\n",
            " [4 0 7 9 1 5]\n",
            " [1 7 4 6 5 4]\n",
            " [6 0 8 6 7 9]]\n",
            "[[3 6 7 7 8 8]\n",
            " [0 1 4 5 7 9]\n",
            " [1 4 4 5 6 7]\n",
            " [0 6 6 7 8 9]]\n",
            "[[3 6 7 7 8 8]\n",
            " [0 1 4 5 7 9]\n",
            " [1 4 4 5 6 7]\n",
            " [0 6 6 7 8 9]]\n"
          ]
        }
      ]
    },
    {
      "cell_type": "code",
      "source": [
        "# 배열을 사용한 파일 입력 및 출력\n",
        "arr = np.arange(10)\n",
        "print(arr)\n",
        "np.save(\"some_array\", arr)"
      ],
      "metadata": {
        "colab": {
          "base_uri": "https://localhost:8080/"
        },
        "id": "4TNcbuFwVNGe",
        "outputId": "9ffd2980-4faa-4053-969a-d3e5c5263bad"
      },
      "execution_count": 251,
      "outputs": [
        {
          "output_type": "stream",
          "name": "stdout",
          "text": [
            "[0 1 2 3 4 5 6 7 8 9]\n"
          ]
        }
      ]
    },
    {
      "cell_type": "code",
      "source": [
        "result = np.load(\"some_array.npy\")\n",
        "result"
      ],
      "metadata": {
        "colab": {
          "base_uri": "https://localhost:8080/"
        },
        "id": "Bht1k94LVjDz",
        "outputId": "80807183-9007-44d5-afcf-60b984e00e0a"
      },
      "execution_count": 252,
      "outputs": [
        {
          "output_type": "execute_result",
          "data": {
            "text/plain": [
              "array([0, 1, 2, 3, 4, 5, 6, 7, 8, 9])"
            ]
          },
          "metadata": {},
          "execution_count": 252
        }
      ]
    },
    {
      "cell_type": "code",
      "source": [
        "# 여러개의 배열을 하나의 파일에 저장\n",
        "np.savez(\"array_archive.npz\", a=arr, b=arr) # a=arr, b=arr이기 때문에 같은 배열이 두 번 저장됩니다.\n",
        "arch = np.load(\"array_archive.npz\")\n",
        "print(arch[\"a\"])  # 저장된 'a' 배열\n",
        "print(arch[\"b\"])  # 저장된 'b' 배열"
      ],
      "metadata": {
        "colab": {
          "base_uri": "https://localhost:8080/"
        },
        "id": "-Qs8-lVoVr_f",
        "outputId": "ff302ef7-b602-4ed7-cb92-21438d9dccb1"
      },
      "execution_count": 254,
      "outputs": [
        {
          "output_type": "stream",
          "name": "stdout",
          "text": [
            "[0 1 2 3 4 5 6 7 8 9]\n",
            "[0 1 2 3 4 5 6 7 8 9]\n"
          ]
        }
      ]
    },
    {
      "cell_type": "code",
      "source": [
        "# 고유 및 기타 집합 논리\n",
        "# 중복값 제거\n",
        "names = np.array([\"Bob\", \"Will\", \"Joe\", \"Bob\", \"Will\", \"Joe\", \"Joe\"])\n",
        "print(np.unique(names))\n",
        "\n",
        "ints = np.array([3, 3, 3, 2, 2, 1, 1, 4, 4])\n",
        "print(np.unique(ints))"
      ],
      "metadata": {
        "colab": {
          "base_uri": "https://localhost:8080/"
        },
        "id": "4xFuJLrjWjtE",
        "outputId": "ab7aeb08-e22a-47dd-b11e-d8dc131d54e2"
      },
      "execution_count": 255,
      "outputs": [
        {
          "output_type": "stream",
          "name": "stdout",
          "text": [
            "['Bob' 'Joe' 'Will']\n",
            "[1 2 3 4]\n"
          ]
        }
      ]
    },
    {
      "cell_type": "code",
      "source": [
        "print(map(str, np.unique(names)))\n",
        "unique_sorted_names = list(map(str, np.unique(names)))\n",
        "print(unique_sorted_names)"
      ],
      "metadata": {
        "colab": {
          "base_uri": "https://localhost:8080/"
        },
        "id": "dmikQtQBWwij",
        "outputId": "1a30d3da-ad35-44b1-8ffe-1240f6abe7b4"
      },
      "execution_count": 257,
      "outputs": [
        {
          "output_type": "stream",
          "name": "stdout",
          "text": [
            "<map object at 0x7aaa0327a1d0>\n",
            "['Bob', 'Joe', 'Will']\n"
          ]
        }
      ]
    },
    {
      "cell_type": "code",
      "source": [
        "values = np.array([6, 0, 0, 3, 2, 5, 6])\n",
        "np.isin(values, [2, 3, 6]) # index가 아닌 값이 이와 같을 때 같은 값은 True로 출력"
      ],
      "metadata": {
        "colab": {
          "base_uri": "https://localhost:8080/"
        },
        "id": "y6ZiWPcGXO61",
        "outputId": "4226eb00-1601-4029-aece-70b313d02466"
      },
      "execution_count": 258,
      "outputs": [
        {
          "output_type": "execute_result",
          "data": {
            "text/plain": [
              "array([ True, False, False,  True,  True, False,  True])"
            ]
          },
          "metadata": {},
          "execution_count": 258
        }
      ]
    },
    {
      "cell_type": "code",
      "source": [
        "import pandas as pd\n",
        "import numpy as np\n",
        "df = pd.read_csv(\"https://raw.githubusercontent.com/SoongMoo/data-analysis/refs/heads/main/data/president_heights.csv\")\n",
        "heights = np.array(df['height(cm)'])\n",
        "heights # 1차원 배열\n",
        "# 키의 평균\n",
        "print(heights.mean())\n",
        "# 0 사분위\n",
        "print(heights.min())\n",
        "# 1사분위 25%\n",
        "print(np.percentile(heights, 25))\n",
        "# 2사분위 50% : 중위값\n",
        "print(np.percentile(heights, 50))\n",
        "# 3사분위 75%\n",
        "print(np.percentile(heights, 75))\n",
        "# 4 사분위\n",
        "print(heights.max())"
      ],
      "metadata": {
        "colab": {
          "base_uri": "https://localhost:8080/"
        },
        "id": "XHe_diDBXzDJ",
        "outputId": "05497d48-9550-43f7-904a-442e751c873f"
      },
      "execution_count": 266,
      "outputs": [
        {
          "output_type": "stream",
          "name": "stdout",
          "text": [
            "179.73809523809524\n",
            "163\n",
            "174.25\n",
            "182.0\n",
            "183.0\n",
            "193\n"
          ]
        }
      ]
    },
    {
      "cell_type": "code",
      "source": [
        "import matplotlib.pyplot as plt\n",
        "plt.hist(heights)\n",
        "\n",
        "plt.title(\"president_heights\")\n",
        "plt.ylabel(\"number\")\n",
        "plt.xlabel(\"height(cm)\")"
      ],
      "metadata": {
        "colab": {
          "base_uri": "https://localhost:8080/",
          "height": 491
        },
        "id": "GcadooM2Z1Gf",
        "outputId": "05f6a8b5-41a5-4a1d-c077-39135acd042f"
      },
      "execution_count": 268,
      "outputs": [
        {
          "output_type": "execute_result",
          "data": {
            "text/plain": [
              "Text(0.5, 0, 'height(cm)')"
            ]
          },
          "metadata": {},
          "execution_count": 268
        },
        {
          "output_type": "display_data",
          "data": {
            "text/plain": [
              "<Figure size 640x480 with 1 Axes>"
            ],
            "image/png": "[encoded data removed]"
          },
          "metadata": {}
        }
      ]
    },
    {
      "cell_type": "code",
      "source": [],
      "metadata": {
        "id": "M9GKp2IhZvLT"
      },
      "execution_count": null,
      "outputs": []
    }
  ]
}
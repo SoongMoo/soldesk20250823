{
  "nbformat": 4,
  "nbformat_minor": 0,
  "metadata": {
    "colab": {
      "provenance": []
    },
    "kernelspec": {
      "name": "python3",
      "display_name": "Python 3"
    },
    "language_info": {
      "name": "python"
    }
  },
  "cells": [
    {
      "cell_type": "code",
      "execution_count": null,
      "metadata": {
        "id": "RFJUZ4Fobr7R"
      },
      "outputs": [],
      "source": [
        "# 함수란 : x값에 따라 y값의 변화를 알기 위한 것\n",
        "#          y = ax + b\n",
        "#          f(x) = ax + b\n",
        "# x가 3일 때 y값은 얼마입니까? a = 2 , b = 5\n",
        "#          f(x) = 2x + 5\n",
        "#          y = f(3)  = 11"
      ]
    },
    {
      "cell_type": "code",
      "source": [
        "def f(x):\n",
        "  return 2*x + 5"
      ],
      "metadata": {
        "id": "Fyt0wYr3eCfz"
      },
      "execution_count": 3,
      "outputs": []
    },
    {
      "cell_type": "code",
      "source": [
        "y = f(3)\n",
        "print(y)"
      ],
      "metadata": {
        "colab": {
          "base_uri": "https://localhost:8080/"
        },
        "id": "0QzIiJMNeSUp",
        "outputId": "f0f6cc04-e11d-4d1b-e4a3-1e19dbc6b60d"
      },
      "execution_count": 5,
      "outputs": [
        {
          "output_type": "stream",
          "name": "stdout",
          "text": [
            "11\n"
          ]
        }
      ]
    },
    {
      "cell_type": "code",
      "source": [
        "# f(x1, x2) = a1x1 + a2x2 + b\n",
        "#  a1 = 3, a2 = 5 , b = 4\n",
        "# f(x1,x2) = 3x1 + 5x2 + 4\n",
        "def f(x1,x2): # 피호출함수 | x1,x2 :  매개변수, 가인자 , parameter\n",
        "  return 3*x1 + 5*x2 + 4"
      ],
      "metadata": {
        "id": "6Sz9li1HegyC"
      },
      "execution_count": 6,
      "outputs": []
    },
    {
      "cell_type": "code",
      "source": [
        "y = f(3, 5)  # f(3, 5) : 호출함수 | 3, 5 : 실인자 , argument\n",
        "print(y)\n",
        "y = f(10, 5)\n",
        "print(y)"
      ],
      "metadata": {
        "colab": {
          "base_uri": "https://localhost:8080/"
        },
        "id": "eLNn-t_afLzD",
        "outputId": "0e8842dc-f87f-4305-c61a-83295c57a1b6"
      },
      "execution_count": 8,
      "outputs": [
        {
          "output_type": "stream",
          "name": "stdout",
          "text": [
            "38\n",
            "59\n"
          ]
        }
      ]
    },
    {
      "cell_type": "code",
      "source": [
        "'''\n",
        " 함수정의 법\n",
        " def 함수명(para1, para2,..., paraN):\n",
        "   명령어1\n",
        "   명령어2\n",
        "   명령어3\n",
        "   ...\n",
        "   명령어n\n",
        "   return 결과값\n",
        "\n",
        "반복적으로 사용하는 명령어를 한번만 정의 해서 사용할 수 있게 하려고\n",
        "'''"
      ],
      "metadata": {
        "id": "CEOZ5t8Wg1Hp"
      },
      "execution_count": null,
      "outputs": []
    },
    {
      "cell_type": "code",
      "source": [
        "# 6단\n",
        "for gop in range(1, 10):\n",
        "  print(f\"6 * {gop} = { 6 * gop}\")\n",
        "for gop in range(1, 10):\n",
        "  print(f\"6 * {gop} = { 6 * gop}\")\n",
        "for gop in range(1, 10):\n",
        "  print(f\"6 * {gop} = { 6 * gop}\")"
      ],
      "metadata": {
        "colab": {
          "base_uri": "https://localhost:8080/"
        },
        "id": "ZeDkxYtwhing",
        "outputId": "996bf22f-2590-4ee7-823e-ccb971516808"
      },
      "execution_count": 9,
      "outputs": [
        {
          "output_type": "stream",
          "name": "stdout",
          "text": [
            "6 * 1 = 6\n",
            "6 * 2 = 12\n",
            "6 * 3 = 18\n",
            "6 * 4 = 24\n",
            "6 * 5 = 30\n",
            "6 * 6 = 36\n",
            "6 * 7 = 42\n",
            "6 * 8 = 48\n",
            "6 * 9 = 54\n"
          ]
        }
      ]
    },
    {
      "cell_type": "code",
      "source": [
        "def dan_6(): # 피호출함수\n",
        "  for gop in range(1, 10):\n",
        "    print(f\"6 * {gop} = { 6 * gop}\")"
      ],
      "metadata": {
        "id": "l6Biqh1nhyI1"
      },
      "execution_count": 14,
      "outputs": []
    },
    {
      "cell_type": "code",
      "source": [
        "dan_6() # 호출함수\n",
        "dan_6()\n",
        "dan_6()"
      ],
      "metadata": {
        "colab": {
          "base_uri": "https://localhost:8080/"
        },
        "id": "IF2GvW_viFH1",
        "outputId": "c1c4ec25-d6c8-4ffe-ed2a-4b51d6b4eecf"
      },
      "execution_count": 15,
      "outputs": [
        {
          "output_type": "stream",
          "name": "stdout",
          "text": [
            "6 * 1 = 6\n",
            "6 * 2 = 12\n",
            "6 * 3 = 18\n",
            "6 * 4 = 24\n",
            "6 * 5 = 30\n",
            "6 * 6 = 36\n",
            "6 * 7 = 42\n",
            "6 * 8 = 48\n",
            "6 * 9 = 54\n",
            "6 * 1 = 6\n",
            "6 * 2 = 12\n",
            "6 * 3 = 18\n",
            "6 * 4 = 24\n",
            "6 * 5 = 30\n",
            "6 * 6 = 36\n",
            "6 * 7 = 42\n",
            "6 * 8 = 48\n",
            "6 * 9 = 54\n",
            "6 * 1 = 6\n",
            "6 * 2 = 12\n",
            "6 * 3 = 18\n",
            "6 * 4 = 24\n",
            "6 * 5 = 30\n",
            "6 * 6 = 36\n",
            "6 * 7 = 42\n",
            "6 * 8 = 48\n",
            "6 * 9 = 54\n"
          ]
        }
      ]
    },
    {
      "cell_type": "code",
      "source": [
        "def gugudan(dan): # 피호출함수\n",
        "  for gop in range(1, 10):\n",
        "    print(f\"{dan} * {gop} = { dan * gop}\")"
      ],
      "metadata": {
        "id": "MzFlA8fSieto"
      },
      "execution_count": 16,
      "outputs": []
    },
    {
      "cell_type": "code",
      "source": [
        "gugudan(3)\n",
        "gugudan(4)\n",
        "gugudan(5)"
      ],
      "metadata": {
        "colab": {
          "base_uri": "https://localhost:8080/"
        },
        "id": "NqEneU8Oirw-",
        "outputId": "0787da40-a458-4985-8a34-92600de2dff4"
      },
      "execution_count": 19,
      "outputs": [
        {
          "output_type": "stream",
          "name": "stdout",
          "text": [
            "3 * 1 = 3\n",
            "3 * 2 = 6\n",
            "3 * 3 = 9\n",
            "3 * 4 = 12\n",
            "3 * 5 = 15\n",
            "3 * 6 = 18\n",
            "3 * 7 = 21\n",
            "3 * 8 = 24\n",
            "3 * 9 = 27\n",
            "4 * 1 = 4\n",
            "4 * 2 = 8\n",
            "4 * 3 = 12\n",
            "4 * 4 = 16\n",
            "4 * 5 = 20\n",
            "4 * 6 = 24\n",
            "4 * 7 = 28\n",
            "4 * 8 = 32\n",
            "4 * 9 = 36\n",
            "5 * 1 = 5\n",
            "5 * 2 = 10\n",
            "5 * 3 = 15\n",
            "5 * 4 = 20\n",
            "5 * 5 = 25\n",
            "5 * 6 = 30\n",
            "5 * 7 = 35\n",
            "5 * 8 = 40\n",
            "5 * 9 = 45\n"
          ]
        }
      ]
    },
    {
      "cell_type": "code",
      "source": [
        "import random\n",
        "lotto = [num for num in range(1, 46)]\n",
        "size = len(lotto)\n",
        "for i in range(6):\n",
        "  size -= 1\n",
        "  idx = random.randint(0, size)\n",
        "  result = lotto.pop(idx)\n",
        "  print(result, end=\" \")"
      ],
      "metadata": {
        "colab": {
          "base_uri": "https://localhost:8080/"
        },
        "id": "tqKoxiINi7-j",
        "outputId": "4c5110b6-269e-47ce-e517-53563b31ad08"
      },
      "execution_count": 21,
      "outputs": [
        {
          "output_type": "stream",
          "name": "stdout",
          "text": [
            "30 1 4 14 19 6 "
          ]
        }
      ]
    },
    {
      "cell_type": "code",
      "source": [
        "def lottoFn():\n",
        "  lotto = [num for num in range(1, 46)]\n",
        "  size = len(lotto)\n",
        "  for i in range(6):\n",
        "    size -= 1\n",
        "    idx = random.randint(0, size)\n",
        "    result = lotto.pop(idx)\n",
        "    print(result, end=\" \")"
      ],
      "metadata": {
        "id": "EPp5k9kmjQy-"
      },
      "execution_count": 22,
      "outputs": []
    },
    {
      "cell_type": "code",
      "source": [
        "cnt = int(input(\" 구매 수량을 입력하세요\"))\n",
        "for i in range(cnt):\n",
        "  lottoFn()\n",
        "  print()"
      ],
      "metadata": {
        "colab": {
          "base_uri": "https://localhost:8080/"
        },
        "id": "HsPXIexEkBdN",
        "outputId": "42bbf398-d577-4a17-eab0-036c722e1e1b"
      },
      "execution_count": 25,
      "outputs": [
        {
          "output_type": "stream",
          "name": "stdout",
          "text": [
            " 구매 수량을 입력하세요4\n",
            "11 40 25 14 24 30 \n",
            "38 35 5 40 21 1 \n",
            "40 22 30 36 34 42 \n",
            "28 17 31 43 10 3 \n"
          ]
        }
      ]
    },
    {
      "cell_type": "code",
      "source": [
        "# 함수의 4가지유형\n",
        "# 1. 일반적인 형식 : 매개변수 , 결과값(반환값)\n",
        "def add(x, y):\n",
        "  return 2*x + 4*y + 5"
      ],
      "metadata": {
        "id": "gxMJMvcPkrQl"
      },
      "execution_count": 30,
      "outputs": []
    },
    {
      "cell_type": "code",
      "source": [
        "result = add(3, 5)\n",
        "print(result)"
      ],
      "metadata": {
        "colab": {
          "base_uri": "https://localhost:8080/"
        },
        "id": "IKSi1poxlV-X",
        "outputId": "cedfe2c9-8b74-4f68-da91-a8bae1ca8fe3"
      },
      "execution_count": 32,
      "outputs": [
        {
          "output_type": "stream",
          "name": "stdout",
          "text": [
            "31\n"
          ]
        }
      ]
    },
    {
      "cell_type": "code",
      "source": [
        "# 2.매개변수는 있고 결과값(반환값)이 없음\n",
        "def add(x, y):\n",
        "  print(2*x + 4*y + 5)"
      ],
      "metadata": {
        "id": "7fsMjaaJl990"
      },
      "execution_count": 33,
      "outputs": []
    },
    {
      "cell_type": "code",
      "source": [
        "add(3, 5)"
      ],
      "metadata": {
        "colab": {
          "base_uri": "https://localhost:8080/"
        },
        "id": "NyHnW1_hmUv8",
        "outputId": "ac84d3a6-aba8-4ed5-c09c-246310731331"
      },
      "execution_count": 34,
      "outputs": [
        {
          "output_type": "stream",
          "name": "stdout",
          "text": [
            "31\n"
          ]
        }
      ]
    },
    {
      "cell_type": "code",
      "source": [
        "# 3. 매개변수가 없고 반환값이 있는 경우\n",
        "def add():\n",
        "  x = 3\n",
        "  y = 5\n",
        "  return 2*x + 4*y + 5"
      ],
      "metadata": {
        "id": "RBstP_pymgfM"
      },
      "execution_count": 35,
      "outputs": []
    },
    {
      "cell_type": "code",
      "source": [
        "result = add()\n",
        "print(result)"
      ],
      "metadata": {
        "colab": {
          "base_uri": "https://localhost:8080/"
        },
        "id": "UO1Gyr6_mzqb",
        "outputId": "da53f274-5140-4858-ae38-a0942d24a99b"
      },
      "execution_count": 36,
      "outputs": [
        {
          "output_type": "stream",
          "name": "stdout",
          "text": [
            "31\n"
          ]
        }
      ]
    },
    {
      "cell_type": "code",
      "source": [
        "# 4. 매개변수 x, 반환값 x\n",
        "def add():\n",
        "  x = 3\n",
        "  y = 5\n",
        "  print(2*x + 4*y + 5)"
      ],
      "metadata": {
        "id": "sL_ve1Dnm-N9"
      },
      "execution_count": 38,
      "outputs": []
    },
    {
      "cell_type": "code",
      "source": [
        " add()"
      ],
      "metadata": {
        "colab": {
          "base_uri": "https://localhost:8080/"
        },
        "id": "RZ5yD0nZnR6D",
        "outputId": "e3d5aa54-a77d-48dc-dea6-95970d3026f2"
      },
      "execution_count": 39,
      "outputs": [
        {
          "output_type": "stream",
          "name": "stdout",
          "text": [
            "31\n"
          ]
        }
      ]
    },
    {
      "cell_type": "code",
      "source": [
        "startgop = int(input(\"시작곱\"))\n",
        "endgop = int(input(\"끝곱\"))\n",
        "for gop in range(startgop, endgop + 1):\n",
        "  print(f\" 3 * {gop} = {3 * gop}\")"
      ],
      "metadata": {
        "colab": {
          "base_uri": "https://localhost:8080/"
        },
        "id": "M8xNqbSWqE4k",
        "outputId": "32429dff-fda8-4e81-f8ea-ab5720c1765e"
      },
      "execution_count": 42,
      "outputs": [
        {
          "output_type": "stream",
          "name": "stdout",
          "text": [
            "시작곱2\n",
            "끝곱6\n",
            " 3 * 2 = 6\n",
            " 3 * 3 = 9\n",
            " 3 * 4 = 12\n",
            " 3 * 5 = 15\n",
            " 3 * 6 = 18\n"
          ]
        }
      ]
    },
    {
      "cell_type": "code",
      "source": [
        "def dan3(startgop , endgop):\n",
        "  for gop in range(startgop, endgop + 1):\n",
        "    print(f\" 3 * {gop} = {3 * gop}\")"
      ],
      "metadata": {
        "id": "LEoOGm7UrO5A"
      },
      "execution_count": 43,
      "outputs": []
    },
    {
      "cell_type": "code",
      "source": [
        "startgop = int(input(\"시작곱\"))\n",
        "endgop = int(input(\"끝곱\"))\n",
        "dan3(startgop, endgop)"
      ],
      "metadata": {
        "colab": {
          "base_uri": "https://localhost:8080/"
        },
        "id": "tuA0hKmfrarp",
        "outputId": "99a1b347-e884-4654-8d36-324b969e1e05"
      },
      "execution_count": 45,
      "outputs": [
        {
          "output_type": "stream",
          "name": "stdout",
          "text": [
            "시작곱2\n",
            "끝곱5\n",
            " 3 * 2 = 6\n",
            " 3 * 3 = 9\n",
            " 3 * 4 = 12\n",
            " 3 * 5 = 15\n"
          ]
        }
      ]
    },
    {
      "cell_type": "code",
      "source": [
        "def dan3():\n",
        "  startgop = int(input(\"시작곱\"))\n",
        "  endgop = int(input(\"끝곱\"))\n",
        "  for gop in range(startgop, endgop + 1):\n",
        "    print(f\" 3 * {gop} = {3 * gop}\")"
      ],
      "metadata": {
        "id": "J1sFCZlBrqCl"
      },
      "execution_count": 46,
      "outputs": []
    },
    {
      "cell_type": "code",
      "source": [
        "dan3()"
      ],
      "metadata": {
        "colab": {
          "base_uri": "https://localhost:8080/"
        },
        "id": "tRCWYwnus7F6",
        "outputId": "afc6bba4-31d2-4072-c61d-7fd877a047f3"
      },
      "execution_count": 47,
      "outputs": [
        {
          "output_type": "stream",
          "name": "stdout",
          "text": [
            "시작곱2\n",
            "끝곱5\n",
            " 3 * 2 = 6\n",
            " 3 * 3 = 9\n",
            " 3 * 4 = 12\n",
            " 3 * 5 = 15\n"
          ]
        }
      ]
    },
    {
      "cell_type": "code",
      "source": [
        "def calc(x1, x2, opt):\n",
        "  if opt == \"add\":\n",
        "    result = x1 + x2\n",
        "  elif opt == \"sub\":\n",
        "    result = x1 - x2\n",
        "  elif opt == \"mul\":\n",
        "    result = x1 * x2\n",
        "  else :\n",
        "    result = x1 / x2\n",
        "  return result"
      ],
      "metadata": {
        "id": "5m_fkyLYtKxP"
      },
      "execution_count": 52,
      "outputs": []
    },
    {
      "cell_type": "code",
      "source": [
        "y = calc(3 , 5, \"add\")\n",
        "print(y)\n",
        "# parameter이름을 이용해서 값을 전달\n",
        "y = calc(3 , 5, opt=\"add\")\n",
        "print(y)\n",
        "y = calc(x1 = 3 , x2 = 5, opt=\"add\")\n",
        "print(y)\n",
        "y = calc(x1 = 3 , opt=\"add\" , x2 = 5)\n",
        "print(y)\n",
        "y = calc(3 , opt=\"add\" , x2 = 5)\n",
        "print(y)\n",
        "#y = calc(3 , x2 = 5 , \"add\" ) # 중간에만 parameter이름을 사용할 수 없다.\n",
        "#print(y) # 오류 발생"
      ],
      "metadata": {
        "colab": {
          "base_uri": "https://localhost:8080/"
        },
        "id": "afa02vLztmNg",
        "outputId": "b4945e15-9c1a-457e-a280-859098d55cca"
      },
      "execution_count": 59,
      "outputs": [
        {
          "output_type": "stream",
          "name": "stdout",
          "text": [
            "8\n",
            "8\n",
            "8\n",
            "8\n",
            "8\n"
          ]
        }
      ]
    },
    {
      "cell_type": "code",
      "source": [
        "'''\n",
        "sum1(1)\n",
        "sum1(1,2,3,4,4,5)\n",
        "sum1(1,2,4,5)\n",
        "\n",
        "t = 1,2,3,4,5\n",
        "\n",
        "'''"
      ],
      "metadata": {
        "id": "V0WrKvlovNJw"
      },
      "execution_count": null,
      "outputs": []
    },
    {
      "cell_type": "code",
      "source": [
        "l = [1,2,3,4]\n",
        "result = sum(l)\n",
        "print(result)"
      ],
      "metadata": {
        "colab": {
          "base_uri": "https://localhost:8080/"
        },
        "id": "x98xttrgvYe1",
        "outputId": "4873b81d-8f88-4d55-dba8-987f8022e64d"
      },
      "execution_count": 62,
      "outputs": [
        {
          "output_type": "stream",
          "name": "stdout",
          "text": [
            "10\n"
          ]
        }
      ]
    },
    {
      "cell_type": "code",
      "source": [
        "sum = 10\n",
        "result = sum(l)\n",
        "print(result)"
      ],
      "metadata": {
        "colab": {
          "base_uri": "https://localhost:8080/",
          "height": 184
        },
        "id": "a6GAYzr3vk0r",
        "outputId": "1ffd6587-3928-4f05-9666-8029fb6e0ac8"
      },
      "execution_count": 66,
      "outputs": [
        {
          "output_type": "error",
          "ename": "TypeError",
          "evalue": "'int' object is not callable",
          "traceback": [
            "\u001b[0;31m---------------------------------------------------------------------------\u001b[0m",
            "\u001b[0;31mTypeError\u001b[0m                                 Traceback (most recent call last)",
            "\u001b[0;32m/tmp/ipython-input-2160058014.py\u001b[0m in \u001b[0;36m<cell line: 0>\u001b[0;34m()\u001b[0m\n\u001b[1;32m      1\u001b[0m \u001b[0msum\u001b[0m \u001b[0;34m=\u001b[0m \u001b[0;36m10\u001b[0m\u001b[0;34m\u001b[0m\u001b[0;34m\u001b[0m\u001b[0m\n\u001b[0;32m----> 2\u001b[0;31m \u001b[0mresult\u001b[0m \u001b[0;34m=\u001b[0m \u001b[0msum\u001b[0m\u001b[0;34m(\u001b[0m\u001b[0ml\u001b[0m\u001b[0;34m)\u001b[0m\u001b[0;34m\u001b[0m\u001b[0;34m\u001b[0m\u001b[0m\n\u001b[0m\u001b[1;32m      3\u001b[0m \u001b[0mprint\u001b[0m\u001b[0;34m(\u001b[0m\u001b[0mresult\u001b[0m\u001b[0;34m)\u001b[0m\u001b[0;34m\u001b[0m\u001b[0;34m\u001b[0m\u001b[0m\n",
            "\u001b[0;31mTypeError\u001b[0m: 'int' object is not callable"
          ]
        }
      ]
    },
    {
      "cell_type": "code",
      "source": [
        "del sum"
      ],
      "metadata": {
        "id": "dOev_Hcuv1-3"
      },
      "execution_count": 67,
      "outputs": []
    },
    {
      "cell_type": "code",
      "source": [
        "def sum1( * argu): # * 는 매개변수를 튜르변수로 만들어주는 연산자.\n",
        "  print(argu)"
      ],
      "metadata": {
        "id": "kqglZVQZwKYj"
      },
      "execution_count": 69,
      "outputs": []
    },
    {
      "cell_type": "code",
      "source": [
        "sum1(1)\n",
        "sum1(1,2,3,4,5)\n",
        "sum1(1,2,3,4)"
      ],
      "metadata": {
        "colab": {
          "base_uri": "https://localhost:8080/"
        },
        "id": "6veMA3bhwhDL",
        "outputId": "2be0a132-cf7d-4fbe-a3db-eb7d599f9766"
      },
      "execution_count": 72,
      "outputs": [
        {
          "output_type": "stream",
          "name": "stdout",
          "text": [
            "(1,)\n",
            "(1, 2, 3, 4, 5)\n",
            "(1, 2, 3, 4)\n"
          ]
        }
      ]
    },
    {
      "cell_type": "code",
      "source": [
        "'''\n",
        "add_mul(\"add\", 1,2,3,4,5,6)\n",
        "add_mul(\"mul\", 1,2,3,4)\n",
        "'''\n",
        "def add_mul(opt , * argu):\n",
        "  result = 2\n",
        "  if opt == \"add\":\n",
        "    result = sum(argu)\n",
        "  else:\n",
        "    for num in argu:\n",
        "      result *= num\n",
        "  print(result)"
      ],
      "metadata": {
        "id": "Tvrr-vIJv5Ab"
      },
      "execution_count": 75,
      "outputs": []
    },
    {
      "cell_type": "code",
      "source": [
        "add_mul(\"add\", 1,2,3,4,5,6)\n",
        "add_mul(\"mul\", 1,2,3,4)"
      ],
      "metadata": {
        "colab": {
          "base_uri": "https://localhost:8080/"
        },
        "id": "cdBBG5d1ySFQ",
        "outputId": "2ffda277-0fc6-425f-8fae-6fb6680f126d"
      },
      "execution_count": 76,
      "outputs": [
        {
          "output_type": "stream",
          "name": "stdout",
          "text": [
            "21\n",
            "48\n"
          ]
        }
      ]
    },
    {
      "cell_type": "code",
      "source": [
        "dic1 = {\"a\" : 1}\n",
        "print(dic1)\n",
        "dic1[\"b\"] = 2\n",
        "print(dic1)"
      ],
      "metadata": {
        "colab": {
          "base_uri": "https://localhost:8080/"
        },
        "id": "AuqfoPmJycMV",
        "outputId": "e8be9278-54b7-46f4-bb1f-29a7417e9fea"
      },
      "execution_count": 79,
      "outputs": [
        {
          "output_type": "stream",
          "name": "stdout",
          "text": [
            "{'a': 1}\n",
            "{'a': 1, 'b': 2}\n"
          ]
        }
      ]
    },
    {
      "cell_type": "code",
      "source": [
        "dic2(a = 10, b = 20)"
      ],
      "metadata": {
        "id": "v8C0O2dBzFYs"
      },
      "execution_count": null,
      "outputs": []
    },
    {
      "cell_type": "code",
      "source": [
        "def dic2( ** args): # **는 매개변수를 딕셔너리 변수로 만들어 줌\n",
        "  print(args)"
      ],
      "metadata": {
        "id": "G3vTemUozL02"
      },
      "execution_count": 80,
      "outputs": []
    },
    {
      "cell_type": "code",
      "source": [
        "dic2(a = 10, b = 20)"
      ],
      "metadata": {
        "colab": {
          "base_uri": "https://localhost:8080/"
        },
        "id": "sFMS88lQzYOB",
        "outputId": "2195e5ca-0320-424d-be6b-469c2dd6727f"
      },
      "execution_count": 81,
      "outputs": [
        {
          "output_type": "stream",
          "name": "stdout",
          "text": [
            "{'a': 10, 'b': 20}\n"
          ]
        }
      ]
    },
    {
      "cell_type": "code",
      "source": [
        "t = 1,2,3 # 튜플"
      ],
      "metadata": {
        "id": "BuvLBw6UyQta"
      },
      "execution_count": null,
      "outputs": []
    },
    {
      "cell_type": "code",
      "source": [
        "# 함수의 반환값은 오직 한개이다\n",
        "def add_mul(x1, x2):\n",
        "    return x1 + x2 # return 은 함수종료의 의미도 있다.\n",
        "    return x1 * x2 # 실행이 암됨"
      ],
      "metadata": {
        "id": "FE6Fx7c80IXF"
      },
      "execution_count": 82,
      "outputs": []
    },
    {
      "cell_type": "code",
      "source": [
        "y = add_mul(3, 5)\n",
        "print(y)"
      ],
      "metadata": {
        "colab": {
          "base_uri": "https://localhost:8080/"
        },
        "id": "Vu6KIvyA0K44",
        "outputId": "dcb9b1eb-dc2d-4884-ea54-9af63c3aeeff"
      },
      "execution_count": 83,
      "outputs": [
        {
          "output_type": "stream",
          "name": "stdout",
          "text": [
            "8\n"
          ]
        }
      ]
    },
    {
      "cell_type": "code",
      "source": [
        "def add_mul(x1, x2):\n",
        "    return (x1 + x2 , x1 * x2)"
      ],
      "metadata": {
        "id": "NUFZWKZM0wYV"
      },
      "execution_count": 84,
      "outputs": []
    },
    {
      "cell_type": "code",
      "source": [
        "y = add_mul(3, 5)\n",
        "print(y)"
      ],
      "metadata": {
        "colab": {
          "base_uri": "https://localhost:8080/"
        },
        "id": "oiqpg24e05EQ",
        "outputId": "568df009-af86-404e-ffbc-e1b6391cd59b"
      },
      "execution_count": 85,
      "outputs": [
        {
          "output_type": "stream",
          "name": "stdout",
          "text": [
            "(8, 15)\n"
          ]
        }
      ]
    },
    {
      "cell_type": "code",
      "source": [
        "def add_mul(x1, x2):\n",
        "    return x1 + x2 , x1 * x2"
      ],
      "metadata": {
        "id": "3timpPVD1EcC"
      },
      "execution_count": 86,
      "outputs": []
    },
    {
      "cell_type": "code",
      "source": [
        "y = add_mul(3, 5)\n",
        "print(y)"
      ],
      "metadata": {
        "colab": {
          "base_uri": "https://localhost:8080/"
        },
        "id": "qvIW880Y1H_n",
        "outputId": "f41cb784-3713-4e12-fae5-107ada3fae8f"
      },
      "execution_count": 87,
      "outputs": [
        {
          "output_type": "stream",
          "name": "stdout",
          "text": [
            "(8, 15)\n"
          ]
        }
      ]
    },
    {
      "cell_type": "code",
      "source": [
        "a, b = 10, 20\n",
        "a , b = add_mul(3, 5)\n",
        "print(a, b)"
      ],
      "metadata": {
        "colab": {
          "base_uri": "https://localhost:8080/"
        },
        "id": "2mAakWeQ1RE0",
        "outputId": "c7f95811-d05c-4a8f-c09e-932e1bf3ac5f"
      },
      "execution_count": 88,
      "outputs": [
        {
          "output_type": "stream",
          "name": "stdout",
          "text": [
            "8 15\n"
          ]
        }
      ]
    },
    {
      "cell_type": "code",
      "source": [
        "def say_myself(name, old, man):\n",
        "    print(f\"나의 이름은 {name}입니다.\")\n",
        "    print(f\"나의 나이는 {old}입니다.\")\n",
        "    if man:\n",
        "       print(\"나는 남자입니다.\")\n",
        "    else:\n",
        "       print(\"나는 여자입니다.\")"
      ],
      "metadata": {
        "id": "vvJw-sMw5KPs"
      },
      "execution_count": 89,
      "outputs": []
    },
    {
      "cell_type": "code",
      "source": [
        "say_myself(\"이숭무\", 35, True)"
      ],
      "metadata": {
        "colab": {
          "base_uri": "https://localhost:8080/"
        },
        "id": "KL9Tj1hU5mUV",
        "outputId": "e9bf5f45-26f3-40df-fd2a-0c87ce5824e4"
      },
      "execution_count": 90,
      "outputs": [
        {
          "output_type": "stream",
          "name": "stdout",
          "text": [
            "나의 이름은 이숭무입니다.\n",
            "나의 나이는 35입니다.\n",
            "나는 남자입니다.\n"
          ]
        }
      ]
    },
    {
      "cell_type": "code",
      "source": [
        "# 매개변수 초기값 주기\n",
        "def say_myself(name, old, man = True):\n",
        "    print(f\"나의 이름은 {name}입니다.\")\n",
        "    print(f\"나의 나이는 {old}입니다.\")\n",
        "    if man:\n",
        "       print(\"나는 남자입니다.\")\n",
        "    else:\n",
        "       print(\"나는 여자입니다.\")"
      ],
      "metadata": {
        "id": "-OSodnUE5wDs"
      },
      "execution_count": 91,
      "outputs": []
    },
    {
      "cell_type": "code",
      "source": [
        "say_myself(\"이숭무\", 35)\n",
        "say_myself(\"이숭무\", 35, False)"
      ],
      "metadata": {
        "colab": {
          "base_uri": "https://localhost:8080/"
        },
        "id": "dTDJraZ157Ck",
        "outputId": "9ed7d856-7d14-401f-fa2f-b7663866e922"
      },
      "execution_count": 93,
      "outputs": [
        {
          "output_type": "stream",
          "name": "stdout",
          "text": [
            "나의 이름은 이숭무입니다.\n",
            "나의 나이는 35입니다.\n",
            "나는 남자입니다.\n",
            "나의 이름은 이숭무입니다.\n",
            "나의 나이는 35입니다.\n",
            "나는 여자입니다.\n"
          ]
        }
      ]
    },
    {
      "cell_type": "code",
      "source": [
        "def say_myself(name, old = 30 , man = True):\n",
        "    print(f\"나의 이름은 {name}입니다.\")\n",
        "    print(f\"나의 나이는 {old}입니다.\")\n",
        "    if man:\n",
        "       print(\"나는 남자입니다.\")\n",
        "    else:\n",
        "       print(\"나는 여자입니다.\")"
      ],
      "metadata": {
        "id": "YkLoy9V16CNE"
      },
      "execution_count": 95,
      "outputs": []
    },
    {
      "cell_type": "code",
      "source": [
        "say_myself(\"이숭무\")\n",
        "say_myself(\"오연의\", 35,  False)"
      ],
      "metadata": {
        "colab": {
          "base_uri": "https://localhost:8080/"
        },
        "id": "eZpCEOu-6V33",
        "outputId": "07daa07b-2150-4125-9107-3982450be499"
      },
      "execution_count": 97,
      "outputs": [
        {
          "output_type": "stream",
          "name": "stdout",
          "text": [
            "나의 이름은 이숭무입니다.\n",
            "나의 나이는 30입니다.\n",
            "나는 남자입니다.\n",
            "나의 이름은 오연의입니다.\n",
            "나의 나이는 35입니다.\n",
            "나는 여자입니다.\n"
          ]
        }
      ]
    },
    {
      "cell_type": "code",
      "source": [
        "'''\n",
        "매개변수에 초기 값을 주는 경우에는 맨 뒤에서 부터 순차적으로 주는 것이 좋다.\n",
        "def say_myself(name, old = 30 , man):\n",
        "    print(f\"나의 이름은 {name}입니다.\")\n",
        "    print(f\"나의 나이는 {old}입니다.\")\n",
        "    if man:\n",
        "       print(\"나는 남자입니다.\")\n",
        "    else:\n",
        "       print(\"나는 여자입니다.\")\n",
        "\n",
        "say_myself(\"이숭무\", True)\n",
        "'''"
      ],
      "metadata": {
        "id": "A9x9rZjn6qOB"
      },
      "execution_count": null,
      "outputs": []
    },
    {
      "cell_type": "code",
      "source": [
        "### lambda함수 : 함수를 마치 변수처럼 선언해서 사용\n",
        "# 일반 함수\n",
        "def add(a, b):\n",
        "    return a + b\n",
        "y = add(3, 5)\n",
        "print(y)"
      ],
      "metadata": {
        "colab": {
          "base_uri": "https://localhost:8080/"
        },
        "id": "Xejq6bLP7gRJ",
        "outputId": "b0425600-725b-42b5-f7c1-f07fa2a743c0"
      },
      "execution_count": 100,
      "outputs": [
        {
          "output_type": "stream",
          "name": "stdout",
          "text": [
            "8\n"
          ]
        }
      ]
    },
    {
      "cell_type": "code",
      "source": [
        "add = lambda a, b : a + b\n",
        "y = add(3, 5)\n",
        "print(y)"
      ],
      "metadata": {
        "colab": {
          "base_uri": "https://localhost:8080/"
        },
        "id": "m2QtkwFS72RV",
        "outputId": "09359806-859d-4ea1-a7ae-234c00b8fbbd"
      },
      "execution_count": 101,
      "outputs": [
        {
          "output_type": "stream",
          "name": "stdout",
          "text": [
            "8\n"
          ]
        }
      ]
    },
    {
      "cell_type": "code",
      "source": [
        "def add(a, b):\n",
        "    print( a + b)\n",
        "add(3, 5)"
      ],
      "metadata": {
        "colab": {
          "base_uri": "https://localhost:8080/"
        },
        "id": "lAr1BWEw8LVv",
        "outputId": "67b5a011-d7ad-414b-e73c-8cfc9f8ac650"
      },
      "execution_count": 102,
      "outputs": [
        {
          "output_type": "stream",
          "name": "stdout",
          "text": [
            "8\n"
          ]
        }
      ]
    },
    {
      "cell_type": "code",
      "source": [
        "add = lambda a, b :  print( a + b)\n",
        "add(3, 5)"
      ],
      "metadata": {
        "colab": {
          "base_uri": "https://localhost:8080/"
        },
        "id": "BMZBHA4x8YSs",
        "outputId": "fd198b0d-29ca-4cc3-d434-070bb0ea9dd1"
      },
      "execution_count": 103,
      "outputs": [
        {
          "output_type": "stream",
          "name": "stdout",
          "text": [
            "8\n"
          ]
        }
      ]
    },
    {
      "cell_type": "code",
      "source": [
        "add = lambda :  print( 3 + 4)\n",
        "add()"
      ],
      "metadata": {
        "colab": {
          "base_uri": "https://localhost:8080/"
        },
        "id": "90-pSp6o8jcb",
        "outputId": "3e005815-0f77-46a2-9246-f3e1c2a57515"
      },
      "execution_count": 104,
      "outputs": [
        {
          "output_type": "stream",
          "name": "stdout",
          "text": [
            "7\n"
          ]
        }
      ]
    },
    {
      "cell_type": "code",
      "source": [
        "# 일반함수\n",
        "def calc(opt , a, b):\n",
        "    if opt == \"add\":\n",
        "        return a + b\n",
        "    else:\n",
        "        return a - b\n",
        "\n",
        "calc(\"add\", 3, 4)"
      ],
      "metadata": {
        "colab": {
          "base_uri": "https://localhost:8080/"
        },
        "id": "kZBqrUcv8uAG",
        "outputId": "bde1768a-79b9-4f77-8118-102bf5268f42"
      },
      "execution_count": 105,
      "outputs": [
        {
          "output_type": "execute_result",
          "data": {
            "text/plain": [
              "7"
            ]
          },
          "metadata": {},
          "execution_count": 105
        }
      ]
    },
    {
      "cell_type": "code",
      "source": [
        "calc = lambda  opt , a, b : a + b if opt == \"add\" else(\n",
        "                            a - b\n",
        "                          )\n",
        "calc(\"add\", 3, 4)"
      ],
      "metadata": {
        "colab": {
          "base_uri": "https://localhost:8080/"
        },
        "id": "1PP7hpxG8116",
        "outputId": "8b09c302-4f75-4ef4-8b0f-89b7d2108386"
      },
      "execution_count": 106,
      "outputs": [
        {
          "output_type": "execute_result",
          "data": {
            "text/plain": [
              "7"
            ]
          },
          "metadata": {},
          "execution_count": 106
        }
      ]
    },
    {
      "cell_type": "code",
      "source": [
        "# 일반함수\n",
        "def calc(opt , a, b):\n",
        "    if opt == \"add\":\n",
        "        return a + b\n",
        "    elif opt == \"sub\":\n",
        "        return a - b\n",
        "    elif opt == \"mul\":\n",
        "        return a * b\n",
        "    else:\n",
        "        return a / b\n",
        "\n",
        "calc(\"add\", 3, 4)"
      ],
      "metadata": {
        "id": "uwPRnXPJ9o9X"
      },
      "execution_count": null,
      "outputs": []
    },
    {
      "cell_type": "code",
      "source": [
        "calc = lambda opt , a, b : a + b if opt == \"add\" else(\n",
        "                           a - b if opt == \"sub\" else(\n",
        "                           a * b if opt == \"mul\" else(\n",
        "                           a /b\n",
        "                           ))\n",
        ")\n",
        "calc(\"add\", 3, 4)"
      ],
      "metadata": {
        "colab": {
          "base_uri": "https://localhost:8080/"
        },
        "id": "0GMcu8pw-FVf",
        "outputId": "b610a651-4863-47c8-8a11-6a1d51538358"
      },
      "execution_count": 107,
      "outputs": [
        {
          "output_type": "execute_result",
          "data": {
            "text/plain": [
              "7"
            ]
          },
          "metadata": {},
          "execution_count": 107
        }
      ]
    },
    {
      "cell_type": "code",
      "source": [
        "def add(a, b=4):\n",
        "    return a + b"
      ],
      "metadata": {
        "id": "7zM5ja7a-zA_"
      },
      "execution_count": null,
      "outputs": []
    },
    {
      "cell_type": "code",
      "source": [
        "add = lambda a, b=4 : a + b\n",
        "result = add(3)\n",
        "print(result)"
      ],
      "metadata": {
        "colab": {
          "base_uri": "https://localhost:8080/"
        },
        "id": "sh5qtucX-1t0",
        "outputId": "f9bbc5b4-aab2-411e-eb4a-907af1301905"
      },
      "execution_count": 108,
      "outputs": [
        {
          "output_type": "stream",
          "name": "stdout",
          "text": [
            "7\n"
          ]
        }
      ]
    },
    {
      "cell_type": "code",
      "source": [
        "#전역변수 : 프로그램 전체에서 사용 가능한 변수, 함수밖에 있는 변수\n",
        "#지역변수 : 함수안에 정의 되어 있는 변수 , 함수안에서만 사용가능한 변수"
      ],
      "metadata": {
        "id": "jlQ2s30i_K-u"
      },
      "execution_count": 112,
      "outputs": []
    },
    {
      "cell_type": "code",
      "source": [
        "b = 100\n",
        "def test2():\n",
        "  c1 = 200\n",
        "  print(\"전역 변수 : \" , b)\n",
        "  print(\"지역 변수 : \", c1)\n",
        "test2()"
      ],
      "metadata": {
        "colab": {
          "base_uri": "https://localhost:8080/"
        },
        "id": "67VCFPuK_135",
        "outputId": "480a19f7-4071-4eee-f1b8-f8f1e5309032"
      },
      "execution_count": 113,
      "outputs": [
        {
          "output_type": "stream",
          "name": "stdout",
          "text": [
            "전역 변수 :  100\n",
            "지역 변수 :  200\n"
          ]
        }
      ]
    },
    {
      "cell_type": "code",
      "source": [
        "b = 100\n",
        "def test2():\n",
        "  c1 = 200\n",
        "  b = 200\n",
        "  print(\"지역 변수 : \" , b)\n",
        "  print(\"지역 변수 : \", c1)\n",
        "test2()\n",
        "print(b)"
      ],
      "metadata": {
        "colab": {
          "base_uri": "https://localhost:8080/"
        },
        "id": "XhkksiW3AUon",
        "outputId": "9ffb14ee-0790-4d26-b663-519c4cb54bed"
      },
      "execution_count": 114,
      "outputs": [
        {
          "output_type": "stream",
          "name": "stdout",
          "text": [
            "지역 변수 :  200\n",
            "지역 변수 :  200\n",
            "100\n"
          ]
        }
      ]
    },
    {
      "cell_type": "code",
      "source": [
        "b = 100\n",
        "def test2():\n",
        "  global b\n",
        "  c1 = 200\n",
        "  b = 200\n",
        "  print(\"전역 변수 : \" , b)\n",
        "  print(\"지역 변수 : \", c1)\n",
        "test2()\n",
        "print(b)"
      ],
      "metadata": {
        "colab": {
          "base_uri": "https://localhost:8080/"
        },
        "id": "5P9V1X0fApye",
        "outputId": "08df2d01-c55a-40aa-8ad9-6046c7f14c1c"
      },
      "execution_count": 115,
      "outputs": [
        {
          "output_type": "stream",
          "name": "stdout",
          "text": [
            "전역 변수 :  200\n",
            "지역 변수 :  200\n",
            "200\n"
          ]
        }
      ]
    },
    {
      "cell_type": "code",
      "source": [
        "# 파일입출력 : open()함수\n",
        "# open(file, mode='r', buffering=None, encoding=None, errors=None, newline=None, closefd=True):\n",
        "#f = open(\"/mnt/test.txt\", 'w', encoding=\"utf-8\")\n",
        "#f = open(\"C:/Users/soldesk/Desktop/test.txt\", 'w', encoding=\"utf-8\")"
      ],
      "metadata": {
        "id": "ugl-viy-B071"
      },
      "execution_count": 117,
      "outputs": []
    },
    {
      "cell_type": "code",
      "source": [
        "# 현재 경로를 확인 하자 ,\n",
        "#리눅스인 경우\n",
        "!pwd\n",
        "# windows 인경우\n",
        "import os\n",
        "os.getcwd()"
      ],
      "metadata": {
        "colab": {
          "base_uri": "https://localhost:8080/",
          "height": 54
        },
        "id": "6okiJKuNDmp5",
        "outputId": "ce02ebd5-b142-4bfa-823f-efad1a6ea717"
      },
      "execution_count": 118,
      "outputs": [
        {
          "output_type": "stream",
          "name": "stdout",
          "text": [
            "/content\n"
          ]
        },
        {
          "output_type": "execute_result",
          "data": {
            "text/plain": [
              "'/content'"
            ],
            "application/vnd.google.colaboratory.intrinsic+json": {
              "type": "string"
            }
          },
          "metadata": {},
          "execution_count": 118
        }
      ]
    },
    {
      "cell_type": "code",
      "source": [
        "f = open(\"test.txt\", 'w', encoding=\"utf-8\")\n",
        "f.write(\"1번째 줄입니다.\\n\")\n",
        "f.write(\"2번째 줄입니다.\\n\")\n",
        "f.write(\"3번째 줄입니다.\\n\")\n",
        "f.write(\"4번째 줄입니다.\\n\")\n",
        "f.write(\"5번째 줄입니다.\\n\")\n",
        "f.close()"
      ],
      "metadata": {
        "id": "q1nnPd8_GbaZ"
      },
      "execution_count": 119,
      "outputs": []
    },
    {
      "cell_type": "code",
      "source": [
        "f = open(\"test.txt\", 'w', encoding=\"utf-8\")\n",
        "for i in range(6, 11):\n",
        "  f.write(f\"{i}번째 줄입니다.\\n\")\n",
        "f.close()"
      ],
      "metadata": {
        "id": "QYzZ3dQhG9DN"
      },
      "execution_count": 120,
      "outputs": []
    },
    {
      "cell_type": "code",
      "source": [
        "f = open(\"test.txt\", 'a', encoding=\"utf-8\")\n",
        "for i in range(11, 16):\n",
        "  f.write(f\"{i}번째 줄입니다.\\n\")\n",
        "f.close()"
      ],
      "metadata": {
        "id": "m2nHPsjaHp7n"
      },
      "execution_count": 121,
      "outputs": []
    },
    {
      "cell_type": "code",
      "source": [
        "f = open(\"test.txt\", 'r', encoding=\"utf-8\")\n",
        "line = f.readline()\n",
        "print(line)\n",
        "line = f.readline()\n",
        "print(line)\n",
        "f.close()\n",
        "\n",
        "#line = f.readline()\n",
        "#print(line)"
      ],
      "metadata": {
        "colab": {
          "base_uri": "https://localhost:8080/",
          "height": 276
        },
        "id": "nSsooDGbH4FH",
        "outputId": "65fcfb65-7a0d-44c1-cce7-1706f60f64e6"
      },
      "execution_count": 124,
      "outputs": [
        {
          "output_type": "stream",
          "name": "stdout",
          "text": [
            "6번째 줄입니다.\n",
            "\n",
            "7번째 줄입니다.\n",
            "\n"
          ]
        },
        {
          "output_type": "error",
          "ename": "ValueError",
          "evalue": "I/O operation on closed file.",
          "traceback": [
            "\u001b[0;31m---------------------------------------------------------------------------\u001b[0m",
            "\u001b[0;31mValueError\u001b[0m                                Traceback (most recent call last)",
            "\u001b[0;32m/tmp/ipython-input-127603726.py\u001b[0m in \u001b[0;36m<cell line: 0>\u001b[0;34m()\u001b[0m\n\u001b[1;32m      5\u001b[0m \u001b[0mprint\u001b[0m\u001b[0;34m(\u001b[0m\u001b[0mline\u001b[0m\u001b[0;34m)\u001b[0m\u001b[0;34m\u001b[0m\u001b[0;34m\u001b[0m\u001b[0m\n\u001b[1;32m      6\u001b[0m \u001b[0mf\u001b[0m\u001b[0;34m.\u001b[0m\u001b[0mclose\u001b[0m\u001b[0;34m(\u001b[0m\u001b[0;34m)\u001b[0m\u001b[0;34m\u001b[0m\u001b[0;34m\u001b[0m\u001b[0m\n\u001b[0;32m----> 7\u001b[0;31m \u001b[0mline\u001b[0m \u001b[0;34m=\u001b[0m \u001b[0mf\u001b[0m\u001b[0;34m.\u001b[0m\u001b[0mreadline\u001b[0m\u001b[0;34m(\u001b[0m\u001b[0;34m)\u001b[0m\u001b[0;34m\u001b[0m\u001b[0;34m\u001b[0m\u001b[0m\n\u001b[0m\u001b[1;32m      8\u001b[0m \u001b[0mprint\u001b[0m\u001b[0;34m(\u001b[0m\u001b[0mline\u001b[0m\u001b[0;34m)\u001b[0m\u001b[0;34m\u001b[0m\u001b[0;34m\u001b[0m\u001b[0m\n",
            "\u001b[0;31mValueError\u001b[0m: I/O operation on closed file."
          ]
        }
      ]
    },
    {
      "cell_type": "code",
      "source": [
        "f = open(\"test.txt\", 'r', encoding=\"utf-8\")\n",
        "while True:\n",
        "  line = f.readline()\n",
        "  if not line:\n",
        "    break\n",
        "  print(line)\n",
        "f.close()"
      ],
      "metadata": {
        "colab": {
          "base_uri": "https://localhost:8080/"
        },
        "id": "dHd1bgUYITBV",
        "outputId": "d0a79a9a-0e6d-4347-9fe2-baea661aefcd"
      },
      "execution_count": 125,
      "outputs": [
        {
          "output_type": "stream",
          "name": "stdout",
          "text": [
            "6번째 줄입니다.\n",
            "\n",
            "7번째 줄입니다.\n",
            "\n",
            "8번째 줄입니다.\n",
            "\n",
            "9번째 줄입니다.\n",
            "\n",
            "10번째 줄입니다.\n",
            "\n",
            "11번째 줄입니다.\n",
            "\n",
            "12번째 줄입니다.\n",
            "\n",
            "13번째 줄입니다.\n",
            "\n",
            "14번째 줄입니다.\n",
            "\n",
            "15번째 줄입니다.\n",
            "\n"
          ]
        }
      ]
    },
    {
      "cell_type": "code",
      "source": [
        "f = open(\"test.txt\", 'r', encoding=\"utf-8\")\n",
        "lines = f.readlines()\n",
        "f.close()\n",
        "print(lines)\n",
        "print(\"\".join(lines))"
      ],
      "metadata": {
        "colab": {
          "base_uri": "https://localhost:8080/"
        },
        "id": "EN7TkyI-I5-A",
        "outputId": "455c4301-2c16-465c-c735-ecc96f3c4936"
      },
      "execution_count": 127,
      "outputs": [
        {
          "output_type": "stream",
          "name": "stdout",
          "text": [
            "['6번째 줄입니다.\\n', '7번째 줄입니다.\\n', '8번째 줄입니다.\\n', '9번째 줄입니다.\\n', '10번째 줄입니다.\\n', '11번째 줄입니다.\\n', '12번째 줄입니다.\\n', '13번째 줄입니다.\\n', '14번째 줄입니다.\\n', '15번째 줄입니다.\\n']\n",
            "6번째 줄입니다.\n",
            "7번째 줄입니다.\n",
            "8번째 줄입니다.\n",
            "9번째 줄입니다.\n",
            "10번째 줄입니다.\n",
            "11번째 줄입니다.\n",
            "12번째 줄입니다.\n",
            "13번째 줄입니다.\n",
            "14번째 줄입니다.\n",
            "15번째 줄입니다.\n",
            "\n"
          ]
        }
      ]
    },
    {
      "cell_type": "code",
      "source": [
        "f = open(\"test.txt\", 'r', encoding=\"utf-8\")\n",
        "data = f.read()\n",
        "f.close()\n",
        "print(data)"
      ],
      "metadata": {
        "colab": {
          "base_uri": "https://localhost:8080/"
        },
        "id": "7KLkr7r-JX2V",
        "outputId": "dfc005c9-beb1-4621-ae1a-92a846c47fdf"
      },
      "execution_count": 128,
      "outputs": [
        {
          "output_type": "stream",
          "name": "stdout",
          "text": [
            "6번째 줄입니다.\n",
            "7번째 줄입니다.\n",
            "8번째 줄입니다.\n",
            "9번째 줄입니다.\n",
            "10번째 줄입니다.\n",
            "11번째 줄입니다.\n",
            "12번째 줄입니다.\n",
            "13번째 줄입니다.\n",
            "14번째 줄입니다.\n",
            "15번째 줄입니다.\n",
            "\n"
          ]
        }
      ]
    },
    {
      "cell_type": "code",
      "source": [
        "with open(\"test.txt\", 'r', encoding=\"utf-8\") as f:\n",
        "  data = f.read()\n",
        "  print(data)"
      ],
      "metadata": {
        "colab": {
          "base_uri": "https://localhost:8080/"
        },
        "id": "PFiItfaPJqSN",
        "outputId": "f34d989f-ea2f-4381-9e95-8a395dc2bba8"
      },
      "execution_count": 129,
      "outputs": [
        {
          "output_type": "stream",
          "name": "stdout",
          "text": [
            "6번째 줄입니다.\n",
            "7번째 줄입니다.\n",
            "8번째 줄입니다.\n",
            "9번째 줄입니다.\n",
            "10번째 줄입니다.\n",
            "11번째 줄입니다.\n",
            "12번째 줄입니다.\n",
            "13번째 줄입니다.\n",
            "14번째 줄입니다.\n",
            "15번째 줄입니다.\n",
            "\n"
          ]
        }
      ]
    },
    {
      "cell_type": "code",
      "source": [
        "with open(\"test.txt\", 'w', encoding=\"utf-8\") as f:\n",
        "  for i in range(1, 6):\n",
        "    f.write(f\"{i}번째 줄입니다.\\n\")"
      ],
      "metadata": {
        "id": "us0hIiQ9KIBN"
      },
      "execution_count": 132,
      "outputs": []
    },
    {
      "cell_type": "code",
      "source": [
        "with open(\"test.txt\", 'a', encoding=\"utf-8\") as f:\n",
        "  for i in range(6, 11):\n",
        "    f.write(f\"{i}번째 줄입니다.\\n\")"
      ],
      "metadata": {
        "id": "ly9GRLVLKYw9"
      },
      "execution_count": 133,
      "outputs": []
    },
    {
      "cell_type": "code",
      "source": [
        "# mode : r, w, a, rb, wb, ab\n",
        "\n",
        "# 자료형 : 변수\n",
        "#          함수\n",
        "b = 1\n",
        "def add():  #  함수\n",
        "    global b\n",
        "    b= 100\n",
        "    c = 200\n",
        "    print(b)"
      ],
      "metadata": {
        "id": "P8h88gZCKqqN"
      },
      "execution_count": null,
      "outputs": []
    },
    {
      "cell_type": "code",
      "source": [
        "# class : 변수 ,함수를 하나로 묶은 것  : 클래스명은 단어의 첫글자가 대문자여야 한다.\n",
        "class TestClass:\n",
        "  b = 1 # 클래스변수 , 멤버필드, 멤버변수\n",
        "  def test(self): # 메서드 : self매개변수를 사용해서 클래스변수를 불러온다.\n",
        "    c = 100\n",
        "    print(self.b)"
      ],
      "metadata": {
        "id": "0BabdNk2hRIX"
      },
      "execution_count": 142,
      "outputs": []
    },
    {
      "cell_type": "code",
      "source": [
        "a = TestClass() # a 객체\n",
        "a.test()\n",
        "a.b = 100\n",
        "a.test()"
      ],
      "metadata": {
        "colab": {
          "base_uri": "https://localhost:8080/"
        },
        "id": "la7U70xwisx0",
        "outputId": "d8bfdfa0-9027-4e91-ef34-571f26413e1e"
      },
      "execution_count": 146,
      "outputs": [
        {
          "output_type": "stream",
          "name": "stdout",
          "text": [
            "1\n",
            "100\n"
          ]
        }
      ]
    },
    {
      "cell_type": "code",
      "source": [
        "n = TestClass() # n객체\n",
        "n.test()\n",
        "n.b = 200\n",
        "n.test()"
      ],
      "metadata": {
        "colab": {
          "base_uri": "https://localhost:8080/"
        },
        "id": "Ez6XcQzlkK71",
        "outputId": "a6702298-ed81-4e8f-95c3-4711319759df"
      },
      "execution_count": 147,
      "outputs": [
        {
          "output_type": "stream",
          "name": "stdout",
          "text": [
            "1\n",
            "200\n"
          ]
        }
      ]
    },
    {
      "cell_type": "code",
      "source": [
        "# 클래스변수는 클래스 내에서 선언을 생략할수 있다.\n",
        "# 클래스변수를 선언한 경우에는 초기값을 주어야 한다.\n",
        "class TestClass:\n",
        "  #  result = 0 클래스변수를 생략\n",
        "  def f(self, x):\n",
        "    self.result =  2 * x + 3\n",
        "    return self.result"
      ],
      "metadata": {
        "id": "Ut1uZEX_lP32"
      },
      "execution_count": 166,
      "outputs": []
    },
    {
      "cell_type": "code",
      "source": [
        "a = TestClass()\n",
        "y = a.f(5)\n",
        "print(y)\n",
        "print(a.result)"
      ],
      "metadata": {
        "colab": {
          "base_uri": "https://localhost:8080/"
        },
        "id": "vEKnbJWwmDva",
        "outputId": "3921071d-f669-42f2-965b-7a518442ccf2"
      },
      "execution_count": 165,
      "outputs": [
        {
          "output_type": "stream",
          "name": "stdout",
          "text": [
            "13\n",
            "13\n"
          ]
        }
      ]
    },
    {
      "cell_type": "code",
      "source": [
        "class TestClass:\n",
        "  def f(self, x , y):\n",
        "    self.first = x\n",
        "    self.second = y\n",
        "    self.result = self.first + self.second"
      ],
      "metadata": {
        "id": "f5GfxDHZm9n6"
      },
      "execution_count": 168,
      "outputs": []
    },
    {
      "cell_type": "code",
      "source": [
        "a = TestClass()\n",
        "a.f(10, 20)\n",
        "print(a.result)"
      ],
      "metadata": {
        "colab": {
          "base_uri": "https://localhost:8080/"
        },
        "id": "v1ABqNqinXEP",
        "outputId": "b9610144-8618-4748-adda-c95e45444688"
      },
      "execution_count": 169,
      "outputs": [
        {
          "output_type": "stream",
          "name": "stdout",
          "text": [
            "30\n"
          ]
        }
      ]
    },
    {
      "cell_type": "code",
      "source": [
        "class Calculator:\n",
        "  def setData(self, first, second): # 클래스변수를 초기화하기\n",
        "    self.first = first\n",
        "    self.second = second\n",
        "  def add(self): # 메서드\n",
        "    self.result = self.first + self.second\n",
        "  def div(self):\n",
        "    self.result = self.first / self.second"
      ],
      "metadata": {
        "id": "PO5VF0T2oGNU"
      },
      "execution_count": 172,
      "outputs": []
    },
    {
      "cell_type": "code",
      "source": [
        "a = Calculator()\n",
        "a.setData(10, 20)\n",
        "print(a.first)\n",
        "print(a.second)\n",
        "a.add()\n",
        "print(a.result)"
      ],
      "metadata": {
        "colab": {
          "base_uri": "https://localhost:8080/"
        },
        "id": "nfYGIX0Zp0cv",
        "outputId": "21878f74-2d30-45bb-ddb9-ea78ab7a8153"
      },
      "execution_count": 175,
      "outputs": [
        {
          "output_type": "stream",
          "name": "stdout",
          "text": [
            "10\n",
            "20\n",
            "30\n"
          ]
        }
      ]
    },
    {
      "cell_type": "code",
      "source": [
        "b = Calculator() # 객체\n",
        "b.setData(30, 40)\n",
        "print(b.first)\n",
        "print(b.second)\n",
        "print(a.first)"
      ],
      "metadata": {
        "colab": {
          "base_uri": "https://localhost:8080/"
        },
        "id": "wr2KDXwuqv0g",
        "outputId": "776151e4-28c6-4093-bc52-22dff23655bc"
      },
      "execution_count": 177,
      "outputs": [
        {
          "output_type": "stream",
          "name": "stdout",
          "text": [
            "30\n",
            "40\n",
            "10\n"
          ]
        }
      ]
    },
    {
      "cell_type": "code",
      "source": [
        "class Calculator:\n",
        "  def __init__(self, first, second): # 클래스변수를 초기화하기 : 생성자 : Constructor\n",
        "    self.first = first\n",
        "    self.second = second\n",
        "  def add(self): # 메서드\n",
        "    self.result = self.first + self.second\n",
        "  def div(self):\n",
        "    self.result = self.first / self.second"
      ],
      "metadata": {
        "id": "QBpggGGDr0Ze"
      },
      "execution_count": 181,
      "outputs": []
    },
    {
      "cell_type": "code",
      "source": [
        "a  = Calculator(10, 20)\n",
        "print(a.first)\n",
        "print(a.second)\n",
        "# a  = Calculator()\n",
        "# TypeError: Calculator.__init__() missing 2 required positional arguments: 'first' and 'second'"
      ],
      "metadata": {
        "colab": {
          "base_uri": "https://localhost:8080/",
          "height": 221
        },
        "id": "k2tJ4DfmsA4G",
        "outputId": "2f86b5a6-48ac-4089-ab00-b62a3cfa21a7"
      },
      "execution_count": 184,
      "outputs": [
        {
          "output_type": "stream",
          "name": "stdout",
          "text": [
            "10\n",
            "20\n"
          ]
        },
        {
          "output_type": "error",
          "ename": "TypeError",
          "evalue": "Calculator.__init__() missing 2 required positional arguments: 'first' and 'second'",
          "traceback": [
            "\u001b[0;31m---------------------------------------------------------------------------\u001b[0m",
            "\u001b[0;31mTypeError\u001b[0m                                 Traceback (most recent call last)",
            "\u001b[0;32m/tmp/ipython-input-2747561133.py\u001b[0m in \u001b[0;36m<cell line: 0>\u001b[0;34m()\u001b[0m\n\u001b[1;32m      2\u001b[0m \u001b[0mprint\u001b[0m\u001b[0;34m(\u001b[0m\u001b[0ma\u001b[0m\u001b[0;34m.\u001b[0m\u001b[0mfirst\u001b[0m\u001b[0;34m)\u001b[0m\u001b[0;34m\u001b[0m\u001b[0;34m\u001b[0m\u001b[0m\n\u001b[1;32m      3\u001b[0m \u001b[0mprint\u001b[0m\u001b[0;34m(\u001b[0m\u001b[0ma\u001b[0m\u001b[0;34m.\u001b[0m\u001b[0msecond\u001b[0m\u001b[0;34m)\u001b[0m\u001b[0;34m\u001b[0m\u001b[0;34m\u001b[0m\u001b[0m\n\u001b[0;32m----> 4\u001b[0;31m \u001b[0ma\u001b[0m  \u001b[0;34m=\u001b[0m \u001b[0mCalculator\u001b[0m\u001b[0;34m(\u001b[0m\u001b[0;34m)\u001b[0m\u001b[0;34m\u001b[0m\u001b[0;34m\u001b[0m\u001b[0m\n\u001b[0m",
            "\u001b[0;31mTypeError\u001b[0m: Calculator.__init__() missing 2 required positional arguments: 'first' and 'second'"
          ]
        }
      ]
    },
    {
      "cell_type": "code",
      "source": [
        "class FourCal(Calculator): # 상속 : 다른 클래스로 부터 기능을 받아오는 것\n",
        "    # def __init__(self, first, second):\n",
        "    #     self.first = first\n",
        "    #     self.second = second\n",
        "    # def add(self):\n",
        "    #     self.result = self.first + self.second\n",
        "    # def div(self):\n",
        "    #     self.result = self.first / self.second\n",
        "    def mul(self):\n",
        "        self.result = self.first * self.second\n",
        "    def sub(self):\n",
        "        self.result = self.first - self.second"
      ],
      "metadata": {
        "id": "LN6pXdAMuRj2"
      },
      "execution_count": 186,
      "outputs": []
    },
    {
      "cell_type": "code",
      "source": [
        "calc = FourCal(10, 20)\n",
        "calc.add()\n",
        "print(calc.result)\n",
        "calc.mul()\n",
        "print(calc.result)"
      ],
      "metadata": {
        "colab": {
          "base_uri": "https://localhost:8080/"
        },
        "id": "wxTgUlu2wnc7",
        "outputId": "76c10ab3-f207-4872-ab6b-5f3d095f9c06"
      },
      "execution_count": 190,
      "outputs": [
        {
          "output_type": "stream",
          "name": "stdout",
          "text": [
            "30\n",
            "200\n"
          ]
        }
      ]
    },
    {
      "cell_type": "code",
      "source": [
        "a = FourCal(0, 15) # self.result : 0 / 15  = 0\n",
        "a.div()\n",
        "print(a.result)"
      ],
      "metadata": {
        "colab": {
          "base_uri": "https://localhost:8080/"
        },
        "id": "xG_9FUaPucVZ",
        "outputId": "3d4f26e0-1bc5-4b5c-ff48-b13472358843"
      },
      "execution_count": 193,
      "outputs": [
        {
          "output_type": "stream",
          "name": "stdout",
          "text": [
            "0.0\n"
          ]
        }
      ]
    },
    {
      "cell_type": "code",
      "source": [
        "a = FourCal(15, 0) # self.result : 15 / 0 : 불능\n",
        "a.div()\n",
        "print(a.result)\n",
        "# division by zero"
      ],
      "metadata": {
        "colab": {
          "base_uri": "https://localhost:8080/",
          "height": 276
        },
        "id": "LONlt0NAyssZ",
        "outputId": "d09cffec-b73b-4671-e788-1d5c01161e5b"
      },
      "execution_count": 194,
      "outputs": [
        {
          "output_type": "error",
          "ename": "ZeroDivisionError",
          "evalue": "division by zero",
          "traceback": [
            "\u001b[0;31m---------------------------------------------------------------------------\u001b[0m",
            "\u001b[0;31mZeroDivisionError\u001b[0m                         Traceback (most recent call last)",
            "\u001b[0;32m/tmp/ipython-input-3428049535.py\u001b[0m in \u001b[0;36m<cell line: 0>\u001b[0;34m()\u001b[0m\n\u001b[1;32m      1\u001b[0m \u001b[0ma\u001b[0m \u001b[0;34m=\u001b[0m \u001b[0mFourCal\u001b[0m\u001b[0;34m(\u001b[0m\u001b[0;36m15\u001b[0m\u001b[0;34m,\u001b[0m \u001b[0;36m0\u001b[0m\u001b[0;34m)\u001b[0m \u001b[0;31m# self.result : 15 / 0 : 불능\u001b[0m\u001b[0;34m\u001b[0m\u001b[0;34m\u001b[0m\u001b[0m\n\u001b[0;32m----> 2\u001b[0;31m \u001b[0ma\u001b[0m\u001b[0;34m.\u001b[0m\u001b[0mdiv\u001b[0m\u001b[0;34m(\u001b[0m\u001b[0;34m)\u001b[0m\u001b[0;34m\u001b[0m\u001b[0;34m\u001b[0m\u001b[0m\n\u001b[0m\u001b[1;32m      3\u001b[0m \u001b[0mprint\u001b[0m\u001b[0;34m(\u001b[0m\u001b[0ma\u001b[0m\u001b[0;34m.\u001b[0m\u001b[0mresult\u001b[0m\u001b[0;34m)\u001b[0m\u001b[0;34m\u001b[0m\u001b[0;34m\u001b[0m\u001b[0m\n",
            "\u001b[0;32m/tmp/ipython-input-2039070003.py\u001b[0m in \u001b[0;36mdiv\u001b[0;34m(self)\u001b[0m\n\u001b[1;32m      6\u001b[0m     \u001b[0mself\u001b[0m\u001b[0;34m.\u001b[0m\u001b[0mresult\u001b[0m \u001b[0;34m=\u001b[0m \u001b[0mself\u001b[0m\u001b[0;34m.\u001b[0m\u001b[0mfirst\u001b[0m \u001b[0;34m+\u001b[0m \u001b[0mself\u001b[0m\u001b[0;34m.\u001b[0m\u001b[0msecond\u001b[0m\u001b[0;34m\u001b[0m\u001b[0;34m\u001b[0m\u001b[0m\n\u001b[1;32m      7\u001b[0m   \u001b[0;32mdef\u001b[0m \u001b[0mdiv\u001b[0m\u001b[0;34m(\u001b[0m\u001b[0mself\u001b[0m\u001b[0;34m)\u001b[0m\u001b[0;34m:\u001b[0m\u001b[0;34m\u001b[0m\u001b[0;34m\u001b[0m\u001b[0m\n\u001b[0;32m----> 8\u001b[0;31m     \u001b[0mself\u001b[0m\u001b[0;34m.\u001b[0m\u001b[0mresult\u001b[0m \u001b[0;34m=\u001b[0m \u001b[0mself\u001b[0m\u001b[0;34m.\u001b[0m\u001b[0mfirst\u001b[0m \u001b[0;34m/\u001b[0m \u001b[0mself\u001b[0m\u001b[0;34m.\u001b[0m\u001b[0msecond\u001b[0m\u001b[0;34m\u001b[0m\u001b[0;34m\u001b[0m\u001b[0m\n\u001b[0m",
            "\u001b[0;31mZeroDivisionError\u001b[0m: division by zero"
          ]
        }
      ]
    },
    {
      "cell_type": "code",
      "source": [
        "# 상속해준 class : 부모클래스\n",
        "# 상속 받은  class : 자식클래스\n",
        "class FourCal(Calculator): # 상속 : 다른 클래스로 부터 기능을 받아오는 것\n",
        "    def mul(self):\n",
        "        self.result = self.first * self.second\n",
        "    def sub(self):\n",
        "        self.result = self.first - self.second\n",
        "    def div(self): # override : 재정의\n",
        "        if self.second == 0:\n",
        "           self.result = 0\n",
        "        else :\n",
        "          self.result = self.first / self.second"
      ],
      "metadata": {
        "id": "-ZMyH5sfzNW6"
      },
      "execution_count": 197,
      "outputs": []
    },
    {
      "cell_type": "code",
      "source": [
        "a = FourCal(15, 0) # self.result : 15 / 0 : 불능\n",
        "a.div()\n",
        "print(a.result)"
      ],
      "metadata": {
        "colab": {
          "base_uri": "https://localhost:8080/"
        },
        "id": "fNGf8ZKd0Df4",
        "outputId": "26ddaebe-dfd9-4901-b949-832613b30bbd"
      },
      "execution_count": 198,
      "outputs": [
        {
          "output_type": "stream",
          "name": "stdout",
          "text": [
            "0\n"
          ]
        }
      ]
    },
    {
      "cell_type": "markdown",
      "source": [
        "class란 변수와 함수 반복적으로 사용하기 위해서 사용\n",
        "\n",
        "*클래스내에 정의된 변수를 클래스 변수라고 하며 클래스변수는 초기화되어 있어야 한다.\n",
        "*특징 : init : 생성자\n",
        "        상속 :  자식클래스에서 부모클래스의 속성(변수, 메서드, 생성자)을 받아오는 것\n",
        "        재정의 (override):부모클래스로부터 받은 메서드를 자식클래스에서 다시 정의하는 것"
      ],
      "metadata": {
        "id": "bfUJRulV0nG4"
      }
    },
    {
      "cell_type": "code",
      "source": [
        "# 모듈 : 클래스 함수 변수 상수 객체들을 하나로 묶어 놓은 파일\n",
        "import random\n",
        "num = random.randint(1, 10)\n",
        "print(num)"
      ],
      "metadata": {
        "colab": {
          "base_uri": "https://localhost:8080/"
        },
        "id": "5DMC9uET1M1M",
        "outputId": "db0c4ccb-8e06-48d9-ed8c-2679d795ff1e"
      },
      "execution_count": 200,
      "outputs": [
        {
          "output_type": "stream",
          "name": "stdout",
          "text": [
            "1\n"
          ]
        }
      ]
    },
    {
      "cell_type": "code",
      "source": [
        "import mod1\n",
        "print(mod1.a)\n",
        "num = mod1.randint(3)\n",
        "print(num)\n",
        "calc = mod1.Calculator(10, 20)"
      ],
      "metadata": {
        "colab": {
          "base_uri": "https://localhost:8080/"
        },
        "id": "6tei638a2nFW",
        "outputId": "436c02a0-aead-44fc-f8cf-e49012aeb932"
      },
      "execution_count": 207,
      "outputs": [
        {
          "output_type": "stream",
          "name": "stdout",
          "text": [
            "10\n",
            "15\n"
          ]
        }
      ]
    },
    {
      "cell_type": "code",
      "source": [
        "from mod1 import a, randint\n",
        "print(a)\n",
        "# c = Calculator(10, 20)"
      ],
      "metadata": {
        "colab": {
          "base_uri": "https://localhost:8080/"
        },
        "id": "I6XxVw5c4J4b",
        "outputId": "11dcd472-3258-4caa-aa05-ec30a8cfac09"
      },
      "execution_count": 209,
      "outputs": [
        {
          "output_type": "stream",
          "name": "stdout",
          "text": [
            "10\n"
          ]
        }
      ]
    },
    {
      "cell_type": "code",
      "source": [
        "from mod1 import *\n",
        "print(a)"
      ],
      "metadata": {
        "colab": {
          "base_uri": "https://localhost:8080/"
        },
        "id": "tK3VN48Q4q21",
        "outputId": "311452a2-3e96-46f4-d062-f8d9c3112852"
      },
      "execution_count": 210,
      "outputs": [
        {
          "output_type": "stream",
          "name": "stdout",
          "text": [
            "10\n"
          ]
        }
      ]
    },
    {
      "cell_type": "code",
      "source": [
        "# 스크래핑 : 웹 문서에 있는 코드 모두를 다 가지고 오는 것\n",
        "# 크롤링 : 스크래핑한 코드에서 원하는 내용만 추출해오는 것"
      ],
      "metadata": {
        "id": "Uk2q8kBu5Uks"
      },
      "execution_count": null,
      "outputs": []
    },
    {
      "cell_type": "code",
      "source": [
        "# 스크래핑\n",
        "import urllib.request\n",
        "url = \"https://search.naver.com/search.naver?query=python\"\n",
        "memory = urllib.request.urlopen(url).read()\n",
        "text = memory.decode(\"utf-8\")\n",
        "#print(text)"
      ],
      "metadata": {
        "id": "rhW6LhvN7ULo"
      },
      "execution_count": 241,
      "outputs": []
    },
    {
      "cell_type": "code",
      "source": [
        "https://search.naver.com/projrect/search.naver?query=python\n",
        "<----------------------------------------------------------> url\n",
        "<---> protocol\n",
        "       <--------------->도메인\n",
        "                        <-------> contextPath\n",
        "                        <---------------------> uri\n",
        "                                               <--------------------> query string\n",
        "\n"
      ],
      "metadata": {
        "id": "kn7NrdKbBP-H"
      },
      "execution_count": null,
      "outputs": []
    },
    {
      "cell_type": "code",
      "source": [
        "import urllib.request # 스크래핑\n",
        "import urllib.parse # 딕셔너리를 queryString으로 변경\n",
        "url = \"https://search.naver.com/search.naver\"\n",
        "qureryText = input(\"검색 단어를 입력하세요\")\n",
        "values = {\"query\" : qureryText}\n",
        "params = urllib.parse.urlencode(values) # 딕셔너리를 쿼리스트링으로 변경\n",
        "url = url + \"?\" + params\n",
        "print(url)\n",
        "memory = urllib.request.urlopen(url).read()\n",
        "text = memory.decode(\"utf-8\")\n",
        "print(text)"
      ],
      "metadata": {
        "colab": {
          "base_uri": "https://localhost:8080/"
        },
        "id": "h087WgGpDK9X",
        "outputId": "ab6d6155-2d37-4d52-8b4c-3d6267fb1fc6"
      },
      "execution_count": 215,
      "outputs": [
        {
          "output_type": "stream",
          "name": "stdout",
          "text": [
            "검색 단어를 입력하세요python\n",
            "https://search.naver.com/search.naver?query=python\n",
            "<!doctype html> <html lang=\"ko\"><head> <meta charset=\"utf-8\"> <meta name=\"referrer\" content=\"strict-origin-when-cross-origin\">  <meta name=\"format-detection\" content=\"telephone=no,address=no,email=no\"> <meta property=\"og:title\" content=\"python : 네이버 검색\"/> <meta property=\"og:image\" content=\"https://ssl.pstatic.net/sstatic/search/common/og_v3.png\"> <meta property=\"og:description\" content=\"'python'의 네이버 검색 결과입니다.\"> <meta name=\"description\" lang=\"ko\" content=\"'python'의 네이버 검색 결과입니다.\"> <title>python : 네이버 검색</title> <link rel=\"shortcut icon\" href=\"https://ssl.pstatic.net/sstatic/search/favicon/favicon_32x32_240820.ico\">  <link rel=\"search\" type=\"application/opensearchdescription+xml\" href=\"https://ssl.pstatic.net/sstatic/search/opensearch-description.https.xml\" title=\"Naver\" /><script> if (top.frames.length!=0 || window!=top) window.open(location, \"_top\"); </script><link rel=\"stylesheet\" type=\"text/css\" href=\"https://ssl.pstatic.net/sstatic/search/pc/css/search1_250529.css\"> <link rel=\"stylesheet\" type=\"text/css\" href=\"https://ssl.pstatic.net/sstatic/search/pc/css/search2_250828.css\"> <link rel=\"stylesheet\" type=\"text/css\" href=\"https://ssl.pstatic.net/sstatic/search/pc/css/sp_autocomplete_250828.css\"><script> naver = window.naver || {}; naver.search = naver.search || {}; naver.search.abt_param = \"\"; </script><script> naver = window.naver || {}; naver.search = naver.search || {}; naver.search.error = (function () { var errorList = Array() ; return { add : function (s) { errorList.push(s) ; }, clear : function () { delete errorList ; }, get : function (s) { return errorList ; }, getString : function (d) { if (typeof d === 'undefined') d = '|' ; return errorList.join(d) ; } } })(); function nx_add_event_handler (event, func) { $Fn(func).attach(document, event) ; } function bt(id, after) { document.getElementById(id).src = after; } function document_write (s) { document.write(s) ; } </script><script> var nx_au_cookie_domain = \".search.naver.com\" ; var g_site = \"\" ; function nx_defer_eval (id) { var codeElement = document.getElementById(id), code = codeElement.innerHTML; eval(code.replace(/\\/\\*/, '').replace(/\\*\\//, '')); } function trim_crlf (q) { var crlf = /[\\r|\\n]/ ; q = q.replace(crlf, \"\") ; return q ; } function include_script (type, defer, src, charset) { var script = document.createElement(\"script\") ; script.type = type, script.defer = defer ; script.src = src ; if (charset) script.charset = charset ; else script.charset = 'utf-8' ; document.getElementsByTagName('head')[0].appendChild(script) ; return script ; } function include_style (src, charset) { var h = document.getElementsByTagName(\"head\")[0] ; var l = document.createElement('link') ; l.type = 'text/css' ; l.rel = 'stylesheet' ; if (charset) l.charset = charset ; else l.charset = 'utf-8' ; l.media = 'screen' ; l.href = src ; h.appendChild(l) ; } function rank_val (rank, name, sign, number, ad_onair) { this.rank = rank ; this.name = name ; this.sign = sign ; this.number = number ; this.ad_onair = ad_onair ; } function rr_hotquery_val (titleImg, totalLink, ad_onair) { this.titleImg = titleImg ; this.totalLink = totalLink ; this.ad_onair = ad_onair ; } function rr_append () { for (var i=0; i<rr_list.length; i++) if (rr_list[i].qname==hotqry_Name && rr_list[i].dir==hotqry_Dir) return 0 ; var o = { order:hotqry_Order, contid:hotqry_ContID, qname:hotqry_Name, dir:hotqry_Dir, toprank:hotqry_TopRank, rankdown:hotqry_RankDown, clicklog:hotqry_ClickLog, toprank_idx:toprank_idx, lowrank_idx:lowrank_idx, topranklist:toprank, lowranklist:lowrank_idx>=0?lowrank:null } ; rr_list = rr_list.concat(o) ; return 1 ; } var msg_hidden_idle=null; function msg (id) { if(msg_hidden_idle) clearInterval(msg_hidden_idle); if(id) { var mid=document.getElementById(id); mid.style.display=''; mid.style.visibility='visible'; } } function msg_hidden (id, f) { if(f) hidden(id); else msg_hidden_idle=setInterval(\"hidden('\"+id+\"')\",100); } function hidden (id) { var mid=document.getElementById(id); mid.style.display='none'; mid.style.visibility='hidden'; } function nx_check_basic () { return ; } var nx_default_charset = document.charset ; function nx_form_emul_charset (form) { if (/msie/i.test(navigator.userAgent) && !/opera/i.test(navigator.userAgent)) { document.charset = form.acceptCharset ; window.onbeforeunload = function () { document.charset = nx_default_charset ; } ; } return true; } </script><script> if (!String.prototype.trim) { String.prototype.trim = function () { return this.replace(/^[\\s\\uFEFF\\xA0]+|[\\s\\uFEFF\\xA0]+$/g, ''); }; } if (!Array.prototype.indexOf) { Array.prototype.indexOf = function(searchElement, fromIndex) { var k; if (this == null) { throw new TypeError('\"this\" is null or not defined'); } var o = Object(this); var len = o.length >>> 0; if (len === 0) { return -1; } var n = fromIndex | 0; if (n >= len) { return -1; } k = Math.max(n >= 0 ? n : len - Math.abs(n), 0); while (k < len) { if (k in o && o[k] === searchElement) { return k; } k++; } return -1; }; } if (!Array.prototype.filter) { Array.prototype.filter = function(func, thisArg) { 'use strict'; if (!((typeof func === 'Function' || typeof func === 'function') && this)) throw new TypeError(); var len = this.length >>> 0, res = new Array(len), t = this, c = 0, i = -1; var kValue; if (thisArg === undefined) { while (++i !== len) { if (i in this) { kValue = t[i]; if (func(t[i], i, t)) { res[c++] = kValue; } } } } else { while (++i !== len) { if (i in this) { kValue = t[i]; if (func.call(thisArg, t[i], i, t)) { res[c++] = kValue; } } } } res.length = c; return res; }; } if (typeof(encodeURIComponent) != \"function\") { encodeURIComponent = function (s) { function toHex (n) { var hexchars = \"0123456789ABCDEF\" ; return \"%\" + hexchars.charAt(n>>4) + hexchars.charAt(n&0xF) ; } var es = \"\" ; for (var i = 0; i < s.length;) { var c = s.charCodeAt(i++) ; if ((c&0xF800) == 0xD800) { var sc = s.charCodeAt(i++) ; c = ((c-0xD800)<<10) + (sc-0xDC00) + 0x10000 ; } if (!(c&~0x7F)) { if ((c>=65&&c<=90) || (c>=97&&c<=122) || (c>=48&&c<=57) || (c>=45&&c<=46) || c==95 || c==33 || c==126 || (c>=39&&c<=42)) es += String.fromCharCode(c) ; else es += toHex(c) ; } else if (!(c&~0x7FF)) es += toHex(0xC0+(c>>6)) + toHex(c&0x3F) ; else if (!(c&~0xFFFF)) es += toHex(0xE0+(c>>12)) + toHex(0x80+(c>>6&0x3F)) + toHex(0x80+(c&0x3F)) ; else es += toHex(0xF0+(c>>18)) + toHex(0x80+(c>>12&0x3F)) + toHex(0x80+(c>>6&0x3F)) + toHex(0x80+(c&0x3F)) ; } return es ; } } </script><script type=\"text/javascript\"> !function (t, n) { n = n || \"ntm\"; window[\"ntm_\" + t] = n, window[n] = window[n] || [], window[n].push({\"ntm.start\": +new Date}); t = document.getElementsByTagName(\"script\")[0], n = document.createElement(\"script\"); n.async = !0, n.src = \"https://ntm.pstatic.net/scripts/ntm_ec8638b0efc1.js\", t.parentNode.insertBefore(n, t); }(\"ec8638b0efc1\", \"ntm\"); </script><script type=\"text/javascript\"> function lcs_do(optional_etc) { var pv_params = optional_etc || {}; var nlogParameter = { \"event\": \"pageviewTrigger\", \"ssc\": pv_params.ssc || undefined, \"br_theme\": pv_params.br_theme || undefined, \"nlogEvt\": {} }; delete pv_params.ssc; delete pv_params.br_theme; for (var key in pv_params) { var pv_param = pv_params[key]; nlogParameter.nlogEvt[key] = pv_param; } if (nlogParameter.nlogEvt.pid) { nlogParameter.nlogEvt.page_id = nlogParameter.nlogEvt.pid; delete nlogParameter.nlogEvt.pid; } if (nlogParameter.nlogEvt.sti) { nlogParameter.nlogEvt.page_sti = nlogParameter.nlogEvt.sti; delete nlogParameter.nlogEvt.sti; } var useLocInfo = false; if (useLocInfo) nlogParameter.nlogEvt.lils = {\"state\": \"h\"}; if (!nlogParameter.nlogEvt.page_id) nlogParameter.nlogEvt.page_id = window.g_puid; if (!nlogParameter.ssc) nlogParameter.ssc = window.g_ssc; if (!nlogParameter.br_theme && window.naver && window.naver.search && window.naver.search.csdark === 1) nlogParameter.br_theme = \"dark\"; if (!nlogParameter.nlogEvt.page_qy) nlogParameter.nlogEvt.page_qy = window.g_query; window.ntm.push(nlogParameter); } </script><script> document.documentElement.setAttribute('data-useragent', window.navigator.userAgent.toLowerCase()) ; document.documentElement.setAttribute('data-platform', window.navigator.platform.toLowerCase()) ; try { document.execCommand('BackgroundImageCache', false, true); } catch(e) {} naver = window.naver || {}; naver.search = naver.search || {}; </script><script> var g_D = 0 ; naver = window.naver || {}; naver.search = naver.search || {}; naver.search.https = window.location.protocol == \"https:\"; naver.search.meta_referrer = 0; naver.search.ext = naver.search.ext || {}; naver.search.map_api = { v2 : \"https://ssl.pstatic.net/sstatic.map/openapi/openapi_v23.js\", v3 : \"https://ssl.pstatic.net/sstatic.map/openapi/maps3.js\" }; var nx_mobile_agent = 0 ; var headerfooter_query = \"python\" ; var headerfooter_query_encoded = \"python\" ; var headerfooter_time_year = 2025 ; var headerfooter_time_month = 9 ; var headerfooter_time_day = 6 ; var headerfooter_time_hour = 17 ; var headerfooter_time_minute = 9 ; var headerfooter_time_second = 45 ; var headerfooter_time_wday = 6 ; var headerfooter_time_year_s = \"2025\" ; var headerfooter_time_month_s = \"09\" ; var headerfooter_time_day_s = \"06\" ; var headerfooter_time_hour_s = \"17\" ; var headerfooter_time_minute_s = \"09\" ; var headerfooter_time_second_s = \"45\" ; var headerfooter_time_wday_s = \"6\" ; var g_ssc = \"tab.nx.all\" ; var g_query = \"python\" ; var g_puid = \"j7YVfdqo15wssmqc1Edssssssm4-263125\" ; var g_suid = \"S98kSxR8GeWSvCoaAGzKgw==\" ; var g_tab = \"nexearch\" ; var g_stab = \"nexearch\" ; var g_crt = naver.search.abt_param; </script><script> function urlencode (q) { return encodeURIComponent(q).replace(/%20/g, \"+\").replace(/[!~'()]/g, function(c) { return '%' + c.charCodeAt(0).toString(16).toUpperCase() ; }); } function urldecode (q) { return decodeURIComponent(q.replace(/\\+/g, \" \")); } function urlexpand (url) { var href = document.location.href ; if (url == \"\") return href ; if (url.match(/^[-.A-Za-z]+:/)) return url ; if (url.charAt(0) == '#') return href.split(\"#\")[0] + url ; if (url.charAt(0) == '?') return href.split(\"?\")[0] + url ; if (url.charAt(0) == '/') return href.replace(/([^:\\/])\\/.*$/, \"$1\") + url ; return href.substring(0, href.lastIndexOf(\"/\")+1) + url ; } function tt_sub_disable (o) { if (typeof(o.tt_sub) == \"undefined\") return false ; if ((typeof(o.tt_sub) == \"object\") && (o.tt_sub.length)) { var i ; for (var i=0; i<o.tt_sub.length; i++) o.tt_sub[i].disabled = true ; } else o.tt_sub.disabled = true ; return true ; } function cpip (isBlockInfoRequired) { var ret; var evt, sx = sy = px = py = vw = vh = -1; try { evt = window.event; } catch (e) {} try { sx = evt.clientX - document.body.clientLeft, sy = evt.clientY - document.body.clientTop; } catch (e) {} try { px = document.body.scrollLeft + (sx < 0 ? 0 : sx), py = (document.documentElement || document.body).scrollTop + (sy < 0 ? 0 : sy); } catch (e) {} try { if (evt.pageX) px = evt.pageX; if (evt.pageY) py = evt.pageY; } catch (e) {} try { vw = window.innerWidth, vh = window.innerHeight; } catch (e) {} ret = \"px=\" + px + \"&py=\" + py + \"&sx=\" + sx + \"&sy=\" + sy + \"&vw=\" + vw + \"&vh=\" + vh; if (isBlockInfoRequired) { try { ret += window.naver.common.heatmapLog.parse(evt); } catch (e) {} } try { ret += window.naver.common.heatmapLog.mark(evt); } catch (e) {} return ret; } var g_BridgeCommonCRParam = { g_puid : null, g_ssc : null, g_query : null, g_tab : null, g_stab : null, g_suid : null, g_crt : null }; function nxIsHashTable (obj) { if(!obj) return false; if(Array.isArray(obj)) return false; if(obj.constructor != Object) return false; return true; } function nxSetBridgeCommonCRParam (htCommonCRParam) { if (nxIsHashTable(htCommonCRParam)) { g_BridgeCommonCRParam.g_puid = htCommonCRParam.g_puid; g_BridgeCommonCRParam.g_query = htCommonCRParam.g_query; g_BridgeCommonCRParam.g_ssc = htCommonCRParam.g_ssc; g_BridgeCommonCRParam.g_tab = htCommonCRParam.g_tab; g_BridgeCommonCRParam.g_stab = htCommonCRParam.g_stab; g_BridgeCommonCRParam.g_suid = htCommonCRParam.g_suid; g_BridgeCommonCRParam.g_crt = htCommonCRParam.g_crt; } } function nxClearBridgeCommonCRParam () { g_BridgeCommonCRParam = { g_puid : null, g_ssc : null, g_query : null, g_tab : null, g_stab : null, g_suid : null, g_crt : null }; } function nxIsValidateBridgeCommonCRParam () { if (g_BridgeCommonCRParam.g_puid && g_BridgeCommonCRParam.g_suid && g_BridgeCommonCRParam.g_ssc) return true; else return false; } function getCRRankingByParam (p, info) { if (typeof info == 'undefined' || info == null) return 0 ; var cr = 0 ; try { var y, z ; var y = p.split('&') ; for (var i = 0; i < y.length; i++) { if (z = y[i].split('=')) { if (z[0] == 'a') { for (var j = 0; j < info.length; j++) { var a = info[j].area.split(/[*.]/)[0]; if (z[1].substr(0, a.length) == a) { if (info[j].rank) cr = info[j].rank; break ; } } break ; } } } } catch (e) { } return cr ; } function getCRRanking (p) { var cr = 0 ; if (p.match(/(^|[&?])cr=/)) return cr ; if (typeof naver.search.section == 'undefined') return cr ; if (typeof naver.search.section.main != 'undefined') cr = getCRRankingByParam(p, naver.search.section.main) ; if (cr) return cr ; if (typeof naver.search.section.main2 != 'undefined') cr = getCRRankingByParam(p, naver.search.section.main2) ; return cr ; } function isOutlink (u) { if (!u || u.indexOf(\"://\") < 0) return false; var b = (u.search(/^\\w*:\\/\\/([^:/?]*\\.|)*(?!(ad)?cr\\.)[^.:/?]+\\.+naver\\.com(:\\d*)?(\\/|$)/) < 0);  return b; } function isSafeLink(url) { if (!url || url.indexOf(\"://\") < 0) return false; var safeSTLDs = [ \"naver.com\", \"modoo.at\", \"band.us\", \"kream.co.kr\", \"worksmobile.com\", \"zepeto.me\", \"webtoons.com\", \"whalespace.io\" ]; var nationalDomains = [ \"co\", \"ne\", \"or\", \"re\", \"pe\", \"go\", \"mil\", \"ac\", \"hs\", \"ms\", \"es\", \"sc\", \"kg\" ]; var safeDomainPaths = []; try { var anchorElement = document.createElement(\"a\"); anchorElement.href = url; var domains = anchorElement.hostname.split(\".\"); var STLD = \"\"; if (nationalDomains.indexOf(domains[domains.length - 2]) === -1) STLD = domains[domains.length - 2] + \".\" + domains[domains.length - 1]; else STLD = domains[domains.length - 3] + \".\" + domains[domains.length - 2] + \".\" + domains[domains.length - 1]; var domainPath = anchorElement.protocol + \"//\" + anchorElement.hostname + (anchorElement.port ? \":\" + anchorElement.port : \"\") + anchorElement.pathname; anchorElement = null; return safeSTLDs.indexOf(STLD) !== -1 || safeDomainPaths.indexOf(domainPath) !== -1 } catch (_) { return false; } } function nxGetCommonCRParam (p) { if (nxIsValidateBridgeCommonCRParam()) { var param = g_BridgeCommonCRParam; return (p.match(/(^|[&?])p=/) ? '' : \"p=\" + urlencode(param.g_puid) + '&') + \"q=\" + urlencode(param.g_query) + \"&ie=utf8&rev=1\" + (p.match(/(^|[&?])ssc=/) ? '' : \"&ssc=\" + urlencode(param.g_ssc)) + \"&f=\" + urlencode(param.g_tab) + \"&w=\" + urlencode(param.g_stab) + \"&s=\" + urlencode(param.g_suid) + \"&time=\" + urlencode((new Date()).getTime()) + param.g_crt; } else { return (p.match(/(^|[&?])p=/) ? '' : \"p=\" + urlencode(g_puid) + '&') + \"q=\" + urlencode(g_query) + \"&ie=utf8&rev=1\" + (p.match(/(^|[&?])ssc=/) ? '' : \"&ssc=\" + urlencode(g_ssc)) + \"&f=\" + urlencode(g_tab) + \"&w=\" + urlencode(g_stab) + \"&s=\" + urlencode(g_suid) + \"&time=\" + urlencode((new Date()).getTime()) + g_crt; } } function nxGetCRURL (m, a, b, c, d, e) { var p = \"\" ; var u ; if (c==undefined && d==undefined && e==undefined) { p = (a==undefined?\"\":\"&\"+a) + (b==undefined || a.indexOf(\"u=\")==0 || a.indexOf(\"&u=\") > 0 ?\"\":\"&u=\"+urlencode(b)) ; u = b ; } else { p = (a==undefined ? \"\" : \"&a=\"+urlencode(a)) + (b==undefined ? \"\" : \"&r=\"+urlencode(b)) + (c==undefined ? \"\" : \"&i=\"+urlencode(c)) + (d==undefined ? \"\" : \"&u=\"+urlencode(d)) + (e==undefined ? \"\" : \"&\"+e) ; u = d ; } if (! p) return null ; if (0 && u && URL) { try { var destURL = new URL(u, window.location.href); if (destURL.host == window.location.host && destURL.pathname == window.location.pathname && false) {  var r = /((?:^|&)u=)((?:(?:[^&]*%2F)?search.naver)?%3F(?:[^%&]|%[^2]|%2[^3])*)/; var pu = p.match(r); pu = pu && pu[2] ? pu[2] : '';  p = p.replace(r, '$1' + pu); } } catch (_) {} } var url ; if (naver.search.https) { url = (naver.search.meta_referrer ? \"/p/crd\" : \"/p/cr\") + \"/rd\"; if (m != 0) m = 1; } else { out = isOutlink(u); url = \"http://cr.naver.com\" + (g_D && out ? \"/nr\" : \"/rd\"); if (m != 0) m = g_D && out ? 2 : 1; } var isBlockInfoRequired = false; try { isBlockInfoRequired = window.naver.common.heatmapLog.check(p); } catch (e) {} url += \"?m=\" + m + \"&\" + cpip(isBlockInfoRequired) + \"&\" + nxGetCommonCRParam(p) + p; return url; } function hasHref (checkActive) { try { var evt = window.event; if (!evt) return false; var target = evt.currentTarget; if (!target) return false; var tag = target.tagName; if (tag !== \"A\") return false; var href = target.getAttribute(\"href\"); if (!href) return false; if (checkActive) { var disabledLinks = [ \"#\", \"javascript:\", \"javascript:;\", \"javascript:void(0)\", \"javascript:void(0);\" ]; if (disabledLinks.indexOf(href) !== -1) return false; } } catch (e) { return false; } return true; } var sendLog = {}; sendLog.get = function(url) { if (!url) return false; try { new Image().src = url; return true; } catch (e) { return false; } }; sendLog.post = function(url, data, recover) { if (!url) return false; try { var isSent = !!(navigator && navigator.sendBeacon && navigator.sendBeacon(url, data)); if (!isSent && recover) { var xhr = new XMLHttpRequest(); xhr.open('POST', url); if (typeof data === 'string') { xhr.setRequestHeader('Content-Type', 'text/plain;charset=UTF-8'); xhr.responseType = 'text'; } else if (data instanceof Blob) { xhr.setRequestHeader('Content-Type', data.type); } xhr.send(data); return true; } return isSent; } catch (e) { return false; } }; function tCR (a, b, c, d, e) { var l = nxGetCRURL(0, a, b, c, d, e); var cr = getCRRanking(l); if (cr > 0) l = l + \"&cr=\" + cr; if (hasHref(true)) l += \"&gv=tcr\"; try { window.naver.common.clickLog.send(l); } catch (e) {} try { l = l.replace(/&nlog=[^&]*/g, \"\"); } catch (e) {} if (document.images) (new Image()).src = l; else document.location = l; return false; } function gCR (u, a, r, i, e, t) { if (u) u = urlexpand(u); var l = nxGetCRURL(1, a, r, i, u, e); var o = document.createElement(\"a\"); if (o.setAttribute && o.getAttribute && !o.getAttribute(\"referrerpolicy\")) { if (isSafeLink(u)) o.setAttribute(\"referrerpolicy\", \"unsafe-url\"); } var cr = getCRRanking(l); if (cr > 0) l = l + \"&cr=\" + cr; if (hasHref(false)) l += \"&gv=gcr\"; try { window.naver.common.clickLog.send(l); } catch (e) {} try { l = l.replace(/&nlog=[^&]*/g, \"\"); } catch (e) {} if (o.click) { o.href = l; o.style.display = \"none\"; document.body.appendChild(o); o.click(); } else document.location = l; } function goCR (o, p, t) { var p0 = o.getAttribute && o.getAttribute(\"crp\"), u = o.href, u0 = u ; if (p0 && u.indexOf(p0)>0 && u.match(/\\/(rd|nr)\\?/)) { u = u0 = o.getAttribute && o.getAttribute(\"cru\") || u ; p = p0 ; } p0 = p ; tt_sub_disable(o) ; if (p.indexOf(\"u=javascript\") >= 0) t = true ; var n = (o.ownerDocument==document && o.target && o.target!=\"_self\" && o.target!=\"_parent\" && o.target!=\"_top\") && !(window.location.protocol&&window.location.protocol.indexOf(\"https:\")==0) ; var cr = getCRRanking(p) ; if (cr > 0) p = p + \"&cr=\" + cr ; if (o.setAttribute && o.getAttribute && !o.getAttribute(\"referrerpolicy\")) { if (isSafeLink(u)) o.setAttribute(\"referrerpolicy\", \"unsafe-url\"); }  u = nxGetCRURL(t ? 0 : (n ? -1 : 1), p, u) ; if (t === true && hasHref(true)) u += \"&gv=goothertcr\"; try { window.naver.common.clickLog.send(u); } catch (e) {} try { u = u.replace(/&nlog=[^&]*/g, \"\"); } catch (e) {} if (u && !u.match(/m=0&/)) { if (o.setAttribute) { if (p0) o.setAttribute(\"crp\", p0) ; if (u0) o.setAttribute(\"cru\", u0) ; if (g_D && naver.search.https && naver.search.meta_referrer && o.href && isOutlink(o.href)) o.setAttribute(\"rel\", \"noreferrer\"); } o.href = u ; } else if (document.images) (new Image()).src = u ; return true ; } function goOtherCR (o, p) { return goCR(o, p, false) ; } function goOtherTCR (o, p) { return goCR(o, p, true) ; } function get_form_url (o) { var url = o.getAttribute(\"action\") ; if (url == null) url = \"\" ; var e, n = 0 ; for (var i=0; i<o.elements.length; i++) { e = o.elements[i] ; if (e.disabled || !e.name) continue ; url += (n++>0?\"&\":url.indexOf(\"?\")<0?\"?\":url.indexOf(\"?\")<url.length-1?\"&\":\"\") + encodeURIComponent(e.name) + \"=\" + encodeURIComponent(e.value) ; } return url ; } function formCR (o, area, rank, id) { if (typeof o == 'string') o = document.getElementById(o); var target = o.getAttribute(\"target\"); var url = get_form_url(o); if (target && target!=\"_self\" && target!=\"_parent\" && target!=\"_top\" || /^post$/i.test(o.getAttribute(\"method\"))) { tCR(area, rank, id); if (o.setAttribute && o.getAttribute && !o.getAttribute(\"referrerpolicy\")) { if (isSafeLink(url)) o.setAttribute(\"referrerpolicy\", \"unsafe-url\"); } o.submit(); return false; } var a = document.createElement(\"a\"); a.href = url; var p = area != undefined ? \"a=\" + area : \"\"; if (rank != undefined) p += (p ? \"&\" : \"\") + \"r=\" + encodeURIComponent(rank); if (id != undefined) p += (p ? \"&\" : \"\") + \"i=\" + encodeURIComponent(id); if (url != undefined) p += (p ? \"&\" : \"\") + \"u=\" + encodeURIComponent(urlexpand(url)); goCR(a, p); if (navigator.userAgent.indexOf('MSIE') > 0) { a.style.display = 'none'; o.appendChild(a); a.click(); } else document.location = a.href; return false; } function concatenateExtraInfo(extraInfo, base) { if (!extraInfo) return base; var s = []; if (base) s.push(base); for (var key in extraInfo) { if (key === \"nlog\") { try { var n = urlencode(JSON.stringify(extraInfo[\"nlog\"])); s.push(\"nlog=\" + n); } catch (e) {} } else s.push(key + \"=\" + urlencode(extraInfo[key])); } return s.join(\"&\"); } function goOtherBCR(element, parameter, extraInfo) { return goOtherCR(element, concatenateExtraInfo(extraInfo, parameter)); } function goOtherBTCR(anchorElement, parameter, extraInfo) { return goOtherTCR(anchorElement, concatenateExtraInfo(extraInfo, parameter)); } function stringBTCR(parameter, extraInfo) { return tCR(concatenateExtraInfo(extraInfo, parameter)); } function bTCR(parameter, extraInfo) { return tCR(parameter.area, parameter.rank, parameter.id, parameter.url, concatenateExtraInfo(extraInfo, parameter.extra)); } function bGCR(parameter, extraInfo) { return gCR(parameter.url, parameter.area, parameter.rank, parameter.id, concatenateExtraInfo(extraInfo, parameter.extra), parameter.target); } </script><script src=\"https://ssl.pstatic.net/sstatic/fe/spg/nx/nx-pc/nx-pc-1.1.0.min.js?o=search\" crossorigin=\"anonymous\"></script><script src=\"https://ssl.pstatic.net/sstatic/fe/sfe/common/pc-1.17.0.js?o=search\" crossorigin=\"anonymous\"></script><script src=\"https://ssl.pstatic.net/sstatic/au/module/requirejs/require-2.3.5.js?o=search\" crossorigin=\"anonymous\"></script><script src=\"https://ssl.pstatic.net/sstatic/fe/sfe/post-requirejs/pc/app_230919.js?o=search\" crossorigin=\"anonymous\"></script><script src=\"https://ssl.pstatic.net/sstatic/fe/meerkat/logger/sfe/naver.common.meerkat.logger.sfe_pc_240613.js?o=search\" crossorigin=\"anonymous\"></script><script src=\"https://ssl.pstatic.net/sstatic/fe/sfe/web-vitals/web-vitals_250818.js?o=search\" crossorigin=\"anonymous\"></script><script src=\"https://ssl.pstatic.net/sstatic/fe/SPF/log-invoker/scroll/naver.common.scrollLog.sfe.pc_250724.js?o=search\" crossorigin=\"anonymous\"></script><script src=\"https://ssl.pstatic.net/sstatic/fe/SPF/log-invoker/responsive/naver.common.responsiveLog.sfe_250410.js?o=search\" crossorigin=\"anonymous\"></script><script src=\"https://ssl.pstatic.net/sstatic/fe/SPF/log-invoker/click/naver.common.clickLog.nlog_241024.js?o=search\" crossorigin=\"anonymous\"></script><script src=\"https://ssl.pstatic.net/sstatic/fe/SPF/log-invoker/heatmap/naver.common.heatmapLog.sfe.pc_250626.js?o=search\" crossorigin=\"anonymous\"></script><script src=\"https://ssl.pstatic.net/sstatic/fe/sfe/image-lazy-loader/app-3.0.1.js?o=search\" crossorigin=\"anonymous\"></script><script> 0 && naver.common.meerkat.logger.observe(); </script><script> (function () { var startApplication = function () { var $root = jQuery(document.body); var url = \"https://s.search.naver.com/n/scrolllog/pc/v2?u=\" + urlencode(location.href) + \"&q=\" + window.headerfooter_query_encoded; var pg = urlencode(window.g_puid); window.naver.common.scrollLog.init(url, pg); }; startApplication(); })(); </script><script> (function () { var startApplication = function () { var url = \"https://s.search.naver.com/n/responsive/v1?u=\" + urlencode(location.href) + \"&q=\" + window.headerfooter_query_encoded; naver.common.responsiveLog.init(url); }; startApplication(); })(); </script><script> (function() { var startApplication = function () { var jsFile = \"https://ssl.pstatic.net/sstatic/fe/sfe/keep/Controller_240627.js\"; var require = window.require.config({ \"context\": \"search_common_module\", \"paths\": { \"Keep\": jsFile.replace(/\\.js$/, \"\") } }); define(\"jquery\", [], function () { return jQuery; }); require([\"Keep\"], function (Controller) { var oSearchKeep = new Controller({ \"api\": { \"token\": \"https://apis.naver.com/naverSearchFe/naver_keep/naver_keep\", \"check\": \"https://apis.naver.com/naverSearchFe/naver_keep/v1_web_keep_check?type=bookmark&key={=url}\", \"create\": \"https://apis.naver.com/naverSearchFe/naver_keep/v1_web_bookmark_create\", \"delete\": \"https://apis.naver.com/naverSearchFe/naver_keep/v1_web_keep_delete\" }, \"fanApi\": { \"check\": \"https://gw.in.naver.com/delivery/api/v1/subscribes?spaceIds={=spaceIds}\", \"subscribe\": \"https://gw.in.naver.com/home/api/v4/spaces/{=spaceId}/subscribes\", \"unsubscribe\": \"https://gw.in.naver.com/home/api/v4/spaces/{=spaceId}/unsubscribes\" }, \"captchaApi\": { \"image\": \"https://captcha.nid.naver.com/nhncaptchav4.gif?key={=key}\", \"voice\": \"https://soundcaptcha.nid.naver.com/soundCaptcha.wav?key={=key}\", \"token\": \"https://gw.in.naver.com/identity-access/api/v1/captcha?type={=type}\", \"refresh\": \"https://gw.in.naver.com/identity-access/api/v1/refresh-captcha?key={=key}&type={=type}\", \"check\": \"https://gw.in.naver.com/identity-access/api/v1/captcha\" }, \"loginUrl\": \"https://nid.naver.com/nidlogin.login?url={=location}\" }); oSearchKeep.on({ \"create\": function (we) { var crLog = we.data(\"cr-on\"); if (crLog) tCR(crLog); }, \"delete\": function (we) { var crLog = we.data(\"cr-off\"); if (crLog) tCR(crLog); }, \"showLayer\": function (we) { var crLog = we.data(\"cr-on\"); if (crLog) tCR(crLog); }, \"hideLayer\": function (we) { var crLog = we.data(\"cr-off\"); if (crLog) tCR(crLog); }, \"fan.subscribe\": function (we) { var crLog = we.data(\"cr-on\"); if (crLog) tCR(crLog); }, \"fan.unsubscribe\": function (we) { var crLog = we.data(\"cr-off\"); if (crLog) tCR(crLog); } }); window.naver.common.gv.searchKeep = oSearchKeep; }); }; naver.common.load_js(null, startApplication, true); })(); </script><script> (function() { var jsUrl = \"https://ssl.pstatic.net/sstatic/fe/sfe/autopreview/search-pc-1.10.0.js\"; var startApplication = function () { var require = window.require.config({ \"context\": \"search_common_modules\", \"paths\": { \"Autopreview\": jsUrl.replace(/\\.js$/, \"\") } }); require([\"Autopreview\"], function() { }); }; naver.common.load_js(null, startApplication); })(); </script><script> (function() { var jsFileURL = \"https://ssl.pstatic.net/sstatic/fe/sfe/search_video_player2/pc-2.20.0.js\"; window.require.config({ \"context\": \"search_common_modules\", \"paths\": { \"VideoPlayer2\": jsFileURL.replace(/\\.js$/, \"\") } }); })(); </script><script> (function() { var jsFileURL = \"https://ssl.pstatic.net/sstatic/fe/sfe/search_audio_player2/pc-2.4.0.js\"; window.require.config({ \"context\": \"search_common_modules\", \"paths\": { \"AudioPlayer2\": jsFileURL.replace(/\\.js$/, \"\") } }); })(); </script><script> (function() { var jsControllerUrl = \"https://ssl.pstatic.net/sstatic/fe/sfe/responsiveBlock/pc/Controller_221103.js\"; var startApplication = function() { var require = window.require.config({ \"context\": \"search_common_modules\", \"paths\": { \"ResponsiveBlock\": jsControllerUrl.replace(/\\.js$/, \"\") } }); define(\"jquery\", [], function() { return jQuery; }); require([\"ResponsiveBlock\"], function(ResponsiveBlock) { new ResponsiveBlock(); }); }; naver.common.load_js(null, startApplication, true); })(); </script><script> (function () { var jsShortFormViewerUrl = \"https://ssl.pstatic.net/sstatic/fe/sfe/shortform-viewer/shortform-viewer.min_250828.js\"; var startApplication = function () { var require = window.require.config({ \"context\": \"search_common_modules\", \"paths\": { \"shortform-viewer\": jsShortFormViewerUrl.replace(/\\.js$/, \"\"), } }); require([\"shortform-viewer\"], function(ShortFormViewer) { new ShortFormViewer() }); }; naver.common.load_js(null, startApplication, true); })(); </script><script> var nlog_search = {}; try { var navigationEntry = window.performance.getEntriesByType(\"navigation\")[0]; var notRestoredReasons = navigationEntry.notRestoredReasons; if (navigationEntry.notRestoredReasons) { notRestoredReasons = notRestoredReasons.reasons.map(function (reason) { return reason.reason; }); } nlog_search = { \"navigation_type\": navigationEntry.type, \"not_restored_reasons\": notRestoredReasons }; } catch (error) { } if (window.addEventListener) { window.addEventListener( \"load\", function () { lcs_do({ \"pid\": \"j7YVfdqo15wssmqc1Edssssssm4-263125\", \"ssc\": \"tab.nx.all\", \"search\": nlog_search }); }, false ); } else { lcs_do({ \"pid\": \"j7YVfdqo15wssmqc1Edssssssm4-263125\", \"ssc\": \"tab.nx.all\", \"search\": nlog_search }); } </script><script> (function() { function ignore(e) { var tagName = e.target.tagName.toUpperCase(); var ignoreTargets = [\"INPUT\", \"SELECT\", \"TEXTAREA\", \"EMBED\", \"OBJECT\"]; var isKeyV = e.key.toLowerCase() === \"v\"; if (ignoreTargets.indexOf(tagName) !== -1 || isContentEditable(e)) return true; else if (e.altKey) return true; else if (e.ctrlKey && !isKeyV) return true; else if (e.metaKey && !isKeyV) return true; else if (isSpaceKey(e)) return true; return false; } function isContentEditable(e) { return e.target.contentEditable === 'true'; } function stop(e) { e.preventDefault(); e.stopPropagation(); } function focus(reset) { var query = document.getElementById(\"nx_query\"); scrollTo(0, 0); if (reset) query.value = \"\"; query.focus(); query.select(); } function isSpaceKey(e) { return e.code === \"Space\" || e.key === \"Spacebar\" || e.key === \" \"; } function isShiftKeyAndSpaceKey(e) { return e.shiftKey && isSpaceKey(e); } function isF2Key(e) { return e.key === \"F2\"; } function isInsertKey(e) { return e.key === \"Insert\" || e.code === \"Insert\"; } function isSingleCharKey(e) { return e.key.length === 1; } document.addEventListener(\"keydown\", function onKeydown(e) { try { if (ignore(e)) return; if (isShiftKeyAndSpaceKey(e) || isF2Key(e) || isInsertKey(e)) { stop(e); focus(); } else if (isSingleCharKey(e)) { focus(true); } } catch (err) {} }); })(); </script><script> function nx_form_submit(f) { if (typeof naver.search.option !== 'undefined') naver.search.option.append_params(f, ['qdt', 'qvt']); return true ; } </script><script> nx_js_defer_load(\"https://ssl.pstatic.net/sstatic/au/s/pc/_others/nxtt/search_om.js\", function() {NXTT.div=document.getElementById(\"nxtt_div\");}, 50); </script></head><body class='wrap-new api_animation'> <div id=nxtt_div style=\"display:none;position:absolute;border-width:0;z-index:11000\"></div> <div id=\"u_skip\"> <a href=\"#lnb\"><span>메뉴 영역으로 바로가기</span></a> <a href=\"#content\"><span>본문 영역으로 바로가기</span></a> </div><div id=\"wrap\" ><div id=\"header_wrap\" role=\"heading\" class=\"lnb_intent\"> <div class=\"api_floating_header\">  <div class=\"gnb_wrap\"> <div class=\"header_group\"> <div class=\"search_area\"> <h1 class=\"logo\"><a href=\"https://www.naver.com\" onclick=\"return goOtherCR(this, 'a=sta.naver&amp;r=&amp;i=&amp;u='+urlencode(this.href));\" class=\"link\"><i class=\"spnew2 ico_logo\">NAVER</i></a></h1> <form id=\"nx_search_form\" name=\"search\" action=\"?\" method=\"get\" role=\"search\" onsubmit=\"return nx_form_submit(this)\"> <fieldset class=\"greenwindow\"> <legend>검색</legend> <input type=\"hidden\" name=\"sm\" value=\"tab_hty.top\"> <input type=\"hidden\" name=\"where\" value=\"nexearch\"> <input type=\"hidden\" name=\"ssc\" value=\"tab.nx.all\"> <div class=\"greenbox\"> <input id=\"nx_query\" type=\"text\" name=\"query\" class=\"box_window\" value=\"python\" maxlength=\"255\" accesskey=\"s\" autocomplete=\"off\"  placeholder=\"검색어를 입력해 주세요.\" role=\"combobox\" aria-expanded=\"false\" aria-haspopup=\"listbox\" aria-owns=\"autocomplete_wrap\" aria-controls=\"\" aria-autocomplete=\"list\" aria-activedescendant=\"\" data-atcmp-element=\"\" > </div> <input type=\"hidden\" name=\"oquery\" value=\"python\"> <input type=\"hidden\" name=\"tqi\" value=\"j7YVfdqo15wssmqc1Edssssssm4-263125\"> <input type=\"hidden\" value=\"\" name=\"acq\" disabled> <input type=\"hidden\" value=\"\" name=\"acr\" disabled> <input type=\"hidden\" value=\"\" name=\"qdt\" disabled> <input type=\"hidden\" value=\"\" name=\"acir\" disabled> <input type=\"hidden\" value=\"\" name=\"os\" disabled> <input type=\"hidden\" value=\"\" name=\"bid\" disabled> <input type=\"hidden\" value=\"\" name=\"pkid\" disabled> <input type=\"hidden\" value=\"\" name=\"eid\" disabled> <input type=\"hidden\" value=\"\" name=\"mra\" disabled>  <button type=\"submit\" class=\"bt_search\"> <i class=\"spnew2 ico_search\">검색</i> <div class=\"guide_text\">검색</div> </button> <div class=\"setkr_area\"> <a id=\"ke_kbd_btn\" role=\"button\" href=\"#\" class=\"bt_setkr\" aria-pressed=\"false\" onclick=\"return tCR('a=sch.ime');\"> <i class=\"spnew2 ico_keyboard\">한글 입력기</i> <div class=\"guide_text\">입력도구</div> </a> <div id=\"_nx_kbd\" style=\"display:none;\"></div> </div> <script> (function() { var startApplication = function() { var $ = jQuery; var jsUrl = \"https://ssl.pstatic.net/sstatic/fe/sfe/ime/app-1.1.0.js\"; var cssUrl = \"https://ssl.pstatic.net/sstatic/search/pc/css/api_keyboard_231116.css\"; var ime; $(\"#ke_kbd_btn\").on(\"click\", function() { require([jsUrl], function(IMEKeyboard) { if (ime) { ime.toggle(); return; } ime = new IMEKeyboard({ \"cssUrl\": cssUrl, \"selector\": { \"TOGGLE_BTN\": \"#ke_kbd_btn\", \"CONTENTS_AREA\": \"#_nx_kbd\", \"INPUT\": \"#nx_query\" }, \"onSearchBtnClick\": function() { $(\"#nx_search_form\").submit(); } }).toggle(); }, function(e) { alert(\"네트워크 상태가 안 좋아 한영 입력기를 불러오지 못했습니다.\\n잠시 후 다시 시도해 주세요.\"); }); }); }; naver.common.load_js(null, startApplication, true, 150); })(); </script> <div id=\"autocomplete_wrap\" class=\"autocomplete\"> <a role=\"button\" href=\"#\" class=\"bt_atcp _btn_arw\" id=\"nautocomplete\" aria-pressed=\"false\" data-atcmp-element><i class=\"spnew2 ico_arrow\">자동완성 레이어</i><div class=\"guide_text\">검색 레이어</div></a> <div id=\"nx_autoframe_top\"></div> </div> </fieldset> </form> </div> </div> <div id=\"gnb\"> <script> var gnb_option = { gnb_service : \"search\", gnb_template : \"gnb_utf8\", gnb_logout : encodeURIComponent(location.href), gnb_login : encodeURIComponent(location.href), gnb_brightness : 1 , gnb_item_hide_option : 0 } ; var gnb_url = \"https://ssl.pstatic.net/static.gn/templates/gnb_utf8.nhn\" ; nx_js_defer_load(gnb_url + \"?\" + headerfooter_time_year_s + headerfooter_time_month_s + headerfooter_time_day_s + headerfooter_time_hour_s, function() { getGNB() ; /* GNB Layer 찌꺼기 제거 대응 */ $Fn(function(we) { if (typeof gnbAllLayerClose == \"function\") { var bShowLayer = gnbUserLayer.show || gnbNaverMeLayer.show || gnbMoreLayer.show; var bClickGNBArea = $Element($$.getSingle(\"ul.gnb_lst\")).isEqual(we.element) || $Element($$.getSingle(\"ul.gnb_lst\")).isParentOf(we.element); if (bShowLayer && !bClickGNBArea) { gnbAllLayerClose(); } } }, this).attach(document, \"click\"); }, 0) ; </script> </div> </div><script type=\"text/javascript\"> (function() { var jsUrl = \"https://ssl.pstatic.net/sstatic/fe/sfe/search-bar/pc/app-2.34.2.js\"; var startApplication = function() { var require = window.require.config({ \"context\": \"_au_search_bar\", \"paths\": { \"Search\": jsUrl.replace(/\\.js$/, \"\"), }, }); require([\"Search\"], function(SearchBar) { function atcmpCR(we, el, name, order) { var htAreaCode = ghtAutoCompleteConfig[\"htAreaCode\"]; if (typeof htAreaCode[name] !== \"undefined\") { var areaCode = htAreaCode[name][0]; var rank = htAreaCode[name][1]; if (areaCode !== \"\") { tCR(\"a=\" + areaCode + \"&u=\" + urlencode(el.href)); } } return false; }; function atcmpSubmitBefore(elForm) { try { top.nx_form_submit(elForm); } catch (e) { try { nx_form_submit(elForm); } catch (e) {} } }; var ghtAutoCompleteConfig = { isNx: true, bLogin: false , sFromWhere: \"nx\" , htApiUrl: { sMyKeyword: \"https://s.search.naver.com/n/mykeyword/search\", sAcKeyword: \"//ac.search.naver.com/nx/ac\", sAcAnsType: \"2\" , sExtra: \"https://s.search.naver.com/n/rkeyword/search.naver?ssc=svc.recentkeyword.search\" }, ahtOption: [{ sOrder: \"asc\", sFormId: \"nx_search_form\", sInputId: \"nx_query\", sViewId: \"nx_autoframe_top\", sViewToggleButtonId: \"nautocomplete\", }] }; new SearchBar(ghtAutoCompleteConfig).attach({ onOpen: function () { jQuery(\"#header_wrap .search_area\").addClass(\"type_write\"); }, onClose: function () { jQuery(\"#header_wrap .search_area\").removeClass(\"type_write\"); }, onSelect: function (oCustomEvent) { atcmpSubmitBefore(oCustomEvent.elForm); }, onClickLog: function (oCustomEvent) { atcmpCR(oCustomEvent.event, oCustomEvent.element, oCustomEvent.name, oCustomEvent.order); }, }); }); }; naver.common.load_js(null, startApplication, true, 150); })(); </script><script>var nx_usain_beacon=function(){var n=0,t=[],s={send:function(){if(n>0)return;n=1,setTimeout(function(){var e,n,s,a,o=\"\",o=function(){function e(e){return e?e-window.performance.timing.navigationStart:0}if(typeof window.performance==\"undefined\")return\"\";if(typeof window.performance.timing==\"undefined\")return\"\";if(typeof window.performance.navigation==\"undefined\")return\"\";if(typeof window.g_puid==\"undefined\")return\"\";if(typeof window.g_ssc==\"undefined\")return\"\";var t=window.performance.timing,n=window.performance.navigation;return\"navt=\"+[e(t.navigationStart),e(t.unloadEventStart),e(t.unloadEventEnd),e(t.redirectStart),e(t.redirectEnd),e(t.fetchStart),e(t.domainLookupStart),e(t.domainLookupEnd),e(t.connectStart),e(t.connectEnd),e(t.requestStart),e(t.responseStart),e(t.responseEnd),e(t.domLoading),e(t.domInteractive),e(t.domContentLoadedEventStart),e(t.domContentLoadedEventEnd),e(t.domComplete),e(t.loadEventStart),e(t.loadEventEnd),n.type,n.redirectCount].join(\":\")+\"&page_id=\"+encodeURIComponent(window.g_puid)+\"&ssc=\"+encodeURIComponent(window.g_ssc)}(),i=eg.agent();i.browser.version&&(e=\"\",a=(i.browser.version+\"\").split(\".\"),e=a[0],e>0&&t.push(\"ua.\"+i.browser.name+\".\"+e)),n=[],o&&n.push(o),n.push(\"tags=\"+t.join(\":\")),s=new Image,s.src=\"https://er.search.naver.com/er?v=2&\"+n.join(\"&\"),s.onload=function(){s.onload=null}},250)},add_tag:function(e){t.push(e)}};return s}(jQuery)</script><div id=\"lnb\" tabindex=\"0\" class=\"type_animation lnb_intent\"><div class=\"lnb_group\"> <div class=\"lnb_nav type_fade ani_fadein type_t2 _lnb_nav_root\"> <div class=\"lnb_nav_area _nav_area_root\"> <div class=\"api_pcpg_wrap\"> <div role=\"tablist\" class=\"api_flicking_wrap _conveyer_root\" data-log-innerscroll=\"a=tab.tfk\"> <div role=\"presentation\" class=\"flick_bx\"><a role=\"tab\" href=\"https://dict.naver.com/dict.search?query=python&amp;from=tsearch\" onclick=\"return goOtherCR(this,'a=tab*L.jmp&amp;r=1&amp;i=&amp;u='+urlencode(this.href));\" class=\"tab\" aria-selected=\"false\" target=\"_blank\">어학사전</a></div><div role=\"presentation\" class=\"flick_bx\"><a role=\"tab\" href=\"?ssc=tab.image.all&amp;where=image&amp;sm=tab_jum&amp;query=python\" onclick=\"return goOtherCR(this,'a=tab*i.jmp&amp;r=2&amp;i=&amp;u='+urlencode(this.href));\" class=\"tab\" aria-selected=\"false\"><i class=\"spnew2 ico_nav_image\"></i>이미지</a></div><div role=\"presentation\" class=\"flick_bx\"><a role=\"tab\" href=\"?ssc=tab.blog.all&amp;sm=tab_jum&amp;query=python\" onclick=\"return goOtherCR(this,'a=tab*b.jmp&amp;r=3&amp;i=&amp;u='+urlencode(this.href));\" class=\"tab\" aria-selected=\"false\"><i class=\"spnew2 ico_nav_blog\"></i>블로그</a></div><div role=\"presentation\" class=\"flick_bx\"><a role=\"tab\" href=\"?ssc=tab.cafe.all&amp;sm=tab_jum&amp;query=python\" onclick=\"return goOtherCR(this,'a=tab*c.jmp&amp;r=4&amp;i=&amp;u='+urlencode(this.href));\" class=\"tab\" aria-selected=\"false\"><i class=\"spnew2 ico_nav_cafe\"></i>카페</a></div><div role=\"presentation\" class=\"flick_bx\"><a role=\"tab\" href=\"?ssc=tab.kin.kqna&amp;where=kin&amp;sm=tab_jum&amp;query=python\" onclick=\"return goOtherCR(this,'a=tab*k.jmp&amp;r=5&amp;i=&amp;u='+urlencode(this.href));\" class=\"tab\" aria-selected=\"false\"><i class=\"spnew2 ico_nav_kin\"></i>지식iN</a></div><div role=\"presentation\" class=\"flick_bx\"><a role=\"tab\" href=\"?ssc=tab.influencer.chl&amp;where=influencer&amp;sm=tab_jum&amp;query=python\" onclick=\"return goOtherCR(this,'a=tab*F.jmp&amp;r=6&amp;i=&amp;u='+urlencode(this.href));\" class=\"tab\" aria-selected=\"false\"><i class=\"spnew2 ico_nav_inf\"></i>인플루언서</a></div><div role=\"presentation\" class=\"flick_bx\"><a role=\"tab\" href=\"?ssc=tab.video.all&amp;where=video&amp;sm=tab_jum&amp;query=python\" onclick=\"return goOtherCR(this,'a=tab*v.jmp&amp;r=7&amp;i=&amp;u='+urlencode(this.href));\" class=\"tab\" aria-selected=\"false\"><i class=\"spnew2 ico_nav_video\"></i>동영상</a></div><div role=\"presentation\" class=\"flick_bx\"><a role=\"tab\" href=\"https://search.shopping.naver.com/search/all?where=all&amp;frm=NVSCTAB&amp;query=python\" onclick=\"return goOtherCR(this,'a=tab*S.jmp&amp;r=8&amp;i=&amp;u='+urlencode(this.href));\" class=\"tab\" aria-selected=\"false\" target=\"_blank\">쇼핑</a></div><div role=\"presentation\" class=\"flick_bx\"><a role=\"tab\" href=\"?ssc=tab.news.all&amp;where=news&amp;sm=tab_jum&amp;query=python\" onclick=\"return goOtherCR(this,'a=tab*n.jmp&amp;r=9&amp;i=&amp;u='+urlencode(this.href));\" class=\"tab\" aria-selected=\"false\"><i class=\"spnew2 ico_nav_news\"></i>뉴스</a></div><div role=\"presentation\" class=\"flick_bx\"><a role=\"tab\" href=\"?ssc=tab.shortents.all&amp;sm=tab_jum&amp;query=python\" onclick=\"return goOtherCR(this,'a=tab*d.jmp&amp;r=10&amp;i=&amp;u='+urlencode(this.href));\" class=\"tab\" aria-selected=\"false\"><i class=\"spnew2 ico_nav_shortents\"></i>숏텐츠</a></div><div role=\"presentation\" class=\"flick_bx\"><a role=\"tab\" href=\"https://map.naver.com/v5/search/python\" onclick=\"return goOtherCR(this,'a=tab*M.jmp&amp;r=11&amp;i=&amp;u='+urlencode(this.href));\" class=\"tab\" aria-selected=\"false\" target=\"_blank\">지도</a></div><div role=\"presentation\" class=\"flick_bx\"><a role=\"tab\" href=\"https://search.shopping.naver.com/book/search?query=python\" onclick=\"return goOtherCR(this,'a=tab*B.jmp&amp;r=12&amp;i=&amp;u='+urlencode(this.href));\" class=\"tab\" aria-selected=\"false\" target=\"_blank\">도서</a></div><div role=\"presentation\" class=\"flick_bx\"><a role=\"tab\" href=\"https://terms.naver.com/search.naver?query=python\" onclick=\"return goOtherCR(this,'a=tab*K.jmp&amp;r=13&amp;i=&amp;u='+urlencode(this.href));\" class=\"tab\" aria-selected=\"false\" target=\"_blank\">지식백과</a></div><div role=\"presentation\" class=\"flick_bx\"><a role=\"tab\" href=\"https://academic.naver.com/search.naver?field=0&amp;query=python\" onclick=\"return goOtherCR(this,'a=tab*a.jmp&amp;r=14&amp;i=&amp;u='+urlencode(this.href));\" class=\"tab\" aria-selected=\"false\" target=\"_blank\">학술정보</a></div> </div> <div class=\"api_btn_page _nav_btn_root\"> <div class=\"btn_prev _prev\" style=\"display:none\"><a href=\"#\" role=\"button\" class=\"btn\" onclick=\"return tCR('a=tab.moveleft');\"><span class=\"ico_nav\"><i class=\"spnew2 ico_nav_arr\">이전</i></span></a></div> <div class=\"btn_next _next\" style=\"display: block\"><a href=\"#\" role=\"button\" class=\"btn\" onclick=\"return tCR('a=tab.moveright');\"><span class=\"ico_nav\"><i class=\"spnew2 ico_nav_arr\">다음</i></span></a></div> </div> </div> </div> <div id=\"_nx_lnb_more\" class=\"lnb_nav_more\"> <a role=\"button\" href=\"#\" class=\"nav_more _more_btn\" aria-pressed=\"false\" onclick=\"tCR(jQuery(this).attr('aria-pressed') === 'false' ? 'a=tab.more' : 'a=tmr.less');\"><i class=\"spnew2 ico_nav_more\">더보기</i></a> <div class=\"addon\"> <ul role=\"tablist\" class=\"nav_list\"> <li role=\"presentation\"><a role=\"tab\" href=\"?ssc=tab.nx.all&amp;where=nexearch&amp;sm=tab_jum&amp;query=python\" onclick=\"return goOtherCR(this,'a=tmr*N.now&amp;r=1&amp;i=&amp;u='+urlencode(this.href));\" class=\"tab\" aria-selected=\"true\"><i class=\"spnew2 ico_nav_all\"></i>전체</a></li><li role=\"presentation\"><a role=\"tab\" href=\"https://dict.naver.com/dict.search?query=python&amp;from=tsearch\" onclick=\"return goOtherCR(this,'a=tmr*L.jmp&amp;r=2&amp;i=&amp;u='+urlencode(this.href));\" class=\"tab\" aria-selected=\"false\" target=\"_blank\"><i class=\"spnew2 ico_nav_dic\"></i>어학사전</a></li><li role=\"presentation\"><a role=\"tab\" href=\"?ssc=tab.image.all&amp;where=image&amp;sm=tab_jum&amp;query=python\" onclick=\"return goOtherCR(this,'a=tmr*i.jmp&amp;r=3&amp;i=&amp;u='+urlencode(this.href));\" class=\"tab\" aria-selected=\"false\"><i class=\"spnew2 ico_nav_image\"></i>이미지</a></li><li role=\"presentation\"><a role=\"tab\" href=\"?ssc=tab.blog.all&amp;sm=tab_jum&amp;query=python\" onclick=\"return goOtherCR(this,'a=tmr*b.jmp&amp;r=4&amp;i=&amp;u='+urlencode(this.href));\" class=\"tab\" aria-selected=\"false\"><i class=\"spnew2 ico_nav_blog\"></i>블로그</a></li><li role=\"presentation\"><a role=\"tab\" href=\"?ssc=tab.cafe.all&amp;sm=tab_jum&amp;query=python\" onclick=\"return goOtherCR(this,'a=tmr*c.jmp&amp;r=5&amp;i=&amp;u='+urlencode(this.href));\" class=\"tab\" aria-selected=\"false\"><i class=\"spnew2 ico_nav_cafe\"></i>카페</a></li><li role=\"presentation\"><a role=\"tab\" href=\"?ssc=tab.kin.kqna&amp;where=kin&amp;sm=tab_jum&amp;query=python\" onclick=\"return goOtherCR(this,'a=tmr*k.jmp&amp;r=6&amp;i=&amp;u='+urlencode(this.href));\" class=\"tab\" aria-selected=\"false\"><i class=\"spnew2 ico_nav_kin\"></i>지식iN</a></li><li role=\"presentation\"><a role=\"tab\" href=\"?ssc=tab.influencer.chl&amp;where=influencer&amp;sm=tab_jum&amp;query=python\" onclick=\"return goOtherCR(this,'a=tmr*F.jmp&amp;r=7&amp;i=&amp;u='+urlencode(this.href));\" class=\"tab\" aria-selected=\"false\"><i class=\"spnew2 ico_nav_inf\"></i>인플루언서</a></li><li role=\"presentation\"><a role=\"tab\" href=\"?ssc=tab.video.all&amp;where=video&amp;sm=tab_jum&amp;query=python\" onclick=\"return goOtherCR(this,'a=tmr*v.jmp&amp;r=8&amp;i=&amp;u='+urlencode(this.href));\" class=\"tab\" aria-selected=\"false\"><i class=\"spnew2 ico_nav_video\"></i>동영상</a></li><li role=\"presentation\"><a role=\"tab\" href=\"https://search.shopping.naver.com/search/all?where=all&amp;frm=NVSCTAB&amp;query=python\" onclick=\"return goOtherCR(this,'a=tmr*S.jmp&amp;r=9&amp;i=&amp;u='+urlencode(this.href));\" class=\"tab\" aria-selected=\"false\" target=\"_blank\"><i class=\"spnew2 ico_nav_shop\"></i>쇼핑</a></li><li role=\"presentation\"><a role=\"tab\" href=\"?ssc=tab.news.all&amp;where=news&amp;sm=tab_jum&amp;query=python\" onclick=\"return goOtherCR(this,'a=tmr*n.jmp&amp;r=10&amp;i=&amp;u='+urlencode(this.href));\" class=\"tab\" aria-selected=\"false\"><i class=\"spnew2 ico_nav_news\"></i>뉴스</a></li><li role=\"presentation\"><a role=\"tab\" href=\"?ssc=tab.shortents.all&amp;sm=tab_jum&amp;query=python\" onclick=\"return goOtherCR(this,'a=tmr*d.jmp&amp;r=11&amp;i=&amp;u='+urlencode(this.href));\" class=\"tab\" aria-selected=\"false\"><i class=\"spnew2 ico_nav_shortents\"></i>숏텐츠</a></li><li role=\"presentation\"><a role=\"tab\" href=\"https://map.naver.com/v5/search/python\" onclick=\"return goOtherCR(this,'a=tmr*M.jmp&amp;r=12&amp;i=&amp;u='+urlencode(this.href));\" class=\"tab\" aria-selected=\"false\" target=\"_blank\"><i class=\"spnew2 ico_nav_map\"></i>지도</a></li><li role=\"presentation\"><a role=\"tab\" href=\"https://search.shopping.naver.com/book/search?query=python\" onclick=\"return goOtherCR(this,'a=tmr*B.jmp&amp;r=13&amp;i=&amp;u='+urlencode(this.href));\" class=\"tab\" aria-selected=\"false\" target=\"_blank\"><i class=\"spnew2 ico_nav_book\"></i>도서</a></li><li role=\"presentation\"><a role=\"tab\" href=\"https://terms.naver.com/search.naver?query=python\" onclick=\"return goOtherCR(this,'a=tmr*K.jmp&amp;r=14&amp;i=&amp;u='+urlencode(this.href));\" class=\"tab\" aria-selected=\"false\" target=\"_blank\"><i class=\"spnew2 ico_nav_kindic\"></i>지식백과</a></li><li role=\"presentation\"><a role=\"tab\" href=\"https://academic.naver.com/search.naver?field=0&amp;query=python\" onclick=\"return goOtherCR(this,'a=tmr*a.jmp&amp;r=15&amp;i=&amp;u='+urlencode(this.href));\" class=\"tab\" aria-selected=\"false\" target=\"_blank\"><i class=\"spnew2 ico_nav_academic\"></i>학술정보</a></li> </ul> <a role=\"button\" href=\"#\" class=\"btn_option _option_btn\" onclick=\"return tCR('a=tmr.optn');\" aria-pressed=\"false\"><i class=\"spnew2 ico_nav_option\"></i>검색옵션</a> </div> </div> </div> </div><script> (function() { var jsFileURL = \"https://ssl.pstatic.net/sstatic/fe/sfe/intentNavigation/pc/IntentNavigation.min_240620.js\"; var startApplication = function() { var require = window.require.config({ \"context\": \"search_tab_module\", \"paths\": { \"IntentNavigation\": jsFileURL.replace(/\\.js$/, \"\") } }); define(\"jquery\", [], function() { return jQuery; }); require([\"IntentNavigation\"], function(IntentNavigation) { var BASE_FLOATING_WIDTH = 1181; var $window = jQuery(window); var $lnb = jQuery(\"#lnb\"); var $headerWrap = jQuery(\"#header_wrap\"); var tab = new IntentNavigation($window, $lnb) .on(\"checkTypeFixed\", function (e) { $headerWrap.toggleClass(\"type_fixed\", e.isUnderBaseline || e.windowWidth >= BASE_FLOATING_WIDTH); }) .on(\"hideTab\", function() { if (window.g_nx_splugin && typeof window.g_nx_splugin.hide === \"function\") { window.g_nx_splugin.hide(); } }) .on(\"changeState\", function(e) { $headerWrap.toggleClass(\"type_hide\", e.isUnderBaseline); if (e.isUnderBaseline) { $headerWrap.addClass(\"type_animation\"); } }) .on(\"innerScroll\", function (e) { var crlog = e.crlog; tCR(crlog); }); window.naver = window.naver || {}; window.naver.pc = window.naver.pc || {}; window.naver.pc.search_tab = tab; }); }; var requirejs = naver.common.gv.REQUIRE_JS; naver.common.load_js(window.require ? null : requirejs, startApplication, true, 150); })(); </script><div class=\"lnb_util\"> <ul class=\"list_util\"> <li> <a role=\"button\" href=\"#\" id=\"spiButton2\" class=\"spnew2_bf bt_share naver-splugin\" onclick=\"return tCR('a=lnb.shr');\" data-style=\"unity-v2\" data-use-short-url=\"on\" data-me-display=\"off\" data-mail-display=\"off\" data-option=\"{baseElement:'spiButton2', layerPosition:'outside-bottom', align:'right', top:4, left:0, marginLeft:8, marginTop:10}\" data-blog-url=\"https://search.naver.com/search.naver?query=python&amp;sm=svc_pin.blog\" data-cafe-url=\"https://search.naver.com/search.naver?query=python&amp;sm=svc_pin.cafe\" data-cafe-source-form=\"2\" data-memo-url=\"https://search.naver.com/search.naver?query=python&amp;sm=svc_pin.memo\" data-calendar-url=\"https://search.naver.com/search.naver?query=python&amp;sm=svc_pin.cal\" data-twitter-url=\"https://search.naver.com/search.naver?query=python&amp;sm=twp_pin\" data-facebook-url=\"https://search.naver.com/search.naver?query=python&amp;sm=fbp_pin\" data-band-url=\"https://search.naver.com/search.naver?query=python&amp;sm=bdp_pin\" >공유</a> </li> </ul> </div></div><script> naver.search.section = { \"main\": [{\"area\": \"pwl_nop\", \"rank\": 1},{\"area\": \"sit_5po*e\", \"rank\": 2},{\"area\": \"web_gen*w\", \"rank\": 3},{\"area\": \"ink_kii*a\", \"rank\": 4},{\"area\": \"ldc_btm*67ABFLQXZcefjkpx\", \"rank\": 5},{\"area\": \"nco_xgh*c\", \"rank\": 6},{\"area\": \"img_bas*NW\", \"rank\": 7},{\"area\": \"bok_lst\", \"rank\": 8}], \"main2\": [{\"area\": \"rsk_top*q\", \"rank\": 1},{\"area\": \"bnr\", \"rank\": 2}],  \"find_section_list\": function(column, area) { if (!this[column]) return []; return this[column].filter(function(a) { return a.area.indexOf(area) === 0; }); } }; </script></div> </div><div id=\"container\" role=\"main\"> <div id=\"content\" class=\"pack_group\"> <h1 class=\"blind\">python 검색 결과</h1><div id=\"main_pack\" class=\"main_pack\"><script> var nx_cr_area_info = [{\"n\": \"pwl_nop\", \"r\": 1},{\"n\": \"sit_5po\", \"r\": 2},{\"n\": \"web_gen\", \"r\": 3},{\"n\": \"ink_kii\", \"r\": 4},{\"n\": \"ldc_btm\", \"r\": 5},{\"n\": \"nco_xgh\", \"r\": 6},{\"n\": \"img_bas\", \"r\": 7},{\"n\": \"bok_lst\", \"r\": 8}]; </script><script> naver.search.option = {} ; naver.search.option.params = {} ; naver.search.option.append_params = (function () { return function (f, exclude) { if (exclude == undefined) exclude = []; for (var k in naver.search.option.params) { if (exclude.indexOf(k) >= 0) continue; var v = naver.search.option.params[k] ; var input = document.createElement(\"input\"); input.type = \"hidden\"; input.name = k ; input.value = v ; f.appendChild(input); } return true ; } ; })() ; naver.search.option.get_params = (function () { return function () { var option_params = \"\" ; for (var k in naver.search.option.params) { var v = naver.search.option.params[k]; option_params = option_params.concat(\"&\" + k + \"=\" + urlencode(v)); } return option_params ; } ; })() ; </script><div id=\"snb\" class=\"_search_option_detail_wrap _slog_visible\" data-slog-container=\"opt\" style=\"display:none;\"> <form id=\"nx_option_form\" name=\"nx_option_form\" action=\"?\"> <input type=\"hidden\" id=\"ssc\" name=\"ssc\" value=\"tab.nx.all\"> <input type=\"hidden\" id=\"where\" name=\"where\" value=\"nexearch\"> <input type=\"hidden\" id=\"query\" name=\"query\" value=\"python\"> <input type=\"hidden\" id=\"sm\" name=\"sm\" value=\"tab_opt\"> </form> <div role=\"listbox\" class=\"mod_group_option_sort\"> <button onclick=\"return tCR('a=opt.fold');\" type=\"button\" class=\"spnew_bf bt_close _search_option_close_btn\">검색옵션 닫기</button> <ul class=\"lst_option\"> <li class=\"bx lineup\"> <div class=\"bx_inner\"> <strong class=\"tit\">정렬</strong> <div role=\"tablist\" class=\"option\"> <a role=\"tab\" class=\"txt\" aria-selected=\"true\" href=\"?ssc=tab.nx.all&amp;where=nexearch&amp;sm=tab_opt&amp;query=python&amp;nso=so%3Ar&amp;nso_open=1\" onclick=\"return goOtherCR(this, 'a=opt.sim&amp;r=&amp;i=&amp;u='+urlencode(this.href));\">관련도순</a><a role=\"tab\" class=\"txt\" aria-selected=\"false\" href=\"?ssc=tab.nx.all&amp;where=nexearch&amp;sm=tab_opt&amp;query=python&amp;nso=so%3Add&amp;nso_open=1\" onclick=\"return goOtherCR(this, 'a=opt.new&amp;r=&amp;i=&amp;u='+urlencode(this.href));\">최신순</a> </div> </div> </li> <li class=\"bx term\"> <div class=\"bx_inner\"> <strong class=\"tit\">기간</strong> <div role=\"tablist\" class=\"option\"> <a role=\"tab\" class=\"txt\" aria-selected=\"true\" href=\"?ssc=tab.nx.all&amp;where=nexearch&amp;sm=tab_opt&amp;query=python&amp;nso=p%3Aall&amp;nso_open=1\" onclick=\"return goOtherCR(this, 'a=opt.all&amp;r=&amp;i=&amp;u='+urlencode(this.href));\">전체</a><a role=\"tab\" class=\"txt\" aria-selected=\"false\" href=\"?ssc=tab.nx.all&amp;where=nexearch&amp;sm=tab_opt&amp;query=python&amp;nso=p%3A1h&amp;nso_open=1\" onclick=\"return goOtherCR(this, 'a=opt.1hr&amp;r=&amp;i=&amp;u='+urlencode(this.href));\">1시간</a><a role=\"tab\" class=\"txt\" aria-selected=\"false\" href=\"?ssc=tab.nx.all&amp;where=nexearch&amp;sm=tab_opt&amp;query=python&amp;nso=p%3A1d&amp;nso_open=1\" onclick=\"return goOtherCR(this, 'a=opt.1day&amp;r=&amp;i=&amp;u='+urlencode(this.href));\">1일</a><a role=\"tab\" class=\"txt\" aria-selected=\"false\" href=\"?ssc=tab.nx.all&amp;where=nexearch&amp;sm=tab_opt&amp;query=python&amp;nso=p%3A1w&amp;nso_open=1\" onclick=\"return goOtherCR(this, 'a=opt.1wk&amp;r=&amp;i=&amp;u='+urlencode(this.href));\">1주</a><a role=\"tab\" class=\"txt\" aria-selected=\"false\" href=\"?ssc=tab.nx.all&amp;where=nexearch&amp;sm=tab_opt&amp;query=python&amp;nso=p%3A1m&amp;nso_open=1\" onclick=\"return goOtherCR(this, 'a=opt.1mon&amp;r=&amp;i=&amp;u='+urlencode(this.href));\">1개월</a><a role=\"tab\" class=\"txt\" aria-selected=\"false\" href=\"?ssc=tab.nx.all&amp;where=nexearch&amp;sm=tab_opt&amp;query=python&amp;nso=p%3A3m&amp;nso_open=1\" onclick=\"return goOtherCR(this, 'a=opt.3mon&amp;r=&amp;i=&amp;u='+urlencode(this.href));\">3개월</a><a role=\"tab\" class=\"txt\" aria-selected=\"false\" href=\"?ssc=tab.nx.all&amp;where=nexearch&amp;sm=tab_opt&amp;query=python&amp;nso=p%3A6m&amp;nso_open=1\" onclick=\"return goOtherCR(this, 'a=opt.6mon&amp;r=&amp;i=&amp;u='+urlencode(this.href));\">6개월</a><a role=\"tab\" class=\"txt\" aria-selected=\"false\" href=\"?ssc=tab.nx.all&amp;where=nexearch&amp;sm=tab_opt&amp;query=python&amp;nso=p%3A1y&amp;nso_open=1\" onclick=\"return goOtherCR(this, 'a=opt.1yr&amp;r=&amp;i=&amp;u='+urlencode(this.href));\">1년</a> <a onclick=\"tCR('a=opt.cal');\" href=\"#\" role=\"tab\" class=\"txt txt_option _calendar_select_trigger\" data-select-trigger aria-selected=\"false\">직접입력<i class=\"spnew ico_check\">옵션<em class=\"open\">펼치기</em><em class=\"close\">접기</em></i></a> </div> <div class=\"mod_select_option type_calendar _calendar_select_layer\" data-select-layer style=\"display: none;\"> <div role=\"tablist\" class=\"set_calendar\"> <span class=\"set\"> <span class=\"blind\">기간 설정시작</span> <a onclick=\"tCR('a=opt.str');\" href=\"#\" role=\"tab\" class=\"spnew_bf ico_calendar _start_trigger\" aria-selected=\"true\"></a> </span> <span class=\"set etc\">~</span> <span class=\"set\"> <span class=\"blind\">기간 설정끝</span> <a onclick=\"tCR('a=opt.fin');\" href=\"#\" role=\"tab\" class=\"spnew_bf ico_calendar _end_trigger\" aria-selected=\"false\"></a> </span> </div> <div class=\"select_wrap _root\"> <div class=\"group_select _list_root\"> <strong class=\"blind\">년(Year)</strong> <div class=\"select_cont\"> <div class=\"select_area _scroll_wrapper\"> <div> <ul role=\"tablist\" class=\"lst_item _ul\"></ul> </div> </div> </div> </div> <div class=\"group_select _list_root\"> <strong class=\"blind\">월(Month)</strong> <div class=\"select_cont\"> <div class=\"select_area _scroll_wrapper\"> <div> <ul role=\"tablist\" class=\"lst_item _ul\"></ul> </div> </div> </div> </div> <div class=\"group_select _list_root\"> <strong class=\"blind\">일(Day)</strong> <div class=\"select_cont\"> <div class=\"select_area _scroll_wrapper\"> <div> <ul role=\"tablist\" class=\"lst_item _ul\"></ul> </div> </div> </div> </div> </div> <div class=\"btn_area\"> <button data-cr-area=\"opt.set\" type=\"button\" class=\"btn_apply _apply_btn\">적용</button> </div> </div> </div> </li> <li class=\"bx clear\"> <div class=\"bx_inner\"> <div class=\"option\"> <a href=\"?ssc=tab.nx.all&amp;where=nexearch&amp;sm=tab_opt&amp;query=python&amp;nso_open=1\" onclick=\"return goOtherCR(this, 'a=opt.reset&amp;r=&amp;i=&amp;u='+urlencode(this.href));\" class=\"btn_clear spnew_bf\" role=\"button\">옵션 초기화</a> <a href=\"https://help.naver.com/support/alias/search/integration/intergration_84.naver\" target=\"_blank\" onclick=\"return goOtherCR(this, 'a=opt.help&amp;r=&amp;i=&amp;u='+urlencode(this.href));\" class=\"link_help\">검색옵션 가이드<i class=\"spnew api_ico_help\"></i></a> </div> </div> </li> </ul> </div> </div><script> naver.search.option.append_params(jQuery(\"#nx_option_form\")[0]); </script> <script> (function() { var jsFileURL = \"https://ssl.pstatic.net/sstatic/fe/sfe/searchOption/Controller_230920.js\"; var startApplication = function() { var require = window.require.config({ \"context\": \"_fe_search_option\", \"paths\": { /* Controller.js의 경로 지정. */ \"Controller\": jsFileURL.replace(/\\.js$/, \"\") } }); /* module define은 require의 context별로 호출해야함. */ define(\"jquery\", [], function() { return jQuery; }); require([\"Controller\"], function(Controller) { var oSearchOption = new Controller({ \"$form\": jQuery(\"#nx_option_form\") }); oSearchOption.on({ \"selectCalendar\": function(e) { var param = e.param; var cr = { \"area\": e.$item.data(\"cr-area\") }; var date_from = e.startDate; var date_to = e.endDate; var from = date_from.year + \".\" + date_from.month + \".\" + date_from.date; from = from.replace(/\\./g, ''); var to = date_to.year + \".\" + date_to.month + \".\" + date_to.date; to = to.replace(/\\./g, ''); var opt_p = \"p:from\" + (from < to ? from : to) + \"to\" + (from < to ? to : from); var params = naver.search.option.params; var nso = params[\"nso\"]; if (nso) { var arr = nso.split(\",\"); var isPeriodExist = false; arr.forEach(function(element, index, arr){ if (element.indexOf(\"p:\") == 0) { arr[index] = opt_p; isPeriodExist = true; } }); if (!isPeriodExist){ arr.push(opt_p); } nso = arr.join(\",\"); } else { nso = opt_p; } params[\"nso\"] = nso; param = \"\"; for (var k in params) { var v = params[k]; param += \"&\" + k + \"=\" + urlencode(v); } if (param[0] === \"&\") { param = param.substring(1); } /* formCR 클릭로그 호출 */ this.submit(param, cr); } }); }); }; var requirejs = naver.common.gv.REQUIRE_JS; naver.common.load_js(window.require ? null : requirejs, startApplication, true, 150); })(); </script><div class=\"_scrollLog\"  style=\"visibility:hidden;height:0px;margin:0 28px\"></div><section>\n",
            "    <link href=\"https://ad-creative.pstatic.net/static/6810970f14e827fad4d415fb/cbec77b/build/static/css/main.4a9de2f8.css\" rel=\"stylesheet\" /><div id=\"pcPowerLink_81ed-n9h9\" class=\"pcPowerLink_81ed\"><link rel=\"stylesheet\" href=\"https://ssl.pstatic.net/sstatic/search/local/css/maps_openapi_https_150716.css\"/><div class=\"sc_new ad_section section _pl_section bg_type_v2\"><div class=\"api_subject_bx\"><div class=\"mod_title_area\"><div class=\"title_wrap\"><h2 class=\"title\">파워링크</h2><span class=\"sub\"><span class=\"title_text\"><em class=\"dsc_ncaution_quotation\">‘</em> <strong class=\"dsc_ncaution_keyword\">python</strong> <em class=\"dsc_ncaution_quotation\">’</em>관련 광고입니다. </span></span><a href=\"javascript:void(0);\" role=\"button\" class=\"api_ad_link\" onclick='adInfoShowPl(this)&&goOtherCR(this,\"a=pwl_nop.adset&r=0&i=pwl_nopadset&u=\"+urlencode(this.href))'><i class=\"spnew api_ico_alert\">이 광고가 표시된 이유</i></a></div><div class=\"title_sub\"><a href=\"//saedu.naver.com/adbiz/searchad/clickChoice.naver\" class=\"sub_link\" target=\"_blank\" onclick='return goOtherCR(this,\"a=pwl_nop.registration&r=0&i=pwl_nopregistration&u=\"+urlencode(this.href))'>등록 안내</a></div><div class=\"ly_api_info\" style=\"display: none;\"><p class=\"dsc\">이 광고는 사이트검색광고(파워링크)로, 검색어와 광고의 연관도, 광고주의 입찰가 등에 의해 광고 노출 여부와 순위가 결정됩니다.</p><div class=\"btn_area\"><a href=\"https://help.naver.com/service/5626/contents/1419\" class=\"link\">도움말</a></div><button type=\"button\" class=\"btn_close\" onclick=\"adInfoHidePl()\"><i class=\"spnew ico_close\">정보확인 레이어 닫기</i></button></div></div><div class=\"nad_area\" id=\"power_link_body\" impression-event-url=\"https://ader.naver.com/v1/SgXKrLPnHXnLvBRzYFD8RTqHfJiom0esN7LEV11YPo7SXG8gKCpQGzaq5YTlVjM6uNox1rDe_-BqSuPiALdaWOZAxh3ABq5wFLDb4vBYeSBG2Q55RsJD1u6Sj6sLT_XcMCmaf4wNbkpUTDxLQONpTLWg4lAo7ma4MgndbVTQEyCA5jzxF6Sr5fvC209EcWvM5ka_EyzU7qt4NGI2aM6ujw&#x3D;&#x3D;?d&#x3D;1&amp;c&#x3D;naver.search.pc.plsearch\"><ul class=\"lst_type\"><li class=\"lst js-hover-item type_subtitle\" num=\"\"><div class=\"inner\"><div class=\"title_url_area\"><div class=\"url_area\"><a href=\"https://ader.naver.com/v1/Et0D_PmVeutrSdAFUdYm5f86QYo2gr0H7ofmip_TuX-nXppYb45X23RkSbMUzeuTV6lh8ysDwUoT5ywKddnc8g-DlmoPkBpV7dGJiSDNLjPHpC2rBXjmVLjakGAPj6GmhA96BgmzlULViCekqtd9DV40Q5PwVgqxld7qPTGkIDr9XlcATj-mhJHSlHvW-51BpbGVkkm4AdkYziXOORBKKvVYphgmYPE9VnqwmjiMYc302gZQHknAXVrDXbgNfdBhSKtD5Hr82a1Qr3xq4xBZXqYUwFu8CEkjEGQ1SmXTymfsNOnG-MlUid02n4uLYMIN4Un_A5sm-WkpcvN6eOVLxpRHH76atOYqAPKei9I4Sqi7gXdgIuKq9irFC7M2FDGkXjep6uhxUQYSfHRinx5Dp_ZPdFMosrglDd26ouXfks7ig7y2rxH6KwKiJdAHHysQBhmnoRAO2f5Wsfgl7zXBWR2MjL4bsP85gfsIQTigldYzulVGxYXK5WgwqRMzd5IKv-_K61l4o6xzqlQWlSkppPdInI0tq72zlQ8c7NRH5Z761dJmXJJ6JhXMtVOaZxfDBdC6JxbzXPIpVbbfJJah3PSp8phqPv9RVwOvKXYvhQAeAiGoe_B7GrWZYM-X22158f8hGQqL3RXgg1P05bqSMDx-Aphgds_84Q4TjkncaZyaS4Pfu-jMh_ZWhuk6M54p?c=naver.search.pc.plsearch&t=0\" class=\"favicon_wrap\" target=\"_blank\" onclick='return goOtherCR(this,\"a=pwl_nop.favicon&r=1&i=nad-a001-01-000000130177974&d=\"+urlencode(\"https://cloud.google.com\")+\"&u=\"+urlencode(this.href))'>  <img width=\"16\" height=\"16\" alt=\"favicon\" class=\"icon_favicon\" data-img-alias=\"power-link-favicon-error\" data-lazysrc=\"https://search.pstatic.net/sunny?src&#x3D;https%3A%2F%2Fwww.gstatic.com%2Fcgc%2Ffavicon.ico&amp;type&#x3D;f30_30_png_expire24\" src=\"https://ssl.pstatic.net/adimg3.search/imp/nx/power/pc/230719/img/icon_favicon.png\"/>   </a> <span class=\"icon_nad_mark\"> 광고  </span>   <span class=\"lnk_url_area\"><a href=\"https://ader.naver.com/v1/Et0D_PmVeutrSdAFUdYm5f86QYo2gr0H7ofmip_TuX-nXppYb45X23RkSbMUzeuTV6lh8ysDwUoT5ywKddnc8g-DlmoPkBpV7dGJiSDNLjPHpC2rBXjmVLjakGAPj6GmhA96BgmzlULViCekqtd9DV40Q5PwVgqxld7qPTGkIDr9XlcATj-mhJHSlHvW-51BpbGVkkm4AdkYziXOORBKKvVYphgmYPE9VnqwmjiMYc302gZQHknAXVrDXbgNfdBhSKtD5Hr82a1Qr3xq4xBZXqYUwFu8CEkjEGQ1SmXTymfsNOnG-MlUid02n4uLYMIN4Un_A5sm-WkpcvN6eOVLxpRHH76atOYqAPKei9I4Sqi7gXdgIuKq9irFC7M2FDGkXjep6uhxUQYSfHRinx5Dp_ZPdFMosrglDd26ouXfks7ig7y2rxH6KwKiJdAHHysQBhmnoRAO2f5Wsfgl7zXBWR2MjL4bsP85gfsIQTigldYzulVGxYXK5WgwqRMzd5IKv-_K61l4o6xzqlQWlSkppPdInI0tq72zlQ8c7NRH5Z761dJmXJJ6JhXMtVOaZxfDBdC6JxbzXPIpVbbfJJah3PSp8phqPv9RVwOvKXYvhQAeAiGoe_B7GrWZYM-X22158f8hGQqL3RXgg1P05bqSMDx-Aphgds_84Q4TjkncaZyaS4Pfu-jMh_ZWhuk6M54p?c=naver.search.pc.plsearch&t=0\" class=\"lnk_url\" target=\"_blank\" onclick='return goOtherCR(this,\"a=pwl_nop.url&r=1&i=nad-a001-01-000000130177974&d=\"+urlencode(\"https://cloud.google.com\")+\"&u=\"+urlencode(this.href))'>cloud.google.com </a></span></div> <a href=\"https://ader.naver.com/v1/Et0D_PmVeutrSdAFUdYm5f86QYo2gr0H7ofmip_TuX-nXppYb45X23RkSbMUzeuTV6lh8ysDwUoT5ywKddnc8g-DlmoPkBpV7dGJiSDNLjPHpC2rBXjmVLjakGAPj6GmhA96BgmzlULViCekqtd9DV40Q5PwVgqxld7qPTGkIDr9XlcATj-mhJHSlHvW-51BpbGVkkm4AdkYziXOORBKKvVYphgmYPE9VnqwmjiMYc302gZQHknAXVrDXbgNfdBhSKtD5Hr82a1Qr3xq4xBZXqYUwFu8CEkjEGQ1SmXTymfsNOnG-MlUid02n4uLYMIN4Un_A5sm-WkpcvN6eOVLxpRHH76atOYqAPKei9I4Sqi7gXdgIuKq9irFC7M2FDGkXjep6uhxUQYSfHRinx5Dp_ZPdFMosrglDd26ouXfks7ig7y2rxH6KwKiJdAHHysQBhmnoRAO2f5Wsfgl7zXBWR2MjL4bsP85gfsIQTigldYzulVGxYXK5WgwqRMzd5IKv-_K61l4o6xzqlQWlSkppPdInI0tq72zlQ8c7NRH5Z761dJmXJJ6JhXMtVOaZxfDBdC6JxbzXPIpVbbfJJah3PSp8phqPv9RVwOvKXYvhQAeAiGoe_B7GrWZYM-X22158f8hGQqL3RXgg1P05bqSMDx-Aphgds_84Q4TjkncaZyaS4Pfu-jMh_ZWhuk6M54p?c=naver.search.pc.plsearch&t=0\" class=\"lnk_head\" target=\"_blank\" onclick='return goOtherCR(this,\"a=pwl_nop.tit&r=1&i=nad-a001-01-000000130177974&d=\"+urlencode(\"https://cloud.google.com\")+\"&u=\"+urlencode(this.href))'>  <span class=\"lnk_tit\">Google Cloud</span>  <span class=\"lnk_tit\">강력한 클라우드 솔루션</span>  <span class=\"lnk_tit\">보안과 완벽한 기능 제공</span>    </a></div> <div class=\"desc_wrap\"><div class=\"desc_area \">  <a href=\"https://ader.naver.com/v1/Et0D_PmVeutrSdAFUdYm5f86QYo2gr0H7ofmip_TuX-nXppYb45X23RkSbMUzeuTV6lh8ysDwUoT5ywKddnc8g-DlmoPkBpV7dGJiSDNLjPHpC2rBXjmVLjakGAPj6GmhA96BgmzlULViCekqtd9DV40Q5PwVgqxld7qPTGkIDr9XlcATj-mhJHSlHvW-51BpbGVkkm4AdkYziXOORBKKvVYphgmYPE9VnqwmjiMYc302gZQHknAXVrDXbgNfdBhSKtD5Hr82a1Qr3xq4xBZXqYUwFu8CEkjEGQ1SmXTymfsNOnG-MlUid02n4uLYMIN4Un_A5sm-WkpcvN6eOVLxpRHH76atOYqAPKei9I4Sqi7gXdgIuKq9irFC7M2FDGkXjep6uhxUQYSfHRinx5Dp_ZPdFMosrglDd26ouXfks7ig7y2rxH6KwKiJdAHHysQBhmnoRAO2f5Wsfgl7zXBWR2MjL4bsP85gfsIQTigldYzulVGxYXK5WgwqRMzd5IKv-_K61l4o6xzqlQWlSkppPdInI0tq72zlQ8c7NRH5Z761dJmXJJ6JhXMtVOaZxfDBdC6JxbzXPIpVbbfJJah3PSp8phqPv9RVwOvKXYvhQAeAiGoe_B7GrWZYM-X22158f8hGQqL3RXgg1P05bqSMDx-Aphgds_84Q4TjkncaZyaS4Pfu-jMh_ZWhuk6M54p?c=naver.search.pc.plsearch&t=0\" class=\"link_desc\" target=\"_blank\" onclick='return goOtherCR(this,\"a=pwl_nop.desc&r=1&i=nad-a001-01-000000130177974&d=\"+urlencode(\"https://cloud.google.com\")+\"&u=\"+urlencode(this.href))'>지금 구축하고 크게 키워보세요. 자동 확장, 지금 무료로 사용 가능. 클라우드 컴퓨팅, 데이터 분석 및 머신러닝을 위한 고성능 인프라입니다. </a>   </div></div>    </div></li><li class=\"lst js-hover-item type_img ext_link type_subtitle\" num=\"\"> <a class=\"lnk_thumb\" href=\"https://ader.naver.com/v1/yZGMiupsE2_oqTd3NhbTW3pObB7YZkgIIaG9SKPN3WkO-SBumDnr9QakRcborjsNbqIg5jM6Dus20DzI1LDPK4_4c1UK7JwP7XM9S3Rij1AUVgHbjXzyYo7efaKHzfMXzZmQIz1ICeKPbjRNhM4VedvG4cqzRQX4ZMuyygwbs5jLQJAdGZGjR_Nz12it9qu5SLAMjRMrx9QrVjmf7zNU5YgS5NbhrOqUJLpBhLf8kkUvhAWPjhbvU2IoBEm9qeRiB8MxkhJWQWvbtwo4ywBydFpItpIP3dY4423_f9kBdS4mum8aPB86KXXIR7nr0JZiipNPgHEAzs8a0oftR3otDdOmdVvTeGdKVkE4bgyAaaY9iIWztTPSw88g-xwBnKFsbH5kMk3reSz_2hDrz-V-XuHMTsrCoi6EX9BiObg52peeAVMYxSt-gTf9-GYdvyl6GD31BMoUcfwCAvFCP0LLTw==?c=naver.search.pc.plsearch&t=0\" onclick='return goOtherCR(this,\"a=pwl_nop.image&r=2&i=nad-a001-01-000000332888788&d=\"+urlencode(\"http://sprint.codeit.kr\")+\"&u=\"+urlencode(this.href))' target=\"_blank\"><img alt=\"링크이미지\" class=\"img_thumb\" src=\"https://searchad-phinf.pstatic.net/MjAyNDEyMDlfMTkw/MDAxNzMzNzM2MTExOTE2.pkdFN3sEoV4NDZTtoWpS13bW_vLK8NFc-mpK241YXQ8g.BGI15a04uhJW8w2vEUk61ZfWXwasw-4k9OQWFGfMjPIg.PNG/3281369-a9fd60f6-cbad-49a7-96a0-527cb212031b.png?type=f160_160\"/> </a><div class=\"inner\"><div class=\"title_url_area\"><div class=\"url_area\"><a href=\"https://ader.naver.com/v1/6xCN83g9di3JKS7rPB_5lDPHKOaU3mT4-A831Eo9dYgX15YmjkgUOnZWQ3o6WePhwDgmuHX8KMmXe5sYIKjBpavDOaVWR39mgKWQwtj6dsCRMau5Ki9KObY3egegPX2Uqhynx3wtyGAppabXACMXcBfUi4a70iTYCmNUNPfba-IxbtVuiHySa6Qo5IwKpxvqQIvJL1vH8ScSzWx4MWoogQrxej_ey1Q64dMax3b5h9FH4RwPHKzpQBvvpRsf6NYlrdunuZIDV87fpzjUX6L49Yf3vUDj4aSbVbQCu6fqzEOBavxtyIhGCRX-6-7pROORkQXigo_u41BER1C9Ow57Gt5o5n3bUQlsxfwAG6jhIiBXrIrjJ-kdv7YznIZOqOoA28LNS-wgyXAbXEBvtpVHOaVQPeysC5PQdLc-m1ppeqhf6HLAnzgsJ3-t0UiUjWrH?c=naver.search.pc.plsearch&t=0\" class=\"favicon_wrap\" target=\"_blank\" onclick='return goOtherCR(this,\"a=pwl_nop.favicon&r=2&i=nad-a001-01-000000332888788&d=\"+urlencode(\"http://sprint.codeit.kr\")+\"&u=\"+urlencode(this.href))'>  <img width=\"16\" height=\"16\" alt=\"favicon\" class=\"icon_favicon\" data-img-alias=\"power-link-favicon-error\" data-lazysrc=\"https://search.pstatic.net/sunny?src&#x3D;https%3A%2F%2Fsprint.codeit.kr%2Fimages%2Ffavicon.ico&amp;type&#x3D;f30_30_png_expire24\" src=\"https://ssl.pstatic.net/adimg3.search/imp/nx/power/pc/230719/img/icon_favicon.png\"/>   </a> <span class=\"icon_nad_mark\"> 광고  </span>   <a href=\"https://ader.naver.com/v1/6xCN83g9di3JKS7rPB_5lDPHKOaU3mT4-A831Eo9dYgX15YmjkgUOnZWQ3o6WePhwDgmuHX8KMmXe5sYIKjBpavDOaVWR39mgKWQwtj6dsCRMau5Ki9KObY3egegPX2Uqhynx3wtyGAppabXACMXcBfUi4a70iTYCmNUNPfba-IxbtVuiHySa6Qo5IwKpxvqQIvJL1vH8ScSzWx4MWoogQrxej_ey1Q64dMax3b5h9FH4RwPHKzpQBvvpRsf6NYlrdunuZIDV87fpzjUX6L49Yf3vUDj4aSbVbQCu6fqzEOBavxtyIhGCRX-6-7pROORkQXigo_u41BER1C9Ow57Gt5o5n3bUQlsxfwAG6jhIiBXrIrjJ-kdv7YznIZOqOoA28LNS-wgyXAbXEBvtpVHOaVQPeysC5PQdLc-m1ppeqhf6HLAnzgsJ3-t0UiUjWrH?c=naver.search.pc.plsearch&t=0\" class=\"site\" target=\"_blank\" onclick='return goOtherCR(this,\"a=pwl_nop.url&r=2&i=nad-a001-01-000000332888788&d=\"+urlencode(\"http://sprint.codeit.kr\")+\"&u=\"+urlencode(this.href))'>코드잇스프린트 </a> <span class=\"lnk_url_area\"><a href=\"https://ader.naver.com/v1/6xCN83g9di3JKS7rPB_5lDPHKOaU3mT4-A831Eo9dYgX15YmjkgUOnZWQ3o6WePhwDgmuHX8KMmXe5sYIKjBpavDOaVWR39mgKWQwtj6dsCRMau5Ki9KObY3egegPX2Uqhynx3wtyGAppabXACMXcBfUi4a70iTYCmNUNPfba-IxbtVuiHySa6Qo5IwKpxvqQIvJL1vH8ScSzWx4MWoogQrxej_ey1Q64dMax3b5h9FH4RwPHKzpQBvvpRsf6NYlrdunuZIDV87fpzjUX6L49Yf3vUDj4aSbVbQCu6fqzEOBavxtyIhGCRX-6-7pROORkQXigo_u41BER1C9Ow57Gt5o5n3bUQlsxfwAG6jhIiBXrIrjJ-kdv7YznIZOqOoA28LNS-wgyXAbXEBvtpVHOaVQPeysC5PQdLc-m1ppeqhf6HLAnzgsJ3-t0UiUjWrH?c=naver.search.pc.plsearch&t=0\" class=\"lnk_url\" target=\"_blank\" onclick='return goOtherCR(this,\"a=pwl_nop.url&r=2&i=nad-a001-01-000000332888788&d=\"+urlencode(\"http://sprint.codeit.kr\")+\"&u=\"+urlencode(this.href))'>sprint.codeit.kr </a></span></div> <a href=\"https://ader.naver.com/v1/6xCN83g9di3JKS7rPB_5lDPHKOaU3mT4-A831Eo9dYgX15YmjkgUOnZWQ3o6WePhwDgmuHX8KMmXe5sYIKjBpavDOaVWR39mgKWQwtj6dsCRMau5Ki9KObY3egegPX2Uqhynx3wtyGAppabXACMXcBfUi4a70iTYCmNUNPfba-IxbtVuiHySa6Qo5IwKpxvqQIvJL1vH8ScSzWx4MWoogQrxej_ey1Q64dMax3b5h9FH4RwPHKzpQBvvpRsf6NYlrdunuZIDV87fpzjUX6L49Yf3vUDj4aSbVbQCu6fqzEOBavxtyIhGCRX-6-7pROORkQXigo_u41BER1C9Ow57Gt5o5n3bUQlsxfwAG6jhIiBXrIrjJ-kdv7YznIZOqOoA28LNS-wgyXAbXEBvtpVHOaVQPeysC5PQdLc-m1ppeqhf6HLAnzgsJ3-t0UiUjWrH?c=naver.search.pc.plsearch&t=0\" class=\"lnk_head\" target=\"_blank\" onclick='return goOtherCR(this,\"a=pwl_nop.tit&r=2&i=nad-a001-01-000000332888788&d=\"+urlencode(\"http://sprint.codeit.kr\")+\"&u=\"+urlencode(this.href))'>  <span class=\"lnk_tit\">코드잇 AI엔지니어 부트캠프</span>  <span class=\"lnk_tit\">선착순 모집중!</span>  <span class=\"lnk_tit\">지금 지원하면 맥북 무상지원</span>    </a></div> <div class=\"desc_wrap\"><div class=\"desc_area \">  <a href=\"https://ader.naver.com/v1/6xCN83g9di3JKS7rPB_5lDPHKOaU3mT4-A831Eo9dYgX15YmjkgUOnZWQ3o6WePhwDgmuHX8KMmXe5sYIKjBpavDOaVWR39mgKWQwtj6dsCRMau5Ki9KObY3egegPX2Uqhynx3wtyGAppabXACMXcBfUi4a70iTYCmNUNPfba-IxbtVuiHySa6Qo5IwKpxvqQIvJL1vH8ScSzWx4MWoogQrxej_ey1Q64dMax3b5h9FH4RwPHKzpQBvvpRsf6NYlrdunuZIDV87fpzjUX6L49Yf3vUDj4aSbVbQCu6fqzEOBavxtyIhGCRX-6-7pROORkQXigo_u41BER1C9Ow57Gt5o5n3bUQlsxfwAG6jhIiBXrIrjJ-kdv7YznIZOqOoA28LNS-wgyXAbXEBvtpVHOaVQPeysC5PQdLc-m1ppeqhf6HLAnzgsJ3-t0UiUjWrH?c=naver.search.pc.plsearch&t=0\" class=\"link_desc\" target=\"_blank\" onclick='return goOtherCR(this,\"a=pwl_nop.desc&r=2&i=nad-a001-01-000000332888788&d=\"+urlencode(\"http://sprint.codeit.kr\")+\"&u=\"+urlencode(this.href))'>발전하는 AI산업에서 커리어 전환! 국비지원으로 AI엔지니어 취업 과정 전액 무료 포트폴리오부터 개발 실무 경험까지 한방에 완성하세요 </a>   </div></div>  <ul class=\"lst_link\"><li class=\"item\"><a class=\"link\" href=\"https://ader.naver.com/v1/gJr5aWkPzl8ggWfRHcdHwfRALztl6-Tn7Xvbuq2yH_VGUSk0cw1NrCoEHViWUSWP33LkQxn-C73x2XbVNgZ-Ms9tdUZ_qIE2wS_MtrnSeDfnwXvLL8hIDftzBNg_-WWz1SNQw-8RpfaqUCaG1kaZseQ16r2tmc-RPmgHi7s45NosftSjEqvC6rgdQx-OOxJ1dZkUUlCVj8TtEy-gjXYxijaCPoqS4YcZErBXCyt5kxoxeqivvighs1WoMGxfufIoSqk5phifXHdjnkX1agvM6nMU6hbLDh62rpI9UZp7VmcAIbMxIk-kHV8aDnzKs9U7BlYWEJLCBGZNMG496mqVisbUQdbbkD9LcFdiF-2S97AQu5anfPImXvVFaHr2h58aIt7GuugnYjiq6U9JWukCkJiDWfhJZDdIGRkLJUFcD7dpQi2GWG4lB8CFfJJ6kXMGGVwwSw29M7y7RMweBWRkXQ==?c=naver.search.pc.plsearch&t=0\" target=\"_blank\" onclick='return goOtherCR(this,\"a=pwl_nop.sublink1&r=2&i=nad-a001-01-000000332888788&d=\"+urlencode(\"http://sprint.codeit.kr\")+\"&u=\"+urlencode(this.href))'>백엔드 취업</a></li><li class=\"item\"><a class=\"link\" href=\"https://ader.naver.com/v1/FTVh0iN-htN30f1-BTQcQ5r2Yh1ijTotox5drpa62BJq8-JadHlZGtsTr9V-9QpZmnz5IIAD89YE-soVacIUoZwgcay7zv1p3OSTOcEFboI3y0GSH3HgKrnLDMcwG7Y2G0WLX6qxGyHbTKoc-iAa4xXB2ZaiVFhuVKvLkxg8_QCV7pIRdMhvXuKzLw_hISCtSOV-t9KwkiUr0vf77Ms10RQIVhGQKNbGlPJdlgGgTRWX07ti4KB_kJkhcuTU4_ajRikmMEotEfDQtc95LvL5S49advtvdtk976jW9ceCS0OdVaqkRIjf_pds1aQnpqfhvTlKhw7pvaJLkr7m_mZW69DHXgH8PPV2wOrn0q6x1Yta2o2lXWD5UuQLKhllVll-wU_Dpc1kn3lhxMCtH-eMs20aQry3JbQ5aLSEErXnw7RA1OzkVpLJOq--DclPr6XzcD1M0tNVMGv6yd4QGRcU56vmu0I-PBbi84loyfdcLNk=?c=naver.search.pc.plsearch&t=0\" target=\"_blank\" onclick='return goOtherCR(this,\"a=pwl_nop.sublink2&r=2&i=nad-a001-01-000000332888788&d=\"+urlencode(\"http://sprint.codeit.kr\")+\"&u=\"+urlencode(this.href))'>PM 취업</a></li><li class=\"item\"><a class=\"link\" href=\"https://ader.naver.com/v1/y7Dw9x-AOIHS4wcVBpksdA9QeBwc_9MGeHw1o3wjKO69N3iBqEVq_DF8LJeJZUUHqbC-j4uN4p6y9sRUfkqp5oeOduJV-0yh1zaBDRFDWT_8pHlHQaeAaQsWptDrxXsQTG7Qfj99_EB56cUsb8AmyjPQDKFTsiuc5OESGabt-hwBH7zYT5orvvEhfz04Pz-Y8byGAPkmkEMneGhrLinMn5dkaetfjM95udS0K6NFQkttn7PMAbSbM95xw81WUFGQT89DJUn-J96VGB_9eSjOC3jrIZd7UUkGFvkTeUlb9NWGG2VGU2rrhtI7OM-gc6MtBZyDC9FudRHkF-geIe9eRY3uz5-LtlXFaC_MmI47expgW1dooo8R69Wg4VkQRRiNFX8TG2_myY_5v7f51feAXMwSqlYzT1PHLKzOFzQN8-1m4Y6hugN_VPkEpdhdEqMbcrDfCNH52xPDL9XC63upzg==?c=naver.search.pc.plsearch&t=0\" target=\"_blank\" onclick='return goOtherCR(this,\"a=pwl_nop.sublink3&r=2&i=nad-a001-01-000000332888788&d=\"+urlencode(\"http://sprint.codeit.kr\")+\"&u=\"+urlencode(this.href))'>AI엔지니어</a></li></ul>  </div></li><li class=\"lst js-hover-item type_img type_subtitle\" num=\"\"> <a class=\"lnk_thumb\" href=\"https://ader.naver.com/v1/hX2UJk_mNc15kGuXPEzKXMCVAAVtJJhIFm_8vLG8VyNYW1MhRq6m7Uo_dIZ8Zw-LmhXd-xA2Mdl6uYun4dfyRK1EZSjA4SPwM9Ene6-1K4U9HT-qrRnUCycs5FFGsALGSonAB-F6WoIDE7QUnq0eTBaW-lHf-ZRm4f1G_pFjcWoZhYetJgHJXNS9Eum1RICpMtIGjk2OxuGpB8_U6n2ddxseeZ45Hz5L63t4n8b_QnXjme15KwZK53D8tUZ2yOoPdI3j5MwDZddSBPOfCSZ4ZWx3qbLKvBLltiUViApJgYorMm0GWAnlxPtprrXv0jo1eQxXzqqqHNbpNwC_mmZkp7IsN5ow-_cgnqDQlUvB-s5ctV9MiNKGpG0puuBfrZBTmyCI7oYYS2LqjptiB0FC6Q==?c=naver.search.pc.plsearch&t=0\" onclick='return goOtherCR(this,\"a=pwl_nop.image&r=3&i=nad-a001-01-000000315370199&d=\"+urlencode(\"https://www.qt.io/ko-kr\")+\"&u=\"+urlencode(this.href))' target=\"_blank\"><img alt=\"링크이미지\" class=\"img_thumb\" src=\"https://searchad-phinf.pstatic.net/MjAyNDA4MTJfMTk1/MDAxNzIzNDQ2ODczMzgy.DUlu2WSM675B9ThBfNqM7FL5tmHuNGj5U2xcieGuFiQg.UKs1qbYrl-PpFQ9QqGUH32pWShTTNuVgo5caIwWj9M0g.PNG/2544241-be039182-cd80-4bac-b4bd-38293805dd50.png?type=f160_160\"/> </a><div class=\"inner\"><div class=\"title_url_area\"><div class=\"url_area\"><a href=\"https://ader.naver.com/v1/k7Ysn4sVaftNLdwlSihvHC0Lna8aOcP1-TX0vEjwgxia1GqrqZ6izf0OFbqzG3wICTbAPLzAh09tiyd3EfytCtq6pu0oCqcLnHkQYLab8AOzw3LvfdD2XtuzxFDA20sql4CAu8rIGd1Vt1hj-_-Doa-QMSMLuA0ZdN6ZYDGfpJ4JUrNOigQfz-V51-VkccujIwbQAl7rHAqSOBLQwdZfju_0oFq4dED0F1422T_Ft2w3TB4TUMMdUqaQ5jbzARg4BKGvwk27-3grt9rAos7NnSUV3xyV8hzgpAi7aZKcK80SfHanCBQVlLIjMaAlAvH5_aVBAOAG1tabyrRADafxSZWkSfUk9b28BrC6USXEN_QpKp_XvLN1HeIRJeHmzxWO?c=naver.search.pc.plsearch&t=0\" class=\"favicon_wrap\" target=\"_blank\" onclick='return goOtherCR(this,\"a=pwl_nop.favicon&r=3&i=nad-a001-01-000000315370199&d=\"+urlencode(\"https://www.qt.io/ko-kr\")+\"&u=\"+urlencode(this.href))'>  <img width=\"16\" height=\"16\" alt=\"favicon\" class=\"icon_favicon\" data-img-alias=\"power-link-favicon-error\" data-lazysrc=\"https://search.pstatic.net/sunny?src&#x3D;https%3A%2F%2Fwww.qt.io%2Fhubfs%2FQtGroup_Favicon_32.ico&amp;type&#x3D;f30_30_png_expire24\" src=\"https://ssl.pstatic.net/adimg3.search/imp/nx/power/pc/230719/img/icon_favicon.png\"/>   </a> <span class=\"icon_nad_mark\"> 광고  </span>   <a href=\"https://ader.naver.com/v1/k7Ysn4sVaftNLdwlSihvHC0Lna8aOcP1-TX0vEjwgxia1GqrqZ6izf0OFbqzG3wICTbAPLzAh09tiyd3EfytCtq6pu0oCqcLnHkQYLab8AOzw3LvfdD2XtuzxFDA20sql4CAu8rIGd1Vt1hj-_-Doa-QMSMLuA0ZdN6ZYDGfpJ4JUrNOigQfz-V51-VkccujIwbQAl7rHAqSOBLQwdZfju_0oFq4dED0F1422T_Ft2w3TB4TUMMdUqaQ5jbzARg4BKGvwk27-3grt9rAos7NnSUV3xyV8hzgpAi7aZKcK80SfHanCBQVlLIjMaAlAvH5_aVBAOAG1tabyrRADafxSZWkSfUk9b28BrC6USXEN_QpKp_XvLN1HeIRJeHmzxWO?c=naver.search.pc.plsearch&t=0\" class=\"site\" target=\"_blank\" onclick='return goOtherCR(this,\"a=pwl_nop.url&r=3&i=nad-a001-01-000000315370199&d=\"+urlencode(\"https://www.qt.io/ko-kr\")+\"&u=\"+urlencode(this.href))'>Qt그룹 </a> <span class=\"lnk_url_area\"><a href=\"https://ader.naver.com/v1/k7Ysn4sVaftNLdwlSihvHC0Lna8aOcP1-TX0vEjwgxia1GqrqZ6izf0OFbqzG3wICTbAPLzAh09tiyd3EfytCtq6pu0oCqcLnHkQYLab8AOzw3LvfdD2XtuzxFDA20sql4CAu8rIGd1Vt1hj-_-Doa-QMSMLuA0ZdN6ZYDGfpJ4JUrNOigQfz-V51-VkccujIwbQAl7rHAqSOBLQwdZfju_0oFq4dED0F1422T_Ft2w3TB4TUMMdUqaQ5jbzARg4BKGvwk27-3grt9rAos7NnSUV3xyV8hzgpAi7aZKcK80SfHanCBQVlLIjMaAlAvH5_aVBAOAG1tabyrRADafxSZWkSfUk9b28BrC6USXEN_QpKp_XvLN1HeIRJeHmzxWO?c=naver.search.pc.plsearch&t=0\" class=\"lnk_url\" target=\"_blank\" onclick='return goOtherCR(this,\"a=pwl_nop.url&r=3&i=nad-a001-01-000000315370199&d=\"+urlencode(\"https://www.qt.io/ko-kr\")+\"&u=\"+urlencode(this.href))'>qt.io/ko-kr </a></span></div> <a href=\"https://ader.naver.com/v1/k7Ysn4sVaftNLdwlSihvHC0Lna8aOcP1-TX0vEjwgxia1GqrqZ6izf0OFbqzG3wICTbAPLzAh09tiyd3EfytCtq6pu0oCqcLnHkQYLab8AOzw3LvfdD2XtuzxFDA20sql4CAu8rIGd1Vt1hj-_-Doa-QMSMLuA0ZdN6ZYDGfpJ4JUrNOigQfz-V51-VkccujIwbQAl7rHAqSOBLQwdZfju_0oFq4dED0F1422T_Ft2w3TB4TUMMdUqaQ5jbzARg4BKGvwk27-3grt9rAos7NnSUV3xyV8hzgpAi7aZKcK80SfHanCBQVlLIjMaAlAvH5_aVBAOAG1tabyrRADafxSZWkSfUk9b28BrC6USXEN_QpKp_XvLN1HeIRJeHmzxWO?c=naver.search.pc.plsearch&t=0\" class=\"lnk_head\" target=\"_blank\" onclick='return goOtherCR(this,\"a=pwl_nop.tit&r=3&i=nad-a001-01-000000315370199&d=\"+urlencode(\"https://www.qt.io/ko-kr\")+\"&u=\"+urlencode(this.href))'>  <span class=\"lnk_tit\">Qt 프레임워크</span>    </a></div> <div class=\"desc_wrap\"><div class=\"desc_area \">  <a href=\"https://ader.naver.com/v1/k7Ysn4sVaftNLdwlSihvHC0Lna8aOcP1-TX0vEjwgxia1GqrqZ6izf0OFbqzG3wICTbAPLzAh09tiyd3EfytCtq6pu0oCqcLnHkQYLab8AOzw3LvfdD2XtuzxFDA20sql4CAu8rIGd1Vt1hj-_-Doa-QMSMLuA0ZdN6ZYDGfpJ4JUrNOigQfz-V51-VkccujIwbQAl7rHAqSOBLQwdZfju_0oFq4dED0F1422T_Ft2w3TB4TUMMdUqaQ5jbzARg4BKGvwk27-3grt9rAos7NnSUV3xyV8hzgpAi7aZKcK80SfHanCBQVlLIjMaAlAvH5_aVBAOAG1tabyrRADafxSZWkSfUk9b28BrC6USXEN_QpKp_XvLN1HeIRJeHmzxWO?c=naver.search.pc.plsearch&t=0\" class=\"link_desc\" target=\"_blank\" onclick='return goOtherCR(this,\"a=pwl_nop.desc&r=3&i=nad-a001-01-000000315370199&d=\"+urlencode(\"https://www.qt.io/ko-kr\")+\"&u=\"+urlencode(this.href))'>무료 다운로드! 하나의 프레임워크, 하나의 코드베이스로 GUI 개발 플랫폼 지원 </a>   </div></div>    </div></li><li class=\"lst js-hover-item type_img ext_link type_subtitle\" num=\"\"> <a class=\"lnk_thumb\" href=\"https://ader.naver.com/v1/9b-RVE2qfYdeAioYBUllBYxLJ50nFrwG3p7DUbzqoR3u9X9h7tk0CVUnS-7eNsptL2jSZkn6WY5DVoPCLs5fyhLfA6YJln6gq0GhOghyVte4J7nVAXHlUnI9C7Vmos0z6I7qrftTkk9XaIWu-h8KINZnkUoZbpS4tN87m8F53SirvoJKeS5nD4mfExcPOPB5NcYPFlCbKMxYsvu7V615eMYbc9DUxTkUasL-BJrs4kBtszwX6tGL3npevo8ApnNE-g0YSEBvWxe-oDsp8aw7aICllLTxjHcUkjpLD4PMQW2LTkCODihMtI7iappKEJKnj8VgVU6J4g3tbgD4cav5ZNxNxH6GcbdI5WHjWnIX3qwJSRrEEZVni8fUy0xM80bNVK0F4yLNVEJDsAAiSgMt2bp7IsnRq94_dclimdHf0YFo75lQgmCIAhkleChCTVMP8AUIXk0X-ahyHGLTpSeTfA==?c=naver.search.pc.plsearch&t=0\" onclick='return goOtherCR(this,\"a=pwl_nop.image&r=4&i=nad-a001-01-000000404291308&d=\"+urlencode(\"https://camp.modulabs.co.kr/ds\")+\"&u=\"+urlencode(this.href))' target=\"_blank\"><img alt=\"링크이미지\" class=\"img_thumb\" src=\"https://searchad-phinf.pstatic.net/MjAyNTA4MDZfMjAz/MDAxNzU0NDY2OTI2ODE0.ufBAey2CJSdr6XOIcgaMiW3UHxrYFa1QllM2ybRcieAg.Nqz130QXsepXVhtyuXSo-0DE8_3riz3FDfJq5s3nhW4g.JPEG/2992538-e9b4446a-9ee4-412c-ad0a-132bcb6da300.JPG?type=f160_160\"/> </a><div class=\"inner\"><div class=\"title_url_area\"><div class=\"url_area\"><a href=\"https://ader.naver.com/v1/86Od-H-zbEZGIlzZDOHJT2a9kV3_EiKCbhCrUQh3-ppSF21Blf96IALFslCqODRQcqrg2r-_VJNlI0KklrCTKzj7U-Ryn0155yN4DcMWV65UKuiJq-mrFHoZRw9d--5a37qyFIph-J7pk7s_zuobNVyEUxFSodSeMRxZ55iRxeE6bplht4QaaOEKucjtaO6LZtlaTClDRStYBw4ZnWFSHnLucb9px_RPetS8suV4_A3o60y_OrrdRHCkKLage_42et39rQNyv_Ige_Kw0ocDP_dl9wEhmCTmKcVqYBc8Un--AEx1HFY7BaTV6RH90V9oZ4nKUUtr54bcWGBNIXpBf5PlYYDDVq5At0qGBG_XTjZ-H2xcDEkxl0KwWqLJKIBwK8Eabv5o6pke0MdMQmgP6QRv4VhzRLHqFLZKD5Nz0n1CLDvSHoaf2TArBgfv8Ajy?c=naver.search.pc.plsearch&t=0\" class=\"favicon_wrap\" target=\"_blank\" onclick='return goOtherCR(this,\"a=pwl_nop.favicon&r=4&i=nad-a001-01-000000404291308&d=\"+urlencode(\"https://camp.modulabs.co.kr/ds\")+\"&u=\"+urlencode(this.href))'>  <img width=\"16\" height=\"16\" alt=\"favicon\" class=\"icon_favicon\" data-img-alias=\"power-link-favicon-error\" data-lazysrc=\"https://search.pstatic.net/sunny?src&#x3D;https%3A%2F%2Fframerusercontent.com%2Fimages%2Faj0Yv6aHsJTUQRlKmlaaK4FfN3U.png&amp;type&#x3D;f30_30_png_expire24\" src=\"https://ssl.pstatic.net/adimg3.search/imp/nx/power/pc/230719/img/icon_favicon.png\"/>   </a> <span class=\"icon_nad_mark\"> 광고  </span>   <a href=\"https://ader.naver.com/v1/86Od-H-zbEZGIlzZDOHJT2a9kV3_EiKCbhCrUQh3-ppSF21Blf96IALFslCqODRQcqrg2r-_VJNlI0KklrCTKzj7U-Ryn0155yN4DcMWV65UKuiJq-mrFHoZRw9d--5a37qyFIph-J7pk7s_zuobNVyEUxFSodSeMRxZ55iRxeE6bplht4QaaOEKucjtaO6LZtlaTClDRStYBw4ZnWFSHnLucb9px_RPetS8suV4_A3o60y_OrrdRHCkKLage_42et39rQNyv_Ige_Kw0ocDP_dl9wEhmCTmKcVqYBc8Un--AEx1HFY7BaTV6RH90V9oZ4nKUUtr54bcWGBNIXpBf5PlYYDDVq5At0qGBG_XTjZ-H2xcDEkxl0KwWqLJKIBwK8Eabv5o6pke0MdMQmgP6QRv4VhzRLHqFLZKD5Nz0n1CLDvSHoaf2TArBgfv8Ajy?c=naver.search.pc.plsearch&t=0\" class=\"site\" target=\"_blank\" onclick='return goOtherCR(this,\"a=pwl_nop.url&r=4&i=nad-a001-01-000000404291308&d=\"+urlencode(\"https://camp.modulabs.co.kr/ds\")+\"&u=\"+urlencode(this.href))'>모두의연구소 </a> <span class=\"lnk_url_area\"><a href=\"https://ader.naver.com/v1/86Od-H-zbEZGIlzZDOHJT2a9kV3_EiKCbhCrUQh3-ppSF21Blf96IALFslCqODRQcqrg2r-_VJNlI0KklrCTKzj7U-Ryn0155yN4DcMWV65UKuiJq-mrFHoZRw9d--5a37qyFIph-J7pk7s_zuobNVyEUxFSodSeMRxZ55iRxeE6bplht4QaaOEKucjtaO6LZtlaTClDRStYBw4ZnWFSHnLucb9px_RPetS8suV4_A3o60y_OrrdRHCkKLage_42et39rQNyv_Ige_Kw0ocDP_dl9wEhmCTmKcVqYBc8Un--AEx1HFY7BaTV6RH90V9oZ4nKUUtr54bcWGBNIXpBf5PlYYDDVq5At0qGBG_XTjZ-H2xcDEkxl0KwWqLJKIBwK8Eabv5o6pke0MdMQmgP6QRv4VhzRLHqFLZKD5Nz0n1CLDvSHoaf2TArBgfv8Ajy?c=naver.search.pc.plsearch&t=0\" class=\"lnk_url\" target=\"_blank\" onclick='return goOtherCR(this,\"a=pwl_nop.url&r=4&i=nad-a001-01-000000404291308&d=\"+urlencode(\"https://camp.modulabs.co.kr/ds\")+\"&u=\"+urlencode(this.href))'>camp.modulabs.co.kr/ds </a></span></div> <a href=\"https://ader.naver.com/v1/86Od-H-zbEZGIlzZDOHJT2a9kV3_EiKCbhCrUQh3-ppSF21Blf96IALFslCqODRQcqrg2r-_VJNlI0KklrCTKzj7U-Ryn0155yN4DcMWV65UKuiJq-mrFHoZRw9d--5a37qyFIph-J7pk7s_zuobNVyEUxFSodSeMRxZ55iRxeE6bplht4QaaOEKucjtaO6LZtlaTClDRStYBw4ZnWFSHnLucb9px_RPetS8suV4_A3o60y_OrrdRHCkKLage_42et39rQNyv_Ige_Kw0ocDP_dl9wEhmCTmKcVqYBc8Un--AEx1HFY7BaTV6RH90V9oZ4nKUUtr54bcWGBNIXpBf5PlYYDDVq5At0qGBG_XTjZ-H2xcDEkxl0KwWqLJKIBwK8Eabv5o6pke0MdMQmgP6QRv4VhzRLHqFLZKD5Nz0n1CLDvSHoaf2TArBgfv8Ajy?c=naver.search.pc.plsearch&t=0\" class=\"lnk_head\" target=\"_blank\" onclick='return goOtherCR(this,\"a=pwl_nop.tit&r=4&i=nad-a001-01-000000404291308&d=\"+urlencode(\"https://camp.modulabs.co.kr/ds\")+\"&u=\"+urlencode(this.href))'>  <span class=\"lnk_tit\">모두의연구소, 데이터전문과정</span>  <span class=\"lnk_tit\">취업 지원 및 인턴십 기회</span>  <span class=\"lnk_tit\">수강료 전액 국비지원</span>    </a></div> <div class=\"desc_wrap\"><div class=\"desc_area \">  <a href=\"https://ader.naver.com/v1/86Od-H-zbEZGIlzZDOHJT2a9kV3_EiKCbhCrUQh3-ppSF21Blf96IALFslCqODRQcqrg2r-_VJNlI0KklrCTKzj7U-Ryn0155yN4DcMWV65UKuiJq-mrFHoZRw9d--5a37qyFIph-J7pk7s_zuobNVyEUxFSodSeMRxZ55iRxeE6bplht4QaaOEKucjtaO6LZtlaTClDRStYBw4ZnWFSHnLucb9px_RPetS8suV4_A3o60y_OrrdRHCkKLage_42et39rQNyv_Ige_Kw0ocDP_dl9wEhmCTmKcVqYBc8Un--AEx1HFY7BaTV6RH90V9oZ4nKUUtr54bcWGBNIXpBf5PlYYDDVq5At0qGBG_XTjZ-H2xcDEkxl0KwWqLJKIBwK8Eabv5o6pke0MdMQmgP6QRv4VhzRLHqFLZKD5Nz0n1CLDvSHoaf2TArBgfv8Ajy?c=naver.search.pc.plsearch&t=0\" class=\"link_desc\" target=\"_blank\" onclick='return goOtherCR(this,\"a=pwl_nop.desc&r=4&i=nad-a001-01-000000404291308&d=\"+urlencode(\"https://camp.modulabs.co.kr/ds\")+\"&u=\"+urlencode(this.href))'>SQL,통계 기초부터 심화까지 탄탄한 커리큘럼! 수많은 사람들이 선택한 데이터강의 </a>   </div></div>  <ul class=\"lst_link\"><li class=\"item\"><a class=\"link\" href=\"https://ader.naver.com/v1/z1LOMfUoHm4o0F8LBLpKQfPPcg0jKTgC8bo0lqwdcCJgAJCvVtb7VIdle_ygLAR2RWUWhNaYBwfD4DJ5olzYA1NVfarCw0cgyFZxY-QTzZbizHUsvI0MO7y2bjOArF_0mXemyn9rfbKJk2RvSdtKmwsw0YZhlTBwCBZXZbaswA1i6IJco3f3mx6YfzyqAL-e3qDLKTdH4p1MWfP1AF_Znj1rRi_BoALfrI2Wrxv35n5kJ5m37E4uIR1HFAl12S9L6cBD4koZaaSkbal5pWbkkTgSGzyq-AdN7TQliDST_1wu7M5hvy8c0L8ujgrdRxQ6wIlH2E6nbBuKPy-qE771YsnYYb5w8Kwwa2DyBHzyxim5Fxt9f3-1G3bCtqAfCewqlhImi4ckfTUIMkCOcbgxl8NAIjVYnl4M5GfuOUCEnCGjzwQ5HmRpm1V1A-Eqe8UAGKMCGYgF-_s_5fZ0RXTl6c90T5GJLRSocnD6bQ7F0KrmXqoW-DrA38TGkCD058zx?c=naver.search.pc.plsearch&t=0\" target=\"_blank\" onclick='return goOtherCR(this,\"a=pwl_nop.sublink1&r=4&i=nad-a001-01-000000404291308&d=\"+urlencode(\"https://camp.modulabs.co.kr/ds\")+\"&u=\"+urlencode(this.href))'>커리큘럼</a></li><li class=\"item\"><a class=\"link\" href=\"https://ader.naver.com/v1/2mtC2D0Ffvses8WCv7vgE1ZCE4mc4JSjl8LYqJk8bgLRjMk2bWKJpLv2ufGWZPZwvKo463p4py9dOr394Fg6o9DbVdzIy1GM2kszLA8ZGsh_UIlYSwsp1z7xfHK5KEQ7O6P8XfKHPr8Z-B2RXin1ROxYCgRHlhgVv3pSckFXSLJhbgKa2LS8fWIaxPHDInlbThNQmgnYOaA-zYEfuyO5GXyA_2AkFfYVF2ZvJyT_29bCQW-1tUPJRdLsMJA8PG_WLY8Adl04d4m5p2aU0htVKdniIochI6nNMRSkdeaB-i5S9huEuOSw1kNOUAuQgwwJH10lcfhYc5jdsoh356D2KGaQgEB1rO9PXdwZzBbQQ5VwgetL4FIdFWSmyMz3-BgGBbu9CvKgTm9a7Y5FIRD9wQugUc0eCgqfjPeZ8xSnhBtHBO9ZustmHeM4p29KZ6AhyHxmUzxZc7W8HlQWVB0Fcg==?c=naver.search.pc.plsearch&t=0\" target=\"_blank\" onclick='return goOtherCR(this,\"a=pwl_nop.sublink2&r=4&i=nad-a001-01-000000404291308&d=\"+urlencode(\"https://camp.modulabs.co.kr/ds\")+\"&u=\"+urlencode(this.href))'>모집개요</a></li><li class=\"item\"><a class=\"link\" href=\"https://ader.naver.com/v1/wPOI-1-NEAPmD1fgmykhWPiE_KgySWmdXoUw-gXYkRNMNLBR4gCcTZ361e1Hx92UvxFp2Gb5xRY-hcJ88-sUBVWsi3lotNGWq7Txri4mZei2YeOiyXfpW8YnhT2X4BnQQncNUoH1XMhmXXCyNvet0KYHbDNbLkKM0noS-JpjCEnhIdjMvvXYr67HiTifVrLTPoD0U81qrYQqCd1M03j1-sDEp-nJ70xewzymM8HdGjgVfHrqjdb9K5BuhxHm0NKAu9XZAxCdxYOfjC1Zs3-KYG6FruA1wRqe6CoO0fSIfYFcK5luddB4bEd_S20wFnMlCu1L4qbVSEXDTuBeuRPm-R7sMu6TRvacLHpmkh787aos-0i3OLuPIXwwN51RmhTxyfzlZOYi3G5nwTVEuq28FeCnVuZ3kItKLEpA-I_Z9pFpU-ZDUhYBBQREnpMxFv40qavP2d5TzmtjgJc9yeJwS5nbUcfA7trLKREh9igjBwqdAW9YiF6xWQYjNynYC6EF?c=naver.search.pc.plsearch&t=0\" target=\"_blank\" onclick='return goOtherCR(this,\"a=pwl_nop.sublink3&r=4&i=nad-a001-01-000000404291308&d=\"+urlencode(\"https://camp.modulabs.co.kr/ds\")+\"&u=\"+urlencode(this.href))'>수강후기</a></li><li class=\"item\"><a class=\"link\" href=\"https://ader.naver.com/v1/mVIlA50kngq6t33LVyue2sBWj9hwmCGJDPZCOZcPxQQTfRJoqBxB3WG9GoNx21QmL3gG_alalFqHApgMdUMeZuZ3ETlJV3zz05GwPSIPDEGHAxGIcA9mX5MWy2X2NV6K_UJgKijq2W_oBLm57KQjmrsazDokxwI2PUGORSpD7Xl3uGran1nEAdd3zoaXdB9lc_jcMGup8fPgApAVg6VizuEOxzZfAKRqE_nzZ3RU38xfh6VO6dCVrprafj8FAg7r1aVSoGGvnz1x3zq8HHfmpqsTfdU4HsHQ6xpQdwXVGq6CLlbCBnp42kZlbcVSENBLn388mRludFJBPJmVI4hjJrdVgiVmQsL_0trOk6Ljz6Rbaewt1bDcoT0mM5MdjKsqOq19bsb40twGvN-MXG0-INEbUVmC3b_FApqevMDv3EVl7WSB8ITBzQF4GOms7rbHLwBSH1FnG3mmaItBIYMNww==?c=naver.search.pc.plsearch&t=0\" target=\"_blank\" onclick='return goOtherCR(this,\"a=pwl_nop.sublink4&r=4&i=nad-a001-01-000000404291308&d=\"+urlencode(\"https://camp.modulabs.co.kr/ds\")+\"&u=\"+urlencode(this.href))'>FAQ</a></li></ul>  </div></li><li class=\"lst js-hover-item type_img ext_link type_subtitle\" num=\"\"> <a class=\"lnk_thumb\" href=\"https://ader.naver.com/v1/nsumuu0Lz247y0J_5tLhcC5r5KPVkofnuqvxdznUauL3whUvgtWFXdJeENWK1CQ7tBugBmtLnWbZS0UpUB_kNPX8jo8DR86InpJELyM1DfGNj8amLPQ2mM1Bi5rfmhfMmFGBnW0h4AOyLcC_S-AIh1IAXrBRJZOJaP7bd3sthzfBkciYKH6OZJJdTs0HIL5yfVh1sSmI9HZuzDPAZDximLhUy3rgVpvBrGhPTZUQspjOJUUSxjO0iLKqas4St_X_V21G4BDWmeHMDN-IuSBq75F0MJX1-KtUJVoVu-aupjtSyQ_E3GfvdDyB5SmfN8D46_wzjh5miP7paX04xUxL7Ej6gEVmv6m6TWbMbgfiSgsGuf7_tmGfyOHnEVgSwMlnWFSG-brEwdorojBslQ2hzA==?c=naver.search.pc.plsearch&t=0\" onclick='return goOtherCR(this,\"a=pwl_nop.image&r=5&i=nad-a001-01-000000405503791&d=\"+urlencode(\"http://www.koreaitacademy.com\")+\"&u=\"+urlencode(this.href))' target=\"_blank\"><img alt=\"링크이미지\" class=\"img_thumb\" src=\"https://searchad-phinf.pstatic.net/MjAyMzA0MjFfMjM5/MDAxNjgyMDU1MTY4MjEx.mpvVJqUdICTidpJGzdfn7ONv6PUp2Vn6248QTBw5HEcg.uvp0s76mNlPQPk1ZDjaqN2NaLCybCkK_-Hizb7GnQT0g.PNG/980642-2240e0eb-9595-4379-bf42-15b0a23590b1.png?type=f160_160\"/> </a><div class=\"inner\"><div class=\"title_url_area\"><div class=\"url_area\"><a href=\"https://ader.naver.com/v1/0gMz0UX8_Lm0DppMX0NJqHJ2vcpU1jXVxBPJOahyftKhR78eldrGtLjsp6-DnTFqnx6VR1X7AkQErJsIpfOzKuOeo2JjW7stC_t1oy32uZ2ZIibZdX5WJfwLbfhxJx0MFc29EsonB02YFdhz5F_gF_P9zi8NHqRMfB3V373b9sXCqtTVSsZcmdUaj_vw2j7ELNa3_Ll9Fs9iWWRLE5xypum5rdzzsSDeyCC30z-AGjPaZPwJfugR6PIUqWvPNKnxkUokuSd4pUV0pvVABpzUSYXLbeqxqppVU7q9Suul1eHwy_XIkMCk8I4WnGzV-cf3CoXIY4yFyz7WX9zg-xWucOALEpqoMCQA57jwjP71I8d_CjIgmU6dB-ddnxwLabiP?c=naver.search.pc.plsearch&t=0\" class=\"favicon_wrap\" target=\"_blank\" onclick='return goOtherCR(this,\"a=pwl_nop.favicon&r=5&i=nad-a001-01-000000405503791&d=\"+urlencode(\"http://www.koreaitacademy.com\")+\"&u=\"+urlencode(this.href))'>  <img width=\"16\" height=\"16\" alt=\"favicon\" class=\"icon_favicon\" data-img-alias=\"power-link-favicon-error\" data-lazysrc=\"https://search.pstatic.net/sunny?src&#x3D;https%3A%2F%2Fwww.koreaitacademy.com%2F2023%2Fimg%2Fico%2F152.png&amp;type&#x3D;f30_30_png_expire24\" src=\"https://ssl.pstatic.net/adimg3.search/imp/nx/power/pc/230719/img/icon_favicon.png\"/>   </a> <span class=\"icon_nad_mark\"> 광고  </span>   <a href=\"https://ader.naver.com/v1/0gMz0UX8_Lm0DppMX0NJqHJ2vcpU1jXVxBPJOahyftKhR78eldrGtLjsp6-DnTFqnx6VR1X7AkQErJsIpfOzKuOeo2JjW7stC_t1oy32uZ2ZIibZdX5WJfwLbfhxJx0MFc29EsonB02YFdhz5F_gF_P9zi8NHqRMfB3V373b9sXCqtTVSsZcmdUaj_vw2j7ELNa3_Ll9Fs9iWWRLE5xypum5rdzzsSDeyCC30z-AGjPaZPwJfugR6PIUqWvPNKnxkUokuSd4pUV0pvVABpzUSYXLbeqxqppVU7q9Suul1eHwy_XIkMCk8I4WnGzV-cf3CoXIY4yFyz7WX9zg-xWucOALEpqoMCQA57jwjP71I8d_CjIgmU6dB-ddnxwLabiP?c=naver.search.pc.plsearch&t=0\" class=\"site\" target=\"_blank\" onclick='return goOtherCR(this,\"a=pwl_nop.url&r=5&i=nad-a001-01-000000405503791&d=\"+urlencode(\"http://www.koreaitacademy.com\")+\"&u=\"+urlencode(this.href))'>빅데이터AI교육은 </a> <span class=\"lnk_url_area\"><a href=\"https://ader.naver.com/v1/0gMz0UX8_Lm0DppMX0NJqHJ2vcpU1jXVxBPJOahyftKhR78eldrGtLjsp6-DnTFqnx6VR1X7AkQErJsIpfOzKuOeo2JjW7stC_t1oy32uZ2ZIibZdX5WJfwLbfhxJx0MFc29EsonB02YFdhz5F_gF_P9zi8NHqRMfB3V373b9sXCqtTVSsZcmdUaj_vw2j7ELNa3_Ll9Fs9iWWRLE5xypum5rdzzsSDeyCC30z-AGjPaZPwJfugR6PIUqWvPNKnxkUokuSd4pUV0pvVABpzUSYXLbeqxqppVU7q9Suul1eHwy_XIkMCk8I4WnGzV-cf3CoXIY4yFyz7WX9zg-xWucOALEpqoMCQA57jwjP71I8d_CjIgmU6dB-ddnxwLabiP?c=naver.search.pc.plsearch&t=0\" class=\"lnk_url\" target=\"_blank\" onclick='return goOtherCR(this,\"a=pwl_nop.url&r=5&i=nad-a001-01-000000405503791&d=\"+urlencode(\"http://www.koreaitacademy.com\")+\"&u=\"+urlencode(this.href))'>koreaitacademy.com </a></span></div> <a href=\"https://ader.naver.com/v1/0gMz0UX8_Lm0DppMX0NJqHJ2vcpU1jXVxBPJOahyftKhR78eldrGtLjsp6-DnTFqnx6VR1X7AkQErJsIpfOzKuOeo2JjW7stC_t1oy32uZ2ZIibZdX5WJfwLbfhxJx0MFc29EsonB02YFdhz5F_gF_P9zi8NHqRMfB3V373b9sXCqtTVSsZcmdUaj_vw2j7ELNa3_Ll9Fs9iWWRLE5xypum5rdzzsSDeyCC30z-AGjPaZPwJfugR6PIUqWvPNKnxkUokuSd4pUV0pvVABpzUSYXLbeqxqppVU7q9Suul1eHwy_XIkMCk8I4WnGzV-cf3CoXIY4yFyz7WX9zg-xWucOALEpqoMCQA57jwjP71I8d_CjIgmU6dB-ddnxwLabiP?c=naver.search.pc.plsearch&t=0\" class=\"lnk_head\" target=\"_blank\" onclick='return goOtherCR(this,\"a=pwl_nop.tit&r=5&i=nad-a001-01-000000405503791&d=\"+urlencode(\"http://www.koreaitacademy.com\")+\"&u=\"+urlencode(this.href))'>  <span class=\"lnk_tit\">파이썬학원 코리아IT아카데미</span>  <span class=\"lnk_tit\">국비지원 최대 100%</span>  <span class=\"lnk_tit\">월 최대 121만원 지원</span>    </a></div> <div class=\"desc_wrap\"><div class=\"desc_area \">  <a href=\"https://ader.naver.com/v1/0gMz0UX8_Lm0DppMX0NJqHJ2vcpU1jXVxBPJOahyftKhR78eldrGtLjsp6-DnTFqnx6VR1X7AkQErJsIpfOzKuOeo2JjW7stC_t1oy32uZ2ZIibZdX5WJfwLbfhxJx0MFc29EsonB02YFdhz5F_gF_P9zi8NHqRMfB3V373b9sXCqtTVSsZcmdUaj_vw2j7ELNa3_Ll9Fs9iWWRLE5xypum5rdzzsSDeyCC30z-AGjPaZPwJfugR6PIUqWvPNKnxkUokuSd4pUV0pvVABpzUSYXLbeqxqppVU7q9Suul1eHwy_XIkMCk8I4WnGzV-cf3CoXIY4yFyz7WX9zg-xWucOALEpqoMCQA57jwjP71I8d_CjIgmU6dB-ddnxwLabiP?c=naver.search.pc.plsearch&t=0\" class=\"link_desc\" target=\"_blank\" onclick='return goOtherCR(this,\"a=pwl_nop.desc&r=5&i=nad-a001-01-000000405503791&d=\"+urlencode(\"http://www.koreaitacademy.com\")+\"&u=\"+urlencode(this.href))'>파이썬학원 코딩을 쉽고 빠르게 빅데이터,AI,프론트엔드,백엔드 상위과정의 기초언어 </a>   </div></div>  <ul class=\"lst_link\"><li class=\"item\"><a class=\"link\" href=\"https://ader.naver.com/v1/HTo1Ct6FTHg2AWmP45OsEjEoPWYGvkzvMdozdqMykd8FSOnApgCCD3NFphL_vF9i1GnvF1sjgECjrVliYP22EQha4IpoLfUrWKjg1hXIywRmyeJ8ylDA16l1ZRNVvUbnPfdQPX2LOr0FjNlrnQtoEPp2V0HdPsY0Xg1PDiz03ZJm48leA4vi01Sp9EzmqqP2a5vEBbBKER33k39hn1MP8vLJGKyV1hh12U_UwTcNuZqlFzsF_ye_8BKuF64209q77v4OQ6EEBhwNx4_ngpsAvLFSYFc3p_2ckTlVRxeprB377bBUxS4q7pyJzF-5xJ8D6Va1lgswJ1w-pyLsX6_yROOt-CsUOCu4U9n9dUGAQAdc3mAGJniMDxeGJkSM2JJA?c=naver.search.pc.plsearch&t=0\" target=\"_blank\" onclick='return goOtherCR(this,\"a=pwl_nop.sublink1&r=5&i=nad-a001-01-000000405503791&d=\"+urlencode(\"http://www.koreaitacademy.com\")+\"&u=\"+urlencode(this.href))'>국비과정조회</a></li><li class=\"item\"><a class=\"link\" href=\"https://ader.naver.com/v1/HTo1Ct6FTHg2AWmP45OsEjEoPWYGvkzvMdozdqMykd8FSOnApgCCD3NFphL_vF9i1GnvF1sjgECjrVliYP22EQha4IpoLfUrWKjg1hXIywRmyeJ8ylDA16l1ZRNVvUbnPfdQPX2LOr0FjNlrnQtoEPp2V0HdPsY0Xg1PDiz03ZJm48leA4vi01Sp9EzmqqP2a5vEBbBKER33k39hn1MP8vLJGKyV1hh12U_UwTcNuZqlFzsF_ye_8BKuF64209q77v4OQ6EEBhwNx4_ngpsAvLFSYFc3p_2ckTlVRxeprB377bBUxS4q7pyJzF-5xJ8D6Va1lgswJ1w-pyLsX6_yROOt-CsUOCu4U9n9dUGAQAdc3mAGJniMDxeGJkSM2JJA?c=naver.search.pc.plsearch&t=0\" target=\"_blank\" onclick='return goOtherCR(this,\"a=pwl_nop.sublink2&r=5&i=nad-a001-01-000000405503791&d=\"+urlencode(\"http://www.koreaitacademy.com\")+\"&u=\"+urlencode(this.href))'>수강료조회</a></li><li class=\"item\"><a class=\"link\" href=\"https://ader.naver.com/v1/uT43bkqJhAaHpw7tJf3Yie3Rf4fKHAhTh4JBEI-KsTsQCh-PcS_0Y3ssfiGhPkRQBkCSfhR0nQ5gQeGaIGxuPKANtMmUOB55e2ZZXJ49KImCCs8Dh-Q3_7yaRBr6xBkbdMHRnxlPv2ZUXN9kad6dTtuQyuDu4xMyvGc7RvI-1-J-DDYCtUqdeNJ_ANcZoizcdth3MdVz-yIYaWOJYO586mYSyS1v2hxV-chWPsBxt7ibGWSaxmzPXuaOzRGJV33K_YE0COZnDphfI1hPEvidgtyXcRK984BDIawmCjhSvRuVXguZtCpmbVjLCM2MPLJC-lFbnWfu3JL_rYsh2L5NpzWJWiJ6TjSyX8c2kzKfKrSSQsTxON9wSpYuD1MsdlwA?c=naver.search.pc.plsearch&t=0\" target=\"_blank\" onclick='return goOtherCR(this,\"a=pwl_nop.sublink3&r=5&i=nad-a001-01-000000405503791&d=\"+urlencode(\"http://www.koreaitacademy.com\")+\"&u=\"+urlencode(this.href))'>프로젝트작품</a></li><li class=\"item\"><a class=\"link\" href=\"https://ader.naver.com/v1/Y6iYSRktSkJWOA4BIjVn8vZQrCerIyT6bzZWsKhh7rdkCBb72RsOrqgOhDl5iQG6UhWHkopBm9Co6U2r5_bG9DtHR2jmmksKnATrBUDDSbcLE66czVdKbCzWLpFOn9RTJkeBd_gq_0xfYIGwVYoux-GS3XJr4gdtxcdnx7OkPQMx8X8u21N-A0LlbN4X_WvlvdSSoeeZtJnKtGl-IVaM6CB8-hORxXXPg8BWkyVe9EudsAcLxuuQKF0yWnywxHr0Bs3z4_fuHoYTkRoXmvnX8YMyBTj291LNBGQKcTMCkgtpPqAVrY9PImIGsgovh5tacOhwOehjcgDFYN1QJ27NM0Rf6XC7uzZEbA_k4WTwAU8vMheyKMwIXO_1_M3IeLDr?c=naver.search.pc.plsearch&t=0\" target=\"_blank\" onclick='return goOtherCR(this,\"a=pwl_nop.sublink4&r=5&i=nad-a001-01-000000405503791&d=\"+urlencode(\"http://www.koreaitacademy.com\")+\"&u=\"+urlencode(this.href))'>IT취업현황</a></li></ul>  </div></li><li class=\"lst js-hover-item type_img type_subtitle\" num=\"\"> <a class=\"lnk_thumb\" href=\"https://ader.naver.com/v1/2TxyU61mB7sqxfHxu_nwDT5NV4shpIPDJjKaGKAdpk3HSkPolbgNxXcfiaFaO5q-adLxdMIy5bPtsrMjS09tN4O6CO7uNKTRPa-Qrr6Jm0QsMqFcLxxoiFi2c1cV3o9PaxT97olYQGOg0NqYXIRc_IayzcdjC7JS9q0S8ZMnZk48rPZj4rcY-VFtH6aaKBcgM5Un_3yOWzEfDFD7t0q1l1v9T2Ls6K2MEstLPdLtpB2oleNnxGorufthHI9SJKXOkyKUA_E_x2afmWSOrUi6iIb2GBF-5e_B_rwfBKwTBVmYPNf7XFdRfD_8-dZlt5eC7hLBdWlm851vlnewd0-wxFeq1-Jejo2-PeHYM1wEcBlfemVUvjcHeSr7WXKdWjHtFawu5zZBQdYtyuKeVob4ag==?c=naver.search.pc.plsearch&t=0\" onclick='return goOtherCR(this,\"a=pwl_nop.image&r=6&i=nad-a001-01-000000340226026&d=\"+urlencode(\"http://sinchon.koreaisacademy.com\")+\"&u=\"+urlencode(this.href))' target=\"_blank\"><img alt=\"링크이미지\" class=\"img_thumb\" src=\"https://searchad-phinf.pstatic.net/MjAyNDA4MDlfMTk1/MDAxNzIzMTY5MjY1ODQ0.NJlUQQpL1_tymwZZwiKZV6Jqd9gTNp7J8f8uT0_nhlEg.S3BkbDUp0YCH5H1uIEHZyc_o87_ws1JpsoJrKqejHCwg.JPEG/2113896-39a7253c-5011-461d-9c99-080fbc60463c.jpg?type=f160_160\"/> </a><div class=\"inner\"><div class=\"title_url_area\"><div class=\"url_area\"><a href=\"https://ader.naver.com/v1/YXlg_xhTIIJ88ljyMbpJpFU6PMb6bV4jttsnwz4wuHPrMu8GabM5UzagiAeBeJdC5lM71ZE3JViRXCiGYAYP4Bl_I3sMDwylDLFfJHHklm4Nqh5fbe6Q_r8REivuGH2g6_A0qP7KlTXh9QgHzfkLnUI9tBUZO_YAqKxNVAU6QctGajt05R-KXCMLqvrqk8VNN0mr_0-IC06x8FrZfU5FYI60qTKyi6pO-eLzqLDC6U0R_XXmk4P3041lH4LNWqzuVZKBQkKga02E_uGCPH0wI_JfkdggQiLfB4_nWda-iqZDjgeCKoMd73VSVBI0Mx7QFEpH74n38AMDIPqSwU_vpRQyeUoXaXrYzUZ530Qu_QHVSc4AX1oDmoz-UtfoCrjw?c=naver.search.pc.plsearch&t=0\" class=\"favicon_wrap\" target=\"_blank\" onclick='return goOtherCR(this,\"a=pwl_nop.favicon&r=6&i=nad-a001-01-000000340226026&d=\"+urlencode(\"http://sinchon.koreaisacademy.com\")+\"&u=\"+urlencode(this.href))'>  <img width=\"16\" height=\"16\" alt=\"favicon\" class=\"icon_favicon\" data-img-alias=\"power-link-favicon-error\" data-lazysrc=\"https://search.pstatic.net/sunny?src&#x3D;https%3A%2F%2Fsinchon.koreaisacademy.com%2F2023%2Fimg%2Fico%2F152.png&amp;type&#x3D;f30_30_png_expire24\" src=\"https://ssl.pstatic.net/adimg3.search/imp/nx/power/pc/230719/img/icon_favicon.png\"/>   </a> <span class=\"icon_nad_mark\"> 광고  </span>   <a href=\"https://ader.naver.com/v1/YXlg_xhTIIJ88ljyMbpJpFU6PMb6bV4jttsnwz4wuHPrMu8GabM5UzagiAeBeJdC5lM71ZE3JViRXCiGYAYP4Bl_I3sMDwylDLFfJHHklm4Nqh5fbe6Q_r8REivuGH2g6_A0qP7KlTXh9QgHzfkLnUI9tBUZO_YAqKxNVAU6QctGajt05R-KXCMLqvrqk8VNN0mr_0-IC06x8FrZfU5FYI60qTKyi6pO-eLzqLDC6U0R_XXmk4P3041lH4LNWqzuVZKBQkKga02E_uGCPH0wI_JfkdggQiLfB4_nWda-iqZDjgeCKoMd73VSVBI0Mx7QFEpH74n38AMDIPqSwU_vpRQyeUoXaXrYzUZ530Qu_QHVSc4AX1oDmoz-UtfoCrjw?c=naver.search.pc.plsearch&t=0\" class=\"site\" target=\"_blank\" onclick='return goOtherCR(this,\"a=pwl_nop.url&r=6&i=nad-a001-01-000000340226026&d=\"+urlencode(\"http://sinchon.koreaisacademy.com\")+\"&u=\"+urlencode(this.href))'>코리아IT아카데미 </a> <span class=\"lnk_url_area\"><a href=\"https://ader.naver.com/v1/YXlg_xhTIIJ88ljyMbpJpFU6PMb6bV4jttsnwz4wuHPrMu8GabM5UzagiAeBeJdC5lM71ZE3JViRXCiGYAYP4Bl_I3sMDwylDLFfJHHklm4Nqh5fbe6Q_r8REivuGH2g6_A0qP7KlTXh9QgHzfkLnUI9tBUZO_YAqKxNVAU6QctGajt05R-KXCMLqvrqk8VNN0mr_0-IC06x8FrZfU5FYI60qTKyi6pO-eLzqLDC6U0R_XXmk4P3041lH4LNWqzuVZKBQkKga02E_uGCPH0wI_JfkdggQiLfB4_nWda-iqZDjgeCKoMd73VSVBI0Mx7QFEpH74n38AMDIPqSwU_vpRQyeUoXaXrYzUZ530Qu_QHVSc4AX1oDmoz-UtfoCrjw?c=naver.search.pc.plsearch&t=0\" class=\"lnk_url\" target=\"_blank\" onclick='return goOtherCR(this,\"a=pwl_nop.url&r=6&i=nad-a001-01-000000340226026&d=\"+urlencode(\"http://sinchon.koreaisacademy.com\")+\"&u=\"+urlencode(this.href))'>sinchon.koreaisacademy.com </a></span></div> <a href=\"https://ader.naver.com/v1/YXlg_xhTIIJ88ljyMbpJpFU6PMb6bV4jttsnwz4wuHPrMu8GabM5UzagiAeBeJdC5lM71ZE3JViRXCiGYAYP4Bl_I3sMDwylDLFfJHHklm4Nqh5fbe6Q_r8REivuGH2g6_A0qP7KlTXh9QgHzfkLnUI9tBUZO_YAqKxNVAU6QctGajt05R-KXCMLqvrqk8VNN0mr_0-IC06x8FrZfU5FYI60qTKyi6pO-eLzqLDC6U0R_XXmk4P3041lH4LNWqzuVZKBQkKga02E_uGCPH0wI_JfkdggQiLfB4_nWda-iqZDjgeCKoMd73VSVBI0Mx7QFEpH74n38AMDIPqSwU_vpRQyeUoXaXrYzUZ530Qu_QHVSc4AX1oDmoz-UtfoCrjw?c=naver.search.pc.plsearch&t=0\" class=\"lnk_head\" target=\"_blank\" onclick='return goOtherCR(this,\"a=pwl_nop.tit&r=6&i=nad-a001-01-000000340226026&d=\"+urlencode(\"http://sinchon.koreaisacademy.com\")+\"&u=\"+urlencode(this.href))'>  <span class=\"lnk_tit\">코리아IT아카데미 신촌점</span>  <span class=\"lnk_tit\">국비지원 최대 100%</span>  <span class=\"lnk_tit\">월 최대 121만원 지원</span>    </a></div> <div class=\"desc_wrap\"><div class=\"desc_area \">  <a href=\"https://ader.naver.com/v1/YXlg_xhTIIJ88ljyMbpJpFU6PMb6bV4jttsnwz4wuHPrMu8GabM5UzagiAeBeJdC5lM71ZE3JViRXCiGYAYP4Bl_I3sMDwylDLFfJHHklm4Nqh5fbe6Q_r8REivuGH2g6_A0qP7KlTXh9QgHzfkLnUI9tBUZO_YAqKxNVAU6QctGajt05R-KXCMLqvrqk8VNN0mr_0-IC06x8FrZfU5FYI60qTKyi6pO-eLzqLDC6U0R_XXmk4P3041lH4LNWqzuVZKBQkKga02E_uGCPH0wI_JfkdggQiLfB4_nWda-iqZDjgeCKoMd73VSVBI0Mx7QFEpH74n38AMDIPqSwU_vpRQyeUoXaXrYzUZ530Qu_QHVSc4AX1oDmoz-UtfoCrjw?c=naver.search.pc.plsearch&t=0\" class=\"link_desc\" target=\"_blank\" onclick='return goOtherCR(this,\"a=pwl_nop.desc&r=6&i=nad-a001-01-000000340226026&d=\"+urlencode(\"http://sinchon.koreaisacademy.com\")+\"&u=\"+urlencode(this.href))'>신촌파이썬 코딩을 쉽고 빠르게 빅데이터,AI,프론트엔드,백엔드 상위과정의 기초언어 </a>   </div></div>    </div></li><li class=\"lst js-hover-item type_img type_subtitle\" num=\"\"> <a class=\"lnk_thumb\" href=\"https://ader.naver.com/v1/oonUBvNZjd-_qM9TxEbAuotRrcw294w8wWcUX3F3glpJIfbATb1XjPQBCo-czIChWSy1ni8o0uLUpQraolr_029UfhCuTPTGCBkUnk4Dx_XGnTDLcU7aF5b4D3zmQuobamG85lvIYbwCnWw1wNA6HmPhsbeEn_bWxKztypuhsU3p0TIfr5BnTihMui-VlizQ97bLc9Y9IS3M0-2p1bNSy4QZqZhu417GPxD4HWXtCMjj2OBdfer7oltx9u1vqWVevakBrcy-OYR_18ATHDbwCJU1u1qjFp5XxcLXrKvGj51I2TGB7UxF6_yh0C-OsJJ3VT2xOanZWGAY6_EUhoainQtSWY_yIKC389abgJrbaxaHvJYKpCmKUK5WQbdj0QkpmI3eZhPt2m62Ib8ATSBRQw==?c=naver.search.pc.plsearch&t=0\" onclick='return goOtherCR(this,\"a=pwl_nop.image&r=7&i=nad-a001-01-000000382061675&d=\"+urlencode(\"http://gangnam.koreaisacademy.com\")+\"&u=\"+urlencode(this.href))' target=\"_blank\"><img alt=\"링크이미지\" class=\"img_thumb\" src=\"https://searchad-phinf.pstatic.net/MjAyMjA3MTJfNzAg/MDAxNjU3NTk5MzE1MjY4.AF5T_kp0foyqWI9gSnFqhhDp1L9G9zthtciagdHy4RQg.xEBIWsnoq_MLrWkbFDtabukcMmAMpwhz1EZD_372wmUg.JPEG/1097255-8cb9d06d-1279-4a0a-a476-088674075c6d.jpg?type=f160_160\"/> </a><div class=\"inner\"><div class=\"title_url_area\"><div class=\"url_area\"><a href=\"https://ader.naver.com/v1/4-6qyBxZa1CR29N9P8DucIRlV_rXZfH5qz0SyuiHDoLLeZHliXo1F_a8eQHqUBPXb3fZGJTNJIiEVBLnt64NqP72MSC8eMGj6h1XYNo2ZTnhzB3UXVk1l9qokQ7vtypmGgvDn1z5GitI3fa-wbsXgZCiTvZ68RczlNqhLcrSwR9qSWUocBPRN41aKXoa6MG7PYdvbx0sz_RSlmFFwrxfATqC7xyLfLJB9QF_HlZGBetBvtckbgzj6QzqfBfFGsglH_ijrumqcZwa4WwKu271vFLloJ-E9J3k0kPpGRJJNtt7Yl3hDDqfcix7cSPdqwb93D0RDtGp2NUjb_TpUK27MCbnu9iIXtpi-24LHn0-cDsizN5zuLJGVZM5Ds3zQ9cB?c=naver.search.pc.plsearch&t=0\" class=\"favicon_wrap\" target=\"_blank\" onclick='return goOtherCR(this,\"a=pwl_nop.favicon&r=7&i=nad-a001-01-000000382061675&d=\"+urlencode(\"http://gangnam.koreaisacademy.com\")+\"&u=\"+urlencode(this.href))'>  <img width=\"16\" height=\"16\" alt=\"favicon\" class=\"icon_favicon\" data-img-alias=\"power-link-favicon-error\" data-lazysrc=\"https://search.pstatic.net/sunny?src&#x3D;https%3A%2F%2Fgangnam.koreaisacademy.com%2F2023%2Fimg%2Fico%2F16.ico&amp;type&#x3D;f30_30_png_expire24\" src=\"https://ssl.pstatic.net/adimg3.search/imp/nx/power/pc/230719/img/icon_favicon.png\"/>   </a> <span class=\"icon_nad_mark\"> 광고  </span>   <a href=\"https://ader.naver.com/v1/4-6qyBxZa1CR29N9P8DucIRlV_rXZfH5qz0SyuiHDoLLeZHliXo1F_a8eQHqUBPXb3fZGJTNJIiEVBLnt64NqP72MSC8eMGj6h1XYNo2ZTnhzB3UXVk1l9qokQ7vtypmGgvDn1z5GitI3fa-wbsXgZCiTvZ68RczlNqhLcrSwR9qSWUocBPRN41aKXoa6MG7PYdvbx0sz_RSlmFFwrxfATqC7xyLfLJB9QF_HlZGBetBvtckbgzj6QzqfBfFGsglH_ijrumqcZwa4WwKu271vFLloJ-E9J3k0kPpGRJJNtt7Yl3hDDqfcix7cSPdqwb93D0RDtGp2NUjb_TpUK27MCbnu9iIXtpi-24LHn0-cDsizN5zuLJGVZM5Ds3zQ9cB?c=naver.search.pc.plsearch&t=0\" class=\"site\" target=\"_blank\" onclick='return goOtherCR(this,\"a=pwl_nop.url&r=7&i=nad-a001-01-000000382061675&d=\"+urlencode(\"http://gangnam.koreaisacademy.com\")+\"&u=\"+urlencode(this.href))'>코리아IT아카데미 </a> <span class=\"lnk_url_area\"><a href=\"https://ader.naver.com/v1/4-6qyBxZa1CR29N9P8DucIRlV_rXZfH5qz0SyuiHDoLLeZHliXo1F_a8eQHqUBPXb3fZGJTNJIiEVBLnt64NqP72MSC8eMGj6h1XYNo2ZTnhzB3UXVk1l9qokQ7vtypmGgvDn1z5GitI3fa-wbsXgZCiTvZ68RczlNqhLcrSwR9qSWUocBPRN41aKXoa6MG7PYdvbx0sz_RSlmFFwrxfATqC7xyLfLJB9QF_HlZGBetBvtckbgzj6QzqfBfFGsglH_ijrumqcZwa4WwKu271vFLloJ-E9J3k0kPpGRJJNtt7Yl3hDDqfcix7cSPdqwb93D0RDtGp2NUjb_TpUK27MCbnu9iIXtpi-24LHn0-cDsizN5zuLJGVZM5Ds3zQ9cB?c=naver.search.pc.plsearch&t=0\" class=\"lnk_url\" target=\"_blank\" onclick='return goOtherCR(this,\"a=pwl_nop.url&r=7&i=nad-a001-01-000000382061675&d=\"+urlencode(\"http://gangnam.koreaisacademy.com\")+\"&u=\"+urlencode(this.href))'>gangnam.koreaisacademy.com </a></span></div> <a href=\"https://ader.naver.com/v1/4-6qyBxZa1CR29N9P8DucIRlV_rXZfH5qz0SyuiHDoLLeZHliXo1F_a8eQHqUBPXb3fZGJTNJIiEVBLnt64NqP72MSC8eMGj6h1XYNo2ZTnhzB3UXVk1l9qokQ7vtypmGgvDn1z5GitI3fa-wbsXgZCiTvZ68RczlNqhLcrSwR9qSWUocBPRN41aKXoa6MG7PYdvbx0sz_RSlmFFwrxfATqC7xyLfLJB9QF_HlZGBetBvtckbgzj6QzqfBfFGsglH_ijrumqcZwa4WwKu271vFLloJ-E9J3k0kPpGRJJNtt7Yl3hDDqfcix7cSPdqwb93D0RDtGp2NUjb_TpUK27MCbnu9iIXtpi-24LHn0-cDsizN5zuLJGVZM5Ds3zQ9cB?c=naver.search.pc.plsearch&t=0\" class=\"lnk_head\" target=\"_blank\" onclick='return goOtherCR(this,\"a=pwl_nop.tit&r=7&i=nad-a001-01-000000382061675&d=\"+urlencode(\"http://gangnam.koreaisacademy.com\")+\"&u=\"+urlencode(this.href))'>  <span class=\"lnk_tit\">코리아IT아카데미 강남점</span>  <span class=\"lnk_tit\">국비지원 최대 100%</span>  <span class=\"lnk_tit\">월 최대 121만원 지원</span>    </a></div> <div class=\"desc_wrap\"><div class=\"desc_area \">  <a href=\"https://ader.naver.com/v1/4-6qyBxZa1CR29N9P8DucIRlV_rXZfH5qz0SyuiHDoLLeZHliXo1F_a8eQHqUBPXb3fZGJTNJIiEVBLnt64NqP72MSC8eMGj6h1XYNo2ZTnhzB3UXVk1l9qokQ7vtypmGgvDn1z5GitI3fa-wbsXgZCiTvZ68RczlNqhLcrSwR9qSWUocBPRN41aKXoa6MG7PYdvbx0sz_RSlmFFwrxfATqC7xyLfLJB9QF_HlZGBetBvtckbgzj6QzqfBfFGsglH_ijrumqcZwa4WwKu271vFLloJ-E9J3k0kPpGRJJNtt7Yl3hDDqfcix7cSPdqwb93D0RDtGp2NUjb_TpUK27MCbnu9iIXtpi-24LHn0-cDsizN5zuLJGVZM5Ds3zQ9cB?c=naver.search.pc.plsearch&t=0\" class=\"link_desc\" target=\"_blank\" onclick='return goOtherCR(this,\"a=pwl_nop.desc&r=7&i=nad-a001-01-000000382061675&d=\"+urlencode(\"http://gangnam.koreaisacademy.com\")+\"&u=\"+urlencode(this.href))'>강남파이썬 코딩을 쉽고 빠르게 빅데이터,AI,프론트엔드,백엔드 상위과정의 기초언어 기초자바,c언어,파이썬부터 웹개발,AI빅데이터,정보보안 자격증까지 ALL PASS </a>   </div></div>    </div></li><li class=\"lst js-hover-item type_subtitle\" num=\"\"><div class=\"inner\"><div class=\"title_url_area\"><div class=\"url_area\"><a href=\"https://ader.naver.com/v1/1ni9tnO7cUxTd1SwjxB4uAuUjA1PmXhQ-vN0x3732f3K_9eK-9BR5_8dUBC4zQ0TWy324InIYo09n4ZHrK1yU-OFIW6-CdSES4JZm2wSYQ3BP5fuCxRIgV63fqHYph3dRmFg251eV_DIb3z5OFaQUTk4lL_GZX2sGsCkhhvFDPBFPP4l5y_lZSNZOYZSNqLZZlua4YzmrmS5p4Vz0d5FhTqz7DV7cL6e6qv9eVR5As9tCtd4DIJ2rL5CqukLaqBTmYY6HQAH-KItslozuKn15Ve_yK7cftq1QY0--2Ab0MM2h9QoQR1u00oiZGxc7Gy1KLTJjUe_Ws1FeGyg1d9aewBhyjidDo4NgY1FtSl3bmefD2ltYSs7WA-Eom6AnrWN?c=naver.search.pc.plsearch&t=0\" class=\"favicon_wrap\" target=\"_blank\" onclick='return goOtherCR(this,\"a=pwl_nop.favicon&r=8&i=nad-a001-01-000000376303764&d=\"+urlencode(\"http://busan.koreaisacademy.com\")+\"&u=\"+urlencode(this.href))'>  <img width=\"16\" height=\"16\" alt=\"favicon\" class=\"icon_favicon\" data-img-alias=\"power-link-favicon-error\" data-lazysrc=\"https://search.pstatic.net/sunny?src&#x3D;https%3A%2F%2Fbusan.koreaisacademy.com%2F2023%2Fimg%2Fico%2F152.png&amp;type&#x3D;f30_30_png_expire24\" src=\"https://ssl.pstatic.net/adimg3.search/imp/nx/power/pc/230719/img/icon_favicon.png\"/>   </a> <span class=\"icon_nad_mark\"> 광고  </span>   <a href=\"https://ader.naver.com/v1/1ni9tnO7cUxTd1SwjxB4uAuUjA1PmXhQ-vN0x3732f3K_9eK-9BR5_8dUBC4zQ0TWy324InIYo09n4ZHrK1yU-OFIW6-CdSES4JZm2wSYQ3BP5fuCxRIgV63fqHYph3dRmFg251eV_DIb3z5OFaQUTk4lL_GZX2sGsCkhhvFDPBFPP4l5y_lZSNZOYZSNqLZZlua4YzmrmS5p4Vz0d5FhTqz7DV7cL6e6qv9eVR5As9tCtd4DIJ2rL5CqukLaqBTmYY6HQAH-KItslozuKn15Ve_yK7cftq1QY0--2Ab0MM2h9QoQR1u00oiZGxc7Gy1KLTJjUe_Ws1FeGyg1d9aewBhyjidDo4NgY1FtSl3bmefD2ltYSs7WA-Eom6AnrWN?c=naver.search.pc.plsearch&t=0\" class=\"site\" target=\"_blank\" onclick='return goOtherCR(this,\"a=pwl_nop.url&r=8&i=nad-a001-01-000000376303764&d=\"+urlencode(\"http://busan.koreaisacademy.com\")+\"&u=\"+urlencode(this.href))'>코리아IT아카데미 </a> <span class=\"lnk_url_area\"><a href=\"https://ader.naver.com/v1/1ni9tnO7cUxTd1SwjxB4uAuUjA1PmXhQ-vN0x3732f3K_9eK-9BR5_8dUBC4zQ0TWy324InIYo09n4ZHrK1yU-OFIW6-CdSES4JZm2wSYQ3BP5fuCxRIgV63fqHYph3dRmFg251eV_DIb3z5OFaQUTk4lL_GZX2sGsCkhhvFDPBFPP4l5y_lZSNZOYZSNqLZZlua4YzmrmS5p4Vz0d5FhTqz7DV7cL6e6qv9eVR5As9tCtd4DIJ2rL5CqukLaqBTmYY6HQAH-KItslozuKn15Ve_yK7cftq1QY0--2Ab0MM2h9QoQR1u00oiZGxc7Gy1KLTJjUe_Ws1FeGyg1d9aewBhyjidDo4NgY1FtSl3bmefD2ltYSs7WA-Eom6AnrWN?c=naver.search.pc.plsearch&t=0\" class=\"lnk_url\" target=\"_blank\" onclick='return goOtherCR(this,\"a=pwl_nop.url&r=8&i=nad-a001-01-000000376303764&d=\"+urlencode(\"http://busan.koreaisacademy.com\")+\"&u=\"+urlencode(this.href))'>busan.koreaisacademy.com </a></span></div> <a href=\"https://ader.naver.com/v1/1ni9tnO7cUxTd1SwjxB4uAuUjA1PmXhQ-vN0x3732f3K_9eK-9BR5_8dUBC4zQ0TWy324InIYo09n4ZHrK1yU-OFIW6-CdSES4JZm2wSYQ3BP5fuCxRIgV63fqHYph3dRmFg251eV_DIb3z5OFaQUTk4lL_GZX2sGsCkhhvFDPBFPP4l5y_lZSNZOYZSNqLZZlua4YzmrmS5p4Vz0d5FhTqz7DV7cL6e6qv9eVR5As9tCtd4DIJ2rL5CqukLaqBTmYY6HQAH-KItslozuKn15Ve_yK7cftq1QY0--2Ab0MM2h9QoQR1u00oiZGxc7Gy1KLTJjUe_Ws1FeGyg1d9aewBhyjidDo4NgY1FtSl3bmefD2ltYSs7WA-Eom6AnrWN?c=naver.search.pc.plsearch&t=0\" class=\"lnk_head\" target=\"_blank\" onclick='return goOtherCR(this,\"a=pwl_nop.tit&r=8&i=nad-a001-01-000000376303764&d=\"+urlencode(\"http://busan.koreaisacademy.com\")+\"&u=\"+urlencode(this.href))'>  <span class=\"lnk_tit\">코리아IT아카데미 부산점</span>  <span class=\"lnk_tit\">국비지원 최대 100%</span>  <span class=\"lnk_tit\">월 최대 121만원 지원</span>    </a></div> <div class=\"desc_wrap\"><div class=\"desc_area \">  <a href=\"https://ader.naver.com/v1/1ni9tnO7cUxTd1SwjxB4uAuUjA1PmXhQ-vN0x3732f3K_9eK-9BR5_8dUBC4zQ0TWy324InIYo09n4ZHrK1yU-OFIW6-CdSES4JZm2wSYQ3BP5fuCxRIgV63fqHYph3dRmFg251eV_DIb3z5OFaQUTk4lL_GZX2sGsCkhhvFDPBFPP4l5y_lZSNZOYZSNqLZZlua4YzmrmS5p4Vz0d5FhTqz7DV7cL6e6qv9eVR5As9tCtd4DIJ2rL5CqukLaqBTmYY6HQAH-KItslozuKn15Ve_yK7cftq1QY0--2Ab0MM2h9QoQR1u00oiZGxc7Gy1KLTJjUe_Ws1FeGyg1d9aewBhyjidDo4NgY1FtSl3bmefD2ltYSs7WA-Eom6AnrWN?c=naver.search.pc.plsearch&t=0\" class=\"link_desc\" target=\"_blank\" onclick='return goOtherCR(this,\"a=pwl_nop.desc&r=8&i=nad-a001-01-000000376303764&d=\"+urlencode(\"http://busan.koreaisacademy.com\")+\"&u=\"+urlencode(this.href))'>부산파이썬 코딩을 쉽고 빠르게 빅데이터,AI,프론트엔드,백엔드 상위과정의 기초언어 </a>   </div></div>    </div></li><li class=\"lst js-hover-item type_subtitle\" num=\"\"><div class=\"inner\"><div class=\"title_url_area\"><div class=\"url_area\"><a href=\"https://ader.naver.com/v1/er-WK-2D0PSNG2SMe4f1InoCFv5T5Bl-56Guj6Sq23ynoQU352771_fnsyNXytLO84VhLYT6f_neMSl6nP_zQDFp43XIlS7tBiv6Rp3BE678eekH06Gw2ViFhvGv1BUuMMtKB347jD8R5uMUkMYcPIHbo5reGHknExeXCrxsRflqsgU28ukIaQS3u3x0QwTeCGzVf9CtV79c-Byl4j1wIWQHMbii0dkRHQYL8eABVrCbZm72iHq3JnEeXZHYvDnto4T1b5Sd_mXgBrXGzzEGJqDowfRYA_NIk_ZAzkj8SmBY3DBopnJRpyIRuhGF2Shsmtyc0X0u4_jTKG0rC0SLcmBTN6OiEHUivPPQ0UcWNoM=?c=naver.search.pc.plsearch&t=0\" class=\"favicon_wrap\" target=\"_blank\" onclick='return goOtherCR(this,\"a=pwl_nop.favicon&r=9&i=nad-a001-01-000000360408480&d=\"+urlencode(\"http://www.codeit.kr\")+\"&u=\"+urlencode(this.href))'>  <img width=\"16\" height=\"16\" alt=\"favicon\" class=\"icon_favicon\" data-img-alias=\"power-link-favicon-error\" data-lazysrc=\"https://search.pstatic.net/sunny?src&#x3D;https%3A%2F%2Fwww.codeit.kr%2Fimages%2Ffavicon%2Ffavicon-32x32.png&amp;type&#x3D;f30_30_png_expire24\" src=\"https://ssl.pstatic.net/adimg3.search/imp/nx/power/pc/230719/img/icon_favicon.png\"/>   </a> <span class=\"icon_nad_mark\"> 광고  </span> <span class=\"ico_area\">   <span class=\"ico\"><button class=\"sp_nad ico_nlogin\" onmouseover=\"NAVER.SEARCH_AD.showTooltip(this)\" onmouseout=\"NAVER.SEARCH_AD.hideTooltip(this)\" onfocus=\"NAVER.SEARCH_AD.showTooltip(this)\" onblur=\"NAVER.SEARCH_AD.hideTooltip(this)\"><span class=\"blind\">네이버 로그인</span></button> <a href=\"//nid.naver.com/user2/campaign/introNaverIdLogin.nhn\" class=\"ly_ad _tooltip\" style=\"display:none\" onfocus=\"NAVER.SEARCH_AD.showTooltip(this)\" onblur=\"NAVER.SEARCH_AD.hideTooltip(this)\" onmouseover=\"NAVER.SEARCH_AD.showTooltip(this)\" onmouseout=\"NAVER.SEARCH_AD.hideTooltip(this)\" onclick='return goOtherCR(this,\"a=pwl_nop.naverlogin&r=9&i=nad-a001-01-000000360408480&u=\"+urlencode(this.href))'><span class=\"ly_box\"><span>네이버 아이디로 로그인이 가능합니다.</span> <span class=\"ly_ad_go\">서비스 자세히 보기<span class=\"sp_nad bu\"></span> </span></span></a></span>   </span>   <a href=\"https://ader.naver.com/v1/er-WK-2D0PSNG2SMe4f1InoCFv5T5Bl-56Guj6Sq23ynoQU352771_fnsyNXytLO84VhLYT6f_neMSl6nP_zQDFp43XIlS7tBiv6Rp3BE678eekH06Gw2ViFhvGv1BUuMMtKB347jD8R5uMUkMYcPIHbo5reGHknExeXCrxsRflqsgU28ukIaQS3u3x0QwTeCGzVf9CtV79c-Byl4j1wIWQHMbii0dkRHQYL8eABVrCbZm72iHq3JnEeXZHYvDnto4T1b5Sd_mXgBrXGzzEGJqDowfRYA_NIk_ZAzkj8SmBY3DBopnJRpyIRuhGF2Shsmtyc0X0u4_jTKG0rC0SLcmBTN6OiEHUivPPQ0UcWNoM=?c=naver.search.pc.plsearch&t=0\" class=\"site\" target=\"_blank\" onclick='return goOtherCR(this,\"a=pwl_nop.url&r=9&i=nad-a001-01-000000360408480&d=\"+urlencode(\"http://www.codeit.kr\")+\"&u=\"+urlencode(this.href))'>코드잇 </a> <span class=\"lnk_url_area\"><a href=\"https://ader.naver.com/v1/er-WK-2D0PSNG2SMe4f1InoCFv5T5Bl-56Guj6Sq23ynoQU352771_fnsyNXytLO84VhLYT6f_neMSl6nP_zQDFp43XIlS7tBiv6Rp3BE678eekH06Gw2ViFhvGv1BUuMMtKB347jD8R5uMUkMYcPIHbo5reGHknExeXCrxsRflqsgU28ukIaQS3u3x0QwTeCGzVf9CtV79c-Byl4j1wIWQHMbii0dkRHQYL8eABVrCbZm72iHq3JnEeXZHYvDnto4T1b5Sd_mXgBrXGzzEGJqDowfRYA_NIk_ZAzkj8SmBY3DBopnJRpyIRuhGF2Shsmtyc0X0u4_jTKG0rC0SLcmBTN6OiEHUivPPQ0UcWNoM=?c=naver.search.pc.plsearch&t=0\" class=\"lnk_url\" target=\"_blank\" onclick='return goOtherCR(this,\"a=pwl_nop.url&r=9&i=nad-a001-01-000000360408480&d=\"+urlencode(\"http://www.codeit.kr\")+\"&u=\"+urlencode(this.href))'>codeit.kr </a></span></div> <a href=\"https://ader.naver.com/v1/er-WK-2D0PSNG2SMe4f1InoCFv5T5Bl-56Guj6Sq23ynoQU352771_fnsyNXytLO84VhLYT6f_neMSl6nP_zQDFp43XIlS7tBiv6Rp3BE678eekH06Gw2ViFhvGv1BUuMMtKB347jD8R5uMUkMYcPIHbo5reGHknExeXCrxsRflqsgU28ukIaQS3u3x0QwTeCGzVf9CtV79c-Byl4j1wIWQHMbii0dkRHQYL8eABVrCbZm72iHq3JnEeXZHYvDnto4T1b5Sd_mXgBrXGzzEGJqDowfRYA_NIk_ZAzkj8SmBY3DBopnJRpyIRuhGF2Shsmtyc0X0u4_jTKG0rC0SLcmBTN6OiEHUivPPQ0UcWNoM=?c=naver.search.pc.plsearch&t=0\" class=\"lnk_head\" target=\"_blank\" onclick='return goOtherCR(this,\"a=pwl_nop.tit&r=9&i=nad-a001-01-000000360408480&d=\"+urlencode(\"http://www.codeit.kr\")+\"&u=\"+urlencode(this.href))'>  <span class=\"lnk_tit\">5분 몰입형 학습 코드잇</span>  <span class=\"lnk_tit\">학습전용 AI GURU 제공</span>  <span class=\"lnk_tit\">NCS 수료증 발급</span>    </a></div> <div class=\"desc_wrap\"><div class=\"desc_area \">  <a href=\"https://ader.naver.com/v1/er-WK-2D0PSNG2SMe4f1InoCFv5T5Bl-56Guj6Sq23ynoQU352771_fnsyNXytLO84VhLYT6f_neMSl6nP_zQDFp43XIlS7tBiv6Rp3BE678eekH06Gw2ViFhvGv1BUuMMtKB347jD8R5uMUkMYcPIHbo5reGHknExeXCrxsRflqsgU28ukIaQS3u3x0QwTeCGzVf9CtV79c-Byl4j1wIWQHMbii0dkRHQYL8eABVrCbZm72iHq3JnEeXZHYvDnto4T1b5Sd_mXgBrXGzzEGJqDowfRYA_NIk_ZAzkj8SmBY3DBopnJRpyIRuhGF2Shsmtyc0X0u4_jTKG0rC0SLcmBTN6OiEHUivPPQ0UcWNoM=?c=naver.search.pc.plsearch&t=0\" class=\"link_desc\" target=\"_blank\" onclick='return goOtherCR(this,\"a=pwl_nop.desc&r=9&i=nad-a001-01-000000360408480&d=\"+urlencode(\"http://www.codeit.kr\")+\"&u=\"+urlencode(this.href))'>IT 인재로 성장하는 치트키! 국비지원 받고 수강료 5만원에 파이썬 정복! </a>   </div></div>    </div></li><li class=\"lst js-hover-item type_subtitle\" num=\"\"><div class=\"inner\"><div class=\"title_url_area\"><div class=\"url_area\"><a href=\"https://ader.naver.com/v1/QA6JHRh1rWzsSB5TKWiW_oalQynt_TtNnFlSLaK7WgXbkza-HflJqP6-e38zTDR16VU75j68sLlWHkitNHaqjQv6ODtWuZid9YbuAYvQw5US_IMHlbj4pw5Qdil_Ojm3hoGa2JbKaKrMU36jMGmQTbERLyOsrCQap4Avm6GYhnoK9jRkcUUlQyBm6ipBGLqoV7kcDV_fOtAwHM45b3sQx-5l7ye0mjpJdqPgOpU67_A4WCgejdZtKAoue2udjOnpxQMcL5_VtjUxnm-3o3sR1sgLsuOyQWKBKd8XVZDWTbAjFxiKA2qnHGHXAxXhHhyhxjuILi3L3XCZKIRh9XC12vjPmHHT9VUyxLBLMNLzUEORDv23rqvB19Z_s-1rqhaf?c=naver.search.pc.plsearch&t=0\" class=\"favicon_wrap\" target=\"_blank\" onclick='return goOtherCR(this,\"a=pwl_nop.favicon&r=10&i=nad-a001-01-000000367338980&d=\"+urlencode(\"http://daegu.koreaisacademy.com/\")+\"&u=\"+urlencode(this.href))'>  <img width=\"16\" height=\"16\" alt=\"favicon\" class=\"icon_favicon\" data-img-alias=\"power-link-favicon-error\" data-lazysrc=\"https://search.pstatic.net/sunny?src&#x3D;https%3A%2F%2Fdaegu.koreaisacademy.com%2F2023%2Fimg%2Fico%2F16.ico&amp;type&#x3D;f30_30_png_expire24\" src=\"https://ssl.pstatic.net/adimg3.search/imp/nx/power/pc/230719/img/icon_favicon.png\"/>   </a> <span class=\"icon_nad_mark\"> 광고  </span>   <a href=\"https://ader.naver.com/v1/QA6JHRh1rWzsSB5TKWiW_oalQynt_TtNnFlSLaK7WgXbkza-HflJqP6-e38zTDR16VU75j68sLlWHkitNHaqjQv6ODtWuZid9YbuAYvQw5US_IMHlbj4pw5Qdil_Ojm3hoGa2JbKaKrMU36jMGmQTbERLyOsrCQap4Avm6GYhnoK9jRkcUUlQyBm6ipBGLqoV7kcDV_fOtAwHM45b3sQx-5l7ye0mjpJdqPgOpU67_A4WCgejdZtKAoue2udjOnpxQMcL5_VtjUxnm-3o3sR1sgLsuOyQWKBKd8XVZDWTbAjFxiKA2qnHGHXAxXhHhyhxjuILi3L3XCZKIRh9XC12vjPmHHT9VUyxLBLMNLzUEORDv23rqvB19Z_s-1rqhaf?c=naver.search.pc.plsearch&t=0\" class=\"site\" target=\"_blank\" onclick='return goOtherCR(this,\"a=pwl_nop.url&r=10&i=nad-a001-01-000000367338980&d=\"+urlencode(\"http://daegu.koreaisacademy.com/\")+\"&u=\"+urlencode(this.href))'>코리아IT아카데미 </a> <span class=\"lnk_url_area\"><a href=\"https://ader.naver.com/v1/QA6JHRh1rWzsSB5TKWiW_oalQynt_TtNnFlSLaK7WgXbkza-HflJqP6-e38zTDR16VU75j68sLlWHkitNHaqjQv6ODtWuZid9YbuAYvQw5US_IMHlbj4pw5Qdil_Ojm3hoGa2JbKaKrMU36jMGmQTbERLyOsrCQap4Avm6GYhnoK9jRkcUUlQyBm6ipBGLqoV7kcDV_fOtAwHM45b3sQx-5l7ye0mjpJdqPgOpU67_A4WCgejdZtKAoue2udjOnpxQMcL5_VtjUxnm-3o3sR1sgLsuOyQWKBKd8XVZDWTbAjFxiKA2qnHGHXAxXhHhyhxjuILi3L3XCZKIRh9XC12vjPmHHT9VUyxLBLMNLzUEORDv23rqvB19Z_s-1rqhaf?c=naver.search.pc.plsearch&t=0\" class=\"lnk_url\" target=\"_blank\" onclick='return goOtherCR(this,\"a=pwl_nop.url&r=10&i=nad-a001-01-000000367338980&d=\"+urlencode(\"http://daegu.koreaisacademy.com/\")+\"&u=\"+urlencode(this.href))'>daegu.koreaisacademy.com/ </a></span></div> <a href=\"https://ader.naver.com/v1/QA6JHRh1rWzsSB5TKWiW_oalQynt_TtNnFlSLaK7WgXbkza-HflJqP6-e38zTDR16VU75j68sLlWHkitNHaqjQv6ODtWuZid9YbuAYvQw5US_IMHlbj4pw5Qdil_Ojm3hoGa2JbKaKrMU36jMGmQTbERLyOsrCQap4Avm6GYhnoK9jRkcUUlQyBm6ipBGLqoV7kcDV_fOtAwHM45b3sQx-5l7ye0mjpJdqPgOpU67_A4WCgejdZtKAoue2udjOnpxQMcL5_VtjUxnm-3o3sR1sgLsuOyQWKBKd8XVZDWTbAjFxiKA2qnHGHXAxXhHhyhxjuILi3L3XCZKIRh9XC12vjPmHHT9VUyxLBLMNLzUEORDv23rqvB19Z_s-1rqhaf?c=naver.search.pc.plsearch&t=0\" class=\"lnk_head\" target=\"_blank\" onclick='return goOtherCR(this,\"a=pwl_nop.tit&r=10&i=nad-a001-01-000000367338980&d=\"+urlencode(\"http://daegu.koreaisacademy.com/\")+\"&u=\"+urlencode(this.href))'>  <span class=\"lnk_tit\">코리아IT아카데미 대구점</span>  <span class=\"lnk_tit\">국비지원 최대 100%</span>  <span class=\"lnk_tit\">월 최대 121만원 지원</span>    </a></div> <div class=\"desc_wrap\"><div class=\"desc_area \">  <a href=\"https://ader.naver.com/v1/QA6JHRh1rWzsSB5TKWiW_oalQynt_TtNnFlSLaK7WgXbkza-HflJqP6-e38zTDR16VU75j68sLlWHkitNHaqjQv6ODtWuZid9YbuAYvQw5US_IMHlbj4pw5Qdil_Ojm3hoGa2JbKaKrMU36jMGmQTbERLyOsrCQap4Avm6GYhnoK9jRkcUUlQyBm6ipBGLqoV7kcDV_fOtAwHM45b3sQx-5l7ye0mjpJdqPgOpU67_A4WCgejdZtKAoue2udjOnpxQMcL5_VtjUxnm-3o3sR1sgLsuOyQWKBKd8XVZDWTbAjFxiKA2qnHGHXAxXhHhyhxjuILi3L3XCZKIRh9XC12vjPmHHT9VUyxLBLMNLzUEORDv23rqvB19Z_s-1rqhaf?c=naver.search.pc.plsearch&t=0\" class=\"link_desc\" target=\"_blank\" onclick='return goOtherCR(this,\"a=pwl_nop.desc&r=10&i=nad-a001-01-000000367338980&d=\"+urlencode(\"http://daegu.koreaisacademy.com/\")+\"&u=\"+urlencode(this.href))'>대구파이썬 코딩을 쉽고 빠르게 빅데이터,AI,프론트엔드,백엔드 상위과정의 기초언어 </a>   </div></div>    </div></li></ul><div class=\"mod_more_wrap\"><a class=\"group_more\" target=\"_blank\" onclick='return goOtherCR(this,\"a=pwl_nop.more&r=1&i=pwl_nopmore&u=\"+urlencode(this.href))' href=\"https://ad.search.naver.com/search.naver?where=ad&query=python&referenceId=j7YVfdqo15wssmqc1Edssssssm4-263125\"><span class=\"etc\">더보기<i class=\"spnew ico_arr\"></i></span></a></div></div></div> </div></div>\n",
            "<script>\n",
            "window.__ADFE_TEMPLATE__ = window.__ADFE_TEMPLATE__ || {};\n",
            "window.__ADFE_TEMPLATE__.pcPowerLink_81ed = window.__ADFE_TEMPLATE__.pcPowerLink_81ed || [];\n",
            "window.__ADFE_TEMPLATE__.pcPowerLink_81ed.push([document.getElementById('pcPowerLink_81ed-n9h9'),{},{}]);\n",
            "</script><script src=\"https://ad-creative.pstatic.net/static/6810970f14e827fad4d415fb/cbec77b/build/static/js/main.d815971a.js\"></script>\n",
            "  </section>\n",
            "  <div class=\"_scrollLog\" data-slog-id=\"pwl_nop\" style=\"visibility:hidden;height:0px;margin:0 28px\"></div><link rel=\"stylesheet\" type=\"text/css\" href=\"https://ssl.pstatic.net/sstatic/fe/fender/client/cedcefc1091cd352903b/index.css\" /><div id=\"fdr-c474192f7a3549fba995629b95003b39\" data-fender-root=\"true\" data-block-id=\"web/prs_template_v2_web_basic_desk.ts\" data-meta-area=\"sit_5po\" data-meta-nscs=\"\" data-meta-ssc=\"tab.nx.all\" data-meta-ssuid=\"web\" data-meta-ssuid-extra=\"fender_renderer-web\" class=\"sc_new _slog_visible\" data-slog-container=\"sit_5po\"><div class=\"tvhO5CyOoGJoJh1g9Dpc XYjs_ew3wz8pmfMT0xy1 desktop_mode api_subject_bx\"><div class=\"sds-comps-vertical-layout sds-comps-full-layout fds-web-root\" data-template-id=\"layout\" data-template-type=\"vertical\"><div class=\"sds-comps-vertical-layout sds-comps-full-layout fds-web-list-root fds-web-list-vert-padding\" data-template-id=\"layout\" data-template-type=\"vertical\"><div class=\"sds-comps-vertical-layout sds-comps-full-layout fds-web-doc-root xCoxV1AggMVXNATSQA5d fds-web-normal-doc-root\"><div class=\"sds-comps-vertical-layout sds-comps-full-layout XAhYWRTsVs1LuMM91Ch_\"><div class=\"sds-comps-horizontal-layout sds-comps-full-layout da4PE7vmQBzRGyqacwhg\"><a nocr=\"1\" href=\"https://www.python.org/\" class=\"edyvn4XC9VV5Get_taA1 Gpn7drGT3Ho6uNbqrLiT\" target=\"_blank\"><div class=\"sds-comps-horizontal-layout sds-comps-full-layout sds-comps-profile type-web size-lg title-color-g30\" data-sds-comp=\"Profile\"><div class=\"sds-comps-horizontal-layout sds-comps-inline-layout sds-comps-profile-source\"><div class=\"sds-comps-horizontal-layout sds-comps-inline-layout sds-comps-profile-source-thumb\"><div class=\"sds-comps-horizontal-layout sds-comps-inline-layout sds-comps-profile-thumbnail type-web size-lg\" data-sds-comp=\"ProfileThumbnail\"><div class=\"sds-comps-base-layout sds-comps-inline-layout sds-comps-image sds-comps-image-circle fit-cover is-loading\" style=\"width:16px;height:16px;aspect-ratio:1/1\" data-sds-comp=\"RectangleImage\" data-dimmed=\"none\"><img width=\"16\" height=\"16\" loading=\"lazy\" src=\"https://search.pstatic.net/sunny?src=https%3A%2F%2Fwww.python.org%2Fstatic%2Ffavicon.ico&amp;type=f30_30_png_expire24\"/><div class=\"sds-comps-image-dimmed\"></div></div></div></div><div class=\"sds-comps-horizontal-layout sds-comps-inline-layout sds-comps-profile-info\"><div class=\"sds-comps-horizontal-layout sds-comps-inline-layout sds-comps-profile-info-title\"><span class=\"sds-comps-text sds-comps-text-ellipsis sds-comps-text-ellipsis-1 sds-comps-text-type-body2 sds-comps-text-weight-sm sds-comps-profile-info-title-text\">Python</span></div><span class=\"sds-comps-base-layout sds-comps-full-layout sds-comps-divider sds-comps-divider-dot\" data-sds-comp=\"DotDivider\"></span><span class=\"sds-comps-text sds-comps-text-type-body2 sds-comps-text-weight-sm sds-comps-profile-info-subtext\"><div class=\"sds-comps-horizontal-layout sds-comps-inline-layout wQ6f5SVkN6MZ7zsKtWwA\"><span class=\"sds-comps-text sds-comps-text-type-body2 sds-comps-text-weight-sm\">www.python.org</span></div></span></div></div></div></a><div class=\"sds-comps-base-layout sds-comps-inline-layout hNfE3IlHZXdONjds3eZe _keep_wrap s_6YTBXyujks2KDAhLgC\"><button type=\"button\" class=\"sds-comps-horizontal-layout sds-comps-inline-layout sds-comps-button sds-comps-icon-button y_TpGLQ4oFHuSZL7k0F2 _keep_trigger\" data-url=\"https://www.python.org/\" data-cr-on=\"a=sit_5po*e.kep\" aria-label=\"옵션 메뉴 열기\" data-sds-comp=\"IconSingleButton\"><svg xmlns=\"http://www.w3.org/2000/svg\" viewBox=\"0 0 3 16\" class=\"sds-comps-svg sds-comps-icon sds-comps-icon-size-md1 DIyBNqgkBLGnJKkjM3Le sds-comps-option-icon\" width=\"3\" height=\"16\" fill=\"none\" aria-hidden=\"true\" stroke=\"none\" aria-label=\"OptionIcon\"><circle class=\"sds-comps-option-icon-element0\" cx=\"1.5\" cy=\"3\" r=\"1.5\"></circle><circle class=\"sds-comps-option-icon-element1\" cx=\"1.5\" cy=\"8\" r=\"1.5\"></circle><circle class=\"sds-comps-option-icon-element2\" cx=\"1.5\" cy=\"13\" r=\"1.5\"></circle></svg></button><div class=\"sds-comps-vertical-layout sds-comps-inline-layout xmTq28kkkyi9_pEiQb7S api_ly_save _keep_save_layer\" style=\"display:none\"><a href=\"#\" data-cr-on=\"a=sit_5po*e.keepon\" data-cr-off=\"a=sit_5po*e.keepon\" class=\"sds-comps-text spnew_af item item_save _keep_save\">Keep에 저장</a><a href=\"https://keep.naver.com/\" target=\"_blank\" class=\"sds-comps-text spnew_af item item_quick\">Keep에 바로가기</a></div></div></div><div class=\"sds-comps-vertical-layout sds-comps-full-layout hI_h5KPRv3hP9qgqxPXm jhrdGNWrdTmHHxmsvMIQ\"><div class=\"sds-comps-horizontal-layout sds-comps-full-layout nfY2fHjS_ml0AkGPEwFZ\"><a nocr=\"1\" href=\"https://www.python.org/\" class=\"edyvn4XC9VV5Get_taA1 b1QJ74QKeFSXh7tOqE8U\" target=\"_blank\"><span class=\"sds-comps-text sds-comps-text-ellipsis sds-comps-text-ellipsis-1 sds-comps-text-type-headline1 sds-comps-text-weight-sm\">Welcome to <mark>Python</mark>.org</span></a></div><div class=\"sds-comps-horizontal-layout sds-comps-full-layout jLhSX9caQfm1ghm6Ozh8\"><a nocr=\"1\" href=\"https://www.python.org/downloads/\" class=\"edyvn4XC9VV5Get_taA1 N1Umj_3MBDihi9Lv_qTY\" target=\"_blank\"><span class=\"sds-comps-text sds-comps-text-type-headline3 sds-comps-text-weight-sm\">Downloads</span></a><a nocr=\"1\" href=\"https://www.python.org/about/gettingstarted/\" class=\"edyvn4XC9VV5Get_taA1 N1Umj_3MBDihi9Lv_qTY\" target=\"_blank\"><span class=\"sds-comps-text sds-comps-text-type-headline3 sds-comps-text-weight-sm\">Getting Started</span></a><a nocr=\"1\" href=\"https://www.python.org/downloads/windows/\" class=\"edyvn4XC9VV5Get_taA1 N1Umj_3MBDihi9Lv_qTY\" target=\"_blank\"><span class=\"sds-comps-text sds-comps-text-type-headline3 sds-comps-text-weight-sm\">Windows</span></a><a nocr=\"1\" href=\"https://www.python.org/doc/\" class=\"edyvn4XC9VV5Get_taA1 N1Umj_3MBDihi9Lv_qTY\" target=\"_blank\"><span class=\"sds-comps-text sds-comps-text-type-headline3 sds-comps-text-weight-sm\">Documentation</span></a><a nocr=\"1\" href=\"https://www.python.org/psf/\" class=\"edyvn4XC9VV5Get_taA1 N1Umj_3MBDihi9Lv_qTY\" target=\"_blank\"><span class=\"sds-comps-text sds-comps-text-type-headline3 sds-comps-text-weight-sm\">PSF</span></a><a nocr=\"1\" href=\"https://www.python.org/downloads/source/\" class=\"edyvn4XC9VV5Get_taA1 N1Umj_3MBDihi9Lv_qTY\" target=\"_blank\"><span class=\"sds-comps-text sds-comps-text-type-headline3 sds-comps-text-weight-sm\">Source code</span></a></div><div class=\"sds-comps-base-layout sds-comps-full-layout jhrdGNWrdTmHHxmsvMIQ\"><a nocr=\"1\" href=\"https://www.python.org/\" class=\"edyvn4XC9VV5Get_taA1 TyPeB3ZABmIXKCrUEn5E\" target=\"_blank\"><span class=\"sds-comps-text sds-comps-text-ellipsis sds-comps-text-ellipsis-3 sds-comps-text-type-body1 sds-comps-text-weight-sm _Q0hVTXQk_J4Fv8kT3hW\">The official home of the <mark>Python</mark> Programming Language</span></a></div></div></div><div class=\"sds-comps-vertical-layout sds-comps-full-layout _L7jmFKW_SN2NmhK4Jvc rgQYHGoiCKWISE5ySeH0\"><div class=\"sds-comps-vertical-layout sds-comps-full-layout ksct0FryAFPP9SSWM3tX\"><div class=\"sds-comps-vertical-layout sds-comps-full-layout qSAWgX7DWdvDIJezkECz\"><a nocr=\"1\" href=\"https://www.python.org/doc/\" class=\"edyvn4XC9VV5Get_taA1 whIM3xbU1iLyiAbb_kDk\" target=\"_blank\"><span class=\"sds-comps-text sds-comps-text-ellipsis sds-comps-text-ellipsis-1 sds-comps-text-type-body2 sds-comps-text-weight-sm _Q0hVTXQk_J4Fv8kT3hW\">Our Documentation</span></a><div class=\"sds-comps-base-layout sds-comps-full-layout whIM3xbU1iLyiAbb_kDk aJNa9d1AFdPRNvw4YB3n\"><span class=\"sds-comps-text sds-comps-text-ellipsis sds-comps-text-ellipsis-1 sds-comps-text-type-body2 sds-comps-text-weight-sm _Q0hVTXQk_J4Fv8kT3hW\">Browse the docs online or download a copy of your own. ; <mark>Python</mark>'s documentation, tutorials, and guides are constantly evolving. ; Get started here, or scroll down for documentation broken out by type and subject. ; See also Documentation Releases by Version</span></div></div></div><div class=\"sds-comps-horizontal-layout sds-comps-full-layout hUXLqi_NPMRK_PERibua\"><a nocr=\"1\" href=\"?query=python+site%3Awww.python.org&amp;qvt=0&amp;where=web\" class=\"edyvn4XC9VV5Get_taA1 iwY0Uu4VXtnTzfBvR2Fr\" target=\"_self\"><span class=\"sds-comps-text sds-comps-text-type-body2 sds-comps-text-weight-sm\">관련문서 더보기</span><svg xmlns=\"http://www.w3.org/2000/svg\" viewBox=\"0 0 12 12\" class=\"sds-comps-svg sds-comps-icon sds-comps-icon-size-sm PvXoUQ6sEGCY0ITz7qjX sds-comps-arrow-horz-inside-next-icon\" width=\"12\" height=\"12\" fill=\"none\" aria-hidden=\"true\" stroke=\"none\" aria-label=\"ArrowHorzInsideNextIcon\"><path class=\"sds-comps-arrow-horz-inside-next-icon-element0\" fill-rule=\"evenodd\" clip-rule=\"evenodd\" d=\"M7.93934 6L3.46967 1.53033L4.53033 0.46967L10.0607 6L4.53033 11.5303L3.46967 10.4697L7.93934 6Z\"></path></svg></a></div></div></div></div></div></div></div><script>\n",
            "(function () {\n",
            "\n",
            "  var startApplication = function () {\n",
            "    var require = window.require.config({\n",
            "      \"context\": \"fender_renderer_cedcefc1091cd352903b\"\n",
            "    });\n",
            "    require([\"https://ssl.pstatic.net/sstatic/fe/fender/client/cedcefc1091cd352903b/index.js\"], function (entry) {\n",
            "      entry.bootstrap(document.getElementById(\"fdr-c474192f7a3549fba995629b95003b39\"), {\"appElementAttrs\":{\"className\":\"sc_new _slog_visible\",\"data-slog-container\":\"sit_5po\"},\"meta\":{\"area\":\"sit_5po\",\"nscs\":\"\",\"query\":\"python\",\"ssc\":\"tab.nx.all\",\"ssuid\":\"web\",\"ssuidExtra\":\"fender_renderer-web\",\"token\":\"basic\"},\"refs\":{\"blockId\":\"web/prs_template_v2_web_basic_desk.ts\"},\"rootElementAttrs\":{\"className\":\"api_subject_bx\"},\"body\":{\"props\":{\"children\":[{\"props\":{\"children\":[{\"props\":{\"aggregation\":{\"contents\":[{\"bodyText\":\"Browse the docs online or download a copy of your own. ; <mark>Python</mark>'s documentation, tutorials, and guides are constantly evolving. ; Get started here, or scroll down for documentation broken out by type and subject. ; See also Documentation Releases by Version\",\"clickLog\":{\"image\":{},\"title\":{\"element\":\".link\",\"g\":\"\",\"i\":\"a00000fa_c84fe2a9aa7aa6a1886a7257\",\"r\":1,\"source\":\"*e\"}},\"href\":\"https://www.python.org/doc/\",\"title\":\"Our Documentation\"}],\"more\":{\"clickLog\":{\"more\":{\"element\":\".sramore\",\"g\":\"\",\"i\":\"a00000fa_6bd7e4a1b937bdf1c5f65d13^fab\",\"r\":1,\"source\":\"*e\"}},\"href\":\"?query=python+site%3Awww.python.org&qvt=0&where=web\",\"text\":\"관련문서 더보기\"}},\"bodyText\":\"The official home of the <mark>Python</mark> Programming Language\",\"bodyVariants\":\"3line\",\"card\":{},\"clickLog\":{\"title\":{\"element\":\".link\",\"g\":\"\",\"i\":\"a00000fa_6bd7e4a1b937bdf1c5f65d13^fa\",\"r\":1,\"source\":\"*e\"}},\"deviceType\":\"desk\",\"href\":\"https://www.python.org/\",\"keyValue\":{},\"list\":{},\"notice\":{},\"paragraph\":{},\"profile\":{\"badge\":\"\",\"clickLog\":{\"profile\":{\"element\":\".link\",\"g\":\"\",\"i\":\"a00000fa_6bd7e4a1b937bdf1c5f65d13^fa\",\"r\":1,\"source\":\"*e\"}},\"favicon\":\"https://search.pstatic.net/sunny?src=https%3A%2F%2Fwww.python.org%2Fstatic%2Ffavicon.ico&type=f30_30_png_expire24\",\"href\":\"https://www.python.org/\",\"keep\":{\"clickLog\":{\"keepLink\":{\"element\":\".kep\",\"g\":\"\",\"i\":\"a00000fa_6bd7e4a1b937bdf1c5f65d13^fa\",\"r\":1,\"source\":\"\"}},\"keepOffClickLog\":\"a=sit_5po*e.keepon\",\"keepOnClickLog\":\"a=sit_5po*e.keepon\",\"keepTriggerOffClickLog\":\"\",\"keepTriggerOnClickLog\":\"a=sit_5po*e.kep\",\"keepTriggerUrl\":\"https://www.python.org/\",\"keepURL\":\"https://keep.naver.com/\",\"type\":\"basic\",\"use\":[\"keep\",\"mykeep\"],\"version\":\"2\"},\"subTexts\":[{\"text\":\"www.python.org\"}],\"title\":\"Python\"},\"review\":{},\"rootClassName\":\"fds-web-normal-doc-root\",\"subLinks\":[{\"clickLog\":{\"linkText\":{\"element\":\".sublink\",\"g\":\"\",\"i\":\"a00000fa_6bd7e4a1b937bdf1c5f65d13^fa\",\"r\":1,\"source\":\"*e\"}},\"href\":\"https://www.python.org/downloads/\",\"text\":\"Downloads\"},{\"clickLog\":{\"linkText\":{\"element\":\".sublink\",\"g\":\"\",\"i\":\"a00000fa_6bd7e4a1b937bdf1c5f65d13^fab\",\"r\":1,\"source\":\"*e\"}},\"href\":\"https://www.python.org/about/gettingstarted/\",\"text\":\"Getting Started\"},{\"clickLog\":{\"linkText\":{\"element\":\".sublink\",\"g\":\"\",\"i\":\"a00000fa_6bd7e4a1b937bdf1c5f65d13^fab\",\"r\":1,\"source\":\"*e\"}},\"href\":\"https://www.python.org/downloads/windows/\",\"text\":\"Windows\"},{\"clickLog\":{\"linkText\":{\"element\":\".sublink\",\"g\":\"\",\"i\":\"a00000fa_6bd7e4a1b937bdf1c5f65d13^fab\",\"r\":1,\"source\":\"*e\"}},\"href\":\"https://www.python.org/doc/\",\"text\":\"Documentation\"},{\"clickLog\":{\"linkText\":{\"element\":\".sublink\",\"g\":\"\",\"i\":\"a00000fa_6bd7e4a1b937bdf1c5f65d13^fab\",\"r\":1,\"source\":\"*e\"}},\"href\":\"https://www.python.org/psf/\",\"text\":\"PSF\"},{\"clickLog\":{\"linkText\":{\"element\":\".sublink\",\"g\":\"\",\"i\":\"a00000fa_6bd7e4a1b937bdf1c5f65d13^fab\",\"r\":1,\"source\":\"*e\"}},\"href\":\"https://www.python.org/downloads/source/\",\"text\":\"Source code\"}],\"table\":{},\"title\":\"Welcome to <mark>Python</mark>.org\",\"titleVariant\":\"1line\",\"topstorys\":{},\"type\":\"basic\"},\"templateId\":\"webItem\"}],\"className\":\"fds-web-list-root fds-web-list-vert-padding\",\"divider\":{\"props\":{\"color\":\"g90\",\"size\":\"sm\"},\"templateId\":\"sdsHorzDivider\"},\"type\":\"vertical\"},\"templateId\":\"layout\"}],\"className\":\"fds-web-root\",\"type\":\"vertical\"},\"templateId\":\"layout\"},\"cr\":\"CR_OBJECT_REPLACEMENT\"}, { onRendered: function(detail) {\n",
            "        \n",
            "      }});\n",
            "    });\n",
            "  };\n",
            "  \n",
            "  if (window.naver && window.naver.common && typeof window.naver.common.load_js === \"function\") {\n",
            "    var isDomLoading = document.readyState === \"loading\";\n",
            "    \n",
            "    naver.common.load_js(null, startApplication, isDomLoading, 150, !isDomLoading);\n",
            "  } else {\n",
            "    setTimeout(startApplication, 150);\n",
            "  }\n",
            "})();\n",
            "</script><div class=\"_scrollLog\" data-slog-id=\"sit_5po*e\" style=\"visibility:hidden;height:0px;margin:0 28px\"></div><div id=\"fdr-7473000173db471c907277599287583d\" data-fender-root=\"true\" data-block-id=\"web/prs_template_v2_web_basic_desk.ts\" data-meta-area=\"web_gen\" data-meta-nscs=\"\" data-meta-ssc=\"tab.nx.all\" data-meta-ssuid=\"web\" data-meta-ssuid-extra=\"fender_renderer-web\" class=\"sc_new _slog_visible\" data-slog-container=\"web_gen\"><div class=\"tvhO5CyOoGJoJh1g9Dpc XYjs_ew3wz8pmfMT0xy1 desktop_mode api_subject_bx\"><div class=\"sds-comps-vertical-layout sds-comps-full-layout fds-web-root\" data-template-id=\"layout\" data-template-type=\"vertical\"><div class=\"sds-comps-vertical-layout sds-comps-full-layout fds-web-list-root fds-web-list-vert-padding\" data-template-id=\"layout\" data-template-type=\"vertical\"><div class=\"sds-comps-vertical-layout sds-comps-full-layout fds-web-doc-root xCoxV1AggMVXNATSQA5d fds-web-normal-doc-root\"><div class=\"sds-comps-vertical-layout sds-comps-full-layout XAhYWRTsVs1LuMM91Ch_\"><div class=\"sds-comps-horizontal-layout sds-comps-full-layout da4PE7vmQBzRGyqacwhg\"><a nocr=\"1\" href=\"https://namu.wiki/w/Python\" class=\"edyvn4XC9VV5Get_taA1 Gpn7drGT3Ho6uNbqrLiT\" target=\"_blank\"><div class=\"sds-comps-horizontal-layout sds-comps-full-layout sds-comps-profile type-web size-lg title-color-g30\" data-sds-comp=\"Profile\"><div class=\"sds-comps-horizontal-layout sds-comps-inline-layout sds-comps-profile-source\"><div class=\"sds-comps-horizontal-layout sds-comps-inline-layout sds-comps-profile-source-thumb\"><div class=\"sds-comps-horizontal-layout sds-comps-inline-layout sds-comps-profile-thumbnail type-web size-lg\" data-sds-comp=\"ProfileThumbnail\"><div class=\"sds-comps-base-layout sds-comps-inline-layout sds-comps-image sds-comps-image-circle fit-cover is-loading\" style=\"width:16px;height:16px;aspect-ratio:1/1\" data-sds-comp=\"RectangleImage\" data-dimmed=\"none\"><img width=\"16\" height=\"16\" loading=\"lazy\" src=\"https://search.pstatic.net/sunny?src=https%3A%2F%2Fnamu.wiki%2Ffavicon.ico&amp;type=f30_30_png_expire24\"/><div class=\"sds-comps-image-dimmed\"></div></div></div></div><div class=\"sds-comps-horizontal-layout sds-comps-inline-layout sds-comps-profile-info\"><div class=\"sds-comps-horizontal-layout sds-comps-inline-layout sds-comps-profile-info-title\"><span class=\"sds-comps-text sds-comps-text-ellipsis sds-comps-text-ellipsis-1 sds-comps-text-type-body2 sds-comps-text-weight-sm sds-comps-profile-info-title-text\">나무위키</span></div><span class=\"sds-comps-base-layout sds-comps-full-layout sds-comps-divider sds-comps-divider-dot\" data-sds-comp=\"DotDivider\"></span><span class=\"sds-comps-text sds-comps-text-type-body2 sds-comps-text-weight-sm sds-comps-profile-info-subtext\"><div class=\"sds-comps-horizontal-layout sds-comps-inline-layout wQ6f5SVkN6MZ7zsKtWwA\"><span class=\"sds-comps-text sds-comps-text-type-body2 sds-comps-text-weight-sm\">namu.wiki</span><span class=\"sds-comps-text hmLasvu_EAJS3BeVffA7\">›</span><span class=\"sds-comps-text sds-comps-text-type-body2 sds-comps-text-weight-sm\">Python</span></div></span></div></div></div></a><div class=\"sds-comps-base-layout sds-comps-inline-layout hNfE3IlHZXdONjds3eZe _keep_wrap s_6YTBXyujks2KDAhLgC\"><button type=\"button\" class=\"sds-comps-horizontal-layout sds-comps-inline-layout sds-comps-button sds-comps-icon-button y_TpGLQ4oFHuSZL7k0F2 _keep_trigger\" data-url=\"https://namu.wiki/w/Python\" data-cr-on=\"a=web_gen*w.kep\" aria-label=\"옵션 메뉴 열기\" data-sds-comp=\"IconSingleButton\"><svg xmlns=\"http://www.w3.org/2000/svg\" viewBox=\"0 0 3 16\" class=\"sds-comps-svg sds-comps-icon sds-comps-icon-size-md1 DIyBNqgkBLGnJKkjM3Le sds-comps-option-icon\" width=\"3\" height=\"16\" fill=\"none\" aria-hidden=\"true\" stroke=\"none\" aria-label=\"OptionIcon\"><circle class=\"sds-comps-option-icon-element0\" cx=\"1.5\" cy=\"3\" r=\"1.5\"></circle><circle class=\"sds-comps-option-icon-element1\" cx=\"1.5\" cy=\"8\" r=\"1.5\"></circle><circle class=\"sds-comps-option-icon-element2\" cx=\"1.5\" cy=\"13\" r=\"1.5\"></circle></svg></button><div class=\"sds-comps-vertical-layout sds-comps-inline-layout xmTq28kkkyi9_pEiQb7S api_ly_save _keep_save_layer\" style=\"display:none\"><a href=\"#\" data-cr-on=\"a=web_gen*w.keepon\" data-cr-off=\"a=web_gen*w.keepon\" class=\"sds-comps-text spnew_af item item_save _keep_save\">Keep에 저장</a><a href=\"https://keep.naver.com/\" target=\"_blank\" class=\"sds-comps-text spnew_af item item_quick\">Keep에 바로가기</a></div></div></div><div class=\"sds-comps-vertical-layout sds-comps-full-layout hI_h5KPRv3hP9qgqxPXm jhrdGNWrdTmHHxmsvMIQ\"><a nocr=\"1\" href=\"https://namu.wiki/w/Python\" class=\"edyvn4XC9VV5Get_taA1 JsvLQxwn5DpjOHTSPtkH\" target=\"_blank\"><div class=\"sds-comps-base-layout sds-comps-inline-layout sds-comps-image ghLJeJ0uHRpy6mMVxmBo oZSv2DASto82_9Uq75dQ fit-contain forced-ratio is-loading\" style=\"width:104px;aspect-ratio:104/104\" data-dimmed=\"3%\" data-sds-comp=\"RectangleImage\"><div style=\"width:0;height:0;padding-top:100%\"></div><img width=\"104\" alt=\"&lt;mark&gt;Python&lt;/mark&gt;의 이미지\" loading=\"lazy\" src=\"https://search.pstatic.net/sunny?src=https%3A%2F%2Fi.ytimg.com%2Fvi%2Fx7X9w_GIm1s%2Fmaxresdefault.jpg&amp;type=fff208_208_ar\"/><div class=\"sds-comps-image-dimmed\"></div><span class=\"sds-comps-image-after-content\"></span></div></a><div class=\"sds-comps-horizontal-layout sds-comps-full-layout nfY2fHjS_ml0AkGPEwFZ\"><a nocr=\"1\" href=\"https://namu.wiki/w/Python\" class=\"edyvn4XC9VV5Get_taA1 b1QJ74QKeFSXh7tOqE8U\" target=\"_blank\"><span class=\"sds-comps-text sds-comps-text-ellipsis sds-comps-text-ellipsis-1 sds-comps-text-type-headline1 sds-comps-text-weight-sm\"><mark>Python</mark></span></a></div><div class=\"sds-comps-base-layout sds-comps-full-layout jhrdGNWrdTmHHxmsvMIQ\"><a nocr=\"1\" href=\"https://namu.wiki/w/Python\" class=\"edyvn4XC9VV5Get_taA1 TyPeB3ZABmIXKCrUEn5E\" target=\"_blank\"><span class=\"sds-comps-text sds-comps-text-ellipsis sds-comps-text-ellipsis-3 sds-comps-text-type-body1 sds-comps-text-weight-sm _Q0hVTXQk_J4Fv8kT3hW\"><mark>파이썬</mark>은 1991년에 귀도 반 로섬이 개발한 인터프리터형 프로그래밍 언어이다. 직관적이고 쉬운 문법과 다양하고 풍부한 라이브러리들을 바탕으로 한 강력한 생태계를 가지고 있어 프로그래밍 교육, 인공지능, 데이터 분석 및 빅데이터, 백엔드, 프론트엔드, 웹 스크래핑 등 다양한 분야에서 사용되며, 이에 힘입어 2024 TIOBE 인덱스 기준 프로그래밍 언어 순위 1위이기도 하다...</span></a><a nocr=\"1\" href=\"https://namu.wiki/w/Python\" class=\"edyvn4XC9VV5Get_taA1 TyPeB3ZABmIXKCrUEn5E\" target=\"_blank\"><div class=\"sds-comps-vertical-layout sds-comps-full-layout cbaAFliTq1gul2xRkr0o fds-infolist WNaTPltqnnuvAf7G9RZi\"><div class=\"sds-comps-horizontal-layout sds-comps-full-layout c9MsaiDTtn_J1j5xoMR4 fds-listitem\"><div class=\"sds-comps-base-layout sds-comps-inline-layout xtGgqPL1VRa9YHzbw867 fds-listitemlabel\">개발</div><div class=\"sds-comps-horizontal-layout sds-comps-full-layout d3LXRMoFJGbR0NFNkAC0 fds-listitemvalue\"><span class=\"sds-comps-text sds-comps-text-ellipsis sds-comps-text-ellipsis-2 sds-comps-text-type-body1 sds-comps-text-weight-sm\">Python 소프트웨어 재단 (PSF)</span></div></div></div></a></div></div></div><div class=\"sds-comps-horizontal-layout sds-comps-full-layout _L7jmFKW_SN2NmhK4Jvc qKJBj2sWX4ElhVXqm_hu\"><a nocr=\"1\" href=\"https://namu.wiki/w/Python#s-1\" class=\"edyvn4XC9VV5Get_taA1 qSAWgX7DWdvDIJezkECz\" target=\"_blank\"><span class=\"sds-comps-text sds-comps-text-ellipsis sds-comps-text-ellipsis-1 sds-comps-text-type-body3 sds-comps-text-weight-sm\">개요</span></a><a nocr=\"1\" href=\"https://namu.wiki/w/Python#s-2\" class=\"edyvn4XC9VV5Get_taA1 qSAWgX7DWdvDIJezkECz\" target=\"_blank\"><span class=\"sds-comps-text sds-comps-text-ellipsis sds-comps-text-ellipsis-1 sds-comps-text-type-body3 sds-comps-text-weight-sm\">디자인</span></a><a nocr=\"1\" href=\"https://namu.wiki/w/Python#s-3\" class=\"edyvn4XC9VV5Get_taA1 qSAWgX7DWdvDIJezkECz\" target=\"_blank\"><span class=\"sds-comps-text sds-comps-text-ellipsis sds-comps-text-ellipsis-1 sds-comps-text-type-body3 sds-comps-text-weight-sm\">장점</span></a><a nocr=\"1\" href=\"https://namu.wiki/w/Python#s-4\" class=\"edyvn4XC9VV5Get_taA1 qSAWgX7DWdvDIJezkECz\" target=\"_blank\"><span class=\"sds-comps-text sds-comps-text-ellipsis sds-comps-text-ellipsis-1 sds-comps-text-type-body3 sds-comps-text-weight-sm\">단점</span></a><a nocr=\"1\" href=\"https://namu.wiki/w/Python#s-5\" class=\"edyvn4XC9VV5Get_taA1 qSAWgX7DWdvDIJezkECz\" target=\"_blank\"><span class=\"sds-comps-text sds-comps-text-ellipsis sds-comps-text-ellipsis-1 sds-comps-text-type-body3 sds-comps-text-weight-sm\">구현체 목록</span></a><a nocr=\"1\" href=\"https://namu.wiki/w/Python#s-6\" class=\"edyvn4XC9VV5Get_taA1 qSAWgX7DWdvDIJezkECz\" target=\"_blank\"><span class=\"sds-comps-text sds-comps-text-ellipsis sds-comps-text-ellipsis-1 sds-comps-text-type-body3 sds-comps-text-weight-sm\">개발 환경</span></a><a nocr=\"1\" href=\"https://namu.wiki/w/Python#s-7\" class=\"edyvn4XC9VV5Get_taA1 qSAWgX7DWdvDIJezkECz\" target=\"_blank\"><span class=\"sds-comps-text sds-comps-text-ellipsis sds-comps-text-ellipsis-1 sds-comps-text-type-body3 sds-comps-text-weight-sm\">패키지 및 가상 환경 관리</span></a><a nocr=\"1\" href=\"https://namu.wiki/w/Python#s-8\" class=\"edyvn4XC9VV5Get_taA1 qSAWgX7DWdvDIJezkECz\" target=\"_blank\"><span class=\"sds-comps-text sds-comps-text-ellipsis sds-comps-text-ellipsis-1 sds-comps-text-type-body3 sds-comps-text-weight-sm\">주요 패키지</span></a><a nocr=\"1\" href=\"https://namu.wiki/w/Python#s-9\" class=\"edyvn4XC9VV5Get_taA1 qSAWgX7DWdvDIJezkECz\" target=\"_blank\"><span class=\"sds-comps-text sds-comps-text-ellipsis sds-comps-text-ellipsis-1 sds-comps-text-type-body3 sds-comps-text-weight-sm\">문법</span></a><a nocr=\"1\" href=\"https://namu.wiki/w/Python#s-10\" class=\"edyvn4XC9VV5Get_taA1 qSAWgX7DWdvDIJezkECz\" target=\"_blank\"><span class=\"sds-comps-text sds-comps-text-ellipsis sds-comps-text-ellipsis-1 sds-comps-text-type-body3 sds-comps-text-weight-sm\">설치</span></a></div></div><span class=\"sds-comps-base-layout sds-comps-full-layout sds-comps-divider sds-comps-divider-horz size-sm color-g90\" data-template-id=\"sdsHorzDivider\" data-template-color=\"g90\" data-template-size=\"sm\" data-sds-comp=\"HorzDivider\"></span><div class=\"sds-comps-vertical-layout sds-comps-full-layout fds-web-doc-root xCoxV1AggMVXNATSQA5d fds-web-normal-doc-root\"><div class=\"sds-comps-vertical-layout sds-comps-full-layout XAhYWRTsVs1LuMM91Ch_\"><div class=\"sds-comps-horizontal-layout sds-comps-full-layout da4PE7vmQBzRGyqacwhg\"><a nocr=\"1\" href=\"https://ko.wikipedia.org/wiki/%ED%8C%8C%EC%9D%B4%EC%8D%AC\" class=\"edyvn4XC9VV5Get_taA1 Gpn7drGT3Ho6uNbqrLiT\" target=\"_blank\"><div class=\"sds-comps-horizontal-layout sds-comps-full-layout sds-comps-profile type-web size-lg title-color-g30\" data-sds-comp=\"Profile\"><div class=\"sds-comps-horizontal-layout sds-comps-inline-layout sds-comps-profile-source\"><div class=\"sds-comps-horizontal-layout sds-comps-inline-layout sds-comps-profile-source-thumb\"><div class=\"sds-comps-horizontal-layout sds-comps-inline-layout sds-comps-profile-thumbnail type-web size-lg\" data-sds-comp=\"ProfileThumbnail\"><div class=\"sds-comps-base-layout sds-comps-inline-layout sds-comps-image sds-comps-image-circle fit-cover is-loading\" style=\"width:16px;height:16px;aspect-ratio:1/1\" data-sds-comp=\"RectangleImage\" data-dimmed=\"none\"><img width=\"16\" height=\"16\" loading=\"lazy\" src=\"https://search.pstatic.net/sunny?src=https%3A%2F%2Fko.wikipedia.org%2Ffavicon.ico&amp;type=f30_30_png_expire24\"/><div class=\"sds-comps-image-dimmed\"></div></div></div></div><div class=\"sds-comps-horizontal-layout sds-comps-inline-layout sds-comps-profile-info\"><div class=\"sds-comps-horizontal-layout sds-comps-inline-layout sds-comps-profile-info-title\"><span class=\"sds-comps-text sds-comps-text-ellipsis sds-comps-text-ellipsis-1 sds-comps-text-type-body2 sds-comps-text-weight-sm sds-comps-profile-info-title-text\">위키백과 한국어</span></div><span class=\"sds-comps-base-layout sds-comps-full-layout sds-comps-divider sds-comps-divider-dot\" data-sds-comp=\"DotDivider\"></span><span class=\"sds-comps-text sds-comps-text-type-body2 sds-comps-text-weight-sm sds-comps-profile-info-subtext\"><div class=\"sds-comps-horizontal-layout sds-comps-inline-layout wQ6f5SVkN6MZ7zsKtWwA\"><span class=\"sds-comps-text sds-comps-text-type-body2 sds-comps-text-weight-sm\">ko.wikipedia.org</span><span class=\"sds-comps-text hmLasvu_EAJS3BeVffA7\">›</span><span class=\"sds-comps-text sds-comps-text-type-body2 sds-comps-text-weight-sm\">파이썬</span></div></span></div></div></div></a><div class=\"sds-comps-base-layout sds-comps-inline-layout hNfE3IlHZXdONjds3eZe _keep_wrap s_6YTBXyujks2KDAhLgC\"><button type=\"button\" class=\"sds-comps-horizontal-layout sds-comps-inline-layout sds-comps-button sds-comps-icon-button y_TpGLQ4oFHuSZL7k0F2 _keep_trigger\" data-url=\"https://ko.wikipedia.org/wiki/%ED%8C%8C%EC%9D%B4%EC%8D%AC\" data-cr-on=\"a=web_gen*w.kep\" aria-label=\"옵션 메뉴 열기\" data-sds-comp=\"IconSingleButton\"><svg xmlns=\"http://www.w3.org/2000/svg\" viewBox=\"0 0 3 16\" class=\"sds-comps-svg sds-comps-icon sds-comps-icon-size-md1 DIyBNqgkBLGnJKkjM3Le sds-comps-option-icon\" width=\"3\" height=\"16\" fill=\"none\" aria-hidden=\"true\" stroke=\"none\" aria-label=\"OptionIcon\"><circle class=\"sds-comps-option-icon-element0\" cx=\"1.5\" cy=\"3\" r=\"1.5\"></circle><circle class=\"sds-comps-option-icon-element1\" cx=\"1.5\" cy=\"8\" r=\"1.5\"></circle><circle class=\"sds-comps-option-icon-element2\" cx=\"1.5\" cy=\"13\" r=\"1.5\"></circle></svg></button><div class=\"sds-comps-vertical-layout sds-comps-inline-layout xmTq28kkkyi9_pEiQb7S api_ly_save _keep_save_layer\" style=\"display:none\"><a href=\"#\" data-cr-on=\"a=web_gen*w.keepon\" data-cr-off=\"a=web_gen*w.keepon\" class=\"sds-comps-text spnew_af item item_save _keep_save\">Keep에 저장</a><a href=\"https://keep.naver.com/\" target=\"_blank\" class=\"sds-comps-text spnew_af item item_quick\">Keep에 바로가기</a></div></div></div><div class=\"sds-comps-vertical-layout sds-comps-full-layout hI_h5KPRv3hP9qgqxPXm jhrdGNWrdTmHHxmsvMIQ\"><div class=\"sds-comps-horizontal-layout sds-comps-full-layout nfY2fHjS_ml0AkGPEwFZ\"><a nocr=\"1\" href=\"https://ko.wikipedia.org/wiki/%ED%8C%8C%EC%9D%B4%EC%8D%AC\" class=\"edyvn4XC9VV5Get_taA1 b1QJ74QKeFSXh7tOqE8U\" target=\"_blank\"><span class=\"sds-comps-text sds-comps-text-ellipsis sds-comps-text-ellipsis-1 sds-comps-text-type-headline1 sds-comps-text-weight-sm\"><mark>파이썬</mark></span></a></div><div class=\"sds-comps-base-layout sds-comps-full-layout jhrdGNWrdTmHHxmsvMIQ\"><a nocr=\"1\" href=\"https://ko.wikipedia.org/wiki/%ED%8C%8C%EC%9D%B4%EC%8D%AC\" class=\"edyvn4XC9VV5Get_taA1 TyPeB3ZABmIXKCrUEn5E\" target=\"_blank\"><span class=\"sds-comps-text sds-comps-text-ellipsis sds-comps-text-ellipsis-3 sds-comps-text-type-body1 sds-comps-text-weight-sm _Q0hVTXQk_J4Fv8kT3hW\"><mark>파이썬</mark> ( 영어: <mark>Python</mark> )은 1991년 네덜란드계 소프트웨어 엔지니어인 귀도 반 로섬이 발표한 고급 프로그래밍 언어로, '인터프리터를 사용하는 객체지향 언어'이자 플랫폼에 독립적인, 동적 타이핑(dynamically typed) 대화형 언어다. <mark>파이썬</mark>이라는 이름은 귀도가 좋아하는 코미디인〈Monty <mark>Python</mark>'s Flying Circus〉에서 따온 것이다. 이름에서 고대신화에 나오는 커다란 뱀을 연상하겠지만 이와는 무관하다. 다만 로고에는 뱀 두마리가 형상화되어 있다. 간결하고 읽기 쉬운 문법이 특징인 프로그래밍 언어로 데이터 분석, 웹 개발, 인...</span></a><a nocr=\"1\" href=\"https://ko.wikipedia.org/wiki/%ED%8C%8C%EC%9D%B4%EC%8D%AC\" class=\"edyvn4XC9VV5Get_taA1 TyPeB3ZABmIXKCrUEn5E\" target=\"_blank\"><div class=\"sds-comps-vertical-layout sds-comps-full-layout cbaAFliTq1gul2xRkr0o fds-infolist WNaTPltqnnuvAf7G9RZi\"><div class=\"sds-comps-horizontal-layout sds-comps-full-layout c9MsaiDTtn_J1j5xoMR4 fds-listitem\"><div class=\"sds-comps-base-layout sds-comps-inline-layout xtGgqPL1VRa9YHzbw867 fds-listitemlabel\">파일 확장자</div><div class=\"sds-comps-horizontal-layout sds-comps-full-layout d3LXRMoFJGbR0NFNkAC0 fds-listitemvalue\"><span class=\"sds-comps-text sds-comps-text-ellipsis sds-comps-text-ellipsis-2 sds-comps-text-type-body1 sds-comps-text-weight-sm\">.py, .pyc, .pyd, .pyo</span></div></div><div class=\"sds-comps-horizontal-layout sds-comps-full-layout c9MsaiDTtn_J1j5xoMR4 fds-listitem\"><div class=\"sds-comps-base-layout sds-comps-inline-layout xtGgqPL1VRa9YHzbw867 fds-listitemlabel\">패러다임</div><div class=\"sds-comps-horizontal-layout sds-comps-full-layout d3LXRMoFJGbR0NFNkAC0 fds-listitemvalue\"><span class=\"sds-comps-text sds-comps-text-ellipsis sds-comps-text-ellipsis-2 sds-comps-text-type-body1 sds-comps-text-weight-sm\">프로그래밍 패러다임 객체 지향 프로그래밍, 명령형 프로그래밍, 함수형 프로그래밍, 절차적 프로그래밍, 반영</span></div></div><div class=\"sds-comps-horizontal-layout sds-comps-full-layout c9MsaiDTtn_J1j5xoMR4 fds-listitem\"><div class=\"sds-comps-base-layout sds-comps-inline-layout xtGgqPL1VRa9YHzbw867 fds-listitemlabel\">최근 버전</div><div class=\"sds-comps-horizontal-layout sds-comps-full-layout d3LXRMoFJGbR0NFNkAC0 fds-listitemvalue\"><span class=\"sds-comps-text sds-comps-text-ellipsis sds-comps-text-ellipsis-2 sds-comps-text-type-body1 sds-comps-text-weight-sm\">3.13.7</span></div></div><div class=\"sds-comps-horizontal-layout sds-comps-full-layout c9MsaiDTtn_J1j5xoMR4 fds-listitem\"><div class=\"sds-comps-base-layout sds-comps-inline-layout xtGgqPL1VRa9YHzbw867 fds-listitemlabel\">최근 버전 출시일</div><div class=\"sds-comps-horizontal-layout sds-comps-full-layout d3LXRMoFJGbR0NFNkAC0 fds-listitemvalue\"><span class=\"sds-comps-text sds-comps-text-ellipsis sds-comps-text-ellipsis-2 sds-comps-text-type-body1 sds-comps-text-weight-sm\">2025년 8월 14일 (22일 전)</span></div></div></div></a></div></div></div><div class=\"sds-comps-horizontal-layout sds-comps-full-layout _L7jmFKW_SN2NmhK4Jvc qKJBj2sWX4ElhVXqm_hu\"><a nocr=\"1\" href=\"https://ko.wikipedia.org/wiki/%ED%8C%8C%EC%9D%B4%EC%8D%AC#%EA%B0%9C%EC%9A%94\" class=\"edyvn4XC9VV5Get_taA1 qSAWgX7DWdvDIJezkECz\" target=\"_blank\"><span class=\"sds-comps-text sds-comps-text-ellipsis sds-comps-text-ellipsis-1 sds-comps-text-type-body3 sds-comps-text-weight-sm\">개요</span></a><a nocr=\"1\" href=\"https://ko.wikipedia.org/wiki/%ED%8C%8C%EC%9D%B4%EC%8D%AC#%EC%97%AD%EC%82%AC\" class=\"edyvn4XC9VV5Get_taA1 qSAWgX7DWdvDIJezkECz\" target=\"_blank\"><span class=\"sds-comps-text sds-comps-text-ellipsis sds-comps-text-ellipsis-1 sds-comps-text-type-body3 sds-comps-text-weight-sm\">역사</span></a><a nocr=\"1\" href=\"https://ko.wikipedia.org/wiki/%ED%8C%8C%EC%9D%B4%EC%8D%AC#%EA%B8%B0%EB%8A%A5%EA%B3%BC_%EC%B2%A0%ED%95%99\" class=\"edyvn4XC9VV5Get_taA1 qSAWgX7DWdvDIJezkECz\" target=\"_blank\"><span class=\"sds-comps-text sds-comps-text-ellipsis sds-comps-text-ellipsis-1 sds-comps-text-type-body3 sds-comps-text-weight-sm\">기능과 철학</span></a><a nocr=\"1\" href=\"https://ko.wikipedia.org/wiki/%ED%8C%8C%EC%9D%B4%EC%8D%AC#%EB%AC%B8%EB%B2%95\" class=\"edyvn4XC9VV5Get_taA1 qSAWgX7DWdvDIJezkECz\" target=\"_blank\"><span class=\"sds-comps-text sds-comps-text-ellipsis sds-comps-text-ellipsis-1 sds-comps-text-type-body3 sds-comps-text-weight-sm\">문법</span></a><a nocr=\"1\" href=\"https://ko.wikipedia.org/wiki/%ED%8C%8C%EC%9D%B4%EC%8D%AC#%EC%9E%90%EB%A3%8C%ED%98%95\" class=\"edyvn4XC9VV5Get_taA1 qSAWgX7DWdvDIJezkECz\" target=\"_blank\"><span class=\"sds-comps-text sds-comps-text-ellipsis sds-comps-text-ellipsis-1 sds-comps-text-type-body3 sds-comps-text-weight-sm\">자료형</span></a><a nocr=\"1\" href=\"https://ko.wikipedia.org/wiki/%ED%8C%8C%EC%9D%B4%EC%8D%AC#%EB%8F%99%EC%9E%91%ED%95%98%EB%8A%94_%ED%94%8C%EB%9E%AB%ED%8F%BC\" class=\"edyvn4XC9VV5Get_taA1 qSAWgX7DWdvDIJezkECz\" target=\"_blank\"><span class=\"sds-comps-text sds-comps-text-ellipsis sds-comps-text-ellipsis-1 sds-comps-text-type-body3 sds-comps-text-weight-sm\">동작하는 플랫폼</span></a><a nocr=\"1\" href=\"https://ko.wikipedia.org/wiki/%ED%8C%8C%EC%9D%B4%EC%8D%AC#%ED%95%9C%EA%B8%80_%EB%8B%A4%EB%A3%A8%EA%B8%B0\" class=\"edyvn4XC9VV5Get_taA1 qSAWgX7DWdvDIJezkECz\" target=\"_blank\"><span class=\"sds-comps-text sds-comps-text-ellipsis sds-comps-text-ellipsis-1 sds-comps-text-type-body3 sds-comps-text-weight-sm\">한글 다루기</span></a><a nocr=\"1\" href=\"https://ko.wikipedia.org/wiki/%ED%8C%8C%EC%9D%B4%EC%8D%AC#%EC%82%AC%EC%9A%A9_%ED%98%84%ED%99%A9\" class=\"edyvn4XC9VV5Get_taA1 qSAWgX7DWdvDIJezkECz\" target=\"_blank\"><span class=\"sds-comps-text sds-comps-text-ellipsis sds-comps-text-ellipsis-1 sds-comps-text-type-body3 sds-comps-text-weight-sm\">사용 현황</span></a><a nocr=\"1\" href=\"https://ko.wikipedia.org/wiki/%ED%8C%8C%EC%9D%B4%EC%8D%AC#%EC%8B%A4%ED%96%89_%EC%86%8D%EB%8F%84_%ED%96%A5%EC%83%81_%EA%B4%80%EB%A0%A8\" class=\"edyvn4XC9VV5Get_taA1 qSAWgX7DWdvDIJezkECz\" target=\"_blank\"><span class=\"sds-comps-text sds-comps-text-ellipsis sds-comps-text-ellipsis-1 sds-comps-text-type-body3 sds-comps-text-weight-sm\">실행 속도 향상 관련</span></a><a nocr=\"1\" href=\"https://ko.wikipedia.org/wiki/%ED%8C%8C%EC%9D%B4%EC%8D%AC#IDE_%EB%AA%A9%EB%A1%9D\" class=\"edyvn4XC9VV5Get_taA1 qSAWgX7DWdvDIJezkECz\" target=\"_blank\"><span class=\"sds-comps-text sds-comps-text-ellipsis sds-comps-text-ellipsis-1 sds-comps-text-type-body3 sds-comps-text-weight-sm\">IDE 목록</span></a></div></div><span class=\"sds-comps-base-layout sds-comps-full-layout sds-comps-divider sds-comps-divider-horz size-sm color-g90\" data-template-id=\"sdsHorzDivider\" data-template-color=\"g90\" data-template-size=\"sm\" data-sds-comp=\"HorzDivider\"></span><div class=\"sds-comps-vertical-layout sds-comps-full-layout fds-web-doc-root xCoxV1AggMVXNATSQA5d fds-web-normal-doc-root\"><div class=\"sds-comps-vertical-layout sds-comps-full-layout XAhYWRTsVs1LuMM91Ch_\"><div class=\"sds-comps-horizontal-layout sds-comps-full-layout da4PE7vmQBzRGyqacwhg\"><a nocr=\"1\" href=\"https://marketplace.visualstudio.com/items?itemName=ms-python.python\" class=\"edyvn4XC9VV5Get_taA1 Gpn7drGT3Ho6uNbqrLiT\" target=\"_blank\"><div class=\"sds-comps-horizontal-layout sds-comps-full-layout sds-comps-profile type-web size-lg title-color-g30\" data-sds-comp=\"Profile\"><div class=\"sds-comps-horizontal-layout sds-comps-inline-layout sds-comps-profile-source\"><div class=\"sds-comps-horizontal-layout sds-comps-inline-layout sds-comps-profile-source-thumb\"><div class=\"sds-comps-horizontal-layout sds-comps-inline-layout sds-comps-profile-thumbnail type-web size-lg\" data-sds-comp=\"ProfileThumbnail\"><div class=\"sds-comps-base-layout sds-comps-inline-layout sds-comps-image sds-comps-image-circle fit-cover is-loading\" style=\"width:16px;height:16px;aspect-ratio:1/1\" data-sds-comp=\"RectangleImage\" data-dimmed=\"none\"><img width=\"16\" height=\"16\" loading=\"lazy\" src=\"https://search.pstatic.net/sunny?src=https%3A%2F%2Fmarketplace.visualstudio.com%2Ffavicon.ico&amp;type=f30_30_png_expire24\"/><div class=\"sds-comps-image-dimmed\"></div></div></div></div><div class=\"sds-comps-horizontal-layout sds-comps-inline-layout sds-comps-profile-info\"><span class=\"sds-comps-text sds-comps-text-type-body2 sds-comps-text-weight-sm sds-comps-profile-info-subtext\"><div class=\"sds-comps-horizontal-layout sds-comps-inline-layout wQ6f5SVkN6MZ7zsKtWwA\"><span class=\"sds-comps-text sds-comps-text-type-body2 sds-comps-text-weight-sm\">marketplace.visualstudio.com</span><span class=\"sds-comps-text hmLasvu_EAJS3BeVffA7\">›</span><span class=\"sds-comps-text sds-comps-text-type-body2 sds-comps-text-weight-sm\">items</span></div></span></div></div></div></a><div class=\"sds-comps-base-layout sds-comps-inline-layout hNfE3IlHZXdONjds3eZe _keep_wrap s_6YTBXyujks2KDAhLgC\"><button type=\"button\" class=\"sds-comps-horizontal-layout sds-comps-inline-layout sds-comps-button sds-comps-icon-button y_TpGLQ4oFHuSZL7k0F2 _keep_trigger\" data-url=\"https://marketplace.visualstudio.com/items?itemName=ms-python.python\" data-cr-on=\"a=web_gen*w.kep\" aria-label=\"옵션 메뉴 열기\" data-sds-comp=\"IconSingleButton\"><svg xmlns=\"http://www.w3.org/2000/svg\" viewBox=\"0 0 3 16\" class=\"sds-comps-svg sds-comps-icon sds-comps-icon-size-md1 DIyBNqgkBLGnJKkjM3Le sds-comps-option-icon\" width=\"3\" height=\"16\" fill=\"none\" aria-hidden=\"true\" stroke=\"none\" aria-label=\"OptionIcon\"><circle class=\"sds-comps-option-icon-element0\" cx=\"1.5\" cy=\"3\" r=\"1.5\"></circle><circle class=\"sds-comps-option-icon-element1\" cx=\"1.5\" cy=\"8\" r=\"1.5\"></circle><circle class=\"sds-comps-option-icon-element2\" cx=\"1.5\" cy=\"13\" r=\"1.5\"></circle></svg></button><div class=\"sds-comps-vertical-layout sds-comps-inline-layout xmTq28kkkyi9_pEiQb7S api_ly_save _keep_save_layer\" style=\"display:none\"><a href=\"#\" data-cr-on=\"a=web_gen*w.keepon\" data-cr-off=\"a=web_gen*w.keepon\" class=\"sds-comps-text spnew_af item item_save _keep_save\">Keep에 저장</a><a href=\"https://keep.naver.com/\" target=\"_blank\" class=\"sds-comps-text spnew_af item item_quick\">Keep에 바로가기</a></div></div></div><div class=\"sds-comps-vertical-layout sds-comps-full-layout hI_h5KPRv3hP9qgqxPXm jhrdGNWrdTmHHxmsvMIQ\"><a nocr=\"1\" href=\"https://marketplace.visualstudio.com/items?itemName=ms-python.python\" class=\"edyvn4XC9VV5Get_taA1 JsvLQxwn5DpjOHTSPtkH LQjlCEe1UWrH986mhnyg\" target=\"_blank\"><div class=\"sds-comps-base-layout sds-comps-inline-layout sds-comps-image ghLJeJ0uHRpy6mMVxmBo oZSv2DASto82_9Uq75dQ fit-contain forced-ratio is-loading\" style=\"width:104px;aspect-ratio:104/104\" data-dimmed=\"3%\" data-sds-comp=\"RectangleImage\"><div style=\"width:0;height:0;padding-top:100%\"></div><img width=\"104\" alt=\"&lt;mark&gt;Python&lt;/mark&gt; - Visual Studio Marketplace의 이미지\" loading=\"lazy\" src=\"https://search.pstatic.net/sunny?src=https%3A%2F%2Fms-python.gallerycdn.vsassets.io%2Fextensions%2Fms-python%2Fpython%2F2025.13.2025090201%2F1756809778264%2FMicrosoft.VisualStudio.Services.Icons.Default&amp;type=fff208_208_ar\"/><div class=\"sds-comps-image-dimmed\"></div><span class=\"sds-comps-image-after-content\"></span></div></a><div class=\"sds-comps-horizontal-layout sds-comps-full-layout nfY2fHjS_ml0AkGPEwFZ\"><a nocr=\"1\" href=\"https://marketplace.visualstudio.com/items?itemName=ms-python.python\" class=\"edyvn4XC9VV5Get_taA1 b1QJ74QKeFSXh7tOqE8U\" target=\"_blank\"><span class=\"sds-comps-text sds-comps-text-ellipsis sds-comps-text-ellipsis-1 sds-comps-text-type-headline1 sds-comps-text-weight-sm\"><mark>Python</mark> - Visual Studio Marketplace</span></a></div><div class=\"sds-comps-base-layout sds-comps-full-layout jhrdGNWrdTmHHxmsvMIQ\"><a nocr=\"1\" href=\"https://marketplace.visualstudio.com/items?itemName=ms-python.python\" class=\"edyvn4XC9VV5Get_taA1 TyPeB3ZABmIXKCrUEn5E\" target=\"_blank\"><span class=\"sds-comps-text sds-comps-text-ellipsis sds-comps-text-ellipsis-3 sds-comps-text-type-body1 sds-comps-text-weight-sm _Q0hVTXQk_J4Fv8kT3hW\">Extension for Visual Studio Code - <mark>Python</mark> language support with extension access points for IntelliSense (Pylance), Debugging (<mark>Python</mark> Debugger), linting, formatting, refactoring, unit tests, and more.</span></a></div></div></div></div></div><div class=\"sds-comps-base-layout sds-comps-full-layout cf6aC9oq55DkSJQ2kb3k fds-comps-footer-more fds-footer-ad-more-button no-padding\" data-template-id=\"footer\" data-template-type=\"more\" data-template-variant=\"divider\"><a nocr=\"1\" href=\"?nso=&amp;page=2&amp;query=python&amp;sm=tab_pge&amp;start=1&amp;where=web\" class=\"edyvn4XC9VV5Get_taA1 R7FaPimqlYKgRzWB2HHM fds-comps-footer-more-anchor\" target=\"_self\"><div class=\"sds-comps-vertical-layout sds-comps-full-layout sds-comps-footer type-divider size-sm fds-comps-footer-more-wrap\" data-sds-comp=\"Footer\"><span class=\"sds-comps-base-layout sds-comps-full-layout sds-comps-divider sds-comps-divider-horz size-sm color-g90\" data-sds-comp=\"HorzDivider\"></span><div class=\"sds-comps-horizontal-layout sds-comps-full-layout sds-comps-footer-content\"><span class=\"sds-comps-text sds-comps-text-type-headline3 sds-comps-text-weight-sm sds-comps-footer-label\"><div class=\"sds-comps-horizontal-layout sds-comps-full-layout nK8pnPqmibOi7lba_9rj\"><span class=\"sds-comps-text sds-comps-text-type-body1 sds-comps-text-weight-sm CD6Ciz299SQhHM1Fr2Fc fds-comps-footer-more-button-text\">검색결과 더보기</span></div></span><div class=\"sds-comps-vertical-layout sds-comps-inline-layout sds-comps-footer-icon\"><svg xmlns=\"http://www.w3.org/2000/svg\" viewBox=\"0 0 16 16\" class=\"sds-comps-svg sds-comps-icon sds-comps-icon-size-sm fds-comps-footer-more-icon fds-comps-footer-more-icon-more sds-comps-arrow-horz-see-more-icon\" width=\"16\" height=\"16\" fill=\"none\" aria-hidden=\"true\" stroke=\"none\" aria-label=\"ArrowHorzSeeMoreIcon\"><path class=\"sds-comps-arrow-horz-see-more-icon-element0\" d=\"M12.7302 8.65306H-0.00493177V7.35306H12.7301L7.34069 1.93L8.26279 1.01363L15.2089 8.0031L8.26279 14.9926L7.34069 14.0762L12.7302 8.65306Z\"></path></svg></div></div></div></a></div></div></div></div><script>\n",
            "(function () {\n",
            "\n",
            "  var startApplication = function () {\n",
            "    var require = window.require.config({\n",
            "      \"context\": \"fender_renderer_cedcefc1091cd352903b\"\n",
            "    });\n",
            "    require([\"https://ssl.pstatic.net/sstatic/fe/fender/client/cedcefc1091cd352903b/index.js\"], function (entry) {\n",
            "      entry.bootstrap(document.getElementById(\"fdr-7473000173db471c907277599287583d\"), {\"appElementAttrs\":{\"className\":\"sc_new _slog_visible\",\"data-slog-container\":\"web_gen\"},\"meta\":{\"area\":\"web_gen\",\"nscs\":\"\",\"query\":\"python\",\"ssc\":\"tab.nx.all\",\"ssuid\":\"web\",\"ssuidExtra\":\"fender_renderer-web\",\"token\":\"basic\"},\"refs\":{\"blockId\":\"web/prs_template_v2_web_basic_desk.ts\"},\"rootElementAttrs\":{\"className\":\"api_subject_bx\"},\"body\":{\"props\":{\"children\":[{\"props\":{\"children\":[{\"props\":{\"aggregation\":{},\"bodyText\":\"<mark>파이썬</mark>은 1991년에 귀도 반 로섬이 개발한 인터프리터형 프로그래밍 언어이다. 직관적이고 쉬운 문법과 다양하고 풍부한 라이브러리들을 바탕으로 한 강력한 생태계를 가지고 있어 프로그래밍 교육, 인공지능, 데이터 분석 및 빅데이터, 백엔드, 프론트엔드, 웹 스크래핑 등 다양한 분야에서 사용되며, 이에 힘입어 2024 TIOBE 인덱스 기준 프로그래밍 언어 순위 1위이기도 하다...\",\"bodyVariants\":\"3line\",\"card\":{},\"clickLog\":{\"title\":{\"element\":\".link\",\"g\":\"\",\"i\":\"a00000fa_f26c3ab04ba64ef798bebab8^fa\",\"r\":1,\"source\":\"*w\"}},\"deviceType\":\"desk\",\"href\":\"https://namu.wiki/w/Python\",\"images\":[{\"clickLog\":{\"image\":{\"element\":\".image\",\"g\":\"\",\"i\":\"a00000fa_f26c3ab04ba64ef798bebab8^faVc\",\"r\":1,\"source\":\"*w\"}},\"imageHref\":\"https://namu.wiki/w/Python\",\"imageSrc\":\"https://search.pstatic.net/sunny?src=https%3A%2F%2Fi.ytimg.com%2Fvi%2Fx7X9w_GIm1s%2Fmaxresdefault.jpg&type=fff208_208_ar\",\"type\":\"image\"}],\"keyValue\":{\"clickLog\":{\"keyValue\":{\"element\":\".infob\",\"g\":\"\",\"i\":\"a00000fa_f26c3ab04ba64ef798bebab8^faVc\",\"r\":1,\"source\":\"*w\"}},\"contents\":[{\"key\":\"개발\",\"valueData\":{\"text\":\"Python 소프트웨어 재단 (PSF)\",\"type\":\"basic\"}}]},\"linkBtns\":[{\"clickLog\":{\"link\":{\"element\":\".relink\",\"g\":\"\",\"i\":\"a00000fa_f26c3ab04ba64ef798bebab8^faVc\",\"r\":1,\"source\":\"*w\"}},\"href\":\"https://namu.wiki/w/Python#s-1\",\"text\":\"개요\"},{\"clickLog\":{\"link\":{\"element\":\".relink\",\"g\":\"\",\"i\":\"a00000fa_f26c3ab04ba64ef798bebab8^faVc\",\"r\":1,\"source\":\"*w\"}},\"href\":\"https://namu.wiki/w/Python#s-2\",\"text\":\"디자인\"},{\"clickLog\":{\"link\":{\"element\":\".relink\",\"g\":\"\",\"i\":\"a00000fa_f26c3ab04ba64ef798bebab8^faVc\",\"r\":1,\"source\":\"*w\"}},\"href\":\"https://namu.wiki/w/Python#s-3\",\"text\":\"장점\"},{\"clickLog\":{\"link\":{\"element\":\".relink\",\"g\":\"\",\"i\":\"a00000fa_f26c3ab04ba64ef798bebab8^faVc\",\"r\":1,\"source\":\"*w\"}},\"href\":\"https://namu.wiki/w/Python#s-4\",\"text\":\"단점\"},{\"clickLog\":{\"link\":{\"element\":\".relink\",\"g\":\"\",\"i\":\"a00000fa_f26c3ab04ba64ef798bebab8^faVc\",\"r\":1,\"source\":\"*w\"}},\"href\":\"https://namu.wiki/w/Python#s-5\",\"text\":\"구현체 목록\"},{\"clickLog\":{\"link\":{\"element\":\".relink\",\"g\":\"\",\"i\":\"a00000fa_f26c3ab04ba64ef798bebab8^faVc\",\"r\":1,\"source\":\"*w\"}},\"href\":\"https://namu.wiki/w/Python#s-6\",\"text\":\"개발 환경\"},{\"clickLog\":{\"link\":{\"element\":\".relink\",\"g\":\"\",\"i\":\"a00000fa_f26c3ab04ba64ef798bebab8^faVc\",\"r\":1,\"source\":\"*w\"}},\"href\":\"https://namu.wiki/w/Python#s-7\",\"text\":\"패키지 및 가상 환경 관리\"},{\"clickLog\":{\"link\":{\"element\":\".relink\",\"g\":\"\",\"i\":\"a00000fa_f26c3ab04ba64ef798bebab8^faVc\",\"r\":1,\"source\":\"*w\"}},\"href\":\"https://namu.wiki/w/Python#s-8\",\"text\":\"주요 패키지\"},{\"clickLog\":{\"link\":{\"element\":\".relink\",\"g\":\"\",\"i\":\"a00000fa_f26c3ab04ba64ef798bebab8^faVc\",\"r\":1,\"source\":\"*w\"}},\"href\":\"https://namu.wiki/w/Python#s-9\",\"text\":\"문법\"},{\"clickLog\":{\"link\":{\"element\":\".relink\",\"g\":\"\",\"i\":\"a00000fa_f26c3ab04ba64ef798bebab8^faVc\",\"r\":1,\"source\":\"*w\"}},\"href\":\"https://namu.wiki/w/Python#s-10\",\"text\":\"설치\"}],\"list\":{},\"notice\":{},\"paragraph\":{},\"profile\":{\"badge\":\"\",\"clickLog\":{\"profile\":{\"element\":\".link\",\"g\":\"\",\"i\":\"a00000fa_f26c3ab04ba64ef798bebab8^fa\",\"r\":1,\"source\":\"*w\"}},\"favicon\":\"https://search.pstatic.net/sunny?src=https%3A%2F%2Fnamu.wiki%2Ffavicon.ico&type=f30_30_png_expire24\",\"href\":\"https://namu.wiki/w/Python\",\"keep\":{\"clickLog\":{\"keepLink\":{\"element\":\".kep\",\"g\":\"\",\"i\":\"a00000fa_f26c3ab04ba64ef798bebab8^fa\",\"r\":1,\"source\":\"\"}},\"keepOffClickLog\":\"a=web_gen*w.keepon\",\"keepOnClickLog\":\"a=web_gen*w.keepon\",\"keepTriggerOffClickLog\":\"\",\"keepTriggerOnClickLog\":\"a=web_gen*w.kep\",\"keepTriggerUrl\":\"https://namu.wiki/w/Python\",\"keepURL\":\"https://keep.naver.com/\",\"type\":\"basic\",\"use\":[\"keep\",\"mykeep\"],\"version\":\"2\"},\"subTexts\":[{\"text\":\"namu.wiki\"},{\"text\":\"Python\"}],\"title\":\"나무위키\"},\"review\":{},\"rootClassName\":\"fds-web-normal-doc-root\",\"table\":{},\"title\":\"<mark>Python</mark>\",\"titleVariant\":\"1line\",\"topstorys\":{},\"type\":\"basic\"},\"templateId\":\"webItem\"},{\"props\":{\"aggregation\":{},\"bodyText\":\"<mark>파이썬</mark> ( 영어: <mark>Python</mark> )은 1991년 네덜란드계 소프트웨어 엔지니어인 귀도 반 로섬이 발표한 고급 프로그래밍 언어로, '인터프리터를 사용하는 객체지향 언어'이자 플랫폼에 독립적인, 동적 타이핑(dynamically typed) 대화형 언어다. <mark>파이썬</mark>이라는 이름은 귀도가 좋아하는 코미디인〈Monty <mark>Python</mark>'s Flying Circus〉에서 따온 것이다. 이름에서 고대신화에 나오는 커다란 뱀을 연상하겠지만 이와는 무관하다. 다만 로고에는 뱀 두마리가 형상화되어 있다. 간결하고 읽기 쉬운 문법이 특징인 프로그래밍 언어로 데이터 분석, 웹 개발, 인...\",\"bodyVariants\":\"3line\",\"card\":{},\"clickLog\":{\"title\":{\"element\":\".link\",\"g\":\"\",\"i\":\"a00000fa_5a2bd8e76c2907579103e03b^fa\",\"r\":2,\"source\":\"*w\"}},\"deviceType\":\"desk\",\"href\":\"https://ko.wikipedia.org/wiki/%ED%8C%8C%EC%9D%B4%EC%8D%AC\",\"keyValue\":{\"clickLog\":{\"keyValue\":{\"element\":\".infob\",\"g\":\"\",\"i\":\"a00000fa_5a2bd8e76c2907579103e03b^fac\",\"r\":2,\"source\":\"*w\"}},\"contents\":[{\"key\":\"파일 확장자\",\"valueData\":{\"text\":\".py, .pyc, .pyd, .pyo\",\"type\":\"basic\"}},{\"key\":\"패러다임\",\"valueData\":{\"text\":\"프로그래밍 패러다임 객체 지향 프로그래밍, 명령형 프로그래밍, 함수형 프로그래밍, 절차적 프로그래밍, 반영\",\"type\":\"basic\"}},{\"key\":\"최근 버전\",\"valueData\":{\"text\":\"3.13.7\",\"type\":\"basic\"}},{\"key\":\"최근 버전 출시일\",\"valueData\":{\"text\":\"2025년 8월 14일 (22일 전)\",\"type\":\"basic\"}}]},\"linkBtns\":[{\"clickLog\":{\"link\":{\"element\":\".relink\",\"g\":\"\",\"i\":\"a00000fa_5a2bd8e76c2907579103e03b^fac\",\"r\":2,\"source\":\"*w\"}},\"href\":\"https://ko.wikipedia.org/wiki/%ED%8C%8C%EC%9D%B4%EC%8D%AC#%EA%B0%9C%EC%9A%94\",\"text\":\"개요\"},{\"clickLog\":{\"link\":{\"element\":\".relink\",\"g\":\"\",\"i\":\"a00000fa_5a2bd8e76c2907579103e03b^fac\",\"r\":2,\"source\":\"*w\"}},\"href\":\"https://ko.wikipedia.org/wiki/%ED%8C%8C%EC%9D%B4%EC%8D%AC#%EC%97%AD%EC%82%AC\",\"text\":\"역사\"},{\"clickLog\":{\"link\":{\"element\":\".relink\",\"g\":\"\",\"i\":\"a00000fa_5a2bd8e76c2907579103e03b^fac\",\"r\":2,\"source\":\"*w\"}},\"href\":\"https://ko.wikipedia.org/wiki/%ED%8C%8C%EC%9D%B4%EC%8D%AC#%EA%B8%B0%EB%8A%A5%EA%B3%BC_%EC%B2%A0%ED%95%99\",\"text\":\"기능과 철학\"},{\"clickLog\":{\"link\":{\"element\":\".relink\",\"g\":\"\",\"i\":\"a00000fa_5a2bd8e76c2907579103e03b^fac\",\"r\":2,\"source\":\"*w\"}},\"href\":\"https://ko.wikipedia.org/wiki/%ED%8C%8C%EC%9D%B4%EC%8D%AC#%EB%AC%B8%EB%B2%95\",\"text\":\"문법\"},{\"clickLog\":{\"link\":{\"element\":\".relink\",\"g\":\"\",\"i\":\"a00000fa_5a2bd8e76c2907579103e03b^fac\",\"r\":2,\"source\":\"*w\"}},\"href\":\"https://ko.wikipedia.org/wiki/%ED%8C%8C%EC%9D%B4%EC%8D%AC#%EC%9E%90%EB%A3%8C%ED%98%95\",\"text\":\"자료형\"},{\"clickLog\":{\"link\":{\"element\":\".relink\",\"g\":\"\",\"i\":\"a00000fa_5a2bd8e76c2907579103e03b^fac\",\"r\":2,\"source\":\"*w\"}},\"href\":\"https://ko.wikipedia.org/wiki/%ED%8C%8C%EC%9D%B4%EC%8D%AC#%EB%8F%99%EC%9E%91%ED%95%98%EB%8A%94_%ED%94%8C%EB%9E%AB%ED%8F%BC\",\"text\":\"동작하는 플랫폼\"},{\"clickLog\":{\"link\":{\"element\":\".relink\",\"g\":\"\",\"i\":\"a00000fa_5a2bd8e76c2907579103e03b^fac\",\"r\":2,\"source\":\"*w\"}},\"href\":\"https://ko.wikipedia.org/wiki/%ED%8C%8C%EC%9D%B4%EC%8D%AC#%ED%95%9C%EA%B8%80_%EB%8B%A4%EB%A3%A8%EA%B8%B0\",\"text\":\"한글 다루기\"},{\"clickLog\":{\"link\":{\"element\":\".relink\",\"g\":\"\",\"i\":\"a00000fa_5a2bd8e76c2907579103e03b^fac\",\"r\":2,\"source\":\"*w\"}},\"href\":\"https://ko.wikipedia.org/wiki/%ED%8C%8C%EC%9D%B4%EC%8D%AC#%EC%82%AC%EC%9A%A9_%ED%98%84%ED%99%A9\",\"text\":\"사용 현황\"},{\"clickLog\":{\"link\":{\"element\":\".relink\",\"g\":\"\",\"i\":\"a00000fa_5a2bd8e76c2907579103e03b^fac\",\"r\":2,\"source\":\"*w\"}},\"href\":\"https://ko.wikipedia.org/wiki/%ED%8C%8C%EC%9D%B4%EC%8D%AC#%EC%8B%A4%ED%96%89_%EC%86%8D%EB%8F%84_%ED%96%A5%EC%83%81_%EA%B4%80%EB%A0%A8\",\"text\":\"실행 속도 향상 관련\"},{\"clickLog\":{\"link\":{\"element\":\".relink\",\"g\":\"\",\"i\":\"a00000fa_5a2bd8e76c2907579103e03b^fac\",\"r\":2,\"source\":\"*w\"}},\"href\":\"https://ko.wikipedia.org/wiki/%ED%8C%8C%EC%9D%B4%EC%8D%AC#IDE_%EB%AA%A9%EB%A1%9D\",\"text\":\"IDE 목록\"}],\"list\":{},\"notice\":{},\"paragraph\":{},\"profile\":{\"badge\":\"\",\"clickLog\":{\"profile\":{\"element\":\".link\",\"g\":\"\",\"i\":\"a00000fa_5a2bd8e76c2907579103e03b^fa\",\"r\":2,\"source\":\"*w\"}},\"favicon\":\"https://search.pstatic.net/sunny?src=https%3A%2F%2Fko.wikipedia.org%2Ffavicon.ico&type=f30_30_png_expire24\",\"href\":\"https://ko.wikipedia.org/wiki/%ED%8C%8C%EC%9D%B4%EC%8D%AC\",\"keep\":{\"clickLog\":{\"keepLink\":{\"element\":\".kep\",\"g\":\"\",\"i\":\"a00000fa_5a2bd8e76c2907579103e03b^fa\",\"r\":2,\"source\":\"\"}},\"keepOffClickLog\":\"a=web_gen*w.keepon\",\"keepOnClickLog\":\"a=web_gen*w.keepon\",\"keepTriggerOffClickLog\":\"\",\"keepTriggerOnClickLog\":\"a=web_gen*w.kep\",\"keepTriggerUrl\":\"https://ko.wikipedia.org/wiki/%ED%8C%8C%EC%9D%B4%EC%8D%AC\",\"keepURL\":\"https://keep.naver.com/\",\"type\":\"basic\",\"use\":[\"keep\",\"mykeep\"],\"version\":\"2\"},\"subTexts\":[{\"text\":\"ko.wikipedia.org\"},{\"text\":\"파이썬\"}],\"title\":\"위키백과 한국어\"},\"review\":{},\"rootClassName\":\"fds-web-normal-doc-root\",\"table\":{},\"title\":\"<mark>파이썬</mark>\",\"titleVariant\":\"1line\",\"topstorys\":{},\"type\":\"basic\"},\"templateId\":\"webItem\"},{\"props\":{\"aggregation\":{},\"bodyText\":\"Extension for Visual Studio Code - <mark>Python</mark> language support with extension access points for IntelliSense (Pylance), Debugging (<mark>Python</mark> Debugger), linting, formatting, refactoring, unit tests, and more.\",\"bodyVariants\":\"3line\",\"card\":{},\"clickLog\":{\"title\":{\"element\":\".link\",\"g\":\"\",\"i\":\"a00000fa_01a32f70e232bddffee56fba^f\",\"r\":3,\"source\":\"*w\"}},\"deviceType\":\"desk\",\"href\":\"https://marketplace.visualstudio.com/items?itemName=ms-python.python\",\"images\":[{\"clickLog\":{\"image\":{\"element\":\".simg\",\"g\":\"\",\"i\":\"a00000fa_01a32f70e232bddffee56fba^f\",\"r\":3,\"source\":\"*w\"}},\"imageHref\":\"https://marketplace.visualstudio.com/items?itemName=ms-python.python\",\"imageSrc\":\"https://search.pstatic.net/sunny?src=https%3A%2F%2Fms-python.gallerycdn.vsassets.io%2Fextensions%2Fms-python%2Fpython%2F2025.13.2025090201%2F1756809778264%2FMicrosoft.VisualStudio.Services.Icons.Default&type=fff208_208_ar\",\"type\":\"image\"}],\"keyValue\":{},\"list\":{},\"notice\":{},\"paragraph\":{},\"profile\":{\"badge\":\"\",\"clickLog\":{\"profile\":{\"element\":\".link\",\"g\":\"\",\"i\":\"a00000fa_01a32f70e232bddffee56fba^f\",\"r\":3,\"source\":\"*w\"}},\"favicon\":\"https://search.pstatic.net/sunny?src=https%3A%2F%2Fmarketplace.visualstudio.com%2Ffavicon.ico&type=f30_30_png_expire24\",\"href\":\"https://marketplace.visualstudio.com/items?itemName=ms-python.python\",\"keep\":{\"clickLog\":{\"keepLink\":{\"element\":\".kep\",\"g\":\"\",\"i\":\"a00000fa_01a32f70e232bddffee56fba^f\",\"r\":3,\"source\":\"\"}},\"keepOffClickLog\":\"a=web_gen*w.keepon\",\"keepOnClickLog\":\"a=web_gen*w.keepon\",\"keepTriggerOffClickLog\":\"\",\"keepTriggerOnClickLog\":\"a=web_gen*w.kep\",\"keepTriggerUrl\":\"https://marketplace.visualstudio.com/items?itemName=ms-python.python\",\"keepURL\":\"https://keep.naver.com/\",\"type\":\"basic\",\"use\":[\"keep\",\"mykeep\"],\"version\":\"2\"},\"subTexts\":[{\"text\":\"marketplace.visualstudio.com\"},{\"text\":\"items\"}],\"title\":\"\"},\"review\":{},\"rootClassName\":\"fds-web-normal-doc-root\",\"table\":{},\"title\":\"<mark>Python</mark> - Visual Studio Marketplace\",\"titleVariant\":\"1line\",\"topstorys\":{},\"type\":\"basic\"},\"templateId\":\"webItem\"}],\"className\":\"fds-web-list-root fds-web-list-vert-padding\",\"divider\":{\"props\":{\"color\":\"g90\",\"size\":\"sm\"},\"templateId\":\"sdsHorzDivider\"},\"type\":\"vertical\"},\"templateId\":\"layout\"},{\"props\":{\"className\":\"fds-footer-ad-more-button no-padding\",\"clickLog\":{\"title\":{\"element\":\".more2\",\"g\":\"\",\"i\":\"\",\"r\":-1,\"source\":\"*w\"}},\"title\":\"검색결과 더보기\",\"titleHref\":\"?nso=&page=2&query=python&sm=tab_pge&start=1&where=web\",\"type\":\"more\",\"variant\":\"divider\"},\"templateId\":\"footer\"}],\"className\":\"fds-web-root\",\"type\":\"vertical\"},\"templateId\":\"layout\"},\"cr\":\"CR_OBJECT_REPLACEMENT\"}, { onRendered: function(detail) {\n",
            "        \n",
            "      }});\n",
            "    });\n",
            "  };\n",
            "  \n",
            "  if (window.naver && window.naver.common && typeof window.naver.common.load_js === \"function\") {\n",
            "    var isDomLoading = document.readyState === \"loading\";\n",
            "    \n",
            "    naver.common.load_js(null, startApplication, isDomLoading, 150, !isDomLoading);\n",
            "  } else {\n",
            "    setTimeout(startApplication, 150);\n",
            "  }\n",
            "})();\n",
            "</script><div class=\"_scrollLog\" data-slog-id=\"web_gen*w\" style=\"visibility:hidden;height:0px;margin:0 28px\"></div><div id=\"fdr-e5ed832a3e94449db386dd0719ebc1ea\" data-fender-root=\"true\" data-block-id=\"ugc/prs_template_ugc_influencer_collection_desk.ts\" data-meta-area=\"ink_kii\" data-meta-nscs=\"\" data-meta-ssc=\"tab.nx.all\" data-meta-ssuid=\"influencer\" data-meta-ssuid-extra=\"fender_renderer-influencer\" class=\"sc_new _slog_visible\" data-slog-container=\"ink_kii\"><div class=\"tvhO5CyOoGJoJh1g9Dpc XYjs_ew3wz8pmfMT0xy1 desktop_mode api_subject_bx\"><div class=\"sds-comps-vertical-layout sds-comps-full-layout fds-ugc-influencer\" data-template-id=\"sdsVerticalLayout\"><div class=\"sds-comps-vertical-layout sds-comps-full-layout sds-comps-header type-basic Dt1Kv1wPc9qcrUGEVj8G\" data-template-id=\"sdsFeedSearchHeader\" data-template-type=\"basic\" data-sds-comp=\"Header\"><div class=\"sds-comps-horizontal-layout sds-comps-full-layout sds-comps-header-title\"><div class=\"sds-comps-horizontal-layout sds-comps-inline-layout sds-comps-header-left\"><h2 class=\"sds-comps-text sds-comps-text-ellipsis sds-comps-text-ellipsis-1 sds-comps-text-type-headline1 sds-comps-text-weight-lg\" style=\"width:auto\">인플루언서</h2><button type=\"button\" class=\"sds-comps-horizontal-layout sds-comps-inline-layout sds-comps-button sds-comps-icon-button\" data-template-id=\"sdsIconSingleButton\" data-heatmap-target=\"header_info_popover_trigger\" data-sds-comp=\"IconSingleButton\"><svg xmlns=\"http://www.w3.org/2000/svg\" viewBox=\"0 0 16 16\" class=\"sds-comps-svg sds-comps-icon sds-comps-icon-size-md1 sds-comps-mark-information-icon\" width=\"16\" height=\"16\" fill=\"none\" aria-hidden=\"true\" stroke=\"none\" aria-label=\"MarkInformationIcon\" data-template-id=\"sdsMarkInformationIcon\"><path class=\"sds-comps-mark-information-icon-element0\" fill-rule=\"evenodd\" clip-rule=\"evenodd\" d=\"M8 15.5C12.1421 15.5 15.5 12.1421 15.5 8C15.5 3.85786 12.1421 0.5 8 0.5C3.85786 0.5 0.5 3.85786 0.5 8C0.5 12.1421 3.85786 15.5 8 15.5ZM8 14.5C11.5899 14.5 14.5 11.5898 14.5 7.99999C14.5 4.41014 11.5899 1.49999 8 1.49999C4.41015 1.49999 1.5 4.41014 1.5 7.99999C1.5 11.5898 4.41015 14.5 8 14.5Z\"></path><path class=\"sds-comps-mark-information-icon-element1\" d=\"M8 3.80001C7.6134 3.80001 7.3 4.11341 7.3 4.50001C7.3 4.8866 7.6134 5.20001 8 5.20001C8.3866 5.20001 8.7 4.8866 8.7 4.50001C8.7 4.11341 8.3866 3.80001 8 3.80001Z\"></path><path class=\"sds-comps-mark-information-icon-element2\" d=\"M8.50057 6.5H7.50057V12.5H8.50057V6.5Z\"></path></svg></button><span class=\"sds-comps-information-popover-wrapper\"><div tabindex=\"-1\" role=\"dialog\" class=\"sds-comps-base-popover sds-comps-information-popover aNll6ek3oQMd4WIUnHyl\" style=\"display:none;position:absolute;left:0;top:0\" data-sds-comp=\"InformationPopover\" data-template-id=\"sdsIconInformationPopover\" data-template-type=\"basic\"><div class=\"sds-comps-base-layout sds-comps-full-layout sds-comps-information-popover-inner\"><div class=\"sds-comps-vertical-layout sds-comps-full-layout sds-comps-information-popover-content\"><div class=\"sds-comps-vertical-layout sds-comps-full-layout UmxBH98IshNBQjktOejw\"><span class=\"sds-comps-text sds-comps-text-type-body3 sds-comps-text-weight-sm\">네이버 인플루언서로 활동하는 창작자의 콘텐츠를 검색 결과에서 제공합니다. 내가 팬한 인플루언서의 콘텐츠가 우선적으로 노출됩니다.</span><a nocr=\"1\" href=\"https://in.naver.com/discover\" class=\"edyvn4XC9VV5Get_taA1 A8rCLCt9Ri6ScAKyAcYD\" target=\"_blank\"><span class=\"sds-comps-text sds-comps-text-type-body3 sds-comps-text-weight-sm\">자세히 보기</span></a></div></div><div class=\"sds-comps-base-layout sds-comps-inline-layout sds-comps-information-popover-close\"><button type=\"button\" class=\"sds-comps-horizontal-layout sds-comps-inline-layout sds-comps-button sds-comps-icon-button sds-comps-information-popover-close-btn\" aria-label=\"정보확인 레이어 닫기\" data-sds-comp=\"IconSingleButton\"><svg xmlns=\"http://www.w3.org/2000/svg\" viewBox=\"0 0 20 20\" class=\"sds-comps-svg sds-comps-icon sds-comps-icon-size-sm sds-comps-close-icon\" width=\"20\" height=\"20\" fill=\"none\" aria-hidden=\"true\" stroke=\"none\" aria-label=\"CloseIcon\"><path class=\"sds-comps-close-icon-element0\" d=\"M9.07987 10.0002L1 18.0813L1.91931 19.0004L9.99904 10.9195L18.0788 19.0004L18.9981 18.0813L10.9182 10.0002L18.9981 1.91917L18.0788 1L9.99904 9.08091L1.91931 1L1 1.91917L9.07987 10.0002Z\"></path></svg></button></div></div></div></span></div><div class=\"sds-comps-horizontal-layout sds-comps-inline-layout sds-comps-header-right\"><a nocr=\"1\" href=\"https://in.naver.com/discover?query=python&amp;selectedCategoryId=170701789269728&amp;selectedKeywordId=293171192270112\" class=\"edyvn4XC9VV5Get_taA1 TNNkqHGuOd6iZaaFrUc8\" target=\"_blank\" data-template-id=\"headerLink\"><span class=\"fds-comps-text _Tz8pT31dJ0em6lFuc2I pP6CrxLzumAlsR4_qelA\">서비스 홈 바로가기</span></a></div></div></div><div class=\"sds-comps-vertical-layout sds-comps-full-layout fds-ugc-item-list\" data-template-id=\"sdsVerticalLayout\"><div class=\"sds-comps-base-layout sds-comps-inline-layout BhPFLqn_0jidRGqkuEFv EkB_nKxG9b8hIoLEinrJ MWH0090w2CU4WBvp6C_G\" data-template-id=\"ugcItemDesk\"><div class=\"sds-comps-base-layout sds-comps-inline-layout WYBJUnprorFJYSOSL2M8 EkB_nKxG9b8hIoLEinrJ MWH0090w2CU4WBvp6C_G\"><div class=\"sds-comps-base-layout sds-comps-inline-layout profile-group EkB_nKxG9b8hIoLEinrJ MWH0090w2CU4WBvp6C_G\" data-fan-target=\"unique-fan-target170982443888480\"><div class=\"sds-comps-horizontal-layout sds-comps-full-layout sds-comps-profile type-basic size-lg title-color-g10\" data-sds-comp=\"Profile\"><div class=\"sds-comps-horizontal-layout sds-comps-inline-layout sds-comps-profile-source\"><div class=\"sds-comps-horizontal-layout sds-comps-inline-layout sds-comps-profile-source-thumb\"><a nocr=\"1\" href=\"https://in.naver.com/myfeed?areacode=ink*a&amp;query=python&amp;filterSpaceId=170982443888480&amp;selectedSpaceId=170982443888480\" class=\"edyvn4XC9VV5Get_taA1\" target=\"_blank\"><div class=\"sds-comps-horizontal-layout sds-comps-inline-layout sds-comps-profile-thumbnail type-basic size-lg\" data-sds-comp=\"ProfileThumbnail\"><div class=\"sds-comps-base-layout sds-comps-inline-layout sds-comps-image sds-comps-image-circle fit-cover is-loading\" style=\"width:24px;height:24px;aspect-ratio:1/1\" data-sds-comp=\"RectangleImage\" data-dimmed=\"3%\"><img width=\"24\" height=\"24\" loading=\"lazy\" src=\"https://search.pstatic.net/common/?src=https%3A%2F%2Fhomebuilder-phinf.pstatic.net%2FMjAyMjA3MThfMjAz%2FMDAxNjU4MTA2Mzg2Njk0.ncKpFIefhPAa0o5Ybh64pc3hxaOCUr8OQb-ByQWIwF0g.Q9vmChBOCHjvI8K_8_xnSV1Cp-QtnfLwPXQ7Iy-2BOkg.JPEG%2F1658106386585_%25ED%2594%2584%25EB%25A1%259C%25ED%2595%2584%25EC%2582%25AC%25EC%25A7%2584.jpg&amp;type=f96_96\"/><div class=\"sds-comps-image-dimmed\"></div></div><div class=\"sds-comps-base-layout sds-comps-inline-layout sds-comps-profile-thumbnail-badge\"><svg xmlns=\"http://www.w3.org/2000/svg\" viewBox=\"0 0 18 18\" class=\"EehYVBFJb9WRUeyJTRkP profile-fan-badge\" width=\"18\" height=\"18\" fill=\"none\" aria-hidden=\"true\"><rect x=\"0.5\" y=\"0.5\" width=\"17\" height=\"17\" rx=\"8.5\" class=\"_xtQ3ZhwuRp34LGBuAAi\"></rect><circle cx=\"9\" cy=\"9\" r=\"8\" class=\"mwjlUCM7K4alQSG2fjsS\"></circle><path d=\"M12 7.25L8.25 11L6 8.75\" class=\"_xtQ3ZhwuRp34LGBuAAi\" stroke-width=\"1.2\"></path></svg><svg xmlns=\"http://www.w3.org/2000/svg\" viewBox=\"0 0 18 18\" class=\"EehYVBFJb9WRUeyJTRkP profile-ranker-badge\" width=\"18\" height=\"18\" fill=\"none\" aria-hidden=\"true\"><rect x=\"0.5\" y=\"0.5\" width=\"17\" height=\"17\" rx=\"8.5\" class=\"Fwxh6R88_Nbi5P3o7elw\"></rect><circle cx=\"9\" cy=\"9\" r=\"8\" fill=\"#CFB372\"></circle><path fill-rule=\"evenodd\" clip-rule=\"evenodd\" d=\"M9.00068 6.70083C9.44251 6.70083 9.80068 6.34266 9.80068 5.90083C9.80068 5.459 9.44251 5.10083 9.00068 5.10083C8.55886 5.10083 8.20068 5.459 8.20068 5.90083C8.20068 6.34266 8.55886 6.70083 9.00068 6.70083ZM10.5698 9.86627C10.6005 9.9195 10.6716 9.93267 10.7193 9.894L12.5422 8.41833C12.6141 8.36013 12.7197 8.42235 12.7036 8.51343L12.0147 12.4174C12.0062 12.4652 11.9647 12.5 11.9162 12.5L11.5011 12.5L10.5001 12.5H7.5001L6.50107 12.5L6.084 12.5C6.03547 12.5 5.99395 12.4652 5.98552 12.4174L5.29658 8.51343C5.2805 8.42235 5.38608 8.36013 5.45798 8.41833L7.28168 9.89466C7.32945 9.93334 7.40047 9.92017 7.4312 9.86694L8.9141 7.29849C8.95259 7.23182 9.04882 7.23182 9.08731 7.29849L10.5698 9.86627ZM14.0005 7.24927C14.0005 7.66348 13.6647 7.99927 13.2505 7.99927C12.8363 7.99927 12.5005 7.66348 12.5005 7.24927C12.5005 6.83505 12.8363 6.49927 13.2505 6.49927C13.6647 6.49927 14.0005 6.83505 14.0005 7.24927ZM4.75049 7.99927C5.1647 7.99927 5.50049 7.66348 5.50049 7.24927C5.50049 6.83505 5.1647 6.49927 4.75049 6.49927C4.33627 6.49927 4.00049 6.83505 4.00049 7.24927C4.00049 7.66348 4.33627 7.99927 4.75049 7.99927Z\" fill=\"white\"></path></svg></div></div></a></div><div class=\"sds-comps-horizontal-layout sds-comps-inline-layout sds-comps-profile-info\"><div class=\"sds-comps-horizontal-layout sds-comps-inline-layout sds-comps-profile-info-title\"><span class=\"sds-comps-text sds-comps-text-ellipsis sds-comps-text-ellipsis-1 sds-comps-text-type-body2 sds-comps-text-weight-sm sds-comps-profile-info-title-text\"><a nocr=\"1\" href=\"https://in.naver.com/myfeed?areacode=ink*a&amp;query=python&amp;filterSpaceId=170982443888480&amp;selectedSpaceId=170982443888480\" class=\"edyvn4XC9VV5Get_taA1 fds-info-inner-text\" target=\"_blank\"><span class=\"sds-comps-text\">짜루</span></a></span></div><span class=\"sds-comps-base-layout sds-comps-full-layout sds-comps-divider sds-comps-divider-dot\" data-sds-comp=\"DotDivider\"></span><span class=\"sds-comps-text sds-comps-text-type-body2 sds-comps-text-weight-sm sds-comps-profile-info-subtext\">2025.07.13.</span></div></div><div class=\"sds-comps-base-layout sds-comps-inline-layout hNfE3IlHZXdONjds3eZe _keep_wrap\"><button type=\"button\" class=\"sds-comps-horizontal-layout sds-comps-inline-layout sds-comps-button sds-comps-icon-button y_TpGLQ4oFHuSZL7k0F2 _keep_trigger\" data-url=\"https://in.naver.com/zzaru/contents/internal/844204475208512?areacode=ink*a&amp;query=python\" data-cr-on=\"a=ink_kii*a.kep\" data-cr-off=\"a=ink_kii*a.kep\" aria-label=\"옵션 메뉴 열기\" data-sds-comp=\"IconSingleButton\"><svg xmlns=\"http://www.w3.org/2000/svg\" viewBox=\"0 0 3 16\" class=\"sds-comps-svg sds-comps-icon sds-comps-icon-size-md1 DIyBNqgkBLGnJKkjM3Le sds-comps-option-icon\" width=\"3\" height=\"16\" fill=\"none\" aria-hidden=\"true\" stroke=\"none\" aria-label=\"OptionIcon\"><circle class=\"sds-comps-option-icon-element0\" cx=\"1.5\" cy=\"3\" r=\"1.5\"></circle><circle class=\"sds-comps-option-icon-element1\" cx=\"1.5\" cy=\"8\" r=\"1.5\"></circle><circle class=\"sds-comps-option-icon-element2\" cx=\"1.5\" cy=\"13\" r=\"1.5\"></circle></svg></button><div class=\"sds-comps-vertical-layout sds-comps-inline-layout xmTq28kkkyi9_pEiQb7S api_ly_save _keep_save_layer\" reportActiveClassName=\"active\" reportOnText=\"신고된 영상입니다.\" style=\"display:none\"><a href=\"#\" data-cr-on=\"a=ink_kii*a.fanon\" data-cr-off=\"a=ink_kii*a.fanoff\" data-space-id=\"170982443888480\" data-fan-selector=\"[data-fan-target=&#x27;unique-fan-target170982443888480&#x27;]\" data-fan-on=\"profile-fan-group\" data-fan-off=\"profile-group\" class=\"sds-comps-text spnew_af item item_fan _keep_fan\">팬하기</a><a href=\"#\" data-cr-on=\"a=ink_kii*a.kepon\" data-cr-off=\"a=ink_kii*a.kepoff\" class=\"sds-comps-text spnew_af item item_save _keep_save\">Keep에 저장</a><a href=\"https://keep.naver.com/\" target=\"_blank\" class=\"sds-comps-text spnew_af item item_quick\">Keep에 바로가기</a></div></div></div></div></div><div class=\"sds-comps-base-layout sds-comps-inline-layout qr1rIn1hUqQh7XTfMBbf EkB_nKxG9b8hIoLEinrJ MWH0090w2CU4WBvp6C_G\"><div class=\"sds-comps-base-layout sds-comps-inline-layout xcH0BIZoBOTpfjzpsdbK EkB_nKxG9b8hIoLEinrJ MWH0090w2CU4WBvp6C_G\"><div class=\"sds-comps-base-layout sds-comps-inline-layout huShcPlAS6nU5PNh4hwi EkB_nKxG9b8hIoLEinrJ MWH0090w2CU4WBvp6C_G\"><a nocr=\"1\" href=\"https://in.naver.com/zzaru/contents/internal/844204475208512?areacode=ink*a&amp;query=python\" class=\"edyvn4XC9VV5Get_taA1 hl2AOgfyQsg9gozQQeS8\" target=\"_blank\"><span class=\"fds-comps-text pP6CrxLzumAlsR4_qelA ellipsis1\">macOS 파이썬 프로그래밍 <mark>PYTHON</mark> 개발 환경 구축 방법</span></a><div class=\"sds-comps-base-layout sds-comps-inline-layout BriH1vz6ze0avqmgExI7 EkB_nKxG9b8hIoLEinrJ MWH0090w2CU4WBvp6C_G\"><a nocr=\"1\" href=\"https://in.naver.com/zzaru/contents/internal/844204475208512?areacode=ink*a&amp;query=python\" class=\"edyvn4XC9VV5Get_taA1 Eijl2sdUHWusVmdzj9zl fds-ugc-ellipsis2\" target=\"_blank\"><span class=\"fds-comps-text pP6CrxLzumAlsR4_qelA\">macOS 파이썬 프로그래밍 <mark>PYTHON</mark> 개발 환경 구축 방법 요즘 AI 자동화가 대세다. n8n 같은 AI 기반 워크플로 자동화 도구만으로도 충분하지만, 파이썬 프로그래밍까지 더해진다면 훨씬 더 강력해진다. 예를 들면 단순히 특정 키워드를 구글 SEO 기반으로 내 글쓰기 스타일이 반영된 티스토리, 워드프레스 콘텐츠로... </span></a></div></div><div class=\"sds-comps-base-layout sds-comps-inline-layout sKWlVK8tdtCLciNBAIt4 EkB_nKxG9b8hIoLEinrJ MWH0090w2CU4WBvp6C_G\"><a nocr=\"1\" href=\"https://in.naver.com/zzaru/contents/internal/844204475208512?areacode=ink*a&amp;query=python\" class=\"edyvn4XC9VV5Get_taA1 QzbbCNRhhNtyBm4xUfVy\" target=\"_blank\" data-cb-target=\"a0209rl4_nblog_post_223932219095\" data-cb-trigger=\"true\"><div class=\"sds-comps-base-layout sds-comps-inline-layout sds-comps-image nyK7JRGXryf8PdTiE8DI WSf3cK_wHmAfc04reuiJ fit-cover is-loading\" style=\"aspect-ratio:1/1\" data-dimmed=\"3%\" data-sds-comp=\"RectangleImage\"><img loading=\"lazy\" src=\"https://search.pstatic.net/common/?src=https%3A%2F%2Fmblogthumb-phinf.pstatic.net%2FMjAyNTA3MTNfMTQ3%2FMDAxNzUyNDA1Mzc3OTQy.nVI9uQrTiHZ-aj9GbR57QxymxcbR7EPOsf_tMAjnmf0g.hzFqo_8tHQgBkU4awvLDgUwPtYa0yI5C5ZHeFn0HBSog.PNG%2F010.png%3Ftype%3Dw800&amp;type=f250_208\"/><div class=\"sds-comps-image-dimmed\"></div></div></a><a nocr=\"1\" href=\"https://in.naver.com/zzaru/contents/internal/844204475208512?areacode=ink*a&amp;query=python\" class=\"edyvn4XC9VV5Get_taA1 QzbbCNRhhNtyBm4xUfVy\" target=\"_blank\" data-cb-target=\"a0209rl4_nblog_post_223932219095\" data-cb-trigger=\"true\"><div class=\"sds-comps-base-layout sds-comps-inline-layout sds-comps-image nyK7JRGXryf8PdTiE8DI WSf3cK_wHmAfc04reuiJ fit-cover is-loading\" style=\"aspect-ratio:1/1\" data-dimmed=\"3%\" data-sds-comp=\"RectangleImage\"><img loading=\"lazy\" src=\"https://search.pstatic.net/common/?src=https%3A%2F%2Fmblogthumb-phinf.pstatic.net%2FMjAyNTA3MTNfNjMg%2FMDAxNzUyNDA0NTg4OTA3.C5x-YxMlKF_ciwCZtp40LvsD7gihHKM94uK29Mlt0PUg.EdwpcMCohMHT2fimZ2A0LranfgFhv5I073gTgSsbQwUg.PNG%2F009.png%3Ftype%3Dw800&amp;type=f250_208\"/><div class=\"sds-comps-image-dimmed\"></div></div></a><a nocr=\"1\" href=\"https://in.naver.com/zzaru/contents/internal/844204475208512?areacode=ink*a&amp;query=python\" class=\"edyvn4XC9VV5Get_taA1 QzbbCNRhhNtyBm4xUfVy\" target=\"_blank\" data-cb-target=\"a0209rl4_nblog_post_223932219095\" data-cb-trigger=\"true\"><div class=\"sds-comps-base-layout sds-comps-inline-layout sds-comps-image nyK7JRGXryf8PdTiE8DI WSf3cK_wHmAfc04reuiJ fit-cover is-loading\" style=\"aspect-ratio:1/1\" data-dimmed=\"3%\" data-sds-comp=\"RectangleImage\"><img loading=\"lazy\" src=\"https://search.pstatic.net/common/?src=https%3A%2F%2Fmblogthumb-phinf.pstatic.net%2FMjAyNTA3MTNfNTgg%2FMDAxNzUyNDAyOTg2MTYw.clFEcnhlxRp-KkT9yO_NIuzHvWOeoZY_UsYznfuNqBYg.CH0t2n85ySULulMhnTPKsuk1zjJVK_umKoR0fDxUF44g.PNG%2F001.png%3Ftype%3Dw800&amp;type=f250_208\"/><div class=\"sds-comps-image-dimmed\"></div></div></a><a nocr=\"1\" href=\"https://in.naver.com/zzaru/contents/internal/844204475208512?areacode=ink*a&amp;query=python\" class=\"edyvn4XC9VV5Get_taA1 QzbbCNRhhNtyBm4xUfVy\" target=\"_blank\" data-cb-target=\"a0209rl4_nblog_post_223932219095\" data-cb-trigger=\"true\"><div class=\"sds-comps-base-layout sds-comps-inline-layout sds-comps-image nyK7JRGXryf8PdTiE8DI WSf3cK_wHmAfc04reuiJ fit-cover is-loading\" style=\"aspect-ratio:1/1\" data-dimmed=\"3%\" data-sds-comp=\"RectangleImage\"><img loading=\"lazy\" src=\"https://search.pstatic.net/common/?src=https%3A%2F%2Fmblogthumb-phinf.pstatic.net%2FMjAyNTA3MTNfMTEy%2FMDAxNzUyNDAzMDI5MTAz.oNj-N32v-J3OplVZlacpJ7iLd8ECfchaqbmPw-qYp9Eg.8MZqj8MC_DmN4DZiS4uYmf2Mc0KGWj4YYlsN3ns7NgYg.PNG%2F002.png%3Ftype%3Dw800&amp;type=f250_208\"/><div class=\"sds-comps-image-dimmed\"></div></div></a><a nocr=\"1\" href=\"https://in.naver.com/zzaru/contents/internal/844204475208512?areacode=ink*a&amp;query=python\" class=\"edyvn4XC9VV5Get_taA1 QzbbCNRhhNtyBm4xUfVy\" target=\"_blank\" data-cb-target=\"a0209rl4_nblog_post_223932219095\" data-cb-trigger=\"true\"><div class=\"sds-comps-base-layout sds-comps-inline-layout sds-comps-image nyK7JRGXryf8PdTiE8DI WSf3cK_wHmAfc04reuiJ fit-cover is-loading\" style=\"aspect-ratio:1/1\" data-dimmed=\"3%\" data-sds-comp=\"RectangleImage\"><img loading=\"lazy\" src=\"https://search.pstatic.net/common/?src=https%3A%2F%2Fmblogthumb-phinf.pstatic.net%2FMjAyNTA3MTNfMTI4%2FMDAxNzUyNDAzNTAxMzQ1.d506o-ueZM2tHOBERWnUCa7Z0JCzACM2K9XEAG-v__Ug.dvlwziceNGNhuexMjtwDlVP6kSHINvyvh2iRjfXp9sgg.PNG%2F004.png%3Ftype%3Dw800&amp;type=f250_208\"/><div class=\"sds-comps-image-dimmed\"></div></div></a><div class=\"LsrDoqMkh_ml0AsS2XUa vD1BR_d9woV5sjVXBAeZ IzsHLb_qclNp81QHfUNS\"><div class=\"tU1YTAmvxU2G_9OwL1CW\"><span class=\"fds-comps-text wx6YMDlUJ7z2ogTbxS7L pP6CrxLzumAlsR4_qelA\">11</span></div></div></div></div></div></div><div class=\"sds-comps-base-layout sds-comps-full-layout SEOyipb3oPgqLcEEWami SEOyipb3oPgqLcEEWami\"><div data-template-id=\"dividerLine\" class=\"mKtiaFXFHEQtiwqySoTU fds-ugc-divider-line\"></div></div><div class=\"sds-comps-base-layout sds-comps-inline-layout BhPFLqn_0jidRGqkuEFv EkB_nKxG9b8hIoLEinrJ MWH0090w2CU4WBvp6C_G\" data-template-id=\"ugcItemDesk\"><div class=\"sds-comps-base-layout sds-comps-inline-layout WYBJUnprorFJYSOSL2M8 EkB_nKxG9b8hIoLEinrJ MWH0090w2CU4WBvp6C_G\"><div class=\"sds-comps-base-layout sds-comps-inline-layout profile-group EkB_nKxG9b8hIoLEinrJ MWH0090w2CU4WBvp6C_G\" data-fan-target=\"unique-fan-target491433497597248\"><div class=\"sds-comps-horizontal-layout sds-comps-full-layout sds-comps-profile type-basic size-lg title-color-g10\" data-sds-comp=\"Profile\"><div class=\"sds-comps-horizontal-layout sds-comps-inline-layout sds-comps-profile-source\"><div class=\"sds-comps-horizontal-layout sds-comps-inline-layout sds-comps-profile-source-thumb\"><a nocr=\"1\" href=\"https://in.naver.com/myfeed?areacode=ink*a&amp;query=python&amp;filterSpaceId=491433497597248&amp;selectedSpaceId=491433497597248\" class=\"edyvn4XC9VV5Get_taA1\" target=\"_blank\"><div class=\"sds-comps-horizontal-layout sds-comps-inline-layout sds-comps-profile-thumbnail type-basic size-lg\" data-sds-comp=\"ProfileThumbnail\"><div class=\"sds-comps-base-layout sds-comps-inline-layout sds-comps-image sds-comps-image-circle fit-cover is-loading\" style=\"width:24px;height:24px;aspect-ratio:1/1\" data-sds-comp=\"RectangleImage\" data-dimmed=\"3%\"><img width=\"24\" height=\"24\" loading=\"lazy\" src=\"https://search.pstatic.net/common/?src=https%3A%2F%2Fhomebuilder-phinf.pstatic.net%2FMjAyNDExMjBfODIg%2FMDAxNzMyMDk2NDM0Mzk1.ypPeB08nukS7Gr55s5iAXeNimwABF5Dh8QDuBR3qgQIg.hD3F8XEmyQp_v56b5Q42KFCJOsYL_GlBRPVIHnvcD7kg.JPEG%2F1732096434327_Screenshot_20241120_184547_Gallery.jpg&amp;type=f96_96\"/><div class=\"sds-comps-image-dimmed\"></div></div><div class=\"sds-comps-base-layout sds-comps-inline-layout sds-comps-profile-thumbnail-badge\"><svg xmlns=\"http://www.w3.org/2000/svg\" viewBox=\"0 0 18 18\" class=\"EehYVBFJb9WRUeyJTRkP profile-fan-badge\" width=\"18\" height=\"18\" fill=\"none\" aria-hidden=\"true\"><rect x=\"0.5\" y=\"0.5\" width=\"17\" height=\"17\" rx=\"8.5\" class=\"_xtQ3ZhwuRp34LGBuAAi\"></rect><circle cx=\"9\" cy=\"9\" r=\"8\" class=\"mwjlUCM7K4alQSG2fjsS\"></circle><path d=\"M12 7.25L8.25 11L6 8.75\" class=\"_xtQ3ZhwuRp34LGBuAAi\" stroke-width=\"1.2\"></path></svg><svg xmlns=\"http://www.w3.org/2000/svg\" viewBox=\"0 0 18 18\" class=\"EehYVBFJb9WRUeyJTRkP profile-ranker-badge\" width=\"18\" height=\"18\" fill=\"none\" aria-hidden=\"true\"><rect x=\"0.5\" y=\"0.5\" width=\"17\" height=\"17\" rx=\"8.5\" class=\"Fwxh6R88_Nbi5P3o7elw\"></rect><circle cx=\"9\" cy=\"9\" r=\"8\" fill=\"#939396\"></circle><path fill-rule=\"evenodd\" clip-rule=\"evenodd\" d=\"M9.00068 6.70083C9.44251 6.70083 9.80068 6.34266 9.80068 5.90083C9.80068 5.459 9.44251 5.10083 9.00068 5.10083C8.55886 5.10083 8.20068 5.459 8.20068 5.90083C8.20068 6.34266 8.55886 6.70083 9.00068 6.70083ZM10.5698 9.86627C10.6005 9.9195 10.6716 9.93267 10.7193 9.894L12.5422 8.41833C12.6141 8.36013 12.7197 8.42235 12.7036 8.51343L12.0147 12.4174C12.0062 12.4652 11.9647 12.5 11.9162 12.5L11.5011 12.5L10.5001 12.5H7.5001L6.50107 12.5L6.084 12.5C6.03547 12.5 5.99395 12.4652 5.98552 12.4174L5.29658 8.51343C5.2805 8.42235 5.38608 8.36013 5.45798 8.41833L7.28168 9.89466C7.32945 9.93334 7.40047 9.92017 7.4312 9.86694L8.9141 7.29849C8.95259 7.23182 9.04882 7.23182 9.08731 7.29849L10.5698 9.86627ZM14.0005 7.24927C14.0005 7.66348 13.6647 7.99927 13.2505 7.99927C12.8363 7.99927 12.5005 7.66348 12.5005 7.24927C12.5005 6.83505 12.8363 6.49927 13.2505 6.49927C13.6647 6.49927 14.0005 6.83505 14.0005 7.24927ZM4.75049 7.99927C5.1647 7.99927 5.50049 7.66348 5.50049 7.24927C5.50049 6.83505 5.1647 6.49927 4.75049 6.49927C4.33627 6.49927 4.00049 6.83505 4.00049 7.24927C4.00049 7.66348 4.33627 7.99927 4.75049 7.99927Z\" fill=\"white\"></path></svg></div></div></a></div><div class=\"sds-comps-horizontal-layout sds-comps-inline-layout sds-comps-profile-info\"><div class=\"sds-comps-horizontal-layout sds-comps-inline-layout sds-comps-profile-info-title\"><span class=\"sds-comps-text sds-comps-text-ellipsis sds-comps-text-ellipsis-1 sds-comps-text-type-body2 sds-comps-text-weight-sm sds-comps-profile-info-title-text\"><a nocr=\"1\" href=\"https://in.naver.com/myfeed?areacode=ink*a&amp;query=python&amp;filterSpaceId=491433497597248&amp;selectedSpaceId=491433497597248\" class=\"edyvn4XC9VV5Get_taA1 fds-info-inner-text\" target=\"_blank\"><span class=\"sds-comps-text\">아전</span></a></span></div><span class=\"sds-comps-base-layout sds-comps-full-layout sds-comps-divider sds-comps-divider-dot\" data-sds-comp=\"DotDivider\"></span><span class=\"sds-comps-text sds-comps-text-type-body2 sds-comps-text-weight-sm sds-comps-profile-info-subtext\">2025.07.05.</span></div></div><div class=\"sds-comps-base-layout sds-comps-inline-layout hNfE3IlHZXdONjds3eZe _keep_wrap\"><button type=\"button\" class=\"sds-comps-horizontal-layout sds-comps-inline-layout sds-comps-button sds-comps-icon-button y_TpGLQ4oFHuSZL7k0F2 _keep_trigger\" data-url=\"https://in.naver.com/itexpert/contents/internal/841355984225504?areacode=ink*a&amp;query=python\" data-cr-on=\"a=ink_kii*a.kep\" data-cr-off=\"a=ink_kii*a.kep\" aria-label=\"옵션 메뉴 열기\" data-sds-comp=\"IconSingleButton\"><svg xmlns=\"http://www.w3.org/2000/svg\" viewBox=\"0 0 3 16\" class=\"sds-comps-svg sds-comps-icon sds-comps-icon-size-md1 DIyBNqgkBLGnJKkjM3Le sds-comps-option-icon\" width=\"3\" height=\"16\" fill=\"none\" aria-hidden=\"true\" stroke=\"none\" aria-label=\"OptionIcon\"><circle class=\"sds-comps-option-icon-element0\" cx=\"1.5\" cy=\"3\" r=\"1.5\"></circle><circle class=\"sds-comps-option-icon-element1\" cx=\"1.5\" cy=\"8\" r=\"1.5\"></circle><circle class=\"sds-comps-option-icon-element2\" cx=\"1.5\" cy=\"13\" r=\"1.5\"></circle></svg></button><div class=\"sds-comps-vertical-layout sds-comps-inline-layout xmTq28kkkyi9_pEiQb7S api_ly_save _keep_save_layer\" reportActiveClassName=\"active\" reportOnText=\"신고된 영상입니다.\" style=\"display:none\"><a href=\"#\" data-cr-on=\"a=ink_kii*a.fanon\" data-cr-off=\"a=ink_kii*a.fanoff\" data-space-id=\"491433497597248\" data-fan-selector=\"[data-fan-target=&#x27;unique-fan-target491433497597248&#x27;]\" data-fan-on=\"profile-fan-group\" data-fan-off=\"profile-group\" class=\"sds-comps-text spnew_af item item_fan _keep_fan\">팬하기</a><a href=\"#\" data-cr-on=\"a=ink_kii*a.kepon\" data-cr-off=\"a=ink_kii*a.kepoff\" class=\"sds-comps-text spnew_af item item_save _keep_save\">Keep에 저장</a><a href=\"https://keep.naver.com/\" target=\"_blank\" class=\"sds-comps-text spnew_af item item_quick\">Keep에 바로가기</a></div></div></div></div></div><div class=\"sds-comps-base-layout sds-comps-inline-layout qr1rIn1hUqQh7XTfMBbf EkB_nKxG9b8hIoLEinrJ MWH0090w2CU4WBvp6C_G\"><div class=\"sds-comps-base-layout sds-comps-inline-layout qLT9IkOgnBVg7xFxeKAf DyOjAsGIEexy4eb_uiF6 EkB_nKxG9b8hIoLEinrJ MWH0090w2CU4WBvp6C_G\"><div class=\"sds-comps-base-layout sds-comps-inline-layout xmGQNh5ZcwmSW7GS9jsg EkB_nKxG9b8hIoLEinrJ MWH0090w2CU4WBvp6C_G\"><a nocr=\"1\" href=\"https://in.naver.com/itexpert/contents/internal/841355984225504?areacode=ink*a&amp;query=python\" class=\"edyvn4XC9VV5Get_taA1 hl2AOgfyQsg9gozQQeS8\" target=\"_blank\"><span class=\"fds-comps-text pP6CrxLzumAlsR4_qelA ellipsis1\">아나콘다 파이썬 프로그래밍 <mark>PYTHON</mark> 주피터노트북 설치 다운로드</span></a><div class=\"sds-comps-base-layout sds-comps-inline-layout BriH1vz6ze0avqmgExI7 EkB_nKxG9b8hIoLEinrJ MWH0090w2CU4WBvp6C_G\"><a nocr=\"1\" href=\"https://in.naver.com/itexpert/contents/internal/841355984225504?areacode=ink*a&amp;query=python\" class=\"edyvn4XC9VV5Get_taA1 Eijl2sdUHWusVmdzj9zl fds-ugc-ellipsis3\" target=\"_blank\"><span class=\"fds-comps-text pP6CrxLzumAlsR4_qelA\">아나콘다 파이썬 프로그래밍 <mark>PYTHON</mark> 주피터노트북 설치 다운로드 안녕하세요. 아전입니다. 오늘은 아나콘다 통합 개발 환경에서 파이썬 프로그래밍을 위한 주피터 노트북에 대해 알아보려고 하는데요. 아나콘다(Anaconda)는 데이터 분석과 머신러닝에 필요한 파이썬 환경과 다양한 패키지를 한 번에 설치할 수 있는 통합... </span></a></div></div><a nocr=\"1\" href=\"https://in.naver.com/itexpert/contents/internal/841355984225504?areacode=ink*a&amp;query=python\" class=\"edyvn4XC9VV5Get_taA1\" target=\"_blank\" data-cb-target=\"a0209rl4_nblog_post_223923002309\" data-cb-trigger=\"true\"><div class=\"sds-comps-base-layout sds-comps-inline-layout EkB_nKxG9b8hIoLEinrJ MWH0090w2CU4WBvp6C_G\"><div class=\"sds-comps-base-layout sds-comps-inline-layout sds-comps-image nyK7JRGXryf8PdTiE8DI Bp5QP28f7dcW2PuczIxj fit-cover is-loading\" style=\"aspect-ratio:1/1\" data-dimmed=\"3%\" data-sds-comp=\"RectangleImage\"><img loading=\"lazy\" src=\"https://search.pstatic.net/common/?src=https%3A%2F%2Fmblogthumb-phinf.pstatic.net%2FMjAyNTA3MDVfMTM2%2FMDAxNzUxNzA5NDg5MTk0.h7YPzl1f9LxwW8B_IfPMkx9irX0cDtTjiUbi1mxClSEg.le71ZOsa_I8aj4pBOpe6f4H2gkKAXRxRGfG3TzhVpUsg.PNG%2F%25C5%25B8%25C0%25CC%25C6%25B2.png%3Ftype%3Dw800&amp;type=f250_208\"/><div class=\"sds-comps-image-dimmed\"></div></div><div class=\"LsrDoqMkh_ml0AsS2XUa vD1BR_d9woV5sjVXBAeZ IzsHLb_qclNp81QHfUNS\"><div class=\"tU1YTAmvxU2G_9OwL1CW\"><span class=\"fds-comps-text wx6YMDlUJ7z2ogTbxS7L pP6CrxLzumAlsR4_qelA\">10</span></div></div></div></a></div></div></div><div class=\"sds-comps-base-layout sds-comps-full-layout SEOyipb3oPgqLcEEWami SEOyipb3oPgqLcEEWami\"><div data-template-id=\"dividerLine\" class=\"mKtiaFXFHEQtiwqySoTU fds-ugc-divider-line\"></div></div><div class=\"sds-comps-base-layout sds-comps-inline-layout BhPFLqn_0jidRGqkuEFv EkB_nKxG9b8hIoLEinrJ MWH0090w2CU4WBvp6C_G\" data-template-id=\"ugcItemDesk\"><div class=\"sds-comps-base-layout sds-comps-inline-layout WYBJUnprorFJYSOSL2M8 EkB_nKxG9b8hIoLEinrJ MWH0090w2CU4WBvp6C_G\"><div class=\"sds-comps-base-layout sds-comps-inline-layout profile-group EkB_nKxG9b8hIoLEinrJ MWH0090w2CU4WBvp6C_G\" data-fan-target=\"unique-fan-target164601287604160\"><div class=\"sds-comps-horizontal-layout sds-comps-full-layout sds-comps-profile type-basic size-lg title-color-g10\" data-sds-comp=\"Profile\"><div class=\"sds-comps-horizontal-layout sds-comps-inline-layout sds-comps-profile-source\"><div class=\"sds-comps-horizontal-layout sds-comps-inline-layout sds-comps-profile-source-thumb\"><a nocr=\"1\" href=\"https://in.naver.com/myfeed?areacode=ink*a&amp;query=python&amp;filterSpaceId=164601287604160&amp;selectedSpaceId=164601287604160\" class=\"edyvn4XC9VV5Get_taA1\" target=\"_blank\"><div class=\"sds-comps-horizontal-layout sds-comps-inline-layout sds-comps-profile-thumbnail type-basic size-lg\" data-sds-comp=\"ProfileThumbnail\"><div class=\"sds-comps-base-layout sds-comps-inline-layout sds-comps-image sds-comps-image-circle fit-cover is-loading\" style=\"width:24px;height:24px;aspect-ratio:1/1\" data-sds-comp=\"RectangleImage\" data-dimmed=\"3%\"><img width=\"24\" height=\"24\" loading=\"lazy\" src=\"https://search.pstatic.net/common/?src=https%3A%2F%2Finfluencer-phinf.pstatic.net%2FMjAyMDA0MzBfMjcx%2FMDAxNTg4MTczOTE3ODUw.rXjVWZgzBsYn_H-UfzcpYNNnTmH_HevaHJZtS97BhF4g.SQqt6P-zfHpYkcBv-qCdxTrXaFh4Oay6d6lz2rANm-Mg.JPEG%2FKakaoTalk_Photo_2020-02-22-22-15-06.jpeg&amp;type=f96_96\"/><div class=\"sds-comps-image-dimmed\"></div></div><div class=\"sds-comps-base-layout sds-comps-inline-layout sds-comps-profile-thumbnail-badge\"><svg xmlns=\"http://www.w3.org/2000/svg\" viewBox=\"0 0 18 18\" class=\"EehYVBFJb9WRUeyJTRkP profile-fan-badge\" width=\"18\" height=\"18\" fill=\"none\" aria-hidden=\"true\"><rect x=\"0.5\" y=\"0.5\" width=\"17\" height=\"17\" rx=\"8.5\" class=\"_xtQ3ZhwuRp34LGBuAAi\"></rect><circle cx=\"9\" cy=\"9\" r=\"8\" class=\"mwjlUCM7K4alQSG2fjsS\"></circle><path d=\"M12 7.25L8.25 11L6 8.75\" class=\"_xtQ3ZhwuRp34LGBuAAi\" stroke-width=\"1.2\"></path></svg><svg xmlns=\"http://www.w3.org/2000/svg\" viewBox=\"0 0 18 18\" class=\"EehYVBFJb9WRUeyJTRkP profile-ranker-badge\" width=\"18\" height=\"18\" fill=\"none\" aria-hidden=\"true\"><rect x=\"0.5\" y=\"0.5\" width=\"17\" height=\"17\" rx=\"8.5\" class=\"Fwxh6R88_Nbi5P3o7elw\"></rect><circle cx=\"9\" cy=\"9\" r=\"8\" fill=\"#E89090\"></circle><path fill-rule=\"evenodd\" clip-rule=\"evenodd\" d=\"M9.00068 6.70083C9.44251 6.70083 9.80068 6.34266 9.80068 5.90083C9.80068 5.459 9.44251 5.10083 9.00068 5.10083C8.55886 5.10083 8.20068 5.459 8.20068 5.90083C8.20068 6.34266 8.55886 6.70083 9.00068 6.70083ZM10.5698 9.86627C10.6005 9.9195 10.6716 9.93267 10.7193 9.894L12.5422 8.41833C12.6141 8.36013 12.7197 8.42235 12.7036 8.51343L12.0147 12.4174C12.0062 12.4652 11.9647 12.5 11.9162 12.5L11.5011 12.5L10.5001 12.5H7.5001L6.50107 12.5L6.084 12.5C6.03547 12.5 5.99395 12.4652 5.98552 12.4174L5.29658 8.51343C5.2805 8.42235 5.38608 8.36013 5.45798 8.41833L7.28168 9.89466C7.32945 9.93334 7.40047 9.92017 7.4312 9.86694L8.9141 7.29849C8.95259 7.23182 9.04882 7.23182 9.08731 7.29849L10.5698 9.86627ZM14.0005 7.24927C14.0005 7.66348 13.6647 7.99927 13.2505 7.99927C12.8363 7.99927 12.5005 7.66348 12.5005 7.24927C12.5005 6.83505 12.8363 6.49927 13.2505 6.49927C13.6647 6.49927 14.0005 6.83505 14.0005 7.24927ZM4.75049 7.99927C5.1647 7.99927 5.50049 7.66348 5.50049 7.24927C5.50049 6.83505 5.1647 6.49927 4.75049 6.49927C4.33627 6.49927 4.00049 6.83505 4.00049 7.24927C4.00049 7.66348 4.33627 7.99927 4.75049 7.99927Z\" fill=\"white\"></path></svg></div></div></a></div><div class=\"sds-comps-horizontal-layout sds-comps-inline-layout sds-comps-profile-info\"><div class=\"sds-comps-horizontal-layout sds-comps-inline-layout sds-comps-profile-info-title\"><span class=\"sds-comps-text sds-comps-text-ellipsis sds-comps-text-ellipsis-1 sds-comps-text-type-body2 sds-comps-text-weight-sm sds-comps-profile-info-title-text\"><a nocr=\"1\" href=\"https://in.naver.com/myfeed?areacode=ink*a&amp;query=python&amp;filterSpaceId=164601287604160&amp;selectedSpaceId=164601287604160\" class=\"edyvn4XC9VV5Get_taA1 fds-info-inner-text\" target=\"_blank\"><span class=\"sds-comps-text\">세수하면이병헌</span></a></span></div><span class=\"sds-comps-base-layout sds-comps-full-layout sds-comps-divider sds-comps-divider-dot\" data-sds-comp=\"DotDivider\"></span><span class=\"sds-comps-text sds-comps-text-type-body2 sds-comps-text-weight-sm sds-comps-profile-info-subtext\">2025.05.15.</span></div></div><div class=\"sds-comps-base-layout sds-comps-inline-layout hNfE3IlHZXdONjds3eZe _keep_wrap\"><button type=\"button\" class=\"sds-comps-horizontal-layout sds-comps-inline-layout sds-comps-button sds-comps-icon-button y_TpGLQ4oFHuSZL7k0F2 _keep_trigger\" data-url=\"https://in.naver.com/supapa13/contents/internal/823174929202304?areacode=ink*a&amp;query=python\" data-cr-on=\"a=ink_kii*a.kep\" data-cr-off=\"a=ink_kii*a.kep\" aria-label=\"옵션 메뉴 열기\" data-sds-comp=\"IconSingleButton\"><svg xmlns=\"http://www.w3.org/2000/svg\" viewBox=\"0 0 3 16\" class=\"sds-comps-svg sds-comps-icon sds-comps-icon-size-md1 DIyBNqgkBLGnJKkjM3Le sds-comps-option-icon\" width=\"3\" height=\"16\" fill=\"none\" aria-hidden=\"true\" stroke=\"none\" aria-label=\"OptionIcon\"><circle class=\"sds-comps-option-icon-element0\" cx=\"1.5\" cy=\"3\" r=\"1.5\"></circle><circle class=\"sds-comps-option-icon-element1\" cx=\"1.5\" cy=\"8\" r=\"1.5\"></circle><circle class=\"sds-comps-option-icon-element2\" cx=\"1.5\" cy=\"13\" r=\"1.5\"></circle></svg></button><div class=\"sds-comps-vertical-layout sds-comps-inline-layout xmTq28kkkyi9_pEiQb7S api_ly_save _keep_save_layer\" reportActiveClassName=\"active\" reportOnText=\"신고된 영상입니다.\" style=\"display:none\"><a href=\"#\" data-cr-on=\"a=ink_kii*a.fanon\" data-cr-off=\"a=ink_kii*a.fanoff\" data-space-id=\"164601287604160\" data-fan-selector=\"[data-fan-target=&#x27;unique-fan-target164601287604160&#x27;]\" data-fan-on=\"profile-fan-group\" data-fan-off=\"profile-group\" class=\"sds-comps-text spnew_af item item_fan _keep_fan\">팬하기</a><a href=\"#\" data-cr-on=\"a=ink_kii*a.kepon\" data-cr-off=\"a=ink_kii*a.kepoff\" class=\"sds-comps-text spnew_af item item_save _keep_save\">Keep에 저장</a><a href=\"https://keep.naver.com/\" target=\"_blank\" class=\"sds-comps-text spnew_af item item_quick\">Keep에 바로가기</a></div></div></div></div></div><div class=\"sds-comps-base-layout sds-comps-inline-layout qr1rIn1hUqQh7XTfMBbf EkB_nKxG9b8hIoLEinrJ MWH0090w2CU4WBvp6C_G\"><div class=\"sds-comps-base-layout sds-comps-inline-layout qLT9IkOgnBVg7xFxeKAf DyOjAsGIEexy4eb_uiF6 EkB_nKxG9b8hIoLEinrJ MWH0090w2CU4WBvp6C_G\"><div class=\"sds-comps-base-layout sds-comps-inline-layout xmGQNh5ZcwmSW7GS9jsg EkB_nKxG9b8hIoLEinrJ MWH0090w2CU4WBvp6C_G\"><a nocr=\"1\" href=\"https://in.naver.com/supapa13/contents/internal/823174929202304?areacode=ink*a&amp;query=python\" class=\"edyvn4XC9VV5Get_taA1 hl2AOgfyQsg9gozQQeS8\" target=\"_blank\"><span class=\"fds-comps-text pP6CrxLzumAlsR4_qelA ellipsis1\">파이썬 용어, 다운로드 (<mark>python</mark> 프로그래밍 기초)</span></a><div class=\"sds-comps-base-layout sds-comps-inline-layout BriH1vz6ze0avqmgExI7 EkB_nKxG9b8hIoLEinrJ MWH0090w2CU4WBvp6C_G\"><a nocr=\"1\" href=\"https://in.naver.com/supapa13/contents/internal/823174929202304?areacode=ink*a&amp;query=python\" class=\"edyvn4XC9VV5Get_taA1 Eijl2sdUHWusVmdzj9zl fds-ugc-ellipsis3\" target=\"_blank\"><span class=\"fds-comps-text pP6CrxLzumAlsR4_qelA\">✔️ 파이썬 입문자를 위한 기초 용어 정리 ✔️ 다운로드 방법 파이썬 입문자를 위한 기초 용어 정리 파이썬은 전 세계적으로 사랑받는 프로그래밍 언어다. 데이터 분석, 웹 개발, 인공지능 등 다양한 분야에서 활용되고 있다. 초보자부터 전문가까지 폭넓게 사용되는 이유는 간결한 문법과 다양한 활용성 때문이다.... </span></a></div></div><a nocr=\"1\" href=\"https://in.naver.com/supapa13/contents/internal/823174929202304?areacode=ink*a&amp;query=python\" class=\"edyvn4XC9VV5Get_taA1\" target=\"_blank\" data-cb-target=\"a0209rl4_nblog_post_223866184029\" data-cb-trigger=\"true\"><div class=\"sds-comps-base-layout sds-comps-inline-layout EkB_nKxG9b8hIoLEinrJ MWH0090w2CU4WBvp6C_G\"><div class=\"sds-comps-base-layout sds-comps-inline-layout sds-comps-image nyK7JRGXryf8PdTiE8DI Bp5QP28f7dcW2PuczIxj fit-cover is-loading\" style=\"aspect-ratio:1/1\" data-dimmed=\"3%\" data-sds-comp=\"RectangleImage\"><img loading=\"lazy\" src=\"https://search.pstatic.net/common/?src=https%3A%2F%2Fmblogthumb-phinf.pstatic.net%2FMjAyNTA1MTVfMjc5%2FMDAxNzQ3MjcwMjY5NjE2.IkCK2W3OyMFemuKWwDlvJXWpAuLC_wQk9Rbro1nWHb8g.h7d5xMandB4IfDdql34qZorlpxLIClGV38HJ3jHPidUg.PNG%2FCleanShot_2025-05-15_at_09.51.01.png%3Ftype%3Dw800&amp;type=f250_208\"/><div class=\"sds-comps-image-dimmed\"></div></div><div class=\"LsrDoqMkh_ml0AsS2XUa vD1BR_d9woV5sjVXBAeZ IzsHLb_qclNp81QHfUNS\"><div class=\"tU1YTAmvxU2G_9OwL1CW\"><span class=\"fds-comps-text wx6YMDlUJ7z2ogTbxS7L pP6CrxLzumAlsR4_qelA\">11</span></div></div></div></a></div></div></div></div><div class=\"gSSA9QwY_xa9GfZdQt14 fds-footer-more-button\" data-template-id=\"moreButton\"><div class=\"qARCmDMhRvY6g8Iu4iw6 fds-comps-more-button-no-border\"><a nocr=\"1\" href=\"?query=python&amp;sm=tab_nmr&amp;where=influencer\" class=\"edyvn4XC9VV5Get_taA1 fds-comps-footer-more-button-container\" target=\"_self\" data-heatmap-target=\"more_button\"><div class=\"sds-comps-base-layout sds-comps-inline-layout fds-comps-footer-more-button-wrapper\"><div class=\"sds-comps-base-layout sds-comps-inline-layout fds-comps-footer-more-button-text-container\"><span class=\"fds-comps-text fds-comps-footer-more-subject pP6CrxLzumAlsR4_qelA\">인플루언서</span><span class=\"fds-comps-text fds-comps-footer-more-button-text pP6CrxLzumAlsR4_qelA\">더보기</span></div><svg xmlns=\"http://www.w3.org/2000/svg\" viewBox=\"0 0 12 12\" class=\"EehYVBFJb9WRUeyJTRkP fds-comps-footer-more-button-more-icon\" width=\"12\" height=\"12\" fill=\"none\" aria-hidden=\"true\"><path class=\"Q9hYlGMOluv1zIOzP8DG\" fill-rule=\"evenodd\" clip-rule=\"evenodd\" d=\"M9.39296 5.5L5.24654 1.35359L5.95365 0.646484L10.9537 5.64647L11.3072 6.00002L10.9537 6.35358L5.95365 11.3536L5.24654 10.6465L9.39302 6.5H0V5.5H9.39296Z\"></path></svg></div></a></div></div></div></div></div><script>\n",
            "(function () {\n",
            "\n",
            "  var startApplication = function () {\n",
            "    var require = window.require.config({\n",
            "      \"context\": \"fender_renderer_cedcefc1091cd352903b\"\n",
            "    });\n",
            "    require([\"https://ssl.pstatic.net/sstatic/fe/fender/client/cedcefc1091cd352903b/index.js\"], function (entry) {\n",
            "      entry.bootstrap(document.getElementById(\"fdr-e5ed832a3e94449db386dd0719ebc1ea\"), {\"appElementAttrs\":{\"className\":\"sc_new _slog_visible\",\"data-slog-container\":\"ink_kii\"},\"meta\":{\"area\":\"ink_kii\",\"nscs\":\"\",\"query\":\"python\",\"ssc\":\"tab.nx.all\",\"ssuid\":\"influencer\",\"ssuidExtra\":\"fender_renderer-influencer\",\"token\":\"basic\"},\"refs\":{\"blockId\":\"ugc/prs_template_ugc_influencer_collection_desk.ts\"},\"rootElementAttrs\":{\"className\":\"api_subject_bx\"},\"body\":{\"props\":{\"children\":[{\"props\":{\"rightSide\":{\"props\":{\"clickLog\":{\"link\":{\"element\":\".home\",\"g\":\"\",\"i\":\"\",\"r\":-1,\"source\":\"\"}},\"link\":\"https://in.naver.com/discover?query=python&selectedCategoryId=170701789269728&selectedKeywordId=293171192270112\",\"text\":\"서비스 홈 바로가기\"},\"templateId\":\"headerLink\"},\"subIcon\":{\"props\":{\"clickLog\":{\"close\":{\"element\":\".info\",\"g\":\"\",\"i\":\"\",\"r\":-1,\"source\":\"\"},\"open\":{\"element\":\".info\",\"g\":\"\",\"i\":\"\",\"r\":-1,\"source\":\"\"}},\"content\":\"이 정보가 노출된 이유\",\"contentTemplate\":{\"props\":{\"className\":\"fds-ugc-influencer-header-info\",\"clickLog\":{\"link\":{\"element\":\".help\",\"g\":\"\",\"i\":\"\",\"r\":-1,\"source\":\"\"}},\"content\":\"네이버 인플루언서로 활동하는 창작자의 콘텐츠를 검색 결과에서 제공합니다. 내가 팬한 인플루언서의 콘텐츠가 우선적으로 노출됩니다.\",\"href\":\"https://in.naver.com/discover\",\"text\":\"자세히 보기\"},\"templateId\":\"ugcHeaderInfomationWithLink\"},\"full\":true,\"type\":\"basic\"},\"templateId\":\"sdsIconInformationPopover\"},\"title\":\"인플루언서\",\"type\":\"basic\"},\"templateId\":\"sdsFeedSearchHeader\"},{\"props\":{\"children\":[{\"props\":{\"article\":{\"content\":\"macOS 파이썬 프로그래밍 <mark>PYTHON</mark> 개발 환경 구축 방법 요즘 AI 자동화가 대세다. n8n 같은 AI 기반 워크플로 자동화 도구만으로도 충분하지만, 파이썬 프로그래밍까지 더해진다면 훨씬 더 강력해진다. 예를 들면 단순히 특정 키워드를 구글 SEO 기반으로 내 글쓰기 스타일이 반영된 티스토리, 워드프레스 콘텐츠로... \",\"contentEllipsis\":2,\"contentHref\":\"https://in.naver.com/zzaru/contents/internal/844204475208512?areacode=ink*a&query=python\",\"images\":[{\"clickLog\":{\"item\":{\"element\":\".blog\",\"g\":\"\",\"i\":\"a0209rl4_nblog_post_223932219095\",\"r\":1,\"source\":\"*a\"}},\"data-cb-target\":\"a0209rl4_nblog_post_223932219095\",\"data-cb-trigger\":true,\"link\":\"https://in.naver.com/zzaru/contents/internal/844204475208512?areacode=ink*a&query=python\",\"src\":\"https://search.pstatic.net/common/?src=https%3A%2F%2Fmblogthumb-phinf.pstatic.net%2FMjAyNTA3MTNfMTQ3%2FMDAxNzUyNDA1Mzc3OTQy.nVI9uQrTiHZ-aj9GbR57QxymxcbR7EPOsf_tMAjnmf0g.hzFqo_8tHQgBkU4awvLDgUwPtYa0yI5C5ZHeFn0HBSog.PNG%2F010.png%3Ftype%3Dw800&type=f250_208\"},{\"clickLog\":{\"item\":{\"element\":\".blog\",\"g\":\"\",\"i\":\"a0209rl4_nblog_post_223932219095\",\"r\":1,\"source\":\"*a\"}},\"data-cb-target\":\"a0209rl4_nblog_post_223932219095\",\"data-cb-trigger\":true,\"link\":\"https://in.naver.com/zzaru/contents/internal/844204475208512?areacode=ink*a&query=python\",\"src\":\"https://search.pstatic.net/common/?src=https%3A%2F%2Fmblogthumb-phinf.pstatic.net%2FMjAyNTA3MTNfNjMg%2FMDAxNzUyNDA0NTg4OTA3.C5x-YxMlKF_ciwCZtp40LvsD7gihHKM94uK29Mlt0PUg.EdwpcMCohMHT2fimZ2A0LranfgFhv5I073gTgSsbQwUg.PNG%2F009.png%3Ftype%3Dw800&type=f250_208\"},{\"clickLog\":{\"item\":{\"element\":\".blog\",\"g\":\"\",\"i\":\"a0209rl4_nblog_post_223932219095\",\"r\":1,\"source\":\"*a\"}},\"data-cb-target\":\"a0209rl4_nblog_post_223932219095\",\"data-cb-trigger\":true,\"link\":\"https://in.naver.com/zzaru/contents/internal/844204475208512?areacode=ink*a&query=python\",\"src\":\"https://search.pstatic.net/common/?src=https%3A%2F%2Fmblogthumb-phinf.pstatic.net%2FMjAyNTA3MTNfNTgg%2FMDAxNzUyNDAyOTg2MTYw.clFEcnhlxRp-KkT9yO_NIuzHvWOeoZY_UsYznfuNqBYg.CH0t2n85ySULulMhnTPKsuk1zjJVK_umKoR0fDxUF44g.PNG%2F001.png%3Ftype%3Dw800&type=f250_208\"},{\"clickLog\":{\"item\":{\"element\":\".blog\",\"g\":\"\",\"i\":\"a0209rl4_nblog_post_223932219095\",\"r\":1,\"source\":\"*a\"}},\"data-cb-target\":\"a0209rl4_nblog_post_223932219095\",\"data-cb-trigger\":true,\"link\":\"https://in.naver.com/zzaru/contents/internal/844204475208512?areacode=ink*a&query=python\",\"src\":\"https://search.pstatic.net/common/?src=https%3A%2F%2Fmblogthumb-phinf.pstatic.net%2FMjAyNTA3MTNfMTEy%2FMDAxNzUyNDAzMDI5MTAz.oNj-N32v-J3OplVZlacpJ7iLd8ECfchaqbmPw-qYp9Eg.8MZqj8MC_DmN4DZiS4uYmf2Mc0KGWj4YYlsN3ns7NgYg.PNG%2F002.png%3Ftype%3Dw800&type=f250_208\"},{\"clickLog\":{\"item\":{\"element\":\".blog\",\"g\":\"\",\"i\":\"a0209rl4_nblog_post_223932219095\",\"r\":1,\"source\":\"*a\"}},\"data-cb-target\":\"a0209rl4_nblog_post_223932219095\",\"data-cb-trigger\":true,\"link\":\"https://in.naver.com/zzaru/contents/internal/844204475208512?areacode=ink*a&query=python\",\"src\":\"https://search.pstatic.net/common/?src=https%3A%2F%2Fmblogthumb-phinf.pstatic.net%2FMjAyNTA3MTNfMTI4%2FMDAxNzUyNDAzNTAxMzQ1.d506o-ueZM2tHOBERWnUCa7Z0JCzACM2K9XEAG-v__Ug.dvlwziceNGNhuexMjtwDlVP6kSHINvyvh2iRjfXp9sgg.PNG%2F004.png%3Ftype%3Dw800&type=f250_208\"}],\"thumbCount\":11,\"thumbHref\":\"https://in.naver.com/zzaru/contents/internal/844204475208512?areacode=ink*a&query=python\",\"title\":\"macOS 파이썬 프로그래밍 <mark>PYTHON</mark> 개발 환경 구축 방법\",\"titleEllipsis\":1,\"titleHref\":\"https://in.naver.com/zzaru/contents/internal/844204475208512?areacode=ink*a&query=python\",\"type\":\"influencer\"},\"clickLog\":{\"articleContent\":{\"element\":\".blog\",\"g\":\"\",\"i\":\"a0209rl4_nblog_post_223932219095\",\"r\":1,\"source\":\"*a\"},\"articleTitle\":{\"element\":\".blog\",\"g\":\"\",\"i\":\"a0209rl4_nblog_post_223932219095\",\"r\":1,\"source\":\"*a\"},\"profileThumb\":{\"element\":\".profile\",\"g\":\"\",\"i\":\"a0209rl4_nblog_post_223932219095\",\"r\":1,\"source\":\"*a\"},\"profileTitle\":{\"element\":\".nickname\",\"g\":\"\",\"i\":\"a0209rl4_nblog_post_223932219095\",\"r\":1,\"source\":\"*a\"}},\"profile\":{\"color\":\"#CFB372\",\"fanColor\":\"blue40\",\"fanTarget\":\"unique-fan-target170982443888480\",\"feedHref\":\"https://in.naver.com/myfeed?areacode=ink*a&query=python&filterSpaceId=170982443888480&selectedSpaceId=170982443888480\",\"href\":\"https://in.naver.com/myfeed?areacode=ink*a&query=python&filterSpaceId=170982443888480&selectedSpaceId=170982443888480\",\"isFan\":false,\"isRank\":true,\"keep\":{\"clickLog\":{\"keepLink\":{\"element\":\".kephome\",\"g\":\"\",\"i\":\"a0209rl4_nblog_post_223932219095\",\"r\":1,\"source\":\"*a\"}},\"fanOffClassName\":\"profile-group\",\"fanOffClickLog\":\"a=ink_kii*a.fanoff\",\"fanOnClassName\":\"profile-fan-group\",\"fanOnClickLog\":\"a=ink_kii*a.fanon\",\"fanSelector\":\"[data-fan-target='unique-fan-target170982443888480']\",\"fanSpaceId\":\"170982443888480\",\"keepOffClickLog\":\"a=ink_kii*a.kepoff\",\"keepOnClickLog\":\"a=ink_kii*a.kepon\",\"keepTriggerOffClickLog\":\"a=ink_kii*a.kep\",\"keepTriggerOnClickLog\":\"a=ink_kii*a.kep\",\"keepTriggerUrl\":\"https://in.naver.com/zzaru/contents/internal/844204475208512?areacode=ink*a&query=python\",\"keepURL\":\"https://keep.naver.com/\",\"reportActiveClassName\":\"active\",\"reportInfo\":\"%3C%3Fxml+version%3D%221.0%22+encoding%3D%22UTF-8%22%3F%3E%3CReportBatchProcess%3E%3Cheader%3E%3CinterfaceId%3EReportProcessBatchReq%3C%2FinterfaceId%3E%3CtransferReqTime%3E20100607155059%3C%2FtransferReqTime%3E%3CtotalReportCnt%3E1%3C%2FtotalReportCnt%3E%3C%2Fheader%3E%3Cbody%3E%3Citem+index%3D%221%22%3E%3CschSvcCatDtlCd%3EVID%3C%2FschSvcCatDtlCd%3E%3CsvcDtlCd%3ECP%3C%2FsvcDtlCd%3E%3CorgncSvcId%3EVID%3C%2ForgncSvcId%3E%3CartclSumryCont%3E%3C%2FartclSumryCont%3E%3CschRsltCatDtlCd%3ETSH%3C%2FschRsltCatDtlCd%3E+%3CorgncArtclId%3EvideoNPP+11600688+28+3147%3C%2ForgncArtclId%3E%3CcntsUrl%3E%3C%21%5BCDATA%5Bhttp%3A%2F%2Fcafe.naver.com%2Fpacifism%2F3147%5D%5D%3E%3C%2FcntsUrl%3E%3CorgncSvcNm%3E%EB%84%A4%EC%9D%B4%EB%B2%84+%EC%B9%B4%ED%8E%98%3C%2ForgncSvcNm%3E%3CreportKwdNm%3E%3C%21%5BCDATA%5B%EC%95%BC%EC%83%9D%EC%BA%A0%ED%94%84%5D%5D%3E%3C%2FreportKwdNm%3E%3CartclTitle%3E%3C%21%5BCDATA%5B%EC%95%BC%EC%83%9D%EC%BA%A0%ED%94%84%5D%5D%3E%3C%2FartclTitle%3E%3CartclRgstrId%3Ehero914%3C%2FartclRgstrId%3E%3CcntsLstModYmdtc%3E20201209205549%3C%2FcntsLstModYmdtc%3E%3CcntsFstRgstYmdtc%3E20201209205549%3C%2FcntsFstRgstYmdtc%3E%3CthmnlImgPath%3E%3C%21%5BCDATA%5Bhttps%3A%2F%2Fsearch.pstatic.net%2Fcommon%2F%3Fsrc%3Dhttp%253A%252F%252Fimage.nmv.naver.net%252Fcafe_2020_12_09_1245%252Fed64dfcd-3a14-11eb-b59a-505dac8c3721_01.jpg%253Ftype%253Dr152%26type%3Dac128_72%5D%5D%3E%3C%2FthmnlImgPath%3E%3C%2Fitem%3E%3C%2Fbody%3E%3C%2FReportBatchProcess%3E\",\"reportOnText\":\"신고된 영상입니다.\",\"type\":\"basic\",\"use\":[\"fan\",\"keep\",\"mykeep\"],\"version\":\"2\"},\"subText\":\"2025.07.13.\",\"text\":\"짜루\",\"thumbSrc\":\"https://search.pstatic.net/common/?src=https%3A%2F%2Fhomebuilder-phinf.pstatic.net%2FMjAyMjA3MThfMjAz%2FMDAxNjU4MTA2Mzg2Njk0.ncKpFIefhPAa0o5Ybh64pc3hxaOCUr8OQb-ByQWIwF0g.Q9vmChBOCHjvI8K_8_xnSV1Cp-QtnfLwPXQ7Iy-2BOkg.JPEG%2F1658106386585_%25ED%2594%2584%25EB%25A1%259C%25ED%2595%2584%25EC%2582%25AC%25EC%25A7%2584.jpg&type=f96_96\",\"type\":\"influencer\"},\"responsiveBlock\":{\"data-cb-api\":\"\",\"data-cb-target\":\"a0209rl4_nblog_post_223932219095\",\"data-cb-trigger\":true}},\"templateId\":\"ugcItemDesk\"},{\"props\":{\"className\":\"fds-ugc-divider-line\"},\"templateId\":\"dividerLine\"},{\"props\":{\"article\":{\"content\":\"아나콘다 파이썬 프로그래밍 <mark>PYTHON</mark> 주피터노트북 설치 다운로드 안녕하세요. 아전입니다. 오늘은 아나콘다 통합 개발 환경에서 파이썬 프로그래밍을 위한 주피터 노트북에 대해 알아보려고 하는데요. 아나콘다(Anaconda)는 데이터 분석과 머신러닝에 필요한 파이썬 환경과 다양한 패키지를 한 번에 설치할 수 있는 통합... \",\"contentEllipsis\":3,\"contentHref\":\"https://in.naver.com/itexpert/contents/internal/841355984225504?areacode=ink*a&query=python\",\"thumbCount\":10,\"thumbHref\":\"https://in.naver.com/itexpert/contents/internal/841355984225504?areacode=ink*a&query=python\",\"thumbObject\":{\"clickLog\":{\"item\":{\"element\":\".blog\",\"g\":\"\",\"i\":\"a0209rl4_nblog_post_223923002309\",\"r\":2,\"source\":\"*a\"}},\"data-cb-target\":\"a0209rl4_nblog_post_223923002309\",\"data-cb-trigger\":true,\"link\":\"https://in.naver.com/itexpert/contents/internal/841355984225504?areacode=ink*a&query=python\",\"src\":\"https://search.pstatic.net/common/?src=https%3A%2F%2Fmblogthumb-phinf.pstatic.net%2FMjAyNTA3MDVfMTM2%2FMDAxNzUxNzA5NDg5MTk0.h7YPzl1f9LxwW8B_IfPMkx9irX0cDtTjiUbi1mxClSEg.le71ZOsa_I8aj4pBOpe6f4H2gkKAXRxRGfG3TzhVpUsg.PNG%2F%25C5%25B8%25C0%25CC%25C6%25B2.png%3Ftype%3Dw800&type=f250_208\"},\"thumbType\":\"\",\"title\":\"아나콘다 파이썬 프로그래밍 <mark>PYTHON</mark> 주피터노트북 설치 다운로드\",\"titleEllipsis\":1,\"titleHref\":\"https://in.naver.com/itexpert/contents/internal/841355984225504?areacode=ink*a&query=python\",\"type\":\"influencer\"},\"clickLog\":{\"articleContent\":{\"element\":\".blog\",\"g\":\"\",\"i\":\"a0209rl4_nblog_post_223923002309\",\"r\":2,\"source\":\"*a\"},\"articleTitle\":{\"element\":\".blog\",\"g\":\"\",\"i\":\"a0209rl4_nblog_post_223923002309\",\"r\":2,\"source\":\"*a\"},\"profileThumb\":{\"element\":\".profile\",\"g\":\"\",\"i\":\"a0209rl4_nblog_post_223923002309\",\"r\":2,\"source\":\"*a\"},\"profileTitle\":{\"element\":\".nickname\",\"g\":\"\",\"i\":\"a0209rl4_nblog_post_223923002309\",\"r\":2,\"source\":\"*a\"}},\"profile\":{\"color\":\"#939396\",\"fanColor\":\"blue40\",\"fanTarget\":\"unique-fan-target491433497597248\",\"feedHref\":\"https://in.naver.com/myfeed?areacode=ink*a&query=python&filterSpaceId=491433497597248&selectedSpaceId=491433497597248\",\"href\":\"https://in.naver.com/myfeed?areacode=ink*a&query=python&filterSpaceId=491433497597248&selectedSpaceId=491433497597248\",\"isFan\":false,\"isRank\":true,\"keep\":{\"clickLog\":{\"keepLink\":{\"element\":\".kephome\",\"g\":\"\",\"i\":\"a0209rl4_nblog_post_223923002309\",\"r\":2,\"source\":\"*a\"}},\"fanOffClassName\":\"profile-group\",\"fanOffClickLog\":\"a=ink_kii*a.fanoff\",\"fanOnClassName\":\"profile-fan-group\",\"fanOnClickLog\":\"a=ink_kii*a.fanon\",\"fanSelector\":\"[data-fan-target='unique-fan-target491433497597248']\",\"fanSpaceId\":\"491433497597248\",\"keepOffClickLog\":\"a=ink_kii*a.kepoff\",\"keepOnClickLog\":\"a=ink_kii*a.kepon\",\"keepTriggerOffClickLog\":\"a=ink_kii*a.kep\",\"keepTriggerOnClickLog\":\"a=ink_kii*a.kep\",\"keepTriggerUrl\":\"https://in.naver.com/itexpert/contents/internal/841355984225504?areacode=ink*a&query=python\",\"keepURL\":\"https://keep.naver.com/\",\"reportActiveClassName\":\"active\",\"reportInfo\":\"%3C%3Fxml+version%3D%221.0%22+encoding%3D%22UTF-8%22%3F%3E%3CReportBatchProcess%3E%3Cheader%3E%3CinterfaceId%3EReportProcessBatchReq%3C%2FinterfaceId%3E%3CtransferReqTime%3E20100607155059%3C%2FtransferReqTime%3E%3CtotalReportCnt%3E1%3C%2FtotalReportCnt%3E%3C%2Fheader%3E%3Cbody%3E%3Citem+index%3D%221%22%3E%3CschSvcCatDtlCd%3EVID%3C%2FschSvcCatDtlCd%3E%3CsvcDtlCd%3ECP%3C%2FsvcDtlCd%3E%3CorgncSvcId%3EVID%3C%2ForgncSvcId%3E%3CartclSumryCont%3E%3C%2FartclSumryCont%3E%3CschRsltCatDtlCd%3ETSH%3C%2FschRsltCatDtlCd%3E+%3CorgncArtclId%3EvideoNPP+11600688+28+3147%3C%2ForgncArtclId%3E%3CcntsUrl%3E%3C%21%5BCDATA%5Bhttp%3A%2F%2Fcafe.naver.com%2Fpacifism%2F3147%5D%5D%3E%3C%2FcntsUrl%3E%3CorgncSvcNm%3E%EB%84%A4%EC%9D%B4%EB%B2%84+%EC%B9%B4%ED%8E%98%3C%2ForgncSvcNm%3E%3CreportKwdNm%3E%3C%21%5BCDATA%5B%EC%95%BC%EC%83%9D%EC%BA%A0%ED%94%84%5D%5D%3E%3C%2FreportKwdNm%3E%3CartclTitle%3E%3C%21%5BCDATA%5B%EC%95%BC%EC%83%9D%EC%BA%A0%ED%94%84%5D%5D%3E%3C%2FartclTitle%3E%3CartclRgstrId%3Ehero914%3C%2FartclRgstrId%3E%3CcntsLstModYmdtc%3E20201209205549%3C%2FcntsLstModYmdtc%3E%3CcntsFstRgstYmdtc%3E20201209205549%3C%2FcntsFstRgstYmdtc%3E%3CthmnlImgPath%3E%3C%21%5BCDATA%5Bhttps%3A%2F%2Fsearch.pstatic.net%2Fcommon%2F%3Fsrc%3Dhttp%253A%252F%252Fimage.nmv.naver.net%252Fcafe_2020_12_09_1245%252Fed64dfcd-3a14-11eb-b59a-505dac8c3721_01.jpg%253Ftype%253Dr152%26type%3Dac128_72%5D%5D%3E%3C%2FthmnlImgPath%3E%3C%2Fitem%3E%3C%2Fbody%3E%3C%2FReportBatchProcess%3E\",\"reportOnText\":\"신고된 영상입니다.\",\"type\":\"basic\",\"use\":[\"fan\",\"keep\",\"mykeep\"],\"version\":\"2\"},\"subText\":\"2025.07.05.\",\"text\":\"아전\",\"thumbSrc\":\"https://search.pstatic.net/common/?src=https%3A%2F%2Fhomebuilder-phinf.pstatic.net%2FMjAyNDExMjBfODIg%2FMDAxNzMyMDk2NDM0Mzk1.ypPeB08nukS7Gr55s5iAXeNimwABF5Dh8QDuBR3qgQIg.hD3F8XEmyQp_v56b5Q42KFCJOsYL_GlBRPVIHnvcD7kg.JPEG%2F1732096434327_Screenshot_20241120_184547_Gallery.jpg&type=f96_96\",\"type\":\"influencer\"},\"responsiveBlock\":{\"data-cb-api\":\"\",\"data-cb-target\":\"a0209rl4_nblog_post_223923002309\",\"data-cb-trigger\":true}},\"templateId\":\"ugcItemDesk\"},{\"props\":{\"className\":\"fds-ugc-divider-line\"},\"templateId\":\"dividerLine\"},{\"props\":{\"article\":{\"content\":\"✔️ 파이썬 입문자를 위한 기초 용어 정리 ✔️ 다운로드 방법 파이썬 입문자를 위한 기초 용어 정리 파이썬은 전 세계적으로 사랑받는 프로그래밍 언어다. 데이터 분석, 웹 개발, 인공지능 등 다양한 분야에서 활용되고 있다. 초보자부터 전문가까지 폭넓게 사용되는 이유는 간결한 문법과 다양한 활용성 때문이다.... \",\"contentEllipsis\":3,\"contentHref\":\"https://in.naver.com/supapa13/contents/internal/823174929202304?areacode=ink*a&query=python\",\"thumbCount\":11,\"thumbHref\":\"https://in.naver.com/supapa13/contents/internal/823174929202304?areacode=ink*a&query=python\",\"thumbObject\":{\"clickLog\":{\"item\":{\"element\":\".blog\",\"g\":\"\",\"i\":\"a0209rl4_nblog_post_223866184029\",\"r\":3,\"source\":\"*a\"}},\"data-cb-target\":\"a0209rl4_nblog_post_223866184029\",\"data-cb-trigger\":true,\"link\":\"https://in.naver.com/supapa13/contents/internal/823174929202304?areacode=ink*a&query=python\",\"src\":\"https://search.pstatic.net/common/?src=https%3A%2F%2Fmblogthumb-phinf.pstatic.net%2FMjAyNTA1MTVfMjc5%2FMDAxNzQ3MjcwMjY5NjE2.IkCK2W3OyMFemuKWwDlvJXWpAuLC_wQk9Rbro1nWHb8g.h7d5xMandB4IfDdql34qZorlpxLIClGV38HJ3jHPidUg.PNG%2FCleanShot_2025-05-15_at_09.51.01.png%3Ftype%3Dw800&type=f250_208\"},\"thumbType\":\"\",\"title\":\"파이썬 용어, 다운로드 (<mark>python</mark> 프로그래밍 기초)\",\"titleEllipsis\":1,\"titleHref\":\"https://in.naver.com/supapa13/contents/internal/823174929202304?areacode=ink*a&query=python\",\"type\":\"influencer\"},\"clickLog\":{\"articleContent\":{\"element\":\".blog\",\"g\":\"\",\"i\":\"a0209rl4_nblog_post_223866184029\",\"r\":3,\"source\":\"*a\"},\"articleTitle\":{\"element\":\".blog\",\"g\":\"\",\"i\":\"a0209rl4_nblog_post_223866184029\",\"r\":3,\"source\":\"*a\"},\"profileThumb\":{\"element\":\".profile\",\"g\":\"\",\"i\":\"a0209rl4_nblog_post_223866184029\",\"r\":3,\"source\":\"*a\"},\"profileTitle\":{\"element\":\".nickname\",\"g\":\"\",\"i\":\"a0209rl4_nblog_post_223866184029\",\"r\":3,\"source\":\"*a\"}},\"profile\":{\"color\":\"#E89090\",\"fanColor\":\"blue40\",\"fanTarget\":\"unique-fan-target164601287604160\",\"feedHref\":\"https://in.naver.com/myfeed?areacode=ink*a&query=python&filterSpaceId=164601287604160&selectedSpaceId=164601287604160\",\"href\":\"https://in.naver.com/myfeed?areacode=ink*a&query=python&filterSpaceId=164601287604160&selectedSpaceId=164601287604160\",\"isFan\":false,\"isRank\":true,\"keep\":{\"clickLog\":{\"keepLink\":{\"element\":\".kephome\",\"g\":\"\",\"i\":\"a0209rl4_nblog_post_223866184029\",\"r\":3,\"source\":\"*a\"}},\"fanOffClassName\":\"profile-group\",\"fanOffClickLog\":\"a=ink_kii*a.fanoff\",\"fanOnClassName\":\"profile-fan-group\",\"fanOnClickLog\":\"a=ink_kii*a.fanon\",\"fanSelector\":\"[data-fan-target='unique-fan-target164601287604160']\",\"fanSpaceId\":\"164601287604160\",\"keepOffClickLog\":\"a=ink_kii*a.kepoff\",\"keepOnClickLog\":\"a=ink_kii*a.kepon\",\"keepTriggerOffClickLog\":\"a=ink_kii*a.kep\",\"keepTriggerOnClickLog\":\"a=ink_kii*a.kep\",\"keepTriggerUrl\":\"https://in.naver.com/supapa13/contents/internal/823174929202304?areacode=ink*a&query=python\",\"keepURL\":\"https://keep.naver.com/\",\"reportActiveClassName\":\"active\",\"reportInfo\":\"%3C%3Fxml+version%3D%221.0%22+encoding%3D%22UTF-8%22%3F%3E%3CReportBatchProcess%3E%3Cheader%3E%3CinterfaceId%3EReportProcessBatchReq%3C%2FinterfaceId%3E%3CtransferReqTime%3E20100607155059%3C%2FtransferReqTime%3E%3CtotalReportCnt%3E1%3C%2FtotalReportCnt%3E%3C%2Fheader%3E%3Cbody%3E%3Citem+index%3D%221%22%3E%3CschSvcCatDtlCd%3EVID%3C%2FschSvcCatDtlCd%3E%3CsvcDtlCd%3ECP%3C%2FsvcDtlCd%3E%3CorgncSvcId%3EVID%3C%2ForgncSvcId%3E%3CartclSumryCont%3E%3C%2FartclSumryCont%3E%3CschRsltCatDtlCd%3ETSH%3C%2FschRsltCatDtlCd%3E+%3CorgncArtclId%3EvideoNPP+11600688+28+3147%3C%2ForgncArtclId%3E%3CcntsUrl%3E%3C%21%5BCDATA%5Bhttp%3A%2F%2Fcafe.naver.com%2Fpacifism%2F3147%5D%5D%3E%3C%2FcntsUrl%3E%3CorgncSvcNm%3E%EB%84%A4%EC%9D%B4%EB%B2%84+%EC%B9%B4%ED%8E%98%3C%2ForgncSvcNm%3E%3CreportKwdNm%3E%3C%21%5BCDATA%5B%EC%95%BC%EC%83%9D%EC%BA%A0%ED%94%84%5D%5D%3E%3C%2FreportKwdNm%3E%3CartclTitle%3E%3C%21%5BCDATA%5B%EC%95%BC%EC%83%9D%EC%BA%A0%ED%94%84%5D%5D%3E%3C%2FartclTitle%3E%3CartclRgstrId%3Ehero914%3C%2FartclRgstrId%3E%3CcntsLstModYmdtc%3E20201209205549%3C%2FcntsLstModYmdtc%3E%3CcntsFstRgstYmdtc%3E20201209205549%3C%2FcntsFstRgstYmdtc%3E%3CthmnlImgPath%3E%3C%21%5BCDATA%5Bhttps%3A%2F%2Fsearch.pstatic.net%2Fcommon%2F%3Fsrc%3Dhttp%253A%252F%252Fimage.nmv.naver.net%252Fcafe_2020_12_09_1245%252Fed64dfcd-3a14-11eb-b59a-505dac8c3721_01.jpg%253Ftype%253Dr152%26type%3Dac128_72%5D%5D%3E%3C%2FthmnlImgPath%3E%3C%2Fitem%3E%3C%2Fbody%3E%3C%2FReportBatchProcess%3E\",\"reportOnText\":\"신고된 영상입니다.\",\"type\":\"basic\",\"use\":[\"fan\",\"keep\",\"mykeep\"],\"version\":\"2\"},\"subText\":\"2025.05.15.\",\"text\":\"세수하면이병헌\",\"thumbSrc\":\"https://search.pstatic.net/common/?src=https%3A%2F%2Finfluencer-phinf.pstatic.net%2FMjAyMDA0MzBfMjcx%2FMDAxNTg4MTczOTE3ODUw.rXjVWZgzBsYn_H-UfzcpYNNnTmH_HevaHJZtS97BhF4g.SQqt6P-zfHpYkcBv-qCdxTrXaFh4Oay6d6lz2rANm-Mg.JPEG%2FKakaoTalk_Photo_2020-02-22-22-15-06.jpeg&type=f96_96\",\"type\":\"influencer\"},\"responsiveBlock\":{\"data-cb-api\":\"\",\"data-cb-target\":\"a0209rl4_nblog_post_223866184029\",\"data-cb-trigger\":true}},\"templateId\":\"ugcItemDesk\"}],\"className\":\"fds-ugc-item-list\"},\"templateId\":\"sdsVerticalLayout\"},{\"props\":{\"className\":\"fds-footer-more-button\",\"clickLog\":{\"anchor\":{\"element\":\".more\",\"g\":\"\",\"i\":\"\",\"r\":-1,\"source\":\"\"}},\"href\":\"?query=python&sm=tab_nmr&where=influencer\",\"subject\":\"인플루언서\",\"text\":\"더보기\"},\"templateId\":\"moreButton\"}],\"className\":\"fds-ugc-influencer\"},\"templateId\":\"sdsVerticalLayout\"},\"cr\":\"CR_OBJECT_REPLACEMENT\"}, { onRendered: function(detail) {\n",
            "        \n",
            "      }});\n",
            "    });\n",
            "  };\n",
            "  \n",
            "  if (window.naver && window.naver.common && typeof window.naver.common.load_js === \"function\") {\n",
            "    var isDomLoading = document.readyState === \"loading\";\n",
            "    \n",
            "    naver.common.load_js(null, startApplication, isDomLoading, 150, !isDomLoading);\n",
            "  } else {\n",
            "    setTimeout(startApplication, 150);\n",
            "  }\n",
            "})();\n",
            "</script><div class=\"_scrollLog\" data-slog-id=\"ink_kii*a\" style=\"visibility:hidden;height:0px;margin:0 28px\"></div><section class=\"sc_new sp_ndic _fe_dictionary _prs_ldc_btm\"> <div class=\"api_subject_bx \"> <div class=\"mod_title_area _toggle_wrap _popup_wrap\"> <div class=\"title_wrap\"> <h2 class=\"title\">영어사전</h2> </div> <div class=\"title_sub\"> <a href=\"javascript:void(0);\" role=\"option\" aria-pressed=\"false\" class=\"sub_option_expand _toggle_trigger\" data-cr-on=\"ldc_btm.all\" data-cr-off=\"ldc_btm.close\"> 다른 어학정보 16<i class=\"spnew ico_option_arr\"></i> </a> <div class=\"ly_api_info _toggle_content\" style=\"display: none;\"> <ul class=\"other_list\"> <li class=\"other_list_item\"> <a href=\"https://papago.naver.com?st=python\" onclick=\"return goOtherCR(this,'a=ldc_btm.select&r=0&i=&u='+urlencode(this.href))\" class=\"other_list_link\" target=\"_blank\"><span class=\"spdc ico_lang ico_papago\"></span>파파고<em></em></a> </li> <li class=\"other_list_item\"> <a href=\"https://ko.dict.naver.com/#/search?range=all&query=python\" onclick=\"return goOtherCR(this,'a=ldc_btm.select&r=0&i=&u='+urlencode(this.href))\" class=\"other_list_link\" target=\"_blank\"><span class=\"spdc ico_lang ico_ko\"></span>국어<em>1</em></a> </li> <li class=\"other_list_item\"> <a href=\"https://ja.dict.naver.com/#/search?range=all&query=python\" onclick=\"return goOtherCR(this,'a=ldc_btm.select&r=0&i=&u='+urlencode(this.href))\" class=\"other_list_link\" target=\"_blank\"><span class=\"spdc ico_lang ico_ja\"></span>일본어<em>2</em></a> </li> <li class=\"other_list_item\"> <a href=\"https://zh.dict.naver.com/#/search?range=all&query=python\" onclick=\"return goOtherCR(this,'a=ldc_btm.select&r=0&i=&u='+urlencode(this.href))\" class=\"other_list_link\" target=\"_blank\"><span class=\"spdc ico_lang ico_zh\"></span>중국어<em>1</em></a> </li> <li class=\"other_list_item\"> <a href=\"https://dict.naver.com/frkodict/#/search?range=all&query=python\" onclick=\"return goOtherCR(this,'a=ldc_btm.select&r=0&i=&u='+urlencode(this.href))\" class=\"other_list_link\" target=\"_blank\"><span class=\"spdc ico_lang ico_fr\"></span>프랑스어<em>1</em></a> </li> <li class=\"other_list_item\"> <a href=\"https://dict.naver.com/dekodict/#/search?range=all&query=python\" onclick=\"return goOtherCR(this,'a=ldc_btm.select&r=0&i=&u='+urlencode(this.href))\" class=\"other_list_link\" target=\"_blank\"><span class=\"spdc ico_lang ico_de\"></span>독일어<em>1</em></a> </li> <li class=\"other_list_item\"> <a href=\"https://dict.naver.com/nlkodict/#/search?range=all&query=python\" onclick=\"return goOtherCR(this,'a=ldc_btm.select&r=0&i=&u='+urlencode(this.href))\" class=\"other_list_link\" target=\"_blank\"><span class=\"spdc ico_lang ico_nl\"></span>네덜란드어<em>3</em></a> </li> <li class=\"other_list_item\"> <a href=\"https://dict.naver.com/trkodict/#/search?range=all&query=python\" onclick=\"return goOtherCR(this,'a=ldc_btm.select&r=0&i=&u='+urlencode(this.href))\" class=\"other_list_link\" target=\"_blank\"><span class=\"spdc ico_lang ico_tr\"></span>튀르키예어<em>2</em></a> </li> <li class=\"other_list_item\"> <a href=\"https://dict.naver.com/lakodict/#/search?range=all&query=python\" onclick=\"return goOtherCR(this,'a=ldc_btm.select&r=0&i=&u='+urlencode(this.href))\" class=\"other_list_link\" target=\"_blank\"><span class=\"spdc ico_lang ico_la\"></span>라틴어<em>4</em></a> </li> <li class=\"other_list_item\"> <a href=\"https://dict.naver.com/svkodict/#/search?range=all&query=python\" onclick=\"return goOtherCR(this,'a=ldc_btm.select&r=0&i=&u='+urlencode(this.href))\" class=\"other_list_link\" target=\"_blank\"><span class=\"spdc ico_lang ico_sv\"></span>스웨덴어<em>2</em></a> </li> <li class=\"other_list_item\"> <a href=\"https://dict.naver.com/sqkodict/#/search?range=all&query=python\" onclick=\"return goOtherCR(this,'a=ldc_btm.select&r=0&i=&u='+urlencode(this.href))\" class=\"other_list_link\" target=\"_blank\"><span class=\"spdc ico_lang ico_al\"></span>알바니아어<em>1</em></a> </li> <li class=\"other_list_item\"> <a href=\"https://dict.naver.com/uzkodict/#/search?range=all&query=python\" onclick=\"return goOtherCR(this,'a=ldc_btm.select&r=0&i=&u='+urlencode(this.href))\" class=\"other_list_link\" target=\"_blank\"><span class=\"spdc ico_lang ico_uz\"></span>우즈베크어<em>1</em></a> </li> <li class=\"other_list_item\"> <a href=\"https://dict.naver.com/ukkodict/#/search?range=all&query=python\" onclick=\"return goOtherCR(this,'a=ldc_btm.select&r=0&i=&u='+urlencode(this.href))\" class=\"other_list_link\" target=\"_blank\"><span class=\"spdc ico_lang ico_uk\"></span>우크라이나어<em>1</em></a> </li> <li class=\"other_list_item\"> <a href=\"https://dict.naver.com/cskodict/#/search?range=all&query=python\" onclick=\"return goOtherCR(this,'a=ldc_btm.select&r=0&i=&u='+urlencode(this.href))\" class=\"other_list_link\" target=\"_blank\"><span class=\"spdc ico_lang ico_cs\"></span>체코어<em>1</em></a> </li> <li class=\"other_list_item\"> <a href=\"https://dict.naver.com/hukodict/#/search?range=all&query=python\" onclick=\"return goOtherCR(this,'a=ldc_btm.select&r=0&i=&u='+urlencode(this.href))\" class=\"other_list_link\" target=\"_blank\"><span class=\"spdc ico_lang ico_hu\"></span>헝가리어<em>1</em></a> </li> <li class=\"other_list_item\"> <a href=\"https://dict.naver.com/dakodict/#/search?range=all&query=python\" onclick=\"return goOtherCR(this,'a=ldc_btm.select&r=0&i=&u='+urlencode(this.href))\" class=\"other_list_link\" target=\"_blank\"><span class=\"spdc ico_lang ico_da\"></span>덴마크어<em>1</em></a> </li> </ul> <button type=\"button\" class=\"btn_close _toggle_trigger\"><i class=\"spnew ico_close\">정보확인 레이어 닫기</i></button> </div> </div> </div> <div class=\"dic_en dic_area type_top\"> <div class=\"dic_link_wrap\"> <dl class=\"word_dfn  \"> <dt lang=\"en\" class=\"dic_word_title _sap_item\"> <div class=\"title_wrap\"> <a href=\"https://en.dict.naver.com/#/entry/enko/7f36afb6dfe14d1daba5ea3345452980\" class=\"title\" target=\"_blank\" onclick=\"return goOtherCR(this,'a=ldc_btm*e.ety&r=1&i=3250eb9fb862a298a5054f581e77067e&u='+urlencode(this.href))\"><mark>python</mark></a> </div> </dt> <dd class=\"word_proun \"> <div class=\"proun_area _sap_item\"> <button class=\"btn_sound _sap_trigger\" data-source=\"mp3\" data-audioid=\"https://dict-dn.pstatic.net/naver/dic/naverdic/endic/pron/new/us/026/026690.mp3?_lsu_sa_=303860578df735267595913f3a343af24d3f6ed52b0b0fa065c2ed79ab6c6fd11151774a6a452274995b6e95632730ea40c3b658f4bfdbd20b7ef372bf611efd21a5bd4fdd75b32865a66d0501fb72e1\" onclick=\"tCR('a=ldc_btm*e.ams&r=1&i=3250eb9fb862a298a5054f581e77067e&u=javascript');\"> <span class=\"part\">미국식 <i class=\"key\">[<sup>│</sup>paɪθɑːn]</i></span><span class=\"spdc ico_play\">발음듣기</span><div class=\"api_loading\"> <div class=\"api_load_wrap\"> <div class=\"api_load_s\"> <div class=\"load_dot dot1\"></div> <div class=\"load_dot dot2\"></div> <div class=\"load_dot dot3\"></div> <div class=\"load_dot dot4\"></div> <div class=\"load_dot dot5\"></div> <div class=\"load_dot dot6\"></div> </div> </div> </div> </button> </div> <div class=\"proun_area _sap_item\"> <button class=\"btn_sound _sap_trigger\" data-source=\"mp3\" data-audioid=\"https://dict-dn.pstatic.net/naver/dic/naverdic/endic/pron/new/uk/012/C12121.mp3?_lsu_sa_=3a98c855fd0036e6ec9a31ea35344ff1dda26235350e0fb460821b70abf165016c51e7e664f56c7cf9f66a65132bb0fd6a91adad5122f14d352b1a496a792ca3f8a297f93d892a147943d846f93135c5\" onclick=\"tCR('a=ldc_btm*e.brs&r=1&i=3250eb9fb862a298a5054f581e77067e&u=javascript');\"> <span class=\"part\">영국식 <i class=\"key\">[<sup>│</sup>paɪθən]</i></span><span class=\"spdc ico_play\">발음듣기</span><div class=\"api_loading\"> <div class=\"api_load_wrap\"> <div class=\"api_load_s\"> <div class=\"load_dot dot1\"></div> <div class=\"load_dot dot2\"></div> <div class=\"load_dot dot3\"></div> <div class=\"load_dot dot4\"></div> <div class=\"load_dot dot5\"></div> <div class=\"load_dot dot6\"></div> </div> </div> </div> </button> </div> </dd> <dd class=\"word_dsc\"> <ul class=\"mean_list\"> <li class=\"mean_list_item\"> <div class=\"desc\"> <p class=\"mean\">비단뱀</p> </div> </li> </ul> </dd> </dl> </div> <div class=\"dic_more\"> <a href=\"https://en.dict.naver.com/#/search?range=word&query=python\" class=\"dic_link\" onclick=\"return goOtherCR(this,'a=ldc_btm*e.all&r=1&i=3250eb9fb862a298a5054f581e77067e&u='+urlencode(this.href))\" target=\"_blank\">영어사전 다른 뜻 3</a> </div> </div> <div class=\"mod_more_wrap\"> <a href=\"https://en.dict.naver.com/#/search?range=all&query=python&from=nsearch\" class=\"group_more\" onclick=\"return goOtherCR(this,'a=ldc_btm.more&r=1&i=3250eb9fb862a298a5054f581e77067e&u='+urlencode(this.href))\" target=\"_blank\"> <span class=\"kwd\">어학사전</span><span class=\"etc\">더보기<i class=\"spnew ico_arr\"></i></span> </a> </div> </div> <script> (function() { var startApplication = function() { var $base = jQuery(\"._fe_dictionary\"); var jsFileURL = \"https://ssl.pstatic.net/sstatic/fe/sfe/languageDictionary/pc/Controller_231017.js\"; var require = window.require.config({ \"context\": \"fe_dictionary\", \"paths\": { \"Controller\": jsFileURL.replace(/\\.js$/, \"\") } }); define(\"jquery\", [], function() { return jQuery; }); require([\"Controller\"], function(Controller) { var oController = new Controller($base); oController.on({ \"changeToggle\": function(e) { var $trigger = e.$item.find(\"._toggle_trigger\").eq(0); if (e.isOn) { tCR(\"a=\" + $trigger.data(\"cr-on\") + \"&r=\" + \"&i=\" + \"&u=javascript\"); } else { tCR(\"a=\" + $trigger.data(\"cr-off\") + \"&r=\" + \"&i=\" + \"&u=javascript\"); } }, \"changePopup\": function(e) { var $trigger = e.$item.find(\"._popup_trigger\").eq(0); if (e.isOn) { tCR(\"a=\" + $trigger.data(\"cr-on\") + \"&r=\" + \"&i=\" + \"&u=javascript\"); } else { tCR(\"a=\" + $trigger.data(\"cr-off\") + \"&r=\" + \"&i=\" + \"&u=javascript\"); } }, \"changeFold\": function(e) { if (e.isOn) { tCR(\"a=&r=\" + \"&i=\" + \"&u=javascript\"); } else { tCR(\"a=&r=\" + \"&i=\" + \"&u=javascript\"); } }, \"clickElement\": function(e) { var area = e.area; var url = e.url; tCR(area); window.open(url, \"_blank\"); } }); }); }; var requirejs = naver.common.gv.REQUIRE_JS; naver.common.load_js(window.require ? null : requirejs, startApplication, true, 150); })(); </script> <script> (function() { var $base = jQuery(\"._fe_dictionary\"); var $triggers = $base.find(\"._sap_trigger\"); var $trigger = url = api = text = null; $triggers.each(function(index) { $trigger = $triggers.eq(index); if ($trigger.attr(\"data-tts-api\")) { api = $trigger.data(\"tts-api\"); text = $trigger.data(\"tts-text\"); if (text) { url = api + \"&text=\" + text; } else { url = api; } $trigger.attr(\"data-audioid\", url); } }); var startApplication = function() { var require = window.require.config({ \"context\": \"search_common_modules\" }); require([\"AudioPlayer2\"], function() { var oAudioPlayer = new naver.common.AudioPlayer2({ \"$base\": $base }); }); }; naver.common.load_js(null, startApplication, true, 150); })(); </script> </section> <div class=\"_scrollLog\" data-slog-id=\"ldc_btm*67ABFLQXZcefjkpx\" style=\"visibility:hidden;height:0px;margin:0 28px\"></div><script>var g_uad = false; </script><div class=\"sc_new cs_common_simple _au_music_content_wrap case_rel color_16\"> <link rel=\"stylesheet\" type=\"text/css\" href=\"https://ssl.pstatic.net/sstatic/keypage/outside/scui/cs_common_module/css/cs_common_simple_250529.css\"> <link rel=\"stylesheet\" type=\"text/css\" href=\"https://ssl.pstatic.net/sstatic/keypage/outside/scui/cs_common_module/css/cs_common_color_250604.css\"> <div class=\"cm_top_wrap\"> <div class=\"title_area type_keep _title_area\"> <h2 class=\"title _title_ellipsis\" style=\"max-height: 48px;\" data-kgs-ellipsis> <span class=\"area_text_title\"><strong class=\"_text\">PYTHON</strong></span> <button type=\"button\" class=\"area_btn_expand _tail _sticky_tail\" style=\"display:none;\"> <span class=\"area_inner\"> <span class=\"blind\">펴고 접기</span> <span class=\"this_design_left\"></span> <span class=\"this_design_right\"></span> </span> </button> </h2> <div class=\"sub_title\"> <span class=\"txt\">노래</span> <span class=\"cm_bar\"></span> <span class=\"txt\">GOT7 (갓세븐)</span> <span class=\"cm_bar\"></span> <span class=\"txt\">2025.01.20.</span> </div> </div> <div class=\"api_save_group _keep_wrap\"> <a nocr onclick=\"goOtherTCR(this, 'a=nco_xgh*c.keep&r=1&i=00000000_0000022B576D');return false;\" href=\"#\" role=\"button\" class=\"btn_save _keep_trigger\" data-url=\"https://search.naver.com/search.naver?where=nexearch&sm=tab_etc&pkid=632&os=36394861&qvt=0&query=python\"> <i class=\"spnew ico_save\">문서 저장하기</i> </a> <div class=\"api_ly_save _keep_save_layer\"> <a nocr href=\"#\" role=\"button\" class=\"spnew_af item item_save _keep_save\" data-cr-on=\"a=nco_xgh*c.keepon&r=1&i=00000000_0000022B576D\" data-cr-off=\"a=nco_xgh*c.keepoff&r=1&i=00000000_0000022B576D\">Keep에 저장</a> <a nocr onclick=\"return goOtherCR(this, 'a=nco_xgh*c.keepmore&r=1&i=00000000_0000022B576D&u=' + urlencode(this.href));\" href=\"https://keep.naver.com/\" class=\"spnew_af item item_quick\" target=\"_blank\">Keep 바로가기</a> </div> </div> </div> <div class=\"cm_content_wrap\"> <div class=\"cm_content_area _cm_content_area_song_info\"> <div class=\"cm_info_box _sap_list _info_layer\"> <div class=\"middle_title\"> <h3 class=\"title\">곡정보</h3> </div> <div class=\"detail_info _sap_item\"> <div class=\"play_wrap\"> <a nocr onclick=\"goOtherTCR(this, 'a=nco_xgh*c.atraplay1&r=1&i=00000000_0000022B576D');return false;\" href=\"https://vibe.naver.com/track/88975372\" class=\"thumb_music _sap_trigger\" data-audioid=\"88975372\" data-source=\"vibe\" data-error-redirect-url=\"https://vibe.naver.com/track/88975372\" data-check-type=\"\"> <img src=\"https://search.pstatic.net/common?type=n&size=174x174&quality=95&direct=true&src=https%3A%2F%2Fmusicmeta-phinf.pstatic.net%2Falbum%2F032%2F663%2F32663852.jpg%3Ftype%3Dr204Fll%26v%3D20250221151016\" width=\"87\" height=\"87\" alt=\"앨범 이미지\" onerror=\"this.onerror=null;this.src='data:image/gif;base64,R0lGODlhAQABAIAAAAAAAP///yH5BAEAAAAALAAAAAABAAEAAAIBRAA7';this.alt='이미지없음';this.className='bg_nimg';\"> <span class=\"music_play_ico _music_play_ico\"><svg xmlns=\"http://www.w3.org/2000/svg\" width=\"12\" height=\"14\" viewBox=\"0 0 12 14\"> <g fill=\"none\" fill-rule=\"evenodd\"> <g fill=\"#4f6a8b\"> <path d=\"M7.629 3.783l2.806 4.474 2.37 3.78c.382.608.199 1.41-.41 1.792-.207.13-.446.198-.69.198H1.35c-.718 0-1.3-.582-1.3-1.3 0-.244.069-.484.199-.69L3.11 7.474l2.316-3.692c.382-.608 1.184-.792 1.792-.41.166.104.306.244.41.41z\" transform=\"translate(-78 -863) translate(9 589) translate(17 259) translate(0 1) translate(52 13)rotate(90 6.527 8.027)\"></path> </g> </g> </svg> <div class=\"load_wrap\"> <div class=\"load\"> <i class=\"dot dot1\"></i> <i class=\"dot dot2\"></i> <i class=\"dot dot3\"></i> <i class=\"dot dot4\"></i> <i class=\"dot dot5\"></i> <i class=\"dot dot6\"></i> </div> </div> <span class=\"u_hc _music_play_text\">음악재생</span></span> <div class=\"equalizer\"> <span class=\"bar1\"></span> <span class=\"bar2\"></span> <span class=\"bar3\"></span> <span class=\"bar4\"></span> </div> <div class=\"progressbar _progress\"> <div class=\"filler\"></div> <div class=\"spinner _spinner\"></div> <div class=\"mask\"></div> </div> </a> </div> <div class=\"text_expand text_center _ellipsis\" style=\"max-height:84px;\"> <span class=\"desc _text\"> Rainbow roses fancy ice<br/> 녹아내려 inside your eyes<br/> 현실 같은 꿈의 Site<br/> Feelings drifting like the tide<br/> <br/> I left my guard down for a minute<br/> I never play with feelings but I thought you were committed<br/> The way that I'm addicted is specific<br/> It's your vibe it's your mind it's the things I can't describe<br/> <br/> I've been running backwards<br/> Running backwards like a marathon<br/> 모든 순간 속에 네가 있어<br/> 제어할 수 없지<br/> 날 길들인 감각만이<br/> 자꾸 멋대로 No<br/> <br/> I know I'm an icon<br/> Watch me with the lights on<br/> But she got a hold on me like a python<br/> I don't wanna lose her<br/> Yeah she was my Future<br/> Shot to the chest I was falling for the shooter<br/> <br/> I don't wanna I don't wanna have to let her go<br/> I should move on I know<br/> I know I'm an icon<br/> 너 없인 다 lights off<br/> But she got a hold on me like a python<br/> <br/> (Yeah yeah)<br/> I gave you my time when I didn't have much<br/> All of my feelings swept under the rug<br/> I'm touring the world but I'm missing the one who held it down<br/> Music is how I've been venting now<br/> Broken glass I'm bleeding out<br/> Overseas I'm selling out<br/> <br/> Private planes I got taste I got seven golden rings<br/> My accountant called me up said the moneys stacked to space<br/> What a snake with them eyes I won't even try to lie<br/> I wish I could let you go I wish I could say goodbye<br/> <br/> I've been running backwards<br/> Running backwards like a marathon<br/> 모든 순간 속에 네가 있어<br/> 제어할 수 없지<br/> 날 길들인 감각만이<br/> 자꾸 멋대로 No<br/> <br/> I know I'm an icon<br/> Watch me with the lights on<br/> But she got a hold on me like a python<br/> I don't wanna lose her<br/> Yeah she was my Future<br/> Shot to the chest I was falling for the shooter<br/> <br/> I don't wanna I don't wanna have to let her go<br/> I should move on I know<br/> I know I'm an icon<br/> 너 없인 다 lights off<br/> But she got a hold on me like a python </span> <button onclick=\"tCR('a=nco_xgh*c.alyrics&r=1&i=00000000_0000022B576D');\" type=\"button\" class=\"story_more _tail\" style=\"display:inline-block;\">펼쳐보기</button> </div> </div> <div class=\"button_area\"> <div class=\"button_box\"> <ul class=\"type_border\"> <li> <a nocr onclick=\"goOtherTCR(this, 'a=nco_xgh*c.atraplay2&r=1&i=00000000_0000022B576D');return false;\" href=\"https://vibe.naver.com/track/88975372\" class=\"play_button_type _music_play_ico _btn_sap_trigger\" data-audioid=\"88975372\" data-source=\"vibe\" data-error-redirect-url=\"https://vibe.naver.com/track/88975372\" data-check-type=\"\"> <svg xmlns=\"http://www.w3.org/2000/svg\" width=\"12\" height=\"14\" viewBox=\"0 0 12 14\"> <g fill=\"none\" fill-rule=\"evenodd\"> <g> <path d=\"M7.629 3.783l2.806 4.474 2.37 3.78c.382.608.199 1.41-.41 1.792-.207.13-.446.198-.69.198H1.35c-.718 0-1.3-.582-1.3-1.3 0-.244.069-.484.199-.69L3.11 7.474l2.316-3.692c.382-.608 1.184-.792 1.792-.41.166.104.306.244.41.41z\" transform=\"translate(-78 -863) translate(9 589) translate(17 259) translate(0 1) translate(52 13) rotate(90 6.527 8.027)\"></path> </g> </g> </svg> <div class=\"load_wrap\"> <div class=\"load\"> <i class=\"dot dot1\"></i> <i class=\"dot dot2\"></i> <i class=\"dot dot3\"></i> <i class=\"dot dot4\"></i> <i class=\"dot dot5\"></i> <i class=\"dot dot6\"></i> </div> </div> <span class=\"text _music_play_text\">바로재생</span> </a> </li> </ul> </div> </div> <div class=\"info_check_area _cm_content_area_other_source\" data-kgs-collapse-info aria-expanded=\"false\"> <a onclick='return goOtherCR(this,&quot;a=nco_xgh*c.undefinedclick&r=1&i=&quot;+urlencode(&quot;00000000_0000022B576D&quot;)+&quot;&u=&quot;+urlencode(this.href));' href=\"https://vibe.naver.com/track/88975372\" class=\"ico_vibe _app_link\" target=\"_blank\"> <span class=\"blind\">naver VIBE</span> </a> <a nocr onclick=\"goOtherTCR(this, 'a=nco_xgh*c.asourceinfo&r=1&i=00000000_0000022B576D');return false;\" href=\"#\" data-kgs-collapse-toggle-info class=\"info_text\" role=\"button\">제공<i class=\"cm_ico_alert\"><span class=\"area_inner\"><span class=\"blind\">정보확인 내용 열고 닫기</span></span></i></a> <div class=\"cm_ly_api_info\" style=\"display:none;\" data-kgs-collapse-panel-info> <p class=\"area_dsc\">네이버가 운영하는 음악 서비스입니다.</p> <button type=\"button\" class=\"area_btn_close\" onclick=\"tCR('a=nco_xgh*c.asourceinfoclose&r=1&i=00000000_0000022B576D');\" data-kgs-collapse-toggle-info><span class=\"area_inner\"><span class=\"blind\">정보확인 레이어 닫기</span></span></button> </div> <a onclick='return goOtherCR(this,&quot;a=nco_xgh*c.undefinedclick&r=1&i=&quot;+urlencode(&quot;00000000_0000022B576D&quot;)+&quot;&u=&quot;+urlencode(this.href));' href=\"?where=web&sm=tab_clk.musftc&qvt=0&query=%EB%AE%A4%EC%A7%81%20nsite%3Anaver.com\" class=\"other_info align_right\">다른 사이트 더보기</a> </div> <script>(function(){var startApplication=function(){var require=window.require.config({\"context\":\"xgh\",\"paths\":{\"@lapin-plus/info-layer\":\"https://ssl.pstatic.net/sstatic/au/m/lapin-plus/info-layer/index-0.0.2.js\".replace(/\\.js$/,\"\")}});define(\"jquery\",[],function(){return jQuery;});define(\"jQuery\",[],function(){return jQuery;});require([\"jquery\",\"@lapin-plus/info-layer\"],function($,createInfoLayer){var $contentWrap=$(\"._au_music_content_wrap\");var $base=$contentWrap.find(\"._cm_content_area_song_info\");var infoLayer=createInfoLayer({\"el\":$base.find(\"._info_layer\"),\"collapse\":{\"selector\":\"[data-kgs-collapse-info]\",\"selectorToggle\":\"[data-kgs-collapse-toggle-info]\",\"selectorPanel\":\"[data-kgs-collapse-panel-info]\"}});infoLayer.events.on(\"toggle\",function(e){$(e.panel).toggle(e.opened);});});};var requirejs=\"https://ssl.pstatic.net/sstatic/au/module/requirejs/require-2.3.5.js\";nhn.common.load_js(window.require?null:requirejs,startApplication,true,150);})();</script> <div class=\"answer_more\"> <a nocr onclick=\"return goOtherCR(this, 'a=nco_xgh*c.atotop&r=1&i=00000000_0000022B576D&u=' + urlencode(this.href));\" href=\"?where=nexearch&sm=tab_etc&mra=bkhH&x_csa=%7B%22theme%22%3A%22music_top%22%2C%20%22pkid%22%3A%22632%22%7D&pkid=632&os=36394861&qvt=0&query=python\"> <div class=\"link_box\"> <span class=\"link_text type_flex\"><span class=\"this_text\">python</span> <span class=\"text_more\">곡정보 더보기</span></span> </div> </a> </div> </div> </div> </div> </div> <script>(function(){var startApplication=function(){var require=window.require.config({\"context\":\"xgh\",\"paths\":{\"multi-ellipsis\":\"https://ssl.pstatic.net/sstatic/au/module/multi-ellipsis/multi-ellipsis-0.1.15.min\"}});define(\"jquery\",[],function(){return jQuery;});define(\"jQuery\",[],function(){return jQuery;});require([\"jquery\",\"multi-ellipsis\"],function($,Ellipsis){var $contentWrap=$(\"._au_music_content_wrap\");var $base=$contentWrap.find(\"._cm_content_area_song_info\");var $ellipsis=$base.find(\"._ellipsis\");var $tail=$base.find(\"._tail\");var initialMaxHeight=parseInt($ellipsis.css(\"max-height\"),10);var expectedLineHeight=24;var lineAmount=15;var ellipsis=new Ellipsis.HtmlTextEllipsis($ellipsis);function adjustEllipsisHeight(newMaxHeight){$ellipsis.css(\"max-height\",newMaxHeight);ellipsis.originalCss=ellipsis.originalCss.replace(/max-height: ?[0-9]+px/,\"max-height: \"+newMaxHeight+\"px\");ellipsis.originalHeight=newMaxHeight;ellipsis.revert().work();}$tail.on(\"click\",function(){if(ellipsis.isApplied){var maxHeight=parseInt(ellipsis.$el.css(\"max-height\"),10);var newMaxHeight=(maxHeight+expectedLineHeight*lineAmount);adjustEllipsisHeight(newMaxHeight);if(!ellipsis.$tail.is(\":visible\")){ellipsis.expand();$tail.show().addClass(\"state_open\").text(\"접기\");}}else{$tail.removeClass(\"state_open\").text(\"펼쳐보기\");adjustEllipsisHeight(initialMaxHeight);}});$(window).on(\"rotate\",function(){if(ellipsis.isApplied){ellipsis.revert().work();}else{ellipsis.work().expand();}$tail.toggle(ellipsis.isApplied);});});};var requirejs=\"https://ssl.pstatic.net/sstatic/au/module/requirejs/require-2.3.5.js\";nhn.common.load_js(window.require?null:requirejs,startApplication,true,150);})();</script> <script>(function(){var startAudioApplication=function(){var require=window.require.config({\"context\":\"search_common_modules\"});define(\"jquery\",[],function(){return jQuery;});define(\"jQuery\",[],function(){return jQuery;});require([\"jquery\",\"AudioPlayer2\"],function($){var $contentWrap=$(\"._au_music_content_wrap\");var $base=$contentWrap.find(\"._cm_content_area_song_info\");var $playTrigger=$base.find(\"._sap_trigger,._btn_sap_trigger\");if($playTrigger.data(\"checkType\")===\"login\"){if(document.cookie.indexOf(\"NID_SES\")!==-1){$playTrigger.each(function(i,el){$(el).attr(\"data-check-type\",\"young\").removeClass(\"_sap_trigger\").addClass(\"_btn_sap_trigger\");});$base.find(\"._certification_error_login\").hide();$base.find(\"._certification_error_young\").show();}else{$base.find(\"._certification_error_login\").show();$base.find(\"._certification_error_young\").hide();}}var $progress=$base.find(\"._progress\");var $spinner=$base.find(\"._spinner\");var $playIco=$base.find(\"._music_play_ico\");var $playText=$base.find(\"._music_play_text\");function setPlayState(isPlaying){$playIco.removeClass(\"loading\");if(isPlaying){$playIco.addClass(\"pause\");$playText.addClass(\"pause\");$playText.text(\"일시정지\");}else{$playIco.removeClass(\"pause\");$playText.removeClass(\"pause\");$playText.eq(0).text(\"음악재생\");$playText.eq(1).text(\"바로재생\");$progress.removeClass(\"half\");$spinner.attr(\"style\",\"transform : rotate(0)\");}}var player;if($contentWrap[0]._audioPlayer){player=$contentWrap[0]._audioPlayer;}else{player=new naver.common.AudioPlayer2({\"$base\":$contentWrap});$contentWrap[0]._audioPlayer=player;}function isMyArea($item){return $base.has($item).length;}player.on({\"triggerClick\":function(e){if(!isMyArea(e.$item)){return;}$playIco.eq(1).addClass(\"loading\");$playText.text(\"로딩중\");},\"timeupdate\":function(e){if(!isMyArea(e.$item)){return;}var deg=e.playingTime/e.totalTime*360;$progress.toggleClass(\"half\",deg>=180);$spinner.attr(\"style\",\"transform:rotate(\"+deg+\"deg);-ms-transform:rotate(\"+deg+\"deg)\");},\"playing\":function(e){if(!isMyArea(e.$item)){return;}setPlayState(true);e.$item.addClass(\"music_play\");},\"pause\":function(e){setPlayState(false);e.$item.removeClass(\"music_play\");},\"ended\":function(e){setPlayState(false);e.$item.removeClass(\"music_play\");}});$base.on(\"click\",\"._btn_sap_trigger\",function(e){e.preventDefault();if($playIco.hasClass(\"pause\")){player.closeAllAudio();}else{var agent=eg.agent();var isIE10Over=false;if(agent.browser.name===\"ie\"&&parseFloat(agent.browser.version)>=11){isIE10Over=true;}var checkType=$(e.currentTarget).attr(\"data-check-type\");var encodeUrl=encodeURIComponent(document.URL);if(checkType===\"auth\"){if(window.confirm(\"네이버의 그린인터넷 캠페인에 따라 연령 인증이 필요합니다. 인증 페이지로 이동하시겠습니까?\")){player.closeAllAudio();location.href=\"https://nid.naver.com/mobile/user/help/realNameCheck.nhn?type=11&a_version=2&rurl=\"+encodeUrl+\"surl=\"+encodeUrl;}}else if(checkType===\"login\"){if(window.confirm(\"성인 인증이 필요한 서비스입니다. 로그인 하시겠습니까?\")){player.closeAllAudio();location.href=\"https://nid.naver.com/nidlogin.login?svctype=262272&a_version=2&viewtype=1&url=\"+encodeUrl+\"&surl=\"+encodeUrl;}}else if(checkType===\"young\"){alert(\"해당 서비스는 19세 미만의 청소년은 감상하실 수 없습니다\");}else if(!naver.common.AudioPlayer2.isSupported()||isIE10Over){var errorUrl=$(e.currentTarget).attr(\"data-error-redirect-url\")||$(e.currentTarget).attr(\"href\");if(errorUrl){location.href=errorUrl;}else{window.alert(\"지원하지 않는 브라우저입니다. 최신 버전의 Chrome, Whale 브라우저에서 정상적으로 사용하실 수 있습니다.\");}}else{naver.common.AudioPlayer2.closeAllAudio();if(player._$root){$playIco.eq(1).addClass(\"loading\");$playText.text(\"로딩중\");player.seekAudio($base.find(\"._sap_item\").eq(0),0);}}}});});};var requirejs=\"https://ssl.pstatic.net/sstatic/au/module/requirejs/require-2.3.5.js\";naver.common.load_js(window.require?null:requirejs,startAudioApplication,true,150);})();</script>  <div class=\"_scrollLog\" data-slog-id=\"nco_xgh*c\" style=\"visibility:hidden;height:0px;margin:0 28px\"></div><link rel=\"stylesheet\" href=\"https://ssl.pstatic.net/sstatic/search/pc/css/sp_nimage_250424.css\"><script>var imageSearchModulePaths={ImageSearchPortal:\"https://ssl.pstatic.net/sstatic/fe/sfe/image-search/pc-portal/ImageSearchPortal_231027.js\".replace(/\\.js$/,\"\")},imageSearchServerPaths={report:\"https://s.search.naver.com/n/srm/report\"}</script><section class=\"sc_new sp_nimage _fe_image_portal_root _prs_img_bas\" data-image-viewer-slot=\"slot1\"><div class=\"api_subject_bx\"><div class=\"mod_title_area\"><div class=\"title_wrap\"><h2 class=\"title\">이미지</h2></div><div class=\"title_sub\"><div class=\"report_wrap _fe_image_portal_list_report_root\"><a role=\"button\" href=\"#\" class=\"btn_report _fe_image_portal_list_report_execute_button\" onclick='return tCR(\"a=img_bas.report\")'>이미지 신고하기</a>\n",
            "<span class=\"txt_report\">신고할 이미지를 선택 후 확인 버튼을 눌러주세요.</span>\n",
            "<a role=\"button\" href=\"#\" class=\"btn_verify _fe_image_portal_list_report_confirm_button\" onclick='return tCR(\"a=img_bas.reportok\")'>확인</a>\n",
            "<a role=\"button\" href=\"#\" class=\"btn_verify _fe_image_portal_list_report_cancel_button\" onclick='return tCR(\"a=img_bas.reportno\")'>취소</a><form id=\"ImagePortalListReportForm\" target=\"imageportallistreport\" action=\"https://s.search.naver.com/n/srm/report\" method=\"post\" style=\"display:none\"><textarea name=\"sendData\" cols=\"100\" rows=\"100\"></textarea></form><iframe name=\"imageportallistreport\" style=\"display: none\"></iframe></div></div></div><div class=\"group_tag_area\"><div class=\"mod_group_tag no_scroll type_ani _fe_image_portal_tag_root\"><div class=\"mod_tag_container _fe_image_portal_tag_container\"><div class=\"mod_tag_container_inner _fe_image_portal_tag_container_inner\"><a href=\"?pq=python&amp;query=python+%EB%B1%80&amp;sm=tab_imt&amp;where=image\" class=\"mod_tag\" onclick='return goOtherCR(this,\"a=img_bas*T.click&u=\"+urlencode(this.href))' role=\"button\"><span class=\"t\"><span class=\"thumb\"><img src=\"https://search.pstatic.net/sunny/?src=https%3A%2F%2Fwallpapers.com%2Fimages%2Fhigh%2Fcute-snake-pictures-8tn5hur0akzsjagn.webp&amp;type=f54_54\" onerror='this.src=\"data:image/gif;base64,R0lGODlhAQABAIAAAAAAAP///yH5BAEAAAAALAAAAAABAAEAAAIBRAA7\",this.className=\"bg_nimg_c\"' alt width=\"28\" height=\"28\">\n",
            "</span>뱀\n",
            "</span></a><a href=\"?pq=python&amp;query=python+snake&amp;sm=tab_imt&amp;where=image\" class=\"mod_tag\" onclick='return goOtherCR(this,\"a=img_bas*T.click&u=\"+urlencode(this.href))' role=\"button\"><span class=\"t\"><span class=\"thumb\"><img src=\"https://search.pstatic.net/sunny/?src=https%3A%2F%2Fstatic01.nyt.com%2Fimages%2F2022%2F06%2F23%2Fmultimedia%2F23xp-python%2F23xp-python-videoSixteenByNine1050.jpg&amp;type=f54_54\" onerror='this.src=\"data:image/gif;base64,R0lGODlhAQABAIAAAAAAAP///yH5BAEAAAAALAAAAAABAAEAAAIBRAA7\",this.className=\"bg_nimg_c\"' alt width=\"28\" height=\"28\">\n",
            "</span>snake\n",
            "</span></a><a href=\"?pq=python&amp;query=python+logo&amp;sm=tab_imt&amp;where=image\" class=\"mod_tag\" onclick='return goOtherCR(this,\"a=img_bas*T.click&u=\"+urlencode(this.href))' role=\"button\"><span class=\"t\"><span class=\"thumb\"><img src=\"https://search.pstatic.net/common/?src=http%3A%2F%2Fblogfiles.naver.net%2FMjAyMjA5MDRfMTY0%2FMDAxNjYyMjc4MDkzMTE4.fK9B-gNhC4WpZ5VK8n2jMBTnpK4uHTQG9ufPATmKDLYg.td1_OF7XbJBNUO0n9ILZZQX7V-S2o3VWm4QATMmzJC0g.JPEG.diegesis2%2FIMG_9631.JPG&amp;type=f54_54\" onerror='this.src=\"data:image/gif;base64,R0lGODlhAQABAIAAAAAAAP///yH5BAEAAAAALAAAAAABAAEAAAIBRAA7\",this.className=\"bg_nimg_c\"' alt width=\"28\" height=\"28\">\n",
            "</span>logo\n",
            "</span></a><a href=\"?pq=python&amp;query=python+%EB%9C%BB&amp;sm=tab_imt&amp;where=image\" class=\"mod_tag\" onclick='return goOtherCR(this,\"a=img_bas*T.click&u=\"+urlencode(this.href))' role=\"button\"><span class=\"t\"><span class=\"thumb\"><img src=\"https://search.pstatic.net/common/?src=http%3A%2F%2Fblogfiles.naver.net%2FMjAyMzA0MjBfMjE1%2FMDAxNjgxOTU2NTgyNzA4.fIxpNC0mpg2Of_m84K2TbhFu1E9M-D-G0s69QHaKvrUg.ZfhU4obxpdwnCdFz0G9M6vgRnNJG3N1OX_nOxhJIAmMg.PNG.jjenc_m%2F%25BC%25AD%25B8%25E9%25C4%25DA%25B5%25F9%25C7%25D0%25BF%25F8.png&amp;type=f54_54\" onerror='this.src=\"data:image/gif;base64,R0lGODlhAQABAIAAAAAAAP///yH5BAEAAAAALAAAAAABAAEAAAIBRAA7\",this.className=\"bg_nimg_c\"' alt width=\"28\" height=\"28\">\n",
            "</span>뜻\n",
            "</span></a><a href=\"?pq=python&amp;query=python+%EC%84%A4%EC%B9%98&amp;sm=tab_imt&amp;where=image\" class=\"mod_tag\" onclick='return goOtherCR(this,\"a=img_bas*T.click&u=\"+urlencode(this.href))' role=\"button\"><span class=\"t\"><span class=\"thumb\"><img src=\"https://search.pstatic.net/common/?src=http%3A%2F%2Fblogfiles.naver.net%2FMjAyMTA1MjJfMjU0%2FMDAxNjIxNjkzNDg4ODgw.pMoAfk0vpJ7n7lC_mnLNLRT1t7IJNbmXun-RsvY3q7og.IoBE9e2WlHX8_awlo4L_N6nTjQklA1dK4JZkZ8HejDwg.PNG.lookking1159%2Fimage.png&amp;type=f54_54\" onerror='this.src=\"data:image/gif;base64,R0lGODlhAQABAIAAAAAAAP///yH5BAEAAAAALAAAAAABAAEAAAIBRAA7\",this.className=\"bg_nimg_c\"' alt width=\"28\" height=\"28\">\n",
            "</span>설치\n",
            "</span></a><a href=\"?pq=python&amp;query=python+%EC%95%84%EC%9D%B4%EC%BD%98&amp;sm=tab_imt&amp;where=image\" class=\"mod_tag\" onclick='return goOtherCR(this,\"a=img_bas*T.click&u=\"+urlencode(this.href))' role=\"button\"><span class=\"t\"><span class=\"thumb\"><img src=\"https://search.pstatic.net/sunny/?src=https%3A%2F%2Fcdn-icons-png.freepik.com%2F256%2F1387%2F1387537.png&amp;type=f54_54\" onerror='this.src=\"data:image/gif;base64,R0lGODlhAQABAIAAAAAAAP///yH5BAEAAAAALAAAAAABAAEAAAIBRAA7\",this.className=\"bg_nimg_c\"' alt width=\"28\" height=\"28\">\n",
            "</span>아이콘\n",
            "</span></a><a href=\"?pq=python&amp;query=ball+python&amp;sm=tab_imt&amp;where=image\" class=\"mod_tag\" onclick='return goOtherCR(this,\"a=img_bas*T.click&u=\"+urlencode(this.href))' role=\"button\"><span class=\"t\"><span class=\"thumb\"><img src=\"https://search.pstatic.net/sunny/?src=https%3A%2F%2Fi.pinimg.com%2F736x%2F5a%2Fbe%2F3d%2F5abe3d83d586314b9e363b7ccaec15cb--ball-python-reptile.jpg&amp;type=f54_54\" onerror='this.src=\"data:image/gif;base64,R0lGODlhAQABAIAAAAAAAP///yH5BAEAAAAALAAAAAABAAEAAAIBRAA7\",this.className=\"bg_nimg_c\"' alt width=\"28\" height=\"28\">\n",
            "</span>ball\n",
            "</span></a><a href=\"?pq=python&amp;query=python+%ED%94%84%EB%A1%9C%EA%B7%B8%EB%9E%A8&amp;sm=tab_imt&amp;where=image\" class=\"mod_tag\" onclick='return goOtherCR(this,\"a=img_bas*T.click&u=\"+urlencode(this.href))' role=\"button\"><span class=\"t\"><span class=\"thumb\"><img src=\"https://search.pstatic.net/common/?src=http%3A%2F%2Fblogfiles.naver.net%2FMjAyNDA0MTVfMTc3%2FMDAxNzEzMTkyODc3OTI4.NWXSmcTM8ZZrZvIytYBmdDDUdiE3tyrf3SUnDbvDt0gg.hRmrTexZN6v58WlDutwykumJj1jsGm_sQjGZ-1ZHIrog.PNG%2Fimage.png&amp;type=f54_54\" onerror='this.src=\"data:image/gif;base64,R0lGODlhAQABAIAAAAAAAP///yH5BAEAAAAALAAAAAABAAEAAAIBRAA7\",this.className=\"bg_nimg_c\"' alt width=\"28\" height=\"28\">\n",
            "</span>프로그램\n",
            "</span></a><a href=\"?pq=python&amp;query=reticulated+python&amp;sm=tab_imt&amp;where=image\" class=\"mod_tag\" onclick='return goOtherCR(this,\"a=img_bas*T.click&u=\"+urlencode(this.href))' role=\"button\"><span class=\"t\"><span class=\"thumb\"><img src=\"https://search.pstatic.net/common/?src=http%3A%2F%2Fcafefiles.naver.net%2FMjAxODAyMDFfMTE2%2FMDAxNTE3NDk1NzQyOTEz.pxkJfnT0hEgITewveuxV23tTVigd1jNO4uUem3N7e-Mg.34Y2NexU8uSkxaDe5caiTi-SZUWqSRrgfTEyLlffmDAg.JPEG.seikuriddo%2Ff6d69eaed689d94463f2e77b107dcb4c.jpg&amp;type=f54_54\" onerror='this.src=\"data:image/gif;base64,R0lGODlhAQABAIAAAAAAAP///yH5BAEAAAAALAAAAAABAAEAAAIBRAA7\",this.className=\"bg_nimg_c\"' alt width=\"28\" height=\"28\">\n",
            "</span>reticulated\n",
            "</span></a><a href=\"?pq=python&amp;query=rock+python&amp;sm=tab_imt&amp;where=image\" class=\"mod_tag\" onclick='return goOtherCR(this,\"a=img_bas*T.click&u=\"+urlencode(this.href))' role=\"button\"><span class=\"t\"><span class=\"thumb\"><img src=\"https://search.pstatic.net/sunny/?src=https%3A%2F%2Fupload.wikimedia.org%2Fwikipedia%2Fcommons%2Fthumb%2Fb%2Fbd%2FPython%2527s_picnic_-_Flickr_-_mango_atchar.jpg%2F640px-Python%2527s_picnic_-_Flickr_-_mango_atchar.jpg&amp;type=f54_54\" onerror='this.src=\"data:image/gif;base64,R0lGODlhAQABAIAAAAAAAP///yH5BAEAAAAALAAAAAABAAEAAAIBRAA7\",this.className=\"bg_nimg_c\"' alt width=\"28\" height=\"28\">\n",
            "</span>rock\n",
            "</span></a><a href=\"?pq=python&amp;query=python+gui&amp;sm=tab_imt&amp;where=image\" class=\"mod_tag\" onclick='return goOtherCR(this,\"a=img_bas*T.click&u=\"+urlencode(this.href))' role=\"button\"><span class=\"t\"><span class=\"thumb\"><img src=\"https://search.pstatic.net/common/?src=http%3A%2F%2Fblogfiles.naver.net%2FMjAyMzA4MjlfMTQ0%2FMDAxNjkzMzAwMDQ3NjI5.APQH43oGfTPpjeWkRFKVC-gU-ItW5EULZxqwsZiEA5Ug.3q_2xf1cvCrZHfPA0U-UHSRFZclSa3z4aCXPAV2Dsmgg.PNG.gate9090%2Fimage.png&amp;type=f54_54\" onerror='this.src=\"data:image/gif;base64,R0lGODlhAQABAIAAAAAAAP///yH5BAEAAAAALAAAAAABAAEAAAIBRAA7\",this.className=\"bg_nimg_c\"' alt width=\"28\" height=\"28\">\n",
            "</span>gui\n",
            "</span></a><a href=\"?pq=python&amp;query=python+%EC%BD%94%EB%93%9C&amp;sm=tab_imt&amp;where=image\" class=\"mod_tag\" onclick='return goOtherCR(this,\"a=img_bas*T.click&u=\"+urlencode(this.href))' role=\"button\"><span class=\"t\"><span class=\"thumb\"><img src=\"https://search.pstatic.net/sunny/?src=https%3A%2F%2Fvelog.velcdn.com%2Fimages%2Fgmelan%2Fpost%2Ff6262756-6f18-4c03-af00-fecee97a79f9%2Fimage.png&amp;type=f54_54\" onerror='this.src=\"data:image/gif;base64,R0lGODlhAQABAIAAAAAAAP///yH5BAEAAAAALAAAAAABAAEAAAIBRAA7\",this.className=\"bg_nimg_c\"' alt width=\"28\" height=\"28\">\n",
            "</span>코드\n",
            "</span></a><a href=\"?pq=python&amp;query=python+code&amp;sm=tab_imt&amp;where=image\" class=\"mod_tag\" onclick='return goOtherCR(this,\"a=img_bas*T.click&u=\"+urlencode(this.href))' role=\"button\"><span class=\"t\"><span class=\"thumb\"><img src=\"https://search.pstatic.net/common/?src=http%3A%2F%2Fblogfiles.naver.net%2FMjAyMzAzMjVfOTAg%2FMDAxNjc5NzIwNTg1NjU1.n22kATCitvFyhoPxtpjDd-KAES2q_EM_a-zVa4vAk_gg.HVTUPo_yTPkKukHH3l4p4meDtC3jBjJ-_9LIVIv-UjQg.PNG.choijun0128%2Fimage.png&amp;type=f54_54\" onerror='this.src=\"data:image/gif;base64,R0lGODlhAQABAIAAAAAAAP///yH5BAEAAAAALAAAAAABAAEAAAIBRAA7\",this.className=\"bg_nimg_c\"' alt width=\"28\" height=\"28\">\n",
            "</span>code\n",
            "</span></a><a href=\"?pq=python&amp;query=python+print&amp;sm=tab_imt&amp;where=image\" class=\"mod_tag\" onclick='return goOtherCR(this,\"a=img_bas*T.click&u=\"+urlencode(this.href))' role=\"button\"><span class=\"t\"><span class=\"thumb\"><img src=\"https://search.pstatic.net/common/?src=http%3A%2F%2Fblogfiles.naver.net%2FMjAyMTAxMDZfODkg%2FMDAxNjA5OTIxNjY5NTg0.xpWiWbP12u4nMtbIljD76KWrh1UOyhw2fmfbgAQKmE8g.I9cpiQX-Qs3hN5v69jg6HBPRTr64IjTvAoZUf3Dns6wg.PNG.gang5991%2Fimage.png&amp;type=f54_54\" onerror='this.src=\"data:image/gif;base64,R0lGODlhAQABAIAAAAAAAP///yH5BAEAAAAALAAAAAABAAEAAAIBRAA7\",this.className=\"bg_nimg_c\"' alt width=\"28\" height=\"28\">\n",
            "</span>print\n",
            "</span></a><a href=\"?pq=python&amp;query=python+%EC%BD%94%EB%94%A9&amp;sm=tab_imt&amp;where=image\" class=\"mod_tag\" onclick='return goOtherCR(this,\"a=img_bas*T.click&u=\"+urlencode(this.href))' role=\"button\"><span class=\"t\"><span class=\"thumb\"><img src=\"https://search.pstatic.net/common/?src=http%3A%2F%2Fblogfiles.naver.net%2FMjAyNDA5MTdfNCAg%2FMDAxNzI2NTc3MTE1OTk2.zyBsoyMgcfMqwHTNlOY1FaU3mlXnoxJ61v6rDdrS2RAg.sYGSA2ATfJ0IPWXRPy9OJXITaZdMA9P_dvrvimFgxIEg.PNG%2Fimage.png&amp;type=f54_54\" onerror='this.src=\"data:image/gif;base64,R0lGODlhAQABAIAAAAAAAP///yH5BAEAAAAALAAAAAABAAEAAAIBRAA7\",this.className=\"bg_nimg_c\"' alt width=\"28\" height=\"28\">\n",
            "</span>코딩\n",
            "</span></a><a href=\"?pq=python&amp;query=python+%EA%B8%B0%EC%B4%88&amp;sm=tab_imt&amp;where=image\" class=\"mod_tag\" onclick='return goOtherCR(this,\"a=img_bas*T.click&u=\"+urlencode(this.href))' role=\"button\"><span class=\"t\"><span class=\"thumb\"><img src=\"https://search.pstatic.net/common/?src=http%3A%2F%2Fblogfiles.naver.net%2FMjAyMzA2MDVfMTg2%2FMDAxNjg1OTU0NDgwNjYx.xPitoNAL4Yljos64EYs0xopNhYsCEuKuR250FXvsmu4g.40_zc14o1M-leDVf-wWNdIYxl6mDtqhyBLn0S3e9GDkg.PNG.kimkim7142%2Fimage.png&amp;type=f54_54\" onerror='this.src=\"data:image/gif;base64,R0lGODlhAQABAIAAAAAAAP///yH5BAEAAAAALAAAAAABAAEAAAIBRAA7\",this.className=\"bg_nimg_c\"' alt width=\"28\" height=\"28\">\n",
            "</span>기초\n",
            "</span></a><a href=\"?pq=python&amp;query=python+flask&amp;sm=tab_imt&amp;where=image\" class=\"mod_tag\" onclick='return goOtherCR(this,\"a=img_bas*T.click&u=\"+urlencode(this.href))' role=\"button\"><span class=\"t\"><span class=\"thumb\"><img src=\"https://search.pstatic.net/common/?src=http%3A%2F%2Fblogfiles.naver.net%2FMjAyNDAyMDVfODEg%2FMDAxNzA3MTEzMDUxNjU1.d4JNsfNf9VFdFZqBmnF_SToD1beLmtlXSHyIe_wcFmAg.WWDP2cov-8WUmVDtyZJf0gmtDqulZ_DpkGw3Yt19vQEg.PNG.foxmy6131%2Fflask.png&amp;type=f54_54\" onerror='this.src=\"data:image/gif;base64,R0lGODlhAQABAIAAAAAAAP///yH5BAEAAAAALAAAAAABAAEAAAIBRAA7\",this.className=\"bg_nimg_c\"' alt width=\"28\" height=\"28\">\n",
            "</span>flask\n",
            "</span></a><a href=\"?pq=python&amp;query=python+for&amp;sm=tab_imt&amp;where=image\" class=\"mod_tag\" onclick='return goOtherCR(this,\"a=img_bas*T.click&u=\"+urlencode(this.href))' role=\"button\"><span class=\"t\"><span class=\"thumb\"><img src=\"https://search.pstatic.net/common/?src=http%3A%2F%2Fblogfiles.naver.net%2FMjAyMzA3MDNfMTE4%2FMDAxNjg4Mzc2NjQ1NjMy._31ZQV1Jm0fDoZhtRHdy-HzsD470WA5_3HQNZsoJOfUg.bJ2Z8zKXn4MXVru6vokarFuRcDZX-sFOYW0Gh0VkIu8g.PNG.ozimon%2Fimage.png&amp;type=f54_54\" onerror='this.src=\"data:image/gif;base64,R0lGODlhAQABAIAAAAAAAP///yH5BAEAAAAALAAAAAABAAEAAAIBRAA7\",this.className=\"bg_nimg_c\"' alt width=\"28\" height=\"28\">\n",
            "</span>for\n",
            "</span></a><a href=\"?pq=python&amp;query=python+pandas&amp;sm=tab_imt&amp;where=image\" class=\"mod_tag\" onclick='return goOtherCR(this,\"a=img_bas*T.click&u=\"+urlencode(this.href))' role=\"button\"><span class=\"t\"><span class=\"thumb\"><img src=\"https://search.pstatic.net/common/?src=http%3A%2F%2Fblogfiles.naver.net%2FMjAyMjExMDlfMjkw%2FMDAxNjY3OTYyMTg3NjAz.O0ye6SrUmjrNjvYot_jOSRuvb_qav7zvUapxlGhuP-4g.gOK21h0QcFIG5-fk7Wjle11GR1XxJQDwgpd436USANMg.PNG.jang0_0yw%2F%25B1%25D7%25B8%25B21.png&amp;type=f54_54\" onerror='this.src=\"data:image/gif;base64,R0lGODlhAQABAIAAAAAAAP///yH5BAEAAAAALAAAAAABAAEAAAIBRAA7\",this.className=\"bg_nimg_c\"' alt width=\"28\" height=\"28\">\n",
            "</span>pandas\n",
            "</span></a><a href=\"?pq=python&amp;query=python+django&amp;sm=tab_imt&amp;where=image\" class=\"mod_tag\" onclick='return goOtherCR(this,\"a=img_bas*T.click&u=\"+urlencode(this.href))' role=\"button\"><span class=\"t\"><span class=\"thumb\"><img src=\"https://search.pstatic.net/common/?src=http%3A%2F%2Fblogfiles.naver.net%2FMjAyMjA1MjdfOTYg%2FMDAxNjUzNjM3MDcxNzg5.fx0uUl7di8U_j5L_ZXwRxnzf3Zt_4hIsHM1ZbyfvyBkg.2WoLYg3AHNM33OlcvRWA3El8UePzWoj2ZMH6NlHchUEg.PNG.ihnho0322%2F%25C1%25A6%25B8%25F1%25C0%25BB_%25C0%25D4%25B7%25C2%25C7%25D8%25C1%25D6%25BC%25BC%25BF%25E4_-001_%25281%2529.png&amp;type=f54_54\" onerror='this.src=\"data:image/gif;base64,R0lGODlhAQABAIAAAAAAAP///yH5BAEAAAAALAAAAAABAAEAAAIBRAA7\",this.className=\"bg_nimg_c\"' alt width=\"28\" height=\"28\">\n",
            "</span>django\n",
            "</span></a><a href=\"?pq=python&amp;query=python+%EC%8B%A4%ED%96%89&amp;sm=tab_imt&amp;where=image\" class=\"mod_tag\" onclick='return goOtherCR(this,\"a=img_bas*T.click&u=\"+urlencode(this.href))' role=\"button\"><span class=\"t\"><span class=\"thumb\"><img src=\"https://search.pstatic.net/common/?src=http%3A%2F%2Fblogfiles.naver.net%2FMjAxOTA1MDFfOTIg%2FMDAxNTU2Njg3OTQ4MjY3.U31u5t1V-bhECtGn7g_JvQUqDuGNxUlDAVO1BuuOLcog.SUaSy_Yz47OUWTwuWwCwnuaBS7FYxkamK8o7uBdHUEEg.PNG.sangja84%2FPython_%25C7%25C1%25B7%25CE%25B1%25D7%25B7%25A5_%25BD%25C7%25C7%25E0%25C7%25CF%25B1%25E2_%2528in_cmd%2529.png&amp;type=f54_54\" onerror='this.src=\"data:image/gif;base64,R0lGODlhAQABAIAAAAAAAP///yH5BAEAAAAALAAAAAABAAEAAAIBRAA7\",this.className=\"bg_nimg_c\"' alt width=\"28\" height=\"28\">\n",
            "</span>실행\n",
            "</span></a><a href=\"?pq=python&amp;query=python+%EB%AC%B8%EB%B2%95&amp;sm=tab_imt&amp;where=image\" class=\"mod_tag\" onclick='return goOtherCR(this,\"a=img_bas*T.click&u=\"+urlencode(this.href))' role=\"button\"><span class=\"t\"><span class=\"thumb\"><img src=\"https://search.pstatic.net/common/?src=http%3A%2F%2Fblogfiles.naver.net%2FMjAyMDA2MjBfMTE4%2FMDAxNTkyNjU1MTIwMDI1.Tv35u3ZtH_sZxmHogSnVw5T_6_rq4WtCzkaybOdqk2Ig.mZWnvmflduKp60JlHP_rarSvK8kKJ4M2vptp0LDXwOAg.JPEG.swbobos%2F22.jpg&amp;type=f54_54\" onerror='this.src=\"data:image/gif;base64,R0lGODlhAQABAIAAAAAAAP///yH5BAEAAAAALAAAAAABAAEAAAIBRAA7\",this.className=\"bg_nimg_c\"' alt width=\"28\" height=\"28\">\n",
            "</span>문법\n",
            "</span></a><a href=\"?pq=python&amp;query=python+%ED%95%A8%EC%88%98&amp;sm=tab_imt&amp;where=image\" class=\"mod_tag\" onclick='return goOtherCR(this,\"a=img_bas*T.click&u=\"+urlencode(this.href))' role=\"button\"><span class=\"t\"><span class=\"thumb\"><img src=\"https://search.pstatic.net/common/?src=http%3A%2F%2Fblogfiles.naver.net%2FMjAyMTA3MDVfMjE5%2FMDAxNjI1NDY1ODU5MjQ1.ynNRxenXsKpZrcSCxReqB0HiE4aHXeNymncngdZh82sg.7o4usGYf0h1WLw7W0hJ8iUVMqXKx5kjtOJFSF-ipFdMg.PNG.jjgweb951101%2Fimage.png&amp;type=f54_54\" onerror='this.src=\"data:image/gif;base64,R0lGODlhAQABAIAAAAAAAP///yH5BAEAAAAALAAAAAABAAEAAAIBRAA7\",this.className=\"bg_nimg_c\"' alt width=\"28\" height=\"28\">\n",
            "</span>함수\n",
            "</span></a><a href=\"?pq=python&amp;query=python+while&amp;sm=tab_imt&amp;where=image\" class=\"mod_tag\" onclick='return goOtherCR(this,\"a=img_bas*T.click&u=\"+urlencode(this.href))' role=\"button\"><span class=\"t\"><span class=\"thumb\"><img src=\"https://search.pstatic.net/common/?src=http%3A%2F%2Fblogfiles.naver.net%2FMjAyMTA0MDZfMjAx%2FMDAxNjE3Njg4MDM4Nzkx.92j6lC6_aNFIDFsjejsPQp8Aj0fXsmqE1KURCP8HGAIg.FHtkS-mvtfE7aRpcuD5RPqBEXaQWAku1fBmHJZ3kjNQg.PNG.official_ksk%2Fimage.png&amp;type=f54_54\" onerror='this.src=\"data:image/gif;base64,R0lGODlhAQABAIAAAAAAAP///yH5BAEAAAAALAAAAAABAAEAAAIBRAA7\",this.className=\"bg_nimg_c\"' alt width=\"28\" height=\"28\">\n",
            "</span>while\n",
            "</span></a><a href=\"?pq=python&amp;query=pool+python&amp;sm=tab_imt&amp;where=image\" class=\"mod_tag\" onclick='return goOtherCR(this,\"a=img_bas*T.click&u=\"+urlencode(this.href))' role=\"button\"><span class=\"t\"><span class=\"thumb\"><img src=\"https://search.pstatic.net/sunny/?src=https%3A%2F%2Fi.sstatic.net%2FfBRgI.png&amp;type=f54_54\" onerror='this.src=\"data:image/gif;base64,R0lGODlhAQABAIAAAAAAAP///yH5BAEAAAAALAAAAAABAAEAAAIBRAA7\",this.className=\"bg_nimg_c\"' alt width=\"28\" height=\"28\">\n",
            "</span>pool</span></a></div></div><a href=\"#\" class=\"btn_more _fe_image_portal_tag_expand_button\" role=\"button\" aria-pressed=\"false\" style=\"display:none\" data-cr-on=\"img_bas*T.open\" data-cr-off=\"img_bas*T.close\"><i class=\"spnew ico_tag_arr\">더보기</i></a></div></div><div class=\"image_grid_area _fe_image_portal_list_root\"><div class=\"image_grid_wrap\"><div class=\"grid_group\" data-image-viewer-list='[{\"type\":\"image\",\"imgId\":\"image_sas:blog_46d06854039b13dd5689c5d6ff22f441\",\"link\":\"https://blog.naver.com/mathpeach/223518207299\",\"source\":\"네이버 블로그\",\"title\":\"부천에서 자바(Java)\\u0026파이썬(Python) 정복하기!!\",\"color\":\"#B5B68F\",\"profileImg\":\"https://search.pstatic.net/common/?src=http%3A%2F%2Fblogpfthumb.phinf.naver.net%2FMjAyNDA3MTJfMzkg%2FMDAxNzIwNzUzNTYzNDU2.l4SdbvLM9OGsvhvyXLywiGoUgfjEUNhPuOhAJAKO6Awg.T9MO5DqUyFMp4BYDW5F1v6zRvqk1XPbZEMCnrTfk27kg.PNG%2FProfile_defaultIMG_M2x.png\\u0026type=f80_80\",\"alphabet\":\"B\",\"writerTitle\":\"mathpeach님의 블로그\",\"cclType\":0,\"time_str\":\"\",\"dateInfo\":\"2024.07.19.\",\"iconInfo\":\"sid\",\"payType\":0,\"displayPrice\":\"\",\"tld\":\"blog.naver.com\",\"collection_lens\":0,\"querySource\":\"python\",\"parentid\":\"\",\"nvmid\":\"\",\"articleid\":\"blog165095695|1|223518207299\",\"viewerThumb\":\"https://search.pstatic.net/common/?src=http%3A%2F%2Fblogfiles.naver.net%2FMjAyNDA3MTlfMjU2%2FMDAxNzIxMzYxNzI3MzYz.bqzmIz5Sv6dcFcTx0jAre811El-TOykWggRfVXPes4og.T_XkNy_t_Ra2yvKRwyFyioN1kWDPLAUYdCBtjxqrakIg.PNG%2Fimage.png\\u0026type=sc960_832\",\"lensThumb\":\"https://search.pstatic.net/common/?src=http%3A%2F%2Fblogfiles.naver.net%2FMjAyNDA3MTlfMjU2%2FMDAxNzIxMzYxNzI3MzYz.bqzmIz5Sv6dcFcTx0jAre811El-TOykWggRfVXPes4og.T_XkNy_t_Ra2yvKRwyFyioN1kWDPLAUYdCBtjxqrakIg.PNG%2Fimage.png\\u0026type=sc960_832\",\"thumb280\":\"https://search.pstatic.net/common/?src=http%3A%2F%2Fblogfiles.naver.net%2FMjAyNDA3MTlfMjU2%2FMDAxNzIxMzYxNzI3MzYz.bqzmIz5Sv6dcFcTx0jAre811El-TOykWggRfVXPes4og.T_XkNy_t_Ra2yvKRwyFyioN1kWDPLAUYdCBtjxqrakIg.PNG%2Fimage.png\\u0026type=b280\",\"thumb332\":\"https://search.pstatic.net/common/?src=http%3A%2F%2Fblogfiles.naver.net%2FMjAyNDA3MTlfMjU2%2FMDAxNzIxMzYxNzI3MzYz.bqzmIz5Sv6dcFcTx0jAre811El-TOykWggRfVXPes4og.T_XkNy_t_Ra2yvKRwyFyioN1kWDPLAUYdCBtjxqrakIg.PNG%2Fimage.png\\u0026type=ff332_332\",\"originalUrl\":\"http://blogfiles.naver.net/MjAyNDA3MTlfMjU2/MDAxNzIxMzYxNzI3MzYz.bqzmIz5Sv6dcFcTx0jAre811El-TOykWggRfVXPes4og.T_XkNy_t_Ra2yvKRwyFyioN1kWDPLAUYdCBtjxqrakIg.PNG/image.png\",\"sttData\":\"\",\"isReport\":1,\"ReportDataString\":\"{\\\"schRsltCatDtlCd\\\":\\\"TSH\\\",\\\"schSvcCatDtlCd\\\":\\\"IMG\\\",\\\"svcDtlCd\\\":\\\"BLG\\\",\\\"orgncArtclId\\\":\\\"blog165095695%7C1%7C223518207299\\\",\\\"cntsUrl\\\":\\\"http%3A%2F%2Fblog.naver.com%2Fmathpeach%2F223518207299\\\",\\\"orgncSvcId\\\":\\\"IMG\\\",\\\"orgncSvcNm\\\":\\\"%EB%84%A4%EC%9D%B4%EB%B2%84+%EB%B8%94%EB%A1%9C%EA%B7%B8\\\",\\\"reportKwdNm\\\":\\\"python\\\",\\\"artclTitle\\\":\\\"%EB%B6%80%EC%B2%9C%EC%97%90%EC%84%9C+%EC%9E%90%EB%B0%94%28Java%29%26%ED%8C%8C%EC%9D%B4%EC%8D%AC%28Python%29+%EC%A0%95%EB%B3%B5%ED%95%98%EA%B8%B0%21%21\\\",\\\"artclSumryCont\\\":\\\"\\\",\\\"artclRgstrId\\\":\\\"mathpeach\\\",\\\"cntsLstModYmdtc\\\":\\\"\\\",\\\"cntsFstRgstYmdtc\\\":\\\"20240719132102\\\",\\\"thmnlImgPath\\\":\\\"https%3A%2F%2Fsearch.pstatic.net%2Fcommon%2F%3Fsrc%3Dhttp%253A%252F%252Fblogfiles.naver.net%252FMjAyNDA3MTlfMjU2%252FMDAxNzIxMzYxNzI3MzYz.bqzmIz5Sv6dcFcTx0jAre811El-TOykWggRfVXPes4og.T_XkNy_t_Ra2yvKRwyFyioN1kWDPLAUYdCBtjxqrakIg.PNG%252Fimage.png%26type%3Dff332_332\\\"}\",\"viewerOmniThumb\":\"\",\"section\":\"blog\",\"favicon\":\"\",\"thumbLink\":\"\",\"infoLink\":\"\",\"store\":\"\",\"npay\":\"\",\"typeEllipsis\":0,\"isCatalog\":0,\"exposureLogUrl\":\"\",\"tag\":\"\",\"keywords\":null,\"thumb\":\"https://search.pstatic.net/common/?src=http%3A%2F%2Fblogfiles.naver.net%2FMjAyNDA3MTlfMjU2%2FMDAxNzIxMzYxNzI3MzYz.bqzmIz5Sv6dcFcTx0jAre811El-TOykWggRfVXPes4og.T_XkNy_t_Ra2yvKRwyFyioN1kWDPLAUYdCBtjxqrakIg.PNG%2Fimage.png\\u0026type=a340\",\"orgWidth\":512,\"orgHeight\":512,\"thumbWidth\":340,\"thumbHeight\":340,\"cr\":\"\",\"crArea\":\"N\",\"rank\":1,\"gdid\":\"blog_46d06854039b13dd5689c5d6ff22f441\",\"signature\":\"262786405900962\",\"sid\":\"11611284\",\"is_gif\":0},{\"type\":\"image\",\"imgId\":\"image_sas:web_9e24088a57cf3ba677bf4030a76c14da\",\"link\":\"https://medium.com/@matthew.schmitz/getting-started-with-single-cell-genomics-in-python-part-1-fbbd68de7237\",\"source\":\"웹\",\"title\":\"Getting Started with Single Cell Genomics in Python | by... Medium Getting Started with Single Cell Genomics in Python: Part 1\",\"color\":\"#E1B785\",\"profileImg\":\"\",\"alphabet\":\"M\",\"writerTitle\":\"medium.com\",\"cclType\":0,\"time_str\":\"\",\"dateInfo\":\"2024.06.27.\",\"iconInfo\":\"\",\"payType\":0,\"displayPrice\":\"\",\"tld\":\"medium.com\",\"collection_lens\":0,\"querySource\":\"python\",\"parentid\":\"\",\"nvmid\":\"\",\"articleid\":\"webhttps://medium.com/@matthew.schmitz/getting-started-with-single-cell-genomics-in-python-part-1-fbbd68de7237\",\"viewerThumb\":\"https://search.pstatic.net/sunny/?src=https%3A%2F%2Fmiro.medium.com%2Fv2%2Fda%3Atrue%2Fresize%3Afit%3A1200%2F0%2AVzfoe5-u4zYuijTT\\u0026type=sc960_832\",\"lensThumb\":\"https://search.pstatic.net/sunny/?src=https%3A%2F%2Fmiro.medium.com%2Fv2%2Fda%3Atrue%2Fresize%3Afit%3A1200%2F0%2AVzfoe5-u4zYuijTT\\u0026type=sc960_832\",\"thumb280\":\"https://search.pstatic.net/sunny/?src=https%3A%2F%2Fmiro.medium.com%2Fv2%2Fda%3Atrue%2Fresize%3Afit%3A1200%2F0%2AVzfoe5-u4zYuijTT\\u0026type=b280\",\"thumb332\":\"https://search.pstatic.net/sunny/?src=https%3A%2F%2Fmiro.medium.com%2Fv2%2Fda%3Atrue%2Fresize%3Afit%3A1200%2F0%2AVzfoe5-u4zYuijTT\\u0026type=ff332_332\",\"originalUrl\":\"https://miro.medium.com/v2/da:true/resize:fit:1200/0*Vzfoe5-u4zYuijTT\",\"sttData\":\"\",\"isReport\":1,\"ReportDataString\":\"{\\\"schRsltCatDtlCd\\\":\\\"TSH\\\",\\\"schSvcCatDtlCd\\\":\\\"IMG\\\",\\\"svcDtlCd\\\":\\\"WEB\\\",\\\"orgncArtclId\\\":\\\"webhttps%3A%2F%2Fmedium.com%2F%40matthew.schmitz%2Fgetting-started-with-single-cell-genomics-in-python-part-1-fbbd68de7237\\\",\\\"cntsUrl\\\":\\\"https%3A%2F%2Fmedium.com%2F%40matthew.schmitz%2Fgetting-started-with-single-cell-genomics-in-python-part-1-fbbd68de7237\\\",\\\"orgncSvcId\\\":\\\"IMG\\\",\\\"orgncSvcNm\\\":\\\"%EC%9B%B9\\\",\\\"reportKwdNm\\\":\\\"python\\\",\\\"artclTitle\\\":\\\"Getting+Started+with+Single+Cell+Genomics+in+Python+%7C+by...+Medium+Getting+Started+with+Single+Cell+Genomics+in+Python%3A+Part+1\\\",\\\"artclSumryCont\\\":\\\"\\\",\\\"artclRgstrId\\\":\\\"\\\",\\\"cntsLstModYmdtc\\\":\\\"\\\",\\\"cntsFstRgstYmdtc\\\":\\\"000000\\\",\\\"thmnlImgPath\\\":\\\"https%3A%2F%2Fsearch.pstatic.net%2Fsunny%2F%3Fsrc%3Dhttps%253A%252F%252Fmiro.medium.com%252Fv2%252Fda%253Atrue%252Fresize%253Afit%253A1200%252F0%252AVzfoe5-u4zYuijTT%26type%3Dff332_332\\\"}\",\"viewerOmniThumb\":\"\",\"section\":\"abdb\",\"favicon\":\"\",\"thumbLink\":\"\",\"infoLink\":\"\",\"store\":\"\",\"npay\":\"\",\"typeEllipsis\":0,\"isCatalog\":0,\"exposureLogUrl\":\"\",\"tag\":\"\",\"keywords\":null,\"thumb\":\"https://search.pstatic.net/sunny/?src=https%3A%2F%2Fmiro.medium.com%2Fv2%2Fda%3Atrue%2Fresize%3Afit%3A1200%2F0%2AVzfoe5-u4zYuijTT\\u0026type=l340_165\",\"orgWidth\":1200,\"orgHeight\":529,\"thumbWidth\":340,\"thumbHeight\":165,\"cr\":\"\",\"crArea\":\"W\",\"rank\":2,\"gdid\":\"web_9e24088a57cf3ba677bf4030a76c14da\",\"signature\":\"30372119039800\",\"sid\":\"\",\"is_gif\":0},{\"type\":\"image\",\"imgId\":\"image_sas:web_45725b88fc3bff996c8a29e01f0788be\",\"link\":\"https://www.britannica.com/animal/python-snake-group\",\"source\":\"웹\",\"title\":\"Python | Snake, Characteristics, Habitats, \\u0026 Facts | Britannica\",\"color\":\"#DB9D8F\",\"profileImg\":\"\",\"alphabet\":\"B\",\"writerTitle\":\"britannica.com\",\"cclType\":0,\"time_str\":\"\",\"dateInfo\":\"2023.09.17.\",\"iconInfo\":\"\",\"payType\":0,\"displayPrice\":\"\",\"tld\":\"britannica.com\",\"collection_lens\":0,\"querySource\":\"python\",\"parentid\":\"\",\"nvmid\":\"\",\"articleid\":\"webhttps://www.britannica.com/animal/python-snake-group\",\"viewerThumb\":\"https://search.pstatic.net/sunny/?src=https%3A%2F%2Fcdn.britannica.com%2F28%2F239528-050-D89C8118%2Freticulated-python-Malayopython-reticulatus.jpg\\u0026type=sc960_832\",\"lensThumb\":\"https://search.pstatic.net/sunny/?src=https%3A%2F%2Fcdn.britannica.com%2F28%2F239528-050-D89C8118%2Freticulated-python-Malayopython-reticulatus.jpg\\u0026type=sc960_832\",\"thumb280\":\"https://search.pstatic.net/sunny/?src=https%3A%2F%2Fcdn.britannica.com%2F28%2F239528-050-D89C8118%2Freticulated-python-Malayopython-reticulatus.jpg\\u0026type=b280\",\"thumb332\":\"https://search.pstatic.net/sunny/?src=https%3A%2F%2Fcdn.britannica.com%2F28%2F239528-050-D89C8118%2Freticulated-python-Malayopython-reticulatus.jpg\\u0026type=ff332_332\",\"originalUrl\":\"https://cdn.britannica.com/28/239528-050-D89C8118/reticulated-python-Malayopython-reticulatus.jpg\",\"sttData\":\"\",\"isReport\":1,\"ReportDataString\":\"{\\\"schRsltCatDtlCd\\\":\\\"TSH\\\",\\\"schSvcCatDtlCd\\\":\\\"IMG\\\",\\\"svcDtlCd\\\":\\\"WEB\\\",\\\"orgncArtclId\\\":\\\"webhttps%3A%2F%2Fwww.britannica.com%2Fanimal%2Fpython-snake-group\\\",\\\"cntsUrl\\\":\\\"https%3A%2F%2Fwww.britannica.com%2Fanimal%2Fpython-snake-group\\\",\\\"orgncSvcId\\\":\\\"IMG\\\",\\\"orgncSvcNm\\\":\\\"%EC%9B%B9\\\",\\\"reportKwdNm\\\":\\\"python\\\",\\\"artclTitle\\\":\\\"Python+%7C+Snake%2C+Characteristics%2C+Habitats%2C+%26+Facts+%7C+Britannica\\\",\\\"artclSumryCont\\\":\\\"\\\",\\\"artclRgstrId\\\":\\\"\\\",\\\"cntsLstModYmdtc\\\":\\\"\\\",\\\"cntsFstRgstYmdtc\\\":\\\"000000\\\",\\\"thmnlImgPath\\\":\\\"https%3A%2F%2Fsearch.pstatic.net%2Fsunny%2F%3Fsrc%3Dhttps%253A%252F%252Fcdn.britannica.com%252F28%252F239528-050-D89C8118%252Freticulated-python-Malayopython-reticulatus.jpg%26type%3Dff332_332\\\"}\",\"viewerOmniThumb\":\"\",\"section\":\"abdb\",\"favicon\":\"\",\"thumbLink\":\"\",\"infoLink\":\"\",\"store\":\"\",\"npay\":\"\",\"typeEllipsis\":0,\"isCatalog\":0,\"exposureLogUrl\":\"\",\"tag\":\"\",\"keywords\":null,\"thumb\":\"https://search.pstatic.net/sunny/?src=https%3A%2F%2Fcdn.britannica.com%2F28%2F239528-050-D89C8118%2Freticulated-python-Malayopython-reticulatus.jpg\\u0026type=a340\",\"orgWidth\":1600,\"orgHeight\":1067,\"thumbWidth\":340,\"thumbHeight\":227,\"cr\":\"\",\"crArea\":\"W\",\"rank\":3,\"gdid\":\"web_45725b88fc3bff996c8a29e01f0788be\",\"signature\":\"968178750139805\",\"sid\":\"\",\"is_gif\":0},{\"type\":\"image\",\"imgId\":\"image_sas:blog_e6b0224564cb2d4d5038ea4e5191bb07\",\"link\":\"https://blog.naver.com/sjw9224ed/221404954971\",\"source\":\"네이버 블로그\",\"title\":\"파이썬 , 특수임무를 위한 병과들 정리\",\"color\":\"#AAbDD0\",\"profileImg\":\"https://search.pstatic.net/common/?src=http%3A%2F%2Fblogpfthumb.phinf.naver.net%2FMjAxODExMTJfNjYg%2FMDAxNTQxOTcwNDQ5NjMy.6vOuiIQF06TKRf1TATVJSHkr7H8PtJ8uom4NjVHfnckg.WZm9Mq0a5sOwq_tjHdrP81bUEFkkCCc_owZywnBGnJIg.JPEG.sjw9224ed%2FKakaoTalk_20181112_060638335.jpg\\u0026type=f80_80\",\"alphabet\":\"B\",\"writerTitle\":\"파이썬 독학 로직캣\",\"cclType\":0,\"time_str\":\"\",\"dateInfo\":\"2018.11.23.\",\"iconInfo\":\"\",\"payType\":0,\"displayPrice\":\"\",\"tld\":\"blog.naver.com\",\"collection_lens\":0,\"querySource\":\"python\",\"parentid\":\"\",\"nvmid\":\"\",\"articleid\":\"blog131532382|1|221404954971\",\"viewerThumb\":\"https://search.pstatic.net/common/?src=http%3A%2F%2Fblogfiles.naver.net%2FMjAxODExMjNfNCAg%2FMDAxNTQyOTc4NjI0ODcz.fsTMrVbCvJhQQuQf7y_qsqFJ1WgBahziWiCYGIYThl0g.PkLlPiWoQTXOBTYvhMFggGhGCYuBrOKAghUyplKU_Y8g.PNG.sjw9224ed%2F1.png\\u0026type=sc960_832\",\"lensThumb\":\"https://search.pstatic.net/common/?src=http%3A%2F%2Fblogfiles.naver.net%2FMjAxODExMjNfNCAg%2FMDAxNTQyOTc4NjI0ODcz.fsTMrVbCvJhQQuQf7y_qsqFJ1WgBahziWiCYGIYThl0g.PkLlPiWoQTXOBTYvhMFggGhGCYuBrOKAghUyplKU_Y8g.PNG.sjw9224ed%2F1.png\\u0026type=sc960_832\",\"thumb280\":\"https://search.pstatic.net/common/?src=http%3A%2F%2Fblogfiles.naver.net%2FMjAxODExMjNfNCAg%2FMDAxNTQyOTc4NjI0ODcz.fsTMrVbCvJhQQuQf7y_qsqFJ1WgBahziWiCYGIYThl0g.PkLlPiWoQTXOBTYvhMFggGhGCYuBrOKAghUyplKU_Y8g.PNG.sjw9224ed%2F1.png\\u0026type=b280\",\"thumb332\":\"https://search.pstatic.net/common/?src=http%3A%2F%2Fblogfiles.naver.net%2FMjAxODExMjNfNCAg%2FMDAxNTQyOTc4NjI0ODcz.fsTMrVbCvJhQQuQf7y_qsqFJ1WgBahziWiCYGIYThl0g.PkLlPiWoQTXOBTYvhMFggGhGCYuBrOKAghUyplKU_Y8g.PNG.sjw9224ed%2F1.png\\u0026type=ff332_332\",\"originalUrl\":\"http://blogfiles.naver.net/MjAxODExMjNfNCAg/MDAxNTQyOTc4NjI0ODcz.fsTMrVbCvJhQQuQf7y_qsqFJ1WgBahziWiCYGIYThl0g.PkLlPiWoQTXOBTYvhMFggGhGCYuBrOKAghUyplKU_Y8g.PNG.sjw9224ed/1.png\",\"sttData\":\"\",\"isReport\":1,\"ReportDataString\":\"{\\\"schRsltCatDtlCd\\\":\\\"TSH\\\",\\\"schSvcCatDtlCd\\\":\\\"IMG\\\",\\\"svcDtlCd\\\":\\\"BLG\\\",\\\"orgncArtclId\\\":\\\"blog131532382%7C1%7C221404954971\\\",\\\"cntsUrl\\\":\\\"http%3A%2F%2Fblog.naver.com%2Fsjw9224ed%2F221404954971\\\",\\\"orgncSvcId\\\":\\\"IMG\\\",\\\"orgncSvcNm\\\":\\\"%EB%84%A4%EC%9D%B4%EB%B2%84+%EB%B8%94%EB%A1%9C%EA%B7%B8\\\",\\\"reportKwdNm\\\":\\\"python\\\",\\\"artclTitle\\\":\\\"%ED%8C%8C%EC%9D%B4%EC%8D%AC+%2C+%ED%8A%B9%EC%88%98%EC%9E%84%EB%AC%B4%EB%A5%BC+%EC%9C%84%ED%95%9C+%EB%B3%91%EA%B3%BC%EB%93%A4+%EC%A0%95%EB%A6%AC\\\",\\\"artclSumryCont\\\":\\\"\\\",\\\"artclRgstrId\\\":\\\"sjw9224ed\\\",\\\"cntsLstModYmdtc\\\":\\\"\\\",\\\"cntsFstRgstYmdtc\\\":\\\"20181123233003\\\",\\\"thmnlImgPath\\\":\\\"https%3A%2F%2Fsearch.pstatic.net%2Fcommon%2F%3Fsrc%3Dhttp%253A%252F%252Fblogfiles.naver.net%252FMjAxODExMjNfNCAg%252FMDAxNTQyOTc4NjI0ODcz.fsTMrVbCvJhQQuQf7y_qsqFJ1WgBahziWiCYGIYThl0g.PkLlPiWoQTXOBTYvhMFggGhGCYuBrOKAghUyplKU_Y8g.PNG.sjw9224ed%252F1.png%26type%3Dff332_332\\\"}\",\"viewerOmniThumb\":\"\",\"section\":\"blog\",\"favicon\":\"\",\"thumbLink\":\"\",\"infoLink\":\"\",\"store\":\"\",\"npay\":\"\",\"typeEllipsis\":0,\"isCatalog\":0,\"exposureLogUrl\":\"\",\"tag\":\"\",\"keywords\":null,\"thumb\":\"https://search.pstatic.net/common/?src=http%3A%2F%2Fblogfiles.naver.net%2FMjAxODExMjNfNCAg%2FMDAxNTQyOTc4NjI0ODcz.fsTMrVbCvJhQQuQf7y_qsqFJ1WgBahziWiCYGIYThl0g.PkLlPiWoQTXOBTYvhMFggGhGCYuBrOKAghUyplKU_Y8g.PNG.sjw9224ed%2F1.png\\u0026type=l340_165\",\"orgWidth\":1200,\"orgHeight\":535,\"thumbWidth\":340,\"thumbHeight\":165,\"cr\":\"\",\"crArea\":\"N\",\"rank\":4,\"gdid\":\"blog_e6b0224564cb2d4d5038ea4e5191bb07\",\"signature\":\"72920945501197\",\"sid\":\"\",\"is_gif\":0},{\"type\":\"image\",\"imgId\":\"image_sas:web_9eb6b859e8d0592760be582cbee4fc69\",\"link\":\"http://www.gettyimagesbank.com/i/95021896\",\"source\":\"웹\",\"title\":\"Ball Python 이미지 (95021896) - 게티이미지뱅크 Ball Python\",\"color\":\"#E1B785\",\"profileImg\":\"\",\"alphabet\":\"G\",\"writerTitle\":\"gettyimagesbank.com\",\"cclType\":0,\"time_str\":\"\",\"dateInfo\":\"2016.10.06.\",\"iconInfo\":\"\",\"payType\":0,\"displayPrice\":\"\",\"tld\":\"gettyimagesbank.com\",\"collection_lens\":0,\"querySource\":\"python\",\"parentid\":\"\",\"nvmid\":\"\",\"articleid\":\"webhttp://www.gettyimagesbank.com/i/95021896\",\"viewerThumb\":\"https://search.pstatic.net/sunny/?src=http%3A%2F%2Fimagescdn.gettyimagesbank.com%2F500%2F09%2F204%2F947%2F0%2F95021896.jpg\\u0026type=sc960_832\",\"lensThumb\":\"https://search.pstatic.net/sunny/?src=http%3A%2F%2Fimagescdn.gettyimagesbank.com%2F500%2F09%2F204%2F947%2F0%2F95021896.jpg\\u0026type=sc960_832\",\"thumb280\":\"https://search.pstatic.net/sunny/?src=http%3A%2F%2Fimagescdn.gettyimagesbank.com%2F500%2F09%2F204%2F947%2F0%2F95021896.jpg\\u0026type=b280\",\"thumb332\":\"https://search.pstatic.net/sunny/?src=http%3A%2F%2Fimagescdn.gettyimagesbank.com%2F500%2F09%2F204%2F947%2F0%2F95021896.jpg\\u0026type=ff332_332\",\"originalUrl\":\"http://imagescdn.gettyimagesbank.com/500/09/204/947/0/95021896.jpg\",\"sttData\":\"\",\"isReport\":1,\"ReportDataString\":\"{\\\"schRsltCatDtlCd\\\":\\\"TSH\\\",\\\"schSvcCatDtlCd\\\":\\\"IMG\\\",\\\"svcDtlCd\\\":\\\"WEB\\\",\\\"orgncArtclId\\\":\\\"webhttp%3A%2F%2Fwww.gettyimagesbank.com%2Fi%2F95021896\\\",\\\"cntsUrl\\\":\\\"http%3A%2F%2Fwww.gettyimagesbank.com%2Fi%2F95021896\\\",\\\"orgncSvcId\\\":\\\"IMG\\\",\\\"orgncSvcNm\\\":\\\"%EC%9B%B9\\\",\\\"reportKwdNm\\\":\\\"python\\\",\\\"artclTitle\\\":\\\"Ball+Python+%EC%9D%B4%EB%AF%B8%EC%A7%80+%2895021896%29+-+%EA%B2%8C%ED%8B%B0%EC%9D%B4%EB%AF%B8%EC%A7%80%EB%B1%85%ED%81%AC+Ball+Python\\\",\\\"artclSumryCont\\\":\\\"\\\",\\\"artclRgstrId\\\":\\\"\\\",\\\"cntsLstModYmdtc\\\":\\\"\\\",\\\"cntsFstRgstYmdtc\\\":\\\"000000\\\",\\\"thmnlImgPath\\\":\\\"https%3A%2F%2Fsearch.pstatic.net%2Fsunny%2F%3Fsrc%3Dhttp%253A%252F%252Fimagescdn.gettyimagesbank.com%252F500%252F09%252F204%252F947%252F0%252F95021896.jpg%26type%3Dff332_332\\\"}\",\"viewerOmniThumb\":\"\",\"section\":\"abdb\",\"favicon\":\"\",\"thumbLink\":\"\",\"infoLink\":\"\",\"store\":\"\",\"npay\":\"\",\"typeEllipsis\":0,\"isCatalog\":0,\"exposureLogUrl\":\"\",\"tag\":\"\",\"keywords\":null,\"thumb\":\"https://search.pstatic.net/sunny/?src=http%3A%2F%2Fimagescdn.gettyimagesbank.com%2F500%2F09%2F204%2F947%2F0%2F95021896.jpg\\u0026type=a340\",\"orgWidth\":507,\"orgHeight\":337,\"thumbWidth\":340,\"thumbHeight\":226,\"cr\":\"\",\"crArea\":\"W\",\"rank\":5,\"gdid\":\"web_9eb6b859e8d0592760be582cbee4fc69\",\"signature\":\"538124936882672\",\"sid\":\"\",\"is_gif\":0},{\"type\":\"image\",\"imgId\":\"image_sas:web_72a567f31d7ae7e6fc5907330ec1c64e\",\"link\":\"https://www.wikidata.org/wiki/File:Ball_python_lucy.JPG\",\"source\":\"웹\",\"title\":\"File:Ball python lucy.JPG - Wikidata\",\"color\":\"#C2C7CC\",\"profileImg\":\"\",\"alphabet\":\"W\",\"writerTitle\":\"wikidata.org\",\"cclType\":0,\"time_str\":\"\",\"dateInfo\":\"2016.03.04.\",\"iconInfo\":\"\",\"payType\":0,\"displayPrice\":\"\",\"tld\":\"wikidata.org\",\"collection_lens\":0,\"querySource\":\"python\",\"parentid\":\"\",\"nvmid\":\"\",\"articleid\":\"webhttps://www.wikidata.org/wiki/File:Ball_python_lucy.JPG\",\"viewerThumb\":\"https://search.pstatic.net/sunny/?src=https%3A%2F%2Fupload.wikimedia.org%2Fwikipedia%2Fcommons%2F4%2F4d%2FBall_python_lucy.JPG\\u0026type=sc960_832\",\"lensThumb\":\"https://search.pstatic.net/sunny/?src=https%3A%2F%2Fupload.wikimedia.org%2Fwikipedia%2Fcommons%2F4%2F4d%2FBall_python_lucy.JPG\\u0026type=sc960_832\",\"thumb280\":\"https://search.pstatic.net/sunny/?src=https%3A%2F%2Fupload.wikimedia.org%2Fwikipedia%2Fcommons%2F4%2F4d%2FBall_python_lucy.JPG\\u0026type=b280\",\"thumb332\":\"https://search.pstatic.net/sunny/?src=https%3A%2F%2Fupload.wikimedia.org%2Fwikipedia%2Fcommons%2F4%2F4d%2FBall_python_lucy.JPG\\u0026type=ff332_332\",\"originalUrl\":\"https://upload.wikimedia.org/wikipedia/commons/4/4d/Ball_python_lucy.JPG\",\"sttData\":\"\",\"isReport\":1,\"ReportDataString\":\"{\\\"schRsltCatDtlCd\\\":\\\"TSH\\\",\\\"schSvcCatDtlCd\\\":\\\"IMG\\\",\\\"svcDtlCd\\\":\\\"WEB\\\",\\\"orgncArtclId\\\":\\\"webhttps%3A%2F%2Fwww.wikidata.org%2Fwiki%2FFile%3ABall_python_lucy.JPG\\\",\\\"cntsUrl\\\":\\\"https%3A%2F%2Fwww.wikidata.org%2Fwiki%2FFile%3ABall_python_lucy.JPG\\\",\\\"orgncSvcId\\\":\\\"IMG\\\",\\\"orgncSvcNm\\\":\\\"%EC%9B%B9\\\",\\\"reportKwdNm\\\":\\\"python\\\",\\\"artclTitle\\\":\\\"File%3ABall+python+lucy.JPG+-+Wikidata\\\",\\\"artclSumryCont\\\":\\\"\\\",\\\"artclRgstrId\\\":\\\"\\\",\\\"cntsLstModYmdtc\\\":\\\"\\\",\\\"cntsFstRgstYmdtc\\\":\\\"000000\\\",\\\"thmnlImgPath\\\":\\\"https%3A%2F%2Fsearch.pstatic.net%2Fsunny%2F%3Fsrc%3Dhttps%253A%252F%252Fupload.wikimedia.org%252Fwikipedia%252Fcommons%252F4%252F4d%252FBall_python_lucy.JPG%26type%3Dff332_332\\\"}\",\"viewerOmniThumb\":\"\",\"section\":\"abdb\",\"favicon\":\"\",\"thumbLink\":\"\",\"infoLink\":\"\",\"store\":\"\",\"npay\":\"\",\"typeEllipsis\":0,\"isCatalog\":0,\"exposureLogUrl\":\"\",\"tag\":\"\",\"keywords\":null,\"thumb\":\"https://search.pstatic.net/sunny/?src=https%3A%2F%2Fupload.wikimedia.org%2Fwikipedia%2Fcommons%2F4%2F4d%2FBall_python_lucy.JPG\\u0026type=a340\",\"orgWidth\":988,\"orgHeight\":848,\"thumbWidth\":340,\"thumbHeight\":292,\"cr\":\"\",\"crArea\":\"W\",\"rank\":6,\"gdid\":\"web_72a567f31d7ae7e6fc5907330ec1c64e\",\"signature\":\"460718196491680\",\"sid\":\"\",\"is_gif\":0},{\"type\":\"image\",\"imgId\":\"image_sas:web_168445257934b7c8dec4a3c5d3874b7a\",\"link\":\"https://www.dreamstime.com/photos-images/ball-python.html\",\"source\":\"웹\",\"title\":\"3,150 Ball Python Stock Photos - Free \\u0026 Royalty-Free Stock Photos from Dreamstime\",\"color\":\"#B5B68F\",\"profileImg\":\"\",\"alphabet\":\"D\",\"writerTitle\":\"dreamstime.com\",\"cclType\":0,\"time_str\":\"\",\"dateInfo\":\"2017.08.21.\",\"iconInfo\":\"\",\"payType\":0,\"displayPrice\":\"\",\"tld\":\"dreamstime.com\",\"collection_lens\":0,\"querySource\":\"python\",\"parentid\":\"\",\"nvmid\":\"\",\"articleid\":\"webhttps://www.dreamstime.com/photos-images/ball-python.html\",\"viewerThumb\":\"https://search.pstatic.net/sunny/?src=https%3A%2F%2Fthumbs.dreamstime.com%2Fb%2Fball-python-3246758.jpg\\u0026type=sc960_832\",\"lensThumb\":\"https://search.pstatic.net/sunny/?src=https%3A%2F%2Fthumbs.dreamstime.com%2Fb%2Fball-python-3246758.jpg\\u0026type=sc960_832\",\"thumb280\":\"https://search.pstatic.net/sunny/?src=https%3A%2F%2Fthumbs.dreamstime.com%2Fb%2Fball-python-3246758.jpg\\u0026type=b280\",\"thumb332\":\"https://search.pstatic.net/sunny/?src=https%3A%2F%2Fthumbs.dreamstime.com%2Fb%2Fball-python-3246758.jpg\\u0026type=ff332_332\",\"originalUrl\":\"https://thumbs.dreamstime.com/b/ball-python-3246758.jpg\",\"sttData\":\"\",\"isReport\":1,\"ReportDataString\":\"{\\\"schRsltCatDtlCd\\\":\\\"TSH\\\",\\\"schSvcCatDtlCd\\\":\\\"IMG\\\",\\\"svcDtlCd\\\":\\\"WEB\\\",\\\"orgncArtclId\\\":\\\"webhttps%3A%2F%2Fwww.dreamstime.com%2Fphotos-images%2Fball-python.html\\\",\\\"cntsUrl\\\":\\\"https%3A%2F%2Fwww.dreamstime.com%2Fphotos-images%2Fball-python.html\\\",\\\"orgncSvcId\\\":\\\"IMG\\\",\\\"orgncSvcNm\\\":\\\"%EC%9B%B9\\\",\\\"reportKwdNm\\\":\\\"python\\\",\\\"artclTitle\\\":\\\"3%2C150+Ball+Python+Stock+Photos+-+Free+%26+Royalty-Free+Stock+Photos+from+Dreamstime\\\",\\\"artclSumryCont\\\":\\\"\\\",\\\"artclRgstrId\\\":\\\"\\\",\\\"cntsLstModYmdtc\\\":\\\"\\\",\\\"cntsFstRgstYmdtc\\\":\\\"000000\\\",\\\"thmnlImgPath\\\":\\\"https%3A%2F%2Fsearch.pstatic.net%2Fsunny%2F%3Fsrc%3Dhttps%253A%252F%252Fthumbs.dreamstime.com%252Fb%252Fball-python-3246758.jpg%26type%3Dff332_332\\\"}\",\"viewerOmniThumb\":\"\",\"section\":\"abdb\",\"favicon\":\"\",\"thumbLink\":\"\",\"infoLink\":\"\",\"store\":\"\",\"npay\":\"\",\"typeEllipsis\":0,\"isCatalog\":0,\"exposureLogUrl\":\"\",\"tag\":\"\",\"keywords\":null,\"thumb\":\"https://search.pstatic.net/sunny/?src=https%3A%2F%2Fthumbs.dreamstime.com%2Fb%2Fball-python-3246758.jpg\\u0026type=a340\",\"orgWidth\":800,\"orgHeight\":534,\"thumbWidth\":340,\"thumbHeight\":227,\"cr\":\"\",\"crArea\":\"W\",\"rank\":7,\"gdid\":\"web_168445257934b7c8dec4a3c5d3874b7a\",\"signature\":\"1026330884095127\",\"sid\":\"\",\"is_gif\":0},{\"type\":\"image\",\"imgId\":\"image_sas:blog_fb0fab2a011eda7970b03a422a90149c\",\"link\":\"https://blog.naver.com/mollayosh44/222864145337\",\"source\":\"네이버 블로그\",\"title\":\"Python 학원에서 IT 개발자로 빠르게 입문하자\",\"color\":\"#B5B68F\",\"profileImg\":\"\",\"alphabet\":\"B\",\"writerTitle\":\"교육정보센터\",\"cclType\":0,\"time_str\":\"\",\"dateInfo\":\"2022.09.01.\",\"iconInfo\":\"\",\"payType\":0,\"displayPrice\":\"\",\"tld\":\"blog.naver.com\",\"collection_lens\":0,\"querySource\":\"python\",\"parentid\":\"\",\"nvmid\":\"\",\"articleid\":\"blog155252846|6|222864145337\",\"viewerThumb\":\"https://search.pstatic.net/common/?src=http%3A%2F%2Fblogfiles.naver.net%2FMjAyMjA5MDFfNiAg%2FMDAxNjYyMDEyMjgyMDAz.Ihff_g_6z_I-ERsNrg9pwZdJ5BEmyDSatdzuE6ehwdgg.K1WUZz85yLUMfBT2o--mJuNEtcsf1J3wyLWYoF1GhKQg.JPEG.mollayosh44%2F2020200910_20220901_150206436.jpg\\u0026type=sc960_832\",\"lensThumb\":\"https://search.pstatic.net/common/?src=http%3A%2F%2Fblogfiles.naver.net%2FMjAyMjA5MDFfNiAg%2FMDAxNjYyMDEyMjgyMDAz.Ihff_g_6z_I-ERsNrg9pwZdJ5BEmyDSatdzuE6ehwdgg.K1WUZz85yLUMfBT2o--mJuNEtcsf1J3wyLWYoF1GhKQg.JPEG.mollayosh44%2F2020200910_20220901_150206436.jpg\\u0026type=sc960_832\",\"thumb280\":\"https://search.pstatic.net/common/?src=http%3A%2F%2Fblogfiles.naver.net%2FMjAyMjA5MDFfNiAg%2FMDAxNjYyMDEyMjgyMDAz.Ihff_g_6z_I-ERsNrg9pwZdJ5BEmyDSatdzuE6ehwdgg.K1WUZz85yLUMfBT2o--mJuNEtcsf1J3wyLWYoF1GhKQg.JPEG.mollayosh44%2F2020200910_20220901_150206436.jpg\\u0026type=b280\",\"thumb332\":\"https://search.pstatic.net/common/?src=http%3A%2F%2Fblogfiles.naver.net%2FMjAyMjA5MDFfNiAg%2FMDAxNjYyMDEyMjgyMDAz.Ihff_g_6z_I-ERsNrg9pwZdJ5BEmyDSatdzuE6ehwdgg.K1WUZz85yLUMfBT2o--mJuNEtcsf1J3wyLWYoF1GhKQg.JPEG.mollayosh44%2F2020200910_20220901_150206436.jpg\\u0026type=ff332_332\",\"originalUrl\":\"http://blogfiles.naver.net/MjAyMjA5MDFfNiAg/MDAxNjYyMDEyMjgyMDAz.Ihff_g_6z_I-ERsNrg9pwZdJ5BEmyDSatdzuE6ehwdgg.K1WUZz85yLUMfBT2o--mJuNEtcsf1J3wyLWYoF1GhKQg.JPEG.mollayosh44/2020200910_20220901_150206436.jpg\",\"sttData\":\"\",\"isReport\":1,\"ReportDataString\":\"{\\\"schRsltCatDtlCd\\\":\\\"TSH\\\",\\\"schSvcCatDtlCd\\\":\\\"IMG\\\",\\\"svcDtlCd\\\":\\\"BLG\\\",\\\"orgncArtclId\\\":\\\"blog155252846%7C6%7C222864145337\\\",\\\"cntsUrl\\\":\\\"http%3A%2F%2Fblog.naver.com%2Fmollayosh44%2F222864145337\\\",\\\"orgncSvcId\\\":\\\"IMG\\\",\\\"orgncSvcNm\\\":\\\"%EB%84%A4%EC%9D%B4%EB%B2%84+%EB%B8%94%EB%A1%9C%EA%B7%B8\\\",\\\"reportKwdNm\\\":\\\"python\\\",\\\"artclTitle\\\":\\\"Python+%ED%95%99%EC%9B%90%EC%97%90%EC%84%9C+IT+%EA%B0%9C%EB%B0%9C%EC%9E%90%EB%A1%9C+%EB%B9%A0%EB%A5%B4%EA%B2%8C+%EC%9E%85%EB%AC%B8%ED%95%98%EC%9E%90\\\",\\\"artclSumryCont\\\":\\\"\\\",\\\"artclRgstrId\\\":\\\"mollayosh44\\\",\\\"cntsLstModYmdtc\\\":\\\"\\\",\\\"cntsFstRgstYmdtc\\\":\\\"20220901173204\\\",\\\"thmnlImgPath\\\":\\\"https%3A%2F%2Fsearch.pstatic.net%2Fcommon%2F%3Fsrc%3Dhttp%253A%252F%252Fblogfiles.naver.net%252FMjAyMjA5MDFfNiAg%252FMDAxNjYyMDEyMjgyMDAz.Ihff_g_6z_I-ERsNrg9pwZdJ5BEmyDSatdzuE6ehwdgg.K1WUZz85yLUMfBT2o--mJuNEtcsf1J3wyLWYoF1GhKQg.JPEG.mollayosh44%252F2020200910_20220901_150206436.jpg%26type%3Dff332_332\\\"}\",\"viewerOmniThumb\":\"\",\"section\":\"blog\",\"favicon\":\"\",\"thumbLink\":\"\",\"infoLink\":\"\",\"store\":\"\",\"npay\":\"\",\"typeEllipsis\":0,\"isCatalog\":0,\"exposureLogUrl\":\"\",\"tag\":\"\",\"keywords\":null,\"thumb\":\"https://search.pstatic.net/common/?src=http%3A%2F%2Fblogfiles.naver.net%2FMjAyMjA5MDFfNiAg%2FMDAxNjYyMDEyMjgyMDAz.Ihff_g_6z_I-ERsNrg9pwZdJ5BEmyDSatdzuE6ehwdgg.K1WUZz85yLUMfBT2o--mJuNEtcsf1J3wyLWYoF1GhKQg.JPEG.mollayosh44%2F2020200910_20220901_150206436.jpg\\u0026type=a340\",\"orgWidth\":1080,\"orgHeight\":1440,\"thumbWidth\":340,\"thumbHeight\":453,\"cr\":\"\",\"crArea\":\"N\",\"rank\":8,\"gdid\":\"blog_fb0fab2a011eda7970b03a422a90149c\",\"signature\":\"709383208874088\",\"sid\":\"\",\"is_gif\":0},{\"type\":\"image\",\"imgId\":\"image_sas:web_a7e96613614fd3dfb4cb22a62cd9438d\",\"link\":\"https://www.newsweek.com/14-foot-burmese-python-loose-indiana-after-escaping-owner-942842\",\"source\":\"웹\",\"title\":\"A 14-foot Burmese Python Is on the Loose in Indiana After... Owner - Newsweek A 14-foot Burmese Python Is on the Loose in Indiana\",\"color\":\"#B5B68F\",\"profileImg\":\"\",\"alphabet\":\"N\",\"writerTitle\":\"newsweek.com\",\"cclType\":0,\"time_str\":\"\",\"dateInfo\":\"2018.07.20.\",\"iconInfo\":\"\",\"payType\":0,\"displayPrice\":\"\",\"tld\":\"newsweek.com\",\"collection_lens\":0,\"querySource\":\"python\",\"parentid\":\"\",\"nvmid\":\"\",\"articleid\":\"webhttps://www.newsweek.com/14-foot-burmese-python-loose-indiana-after-escaping-owner-942842\",\"viewerThumb\":\"https://search.pstatic.net/sunny/?src=https%3A%2F%2Fd.newsweek.com%2Fen%2Ffull%2F942829%2Frtxohhb.jpg\\u0026type=sc960_832\",\"lensThumb\":\"https://search.pstatic.net/sunny/?src=https%3A%2F%2Fd.newsweek.com%2Fen%2Ffull%2F942829%2Frtxohhb.jpg\\u0026type=sc960_832\",\"thumb280\":\"https://search.pstatic.net/sunny/?src=https%3A%2F%2Fd.newsweek.com%2Fen%2Ffull%2F942829%2Frtxohhb.jpg\\u0026type=b280\",\"thumb332\":\"https://search.pstatic.net/sunny/?src=https%3A%2F%2Fd.newsweek.com%2Fen%2Ffull%2F942829%2Frtxohhb.jpg\\u0026type=ff332_332\",\"originalUrl\":\"https://d.newsweek.com/en/full/942829/rtxohhb.jpg\",\"sttData\":\"\",\"isReport\":1,\"ReportDataString\":\"{\\\"schRsltCatDtlCd\\\":\\\"TSH\\\",\\\"schSvcCatDtlCd\\\":\\\"IMG\\\",\\\"svcDtlCd\\\":\\\"WEB\\\",\\\"orgncArtclId\\\":\\\"webhttps%3A%2F%2Fwww.newsweek.com%2F14-foot-burmese-python-loose-indiana-after-escaping-owner-942842\\\",\\\"cntsUrl\\\":\\\"https%3A%2F%2Fwww.newsweek.com%2F14-foot-burmese-python-loose-indiana-after-escaping-owner-942842\\\",\\\"orgncSvcId\\\":\\\"IMG\\\",\\\"orgncSvcNm\\\":\\\"%EC%9B%B9\\\",\\\"reportKwdNm\\\":\\\"python\\\",\\\"artclTitle\\\":\\\"A+14-foot+Burmese+Python+Is+on+the+Loose+in+Indiana+After...+Owner+-+Newsweek+A+14-foot+Burmese+Python+Is+on+the+Loose+in+Indiana\\\",\\\"artclSumryCont\\\":\\\"\\\",\\\"artclRgstrId\\\":\\\"\\\",\\\"cntsLstModYmdtc\\\":\\\"\\\",\\\"cntsFstRgstYmdtc\\\":\\\"000000\\\",\\\"thmnlImgPath\\\":\\\"https%3A%2F%2Fsearch.pstatic.net%2Fsunny%2F%3Fsrc%3Dhttps%253A%252F%252Fd.newsweek.com%252Fen%252Ffull%252F942829%252Frtxohhb.jpg%26type%3Dff332_332\\\"}\",\"viewerOmniThumb\":\"\",\"section\":\"abdb\",\"favicon\":\"\",\"thumbLink\":\"\",\"infoLink\":\"\",\"store\":\"\",\"npay\":\"\",\"typeEllipsis\":0,\"isCatalog\":0,\"exposureLogUrl\":\"\",\"tag\":\"\",\"keywords\":null,\"thumb\":\"https://search.pstatic.net/sunny/?src=https%3A%2F%2Fd.newsweek.com%2Fen%2Ffull%2F942829%2Frtxohhb.jpg\\u0026type=a340\",\"orgWidth\":2200,\"orgHeight\":1464,\"thumbWidth\":340,\"thumbHeight\":226,\"cr\":\"\",\"crArea\":\"W\",\"rank\":9,\"gdid\":\"web_a7e96613614fd3dfb4cb22a62cd9438d\",\"signature\":\"862447774988074\",\"sid\":\"\",\"is_gif\":0},{\"type\":\"image\",\"imgId\":\"image_sas:web_9530598c8909085b1b03f0c3aaf1beb7\",\"link\":\"https://stackoverflow.com/questions/59482340/running-python-program-with-bash-in-windows-says-permission-denied\",\"source\":\"웹\",\"title\":\"Running python program with bash in windows says permission... Running python program with bash in windows says permission denied\",\"color\":\"#B5B68F\",\"profileImg\":\"\",\"alphabet\":\"S\",\"writerTitle\":\"stackoverflow.com\",\"cclType\":0,\"time_str\":\"\",\"dateInfo\":\"2019.12.26.\",\"iconInfo\":\"\",\"payType\":0,\"displayPrice\":\"\",\"tld\":\"stackoverflow.com\",\"collection_lens\":0,\"querySource\":\"python\",\"parentid\":\"\",\"nvmid\":\"\",\"articleid\":\"webhttps://stackoverflow.com/questions/59482340/running-python-program-with-bash-in-windows-says-permission-denied\",\"viewerThumb\":\"https://search.pstatic.net/sunny/?src=https%3A%2F%2Fi.stack.imgur.com%2FRhnaw.jpg\\u0026type=sc960_832\",\"lensThumb\":\"https://search.pstatic.net/sunny/?src=https%3A%2F%2Fi.stack.imgur.com%2FRhnaw.jpg\\u0026type=sc960_832\",\"thumb280\":\"https://search.pstatic.net/sunny/?src=https%3A%2F%2Fi.stack.imgur.com%2FRhnaw.jpg\\u0026type=b280\",\"thumb332\":\"https://search.pstatic.net/sunny/?src=https%3A%2F%2Fi.stack.imgur.com%2FRhnaw.jpg\\u0026type=ff332_332\",\"originalUrl\":\"https://i.stack.imgur.com/Rhnaw.jpg\",\"sttData\":\"\",\"isReport\":1,\"ReportDataString\":\"{\\\"schRsltCatDtlCd\\\":\\\"TSH\\\",\\\"schSvcCatDtlCd\\\":\\\"IMG\\\",\\\"svcDtlCd\\\":\\\"WEB\\\",\\\"orgncArtclId\\\":\\\"webhttps%3A%2F%2Fstackoverflow.com%2Fquestions%2F59482340%2Frunning-python-program-with-bash-in-windows-says-permission-denied\\\",\\\"cntsUrl\\\":\\\"https%3A%2F%2Fstackoverflow.com%2Fquestions%2F59482340%2Frunning-python-program-with-bash-in-windows-says-permission-denied\\\",\\\"orgncSvcId\\\":\\\"IMG\\\",\\\"orgncSvcNm\\\":\\\"%EC%9B%B9\\\",\\\"reportKwdNm\\\":\\\"python\\\",\\\"artclTitle\\\":\\\"Running+python+program+with+bash+in+windows+says+permission...+Running+python+program+with+bash+in+windows+says+permission+denied\\\",\\\"artclSumryCont\\\":\\\"\\\",\\\"artclRgstrId\\\":\\\"\\\",\\\"cntsLstModYmdtc\\\":\\\"\\\",\\\"cntsFstRgstYmdtc\\\":\\\"000000\\\",\\\"thmnlImgPath\\\":\\\"https%3A%2F%2Fsearch.pstatic.net%2Fsunny%2F%3Fsrc%3Dhttps%253A%252F%252Fi.stack.imgur.com%252FRhnaw.jpg%26type%3Dff332_332\\\"}\",\"viewerOmniThumb\":\"\",\"section\":\"abdb\",\"favicon\":\"\",\"thumbLink\":\"\",\"infoLink\":\"\",\"store\":\"\",\"npay\":\"\",\"typeEllipsis\":0,\"isCatalog\":0,\"exposureLogUrl\":\"\",\"tag\":\"\",\"keywords\":null,\"thumb\":\"https://search.pstatic.net/sunny/?src=https%3A%2F%2Fi.stack.imgur.com%2FRhnaw.jpg\\u0026type=l340_165\",\"orgWidth\":4036,\"orgHeight\":1956,\"thumbWidth\":340,\"thumbHeight\":165,\"cr\":\"\",\"crArea\":\"W\",\"rank\":10,\"gdid\":\"web_9530598c8909085b1b03f0c3aaf1beb7\",\"signature\":\"712078434827093\",\"sid\":\"\",\"is_gif\":0},{\"type\":\"image\",\"imgId\":\"image_sas:blog_290d1ecf68babcae276a2fa69a7e0b96\",\"link\":\"https://blog.naver.com/jooshik_lee/223279724951\",\"source\":\"네이버 블로그\",\"title\":\"Python 잡아먹기; Data Science Level2 Lv2\",\"color\":\"#B5B68F\",\"profileImg\":\"https://search.pstatic.net/common/?src=http%3A%2F%2Fblogpfthumb.phinf.naver.net%2FMjAyMjEyMTZfMTIx%2FMDAxNjcxMjAwMTUwMDQw.TmNK9FLDmwaZeravwlWLJ4ECPvhnMHaAc9kAoB34BGAg.vUHxPmA2ue5w-liyLux4okUjujRePwd8oac7Wy5pfMUg.JPEG.jooshik_lee%2FprofileImage.jpg\\u0026type=f80_80\",\"alphabet\":\"B\",\"writerTitle\":\"IT향연 - ITsymposion 기획/마케팅/생산/품질경영\",\"cclType\":5,\"time_str\":\"\",\"dateInfo\":\"2023.12.01.\",\"iconInfo\":\"\",\"payType\":0,\"displayPrice\":\"\",\"tld\":\"blog.naver.com\",\"collection_lens\":0,\"querySource\":\"python\",\"parentid\":\"\",\"nvmid\":\"\",\"articleid\":\"blog1391218|55|223279724951\",\"viewerThumb\":\"https://search.pstatic.net/common/?src=http%3A%2F%2Fblogfiles.naver.net%2FMjAyMzEyMDFfMTMw%2FMDAxNzAxMzg0MTY0NDQw.ubLfhp4ze2BL16Nr-c1qIeY1wJtOmTQ1j18xSAKjV1og.tTYMuKQ9K1xV83AtS3TxoG6k3UNvJhuGgVFGyXxjR9gg.JPEG.jooshik_lee%2F%25B4%25D9%25BF%25EE%25B7%25CE%25B5%25E5%25C6%25C4%25C0%25CF%25A3%25DF20231201%25A3%25DF073158.jpg\\u0026type=sc960_832\",\"lensThumb\":\"https://search.pstatic.net/common/?src=http%3A%2F%2Fblogfiles.naver.net%2FMjAyMzEyMDFfMTMw%2FMDAxNzAxMzg0MTY0NDQw.ubLfhp4ze2BL16Nr-c1qIeY1wJtOmTQ1j18xSAKjV1og.tTYMuKQ9K1xV83AtS3TxoG6k3UNvJhuGgVFGyXxjR9gg.JPEG.jooshik_lee%2F%25B4%25D9%25BF%25EE%25B7%25CE%25B5%25E5%25C6%25C4%25C0%25CF%25A3%25DF20231201%25A3%25DF073158.jpg\\u0026type=sc960_832\",\"thumb280\":\"https://search.pstatic.net/common/?src=http%3A%2F%2Fblogfiles.naver.net%2FMjAyMzEyMDFfMTMw%2FMDAxNzAxMzg0MTY0NDQw.ubLfhp4ze2BL16Nr-c1qIeY1wJtOmTQ1j18xSAKjV1og.tTYMuKQ9K1xV83AtS3TxoG6k3UNvJhuGgVFGyXxjR9gg.JPEG.jooshik_lee%2F%25B4%25D9%25BF%25EE%25B7%25CE%25B5%25E5%25C6%25C4%25C0%25CF%25A3%25DF20231201%25A3%25DF073158.jpg\\u0026type=b280\",\"thumb332\":\"https://search.pstatic.net/common/?src=http%3A%2F%2Fblogfiles.naver.net%2FMjAyMzEyMDFfMTMw%2FMDAxNzAxMzg0MTY0NDQw.ubLfhp4ze2BL16Nr-c1qIeY1wJtOmTQ1j18xSAKjV1og.tTYMuKQ9K1xV83AtS3TxoG6k3UNvJhuGgVFGyXxjR9gg.JPEG.jooshik_lee%2F%25B4%25D9%25BF%25EE%25B7%25CE%25B5%25E5%25C6%25C4%25C0%25CF%25A3%25DF20231201%25A3%25DF073158.jpg\\u0026type=ff332_332\",\"originalUrl\":\"http://blogfiles.naver.net/MjAyMzEyMDFfMTMw/MDAxNzAxMzg0MTY0NDQw.ubLfhp4ze2BL16Nr-c1qIeY1wJtOmTQ1j18xSAKjV1og.tTYMuKQ9K1xV83AtS3TxoG6k3UNvJhuGgVFGyXxjR9gg.JPEG.jooshik_lee/%B4%D9%BF%EE%B7%CE%B5%E5%C6%C4%C0%CF%A3%DF20231201%A3%DF073158.jpg\",\"sttData\":\"\",\"isReport\":1,\"ReportDataString\":\"{\\\"schRsltCatDtlCd\\\":\\\"TSH\\\",\\\"schSvcCatDtlCd\\\":\\\"IMG\\\",\\\"svcDtlCd\\\":\\\"BLG\\\",\\\"orgncArtclId\\\":\\\"blog1391218%7C55%7C223279724951\\\",\\\"cntsUrl\\\":\\\"http%3A%2F%2Fblog.naver.com%2Fjooshik_lee%2F223279724951\\\",\\\"orgncSvcId\\\":\\\"IMG\\\",\\\"orgncSvcNm\\\":\\\"%EB%84%A4%EC%9D%B4%EB%B2%84+%EB%B8%94%EB%A1%9C%EA%B7%B8\\\",\\\"reportKwdNm\\\":\\\"python\\\",\\\"artclTitle\\\":\\\"Python+%EC%9E%A1%EC%95%84%EB%A8%B9%EA%B8%B0%3B+Data+Science+Level2+Lv2\\\",\\\"artclSumryCont\\\":\\\"\\\",\\\"artclRgstrId\\\":\\\"jooshik_lee\\\",\\\"cntsLstModYmdtc\\\":\\\"\\\",\\\"cntsFstRgstYmdtc\\\":\\\"20231201074245\\\",\\\"thmnlImgPath\\\":\\\"https%3A%2F%2Fsearch.pstatic.net%2Fcommon%2F%3Fsrc%3Dhttp%253A%252F%252Fblogfiles.naver.net%252FMjAyMzEyMDFfMTMw%252FMDAxNzAxMzg0MTY0NDQw.ubLfhp4ze2BL16Nr-c1qIeY1wJtOmTQ1j18xSAKjV1og.tTYMuKQ9K1xV83AtS3TxoG6k3UNvJhuGgVFGyXxjR9gg.JPEG.jooshik_lee%252F%2525B4%2525D9%2525BF%2525EE%2525B7%2525CE%2525B5%2525E5%2525C6%2525C4%2525C0%2525CF%2525A3%2525DF20231201%2525A3%2525DF073158.jpg%26type%3Dff332_332\\\"}\",\"viewerOmniThumb\":\"\",\"section\":\"blog\",\"favicon\":\"\",\"thumbLink\":\"\",\"infoLink\":\"\",\"store\":\"\",\"npay\":\"\",\"typeEllipsis\":0,\"isCatalog\":0,\"exposureLogUrl\":\"\",\"tag\":\"\",\"keywords\":null,\"thumb\":\"https://search.pstatic.net/common/?src=http%3A%2F%2Fblogfiles.naver.net%2FMjAyMzEyMDFfMTMw%2FMDAxNzAxMzg0MTY0NDQw.ubLfhp4ze2BL16Nr-c1qIeY1wJtOmTQ1j18xSAKjV1og.tTYMuKQ9K1xV83AtS3TxoG6k3UNvJhuGgVFGyXxjR9gg.JPEG.jooshik_lee%2F%25B4%25D9%25BF%25EE%25B7%25CE%25B5%25E5%25C6%25C4%25C0%25CF%25A3%25DF20231201%25A3%25DF073158.jpg\\u0026type=a340\",\"orgWidth\":601,\"orgHeight\":409,\"thumbWidth\":340,\"thumbHeight\":231,\"cr\":\"\",\"crArea\":\"N\",\"rank\":11,\"gdid\":\"blog_290d1ecf68babcae276a2fa69a7e0b96\",\"signature\":\"723877455935838\",\"sid\":\"\",\"is_gif\":0},{\"type\":\"image\",\"imgId\":\"image_sas:blog_c267b85140eeb5a36fd6079b3df4f29f\",\"link\":\"https://blog.naver.com/kjj5421/223014351869\",\"source\":\"네이버 블로그\",\"title\":\"[구리코딩학원 파이썬 강의] 3월 python 초등/중등부 신규반 개강 안내와 모집\",\"color\":\"#DB9D8F\",\"profileImg\":\"https://search.pstatic.net/common/?src=http%3A%2F%2Fblogpfthumb.phinf.naver.net%2FMjAyMTAxMDJfMjAw%2FMDAxNjA5NTgzMjI0MTMz.xjVQmxE5EOQa39mgb14jZXWpdri2L4Qry6T6mg2t7i4g.2PP7-CflE5LOOtN86H04wfIHyqUnd77p5MKDo7nGygMg.JPEG.kjj5421%2FS1.jpg\\u0026type=f80_80\",\"alphabet\":\"B\",\"writerTitle\":\"RGB스토리\",\"cclType\":0,\"time_str\":\"\",\"dateInfo\":\"2023.02.13.\",\"iconInfo\":\"\",\"payType\":0,\"displayPrice\":\"\",\"tld\":\"blog.naver.com\",\"collection_lens\":0,\"querySource\":\"python\",\"parentid\":\"\",\"nvmid\":\"\",\"articleid\":\"blog34195829|35|223014351869\",\"viewerThumb\":\"https://search.pstatic.net/common/?src=http%3A%2F%2Fblogfiles.naver.net%2FMjAyMzAyMTNfMjMz%2FMDAxNjc2MjczMjA4MDEz.Hc4nroz2aMuh8Ev2yC89muv91AomAm0l3fUkBjBtCm8g.gYffUfx2Bzm7SsIyiGGz1AqnqGE-PtquPbnuz129Orkg.JPEG.kjj5421%2FKakaoTalk_20230213_162035442.jpg\\u0026type=sc960_832\",\"lensThumb\":\"https://search.pstatic.net/common/?src=http%3A%2F%2Fblogfiles.naver.net%2FMjAyMzAyMTNfMjMz%2FMDAxNjc2MjczMjA4MDEz.Hc4nroz2aMuh8Ev2yC89muv91AomAm0l3fUkBjBtCm8g.gYffUfx2Bzm7SsIyiGGz1AqnqGE-PtquPbnuz129Orkg.JPEG.kjj5421%2FKakaoTalk_20230213_162035442.jpg\\u0026type=sc960_832\",\"thumb280\":\"https://search.pstatic.net/common/?src=http%3A%2F%2Fblogfiles.naver.net%2FMjAyMzAyMTNfMjMz%2FMDAxNjc2MjczMjA4MDEz.Hc4nroz2aMuh8Ev2yC89muv91AomAm0l3fUkBjBtCm8g.gYffUfx2Bzm7SsIyiGGz1AqnqGE-PtquPbnuz129Orkg.JPEG.kjj5421%2FKakaoTalk_20230213_162035442.jpg\\u0026type=b280\",\"thumb332\":\"https://search.pstatic.net/common/?src=http%3A%2F%2Fblogfiles.naver.net%2FMjAyMzAyMTNfMjMz%2FMDAxNjc2MjczMjA4MDEz.Hc4nroz2aMuh8Ev2yC89muv91AomAm0l3fUkBjBtCm8g.gYffUfx2Bzm7SsIyiGGz1AqnqGE-PtquPbnuz129Orkg.JPEG.kjj5421%2FKakaoTalk_20230213_162035442.jpg\\u0026type=ff332_332\",\"originalUrl\":\"http://blogfiles.naver.net/MjAyMzAyMTNfMjMz/MDAxNjc2MjczMjA4MDEz.Hc4nroz2aMuh8Ev2yC89muv91AomAm0l3fUkBjBtCm8g.gYffUfx2Bzm7SsIyiGGz1AqnqGE-PtquPbnuz129Orkg.JPEG.kjj5421/KakaoTalk_20230213_162035442.jpg\",\"sttData\":\"\",\"isReport\":1,\"ReportDataString\":\"{\\\"schRsltCatDtlCd\\\":\\\"TSH\\\",\\\"schSvcCatDtlCd\\\":\\\"IMG\\\",\\\"svcDtlCd\\\":\\\"BLG\\\",\\\"orgncArtclId\\\":\\\"blog34195829%7C35%7C223014351869\\\",\\\"cntsUrl\\\":\\\"http%3A%2F%2Fblog.naver.com%2Fkjj5421%2F223014351869\\\",\\\"orgncSvcId\\\":\\\"IMG\\\",\\\"orgncSvcNm\\\":\\\"%EB%84%A4%EC%9D%B4%EB%B2%84+%EB%B8%94%EB%A1%9C%EA%B7%B8\\\",\\\"reportKwdNm\\\":\\\"python\\\",\\\"artclTitle\\\":\\\"%5B%EA%B5%AC%EB%A6%AC%EC%BD%94%EB%94%A9%ED%95%99%EC%9B%90+%ED%8C%8C%EC%9D%B4%EC%8D%AC+%EA%B0%95%EC%9D%98%5D+3%EC%9B%94+python+%EC%B4%88%EB%93%B1%2F%EC%A4%91%EB%93%B1%EB%B6%80+%EC%8B%A0%EA%B7%9C%EB%B0%98+%EA%B0%9C%EA%B0%95+%EC%95%88%EB%82%B4%EC%99%80+%EB%AA%A8%EC%A7%91\\\",\\\"artclSumryCont\\\":\\\"\\\",\\\"artclRgstrId\\\":\\\"kjj5421\\\",\\\"cntsLstModYmdtc\\\":\\\"\\\",\\\"cntsFstRgstYmdtc\\\":\\\"20230213170131\\\",\\\"thmnlImgPath\\\":\\\"https%3A%2F%2Fsearch.pstatic.net%2Fcommon%2F%3Fsrc%3Dhttp%253A%252F%252Fblogfiles.naver.net%252FMjAyMzAyMTNfMjMz%252FMDAxNjc2MjczMjA4MDEz.Hc4nroz2aMuh8Ev2yC89muv91AomAm0l3fUkBjBtCm8g.gYffUfx2Bzm7SsIyiGGz1AqnqGE-PtquPbnuz129Orkg.JPEG.kjj5421%252FKakaoTalk_20230213_162035442.jpg%26type%3Dff332_332\\\"}\",\"viewerOmniThumb\":\"\",\"section\":\"blog\",\"favicon\":\"\",\"thumbLink\":\"\",\"infoLink\":\"\",\"store\":\"\",\"npay\":\"\",\"typeEllipsis\":0,\"isCatalog\":0,\"exposureLogUrl\":\"\",\"tag\":\"\",\"keywords\":null,\"thumb\":\"https://search.pstatic.net/common/?src=http%3A%2F%2Fblogfiles.naver.net%2FMjAyMzAyMTNfMjMz%2FMDAxNjc2MjczMjA4MDEz.Hc4nroz2aMuh8Ev2yC89muv91AomAm0l3fUkBjBtCm8g.gYffUfx2Bzm7SsIyiGGz1AqnqGE-PtquPbnuz129Orkg.JPEG.kjj5421%2FKakaoTalk_20230213_162035442.jpg\\u0026type=a340\",\"orgWidth\":1400,\"orgHeight\":1050,\"thumbWidth\":340,\"thumbHeight\":255,\"cr\":\"\",\"crArea\":\"N\",\"rank\":12,\"gdid\":\"blog_c267b85140eeb5a36fd6079b3df4f29f\",\"signature\":\"850787356050878\",\"sid\":\"\",\"is_gif\":0},{\"type\":\"image\",\"imgId\":\"image_sas:blog_cb9db20b79472b7a9b0918747faecda8\",\"link\":\"https://blog.naver.com/nd1126/223717166948\",\"source\":\"네이버 블로그\",\"title\":\"대전파이썬학원 개발 업무에서 공용 언어로 쓰는 Python 배워볼래?\",\"color\":\"#B5B68F\",\"profileImg\":\"https://search.pstatic.net/common/?src=http%3A%2F%2Fblogpfthumb.phinf.naver.net%2FMjAyNTA0MzBfNDEg%2FMDAxNzQ1OTc4NjE2NTYy.SZSL76WvAYDYVxkmTkxyztCJfbU4XOuumzU8VobTQLEg.WT6hz3_xlTDHiHtfRG38xuJ84VYGjPNPNQS5wiZR4ksg.PNG%2F%25EC%259D%25B4%25EC%2586%258C%25EC%2597%25B02.PNG%2F%25EC%259D%25B4%25EC%2586%258C%25EC%2597%25B02.PNG\\u0026type=f80_80\",\"alphabet\":\"B\",\"writerTitle\":\"IT진로 설계연구소 - 이소연의 커리어 가이드\",\"cclType\":0,\"time_str\":\"\",\"dateInfo\":\"2025.01.07.\",\"iconInfo\":\"sid\",\"payType\":0,\"displayPrice\":\"\",\"tld\":\"blog.naver.com\",\"collection_lens\":0,\"querySource\":\"python\",\"parentid\":\"\",\"nvmid\":\"\",\"articleid\":\"blog44229265|1|223717166948\",\"viewerThumb\":\"https://search.pstatic.net/common/?src=http%3A%2F%2Fblogfiles.naver.net%2FMjAyNTAxMDdfMTg5%2FMDAxNzM2MjE1MzM3NjEw.2nknAob5xTKhnrhn6IdPRWxe-gWAReMvbQdSIcSpGhUg.W_0UA_wtP49YIq_hi3-lGgGaK_5oOEoit3ZoKNvufc4g.PNG%2F003.png\\u0026type=sc960_832\",\"lensThumb\":\"https://search.pstatic.net/common/?src=http%3A%2F%2Fblogfiles.naver.net%2FMjAyNTAxMDdfMTg5%2FMDAxNzM2MjE1MzM3NjEw.2nknAob5xTKhnrhn6IdPRWxe-gWAReMvbQdSIcSpGhUg.W_0UA_wtP49YIq_hi3-lGgGaK_5oOEoit3ZoKNvufc4g.PNG%2F003.png\\u0026type=sc960_832\",\"thumb280\":\"https://search.pstatic.net/common/?src=http%3A%2F%2Fblogfiles.naver.net%2FMjAyNTAxMDdfMTg5%2FMDAxNzM2MjE1MzM3NjEw.2nknAob5xTKhnrhn6IdPRWxe-gWAReMvbQdSIcSpGhUg.W_0UA_wtP49YIq_hi3-lGgGaK_5oOEoit3ZoKNvufc4g.PNG%2F003.png\\u0026type=b280\",\"thumb332\":\"https://search.pstatic.net/common/?src=http%3A%2F%2Fblogfiles.naver.net%2FMjAyNTAxMDdfMTg5%2FMDAxNzM2MjE1MzM3NjEw.2nknAob5xTKhnrhn6IdPRWxe-gWAReMvbQdSIcSpGhUg.W_0UA_wtP49YIq_hi3-lGgGaK_5oOEoit3ZoKNvufc4g.PNG%2F003.png\\u0026type=ff332_332\",\"originalUrl\":\"http://blogfiles.naver.net/MjAyNTAxMDdfMTg5/MDAxNzM2MjE1MzM3NjEw.2nknAob5xTKhnrhn6IdPRWxe-gWAReMvbQdSIcSpGhUg.W_0UA_wtP49YIq_hi3-lGgGaK_5oOEoit3ZoKNvufc4g.PNG/003.png\",\"sttData\":\"\",\"isReport\":1,\"ReportDataString\":\"{\\\"schRsltCatDtlCd\\\":\\\"TSH\\\",\\\"schSvcCatDtlCd\\\":\\\"IMG\\\",\\\"svcDtlCd\\\":\\\"BLG\\\",\\\"orgncArtclId\\\":\\\"blog44229265%7C1%7C223717166948\\\",\\\"cntsUrl\\\":\\\"http%3A%2F%2Fblog.naver.com%2Fnd1126%2F223717166948\\\",\\\"orgncSvcId\\\":\\\"IMG\\\",\\\"orgncSvcNm\\\":\\\"%EB%84%A4%EC%9D%B4%EB%B2%84+%EB%B8%94%EB%A1%9C%EA%B7%B8\\\",\\\"reportKwdNm\\\":\\\"python\\\",\\\"artclTitle\\\":\\\"%EB%8C%80%EC%A0%84%ED%8C%8C%EC%9D%B4%EC%8D%AC%ED%95%99%EC%9B%90+%EA%B0%9C%EB%B0%9C+%EC%97%85%EB%AC%B4%EC%97%90%EC%84%9C+%EA%B3%B5%EC%9A%A9+%EC%96%B8%EC%96%B4%EB%A1%9C+%EC%93%B0%EB%8A%94+Python+%EB%B0%B0%EC%9B%8C%EB%B3%BC%EB%9E%98%3F\\\",\\\"artclSumryCont\\\":\\\"\\\",\\\"artclRgstrId\\\":\\\"nd1126\\\",\\\"cntsLstModYmdtc\\\":\\\"\\\",\\\"cntsFstRgstYmdtc\\\":\\\"20250107110940\\\",\\\"thmnlImgPath\\\":\\\"https%3A%2F%2Fsearch.pstatic.net%2Fcommon%2F%3Fsrc%3Dhttp%253A%252F%252Fblogfiles.naver.net%252FMjAyNTAxMDdfMTg5%252FMDAxNzM2MjE1MzM3NjEw.2nknAob5xTKhnrhn6IdPRWxe-gWAReMvbQdSIcSpGhUg.W_0UA_wtP49YIq_hi3-lGgGaK_5oOEoit3ZoKNvufc4g.PNG%252F003.png%26type%3Dff332_332\\\"}\",\"viewerOmniThumb\":\"\",\"section\":\"blog\",\"favicon\":\"\",\"thumbLink\":\"\",\"infoLink\":\"\",\"store\":\"\",\"npay\":\"\",\"typeEllipsis\":0,\"isCatalog\":0,\"exposureLogUrl\":\"\",\"tag\":\"\",\"keywords\":null,\"thumb\":\"https://search.pstatic.net/common/?src=http%3A%2F%2Fblogfiles.naver.net%2FMjAyNTAxMDdfMTg5%2FMDAxNzM2MjE1MzM3NjEw.2nknAob5xTKhnrhn6IdPRWxe-gWAReMvbQdSIcSpGhUg.W_0UA_wtP49YIq_hi3-lGgGaK_5oOEoit3ZoKNvufc4g.PNG%2F003.png\\u0026type=a340\",\"orgWidth\":694,\"orgHeight\":705,\"thumbWidth\":340,\"thumbHeight\":345,\"cr\":\"\",\"crArea\":\"N\",\"rank\":13,\"gdid\":\"blog_cb9db20b79472b7a9b0918747faecda8\",\"signature\":\"253987633903522\",\"sid\":\"1898480150\",\"is_gif\":0},{\"type\":\"image\",\"imgId\":\"image_sas:web_b3a72ba0a2d581787cbf9727674d916c\",\"link\":\"https://medium.com/pythoneers/lets-rebuild-nivea-s-billion-dollar-drone-spitting-pr-stunt-in-python-3ca209b7cd56\",\"source\":\"웹\",\"title\":\"in Python! | by Ajay Parmar | The Pythoneers | Jan, 2025... Rebuild Nivea’s Billion-Dollar Drone Spitting PR Stunt in Python!\",\"color\":\"#AAbDD0\",\"profileImg\":\"\",\"alphabet\":\"M\",\"writerTitle\":\"medium.com\",\"cclType\":0,\"time_str\":\"\",\"dateInfo\":\"2025.01.05.\",\"iconInfo\":\"\",\"payType\":0,\"displayPrice\":\"\",\"tld\":\"medium.com\",\"collection_lens\":0,\"querySource\":\"python\",\"parentid\":\"\",\"nvmid\":\"\",\"articleid\":\"webhttps://medium.com/pythoneers/lets-rebuild-nivea-s-billion-dollar-drone-spitting-pr-stunt-in-python-3ca209b7cd56\",\"viewerThumb\":\"https://search.pstatic.net/sunny/?src=https%3A%2F%2Fmiro.medium.com%2Fv2%2Fresize%3Afit%3A679%2F0%2AUQfDF4HQeeWvPMeg.jpg\\u0026type=sc960_832\",\"lensThumb\":\"https://search.pstatic.net/sunny/?src=https%3A%2F%2Fmiro.medium.com%2Fv2%2Fresize%3Afit%3A679%2F0%2AUQfDF4HQeeWvPMeg.jpg\\u0026type=sc960_832\",\"thumb280\":\"https://search.pstatic.net/sunny/?src=https%3A%2F%2Fmiro.medium.com%2Fv2%2Fresize%3Afit%3A679%2F0%2AUQfDF4HQeeWvPMeg.jpg\\u0026type=b280\",\"thumb332\":\"https://search.pstatic.net/sunny/?src=https%3A%2F%2Fmiro.medium.com%2Fv2%2Fresize%3Afit%3A679%2F0%2AUQfDF4HQeeWvPMeg.jpg\\u0026type=ff332_332\",\"originalUrl\":\"https://miro.medium.com/v2/resize:fit:679/0*UQfDF4HQeeWvPMeg.jpg\",\"sttData\":\"\",\"isReport\":1,\"ReportDataString\":\"{\\\"schRsltCatDtlCd\\\":\\\"TSH\\\",\\\"schSvcCatDtlCd\\\":\\\"IMG\\\",\\\"svcDtlCd\\\":\\\"WEB\\\",\\\"orgncArtclId\\\":\\\"webhttps%3A%2F%2Fmedium.com%2Fpythoneers%2Flets-rebuild-nivea-s-billion-dollar-drone-spitting-pr-stunt-in-python-3ca209b7cd56\\\",\\\"cntsUrl\\\":\\\"https%3A%2F%2Fmedium.com%2Fpythoneers%2Flets-rebuild-nivea-s-billion-dollar-drone-spitting-pr-stunt-in-python-3ca209b7cd56\\\",\\\"orgncSvcId\\\":\\\"IMG\\\",\\\"orgncSvcNm\\\":\\\"%EC%9B%B9\\\",\\\"reportKwdNm\\\":\\\"python\\\",\\\"artclTitle\\\":\\\"in+Python%21+%7C+by+Ajay+Parmar+%7C+The+Pythoneers+%7C+Jan%2C+2025...+Rebuild+Nivea%E2%80%99s+Billion-Dollar+Drone+Spitting+PR+Stunt+in+Python%21\\\",\\\"artclSumryCont\\\":\\\"\\\",\\\"artclRgstrId\\\":\\\"\\\",\\\"cntsLstModYmdtc\\\":\\\"\\\",\\\"cntsFstRgstYmdtc\\\":\\\"000000\\\",\\\"thmnlImgPath\\\":\\\"https%3A%2F%2Fsearch.pstatic.net%2Fsunny%2F%3Fsrc%3Dhttps%253A%252F%252Fmiro.medium.com%252Fv2%252Fresize%253Afit%253A679%252F0%252AUQfDF4HQeeWvPMeg.jpg%26type%3Dff332_332\\\"}\",\"viewerOmniThumb\":\"\",\"section\":\"abdb\",\"favicon\":\"\",\"thumbLink\":\"\",\"infoLink\":\"\",\"store\":\"\",\"npay\":\"\",\"typeEllipsis\":0,\"isCatalog\":0,\"exposureLogUrl\":\"\",\"tag\":\"\",\"keywords\":null,\"thumb\":\"https://search.pstatic.net/sunny/?src=https%3A%2F%2Fmiro.medium.com%2Fv2%2Fresize%3Afit%3A679%2F0%2AUQfDF4HQeeWvPMeg.jpg\\u0026type=a340\",\"orgWidth\":679,\"orgHeight\":509,\"thumbWidth\":340,\"thumbHeight\":255,\"cr\":\"\",\"crArea\":\"W\",\"rank\":14,\"gdid\":\"web_b3a72ba0a2d581787cbf9727674d916c\",\"signature\":\"960526816141592\",\"sid\":\"\",\"is_gif\":0},{\"type\":\"image\",\"imgId\":\"image_sas:web_5029680302693b76f222934139632091\",\"link\":\"https://www.youtube.com/channel/UC42oCv-l8LEjPV9A2TKNSMw/about\",\"source\":\"웹\",\"title\":\"Python Ninja Short - YouTube Python Ninja Short\",\"color\":\"#C2C7CC\",\"profileImg\":\"\",\"alphabet\":\"Y\",\"writerTitle\":\"youtube.com\",\"cclType\":0,\"time_str\":\"\",\"dateInfo\":\"2024.09.30.\",\"iconInfo\":\"\",\"payType\":0,\"displayPrice\":\"\",\"tld\":\"youtube.com\",\"collection_lens\":0,\"querySource\":\"python\",\"parentid\":\"\",\"nvmid\":\"\",\"articleid\":\"webhttps://www.youtube.com/channel/UC42oCv-l8LEjPV9A2TKNSMw/about\",\"viewerThumb\":\"https://search.pstatic.net/sunny/?src=https%3A%2F%2Fyt3.googleusercontent.com%2FKOUi7jjjdyH2o-b5qd1-Y7ACrRLlQuIzx_wxxYstJq-c3Yfhu5QpVaryAhxA47Uo_sJJpqLn5Q%3Ds900-c-k-c0x00ffffff-no-rj\\u0026type=sc960_832\",\"lensThumb\":\"https://search.pstatic.net/sunny/?src=https%3A%2F%2Fyt3.googleusercontent.com%2FKOUi7jjjdyH2o-b5qd1-Y7ACrRLlQuIzx_wxxYstJq-c3Yfhu5QpVaryAhxA47Uo_sJJpqLn5Q%3Ds900-c-k-c0x00ffffff-no-rj\\u0026type=sc960_832\",\"thumb280\":\"https://search.pstatic.net/sunny/?src=https%3A%2F%2Fyt3.googleusercontent.com%2FKOUi7jjjdyH2o-b5qd1-Y7ACrRLlQuIzx_wxxYstJq-c3Yfhu5QpVaryAhxA47Uo_sJJpqLn5Q%3Ds900-c-k-c0x00ffffff-no-rj\\u0026type=b280\",\"thumb332\":\"https://search.pstatic.net/sunny/?src=https%3A%2F%2Fyt3.googleusercontent.com%2FKOUi7jjjdyH2o-b5qd1-Y7ACrRLlQuIzx_wxxYstJq-c3Yfhu5QpVaryAhxA47Uo_sJJpqLn5Q%3Ds900-c-k-c0x00ffffff-no-rj\\u0026type=ff332_332\",\"originalUrl\":\"https://yt3.googleusercontent.com/KOUi7jjjdyH2o-b5qd1-Y7ACrRLlQuIzx_wxxYstJq-c3Yfhu5QpVaryAhxA47Uo_sJJpqLn5Q=s900-c-k-c0x00ffffff-no-rj\",\"sttData\":\"\",\"isReport\":1,\"ReportDataString\":\"{\\\"schRsltCatDtlCd\\\":\\\"TSH\\\",\\\"schSvcCatDtlCd\\\":\\\"IMG\\\",\\\"svcDtlCd\\\":\\\"WEB\\\",\\\"orgncArtclId\\\":\\\"webhttps%3A%2F%2Fwww.youtube.com%2Fchannel%2FUC42oCv-l8LEjPV9A2TKNSMw%2Fabout\\\",\\\"cntsUrl\\\":\\\"https%3A%2F%2Fwww.youtube.com%2Fchannel%2FUC42oCv-l8LEjPV9A2TKNSMw%2Fabout\\\",\\\"orgncSvcId\\\":\\\"IMG\\\",\\\"orgncSvcNm\\\":\\\"%EC%9B%B9\\\",\\\"reportKwdNm\\\":\\\"python\\\",\\\"artclTitle\\\":\\\"Python+Ninja+Short+-+YouTube+Python+Ninja+Short\\\",\\\"artclSumryCont\\\":\\\"\\\",\\\"artclRgstrId\\\":\\\"\\\",\\\"cntsLstModYmdtc\\\":\\\"\\\",\\\"cntsFstRgstYmdtc\\\":\\\"000000\\\",\\\"thmnlImgPath\\\":\\\"https%3A%2F%2Fsearch.pstatic.net%2Fsunny%2F%3Fsrc%3Dhttps%253A%252F%252Fyt3.googleusercontent.com%252FKOUi7jjjdyH2o-b5qd1-Y7ACrRLlQuIzx_wxxYstJq-c3Yfhu5QpVaryAhxA47Uo_sJJpqLn5Q%253Ds900-c-k-c0x00ffffff-no-rj%26type%3Dff332_332\\\"}\",\"viewerOmniThumb\":\"\",\"section\":\"abdb\",\"favicon\":\"\",\"thumbLink\":\"\",\"infoLink\":\"\",\"store\":\"\",\"npay\":\"\",\"typeEllipsis\":0,\"isCatalog\":0,\"exposureLogUrl\":\"\",\"tag\":\"\",\"keywords\":null,\"thumb\":\"https://search.pstatic.net/sunny/?src=https%3A%2F%2Fyt3.googleusercontent.com%2FKOUi7jjjdyH2o-b5qd1-Y7ACrRLlQuIzx_wxxYstJq-c3Yfhu5QpVaryAhxA47Uo_sJJpqLn5Q%3Ds900-c-k-c0x00ffffff-no-rj\\u0026type=a340\",\"orgWidth\":900,\"orgHeight\":900,\"thumbWidth\":340,\"thumbHeight\":340,\"cr\":\"\",\"crArea\":\"W\",\"rank\":15,\"gdid\":\"web_5029680302693b76f222934139632091\",\"signature\":\"401926834244673\",\"sid\":\"\",\"is_gif\":0},{\"type\":\"image\",\"imgId\":\"image_sas:web_382a5c5415afcecca88a2f7320b1ec6e\",\"link\":\"http://www.gettyimagesbank.com/i/146772538\",\"source\":\"웹\",\"title\":\"Green Tree Python 이미지 (146772538) - 게티이미지뱅크 Green Tree Python\",\"color\":\"#AAbDD0\",\"profileImg\":\"\",\"alphabet\":\"G\",\"writerTitle\":\"gettyimagesbank.com\",\"cclType\":0,\"time_str\":\"\",\"dateInfo\":\"2016.09.27.\",\"iconInfo\":\"\",\"payType\":0,\"displayPrice\":\"\",\"tld\":\"gettyimagesbank.com\",\"collection_lens\":0,\"querySource\":\"python\",\"parentid\":\"\",\"nvmid\":\"\",\"articleid\":\"webhttp://www.gettyimagesbank.com/i/146772538\",\"viewerThumb\":\"https://search.pstatic.net/sunny/?src=http%3A%2F%2Fimagescdn.gettyimagesbank.com%2F500%2F10%2F808%2F234%2F0%2F146772538.jpg\\u0026type=sc960_832\",\"lensThumb\":\"https://search.pstatic.net/sunny/?src=http%3A%2F%2Fimagescdn.gettyimagesbank.com%2F500%2F10%2F808%2F234%2F0%2F146772538.jpg\\u0026type=sc960_832\",\"thumb280\":\"https://search.pstatic.net/sunny/?src=http%3A%2F%2Fimagescdn.gettyimagesbank.com%2F500%2F10%2F808%2F234%2F0%2F146772538.jpg\\u0026type=b280\",\"thumb332\":\"https://search.pstatic.net/sunny/?src=http%3A%2F%2Fimagescdn.gettyimagesbank.com%2F500%2F10%2F808%2F234%2F0%2F146772538.jpg\\u0026type=ff332_332\",\"originalUrl\":\"http://imagescdn.gettyimagesbank.com/500/10/808/234/0/146772538.jpg\",\"sttData\":\"\",\"isReport\":1,\"ReportDataString\":\"{\\\"schRsltCatDtlCd\\\":\\\"TSH\\\",\\\"schSvcCatDtlCd\\\":\\\"IMG\\\",\\\"svcDtlCd\\\":\\\"WEB\\\",\\\"orgncArtclId\\\":\\\"webhttp%3A%2F%2Fwww.gettyimagesbank.com%2Fi%2F146772538\\\",\\\"cntsUrl\\\":\\\"http%3A%2F%2Fwww.gettyimagesbank.com%2Fi%2F146772538\\\",\\\"orgncSvcId\\\":\\\"IMG\\\",\\\"orgncSvcNm\\\":\\\"%EC%9B%B9\\\",\\\"reportKwdNm\\\":\\\"python\\\",\\\"artclTitle\\\":\\\"Green+Tree+Python+%EC%9D%B4%EB%AF%B8%EC%A7%80+%28146772538%29+-+%EA%B2%8C%ED%8B%B0%EC%9D%B4%EB%AF%B8%EC%A7%80%EB%B1%85%ED%81%AC+Green+Tree+Python\\\",\\\"artclSumryCont\\\":\\\"\\\",\\\"artclRgstrId\\\":\\\"\\\",\\\"cntsLstModYmdtc\\\":\\\"\\\",\\\"cntsFstRgstYmdtc\\\":\\\"000000\\\",\\\"thmnlImgPath\\\":\\\"https%3A%2F%2Fsearch.pstatic.net%2Fsunny%2F%3Fsrc%3Dhttp%253A%252F%252Fimagescdn.gettyimagesbank.com%252F500%252F10%252F808%252F234%252F0%252F146772538.jpg%26type%3Dff332_332\\\"}\",\"viewerOmniThumb\":\"\",\"section\":\"abdb\",\"favicon\":\"\",\"thumbLink\":\"\",\"infoLink\":\"\",\"store\":\"\",\"npay\":\"\",\"typeEllipsis\":0,\"isCatalog\":0,\"exposureLogUrl\":\"\",\"tag\":\"\",\"keywords\":null,\"thumb\":\"https://search.pstatic.net/sunny/?src=http%3A%2F%2Fimagescdn.gettyimagesbank.com%2F500%2F10%2F808%2F234%2F0%2F146772538.jpg\\u0026type=a340\",\"orgWidth\":506,\"orgHeight\":339,\"thumbWidth\":340,\"thumbHeight\":228,\"cr\":\"\",\"crArea\":\"W\",\"rank\":16,\"gdid\":\"web_382a5c5415afcecca88a2f7320b1ec6e\",\"signature\":\"867342621266184\",\"sid\":\"\",\"is_gif\":0},{\"type\":\"image\",\"imgId\":\"image_sas:web_32ae8f437aed8caf3cfafdefd6b83b81\",\"link\":\"https://unsplash.com/ko/%EC%82%AC%EC%A7%84/%EB%85%B9%EC%83%89%EA%B3%BC-%ED%9D%B0%EC%83%89-%EB%B1%80-%EA%B7%B8%EB%A6%BC-9wRM5PAAyAA\",\"source\":\"웹\",\"title\":\"녹색과 흰색 뱀 그림 사진 – Unsplash의 무료 동물 이미지 Unsplash에 있는 David Clode의 사진\",\"color\":\"#AAbDD0\",\"profileImg\":\"\",\"alphabet\":\"U\",\"writerTitle\":\"unsplash.com\",\"cclType\":0,\"time_str\":\"\",\"dateInfo\":\"2024.01.26.\",\"iconInfo\":\"\",\"payType\":0,\"displayPrice\":\"\",\"tld\":\"unsplash.com\",\"collection_lens\":0,\"querySource\":\"python\",\"parentid\":\"\",\"nvmid\":\"\",\"articleid\":\"webhttps://unsplash.com/ko/%EC%82%AC%EC%A7%84/%EB%85%B9%EC%83%89%EA%B3%BC-%ED%9D%B0%EC%83%89-%EB%B1%80-%EA%B7%B8%EB%A6%BC-9wRM5PAAyAA\",\"viewerThumb\":\"https://search.pstatic.net/sunny/?src=https%3A%2F%2Fimages.unsplash.com%2Fphoto-1538439907460-1596cafd4eff%3Ffm%3Djpg%26q%3D60%26w%3D3000%26ixlib%3Drb-4.1.0%26ixid%3DM3wxMjA3fDB8MHxwaG90by1yZWxhdGVkfDE1fHx8ZW58MHx8fHx8\\u0026type=sc960_832\",\"lensThumb\":\"https://search.pstatic.net/sunny/?src=https%3A%2F%2Fimages.unsplash.com%2Fphoto-1538439907460-1596cafd4eff%3Ffm%3Djpg%26q%3D60%26w%3D3000%26ixlib%3Drb-4.1.0%26ixid%3DM3wxMjA3fDB8MHxwaG90by1yZWxhdGVkfDE1fHx8ZW58MHx8fHx8\\u0026type=sc960_832\",\"thumb280\":\"https://search.pstatic.net/sunny/?src=https%3A%2F%2Fimages.unsplash.com%2Fphoto-1538439907460-1596cafd4eff%3Ffm%3Djpg%26q%3D60%26w%3D3000%26ixlib%3Drb-4.1.0%26ixid%3DM3wxMjA3fDB8MHxwaG90by1yZWxhdGVkfDE1fHx8ZW58MHx8fHx8\\u0026type=b280\",\"thumb332\":\"https://search.pstatic.net/sunny/?src=https%3A%2F%2Fimages.unsplash.com%2Fphoto-1538439907460-1596cafd4eff%3Ffm%3Djpg%26q%3D60%26w%3D3000%26ixlib%3Drb-4.1.0%26ixid%3DM3wxMjA3fDB8MHxwaG90by1yZWxhdGVkfDE1fHx8ZW58MHx8fHx8\\u0026type=ff332_332\",\"originalUrl\":\"https://images.unsplash.com/photo-1538439907460-1596cafd4eff?fm=jpg\\u0026q=60\\u0026w=3000\\u0026ixlib=rb-4.1.0\\u0026ixid=M3wxMjA3fDB8MHxwaG90by1yZWxhdGVkfDE1fHx8ZW58MHx8fHx8\",\"sttData\":\"\",\"isReport\":1,\"ReportDataString\":\"{\\\"schRsltCatDtlCd\\\":\\\"TSH\\\",\\\"schSvcCatDtlCd\\\":\\\"IMG\\\",\\\"svcDtlCd\\\":\\\"WEB\\\",\\\"orgncArtclId\\\":\\\"webhttps%3A%2F%2Funsplash.com%2Fko%2F%25EC%2582%25AC%25EC%25A7%2584%2F%25EB%2585%25B9%25EC%2583%2589%25EA%25B3%25BC-%25ED%259D%25B0%25EC%2583%2589-%25EB%25B1%2580-%25EA%25B7%25B8%25EB%25A6%25BC-9wRM5PAAyAA\\\",\\\"cntsUrl\\\":\\\"https%3A%2F%2Funsplash.com%2Fko%2F%25EC%2582%25AC%25EC%25A7%2584%2F%25EB%2585%25B9%25EC%2583%2589%25EA%25B3%25BC-%25ED%259D%25B0%25EC%2583%2589-%25EB%25B1%2580-%25EA%25B7%25B8%25EB%25A6%25BC-9wRM5PAAyAA\\\",\\\"orgncSvcId\\\":\\\"IMG\\\",\\\"orgncSvcNm\\\":\\\"%EC%9B%B9\\\",\\\"reportKwdNm\\\":\\\"python\\\",\\\"artclTitle\\\":\\\"%EB%85%B9%EC%83%89%EA%B3%BC+%ED%9D%B0%EC%83%89+%EB%B1%80+%EA%B7%B8%EB%A6%BC+%EC%82%AC%EC%A7%84+%E2%80%93+Unsplash%EC%9D%98+%EB%AC%B4%EB%A3%8C+%EB%8F%99%EB%AC%BC+%EC%9D%B4%EB%AF%B8%EC%A7%80+Unsplash%EC%97%90+%EC%9E%88%EB%8A%94+David+Clode%EC%9D%98+%EC%82%AC%EC%A7%84\\\",\\\"artclSumryCont\\\":\\\"\\\",\\\"artclRgstrId\\\":\\\"\\\",\\\"cntsLstModYmdtc\\\":\\\"\\\",\\\"cntsFstRgstYmdtc\\\":\\\"000000\\\",\\\"thmnlImgPath\\\":\\\"https%3A%2F%2Fsearch.pstatic.net%2Fsunny%2F%3Fsrc%3Dhttps%253A%252F%252Fimages.unsplash.com%252Fphoto-1538439907460-1596cafd4eff%253Ffm%253Djpg%2526q%253D60%2526w%253D3000%2526ixlib%253Drb-4.1.0%2526ixid%253DM3wxMjA3fDB8MHxwaG90by1yZWxhdGVkfDE1fHx8ZW58MHx8fHx8%26type%3Dff332_332\\\"}\",\"viewerOmniThumb\":\"\",\"section\":\"abdb\",\"favicon\":\"\",\"thumbLink\":\"\",\"infoLink\":\"\",\"store\":\"\",\"npay\":\"\",\"typeEllipsis\":0,\"isCatalog\":0,\"exposureLogUrl\":\"\",\"tag\":\"\",\"keywords\":null,\"thumb\":\"https://search.pstatic.net/sunny/?src=https%3A%2F%2Fimages.unsplash.com%2Fphoto-1538439907460-1596cafd4eff%3Ffm%3Djpg%26q%3D60%26w%3D3000%26ixlib%3Drb-4.1.0%26ixid%3DM3wxMjA3fDB8MHxwaG90by1yZWxhdGVkfDE1fHx8ZW58MHx8fHx8\\u0026type=a340\",\"orgWidth\":3000,\"orgHeight\":2033,\"thumbWidth\":340,\"thumbHeight\":230,\"cr\":\"\",\"crArea\":\"W\",\"rank\":17,\"gdid\":\"web_32ae8f437aed8caf3cfafdefd6b83b81\",\"signature\":\"605264109240109\",\"sid\":\"\",\"is_gif\":0},{\"type\":\"image\",\"imgId\":\"image_sas:web_9bf2a5a0214a814dd06c58d7e960e6d6\",\"link\":\"https://medium.com/coinmonks/grid-trading-bot-in-python-9a6e77519698\",\"source\":\"웹\",\"title\":\"Grid Trading Bot in Python. In this article we will be creating... by Craig Mariani | Coinmonks | Medium Grid Trading Bot in Python\",\"color\":\"#C2C7CC\",\"profileImg\":\"\",\"alphabet\":\"M\",\"writerTitle\":\"medium.com\",\"cclType\":0,\"time_str\":\"\",\"dateInfo\":\"2024.06.22.\",\"iconInfo\":\"\",\"payType\":0,\"displayPrice\":\"\",\"tld\":\"medium.com\",\"collection_lens\":0,\"querySource\":\"python\",\"parentid\":\"\",\"nvmid\":\"\",\"articleid\":\"webhttps://medium.com/coinmonks/grid-trading-bot-in-python-9a6e77519698\",\"viewerThumb\":\"https://search.pstatic.net/sunny/?src=https%3A%2F%2Fmiro.medium.com%2Fv2%2Fresize%3Afit%3A1200%2F1%2A-2qT21qJp5BSMqfDvmkLQA.png\\u0026type=sc960_832\",\"lensThumb\":\"https://search.pstatic.net/sunny/?src=https%3A%2F%2Fmiro.medium.com%2Fv2%2Fresize%3Afit%3A1200%2F1%2A-2qT21qJp5BSMqfDvmkLQA.png\\u0026type=sc960_832\",\"thumb280\":\"https://search.pstatic.net/sunny/?src=https%3A%2F%2Fmiro.medium.com%2Fv2%2Fresize%3Afit%3A1200%2F1%2A-2qT21qJp5BSMqfDvmkLQA.png\\u0026type=b280\",\"thumb332\":\"https://search.pstatic.net/sunny/?src=https%3A%2F%2Fmiro.medium.com%2Fv2%2Fresize%3Afit%3A1200%2F1%2A-2qT21qJp5BSMqfDvmkLQA.png\\u0026type=ff332_332\",\"originalUrl\":\"https://miro.medium.com/v2/resize:fit:1200/1*-2qT21qJp5BSMqfDvmkLQA.png\",\"sttData\":\"\",\"isReport\":1,\"ReportDataString\":\"{\\\"schRsltCatDtlCd\\\":\\\"TSH\\\",\\\"schSvcCatDtlCd\\\":\\\"IMG\\\",\\\"svcDtlCd\\\":\\\"WEB\\\",\\\"orgncArtclId\\\":\\\"webhttps%3A%2F%2Fmedium.com%2Fcoinmonks%2Fgrid-trading-bot-in-python-9a6e77519698\\\",\\\"cntsUrl\\\":\\\"https%3A%2F%2Fmedium.com%2Fcoinmonks%2Fgrid-trading-bot-in-python-9a6e77519698\\\",\\\"orgncSvcId\\\":\\\"IMG\\\",\\\"orgncSvcNm\\\":\\\"%EC%9B%B9\\\",\\\"reportKwdNm\\\":\\\"python\\\",\\\"artclTitle\\\":\\\"Grid+Trading+Bot+in+Python.+In+this+article+we+will+be+creating...+by+Craig+Mariani+%7C+Coinmonks+%7C+Medium+Grid+Trading+Bot+in+Python\\\",\\\"artclSumryCont\\\":\\\"\\\",\\\"artclRgstrId\\\":\\\"\\\",\\\"cntsLstModYmdtc\\\":\\\"\\\",\\\"cntsFstRgstYmdtc\\\":\\\"000000\\\",\\\"thmnlImgPath\\\":\\\"https%3A%2F%2Fsearch.pstatic.net%2Fsunny%2F%3Fsrc%3Dhttps%253A%252F%252Fmiro.medium.com%252Fv2%252Fresize%253Afit%253A1200%252F1%252A-2qT21qJp5BSMqfDvmkLQA.png%26type%3Dff332_332\\\"}\",\"viewerOmniThumb\":\"\",\"section\":\"abdb\",\"favicon\":\"\",\"thumbLink\":\"\",\"infoLink\":\"\",\"store\":\"\",\"npay\":\"\",\"typeEllipsis\":0,\"isCatalog\":0,\"exposureLogUrl\":\"\",\"tag\":\"\",\"keywords\":null,\"thumb\":\"https://search.pstatic.net/sunny/?src=https%3A%2F%2Fmiro.medium.com%2Fv2%2Fresize%3Afit%3A1200%2F1%2A-2qT21qJp5BSMqfDvmkLQA.png\\u0026type=a340\",\"orgWidth\":1200,\"orgHeight\":675,\"thumbWidth\":340,\"thumbHeight\":191,\"cr\":\"\",\"crArea\":\"W\",\"rank\":18,\"gdid\":\"web_9bf2a5a0214a814dd06c58d7e960e6d6\",\"signature\":\"578368532559576\",\"sid\":\"\",\"is_gif\":0},{\"type\":\"image\",\"imgId\":\"image_sas:blog_ff38823a7d937f96c58415dcab6bdabb\",\"link\":\"https://blog.naver.com/beh1996/223501776427\",\"source\":\"네이버 블로그\",\"title\":\"[Python] 프로그래밍 기본 개념 #06. 함수\",\"color\":\"#BDB8CE\",\"profileImg\":\"https://search.pstatic.net/common/?src=http%3A%2F%2Fblogpfthumb.phinf.naver.net%2FMjAyNDA0MjhfMyAg%2FMDAxNzE0Mjc0NTc1MDMz.HW7BRveoy2PLgmzd2suSDIhmEAHMRzuNLMHrzZmBSTkg.yYdU6OQvH4VwGqlcmIkiYncS__xq4O-xzBxg3sHfXLYg.PNG%2FIMG_4709.png%2FIMG_4709.png\\u0026type=f80_80\",\"alphabet\":\"B\",\"writerTitle\":\"The Pursuit of Happiness\",\"cclType\":0,\"time_str\":\"\",\"dateInfo\":\"2024.07.05.\",\"iconInfo\":\"\",\"payType\":0,\"displayPrice\":\"\",\"tld\":\"blog.naver.com\",\"collection_lens\":0,\"querySource\":\"python\",\"parentid\":\"\",\"nvmid\":\"\",\"articleid\":\"blog114455604|23|223501776427\",\"viewerThumb\":\"https://search.pstatic.net/common/?src=http%3A%2F%2Fblogfiles.naver.net%2FMjAyNDA0MjlfMTgg%2FMDAxNzE0Mzc2MDY5MjA4.HzRmJ0j3-EA7FHYHKqEfq9Wv4_V-DlOpwVQRXvRbcNog.BR3twchsBE54Z9E3FirBlXcFoqXQbiXxV8LJnZOkogIg.PNG%2F%25BD%25BA%25C5%25A9%25B8%25B0%25BC%25A6_2024-04-29_16.26.29.png\\u0026type=sc960_832\",\"lensThumb\":\"https://search.pstatic.net/common/?src=http%3A%2F%2Fblogfiles.naver.net%2FMjAyNDA0MjlfMTgg%2FMDAxNzE0Mzc2MDY5MjA4.HzRmJ0j3-EA7FHYHKqEfq9Wv4_V-DlOpwVQRXvRbcNog.BR3twchsBE54Z9E3FirBlXcFoqXQbiXxV8LJnZOkogIg.PNG%2F%25BD%25BA%25C5%25A9%25B8%25B0%25BC%25A6_2024-04-29_16.26.29.png\\u0026type=sc960_832\",\"thumb280\":\"https://search.pstatic.net/common/?src=http%3A%2F%2Fblogfiles.naver.net%2FMjAyNDA0MjlfMTgg%2FMDAxNzE0Mzc2MDY5MjA4.HzRmJ0j3-EA7FHYHKqEfq9Wv4_V-DlOpwVQRXvRbcNog.BR3twchsBE54Z9E3FirBlXcFoqXQbiXxV8LJnZOkogIg.PNG%2F%25BD%25BA%25C5%25A9%25B8%25B0%25BC%25A6_2024-04-29_16.26.29.png\\u0026type=b280\",\"thumb332\":\"https://search.pstatic.net/common/?src=http%3A%2F%2Fblogfiles.naver.net%2FMjAyNDA0MjlfMTgg%2FMDAxNzE0Mzc2MDY5MjA4.HzRmJ0j3-EA7FHYHKqEfq9Wv4_V-DlOpwVQRXvRbcNog.BR3twchsBE54Z9E3FirBlXcFoqXQbiXxV8LJnZOkogIg.PNG%2F%25BD%25BA%25C5%25A9%25B8%25B0%25BC%25A6_2024-04-29_16.26.29.png\\u0026type=ff332_332\",\"originalUrl\":\"http://blogfiles.naver.net/MjAyNDA0MjlfMTgg/MDAxNzE0Mzc2MDY5MjA4.HzRmJ0j3-EA7FHYHKqEfq9Wv4_V-DlOpwVQRXvRbcNog.BR3twchsBE54Z9E3FirBlXcFoqXQbiXxV8LJnZOkogIg.PNG/%BD%BA%C5%A9%B8%B0%BC%A6_2024-04-29_16.26.29.png\",\"sttData\":\"\",\"isReport\":1,\"ReportDataString\":\"{\\\"schRsltCatDtlCd\\\":\\\"TSH\\\",\\\"schSvcCatDtlCd\\\":\\\"IMG\\\",\\\"svcDtlCd\\\":\\\"BLG\\\",\\\"orgncArtclId\\\":\\\"blog114455604%7C23%7C223501776427\\\",\\\"cntsUrl\\\":\\\"http%3A%2F%2Fblog.naver.com%2Fbeh1996%2F223501776427\\\",\\\"orgncSvcId\\\":\\\"IMG\\\",\\\"orgncSvcNm\\\":\\\"%EB%84%A4%EC%9D%B4%EB%B2%84+%EB%B8%94%EB%A1%9C%EA%B7%B8\\\",\\\"reportKwdNm\\\":\\\"python\\\",\\\"artclTitle\\\":\\\"%5BPython%5D+%ED%94%84%EB%A1%9C%EA%B7%B8%EB%9E%98%EB%B0%8D+%EA%B8%B0%EB%B3%B8+%EA%B0%9C%EB%85%90+%2306.+%ED%95%A8%EC%88%98\\\",\\\"artclSumryCont\\\":\\\"\\\",\\\"artclRgstrId\\\":\\\"beh1996\\\",\\\"cntsLstModYmdtc\\\":\\\"\\\",\\\"cntsFstRgstYmdtc\\\":\\\"20240705010559\\\",\\\"thmnlImgPath\\\":\\\"https%3A%2F%2Fsearch.pstatic.net%2Fcommon%2F%3Fsrc%3Dhttp%253A%252F%252Fblogfiles.naver.net%252FMjAyNDA0MjlfMTgg%252FMDAxNzE0Mzc2MDY5MjA4.HzRmJ0j3-EA7FHYHKqEfq9Wv4_V-DlOpwVQRXvRbcNog.BR3twchsBE54Z9E3FirBlXcFoqXQbiXxV8LJnZOkogIg.PNG%252F%2525BD%2525BA%2525C5%2525A9%2525B8%2525B0%2525BC%2525A6_2024-04-29_16.26.29.png%26type%3Dff332_332\\\"}\",\"viewerOmniThumb\":\"\",\"section\":\"blog\",\"favicon\":\"\",\"thumbLink\":\"\",\"infoLink\":\"\",\"store\":\"\",\"npay\":\"\",\"typeEllipsis\":0,\"isCatalog\":0,\"exposureLogUrl\":\"\",\"tag\":\"\",\"keywords\":null,\"thumb\":\"https://search.pstatic.net/common/?src=http%3A%2F%2Fblogfiles.naver.net%2FMjAyNDA0MjlfMTgg%2FMDAxNzE0Mzc2MDY5MjA4.HzRmJ0j3-EA7FHYHKqEfq9Wv4_V-DlOpwVQRXvRbcNog.BR3twchsBE54Z9E3FirBlXcFoqXQbiXxV8LJnZOkogIg.PNG%2F%25BD%25BA%25C5%25A9%25B8%25B0%25BC%25A6_2024-04-29_16.26.29.png\\u0026type=a340\",\"orgWidth\":2240,\"orgHeight\":1512,\"thumbWidth\":340,\"thumbHeight\":230,\"cr\":\"\",\"crArea\":\"N\",\"rank\":19,\"gdid\":\"blog_ff38823a7d937f96c58415dcab6bdabb\",\"signature\":\"1092442961543195\",\"sid\":\"\",\"is_gif\":0},{\"type\":\"image\",\"imgId\":\"image_sas:web_4423d865e7201cc49406afe2b898e50d\",\"link\":\"https://wall.alphacoders.com/big.php?i=451679\",\"source\":\"웹\",\"title\":\"green python HD Wallpaper | Background Image | 3456x2304 | ID... green python HD Wallpaper | Background Image | 3456x2304 | ID...\",\"color\":\"#C2C7CC\",\"profileImg\":\"\",\"alphabet\":\"W\",\"writerTitle\":\"wall.alphacoders.com\",\"cclType\":0,\"time_str\":\"\",\"dateInfo\":\"2016.08.19.\",\"iconInfo\":\"\",\"payType\":0,\"displayPrice\":\"\",\"tld\":\"wall.alphacoders.com\",\"collection_lens\":0,\"querySource\":\"python\",\"parentid\":\"\",\"nvmid\":\"\",\"articleid\":\"webhttps://wall.alphacoders.com/big.php?i=451679\",\"viewerThumb\":\"https://search.pstatic.net/sunny/?src=https%3A%2F%2Fimages.alphacoders.com%2F451%2Fthumb-1920-451679.jpg\\u0026type=sc960_832\",\"lensThumb\":\"https://search.pstatic.net/sunny/?src=https%3A%2F%2Fimages.alphacoders.com%2F451%2Fthumb-1920-451679.jpg\\u0026type=sc960_832\",\"thumb280\":\"https://search.pstatic.net/sunny/?src=https%3A%2F%2Fimages.alphacoders.com%2F451%2Fthumb-1920-451679.jpg\\u0026type=b280\",\"thumb332\":\"https://search.pstatic.net/sunny/?src=https%3A%2F%2Fimages.alphacoders.com%2F451%2Fthumb-1920-451679.jpg\\u0026type=ff332_332\",\"originalUrl\":\"https://images.alphacoders.com/451/thumb-1920-451679.jpg\",\"sttData\":\"\",\"isReport\":1,\"ReportDataString\":\"{\\\"schRsltCatDtlCd\\\":\\\"TSH\\\",\\\"schSvcCatDtlCd\\\":\\\"IMG\\\",\\\"svcDtlCd\\\":\\\"WEB\\\",\\\"orgncArtclId\\\":\\\"webhttps%3A%2F%2Fwall.alphacoders.com%2Fbig.php%3Fi%3D451679\\\",\\\"cntsUrl\\\":\\\"https%3A%2F%2Fwall.alphacoders.com%2Fbig.php%3Fi%3D451679\\\",\\\"orgncSvcId\\\":\\\"IMG\\\",\\\"orgncSvcNm\\\":\\\"%EC%9B%B9\\\",\\\"reportKwdNm\\\":\\\"python\\\",\\\"artclTitle\\\":\\\"green+python+HD+Wallpaper+%7C+Background+Image+%7C+3456x2304+%7C+ID...+green+python+HD+Wallpaper+%7C+Background+Image+%7C+3456x2304+%7C+ID...\\\",\\\"artclSumryCont\\\":\\\"\\\",\\\"artclRgstrId\\\":\\\"\\\",\\\"cntsLstModYmdtc\\\":\\\"\\\",\\\"cntsFstRgstYmdtc\\\":\\\"000000\\\",\\\"thmnlImgPath\\\":\\\"https%3A%2F%2Fsearch.pstatic.net%2Fsunny%2F%3Fsrc%3Dhttps%253A%252F%252Fimages.alphacoders.com%252F451%252Fthumb-1920-451679.jpg%26type%3Dff332_332\\\"}\",\"viewerOmniThumb\":\"\",\"section\":\"abdb\",\"favicon\":\"\",\"thumbLink\":\"\",\"infoLink\":\"\",\"store\":\"\",\"npay\":\"\",\"typeEllipsis\":0,\"isCatalog\":0,\"exposureLogUrl\":\"\",\"tag\":\"\",\"keywords\":null,\"thumb\":\"https://search.pstatic.net/sunny/?src=https%3A%2F%2Fimages.alphacoders.com%2F451%2Fthumb-1920-451679.jpg\\u0026type=a340\",\"orgWidth\":1920,\"orgHeight\":1280,\"thumbWidth\":340,\"thumbHeight\":227,\"cr\":\"\",\"crArea\":\"W\",\"rank\":20,\"gdid\":\"web_4423d865e7201cc49406afe2b898e50d\",\"signature\":\"615518485373278\",\"sid\":\"\",\"is_gif\":0}]'><div class=\"grid_item _fe_image_viewer_focus_target\"><div role=\"button\" tabindex=\"0\" class=\"thumb_area mod_vw_thumb\" aria-pressed=\"false\" style=\"cursor: pointer\" onclick='tCR(\"r=1&i=blog_46d06854039b13dd5689c5d6ff22f441&g=262786405900962&a=img_bas*N.thum&u=\")'><img data-image-viewer-trigger data-image-viewer-img-id=\"image_sas:blog_46d06854039b13dd5689c5d6ff22f441\" onerror='this.src=\"data:image/gif;base64,R0lGODlhAQABAIAAAAAAAP///yH5BAEAAAAALAAAAAABAAEAAAIBRAA7\",this.className=\"thumb bg_nimg\"' src=\"https://search.pstatic.net/common/?src=http%3A%2F%2Fblogfiles.naver.net%2FMjAyNDA3MTlfMjU2%2FMDAxNzIxMzYxNzI3MzYz.bqzmIz5Sv6dcFcTx0jAre811El-TOykWggRfVXPes4og.T_XkNy_t_Ra2yvKRwyFyioN1kWDPLAUYdCBtjxqrakIg.PNG%2Fimage.png&amp;type=ff332_332\" width=\"131\" height=\"131\" class=\"thumb\" alt>\n",
            "<span class=\"mod_vw_thumb_mask\"></span></div><div class=\"report_area\"><div class=\"api_rule_check\"><input type=\"checkbox\" class=\"gcheck\" id=\"imgReportKey0\" data-report='{\"schRsltCatDtlCd\":\"TSH\",\"schSvcCatDtlCd\":\"IMG\",\"svcDtlCd\":\"BLG\",\"orgncArtclId\":\"blog165095695%7C1%7C223518207299\",\"cntsUrl\":\"http%3A%2F%2Fblog.naver.com%2Fmathpeach%2F223518207299\",\"orgncSvcId\":\"IMG\",\"orgncSvcNm\":\"%EB%84%A4%EC%9D%B4%EB%B2%84+%EB%B8%94%EB%A1%9C%EA%B7%B8\",\"reportKwdNm\":\"python\",\"artclTitle\":\"%EB%B6%80%EC%B2%9C%EC%97%90%EC%84%9C+%EC%9E%90%EB%B0%94%28Java%29%26%ED%8C%8C%EC%9D%B4%EC%8D%AC%28Python%29+%EC%A0%95%EB%B3%B5%ED%95%98%EA%B8%B0%21%21\",\"artclSumryCont\":\"\",\"artclRgstrId\":\"mathpeach\",\"cntsLstModYmdtc\":\"\",\"cntsFstRgstYmdtc\":\"20240719132102\",\"thmnlImgPath\":\"https%3A%2F%2Fsearch.pstatic.net%2Fcommon%2F%3Fsrc%3Dhttp%253A%252F%252Fblogfiles.naver.net%252FMjAyNDA3MTlfMjU2%252FMDAxNzIxMzYxNzI3MzYz.bqzmIz5Sv6dcFcTx0jAre811El-TOykWggRfVXPes4og.T_XkNy_t_Ra2yvKRwyFyioN1kWDPLAUYdCBtjxqrakIg.PNG%252Fimage.png%26type%3Dff332_332\"}'>\n",
            "<label for=\"imgReportKey0\" class=\"spnew_bf gtxt\"><span class=\"blind\">alt,title값 추가</span></label></div></div></div><div class=\"grid_item _fe_image_viewer_focus_target\"><div role=\"button\" tabindex=\"0\" class=\"thumb_area mod_vw_thumb\" aria-pressed=\"false\" style=\"cursor: pointer\" onclick='tCR(\"r=2&i=web_9e24088a57cf3ba677bf4030a76c14da&g=30372119039800&a=img_bas*W.thum&u=\")'><img data-image-viewer-trigger data-image-viewer-img-id=\"image_sas:web_9e24088a57cf3ba677bf4030a76c14da\" onerror='this.src=\"data:image/gif;base64,R0lGODlhAQABAIAAAAAAAP///yH5BAEAAAAALAAAAAABAAEAAAIBRAA7\",this.className=\"thumb bg_nimg\"' src=\"https://search.pstatic.net/sunny/?src=https%3A%2F%2Fmiro.medium.com%2Fv2%2Fda%3Atrue%2Fresize%3Afit%3A1200%2F0%2AVzfoe5-u4zYuijTT&amp;type=ff332_332\" width=\"131\" height=\"131\" class=\"thumb\" alt>\n",
            "<span class=\"mod_vw_thumb_mask\"></span></div><div class=\"report_area\"><div class=\"api_rule_check\"><input type=\"checkbox\" class=\"gcheck\" id=\"imgReportKey1\" data-report='{\"schRsltCatDtlCd\":\"TSH\",\"schSvcCatDtlCd\":\"IMG\",\"svcDtlCd\":\"WEB\",\"orgncArtclId\":\"webhttps%3A%2F%2Fmedium.com%2F%40matthew.schmitz%2Fgetting-started-with-single-cell-genomics-in-python-part-1-fbbd68de7237\",\"cntsUrl\":\"https%3A%2F%2Fmedium.com%2F%40matthew.schmitz%2Fgetting-started-with-single-cell-genomics-in-python-part-1-fbbd68de7237\",\"orgncSvcId\":\"IMG\",\"orgncSvcNm\":\"%EC%9B%B9\",\"reportKwdNm\":\"python\",\"artclTitle\":\"Getting+Started+with+Single+Cell+Genomics+in+Python+%7C+by...+Medium+Getting+Started+with+Single+Cell+Genomics+in+Python%3A+Part+1\",\"artclSumryCont\":\"\",\"artclRgstrId\":\"\",\"cntsLstModYmdtc\":\"\",\"cntsFstRgstYmdtc\":\"000000\",\"thmnlImgPath\":\"https%3A%2F%2Fsearch.pstatic.net%2Fsunny%2F%3Fsrc%3Dhttps%253A%252F%252Fmiro.medium.com%252Fv2%252Fda%253Atrue%252Fresize%253Afit%253A1200%252F0%252AVzfoe5-u4zYuijTT%26type%3Dff332_332\"}'>\n",
            "<label for=\"imgReportKey1\" class=\"spnew_bf gtxt\"><span class=\"blind\">alt,title값 추가</span></label></div></div></div><div class=\"grid_item _fe_image_viewer_focus_target\"><div role=\"button\" tabindex=\"0\" class=\"thumb_area mod_vw_thumb\" aria-pressed=\"false\" style=\"cursor: pointer\" onclick='tCR(\"r=3&i=web_45725b88fc3bff996c8a29e01f0788be&g=968178750139805&a=img_bas*W.thum&u=\")'><img data-image-viewer-trigger data-image-viewer-img-id=\"image_sas:web_45725b88fc3bff996c8a29e01f0788be\" onerror='this.src=\"data:image/gif;base64,R0lGODlhAQABAIAAAAAAAP///yH5BAEAAAAALAAAAAABAAEAAAIBRAA7\",this.className=\"thumb bg_nimg\"' src=\"https://search.pstatic.net/sunny/?src=https%3A%2F%2Fcdn.britannica.com%2F28%2F239528-050-D89C8118%2Freticulated-python-Malayopython-reticulatus.jpg&amp;type=ff332_332\" width=\"131\" height=\"131\" class=\"thumb\" alt>\n",
            "<span class=\"mod_vw_thumb_mask\"></span></div><div class=\"report_area\"><div class=\"api_rule_check\"><input type=\"checkbox\" class=\"gcheck\" id=\"imgReportKey2\" data-report='{\"schRsltCatDtlCd\":\"TSH\",\"schSvcCatDtlCd\":\"IMG\",\"svcDtlCd\":\"WEB\",\"orgncArtclId\":\"webhttps%3A%2F%2Fwww.britannica.com%2Fanimal%2Fpython-snake-group\",\"cntsUrl\":\"https%3A%2F%2Fwww.britannica.com%2Fanimal%2Fpython-snake-group\",\"orgncSvcId\":\"IMG\",\"orgncSvcNm\":\"%EC%9B%B9\",\"reportKwdNm\":\"python\",\"artclTitle\":\"Python+%7C+Snake%2C+Characteristics%2C+Habitats%2C+%26+Facts+%7C+Britannica\",\"artclSumryCont\":\"\",\"artclRgstrId\":\"\",\"cntsLstModYmdtc\":\"\",\"cntsFstRgstYmdtc\":\"000000\",\"thmnlImgPath\":\"https%3A%2F%2Fsearch.pstatic.net%2Fsunny%2F%3Fsrc%3Dhttps%253A%252F%252Fcdn.britannica.com%252F28%252F239528-050-D89C8118%252Freticulated-python-Malayopython-reticulatus.jpg%26type%3Dff332_332\"}'>\n",
            "<label for=\"imgReportKey2\" class=\"spnew_bf gtxt\"><span class=\"blind\">alt,title값 추가</span></label></div></div></div><div class=\"grid_item _fe_image_viewer_focus_target\"><div role=\"button\" tabindex=\"0\" class=\"thumb_area mod_vw_thumb\" aria-pressed=\"false\" style=\"cursor: pointer\" onclick='tCR(\"r=4&i=blog_e6b0224564cb2d4d5038ea4e5191bb07&g=72920945501197&a=img_bas*N.thum&u=\")'><img data-image-viewer-trigger data-image-viewer-img-id=\"image_sas:blog_e6b0224564cb2d4d5038ea4e5191bb07\" onerror='this.src=\"data:image/gif;base64,R0lGODlhAQABAIAAAAAAAP///yH5BAEAAAAALAAAAAABAAEAAAIBRAA7\",this.className=\"thumb bg_nimg\"' src=\"https://search.pstatic.net/common/?src=http%3A%2F%2Fblogfiles.naver.net%2FMjAxODExMjNfNCAg%2FMDAxNTQyOTc4NjI0ODcz.fsTMrVbCvJhQQuQf7y_qsqFJ1WgBahziWiCYGIYThl0g.PkLlPiWoQTXOBTYvhMFggGhGCYuBrOKAghUyplKU_Y8g.PNG.sjw9224ed%2F1.png&amp;type=ff332_332\" width=\"131\" height=\"131\" class=\"thumb\" alt>\n",
            "<span class=\"mod_vw_thumb_mask\"></span></div><div class=\"report_area\"><div class=\"api_rule_check\"><input type=\"checkbox\" class=\"gcheck\" id=\"imgReportKey3\" data-report='{\"schRsltCatDtlCd\":\"TSH\",\"schSvcCatDtlCd\":\"IMG\",\"svcDtlCd\":\"BLG\",\"orgncArtclId\":\"blog131532382%7C1%7C221404954971\",\"cntsUrl\":\"http%3A%2F%2Fblog.naver.com%2Fsjw9224ed%2F221404954971\",\"orgncSvcId\":\"IMG\",\"orgncSvcNm\":\"%EB%84%A4%EC%9D%B4%EB%B2%84+%EB%B8%94%EB%A1%9C%EA%B7%B8\",\"reportKwdNm\":\"python\",\"artclTitle\":\"%ED%8C%8C%EC%9D%B4%EC%8D%AC+%2C+%ED%8A%B9%EC%88%98%EC%9E%84%EB%AC%B4%EB%A5%BC+%EC%9C%84%ED%95%9C+%EB%B3%91%EA%B3%BC%EB%93%A4+%EC%A0%95%EB%A6%AC\",\"artclSumryCont\":\"\",\"artclRgstrId\":\"sjw9224ed\",\"cntsLstModYmdtc\":\"\",\"cntsFstRgstYmdtc\":\"20181123233003\",\"thmnlImgPath\":\"https%3A%2F%2Fsearch.pstatic.net%2Fcommon%2F%3Fsrc%3Dhttp%253A%252F%252Fblogfiles.naver.net%252FMjAxODExMjNfNCAg%252FMDAxNTQyOTc4NjI0ODcz.fsTMrVbCvJhQQuQf7y_qsqFJ1WgBahziWiCYGIYThl0g.PkLlPiWoQTXOBTYvhMFggGhGCYuBrOKAghUyplKU_Y8g.PNG.sjw9224ed%252F1.png%26type%3Dff332_332\"}'>\n",
            "<label for=\"imgReportKey3\" class=\"spnew_bf gtxt\"><span class=\"blind\">alt,title값 추가</span></label></div></div></div><div class=\"grid_item _fe_image_viewer_focus_target\"><div role=\"button\" tabindex=\"0\" class=\"thumb_area mod_vw_thumb\" aria-pressed=\"false\" style=\"cursor: pointer\" onclick='tCR(\"r=5&i=web_9eb6b859e8d0592760be582cbee4fc69&g=538124936882672&a=img_bas*W.thum&u=\")'><img data-image-viewer-trigger data-image-viewer-img-id=\"image_sas:web_9eb6b859e8d0592760be582cbee4fc69\" onerror='this.src=\"data:image/gif;base64,R0lGODlhAQABAIAAAAAAAP///yH5BAEAAAAALAAAAAABAAEAAAIBRAA7\",this.className=\"thumb bg_nimg\"' src=\"https://search.pstatic.net/sunny/?src=http%3A%2F%2Fimagescdn.gettyimagesbank.com%2F500%2F09%2F204%2F947%2F0%2F95021896.jpg&amp;type=ff332_332\" width=\"131\" height=\"131\" class=\"thumb\" alt>\n",
            "<span class=\"mod_vw_thumb_mask\"></span></div><div class=\"report_area\"><div class=\"api_rule_check\"><input type=\"checkbox\" class=\"gcheck\" id=\"imgReportKey4\" data-report='{\"schRsltCatDtlCd\":\"TSH\",\"schSvcCatDtlCd\":\"IMG\",\"svcDtlCd\":\"WEB\",\"orgncArtclId\":\"webhttp%3A%2F%2Fwww.gettyimagesbank.com%2Fi%2F95021896\",\"cntsUrl\":\"http%3A%2F%2Fwww.gettyimagesbank.com%2Fi%2F95021896\",\"orgncSvcId\":\"IMG\",\"orgncSvcNm\":\"%EC%9B%B9\",\"reportKwdNm\":\"python\",\"artclTitle\":\"Ball+Python+%EC%9D%B4%EB%AF%B8%EC%A7%80+%2895021896%29+-+%EA%B2%8C%ED%8B%B0%EC%9D%B4%EB%AF%B8%EC%A7%80%EB%B1%85%ED%81%AC+Ball+Python\",\"artclSumryCont\":\"\",\"artclRgstrId\":\"\",\"cntsLstModYmdtc\":\"\",\"cntsFstRgstYmdtc\":\"000000\",\"thmnlImgPath\":\"https%3A%2F%2Fsearch.pstatic.net%2Fsunny%2F%3Fsrc%3Dhttp%253A%252F%252Fimagescdn.gettyimagesbank.com%252F500%252F09%252F204%252F947%252F0%252F95021896.jpg%26type%3Dff332_332\"}'>\n",
            "<label for=\"imgReportKey4\" class=\"spnew_bf gtxt\"><span class=\"blind\">alt,title값 추가</span></label></div></div></div><div class=\"grid_item _fe_image_viewer_focus_target\"><div role=\"button\" tabindex=\"0\" class=\"thumb_area mod_vw_thumb\" aria-pressed=\"false\" style=\"cursor: pointer\" onclick='tCR(\"r=6&i=web_72a567f31d7ae7e6fc5907330ec1c64e&g=460718196491680&a=img_bas*W.thum&u=\")'><img data-image-viewer-trigger data-image-viewer-img-id=\"image_sas:web_72a567f31d7ae7e6fc5907330ec1c64e\" onerror='this.src=\"data:image/gif;base64,R0lGODlhAQABAIAAAAAAAP///yH5BAEAAAAALAAAAAABAAEAAAIBRAA7\",this.className=\"thumb bg_nimg\"' src=\"https://search.pstatic.net/sunny/?src=https%3A%2F%2Fupload.wikimedia.org%2Fwikipedia%2Fcommons%2F4%2F4d%2FBall_python_lucy.JPG&amp;type=ff332_332\" width=\"131\" height=\"131\" class=\"thumb\" alt>\n",
            "<span class=\"mod_vw_thumb_mask\"></span></div><div class=\"report_area\"><div class=\"api_rule_check\"><input type=\"checkbox\" class=\"gcheck\" id=\"imgReportKey5\" data-report='{\"schRsltCatDtlCd\":\"TSH\",\"schSvcCatDtlCd\":\"IMG\",\"svcDtlCd\":\"WEB\",\"orgncArtclId\":\"webhttps%3A%2F%2Fwww.wikidata.org%2Fwiki%2FFile%3ABall_python_lucy.JPG\",\"cntsUrl\":\"https%3A%2F%2Fwww.wikidata.org%2Fwiki%2FFile%3ABall_python_lucy.JPG\",\"orgncSvcId\":\"IMG\",\"orgncSvcNm\":\"%EC%9B%B9\",\"reportKwdNm\":\"python\",\"artclTitle\":\"File%3ABall+python+lucy.JPG+-+Wikidata\",\"artclSumryCont\":\"\",\"artclRgstrId\":\"\",\"cntsLstModYmdtc\":\"\",\"cntsFstRgstYmdtc\":\"000000\",\"thmnlImgPath\":\"https%3A%2F%2Fsearch.pstatic.net%2Fsunny%2F%3Fsrc%3Dhttps%253A%252F%252Fupload.wikimedia.org%252Fwikipedia%252Fcommons%252F4%252F4d%252FBall_python_lucy.JPG%26type%3Dff332_332\"}'>\n",
            "<label for=\"imgReportKey5\" class=\"spnew_bf gtxt\"><span class=\"blind\">alt,title값 추가</span></label></div></div></div><div class=\"grid_item _fe_image_viewer_focus_target\"><div role=\"button\" tabindex=\"0\" class=\"thumb_area mod_vw_thumb\" aria-pressed=\"false\" style=\"cursor: pointer\" onclick='tCR(\"r=7&i=web_168445257934b7c8dec4a3c5d3874b7a&g=1026330884095127&a=img_bas*W.thum&u=\")'><img data-image-viewer-trigger data-image-viewer-img-id=\"image_sas:web_168445257934b7c8dec4a3c5d3874b7a\" onerror='this.src=\"data:image/gif;base64,R0lGODlhAQABAIAAAAAAAP///yH5BAEAAAAALAAAAAABAAEAAAIBRAA7\",this.className=\"thumb bg_nimg\"' src=\"https://search.pstatic.net/sunny/?src=https%3A%2F%2Fthumbs.dreamstime.com%2Fb%2Fball-python-3246758.jpg&amp;type=ff332_332\" width=\"131\" height=\"131\" class=\"thumb\" alt>\n",
            "<span class=\"mod_vw_thumb_mask\"></span></div><div class=\"report_area\"><div class=\"api_rule_check\"><input type=\"checkbox\" class=\"gcheck\" id=\"imgReportKey6\" data-report='{\"schRsltCatDtlCd\":\"TSH\",\"schSvcCatDtlCd\":\"IMG\",\"svcDtlCd\":\"WEB\",\"orgncArtclId\":\"webhttps%3A%2F%2Fwww.dreamstime.com%2Fphotos-images%2Fball-python.html\",\"cntsUrl\":\"https%3A%2F%2Fwww.dreamstime.com%2Fphotos-images%2Fball-python.html\",\"orgncSvcId\":\"IMG\",\"orgncSvcNm\":\"%EC%9B%B9\",\"reportKwdNm\":\"python\",\"artclTitle\":\"3%2C150+Ball+Python+Stock+Photos+-+Free+%26+Royalty-Free+Stock+Photos+from+Dreamstime\",\"artclSumryCont\":\"\",\"artclRgstrId\":\"\",\"cntsLstModYmdtc\":\"\",\"cntsFstRgstYmdtc\":\"000000\",\"thmnlImgPath\":\"https%3A%2F%2Fsearch.pstatic.net%2Fsunny%2F%3Fsrc%3Dhttps%253A%252F%252Fthumbs.dreamstime.com%252Fb%252Fball-python-3246758.jpg%26type%3Dff332_332\"}'>\n",
            "<label for=\"imgReportKey6\" class=\"spnew_bf gtxt\"><span class=\"blind\">alt,title값 추가</span></label></div></div></div><div class=\"grid_item _fe_image_viewer_focus_target\"><div role=\"button\" tabindex=\"0\" class=\"thumb_area mod_vw_thumb\" aria-pressed=\"false\" style=\"cursor: pointer\" onclick='tCR(\"r=8&i=blog_fb0fab2a011eda7970b03a422a90149c&g=709383208874088&a=img_bas*N.thum&u=\")'><img data-image-viewer-trigger data-image-viewer-img-id=\"image_sas:blog_fb0fab2a011eda7970b03a422a90149c\" onerror='this.src=\"data:image/gif;base64,R0lGODlhAQABAIAAAAAAAP///yH5BAEAAAAALAAAAAABAAEAAAIBRAA7\",this.className=\"thumb bg_nimg\"' src=\"https://search.pstatic.net/common/?src=http%3A%2F%2Fblogfiles.naver.net%2FMjAyMjA5MDFfNiAg%2FMDAxNjYyMDEyMjgyMDAz.Ihff_g_6z_I-ERsNrg9pwZdJ5BEmyDSatdzuE6ehwdgg.K1WUZz85yLUMfBT2o--mJuNEtcsf1J3wyLWYoF1GhKQg.JPEG.mollayosh44%2F2020200910_20220901_150206436.jpg&amp;type=ff332_332\" width=\"131\" height=\"131\" class=\"thumb\" alt>\n",
            "<span class=\"mod_vw_thumb_mask\"></span></div><div class=\"report_area\"><div class=\"api_rule_check\"><input type=\"checkbox\" class=\"gcheck\" id=\"imgReportKey7\" data-report='{\"schRsltCatDtlCd\":\"TSH\",\"schSvcCatDtlCd\":\"IMG\",\"svcDtlCd\":\"BLG\",\"orgncArtclId\":\"blog155252846%7C6%7C222864145337\",\"cntsUrl\":\"http%3A%2F%2Fblog.naver.com%2Fmollayosh44%2F222864145337\",\"orgncSvcId\":\"IMG\",\"orgncSvcNm\":\"%EB%84%A4%EC%9D%B4%EB%B2%84+%EB%B8%94%EB%A1%9C%EA%B7%B8\",\"reportKwdNm\":\"python\",\"artclTitle\":\"Python+%ED%95%99%EC%9B%90%EC%97%90%EC%84%9C+IT+%EA%B0%9C%EB%B0%9C%EC%9E%90%EB%A1%9C+%EB%B9%A0%EB%A5%B4%EA%B2%8C+%EC%9E%85%EB%AC%B8%ED%95%98%EC%9E%90\",\"artclSumryCont\":\"\",\"artclRgstrId\":\"mollayosh44\",\"cntsLstModYmdtc\":\"\",\"cntsFstRgstYmdtc\":\"20220901173204\",\"thmnlImgPath\":\"https%3A%2F%2Fsearch.pstatic.net%2Fcommon%2F%3Fsrc%3Dhttp%253A%252F%252Fblogfiles.naver.net%252FMjAyMjA5MDFfNiAg%252FMDAxNjYyMDEyMjgyMDAz.Ihff_g_6z_I-ERsNrg9pwZdJ5BEmyDSatdzuE6ehwdgg.K1WUZz85yLUMfBT2o--mJuNEtcsf1J3wyLWYoF1GhKQg.JPEG.mollayosh44%252F2020200910_20220901_150206436.jpg%26type%3Dff332_332\"}'>\n",
            "<label for=\"imgReportKey7\" class=\"spnew_bf gtxt\"><span class=\"blind\">alt,title값 추가</span></label></div></div></div><div class=\"grid_item _fe_image_viewer_focus_target\"><div role=\"button\" tabindex=\"0\" class=\"thumb_area mod_vw_thumb\" aria-pressed=\"false\" style=\"cursor: pointer\" onclick='tCR(\"r=9&i=web_a7e96613614fd3dfb4cb22a62cd9438d&g=862447774988074&a=img_bas*W.thum&u=\")'><img data-image-viewer-trigger data-image-viewer-img-id=\"image_sas:web_a7e96613614fd3dfb4cb22a62cd9438d\" onerror='this.src=\"data:image/gif;base64,R0lGODlhAQABAIAAAAAAAP///yH5BAEAAAAALAAAAAABAAEAAAIBRAA7\",this.className=\"thumb bg_nimg\"' src=\"https://search.pstatic.net/sunny/?src=https%3A%2F%2Fd.newsweek.com%2Fen%2Ffull%2F942829%2Frtxohhb.jpg&amp;type=ff332_332\" width=\"131\" height=\"131\" class=\"thumb\" alt>\n",
            "<span class=\"mod_vw_thumb_mask\"></span></div><div class=\"report_area\"><div class=\"api_rule_check\"><input type=\"checkbox\" class=\"gcheck\" id=\"imgReportKey8\" data-report='{\"schRsltCatDtlCd\":\"TSH\",\"schSvcCatDtlCd\":\"IMG\",\"svcDtlCd\":\"WEB\",\"orgncArtclId\":\"webhttps%3A%2F%2Fwww.newsweek.com%2F14-foot-burmese-python-loose-indiana-after-escaping-owner-942842\",\"cntsUrl\":\"https%3A%2F%2Fwww.newsweek.com%2F14-foot-burmese-python-loose-indiana-after-escaping-owner-942842\",\"orgncSvcId\":\"IMG\",\"orgncSvcNm\":\"%EC%9B%B9\",\"reportKwdNm\":\"python\",\"artclTitle\":\"A+14-foot+Burmese+Python+Is+on+the+Loose+in+Indiana+After...+Owner+-+Newsweek+A+14-foot+Burmese+Python+Is+on+the+Loose+in+Indiana\",\"artclSumryCont\":\"\",\"artclRgstrId\":\"\",\"cntsLstModYmdtc\":\"\",\"cntsFstRgstYmdtc\":\"000000\",\"thmnlImgPath\":\"https%3A%2F%2Fsearch.pstatic.net%2Fsunny%2F%3Fsrc%3Dhttps%253A%252F%252Fd.newsweek.com%252Fen%252Ffull%252F942829%252Frtxohhb.jpg%26type%3Dff332_332\"}'>\n",
            "<label for=\"imgReportKey8\" class=\"spnew_bf gtxt\"><span class=\"blind\">alt,title값 추가</span></label></div></div></div><div class=\"grid_item _fe_image_viewer_focus_target\"><div role=\"button\" tabindex=\"0\" class=\"thumb_area mod_vw_thumb\" aria-pressed=\"false\" style=\"cursor: pointer\" onclick='tCR(\"r=10&i=web_9530598c8909085b1b03f0c3aaf1beb7&g=712078434827093&a=img_bas*W.thum&u=\")'><img data-image-viewer-trigger data-image-viewer-img-id=\"image_sas:web_9530598c8909085b1b03f0c3aaf1beb7\" onerror='this.src=\"data:image/gif;base64,R0lGODlhAQABAIAAAAAAAP///yH5BAEAAAAALAAAAAABAAEAAAIBRAA7\",this.className=\"thumb bg_nimg\"' src=\"https://search.pstatic.net/sunny/?src=https%3A%2F%2Fi.stack.imgur.com%2FRhnaw.jpg&amp;type=ff332_332\" width=\"131\" height=\"131\" class=\"thumb\" alt>\n",
            "<span class=\"mod_vw_thumb_mask\"></span></div><div class=\"report_area\"><div class=\"api_rule_check\"><input type=\"checkbox\" class=\"gcheck\" id=\"imgReportKey9\" data-report='{\"schRsltCatDtlCd\":\"TSH\",\"schSvcCatDtlCd\":\"IMG\",\"svcDtlCd\":\"WEB\",\"orgncArtclId\":\"webhttps%3A%2F%2Fstackoverflow.com%2Fquestions%2F59482340%2Frunning-python-program-with-bash-in-windows-says-permission-denied\",\"cntsUrl\":\"https%3A%2F%2Fstackoverflow.com%2Fquestions%2F59482340%2Frunning-python-program-with-bash-in-windows-says-permission-denied\",\"orgncSvcId\":\"IMG\",\"orgncSvcNm\":\"%EC%9B%B9\",\"reportKwdNm\":\"python\",\"artclTitle\":\"Running+python+program+with+bash+in+windows+says+permission...+Running+python+program+with+bash+in+windows+says+permission+denied\",\"artclSumryCont\":\"\",\"artclRgstrId\":\"\",\"cntsLstModYmdtc\":\"\",\"cntsFstRgstYmdtc\":\"000000\",\"thmnlImgPath\":\"https%3A%2F%2Fsearch.pstatic.net%2Fsunny%2F%3Fsrc%3Dhttps%253A%252F%252Fi.stack.imgur.com%252FRhnaw.jpg%26type%3Dff332_332\"}'>\n",
            "<label for=\"imgReportKey9\" class=\"spnew_bf gtxt\"><span class=\"blind\">alt,title값 추가</span></label></div></div></div></div></div></div><div class=\"mod_more_wrap\"><a href=\"?nso=so%3Ar%2Cp%3Aall&amp;query=python&amp;sm=tab_nmr&amp;ssc=tab.image.all&amp;where=image\" onclick='return goOtherCR(this,\"a=img_bas.more&u=\"+urlencode(this.href))' class=\"group_more\"><span class=\"kwd\">이미지</span>\n",
            "<span class=\"etc\">더보기<i class=\"spnew ico_arr\"></i></span></a></div><div class=\"api_modal_toast _fe_image_portal_toast\" style=\"display: none;\"><a href=\"javascript:;\" class=\"btn_toast disabled\"><div class=\"dsc_area\"><em class=\"dsc\">신고되었습니다.</em><div class=\"dsc_sub\">검색 결과 개선에 도움을 주셔서 감사합니다.</div></div></a></div></div></section><script>(function(){var e=function(){var e=window.require.config({context:\"image-search-portal\",paths:{ImageSearchPortal:imageSearchModulePaths.ImageSearchPortal}});define(\"jquery\",[],function(){return jQuery}),e([\"ImageSearchPortal\"],function(e){var t={root:\"._fe_image_portal_root\",title:{report:{root:\"._fe_image_portal_list_report_root\",executeButton:\"._fe_image_portal_list_report_execute_button\",confirmButton:\"._fe_image_portal_list_report_confirm_button\",cancelButton:\"._fe_image_portal_list_report_cancel_button\"}},tag:{root:\"._fe_image_portal_tag_root\",container:\"._fe_image_portal_tag_container\",containerInner:\"._fe_image_portal_tag_container_inner\",expandButton:\"._fe_image_portal_tag_expand_button\"},list:{root:\"._fe_image_portal_list_root\"},toast:\"._fe_image_portal_toast\"},n={},s=new e({selectors:t,loggers:n});s.start()})},t=\"https://ssl.pstatic.net/sstatic/au/module/requirejs/require-2.3.5.js\";nhn.common.load_js(window.require?null:t,e,!0,150)})()</script><div class=\"_scrollLog\" data-slog-id=\"img_bas*NW\" style=\"visibility:hidden;height:0px;margin:0 28px\"></div><section class=\"sc_new sp_nbook _prs_bok_lst _slog_visible\" data-slog-container=\"bok_lst\"><link rel=\"stylesheet\" href=\"https://ssl.pstatic.net/sstatic/search/pc/css/sp_nbook_250828.css\"><div class=\"api_subject_bx _nshopping_book_pc\"><div class=\"mod_title_area _modal\"><div class=\"title_wrap\"><h2 class=\"title\">네이버 도서</h2><span class=\"sub\"><a href=\"#\" role=\"button\" class=\"api_ad_link _trigger\" onclick='return tCR(\"u=javascript&r=&i=&a=bok_lst.help1\")'><i class=\"spnew api_ico_alert\">이 정보가 표시된 이유</i></a></span></div><div class=\"title_sub\"><span class=\"guide_txt\">다른 사이트를 보시려면 <a href=\"?query=%EB%8F%84%EC%84%9C%EA%B0%80%EA%B2%A9%EB%B9%84%EA%B5%90%EC%82%AC%EC%9D%B4%ED%8A%B8+nsite%3Anaver.com&amp;qvt=0&amp;sm=tab_clk.bokftc&amp;where=web\" class=\"link\" onclick='return goOtherCR(this,\"u=\"+urlencode(this.href)+\"&r=&i=&a=bok_lst.sitemore\")'>클릭</a>하세요</span></div><div class=\"ly_api_info _content\"><p class=\"dsc\">네이버가 운영하는 도서 서비스입니다.</p><button type=\"button\" class=\"btn_close _trigger\" onclick='return tCR(\"u=javascript&r=&i=&a=bok_lst.help1close\")'><i class=\"spnew ico_close\">정보확인 레이어 닫기</i></button></div></div><div class=\"book_list_wrap _book_content_root\"><div class=\"book_list _book_content\" style=\"display: block;\"><ul class=\"list_area\"><li class=\"item _slog_visible\" data-nvmid=\"49248739619\" data-slog-content=\"bok_lst:2533324039135523\"><a href=\"https://cr3.shopping.naver.com/v2/bridge/book/searchGate?cat_id=50011100&amp;frm=PBOKPRO&amp;h=f130875283930c2b088cbee381b4efd52f0f45e9&amp;nv_mid=49248739619&amp;query=python&amp;t=MF7ZGXXG\" class=\"thumb_wrap\" target=\"_blank\" onclick='return goOtherCR(this,\"u=\"+urlencode(this.href)+\"&r=1&i=2533324039135523&a=bok_lst.cimg\")'><img data-lazy-load=\"0\" src=\"https://search.pstatic.net/common/?src=https%3A%2F%2Fshopping-phinf.pstatic.net%2Fmain_4924873%2F49248739619.20250627084956.jpg&amp;type=w216\" alt=\"Python\" width=\"120\" class=\"thumb\" loading=\"lazy\" onerror=naver.common.handleImgError(this)></a><div class=\"info_wrap\"><div class=\"info_area\"><a href=\"https://cr3.shopping.naver.com/v2/bridge/book/searchGate?cat_id=50011100&amp;frm=PBOKPRO&amp;h=f130875283930c2b088cbee381b4efd52f0f45e9&amp;nv_mid=49248739619&amp;query=python&amp;t=MF7ZGXXG\" class=\"item_title\" target=\"_blank\" onclick='return goOtherCR(this,\"u=\"+urlencode(this.href)+\"&r=1&i=2533324039135523&a=bok_lst.ctitle\")'>Python (A Practical Learning Approach)</a><div class=\"book_info\"><div class=\"info\"><span class=\"title\">출판</span><div class=\"publish\">CRC Press</div><span class=\"date\">2024.08.07.</span></div></div></div><div class=\"shop_area\"><div class=\"shop_box\"><div class=\"box_inner\"><div class=\"title\">도서</div><a href=\"https://cr3.shopping.naver.com/v2/bridge/book/searchGate?cat_id=50011100&amp;frm=PBOKPRO&amp;h=f130875283930c2b088cbee381b4efd52f0f45e9&amp;nv_mid=49248739619&amp;query=python&amp;t=MF7ZGXXG\" class=\"shop\" target=\"_blank\" onclick='return goOtherCR(this,\"u=\"+urlencode(this.href)+\"&r=1&i=2533324039135523&a=bok_lst.cpricep\")'>판매처 1\n",
            "</a><span class=\"price\">최저 <em class=\"strong\">255,150</em>원</span></div><div class=\"sub_info\"><div class=\"shipping\"><i class=\"spbk ico_transfer\"></i>무료</div></div></div></div></div></li><li class=\"item _slog_visible\" data-nvmid=\"49248746618\" data-slog-content=\"bok_lst:2533324039142522\"><a href=\"https://cr3.shopping.naver.com/v2/bridge/book/searchGate?cat_id=50011100&amp;frm=PBOKPRO&amp;h=992c435f28a984e73e4740b64892942f6fa8dd0c&amp;nv_mid=49248746618&amp;query=python&amp;t=MF7ZGXXG\" class=\"thumb_wrap\" target=\"_blank\" onclick='return goOtherCR(this,\"u=\"+urlencode(this.href)+\"&r=2&i=2533324039142522&a=bok_lst.cimg\")'><img data-lazy-load=\"0\" src=\"https://search.pstatic.net/common/?src=https%3A%2F%2Fshopping-phinf.pstatic.net%2Fmain_4924874%2F49248746618.20250628071417.jpg&amp;type=w216\" alt=\"Python\" width=\"120\" class=\"thumb\" loading=\"lazy\" onerror=naver.common.handleImgError(this)></a><div class=\"info_wrap\"><div class=\"info_area\"><a href=\"https://cr3.shopping.naver.com/v2/bridge/book/searchGate?cat_id=50011100&amp;frm=PBOKPRO&amp;h=992c435f28a984e73e4740b64892942f6fa8dd0c&amp;nv_mid=49248746618&amp;query=python&amp;t=MF7ZGXXG\" class=\"item_title\" target=\"_blank\" onclick='return goOtherCR(this,\"u=\"+urlencode(this.href)+\"&r=2&i=2533324039142522&a=bok_lst.ctitle\")'>Python (A Practical Learning Approach)</a><div class=\"book_info\"><div class=\"info\"><span class=\"title\">출판</span><div class=\"publish\">CRC Press</div><span class=\"date\">2024.08.07.</span></div></div></div><div class=\"shop_area\"><div class=\"shop_box\"><div class=\"box_inner\"><div class=\"title\">도서</div><a href=\"https://cr3.shopping.naver.com/v2/bridge/book/searchGate?cat_id=50011100&amp;frm=PBOKPRO&amp;h=992c435f28a984e73e4740b64892942f6fa8dd0c&amp;nv_mid=49248746618&amp;query=python&amp;t=MF7ZGXXG\" class=\"shop\" target=\"_blank\" onclick='return goOtherCR(this,\"u=\"+urlencode(this.href)+\"&r=2&i=2533324039142522&a=bok_lst.cpricep\")'>판매처 1\n",
            "</a><span class=\"price\">최저 <em class=\"strong\">102,030</em>원</span></div><div class=\"sub_info\"><div class=\"shipping\"><i class=\"spbk ico_transfer\"></i>무료</div></div></div></div></div></li><li class=\"item _slog_visible\" data-nvmid=\"32460387998\" data-slog-content=\"bok_lst:2533307250783902\"><a href=\"https://cr3.shopping.naver.com/v2/bridge/book/searchGate?cat_id=50005740&amp;frm=PBOKPRO&amp;h=d9dde6c0937506561e774a0abac399e93731eebc&amp;nv_mid=32460387998&amp;query=python&amp;t=MF7ZGXXG\" class=\"thumb_wrap\" target=\"_blank\" onclick='return goOtherCR(this,\"u=\"+urlencode(this.href)+\"&r=3&i=2533307250783902&a=bok_lst.cimg\")'><img data-lazy-load=\"0\" src=\"https://search.pstatic.net/common/?src=https%3A%2F%2Fshopping-phinf.pstatic.net%2Fmain_3246038%2F32460387998.20250521073301.jpg&amp;type=w216\" alt=\"Python\" width=\"120\" class=\"thumb\" loading=\"lazy\" onerror=naver.common.handleImgError(this)></a><div class=\"info_wrap\"><div class=\"info_area\"><a href=\"https://cr3.shopping.naver.com/v2/bridge/book/searchGate?cat_id=50005740&amp;frm=PBOKPRO&amp;h=d9dde6c0937506561e774a0abac399e93731eebc&amp;nv_mid=32460387998&amp;query=python&amp;t=MF7ZGXXG\" class=\"item_title\" target=\"_blank\" onclick='return goOtherCR(this,\"u=\"+urlencode(this.href)+\"&r=3&i=2533307250783902&a=bok_lst.ctitle\")'>Python (Python basics for Beginners)</a><div class=\"book_info\"><div class=\"info\"><span class=\"title\">출판</span><div class=\"publish\">Ladoo Publishing LLC</div><span class=\"date\">2021.08.01.</span></div></div></div><div class=\"shop_area\"><div class=\"shop_box\"><div class=\"box_inner\"><div class=\"title\">도서</div><a href=\"https://cr3.shopping.naver.com/v2/bridge/book/searchGate?cat_id=50005740&amp;frm=PBOKPRO&amp;h=d9dde6c0937506561e774a0abac399e93731eebc&amp;nv_mid=32460387998&amp;query=python&amp;t=MF7ZGXXG\" class=\"shop\" target=\"_blank\" onclick='return goOtherCR(this,\"u=\"+urlencode(this.href)+\"&r=3&i=2533307250783902&a=bok_lst.cpricep\")'>판매처 1\n",
            "</a><span class=\"price\">최저 <em class=\"strong\">43,730</em>원</span></div><div class=\"sub_info\"><div class=\"shipping\"><i class=\"spbk ico_transfer\"></i>무료</div></div></div></div></div></li><li class=\"item _slog_visible\" data-nvmid=\"32444933337\" data-slog-content=\"bok_lst:2533307235329241\"><a href=\"https://cr3.shopping.naver.com/v2/bridge/book/searchGate?cat_id=50005740&amp;frm=PBOKPRO&amp;h=561a996cfc27598fe26494c324e3d32d9c48a1b2&amp;nv_mid=32444933337&amp;query=python&amp;t=MF7ZGXXG\" class=\"thumb_wrap\" target=\"_blank\" onclick='return goOtherCR(this,\"u=\"+urlencode(this.href)+\"&r=4&i=2533307235329241&a=bok_lst.cimg\")'><img data-lazy-load=\"0\" src=\"https://search.pstatic.net/common/?src=https%3A%2F%2Fshopping-phinf.pstatic.net%2Fmain_3244493%2F32444933337.20250429071737.jpg&amp;type=w216\" alt=\"Python\" width=\"120\" class=\"thumb\" loading=\"lazy\" onerror=naver.common.handleImgError(this)></a><div class=\"info_wrap\"><div class=\"info_area\"><a href=\"https://cr3.shopping.naver.com/v2/bridge/book/searchGate?cat_id=50005740&amp;frm=PBOKPRO&amp;h=561a996cfc27598fe26494c324e3d32d9c48a1b2&amp;nv_mid=32444933337&amp;query=python&amp;t=MF7ZGXXG\" class=\"item_title\" target=\"_blank\" onclick='return goOtherCR(this,\"u=\"+urlencode(this.href)+\"&r=4&i=2533307235329241&a=bok_lst.ctitle\")'>Python (This book includes : Python basics for Beginners + Python Automation Techniques And Web Scraping + Python For Data Science And Machine Learning)</a><div class=\"book_info\"><div class=\"info\"><span class=\"title\">출판</span><div class=\"publish\">Ladoo Publishing LLC</div><span class=\"date\">2021.07.30.</span></div></div></div><div class=\"shop_area\"><div class=\"shop_box\"><div class=\"box_inner\"><div class=\"title\">도서</div><a href=\"https://cr3.shopping.naver.com/v2/bridge/book/searchGate?cat_id=50005740&amp;frm=PBOKPRO&amp;h=561a996cfc27598fe26494c324e3d32d9c48a1b2&amp;nv_mid=32444933337&amp;query=python&amp;t=MF7ZGXXG\" class=\"shop\" target=\"_blank\" onclick='return goOtherCR(this,\"u=\"+urlencode(this.href)+\"&r=4&i=2533307235329241&a=bok_lst.cpricep\")'>판매처 1\n",
            "</a><span class=\"price\">최저 <em class=\"strong\">104,980</em>원</span></div><div class=\"sub_info\"><div class=\"shipping\"><i class=\"spbk ico_transfer\"></i>무료</div></div></div></div></div></li></ul><div class=\"noti_area _modal\"><div class=\"criteria_noti\"><div class=\"ranking_info\">네이버 랭킹순 정렬 기준<a href=\"https://help.pay.naver.com/faq/content.help?faqId=12861\" class=\"btn_info\" role=\"button\" target=\"_blank\" onclick='return goOtherCR(this,\"u=\"+urlencode(this.href)+\"&r=&i=&a=bok_lst.help2\")'><i class=\"spnew api_ico_help\">이 정보가 표시된 이유</i></a></div></div><div class=\"legal_noti\">네이버는 상품판매의 당사자가 아닙니다. <a href=\"https://shopping.naver.com/user/legalbasis.nhn\" target=\"_blank\" onclick='return goOtherCR(this,\"u=\"+urlencode(this.href)+\"&r=&i=&a=bok_lst.law\")'>법적고지 및 안내</a></div></div><div class=\"mod_more_wrap\"><a href=\"https://search.shopping.naver.com/book/search?bookTabType=ALL&amp;query=python\" class=\"group_more\" target=\"_blank\" onclick='return goOtherCR(this,\"u=\"+urlencode(this.href)+\"&r=&i=&a=bok_lst.more\")'><span class=\"kwd\">도서</span>\n",
            "<span class=\"etc\">더보기<i class=\"spnew ico_arr\"></i></span></a></div></div></div></div><div class=\"api_subject_bx _fe_book_additional_root\" style=\"display: none\"></div></section><script>(function(){var e=\"https://ssl.pstatic.net/sstatic/fe/sfe/book/pc/list-1.2.0.js\",t=function(){var t=window.require.config({context:\"_nshopping_book\",paths:{List:e.replace(/\\.js$/,\"\")}});define(\"jquery\",[],function(){return jQuery}),t([\"List\"],function(e){var t=new e(jQuery(\"._nshopping_book_pc\"))})};naver.common.load_js(null,t)})()</script><script>naver.common.imageLazyLoader.onError(naver.common.LazySrc.Handler.create({\"book-addon-load-handler\":function(e){e.removeClass().addClass(\"bg_nimg\").attr(\"src\",\"data:image/gif;base64,R0lGODlhAQABAIAAAAAAAP///yH5BAEAAAAALAAAAAABAAEAAAIBRAA7\")}})),function(){var e=\"https://ssl.pstatic.net/sstatic/fe/sfe/book/pc/vertical-1.0.1.js\",t=function(){var t=window.require.config({context:\"nshopping_book\",paths:{Vertical:e.replace(/\\.js$/,\"\")}});define(\"jquery\",[],function(){return jQuery}),t([\"Vertical\"],function(e){var t=jQuery(\"._fe_book_additional_root\");new e(t,{isResponsive:!0,url:\"https://s.search.naver.com/p/book/47/search.naver?ac=0&area=bok_lst&fgn_city=The+Dalles&fgn_region=Oregon&lgl_lat=&lgl_long=&lgl_rcode=&ngn_country=US&query=python&sm=&ssc=tab.nx.all&where=related_api_nx&puid=\"+urlencode(g_puid)+\"&base_nvmid={=nvmid}&base_type={=base_type}\",callbackKey:\"callback\"}).on(\"clicklog-innerscroll\",function(e){var t=e.crlog;tCR(t)})})};naver.common.load_js(null,t)}()</script><div class=\"_scrollLog\" data-slog-id=\"bok_lst\" style=\"visibility:hidden;height:0px;margin:0 28px\"></div><div class=\"api_sc_page_wrap\"><div class=\"sc_page\"><a role=\"button\" class=\"btn_prev\" aria-disabled=\"true\"><i class=\"spnew api_ico_pg_arr\">이전</i></a><div class=\"sc_page_inner\"><a href=\"?nso=&amp;query=python&amp;sm=tab_pge&amp;where=nexearch\" onclick='goOtherCR(this,\"a=pag.pag&r=1&i=&u=\"+urlencode(this.href))' role=\"button\" class=\"btn\" aria-pressed=\"true\">1</a>\n",
            "<a href=\"?nso=&amp;page=2&amp;query=python&amp;sm=tab_pge&amp;start=1&amp;where=web\" onclick='goOtherCR(this,\"a=pag.pag&r=2&i=&u=\"+urlencode(this.href))' role=\"button\" class=\"btn\" aria-pressed=\"false\">2</a>\n",
            "<a href=\"?nso=&amp;page=3&amp;query=python&amp;sm=tab_pge&amp;start=16&amp;where=web\" onclick='goOtherCR(this,\"a=pag.pag&r=3&i=&u=\"+urlencode(this.href))' role=\"button\" class=\"btn\" aria-pressed=\"false\">3</a>\n",
            "<a href=\"?nso=&amp;page=4&amp;query=python&amp;sm=tab_pge&amp;start=31&amp;where=web\" onclick='goOtherCR(this,\"a=pag.pag&r=4&i=&u=\"+urlencode(this.href))' role=\"button\" class=\"btn\" aria-pressed=\"false\">4</a>\n",
            "<a href=\"?nso=&amp;page=5&amp;query=python&amp;sm=tab_pge&amp;start=46&amp;where=web\" onclick='goOtherCR(this,\"a=pag.pag&r=5&i=&u=\"+urlencode(this.href))' role=\"button\" class=\"btn\" aria-pressed=\"false\">5</a>\n",
            "<a href=\"?nso=&amp;page=6&amp;query=python&amp;sm=tab_pge&amp;start=61&amp;where=web\" onclick='goOtherCR(this,\"a=pag.pag&r=6&i=&u=\"+urlencode(this.href))' role=\"button\" class=\"btn\" aria-pressed=\"false\">6</a>\n",
            "<a href=\"?nso=&amp;page=7&amp;query=python&amp;sm=tab_pge&amp;start=76&amp;where=web\" onclick='goOtherCR(this,\"a=pag.pag&r=7&i=&u=\"+urlencode(this.href))' role=\"button\" class=\"btn\" aria-pressed=\"false\">7</a>\n",
            "<a href=\"?nso=&amp;page=8&amp;query=python&amp;sm=tab_pge&amp;start=91&amp;where=web\" onclick='goOtherCR(this,\"a=pag.pag&r=8&i=&u=\"+urlencode(this.href))' role=\"button\" class=\"btn\" aria-pressed=\"false\">8</a>\n",
            "<a href=\"?nso=&amp;page=9&amp;query=python&amp;sm=tab_pge&amp;start=106&amp;where=web\" onclick='goOtherCR(this,\"a=pag.pag&r=9&i=&u=\"+urlencode(this.href))' role=\"button\" class=\"btn\" aria-pressed=\"false\">9</a>\n",
            "<a href=\"?nso=&amp;page=10&amp;query=python&amp;sm=tab_pge&amp;start=121&amp;where=web\" onclick='goOtherCR(this,\"a=pag.pag&r=10&i=&u=\"+urlencode(this.href))' role=\"button\" class=\"btn\" aria-pressed=\"false\">10</a></div><a href=\"?nso=&amp;page=11&amp;query=python&amp;sm=tab_pge&amp;start=1&amp;where=web\" onclick='goOtherCR(this,\"a=pag.pag&r=11&i=&u=\"+urlencode(this.href))' role=\"button\" class=\"btn_next\" aria-disabled=\"false\"><i class=\"spnew api_ico_pg_arr\">다음</i></a></div></div><div class=\"ct_feed_wrap\"></div><div class=\"_scrollLogEndline\" style=\"visibility:hidden;height:0px\"></div></div><div id=\"sub_pack\" class=\"sub_pack\"><section class=\"sc_new sp_related\" id=\"nx_right_related_keywords\"> <div class=\"api_subject_bx _related_box\"> <div class=\"mod_title_area\"> <div class=\"title_wrap\"> <h2 class=\"title\">연관 검색어</h2> <span class=\"sub\"><a href=\"https://help.naver.com/alias/search/word/word_1.naver\" role=\"button\" class=\"api_ad_link\" onclick=\"return goOtherCR(this, 'a=rsk_top.guide&amp;r=&amp;i=&amp;u='+urlencode(urlexpand(this.href)));\" target=\"_blank\"><i class=\"spnew api_ico_help\">도움말</i></a></span> </div> <div class=\"title_sub\"> <a href=\"https://help.naver.com/support/alias/search/word/word_2.naver\" class=\"btn_report\" onclick=\"return goOtherCR(this, 'a=rsk_top.report&amp;r=&amp;i=&amp;u='+urlencode(urlexpand(this.href)));\" target=\"_blank\"><span class=\"txt\">신고</span></a><a href=\"#\" onclick=\"return tCR('a=rsk_top.1fold&amp;r=1&amp;i=');\" class=\"btn_close _close\"><i class=\"spnew api_ico_close4\">검색어제안 기능 닫기</i></a> </div> </div> <div class=\"related_srch\"> <ul class=\"lst_related_srch _list_box\"> <li class=\"item\"> <a class=\"keyword\" href=\"?where=nexearch&amp;ssc=tab.nx.all&amp;query=%ED%8C%8C%EC%9D%B4%EC%8D%AC%EC%9D%B4%EB%9E%80&amp;sm=tab_she&amp;qdt=0\" onclick=\"return goOtherCR(this, 'a=rsk_top*q.list1&amp;r=1&amp;u=' + urlencode(this.href))\"> <div class=\"tit\">파이썬이란</div> </a> </li> <li class=\"item\"> <a class=\"keyword\" href=\"?where=nexearch&amp;ssc=tab.nx.all&amp;query=%ED%8C%8C%EC%9D%B4%EC%8D%AC&amp;sm=tab_she&amp;qdt=0\" onclick=\"return goOtherCR(this, 'a=rsk_top*q.list1&amp;r=2&amp;u=' + urlencode(this.href))\"> <div class=\"tit\">파이썬</div> </a> </li> <li class=\"item\"> <a class=\"keyword\" href=\"?where=nexearch&amp;ssc=tab.nx.all&amp;query=%ED%8C%8C%EC%9D%B4%EC%84%A0&amp;sm=tab_she&amp;qdt=0\" onclick=\"return goOtherCR(this, 'a=rsk_top*q.list1&amp;r=3&amp;u=' + urlencode(this.href))\"> <div class=\"tit\">파이선</div> </a> </li> <li class=\"item\"> <a class=\"keyword\" href=\"?where=nexearch&amp;ssc=tab.nx.all&amp;query=python+%EC%84%A4%EC%B9%98&amp;sm=tab_she&amp;qdt=0\" onclick=\"return goOtherCR(this, 'a=rsk_top*q.list1&amp;r=4&amp;u=' + urlencode(this.href))\"> <div class=\"tit\">python 설치</div> </a> </li> <li class=\"item\"> <a class=\"keyword\" href=\"?where=nexearch&amp;ssc=tab.nx.all&amp;query=python+%EB%9C%BB&amp;sm=tab_she&amp;qdt=0\" onclick=\"return goOtherCR(this, 'a=rsk_top*q.list1&amp;r=5&amp;u=' + urlencode(this.href))\"> <div class=\"tit\">python 뜻</div> </a> </li> <li class=\"item\"> <a class=\"keyword\" href=\"?where=nexearch&amp;ssc=tab.nx.all&amp;query=%ED%8C%8C%EC%9D%B4%ED%86%A4&amp;sm=tab_she&amp;qdt=0\" onclick=\"return goOtherCR(this, 'a=rsk_top*q.list1&amp;r=6&amp;u=' + urlencode(this.href))\"> <div class=\"tit\">파이톤</div> </a> </li> <li class=\"item\"> <a class=\"keyword\" href=\"?where=nexearch&amp;ssc=tab.nx.all&amp;query=phyton&amp;sm=tab_she&amp;qdt=0\" onclick=\"return goOtherCR(this, 'a=rsk_top*q.list1&amp;r=7&amp;u=' + urlencode(this.href))\"> <div class=\"tit\">phyton</div> </a> </li> <li class=\"item\"> <a class=\"keyword\" href=\"?where=nexearch&amp;ssc=tab.nx.all&amp;query=pyton&amp;sm=tab_she&amp;qdt=0\" onclick=\"return goOtherCR(this, 'a=rsk_top*q.list1&amp;r=8&amp;u=' + urlencode(this.href))\"> <div class=\"tit\">pyton</div> </a> </li> <li class=\"item\"> <a class=\"keyword\" href=\"?where=nexearch&amp;ssc=tab.nx.all&amp;query=python+%EC%9E%90%EA%B2%A9%EC%A6%9D&amp;sm=tab_she&amp;qdt=0\" onclick=\"return goOtherCR(this, 'a=rsk_top*q.list1&amp;r=9&amp;u=' + urlencode(this.href))\"> <div class=\"tit\">python 자격증</div> </a> </li> <li class=\"item\"> <a class=\"keyword\" href=\"?where=nexearch&amp;ssc=tab.nx.all&amp;query=Python+%EC%BD%94%EB%93%9C&amp;sm=tab_she&amp;qdt=0\" onclick=\"return goOtherCR(this, 'a=rsk_top*q.list1&amp;r=10&amp;u=' + urlencode(this.href))\"> <div class=\"tit\">Python 코드</div> </a> </li> </ul> <div class=\"btn_area\"> <a href=\"#\" role=\"button\" class=\"btn_more _more\" style=\"display:none\" onclick=\"return tCR('a=rsk_top.open');\"><i class=\"spnew api_ico_open\">더보기</i></a> </div> <div class=\"closed\">1주일간 닫힘 상태가 유지됩니다. 다시 보시겠습니까?<a href=\"#\" onclick=\"return tCR('a=rsk_top.1unfold&amp;r=1&amp;i=');\" class=\"btn_open _open\">열기</a></div> </div> </div> </section> <script> (function() { var startApplication = function() { var jsFile = \"https://ssl.pstatic.net/sstatic/au/pc/related_keyword/Controller_210623.js\"; var require = window.require.config({ \"context\": \"_au_related_keyword\", \"paths\": { /* Controller.js의 경로 지정. */ \"Controller\": jsFile.replace(/\\.js$/, \"\"), } }); /* module define은 require의 context별로 호출해야함. */ define(\"jquery\", [], function() { return jQuery; }); require([\"Controller\"], function(Controller) { var ck = \"qre\"; new Controller(jQuery(\"#nx_right_related_keywords\"), { /* 초기 닫힘 상태 설정 */ isClosed: !!nx_get_cookie(ck) }) /* 열기 이벤트 */ .on(\"open\", function(e){ /* 쿠키 제거 */ nx_set_cookie(ck, \"\", -1, nx_au_cookie_domain); }) /* 닫기 이벤트 */ .on(\"close\", function(e){ var date = new Date(); date.setDate(date.getDate() + 7); /* 쿠키 저장 */ nx_set_cookie(ck, 1, date, nx_au_cookie_domain); }) }); }; var requirejs = naver.common.gv.REQUIRE_JS; naver.common.load_js(window.require ? null : requirejs, startApplication, true, 50); })(); </script> <section class=\"sc_new\"> <div class=\"api_subject_bx\"> <div class=\"api_common_banner\"> <a nocr onclick=\"return goOtherCR(this, 'a=bnr.link1&r=1&i=&u=' + urlencode(this.href));\" href=\"https://mkt.naver.com/p1/atrb?channel_id=naver_pcsearchmktbanner&campaign_id=2508-naverclip-002&material=2508_banner_a&target=https%3A%2F%2Fmkt.naver.com%2Fclip-profile%3F%3Dreferer%3Dnaver_pcsearchmktbanner%26dtm_detail%3D2508_banner_a%26dtm_source%3Dnaver_pcsearchmktbanner%26dtm_medium%3Dmktatrb_etc%26dtm_campaign%3D2508-naverclip-002\" class=\"spnew_bf item\" target=\"_blank\"> <div class=\"ico_area\"><img src=\"https://csearch-phinf.pstatic.net/20250820_217/17556557664950uyOi_PNG/760_31963112_marketing_banner_pc_icon_0_1755655766479.png\" width=\"36\" height=\"36\" alt=\"\" class=\"ico\"></div> <div class=\"dsc_area\"> <strong class=\"elss tit\">네이버에 새집마련</strong> <p class=\"elss dsc\">내 취향을 기록할 새로운 공간</p> </div> </a> <a nocr onclick=\"return goOtherCR(this, 'a=bnr.link2&r=2&i=&u=' + urlencode(this.href));\" href=\"https://mkt.naver.com/p1/atrb?channel_id=naver_pcsearchmktbanner&campaign_id=2503-shopping-017&material=0617&target=https%3A%2F%2Fmkt.naver.com%2Fplus_app%3Fdtm_detail%3D0617%26dtm_source%3Dnaver_pcsearchmktbanner%26dtm_medium%3Dmktatrb_etc%26dtm_campaign%3D2503-shopping-017\" class=\"spnew_bf item\" target=\"_blank\"> <div class=\"ico_area\"><img src=\"https://csearch-phinf.pstatic.net/20250831_240/1756651961999zSvvO_PNG/760_31963112_marketing_banner_pc_icon_1_1756651961984.png\" width=\"36\" height=\"36\" alt=\"\" class=\"ico\"></div> <div class=\"dsc_area\"> <strong class=\"elss tit\">첫 구매 스토어도 혜택은 단골처럼</strong> <p class=\"elss dsc\">네이버+ 스토어 앱</p> </div> </a> <a nocr onclick=\"return goOtherCR(this, 'a=bnr.link3&r=3&i=&u=' + urlencode(this.href));\" href=\"https://mkt.naver.com/p1/atrb?channel_id=naver_pcsearchmktbanner&campaign_id=2506-shopping-015&target=https%3A%2F%2Fshopping.naver.com%2Fmarket%2Fhome%3Fdtm_source%3Dnaver_pcsearchmktbanner%26dtm_medium%3Dmktatrb_etc%26dtm_campaign%3D2506-shopping-015\" class=\"spnew_bf item\" target=\"_blank\"> <div class=\"ico_area\"><img src=\"https://csearch-phinf.pstatic.net/20250831_236/1756651961998aLNCk_PNG/760_31963112_marketing_banner_pc_icon_2_1756651961984.png\" width=\"36\" height=\"36\" alt=\"\" class=\"ico\"></div> <div class=\"dsc_area\"> <strong class=\"elss tit\">사자마자 와~ 네이버 지금배달</strong> <p class=\"elss dsc\">집 주변 편의점을 초고속 쇼핑</p> </div> </a> <a nocr onclick=\"return goOtherCR(this, 'a=bnr.link4&r=4&i=&u=' + urlencode(this.href));\" href=\"https://mkt.naver.com/p1/atrb?channel_id=naver_pcsearchmktbanner&campaign_id=2506-naverclip-002&target=https%3A%2F%2Fclipcreators.naver.com%2Fpromotion%2Ftoday%3Fdtm_source%3Dnaver_pcsearchmktbanner%26dtm_medium%3Dmktatrb_etc%26dtm_campaign%3D2506-naverclip-002\" class=\"spnew_bf item\" target=\"_blank\"> <div class=\"ico_area\"><img src=\"https://csearch-phinf.pstatic.net/20250831_239/1756651498356G3pcN_JPEG/760_31963112_marketing_banner_pc_icon_3_1756651498342.jpeg\" width=\"36\" height=\"36\" alt=\"\" class=\"ico\"></div> <div class=\"dsc_area\"> <strong class=\"elss tit\">장소 기록을 높이 삽니다</strong> <p class=\"elss dsc\">Npay 포인트 최대 21,500원</p> </div> </a> </div> </div> </section> <script> var nx_cr_right_area_info = [{\"n\": \"rsk_top\", \"r\": 1},{\"n\": \"bnr\", \"r\": 2}]; </script><script> function _0x5a41(_0x2a110b,_0x1b420e){var _0x35b4d1=_0x35b4();return _0x5a41=function(_0x5a4197,_0x10fe9a){_0x5a4197=_0x5a4197-0xe4;var _0xa3a4c2=_0x35b4d1[_0x5a4197];return _0xa3a4c2;},_0x5a41(_0x2a110b,_0x1b420e);}function _0x35b4(){var _0x252acf=['createElem','offsetWidt','nco_x82','torAll','target','unset !imp','offsetHeig','contains','classList',': hidden','addedNodes','yValue','parentNode','tant','server','5puSvom','className','getElement','display: u','important','1216417KsJfMd','position: ','pointer-ev','type','1646764JfKiNU','sub_pack','ELEMENT_NO','prototype','documentEl','children','cloneNode','visibility','MutationOb',' !importan','2CUWxpl','191576FAQJyO','attributes','getPropert','mportant','nodeType','zoom','indexOf','des','set !impor','slice','hasChildNo','insertBefo','ement','length','margin: un','rect(0 0 0','background','observe','DIV','_sub','all: unset','ortant','30DcEpXi','clip-path','iframe','rtant','ame','ant','toLowerCas','childList','none','1397128hpSuyT','cs_reelect','dow','et !import','SECTION','on_observe','value','4829803VnLWmx','forEach','ents','appendChil','2689179FspllW','tagName','!important','content','padding: u','8096030nopQDG','call','18yktaeR',' 0)','removeChil','height: 0p','ent','setPropert','userAgent',': unset !i','removedNod','width: uns','ById','sfe_mutati','querySelec','display','style','nset !impo','main_pack','opacity: u'];_0x35b4=function(){return _0x252acf;};return _0x35b4();}(function(_0x2a8489,_0xa6c40f){var _0x49394c=_0x5a41,_0xfa7be2=_0x2a8489();while(!![]){try{var _0x397158=parseInt(_0x49394c(0xf2))/0x1+-parseInt(_0x49394c(0x100))/0x2*(parseInt(_0x49394c(0x12b))/0x3)+-parseInt(_0x49394c(0x101))/0x4*(parseInt(_0x49394c(0xed))/0x5)+parseInt(_0x49394c(0x117))/0x6*(parseInt(_0x49394c(0xf6))/0x7)+parseInt(_0x49394c(0x120))/0x8*(-parseInt(_0x49394c(0x132))/0x9)+-parseInt(_0x49394c(0x130))/0xa+parseInt(_0x49394c(0x127))/0xb;if(_0x397158===_0xa6c40f)break;else _0xfa7be2['push'](_0xfa7be2['shift']());}catch(_0x47d528){_0xfa7be2['push'](_0xfa7be2['shift']());}}}(_0x35b4,0xb1e02),function(_0x411df0){var _0x21f7d4=_0x5a41,_0xb1abdd=navigator[_0x21f7d4(0x138)][_0x21f7d4(0x11d)+'e']()[_0x21f7d4(0x107)]('chrome')>=0x0;if(!_0xb1abdd)return;var _0x168ce1=document['getElement'+_0x21f7d4(0x13c)](_0x21f7d4(0xf7)),_0x74bfab=document[_0x21f7d4(0xef)+'ById'](_0x21f7d4(0x142)),_0x574cc9=document['getElement'+_0x21f7d4(0x13c)](_0x21f7d4(0x12e)),_0x2f867c=_0x20de4e(),_0x147d2b=![];for(var _0x269ac1=0x0;_0x269ac1<_0x411df0[_0x21f7d4(0x10e)];_0x269ac1++){if(_0x411df0[_0x269ac1]['n']&&_0x411df0[_0x269ac1]['n'][_0x21f7d4(0x107)](_0x21f7d4(0x146))>=0x0){_0x147d2b=!![];break;}}_0x4fc2bc(),_0x558268();function _0x4fc2bc(){var _0x3dd333=_0x20de4e();for(var _0x2b047c=0x0;_0x2b047c<_0x3dd333['length'];_0x2b047c++){_0x4e4c25(_0x3dd333[_0x2b047c])&&(_0x19c489(_0x3dd333[_0x2b047c]),_0x346c44(_0x3dd333[_0x2b047c]));}}function _0x558268(){var _0x13550a=_0x5a41;window[_0x13550a(0x13d)+_0x13550a(0x125)+'r']=_0x5187b9();if(_0x168ce1){var _0x5c539d=new window['sfe_mutati'+(_0x13550a(0x125))+'r'](function(_0x524f94){var _0x556d8a=_0x5a41;for(var _0x3c36c1=0x0;_0x3c36c1<_0x524f94[_0x556d8a(0x10e)];_0x3c36c1++){var _0x4e0376=_0x524f94[_0x3c36c1];_0x4e0376[_0x556d8a(0xf5)]===_0x556d8a(0x11e)&&(_0x13c6a0(_0x4e0376[_0x556d8a(0xe8)]),_0x15aee3(_0x4e0376[_0x556d8a(0x13a)+'es']));}});_0x5c539d[_0x13550a(0x112)](_0x168ce1,{'childList':!![]});}if(_0x574cc9){var _0x4cfc78=new window[(_0x13550a(0x13d))+'on_observe'+'r'](function(_0x4252f9){var _0xdcf454=_0x5a41;for(var _0x30cf40=0x0;_0x30cf40<_0x4252f9[_0xdcf454(0x10e)];_0x30cf40++){var _0x40c435=_0x4252f9[_0x30cf40];_0x40c435[_0xdcf454(0xf5)]==='childList'&&_0x9a100a();}});_0x4cfc78[_0x13550a(0x112)](_0x574cc9,{'childList':!![],'subtree':![],'attributes':!![]});}var _0xdd20d9=new window[(_0x13550a(0x13d))+(_0x13550a(0x125))+'r'](function(_0x1a5db1){var _0x365b48=_0x5a41;_0x1a5db1[_0x365b48(0x128)](function(_0x1c755b){var _0x41d4aa=_0x5a41;if(_0x1c755b[_0x41d4aa(0xf5)]===_0x41d4aa(0x11e))for(var _0x1b8a26=0x0;_0x1b8a26<_0x1c755b[_0x41d4aa(0xe8)][_0x41d4aa(0x10e)];_0x1b8a26++){var _0xe66966=_0x1c755b[_0x41d4aa(0xe8)][_0x1b8a26];_0xe66966[_0x41d4aa(0x105)]===Node['ELEMENT_NO'+'DE']&&(_0x4e4c25(_0xe66966)&&_0x19c489(_0xe66966));}});});_0xdd20d9[_0x13550a(0x112)](document,{'childList':!![],'subtree':!![]});}function _0x13c6a0(_0x3a5a0a){var _0x45ba0d=_0x5a41;for(var _0x54c397=0x0;_0x54c397<_0x3a5a0a['length'];_0x54c397++){var _0x2842bf=_0x3a5a0a[_0x54c397];if(_0x2842bf[_0x45ba0d(0x105)]===Node[_0x45ba0d(0xf8)+'DE']&&_0x2f867c[_0x45ba0d(0x107)](_0x2842bf)===-0x1){if(_0x147d2b&&_0x2842bf[_0x45ba0d(0xe6)][_0x45ba0d(0xe5)](_0x45ba0d(0x121)+_0x45ba0d(0x114))){_0x2842bf[_0x45ba0d(0x140)]['display']=_0x45ba0d(0x11f),_0x2f867c=Array[_0x45ba0d(0xf9)][_0x45ba0d(0x10a)][_0x45ba0d(0x131)](_0x168ce1[_0x45ba0d(0x13e)+_0x45ba0d(0x147)]('.sc_new')),setTimeout(function(){var _0x232edc=_0x5a41;_0x2842bf[_0x232edc(0x140)][_0x232edc(0x13f)]='';},0x32);continue;}_0x346c44(_0x2842bf);}}}function _0x15aee3(_0x17999f){var _0x9e317=_0x5a41;for(var _0xe3e2ff=0x0;_0xe3e2ff<_0x17999f[_0x9e317(0x10e)];_0xe3e2ff++){var _0x2e326d=_0x17999f[_0xe3e2ff];for(var _0xecef3f=0x0;_0xecef3f<_0x2f867c['length'];_0xecef3f++){if(_0x2f867c[_0xecef3f]===_0x2e326d){var _0x5516a5=_0x2e326d[_0x9e317(0xfc)](!![]),_0x5a0939=_0x2f867c[_0xecef3f+0x1]||null;_0x168ce1[_0x9e317(0x10c)+'re'](_0x5516a5,_0x5a0939),_0x2f867c=Array[_0x9e317(0xf9)][_0x9e317(0x10a)][_0x9e317(0x131)](_0x168ce1[_0x9e317(0x13e)+_0x9e317(0x147)]('.sc_new'));return;}}}}function _0x5187b9(){var _0x17ce84=_0x5a41,_0xe4a259=document[_0x17ce84(0x144)+_0x17ce84(0x136)](_0x17ce84(0x119));_0xe4a259[_0x17ce84(0x140)][_0x17ce84(0x13f)]='none',document[_0x17ce84(0xfa)+_0x17ce84(0x10d)][_0x17ce84(0x12a)+'d'](_0xe4a259);var _0x4e726f=_0xe4a259['contentWin'+_0x17ce84(0x122)][_0x17ce84(0xfe)+'server']||window[_0x17ce84(0xfe)+_0x17ce84(0xec)];return _0xe4a259[_0x17ce84(0xea)][_0x17ce84(0x134)+'d'](_0xe4a259),_0x4e726f;}function _0x20de4e(){var _0xbb5a43=_0x5a41,_0x194720=document[_0xbb5a43(0xef)+'ById']('sub_pack'),_0x52a0dd=[];if(!_0x194720)return[];for(var _0x40e97e=0x0;_0x40e97e<_0x194720[_0xbb5a43(0xfb)][_0xbb5a43(0x10e)];_0x40e97e++){(_0x194720[_0xbb5a43(0xfb)][_0x40e97e][_0xbb5a43(0x12c)]===_0xbb5a43(0x124)||_0x194720[_0xbb5a43(0xfb)][_0x40e97e][_0xbb5a43(0x12c)]===_0xbb5a43(0x113))&&_0x52a0dd['push'](_0x194720[_0xbb5a43(0xfb)][_0x40e97e]);}return _0x52a0dd;}function _0x9a100a(){var _0x3086cc=_0x5a41,_0x1cb8f3=document[_0x3086cc(0xef)+_0x3086cc(0x13c)](_0x3086cc(0x12e));if(!_0x1cb8f3)return;var _0x53fe50=document[_0x3086cc(0xef)+_0x3086cc(0x13c)](_0x3086cc(0x142)),_0x260083=document[_0x3086cc(0xef)+_0x3086cc(0x13c)]('sub_pack');if(_0x53fe50&&_0x260083){var _0x4cf2fc=Array[_0x3086cc(0xf9)][_0x3086cc(0x10a)]['call'](_0x1cb8f3[_0x3086cc(0xfb)]),_0x3e7f23=_0x4cf2fc['indexOf'](_0x53fe50),_0x5b3e8f=_0x4cf2fc[_0x3086cc(0x107)](_0x260083);if(_0x3e7f23!==-0x1&&_0x5b3e8f!==-0x1&&_0x3e7f23<_0x5b3e8f)for(var _0x39d4a0=_0x3e7f23+0x1;_0x39d4a0<_0x5b3e8f;_0x39d4a0++){var _0x56f6fe=_0x4cf2fc[_0x39d4a0];_0x19c489(_0x56f6fe),_0x346c44(_0x56f6fe);}}}function _0x19c489(_0x160424){var _0x24e401=_0x5a41;if(!_0x160424||!_0x160424[_0x24e401(0x140)])return;function _0x3ef229(){var _0x5206ca=_0x5a41;_0x160424[_0x5206ca(0x140)]['setPropert'+'y'](_0x5206ca(0x118),_0x5206ca(0x110)+_0x5206ca(0x133),'important'),_0x160424['style'][_0x5206ca(0x137)+'y'](_0x5206ca(0x106),'0.0001','important'),_0x160424[_0x5206ca(0x140)][_0x5206ca(0x137)+'y']('pointer-ev'+_0x5206ca(0x129),'none',_0x5206ca(0xf1));}_0x3ef229();var _0xba8fc4=![],_0x4539c0=new window['sfe_mutati'+(_0x24e401(0x125))+'r'](function(_0x372055){var _0x332e47=_0x5a41;_0x372055[_0x332e47(0x128)](function(_0x4f288f){var _0x5c53b9=_0x5a41;if(_0x4f288f['type']===_0x5c53b9(0x102)&&_0x4f288f['attributeN'+_0x5c53b9(0x11b)]==='style'){var _0x4488d0=_0x4f288f[_0x5c53b9(0x148)];if(_0xba8fc4)return;var _0x3bb691=![],_0x2056c4=[{'i':_0x5c53b9(0x118),'value':_0x5c53b9(0x110)+_0x5c53b9(0x133)},{'i':_0x5c53b9(0x106),'value':'0.0001'},{'i':_0x5c53b9(0xf4)+'ents','value':_0x5c53b9(0x11f)}];for(var _0x21a73b=0x0;_0x21a73b<_0x2056c4[_0x5c53b9(0x10e)];_0x21a73b++){var _0x14cbf4=_0x2056c4[_0x21a73b]['i'],_0x3cf314=_0x2056c4[_0x21a73b][_0x5c53b9(0x126)];(_0x4488d0[_0x5c53b9(0x140)][_0x5c53b9(0x103)+_0x5c53b9(0xe9)](_0x14cbf4)!==_0x3cf314||!_0x4488d0[_0x5c53b9(0x140)][_0x5c53b9(0x103)+'yPriority'](_0x14cbf4))&&(_0x3bb691=!![]);}_0x3bb691&&(_0xba8fc4=!![],_0x3ef229(),setTimeout(function(){_0xba8fc4=![];},0xa));}});});_0x4539c0[_0x24e401(0x112)](_0x160424,{'attributes':!![],'attributeFilter':[_0x24e401(0x140)]});}function _0x346c44(_0x1d92aa){var _0x2eb093=_0x5a41;if(_0x1d92aa[_0x2eb093(0xea)])_0x1d92aa[_0x2eb093(0xea)]['removeChil'+'d'](_0x1d92aa);}function _0x4e4c25(_0x47d7a4){var _0x517e33=_0x5a41;if(!_0x47d7a4||!_0x47d7a4[_0x517e33(0x140)])return![];var _0x3780c9=_0x47d7a4['getAttribu'+'te'](_0x517e33(0x140))||'',_0x3fafbe=[_0x517e33(0xf3)+_0x517e33(0x149)+_0x517e33(0x116),_0x517e33(0xf0)+_0x517e33(0x141)+'rtant',_0x517e33(0xfd)+': unset !i'+_0x517e33(0x104),_0x517e33(0x13b)+_0x517e33(0x123)+_0x517e33(0x11c),'height: un'+_0x517e33(0x109)+_0x517e33(0xeb),_0x517e33(0x10f)+'set !impor'+'tant',_0x517e33(0x12f)+_0x517e33(0x141)+'rtant',_0x517e33(0x111)+_0x517e33(0x139)+_0x517e33(0x104),_0x517e33(0x143)+_0x517e33(0x141)+_0x517e33(0x11a)],_0x3b9292=0x0;for(var _0x4758d5=0x0;_0x4758d5<_0x3fafbe[_0x517e33(0x10e)];_0x4758d5++){_0x3780c9['indexOf'](_0x3fafbe[_0x4758d5])!==-0x1&&_0x3b9292++;}if(_0x3b9292>=0x3)return!![];if(_0x3780c9['indexOf'](_0x517e33(0x115)+_0x517e33(0xff)+'t;')!==-0x1)return!![];if(_0x3780c9[_0x517e33(0x107)](_0x517e33(0x12d))!==-0x1&&(_0x47d7a4[_0x517e33(0xe4)+'ht']>0x0||_0x47d7a4[_0x517e33(0x145)+'h']>0x0)&&!_0x47d7a4[_0x517e33(0x10b)+_0x517e33(0x108)]()&&_0x47d7a4[_0x517e33(0xee)]===''&&_0x47d7a4['id']===''){if(_0x3780c9['indexOf'](_0x517e33(0x135)+'x')!==-0x1||_0x3780c9[_0x517e33(0x107)]('visibility'+_0x517e33(0xe7))!==-0x1)return![];if(_0x147d2b)return![];return!![];}if(_0x47d7a4[_0x517e33(0xea)]&&_0x47d7a4[_0x517e33(0xea)][_0x517e33(0xe6)][_0x517e33(0xe5)](_0x517e33(0xf7))){var _0x45ab78=_0x20de4e();if(_0x45ab78[_0x517e33(0x10e)]!==_0x411df0[_0x517e33(0x10e)]){if(_0x147d2b)return![];return!![];}}return![];}}([{\"n\": \"rsk_top\", \"r\": 1},{\"n\": \"bnr\", \"r\": 2}])); </script></div><div class=\"ly_dimmed\"></div> </div><div class=\"mod_bridge_layer _sfe_layer_bridge_root\" data-lb-render-type=\"pc\" style=\"display: none\"> <div class=\"bridge_content _lb_init_target\"> <div class=\"bridge_header\"> <div class=\"bridge_dim _lb_header_dim\"></div> <div class=\"header_wrap _lb_header_root\"> <div class=\"header_area\"> <div class=\"header_box _lb_header_box\"> <a href=\"#\" class=\"link_prev _lb_header_back_button\"><i class=\"spnew api_ico_prev\">이전</i></a> </div> </div> </div> </div> <div class=\"pack_group _lb_content_root\"> <div class=\"main_pack\"> <section class=\"sc_new\"> <div class=\"api_subject_bx\"> <div class=\"intent_error_wrap _lb_content_loading\"> <div class=\"api_error_wrap\"> <div class=\"api_loading\"> <div class=\"api_load_wrap\"> <div class=\"api_load\"> <div class=\"load_dot dot1\"></div> <div class=\"load_dot dot2\"></div> <div class=\"load_dot dot3\"></div> <div class=\"load_dot dot4\"></div> <div class=\"load_dot dot5\"></div> <div class=\"load_dot dot6\"></div> </div> </div> <p class=\"dsc_loading\">정보를 가져오는 중입니다.</p> </div> </div> </div> <div class=\"intent_error_wrap _lb_content_error\" style=\"display: none\"> <div class=\"api_error_wrap\"> <i class=\"spnew api_ico_alert_big\"></i> <strong class=\"tit_message\">죄송합니다. 일시적인 오류입니다.</strong> <p class=\"dsc_message\">잠시 후 다시 시도해주십시오.</p> <a href=\"#\" class=\"btn_retry _lb_content_retry\"><i class=\"spnew api_ico_retry\"></i>재시도</a> </div> </div> </div> </section> </div> </div> </div> <div class=\"bridge_content _lb_open_target\" style=\"display: none\"></div> <div class=\"bridge_footer\"> <div class=\"sub_pack_btm\"> <a href=\"javascript:;\" class=\"top _lb_scroll_up_button\"><i class=\"spnew ico_top\">맨위로</i></a> </div> <div class=\"footer_group\"> <div class=\"footer_menu\"> <span class=\"inner\"><a href=\"https://policy.naver.com/policy/service.html\" target=\"_blank\" onclick=\"return goOtherCR(this, 'u='+urlencode(this.href)+'&amp;a=fot.policy&amp;r=&amp;i=');\" class=\"link\">이용약관</a></span> <span class=\"inner\" ><a href=\"https://policy.naver.com/policy/privacy.html\" target=\"_blank\" onclick=\"return goOtherCR(this, 'u='+urlencode(this.href)+'&amp;a=fot.privacy&amp;r=&amp;i=');\" class=\"link\"><strong>개인정보처리방침</strong></a></span > <span class=\"inner\"><a href=\"https://help.naver.com/alias/search/integration/main.naver\" target=\"_blank\" onclick=\"return goOtherCR(this, 'u='+urlencode(this.href)+'&amp;a=fot.help&amp;r=&amp;i=');\" class=\"link\">검색 고객센터</a></span> <span class=\"inner\" ><a href=\"https://www.navercorp.com/\" target=\"_blank\" onclick=\"return goOtherCR(this, 'u='+urlencode(this.href)+'&amp;a=fot.nhn&amp;r=&amp;i=');\" class=\"link\"><i class=\"ico_footer_logo\">©&nbsp;NAVER Corp.</i></a></span > </div> </div> </div> </div><script> (function () { var jsUrl = \"https://ssl.pstatic.net/sstatic/fe/sfe/layer-bridge/LayerBridge.min_250123.js\"; var startApplication = function () { var require = window.require.config({ \"context\": \"layer-bridge\", \"paths\": { \"layer-bridge\": jsUrl.replace(/\\.js$/, \"\") } }); define(\"jquery\", [], function () { return jQuery; }); require([\"layer-bridge\"], function (LayerBridge) { var layerBridge = new LayerBridge({ \"root\": \"._sfe_layer_bridge_root\", \"initTarget\": \"._lb_init_target\", \"openTarget\": \"._lb_open_target\", \"header\": { \"root\": \"._lb_header_root\", \"dim\": \"._lb_header_dim\", \"box\": \"._lb_header_box\", \"backButton\": \"._lb_header_back_button\" }, \"content\": { \"root\": \"._lb_content_root\", \"loading\": \"._lb_content_loading\", \"retryButton\": \"._lb_content_retry\", \"error\": \"._lb_content_error\", \"appendTarget\": \"._lb_content_append_target\" }, \"footer\": { \"scrollUpButton\": \"._lb_scroll_up_button\" } }); window.naver = window.naver || {}; window.naver.common = window.naver.common || {}; window.naver.common.layerBridge = layerBridge; }); }; naver.common.load_js(null, startApplication); })(); </script></div><div id=\"footer\"> <div class=\"sub_pack_btm\"> <a href=\"#\" class=\"top\" onclick=\"window.scrollTo(0,0); document.querySelector('#wrap a').focus(); return false;\"><i class=\"spnew ico_top\">맨위로</i></a> </div> <div class=\"footer_group\"> <div class=\"footer_menu\"> <span class=\"inner\"><a href=\"https://www.naver.com/more.html\" target=\"_blank\" onclick=\"return goOtherCR(this, 'u='+urlencode(this.href)+'&amp;a=fot.sitemap&amp;r=&amp;i=');\" class=\"link\">전체서비스</a></span> <span class=\"inner\"><a href=\"https://policy.naver.com/policy/service.html\" target=\"_blank\" onclick=\"return goOtherCR(this, 'u='+urlencode(this.href)+'&amp;a=fot.policy&amp;r=&amp;i=');\" class=\"link\">이용약관</a></span> <span class=\"inner\"><a href=\"https://policy.naver.com/policy/privacy.html\" target=\"_blank\" onclick=\"return goOtherCR(this, 'u='+urlencode(this.href)+'&amp;a=fot.privacy&amp;r=&amp;i=');\" class=\"link\"><strong>개인정보처리방침</strong></a></span> <span class=\"inner\"><a class=\"link\" href=\"https://help.naver.com/alias/search/integration/main.naver\" target=\"_blank\" onclick=\"return goOtherCR(this, 'u='+urlencode(this.href)+'&amp;a=fot.help&amp;r=&amp;i=');\">검색 고객센터</a></span> <span class=\"inner\"><a href=\"https://www.navercorp.com/\" target=\"_blank\" onclick=\"return goOtherCR(this, 'u='+urlencode(this.href)+'&amp;a=fot.nhn&amp;r=&amp;i=');\" class=\"link\"><i class=\"ico_footer_logo\">© NAVER Corp.</i></a></span> </div> </div>  </div><div class=\"_scrollLog\"  style=\"visibility:hidden;height:0px;margin:0 28px\"></div></div><script> (function () { var startApplication = function () { var $root = jQuery(document.body); var p = urlencode(window.g_puid); var sscode = urlencode(window.g_ssc); var pn = 1; window.naver.common.scrollLog.observe($root, { \"p\": p, \"sscode\": sscode, \"pn\": pn }); }; naver.common.load_js(null, startApplication, true); })(); </script><script> (function() { var jsControllerUrl = \"https://ssl.pstatic.net/sstatic/fe/sfe/cross-block/pc-1.2.0.js\"; var startApplication = function() { var require = window.require.config({ \"context\": \"search_common_modules\", \"paths\": { \"CrossBlock\": jsControllerUrl.replace(/\\.js$/, \"\") } }); define(\"jquery\", [], function() { return jQuery; }); require([\"CrossBlock\"], function(CrossBlock) { new CrossBlock(); }); }; naver.common.load_js(null, startApplication, true); })(); </script><script> function splugin_oninitialize(sTargetId) { var elTarget = document.getElementById(sTargetId); var sUrl = $$.getSingle(\"a._sp_each_url\", elTarget).href; var sTitle = $Element($$.getSingle(\"._sp_each_title\", elTarget)).text(); var sSource = $Element($$.getSingle(\"._sp_each_source\", elTarget)); if (sSource) sSource = sSource.text(); return { \"url\": sUrl, \"title\": sTitle, \"option\": { \"baseElement\": sTargetId + \"_base\", \"layerPosition\": \"outside-bottom\", \"align\": \"right\", \"top\": 18, \"left\": -28, \"marginLeft\": 8, \"marginTop\": 10 }, \"me\": { \"display\": \"off\" }, \"mail\": { \"display\": \"off\" }, \"sourceName\": sSource }; } (function () { var jsUrl = \"https://ssl.pstatic.net/spi/js/release/ko_KR/splugin.js\"; var startApplication = function () { var require = window.require.config({ \"context\": \"search_common_modules\", \"paths\": { \"splugin\": jsUrl.replace(/\\.js$/, \"\") }, \"shim\": { \"splugin\": { \"exports\": \"SocialPlugIn_Core\" } }, \"urlArgs\": function(id, url) { if (id !== \"splugin\" && id !== \"like-it\") return \"\"; var args = \"v=\" + Math.floor(new Date().getTime() / 1200000); return (url.indexOf(\"?\") === -1 ? \"?\" : \"&\") + args; } }); require([\"splugin\"], function (SocialPlugIn_Core) { g_nx_splugin = SocialPlugIn_Core({ \"evKey\": \"search\", \"serviceName\" : \"검색\" }); }); }; naver.common.load_js(null, startApplication, true); })(); </script><script> (function () { var jsUrl = \"https://static-like.pstatic.net/static/js/likeIt.list.js\"; var startApplication = function () { var require = window.require.config({ \"context\": \"search_common_modules\", \"paths\": { \"like-it\": jsUrl.replace(/\\.js$/, \"\") }, \"shim\": { \"like-it\": { \"exports\": \"nhn.LikeIt\" } }, \"urlArgs\": function(id, url) { if (id !== \"splugin\" && id !== \"like-it\") return \"\"; var args = \"v=\" + Math.floor(new Date().getTime() / 1200000); return (url.indexOf(\"?\") === -1 ? \"?\" : \"&\") + args; } }); require([\"like-it\"], function (likeIt) { likeIt.list.util.init({ \"sId\": \"SEARCH\", \"sDomain\": \"https://search.like.naver.com\", \"bMobile\": false }); }); }; naver.common.load_js(null, startApplication, true); })(); </script><script> (function() { var needFix = navigator.userAgent.toLowerCase().indexOf('webkit') > -1; d = document; if (!needFix || !d.querySelectorAll) return; var toArray = function(list){ var armap=[]; i=0; for(;i<list.length;++i){ armap.push(list[i]); } return Array.prototype.slice.call(armap, 0); } ; window.addEventListener('load', function() { toArray(d.querySelectorAll('#u_skip a')).forEach(function(el) { el.addEventListener('click', function() { var target = d.getElementById(this.href.split('#')[1]); oldTabIndex = target.getAttribute('tabindex'); oldOutlineWidth = d.defaultView.getComputedStyle(target, null).getPropertyValue('outline-width'); target.setAttribute('tabindex', 0); target.style.outlineWidth = 0; target.focus(); if (oldTabIndex === null) target.removeAttribute('tabindex'); else target.setAttribute('tabindex', oldTabIndex); }, false); }); }, false); })(); </script><script> if(typeof nx_usain_beacon !== 'undefined') { nx_usain_beacon.add_tag(\"b.0100000000\") ;nx_usain_beacon.add_tag(\"conn_.__:alpn.h1:wtm\") ; $Fn(function () { nx_usain_beacon.send(); }).attach(window, \"load\") ; } </script><script> naver = window.naver || {}; naver.common = naver.common || {}; naver.common.webvitals = naver.common.webvitals || {}; naver.common.webvitals.tags = \"b.0100000000\"; </script><link rel=\"stylesheet\" href=\"https://ssl.pstatic.net/sstatic/search/pc/css/sp_viewer_250424.css\"><div class=\"ly_viewer type_sub _fe_image_viewer_root\" style=\"display: none\"></div><script>var imageSearchViewerModulePaths={ImageSearchViewer:\"https://ssl.pstatic.net/sstatic/fe/sfe/image-search/pc-viewer/ImageSearchViewer_250626.js\".replace(/\\.js$/,\"\")}</script><script>(function(){var e=function(){var e=window.require.config({context:\"image-search-viewer\",paths:{ImageSearchViewer:imageSearchViewerModulePaths.ImageSearchViewer}});define(\"jquery\",[],function(){return jQuery}),e([\"ImageSearchViewer\"],function(e){var t={target:\"#main_pack\",root:\"._fe_image_viewer_root\",focusTarget:\"._fe_image_viewer_focus_target\"},n={lensViewer:{lensAPI:{url:\"https://s.search.naver.com/p/image/46/search.naver?api_type=pc_lens&json_type=16&mode=&query=python&ssc=tab.image.all&vintageid=&where=image&p_nvmid={=nvmid}&articleid={=articleid}&parentid={=parentid}&querySource={=querySource}&from={=from}&sbiid={=sbiid}&lensThumb={=lensThumb}\"}},viewer:{singlePhotoAPI:{url:\"https://s.search.naver.com/p/c/image/46/search.naver?ac=0&api_type=pc_image_id&json_type=10&ssc=tab.image.all&where=image&imgId={=imgId}\"},relatedImagesAPI:{url:\"https://s.search.naver.com/p/image/46/search.naver?ac=0&api_type=pc_viewer_related&aq=0&json_type=11&mode=related&nlu_query=%7B%22r_category%22%3A%2230%22%7D&nqx_theme=%7B%22theme%22%3A%7B%22sub%22%3A%5B%7B%22name%22%3A%22animal%22%7D%2C%7B%22name%22%3A%22book%22%7D%2C%7B%22name%22%3A%22language%22%7D%5D%7D%7D&nso=so%3Ar%2Cp%3Aall&nx_search_query=python&query=python&section=image&sm=top_hty&ssc=tab.nx.all&where=nx&imgId={=imgId}&p_signature={=signature}&p_nvmid={=nvmid}&articleid={=articleid}&lensThumb={=lensThumb}&querySource={=querySource}&start={=start}&cur_url={=cur_url}\"},keepAPI:{dataUrl:\"https://search.naver.com/search.naver?mode=column&query=python&ssc=tab.image.all&where=image\"},shoppingZzimAPI:{check:\"https://s.search.naver.com/p/image/46/search.naver?where=zzim&zzim_type=zzimcheck&zzim_info={=info}\",create:\"https://s.search.naver.com/p/image/46/search.naver?where=zzim&&zzim_type=zzimadd&zzim_info={=info}\",delete:\"https://s.search.naver.com/p/image/46/search.naver?where=zzim&zzim_type=zzimdel&zzim_info={=info}\",loginUrl:\"https://nid.naver.com/nidlogin.login?svctype=262144&url={=location}\"},reportAPI:{url:\"https://s.search.naver.com/p/c/image/46/search.naver?api_type=pc_report&json_type=2&query=python&imgId={=imgId}\",reportUrl:\"https://s.search.naver.com/n/srm/report\"}},mode:\"portal\"},s=new e({selectors:t,context:n});window.naver=window.naver||{},window.naver.common=window.naver.common||{},window.naver.common.imageSearchViewer=s,window.naver.common.imageSearchViewer.start()})};nhn.common.load_js(window.require?null:requirejs,e,!0,100)})()</script></body></html>\n"
          ]
        }
      ]
    },
    {
      "cell_type": "code",
      "source": [
        "from bs4 import BeautifulSoup # 크롤링하기 위한 모듈"
      ],
      "metadata": {
        "id": "Gn0mw0wWFWgU"
      },
      "execution_count": null,
      "outputs": []
    },
    {
      "cell_type": "code",
      "source": [
        "# 스크래핑한 데이터\n",
        "text = \"\"\"\n",
        "<html><body>\n",
        "  <h1>스크레이핑이란?</h1>\n",
        "  <p>웹 페이지를 분석하는 것</p>\n",
        "  <p>원하는 부분을 추출하는 것</p>\n",
        "  <p>웹 페이지를 분석하는 것1</p>\n",
        "  <p>원하는 부분을 추출하는 것1</p><p>원하는 부분을 추출하는 것2</p>\n",
        "</body></html>\n",
        "\"\"\"\n",
        "## 크롤링\n",
        "from bs4 import BeautifulSoup\n",
        "soup = BeautifulSoup(text, \"html.parser\") # utf8 ===> html\n",
        "print(soup)\n",
        "h1 = soup.html.h1\n",
        "print(h1)\n",
        "print(h1.string)\n",
        "p = soup.html.p.string\n",
        "print(p)\n",
        "p2 = soup.body.p.next_sibling.next_sibling\n",
        "print(p2.string)\n",
        "p2 = soup.body.p.next_sibling.next_sibling.next_sibling.next_sibling\n",
        "print(p2.string)\n",
        "p2 = soup.body.p.next_sibling.next_sibling.next_sibling.next_sibling.next_sibling.next_sibling\n",
        "print(p2.string)\n",
        "p2 = soup.body.p.next_sibling.next_sibling.next_sibling.next_sibling.next_sibling.next_sibling.next_sibling\n",
        "print(p2.string)"
      ],
      "metadata": {
        "colab": {
          "base_uri": "https://localhost:8080/"
        },
        "id": "vvSi7e8PFXy7",
        "outputId": "598aff8f-ac45-443a-b68c-42dfdccbc05b"
      },
      "execution_count": 230,
      "outputs": [
        {
          "output_type": "stream",
          "name": "stdout",
          "text": [
            "\n",
            "<html><body>\n",
            "<h1>스크레이핑이란?</h1>\n",
            "<p>웹 페이지를 분석하는 것</p>\n",
            "<p>원하는 부분을 추출하는 것</p>\n",
            "<p>웹 페이지를 분석하는 것1</p>\n",
            "<p>원하는 부분을 추출하는 것1</p><p>원하는 부분을 추출하는 것2</p>\n",
            "</body></html>\n",
            "\n",
            "<h1>스크레이핑이란?</h1>\n",
            "스크레이핑이란?\n",
            "웹 페이지를 분석하는 것\n",
            "원하는 부분을 추출하는 것\n",
            "웹 페이지를 분석하는 것1\n",
            "원하는 부분을 추출하는 것1\n",
            "원하는 부분을 추출하는 것2\n"
          ]
        }
      ]
    },
    {
      "cell_type": "code",
      "source": [
        "# 스크래핑한 데이터\n",
        "text = \"\"\"\n",
        "<html><body>\n",
        "  <h1 id='title'>스크레이핑이란?</h1>\n",
        "  <p id='body'>웹 페이지를 분석하는 것</p>\n",
        "  <p><a href='a.html' alt='' >원하는 부분을 추출하는 것</a></p>\n",
        "</body></html>\n",
        "\"\"\"\n",
        "## 크롤링\n",
        "from bs4 import BeautifulSoup\n",
        "soup = BeautifulSoup(text, \"html.parser\")\n",
        "a1 = soup.html.a\n",
        "print(a1)\n",
        "print(a1.string)\n",
        "body = soup.find(id=\"body\")\n",
        "print(body)\n",
        "title = soup.find(id='title')\n",
        "print(title.string)\n",
        "attrs = soup.body.a.attrs\n",
        "print(attrs)  # {'href': 'a.html', 'alt': ''} : 딕셔너리\n",
        "print(attrs['href'])"
      ],
      "metadata": {
        "colab": {
          "base_uri": "https://localhost:8080/"
        },
        "id": "6lw6pqDJKmCQ",
        "outputId": "e836453c-97d0-4967-e3c8-1de331cfec8a"
      },
      "execution_count": 237,
      "outputs": [
        {
          "output_type": "stream",
          "name": "stdout",
          "text": [
            "<a alt=\"\" href=\"a.html\">원하는 부분을 추출하는 것</a>\n",
            "원하는 부분을 추출하는 것\n",
            "<p id=\"body\">웹 페이지를 분석하는 것</p>\n",
            "스크레이핑이란?\n",
            "{'href': 'a.html', 'alt': ''}\n",
            "a.html\n"
          ]
        }
      ]
    },
    {
      "cell_type": "code",
      "source": [
        "# 스크래핑한 데이터\n",
        "import urllib.request as req\n",
        "url = \"https://finance.naver.com/marketindex/\"\n",
        "memory = req.urlopen(url)\n",
        "#print(memory)\n",
        "## 크롤링\n",
        "from bs4 import BeautifulSoup\n",
        "soup = BeautifulSoup(memory, \"html.parser\")\n",
        "#print(soup)\n",
        "#print(\"#exchangeList > li.on > a.head.usd > div > span.value\") # 선택자 (selector)\n",
        "#       #exchangeList > li.on > a.head.jpy > div > span.value\n",
        "#       #exchangeList > li.on > a.head.eur > div > span.value\n",
        "price = soup.select_one(\"#exchangeList > li.on > a.head.usd > div > span.value\")\n",
        "print(price.string)\n",
        "prices = soup.select(\"div > span.value\")\n",
        "#print(prices)\n",
        "for pri in prices:\n",
        "  print(pri.string)"
      ],
      "metadata": {
        "colab": {
          "base_uri": "https://localhost:8080/"
        },
        "id": "2ldslArPFYve",
        "outputId": "0f13371e-4251-41e4-9ded-20494284d93c"
      },
      "execution_count": 248,
      "outputs": [
        {
          "output_type": "stream",
          "name": "stdout",
          "text": [
            "1,389.50\n",
            "1,389.50\n",
            "942.64\n",
            "1,628.63\n",
            "194.98\n",
            "147.0700\n",
            "1.1735\n",
            "1.3520\n",
            "97.7200\n",
            "61.87\n",
            "1659.32\n",
            "3653.3\n",
            "160539.23\n"
          ]
        }
      ]
    },
    {
      "cell_type": "code",
      "source": [
        "# 스크래핑\n",
        "text = \"\"\"\n",
        "<html><body>\n",
        "<h1>위키북스 도서1111111</h1>\n",
        "<div>\n",
        "    <h1>이숭무</h1>\n",
        "</div>\n",
        "<div id=\"meigen\">\n",
        "  <h1>위키북스 도서</h1>\n",
        "  <ul class=\"items\">\n",
        "    <li>유니티 게임 이펙트 입문</li>\n",
        "    <li>스위프트로 시작하는 아이폰 앱 개발 교과서</li>\n",
        "    <li>모던 웹사이트 디자인의 정석</li>\n",
        "  </ul>\n",
        "</div>\n",
        "</body></html>\n",
        "\"\"\""
      ],
      "metadata": {
        "id": "JZOG6UKaSCe8"
      },
      "execution_count": null,
      "outputs": []
    }
  ]
}
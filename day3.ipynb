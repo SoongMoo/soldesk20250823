{
  "nbformat": 4,
  "nbformat_minor": 0,
  "metadata": {
    "colab": {
      "provenance": []
    },
    "kernelspec": {
      "name": "python3",
      "display_name": "Python 3"
    },
    "language_info": {
      "name": "python"
    }
  },
  "cells": [
    {
      "cell_type": "code",
      "execution_count": null,
      "metadata": {
        "id": "RFJUZ4Fobr7R"
      },
      "outputs": [],
      "source": [
        "# 함수란 : x값에 따라 y값의 변화를 알기 위한 것\n",
        "#          y = ax + b\n",
        "#          f(x) = ax + b\n",
        "# x가 3일 때 y값은 얼마입니까? a = 2 , b = 5\n",
        "#          f(x) = 2x + 5\n",
        "#          y = f(3)  = 11"
      ]
    },
    {
      "cell_type": "code",
      "source": [
        "def f(x):\n",
        "  return 2*x + 5"
      ],
      "metadata": {
        "id": "Fyt0wYr3eCfz"
      },
      "execution_count": 3,
      "outputs": []
    },
    {
      "cell_type": "code",
      "source": [
        "y = f(3)\n",
        "print(y)"
      ],
      "metadata": {
        "colab": {
          "base_uri": "https://localhost:8080/"
        },
        "id": "0QzIiJMNeSUp",
        "outputId": "f0f6cc04-e11d-4d1b-e4a3-1e19dbc6b60d"
      },
      "execution_count": 5,
      "outputs": [
        {
          "output_type": "stream",
          "name": "stdout",
          "text": [
            "11\n"
          ]
        }
      ]
    },
    {
      "cell_type": "code",
      "source": [
        "# f(x1, x2) = a1x1 + a2x2 + b\n",
        "#  a1 = 3, a2 = 5 , b = 4\n",
        "# f(x1,x2) = 3x1 + 5x2 + 4\n",
        "def f(x1,x2): # 피호출함수 | x1,x2 :  매개변수, 가인자 , parameter\n",
        "  return 3*x1 + 5*x2 + 4"
      ],
      "metadata": {
        "id": "6Sz9li1HegyC"
      },
      "execution_count": 6,
      "outputs": []
    },
    {
      "cell_type": "code",
      "source": [
        "y = f(3, 5)  # f(3, 5) : 호출함수 | 3, 5 : 실인자 , argument\n",
        "print(y)\n",
        "y = f(10, 5)\n",
        "print(y)"
      ],
      "metadata": {
        "colab": {
          "base_uri": "https://localhost:8080/"
        },
        "id": "eLNn-t_afLzD",
        "outputId": "0e8842dc-f87f-4305-c61a-83295c57a1b6"
      },
      "execution_count": 8,
      "outputs": [
        {
          "output_type": "stream",
          "name": "stdout",
          "text": [
            "38\n",
            "59\n"
          ]
        }
      ]
    },
    {
      "cell_type": "code",
      "source": [
        "'''\n",
        " 함수정의 법\n",
        " def 함수명(para1, para2,..., paraN):\n",
        "   명령어1\n",
        "   명령어2\n",
        "   명령어3\n",
        "   ...\n",
        "   명령어n\n",
        "   return 결과값\n",
        "\n",
        "반복적으로 사용하는 명령어를 한번만 정의 해서 사용할 수 있게 하려고\n",
        "'''"
      ],
      "metadata": {
        "id": "CEOZ5t8Wg1Hp"
      },
      "execution_count": null,
      "outputs": []
    },
    {
      "cell_type": "code",
      "source": [
        "# 6단\n",
        "for gop in range(1, 10):\n",
        "  print(f\"6 * {gop} = { 6 * gop}\")\n",
        "for gop in range(1, 10):\n",
        "  print(f\"6 * {gop} = { 6 * gop}\")\n",
        "for gop in range(1, 10):\n",
        "  print(f\"6 * {gop} = { 6 * gop}\")"
      ],
      "metadata": {
        "colab": {
          "base_uri": "https://localhost:8080/"
        },
        "id": "ZeDkxYtwhing",
        "outputId": "996bf22f-2590-4ee7-823e-ccb971516808"
      },
      "execution_count": 9,
      "outputs": [
        {
          "output_type": "stream",
          "name": "stdout",
          "text": [
            "6 * 1 = 6\n",
            "6 * 2 = 12\n",
            "6 * 3 = 18\n",
            "6 * 4 = 24\n",
            "6 * 5 = 30\n",
            "6 * 6 = 36\n",
            "6 * 7 = 42\n",
            "6 * 8 = 48\n",
            "6 * 9 = 54\n"
          ]
        }
      ]
    },
    {
      "cell_type": "code",
      "source": [
        "def dan_6(): # 피호출함수\n",
        "  for gop in range(1, 10):\n",
        "    print(f\"6 * {gop} = { 6 * gop}\")"
      ],
      "metadata": {
        "id": "l6Biqh1nhyI1"
      },
      "execution_count": 14,
      "outputs": []
    },
    {
      "cell_type": "code",
      "source": [
        "dan_6() # 호출함수\n",
        "dan_6()\n",
        "dan_6()"
      ],
      "metadata": {
        "colab": {
          "base_uri": "https://localhost:8080/"
        },
        "id": "IF2GvW_viFH1",
        "outputId": "c1c4ec25-d6c8-4ffe-ed2a-4b51d6b4eecf"
      },
      "execution_count": 15,
      "outputs": [
        {
          "output_type": "stream",
          "name": "stdout",
          "text": [
            "6 * 1 = 6\n",
            "6 * 2 = 12\n",
            "6 * 3 = 18\n",
            "6 * 4 = 24\n",
            "6 * 5 = 30\n",
            "6 * 6 = 36\n",
            "6 * 7 = 42\n",
            "6 * 8 = 48\n",
            "6 * 9 = 54\n",
            "6 * 1 = 6\n",
            "6 * 2 = 12\n",
            "6 * 3 = 18\n",
            "6 * 4 = 24\n",
            "6 * 5 = 30\n",
            "6 * 6 = 36\n",
            "6 * 7 = 42\n",
            "6 * 8 = 48\n",
            "6 * 9 = 54\n",
            "6 * 1 = 6\n",
            "6 * 2 = 12\n",
            "6 * 3 = 18\n",
            "6 * 4 = 24\n",
            "6 * 5 = 30\n",
            "6 * 6 = 36\n",
            "6 * 7 = 42\n",
            "6 * 8 = 48\n",
            "6 * 9 = 54\n"
          ]
        }
      ]
    },
    {
      "cell_type": "code",
      "source": [
        "def gugudan(dan): # 피호출함수\n",
        "  for gop in range(1, 10):\n",
        "    print(f\"{dan} * {gop} = { dan * gop}\")"
      ],
      "metadata": {
        "id": "MzFlA8fSieto"
      },
      "execution_count": 16,
      "outputs": []
    },
    {
      "cell_type": "code",
      "source": [
        "gugudan(3)\n",
        "gugudan(4)\n",
        "gugudan(5)"
      ],
      "metadata": {
        "colab": {
          "base_uri": "https://localhost:8080/"
        },
        "id": "NqEneU8Oirw-",
        "outputId": "0787da40-a458-4985-8a34-92600de2dff4"
      },
      "execution_count": 19,
      "outputs": [
        {
          "output_type": "stream",
          "name": "stdout",
          "text": [
            "3 * 1 = 3\n",
            "3 * 2 = 6\n",
            "3 * 3 = 9\n",
            "3 * 4 = 12\n",
            "3 * 5 = 15\n",
            "3 * 6 = 18\n",
            "3 * 7 = 21\n",
            "3 * 8 = 24\n",
            "3 * 9 = 27\n",
            "4 * 1 = 4\n",
            "4 * 2 = 8\n",
            "4 * 3 = 12\n",
            "4 * 4 = 16\n",
            "4 * 5 = 20\n",
            "4 * 6 = 24\n",
            "4 * 7 = 28\n",
            "4 * 8 = 32\n",
            "4 * 9 = 36\n",
            "5 * 1 = 5\n",
            "5 * 2 = 10\n",
            "5 * 3 = 15\n",
            "5 * 4 = 20\n",
            "5 * 5 = 25\n",
            "5 * 6 = 30\n",
            "5 * 7 = 35\n",
            "5 * 8 = 40\n",
            "5 * 9 = 45\n"
          ]
        }
      ]
    },
    {
      "cell_type": "code",
      "source": [
        "import random\n",
        "lotto = [num for num in range(1, 46)]\n",
        "size = len(lotto)\n",
        "for i in range(6):\n",
        "  size -= 1\n",
        "  idx = random.randint(0, size)\n",
        "  result = lotto.pop(idx)\n",
        "  print(result, end=\" \")"
      ],
      "metadata": {
        "colab": {
          "base_uri": "https://localhost:8080/"
        },
        "id": "tqKoxiINi7-j",
        "outputId": "4c5110b6-269e-47ce-e517-53563b31ad08"
      },
      "execution_count": 21,
      "outputs": [
        {
          "output_type": "stream",
          "name": "stdout",
          "text": [
            "30 1 4 14 19 6 "
          ]
        }
      ]
    },
    {
      "cell_type": "code",
      "source": [
        "def lottoFn():\n",
        "  lotto = [num for num in range(1, 46)]\n",
        "  size = len(lotto)\n",
        "  for i in range(6):\n",
        "    size -= 1\n",
        "    idx = random.randint(0, size)\n",
        "    result = lotto.pop(idx)\n",
        "    print(result, end=\" \")"
      ],
      "metadata": {
        "id": "EPp5k9kmjQy-"
      },
      "execution_count": 22,
      "outputs": []
    },
    {
      "cell_type": "code",
      "source": [
        "cnt = int(input(\" 구매 수량을 입력하세요\"))\n",
        "for i in range(cnt):\n",
        "  lottoFn()\n",
        "  print()"
      ],
      "metadata": {
        "colab": {
          "base_uri": "https://localhost:8080/"
        },
        "id": "HsPXIexEkBdN",
        "outputId": "42bbf398-d577-4a17-eab0-036c722e1e1b"
      },
      "execution_count": 25,
      "outputs": [
        {
          "output_type": "stream",
          "name": "stdout",
          "text": [
            " 구매 수량을 입력하세요4\n",
            "11 40 25 14 24 30 \n",
            "38 35 5 40 21 1 \n",
            "40 22 30 36 34 42 \n",
            "28 17 31 43 10 3 \n"
          ]
        }
      ]
    },
    {
      "cell_type": "code",
      "source": [
        "# 함수의 4가지유형\n",
        "# 1. 일반적인 형식 : 매개변수 , 결과값(반환값)\n",
        "def add(x, y):\n",
        "  return 2*x + 4*y + 5"
      ],
      "metadata": {
        "id": "gxMJMvcPkrQl"
      },
      "execution_count": 30,
      "outputs": []
    },
    {
      "cell_type": "code",
      "source": [
        "result = add(3, 5)\n",
        "print(result)"
      ],
      "metadata": {
        "colab": {
          "base_uri": "https://localhost:8080/"
        },
        "id": "IKSi1poxlV-X",
        "outputId": "cedfe2c9-8b74-4f68-da91-a8bae1ca8fe3"
      },
      "execution_count": 32,
      "outputs": [
        {
          "output_type": "stream",
          "name": "stdout",
          "text": [
            "31\n"
          ]
        }
      ]
    },
    {
      "cell_type": "code",
      "source": [
        "# 2.매개변수는 있고 결과값(반환값)이 없음\n",
        "def add(x, y):\n",
        "  print(2*x + 4*y + 5)"
      ],
      "metadata": {
        "id": "7fsMjaaJl990"
      },
      "execution_count": 33,
      "outputs": []
    },
    {
      "cell_type": "code",
      "source": [
        "add(3, 5)"
      ],
      "metadata": {
        "colab": {
          "base_uri": "https://localhost:8080/"
        },
        "id": "NyHnW1_hmUv8",
        "outputId": "ac84d3a6-aba8-4ed5-c09c-246310731331"
      },
      "execution_count": 34,
      "outputs": [
        {
          "output_type": "stream",
          "name": "stdout",
          "text": [
            "31\n"
          ]
        }
      ]
    },
    {
      "cell_type": "code",
      "source": [
        "# 3. 매개변수가 없고 반환값이 있는 경우\n",
        "def add():\n",
        "  x = 3\n",
        "  y = 5\n",
        "  return 2*x + 4*y + 5"
      ],
      "metadata": {
        "id": "RBstP_pymgfM"
      },
      "execution_count": 35,
      "outputs": []
    },
    {
      "cell_type": "code",
      "source": [
        "result = add()\n",
        "print(result)"
      ],
      "metadata": {
        "colab": {
          "base_uri": "https://localhost:8080/"
        },
        "id": "UO1Gyr6_mzqb",
        "outputId": "da53f274-5140-4858-ae38-a0942d24a99b"
      },
      "execution_count": 36,
      "outputs": [
        {
          "output_type": "stream",
          "name": "stdout",
          "text": [
            "31\n"
          ]
        }
      ]
    },
    {
      "cell_type": "code",
      "source": [
        "# 4. 매개변수 x, 반환값 x\n",
        "def add():\n",
        "  x = 3\n",
        "  y = 5\n",
        "  print(2*x + 4*y + 5)"
      ],
      "metadata": {
        "id": "sL_ve1Dnm-N9"
      },
      "execution_count": 38,
      "outputs": []
    },
    {
      "cell_type": "code",
      "source": [
        " add()"
      ],
      "metadata": {
        "colab": {
          "base_uri": "https://localhost:8080/"
        },
        "id": "RZ5yD0nZnR6D",
        "outputId": "e3d5aa54-a77d-48dc-dea6-95970d3026f2"
      },
      "execution_count": 39,
      "outputs": [
        {
          "output_type": "stream",
          "name": "stdout",
          "text": [
            "31\n"
          ]
        }
      ]
    },
    {
      "cell_type": "code",
      "source": [
        "startgop = int(input(\"시작곱\"))\n",
        "endgop = int(input(\"끝곱\"))\n",
        "for gop in range(startgop, endgop + 1):\n",
        "  print(f\" 3 * {gop} = {3 * gop}\")"
      ],
      "metadata": {
        "colab": {
          "base_uri": "https://localhost:8080/"
        },
        "id": "M8xNqbSWqE4k",
        "outputId": "32429dff-fda8-4e81-f8ea-ab5720c1765e"
      },
      "execution_count": 42,
      "outputs": [
        {
          "output_type": "stream",
          "name": "stdout",
          "text": [
            "시작곱2\n",
            "끝곱6\n",
            " 3 * 2 = 6\n",
            " 3 * 3 = 9\n",
            " 3 * 4 = 12\n",
            " 3 * 5 = 15\n",
            " 3 * 6 = 18\n"
          ]
        }
      ]
    },
    {
      "cell_type": "code",
      "source": [
        "def dan3(startgop , endgop):\n",
        "  for gop in range(startgop, endgop + 1):\n",
        "    print(f\" 3 * {gop} = {3 * gop}\")"
      ],
      "metadata": {
        "id": "LEoOGm7UrO5A"
      },
      "execution_count": 43,
      "outputs": []
    },
    {
      "cell_type": "code",
      "source": [
        "startgop = int(input(\"시작곱\"))\n",
        "endgop = int(input(\"끝곱\"))\n",
        "dan3(startgop, endgop)"
      ],
      "metadata": {
        "colab": {
          "base_uri": "https://localhost:8080/"
        },
        "id": "tuA0hKmfrarp",
        "outputId": "99a1b347-e884-4654-8d36-324b969e1e05"
      },
      "execution_count": 45,
      "outputs": [
        {
          "output_type": "stream",
          "name": "stdout",
          "text": [
            "시작곱2\n",
            "끝곱5\n",
            " 3 * 2 = 6\n",
            " 3 * 3 = 9\n",
            " 3 * 4 = 12\n",
            " 3 * 5 = 15\n"
          ]
        }
      ]
    },
    {
      "cell_type": "code",
      "source": [
        "def dan3():\n",
        "  startgop = int(input(\"시작곱\"))\n",
        "  endgop = int(input(\"끝곱\"))\n",
        "  for gop in range(startgop, endgop + 1):\n",
        "    print(f\" 3 * {gop} = {3 * gop}\")"
      ],
      "metadata": {
        "id": "J1sFCZlBrqCl"
      },
      "execution_count": 46,
      "outputs": []
    },
    {
      "cell_type": "code",
      "source": [
        "dan3()"
      ],
      "metadata": {
        "colab": {
          "base_uri": "https://localhost:8080/"
        },
        "id": "tRCWYwnus7F6",
        "outputId": "afc6bba4-31d2-4072-c61d-7fd877a047f3"
      },
      "execution_count": 47,
      "outputs": [
        {
          "output_type": "stream",
          "name": "stdout",
          "text": [
            "시작곱2\n",
            "끝곱5\n",
            " 3 * 2 = 6\n",
            " 3 * 3 = 9\n",
            " 3 * 4 = 12\n",
            " 3 * 5 = 15\n"
          ]
        }
      ]
    },
    {
      "cell_type": "code",
      "source": [
        "def calc(x1, x2, opt):\n",
        "  if opt == \"add\":\n",
        "    result = x1 + x2\n",
        "  elif opt == \"sub\":\n",
        "    result = x1 - x2\n",
        "  elif opt == \"mul\":\n",
        "    result = x1 * x2\n",
        "  else :\n",
        "    result = x1 / x2\n",
        "  return result"
      ],
      "metadata": {
        "id": "5m_fkyLYtKxP"
      },
      "execution_count": 52,
      "outputs": []
    },
    {
      "cell_type": "code",
      "source": [
        "y = calc(3 , 5, \"add\")\n",
        "print(y)\n",
        "# parameter이름을 이용해서 값을 전달\n",
        "y = calc(3 , 5, opt=\"add\")\n",
        "print(y)\n",
        "y = calc(x1 = 3 , x2 = 5, opt=\"add\")\n",
        "print(y)\n",
        "y = calc(x1 = 3 , opt=\"add\" , x2 = 5)\n",
        "print(y)\n",
        "y = calc(3 , opt=\"add\" , x2 = 5)\n",
        "print(y)\n",
        "#y = calc(3 , x2 = 5 , \"add\" ) # 중간에만 parameter이름을 사용할 수 없다.\n",
        "#print(y) # 오류 발생"
      ],
      "metadata": {
        "colab": {
          "base_uri": "https://localhost:8080/"
        },
        "id": "afa02vLztmNg",
        "outputId": "b4945e15-9c1a-457e-a280-859098d55cca"
      },
      "execution_count": 59,
      "outputs": [
        {
          "output_type": "stream",
          "name": "stdout",
          "text": [
            "8\n",
            "8\n",
            "8\n",
            "8\n",
            "8\n"
          ]
        }
      ]
    },
    {
      "cell_type": "code",
      "source": [
        "'''\n",
        "sum1(1)\n",
        "sum1(1,2,3,4,4,5)\n",
        "sum1(1,2,4,5)\n",
        "\n",
        "t = 1,2,3,4,5\n",
        "\n",
        "'''"
      ],
      "metadata": {
        "id": "V0WrKvlovNJw"
      },
      "execution_count": null,
      "outputs": []
    },
    {
      "cell_type": "code",
      "source": [
        "l = [1,2,3,4]\n",
        "result = sum(l)\n",
        "print(result)"
      ],
      "metadata": {
        "colab": {
          "base_uri": "https://localhost:8080/"
        },
        "id": "x98xttrgvYe1",
        "outputId": "4873b81d-8f88-4d55-dba8-987f8022e64d"
      },
      "execution_count": 62,
      "outputs": [
        {
          "output_type": "stream",
          "name": "stdout",
          "text": [
            "10\n"
          ]
        }
      ]
    },
    {
      "cell_type": "code",
      "source": [
        "sum = 10\n",
        "result = sum(l)\n",
        "print(result)"
      ],
      "metadata": {
        "colab": {
          "base_uri": "https://localhost:8080/",
          "height": 182
        },
        "id": "a6GAYzr3vk0r",
        "outputId": "1ffd6587-3928-4f05-9666-8029fb6e0ac8"
      },
      "execution_count": 66,
      "outputs": [
        {
          "output_type": "error",
          "ename": "TypeError",
          "evalue": "'int' object is not callable",
          "traceback": [
            "\u001b[0;31m---------------------------------------------------------------------------\u001b[0m",
            "\u001b[0;31mTypeError\u001b[0m                                 Traceback (most recent call last)",
            "\u001b[0;32m/tmp/ipython-input-2160058014.py\u001b[0m in \u001b[0;36m<cell line: 0>\u001b[0;34m()\u001b[0m\n\u001b[1;32m      1\u001b[0m \u001b[0msum\u001b[0m \u001b[0;34m=\u001b[0m \u001b[0;36m10\u001b[0m\u001b[0;34m\u001b[0m\u001b[0;34m\u001b[0m\u001b[0m\n\u001b[0;32m----> 2\u001b[0;31m \u001b[0mresult\u001b[0m \u001b[0;34m=\u001b[0m \u001b[0msum\u001b[0m\u001b[0;34m(\u001b[0m\u001b[0ml\u001b[0m\u001b[0;34m)\u001b[0m\u001b[0;34m\u001b[0m\u001b[0;34m\u001b[0m\u001b[0m\n\u001b[0m\u001b[1;32m      3\u001b[0m \u001b[0mprint\u001b[0m\u001b[0;34m(\u001b[0m\u001b[0mresult\u001b[0m\u001b[0;34m)\u001b[0m\u001b[0;34m\u001b[0m\u001b[0;34m\u001b[0m\u001b[0m\n",
            "\u001b[0;31mTypeError\u001b[0m: 'int' object is not callable"
          ]
        }
      ]
    },
    {
      "cell_type": "code",
      "source": [
        "del sum"
      ],
      "metadata": {
        "id": "dOev_Hcuv1-3"
      },
      "execution_count": 67,
      "outputs": []
    },
    {
      "cell_type": "code",
      "source": [
        "def sum1( * argu): # * 는 매개변수를 튜르변수로 만들어주는 연산자.\n",
        "  print(argu)"
      ],
      "metadata": {
        "id": "kqglZVQZwKYj"
      },
      "execution_count": 69,
      "outputs": []
    },
    {
      "cell_type": "code",
      "source": [
        "sum1(1)\n",
        "sum1(1,2,3,4,5)\n",
        "sum1(1,2,3,4)"
      ],
      "metadata": {
        "colab": {
          "base_uri": "https://localhost:8080/"
        },
        "id": "6veMA3bhwhDL",
        "outputId": "2be0a132-cf7d-4fbe-a3db-eb7d599f9766"
      },
      "execution_count": 72,
      "outputs": [
        {
          "output_type": "stream",
          "name": "stdout",
          "text": [
            "(1,)\n",
            "(1, 2, 3, 4, 5)\n",
            "(1, 2, 3, 4)\n"
          ]
        }
      ]
    },
    {
      "cell_type": "code",
      "source": [
        "'''\n",
        "add_mul(\"add\", 1,2,3,4,5,6)\n",
        "add_mul(\"mul\", 1,2,3,4)\n",
        "'''\n",
        "def add_mul(opt , * argu):\n",
        "  result = 2\n",
        "  if opt == \"add\":\n",
        "    result = sum(argu)\n",
        "  else:\n",
        "    for num in argu:\n",
        "      result *= num\n",
        "  print(result)"
      ],
      "metadata": {
        "id": "Tvrr-vIJv5Ab"
      },
      "execution_count": 75,
      "outputs": []
    },
    {
      "cell_type": "code",
      "source": [
        "add_mul(\"add\", 1,2,3,4,5,6)\n",
        "add_mul(\"mul\", 1,2,3,4)"
      ],
      "metadata": {
        "colab": {
          "base_uri": "https://localhost:8080/"
        },
        "id": "cdBBG5d1ySFQ",
        "outputId": "2ffda277-0fc6-425f-8fae-6fb6680f126d"
      },
      "execution_count": 76,
      "outputs": [
        {
          "output_type": "stream",
          "name": "stdout",
          "text": [
            "21\n",
            "48\n"
          ]
        }
      ]
    },
    {
      "cell_type": "code",
      "source": [
        "dic1 = {\"a\" : 1}\n",
        "print(dic1)\n",
        "dic1[\"b\"] = 2\n",
        "print(dic1)"
      ],
      "metadata": {
        "colab": {
          "base_uri": "https://localhost:8080/"
        },
        "id": "AuqfoPmJycMV",
        "outputId": "e8be9278-54b7-46f4-bb1f-29a7417e9fea"
      },
      "execution_count": 79,
      "outputs": [
        {
          "output_type": "stream",
          "name": "stdout",
          "text": [
            "{'a': 1}\n",
            "{'a': 1, 'b': 2}\n"
          ]
        }
      ]
    },
    {
      "cell_type": "code",
      "source": [
        "dic2(a = 10, b = 20)"
      ],
      "metadata": {
        "id": "v8C0O2dBzFYs"
      },
      "execution_count": null,
      "outputs": []
    },
    {
      "cell_type": "code",
      "source": [
        "def dic2( ** args): # **는 매개변수를 딕셔너리 변수로 만들어 줌\n",
        "  print(args)"
      ],
      "metadata": {
        "id": "G3vTemUozL02"
      },
      "execution_count": 80,
      "outputs": []
    },
    {
      "cell_type": "code",
      "source": [
        "dic2(a = 10, b = 20)"
      ],
      "metadata": {
        "colab": {
          "base_uri": "https://localhost:8080/"
        },
        "id": "sFMS88lQzYOB",
        "outputId": "2195e5ca-0320-424d-be6b-469c2dd6727f"
      },
      "execution_count": 81,
      "outputs": [
        {
          "output_type": "stream",
          "name": "stdout",
          "text": [
            "{'a': 10, 'b': 20}\n"
          ]
        }
      ]
    },
    {
      "cell_type": "code",
      "source": [
        "t = 1,2,3 # 튜플"
      ],
      "metadata": {
        "id": "BuvLBw6UyQta"
      },
      "execution_count": null,
      "outputs": []
    },
    {
      "cell_type": "code",
      "source": [
        "# 함수의 반환값은 오직 한개이다\n",
        "def add_mul(x1, x2):\n",
        "    return x1 + x2 # return 은 함수종료의 의미도 있다.\n",
        "    return x1 * x2 # 실행이 암됨"
      ],
      "metadata": {
        "id": "FE6Fx7c80IXF"
      },
      "execution_count": 82,
      "outputs": []
    },
    {
      "cell_type": "code",
      "source": [
        "y = add_mul(3, 5)\n",
        "print(y)"
      ],
      "metadata": {
        "colab": {
          "base_uri": "https://localhost:8080/"
        },
        "id": "Vu6KIvyA0K44",
        "outputId": "dcb9b1eb-dc2d-4884-ea54-9af63c3aeeff"
      },
      "execution_count": 83,
      "outputs": [
        {
          "output_type": "stream",
          "name": "stdout",
          "text": [
            "8\n"
          ]
        }
      ]
    },
    {
      "cell_type": "code",
      "source": [
        "def add_mul(x1, x2):\n",
        "    return (x1 + x2 , x1 * x2)"
      ],
      "metadata": {
        "id": "NUFZWKZM0wYV"
      },
      "execution_count": 84,
      "outputs": []
    },
    {
      "cell_type": "code",
      "source": [
        "y = add_mul(3, 5)\n",
        "print(y)"
      ],
      "metadata": {
        "colab": {
          "base_uri": "https://localhost:8080/"
        },
        "id": "oiqpg24e05EQ",
        "outputId": "568df009-af86-404e-ffbc-e1b6391cd59b"
      },
      "execution_count": 85,
      "outputs": [
        {
          "output_type": "stream",
          "name": "stdout",
          "text": [
            "(8, 15)\n"
          ]
        }
      ]
    },
    {
      "cell_type": "code",
      "source": [
        "def add_mul(x1, x2):\n",
        "    return x1 + x2 , x1 * x2"
      ],
      "metadata": {
        "id": "3timpPVD1EcC"
      },
      "execution_count": 86,
      "outputs": []
    },
    {
      "cell_type": "code",
      "source": [
        "y = add_mul(3, 5)\n",
        "print(y)"
      ],
      "metadata": {
        "colab": {
          "base_uri": "https://localhost:8080/"
        },
        "id": "qvIW880Y1H_n",
        "outputId": "f41cb784-3713-4e12-fae5-107ada3fae8f"
      },
      "execution_count": 87,
      "outputs": [
        {
          "output_type": "stream",
          "name": "stdout",
          "text": [
            "(8, 15)\n"
          ]
        }
      ]
    },
    {
      "cell_type": "code",
      "source": [
        "a, b = 10, 20\n",
        "a , b = add_mul(3, 5)\n",
        "print(a, b)"
      ],
      "metadata": {
        "colab": {
          "base_uri": "https://localhost:8080/"
        },
        "id": "2mAakWeQ1RE0",
        "outputId": "c7f95811-d05c-4a8f-c09e-932e1bf3ac5f"
      },
      "execution_count": 88,
      "outputs": [
        {
          "output_type": "stream",
          "name": "stdout",
          "text": [
            "8 15\n"
          ]
        }
      ]
    },
    {
      "cell_type": "code",
      "source": [
        "def say_myself(name, old, man):\n",
        "    print(f\"나의 이름은 {name}입니다.\")\n",
        "    print(f\"나의 나이는 {old}입니다.\")\n",
        "    if man:\n",
        "       print(\"나는 남자입니다.\")\n",
        "    else:\n",
        "       print(\"나는 여자입니다.\")"
      ],
      "metadata": {
        "id": "vvJw-sMw5KPs"
      },
      "execution_count": 89,
      "outputs": []
    },
    {
      "cell_type": "code",
      "source": [
        "say_myself(\"이숭무\", 35, True)"
      ],
      "metadata": {
        "colab": {
          "base_uri": "https://localhost:8080/"
        },
        "id": "KL9Tj1hU5mUV",
        "outputId": "e9bf5f45-26f3-40df-fd2a-0c87ce5824e4"
      },
      "execution_count": 90,
      "outputs": [
        {
          "output_type": "stream",
          "name": "stdout",
          "text": [
            "나의 이름은 이숭무입니다.\n",
            "나의 나이는 35입니다.\n",
            "나는 남자입니다.\n"
          ]
        }
      ]
    },
    {
      "cell_type": "code",
      "source": [
        "# 매개변수 초기값 주기\n",
        "def say_myself(name, old, man = True):\n",
        "    print(f\"나의 이름은 {name}입니다.\")\n",
        "    print(f\"나의 나이는 {old}입니다.\")\n",
        "    if man:\n",
        "       print(\"나는 남자입니다.\")\n",
        "    else:\n",
        "       print(\"나는 여자입니다.\")"
      ],
      "metadata": {
        "id": "-OSodnUE5wDs"
      },
      "execution_count": 91,
      "outputs": []
    },
    {
      "cell_type": "code",
      "source": [
        "say_myself(\"이숭무\", 35)\n",
        "say_myself(\"이숭무\", 35, False)"
      ],
      "metadata": {
        "colab": {
          "base_uri": "https://localhost:8080/"
        },
        "id": "dTDJraZ157Ck",
        "outputId": "9ed7d856-7d14-401f-fa2f-b7663866e922"
      },
      "execution_count": 93,
      "outputs": [
        {
          "output_type": "stream",
          "name": "stdout",
          "text": [
            "나의 이름은 이숭무입니다.\n",
            "나의 나이는 35입니다.\n",
            "나는 남자입니다.\n",
            "나의 이름은 이숭무입니다.\n",
            "나의 나이는 35입니다.\n",
            "나는 여자입니다.\n"
          ]
        }
      ]
    },
    {
      "cell_type": "code",
      "source": [
        "def say_myself(name, old = 30 , man = True):\n",
        "    print(f\"나의 이름은 {name}입니다.\")\n",
        "    print(f\"나의 나이는 {old}입니다.\")\n",
        "    if man:\n",
        "       print(\"나는 남자입니다.\")\n",
        "    else:\n",
        "       print(\"나는 여자입니다.\")"
      ],
      "metadata": {
        "id": "YkLoy9V16CNE"
      },
      "execution_count": 95,
      "outputs": []
    },
    {
      "cell_type": "code",
      "source": [
        "say_myself(\"이숭무\")\n",
        "say_myself(\"오연의\", 35,  False)"
      ],
      "metadata": {
        "colab": {
          "base_uri": "https://localhost:8080/"
        },
        "id": "eZpCEOu-6V33",
        "outputId": "07daa07b-2150-4125-9107-3982450be499"
      },
      "execution_count": 97,
      "outputs": [
        {
          "output_type": "stream",
          "name": "stdout",
          "text": [
            "나의 이름은 이숭무입니다.\n",
            "나의 나이는 30입니다.\n",
            "나는 남자입니다.\n",
            "나의 이름은 오연의입니다.\n",
            "나의 나이는 35입니다.\n",
            "나는 여자입니다.\n"
          ]
        }
      ]
    },
    {
      "cell_type": "code",
      "source": [
        "'''\n",
        "매개변수에 초기 값을 주는 경우에는 맨 뒤에서 부터 순차적으로 주는 것이 좋다.\n",
        "def say_myself(name, old = 30 , man):\n",
        "    print(f\"나의 이름은 {name}입니다.\")\n",
        "    print(f\"나의 나이는 {old}입니다.\")\n",
        "    if man:\n",
        "       print(\"나는 남자입니다.\")\n",
        "    else:\n",
        "       print(\"나는 여자입니다.\")\n",
        "\n",
        "say_myself(\"이숭무\", True)\n",
        "'''"
      ],
      "metadata": {
        "id": "A9x9rZjn6qOB"
      },
      "execution_count": null,
      "outputs": []
    },
    {
      "cell_type": "code",
      "source": [
        "### lambda함수 : 함수를 마치 변수처럼 선언해서 사용\n",
        "# 일반 함수\n",
        "def add(a, b):\n",
        "    return a + b\n",
        "y = add(3, 5)\n",
        "print(y)"
      ],
      "metadata": {
        "colab": {
          "base_uri": "https://localhost:8080/"
        },
        "id": "Xejq6bLP7gRJ",
        "outputId": "b0425600-725b-42b5-f7c1-f07fa2a743c0"
      },
      "execution_count": 100,
      "outputs": [
        {
          "output_type": "stream",
          "name": "stdout",
          "text": [
            "8\n"
          ]
        }
      ]
    },
    {
      "cell_type": "code",
      "source": [
        "add = lambda a, b : a + b\n",
        "y = add(3, 5)\n",
        "print(y)"
      ],
      "metadata": {
        "colab": {
          "base_uri": "https://localhost:8080/"
        },
        "id": "m2QtkwFS72RV",
        "outputId": "09359806-859d-4ea1-a7ae-234c00b8fbbd"
      },
      "execution_count": 101,
      "outputs": [
        {
          "output_type": "stream",
          "name": "stdout",
          "text": [
            "8\n"
          ]
        }
      ]
    },
    {
      "cell_type": "code",
      "source": [
        "def add(a, b):\n",
        "    print( a + b)\n",
        "add(3, 5)"
      ],
      "metadata": {
        "colab": {
          "base_uri": "https://localhost:8080/"
        },
        "id": "lAr1BWEw8LVv",
        "outputId": "67b5a011-d7ad-414b-e73c-8cfc9f8ac650"
      },
      "execution_count": 102,
      "outputs": [
        {
          "output_type": "stream",
          "name": "stdout",
          "text": [
            "8\n"
          ]
        }
      ]
    },
    {
      "cell_type": "code",
      "source": [
        "add = lambda a, b :  print( a + b)\n",
        "add(3, 5)"
      ],
      "metadata": {
        "colab": {
          "base_uri": "https://localhost:8080/"
        },
        "id": "BMZBHA4x8YSs",
        "outputId": "fd198b0d-29ca-4cc3-d434-070bb0ea9dd1"
      },
      "execution_count": 103,
      "outputs": [
        {
          "output_type": "stream",
          "name": "stdout",
          "text": [
            "8\n"
          ]
        }
      ]
    },
    {
      "cell_type": "code",
      "source": [
        "add = lambda :  print( 3 + 4)\n",
        "add()"
      ],
      "metadata": {
        "colab": {
          "base_uri": "https://localhost:8080/"
        },
        "id": "90-pSp6o8jcb",
        "outputId": "3e005815-0f77-46a2-9246-f3e1c2a57515"
      },
      "execution_count": 104,
      "outputs": [
        {
          "output_type": "stream",
          "name": "stdout",
          "text": [
            "7\n"
          ]
        }
      ]
    },
    {
      "cell_type": "code",
      "source": [
        "# 일반함수\n",
        "def calc(opt , a, b):\n",
        "    if opt == \"add\":\n",
        "        return a + b\n",
        "    else:\n",
        "        return a - b\n",
        "\n",
        "calc(\"add\", 3, 4)"
      ],
      "metadata": {
        "colab": {
          "base_uri": "https://localhost:8080/"
        },
        "id": "kZBqrUcv8uAG",
        "outputId": "bde1768a-79b9-4f77-8118-102bf5268f42"
      },
      "execution_count": 105,
      "outputs": [
        {
          "output_type": "execute_result",
          "data": {
            "text/plain": [
              "7"
            ]
          },
          "metadata": {},
          "execution_count": 105
        }
      ]
    },
    {
      "cell_type": "code",
      "source": [
        "calc = lambda  opt , a, b : a + b if opt == \"add\" else(\n",
        "                            a - b\n",
        "                          )\n",
        "calc(\"add\", 3, 4)"
      ],
      "metadata": {
        "colab": {
          "base_uri": "https://localhost:8080/"
        },
        "id": "1PP7hpxG8116",
        "outputId": "8b09c302-4f75-4ef4-8b0f-89b7d2108386"
      },
      "execution_count": 106,
      "outputs": [
        {
          "output_type": "execute_result",
          "data": {
            "text/plain": [
              "7"
            ]
          },
          "metadata": {},
          "execution_count": 106
        }
      ]
    },
    {
      "cell_type": "code",
      "source": [
        "# 일반함수\n",
        "def calc(opt , a, b):\n",
        "    if opt == \"add\":\n",
        "        return a + b\n",
        "    elif opt == \"sub\":\n",
        "        return a - b\n",
        "    elif opt == \"mul\":\n",
        "        return a * b\n",
        "    else:\n",
        "        return a / b\n",
        "\n",
        "calc(\"add\", 3, 4)"
      ],
      "metadata": {
        "id": "uwPRnXPJ9o9X"
      },
      "execution_count": null,
      "outputs": []
    },
    {
      "cell_type": "code",
      "source": [
        "calc = lambda opt , a, b : a + b if opt == \"add\" else(\n",
        "                           a - b if opt == \"sub\" else(\n",
        "                           a * b if opt == \"mul\" else(\n",
        "                           a /b\n",
        "                           ))\n",
        ")\n",
        "calc(\"add\", 3, 4)"
      ],
      "metadata": {
        "colab": {
          "base_uri": "https://localhost:8080/"
        },
        "id": "0GMcu8pw-FVf",
        "outputId": "b610a651-4863-47c8-8a11-6a1d51538358"
      },
      "execution_count": 107,
      "outputs": [
        {
          "output_type": "execute_result",
          "data": {
            "text/plain": [
              "7"
            ]
          },
          "metadata": {},
          "execution_count": 107
        }
      ]
    },
    {
      "cell_type": "code",
      "source": [
        "def add(a, b=4):\n",
        "    return a + b"
      ],
      "metadata": {
        "id": "7zM5ja7a-zA_"
      },
      "execution_count": null,
      "outputs": []
    },
    {
      "cell_type": "code",
      "source": [
        "add = lambda a, b=4 : a + b\n",
        "result = add(3)\n",
        "print(result)"
      ],
      "metadata": {
        "colab": {
          "base_uri": "https://localhost:8080/"
        },
        "id": "sh5qtucX-1t0",
        "outputId": "f9bbc5b4-aab2-411e-eb4a-907af1301905"
      },
      "execution_count": 108,
      "outputs": [
        {
          "output_type": "stream",
          "name": "stdout",
          "text": [
            "7\n"
          ]
        }
      ]
    },
    {
      "cell_type": "code",
      "source": [
        "#전역변수 : 프로그램 전체에서 사용 가능한 변수, 함수밖에 있는 변수\n",
        "#지역변수 : 함수안에 정의 되어 있는 변수 , 함수안에서만 사용가능한 변수"
      ],
      "metadata": {
        "id": "jlQ2s30i_K-u"
      },
      "execution_count": 112,
      "outputs": []
    },
    {
      "cell_type": "code",
      "source": [
        "b = 100\n",
        "def test2():\n",
        "  c1 = 200\n",
        "  print(\"전역 변수 : \" , b)\n",
        "  print(\"지역 변수 : \", c1)\n",
        "test2()"
      ],
      "metadata": {
        "colab": {
          "base_uri": "https://localhost:8080/"
        },
        "id": "67VCFPuK_135",
        "outputId": "480a19f7-4071-4eee-f1b8-f8f1e5309032"
      },
      "execution_count": 113,
      "outputs": [
        {
          "output_type": "stream",
          "name": "stdout",
          "text": [
            "전역 변수 :  100\n",
            "지역 변수 :  200\n"
          ]
        }
      ]
    },
    {
      "cell_type": "code",
      "source": [
        "b = 100\n",
        "def test2():\n",
        "  c1 = 200\n",
        "  b = 200\n",
        "  print(\"지역 변수 : \" , b)\n",
        "  print(\"지역 변수 : \", c1)\n",
        "test2()\n",
        "print(b)"
      ],
      "metadata": {
        "colab": {
          "base_uri": "https://localhost:8080/"
        },
        "id": "XhkksiW3AUon",
        "outputId": "9ffb14ee-0790-4d26-b663-519c4cb54bed"
      },
      "execution_count": 114,
      "outputs": [
        {
          "output_type": "stream",
          "name": "stdout",
          "text": [
            "지역 변수 :  200\n",
            "지역 변수 :  200\n",
            "100\n"
          ]
        }
      ]
    },
    {
      "cell_type": "code",
      "source": [
        "b = 100\n",
        "def test2():\n",
        "  global b\n",
        "  c1 = 200\n",
        "  b = 200\n",
        "  print(\"전역 변수 : \" , b)\n",
        "  print(\"지역 변수 : \", c1)\n",
        "test2()\n",
        "print(b)"
      ],
      "metadata": {
        "colab": {
          "base_uri": "https://localhost:8080/"
        },
        "id": "5P9V1X0fApye",
        "outputId": "08df2d01-c55a-40aa-8ad9-6046c7f14c1c"
      },
      "execution_count": 115,
      "outputs": [
        {
          "output_type": "stream",
          "name": "stdout",
          "text": [
            "전역 변수 :  200\n",
            "지역 변수 :  200\n",
            "200\n"
          ]
        }
      ]
    },
    {
      "cell_type": "code",
      "source": [
        "# 파일입출력 : open()함수\n",
        "# open(file, mode='r', buffering=None, encoding=None, errors=None, newline=None, closefd=True):\n",
        "#f = open(\"/mnt/test.txt\", 'w', encoding=\"utf-8\")\n",
        "#f = open(\"C:/Users/soldesk/Desktop/test.txt\", 'w', encoding=\"utf-8\")"
      ],
      "metadata": {
        "id": "ugl-viy-B071"
      },
      "execution_count": 117,
      "outputs": []
    },
    {
      "cell_type": "code",
      "source": [
        "# 현재 경로를 확인 하자 ,\n",
        "#리눅스인 경우\n",
        "!pwd\n",
        "# windows 인경우\n",
        "import os\n",
        "os.getcwd()"
      ],
      "metadata": {
        "colab": {
          "base_uri": "https://localhost:8080/",
          "height": 54
        },
        "id": "6okiJKuNDmp5",
        "outputId": "ce02ebd5-b142-4bfa-823f-efad1a6ea717"
      },
      "execution_count": 118,
      "outputs": [
        {
          "output_type": "stream",
          "name": "stdout",
          "text": [
            "/content\n"
          ]
        },
        {
          "output_type": "execute_result",
          "data": {
            "text/plain": [
              "'/content'"
            ],
            "application/vnd.google.colaboratory.intrinsic+json": {
              "type": "string"
            }
          },
          "metadata": {},
          "execution_count": 118
        }
      ]
    },
    {
      "cell_type": "code",
      "source": [
        "f = open(\"test.txt\", 'w', encoding=\"utf-8\")\n",
        "f.write(\"1번째 줄입니다.\\n\")\n",
        "f.write(\"2번째 줄입니다.\\n\")\n",
        "f.write(\"3번째 줄입니다.\\n\")\n",
        "f.write(\"4번째 줄입니다.\\n\")\n",
        "f.write(\"5번째 줄입니다.\\n\")\n",
        "f.close()"
      ],
      "metadata": {
        "id": "q1nnPd8_GbaZ"
      },
      "execution_count": 119,
      "outputs": []
    },
    {
      "cell_type": "code",
      "source": [
        "f = open(\"test.txt\", 'w', encoding=\"utf-8\")\n",
        "for i in range(6, 11):\n",
        "  f.write(f\"{i}번째 줄입니다.\\n\")\n",
        "f.close()"
      ],
      "metadata": {
        "id": "QYzZ3dQhG9DN"
      },
      "execution_count": 120,
      "outputs": []
    },
    {
      "cell_type": "code",
      "source": [
        "f = open(\"test.txt\", 'a', encoding=\"utf-8\")\n",
        "for i in range(11, 16):\n",
        "  f.write(f\"{i}번째 줄입니다.\\n\")\n",
        "f.close()"
      ],
      "metadata": {
        "id": "m2nHPsjaHp7n"
      },
      "execution_count": 121,
      "outputs": []
    },
    {
      "cell_type": "code",
      "source": [
        "f = open(\"test.txt\", 'r', encoding=\"utf-8\")\n",
        "line = f.readline()\n",
        "print(line)\n",
        "line = f.readline()\n",
        "print(line)\n",
        "f.close()\n",
        "\n",
        "#line = f.readline()\n",
        "#print(line)"
      ],
      "metadata": {
        "colab": {
          "base_uri": "https://localhost:8080/",
          "height": 273
        },
        "id": "nSsooDGbH4FH",
        "outputId": "65fcfb65-7a0d-44c1-cce7-1706f60f64e6"
      },
      "execution_count": 124,
      "outputs": [
        {
          "output_type": "stream",
          "name": "stdout",
          "text": [
            "6번째 줄입니다.\n",
            "\n",
            "7번째 줄입니다.\n",
            "\n"
          ]
        },
        {
          "output_type": "error",
          "ename": "ValueError",
          "evalue": "I/O operation on closed file.",
          "traceback": [
            "\u001b[0;31m---------------------------------------------------------------------------\u001b[0m",
            "\u001b[0;31mValueError\u001b[0m                                Traceback (most recent call last)",
            "\u001b[0;32m/tmp/ipython-input-127603726.py\u001b[0m in \u001b[0;36m<cell line: 0>\u001b[0;34m()\u001b[0m\n\u001b[1;32m      5\u001b[0m \u001b[0mprint\u001b[0m\u001b[0;34m(\u001b[0m\u001b[0mline\u001b[0m\u001b[0;34m)\u001b[0m\u001b[0;34m\u001b[0m\u001b[0;34m\u001b[0m\u001b[0m\n\u001b[1;32m      6\u001b[0m \u001b[0mf\u001b[0m\u001b[0;34m.\u001b[0m\u001b[0mclose\u001b[0m\u001b[0;34m(\u001b[0m\u001b[0;34m)\u001b[0m\u001b[0;34m\u001b[0m\u001b[0;34m\u001b[0m\u001b[0m\n\u001b[0;32m----> 7\u001b[0;31m \u001b[0mline\u001b[0m \u001b[0;34m=\u001b[0m \u001b[0mf\u001b[0m\u001b[0;34m.\u001b[0m\u001b[0mreadline\u001b[0m\u001b[0;34m(\u001b[0m\u001b[0;34m)\u001b[0m\u001b[0;34m\u001b[0m\u001b[0;34m\u001b[0m\u001b[0m\n\u001b[0m\u001b[1;32m      8\u001b[0m \u001b[0mprint\u001b[0m\u001b[0;34m(\u001b[0m\u001b[0mline\u001b[0m\u001b[0;34m)\u001b[0m\u001b[0;34m\u001b[0m\u001b[0;34m\u001b[0m\u001b[0m\n",
            "\u001b[0;31mValueError\u001b[0m: I/O operation on closed file."
          ]
        }
      ]
    },
    {
      "cell_type": "code",
      "source": [
        "f = open(\"test.txt\", 'r', encoding=\"utf-8\")\n",
        "while True:\n",
        "  line = f.readline()\n",
        "  if not line:\n",
        "    break\n",
        "  print(line)\n",
        "f.close()"
      ],
      "metadata": {
        "colab": {
          "base_uri": "https://localhost:8080/"
        },
        "id": "dHd1bgUYITBV",
        "outputId": "d0a79a9a-0e6d-4347-9fe2-baea661aefcd"
      },
      "execution_count": 125,
      "outputs": [
        {
          "output_type": "stream",
          "name": "stdout",
          "text": [
            "6번째 줄입니다.\n",
            "\n",
            "7번째 줄입니다.\n",
            "\n",
            "8번째 줄입니다.\n",
            "\n",
            "9번째 줄입니다.\n",
            "\n",
            "10번째 줄입니다.\n",
            "\n",
            "11번째 줄입니다.\n",
            "\n",
            "12번째 줄입니다.\n",
            "\n",
            "13번째 줄입니다.\n",
            "\n",
            "14번째 줄입니다.\n",
            "\n",
            "15번째 줄입니다.\n",
            "\n"
          ]
        }
      ]
    },
    {
      "cell_type": "code",
      "source": [
        "f = open(\"test.txt\", 'r', encoding=\"utf-8\")\n",
        "lines = f.readlines()\n",
        "f.close()\n",
        "print(lines)\n",
        "print(\"\".join(lines))"
      ],
      "metadata": {
        "colab": {
          "base_uri": "https://localhost:8080/"
        },
        "id": "EN7TkyI-I5-A",
        "outputId": "455c4301-2c16-465c-c735-ecc96f3c4936"
      },
      "execution_count": 127,
      "outputs": [
        {
          "output_type": "stream",
          "name": "stdout",
          "text": [
            "['6번째 줄입니다.\\n', '7번째 줄입니다.\\n', '8번째 줄입니다.\\n', '9번째 줄입니다.\\n', '10번째 줄입니다.\\n', '11번째 줄입니다.\\n', '12번째 줄입니다.\\n', '13번째 줄입니다.\\n', '14번째 줄입니다.\\n', '15번째 줄입니다.\\n']\n",
            "6번째 줄입니다.\n",
            "7번째 줄입니다.\n",
            "8번째 줄입니다.\n",
            "9번째 줄입니다.\n",
            "10번째 줄입니다.\n",
            "11번째 줄입니다.\n",
            "12번째 줄입니다.\n",
            "13번째 줄입니다.\n",
            "14번째 줄입니다.\n",
            "15번째 줄입니다.\n",
            "\n"
          ]
        }
      ]
    },
    {
      "cell_type": "code",
      "source": [
        "f = open(\"test.txt\", 'r', encoding=\"utf-8\")\n",
        "data = f.read()\n",
        "f.close()\n",
        "print(data)"
      ],
      "metadata": {
        "colab": {
          "base_uri": "https://localhost:8080/"
        },
        "id": "7KLkr7r-JX2V",
        "outputId": "dfc005c9-beb1-4621-ae1a-92a846c47fdf"
      },
      "execution_count": 128,
      "outputs": [
        {
          "output_type": "stream",
          "name": "stdout",
          "text": [
            "6번째 줄입니다.\n",
            "7번째 줄입니다.\n",
            "8번째 줄입니다.\n",
            "9번째 줄입니다.\n",
            "10번째 줄입니다.\n",
            "11번째 줄입니다.\n",
            "12번째 줄입니다.\n",
            "13번째 줄입니다.\n",
            "14번째 줄입니다.\n",
            "15번째 줄입니다.\n",
            "\n"
          ]
        }
      ]
    },
    {
      "cell_type": "code",
      "source": [
        "with open(\"test.txt\", 'r', encoding=\"utf-8\") as f:\n",
        "  data = f.read()\n",
        "  print(data)"
      ],
      "metadata": {
        "colab": {
          "base_uri": "https://localhost:8080/"
        },
        "id": "PFiItfaPJqSN",
        "outputId": "f34d989f-ea2f-4381-9e95-8a395dc2bba8"
      },
      "execution_count": 129,
      "outputs": [
        {
          "output_type": "stream",
          "name": "stdout",
          "text": [
            "6번째 줄입니다.\n",
            "7번째 줄입니다.\n",
            "8번째 줄입니다.\n",
            "9번째 줄입니다.\n",
            "10번째 줄입니다.\n",
            "11번째 줄입니다.\n",
            "12번째 줄입니다.\n",
            "13번째 줄입니다.\n",
            "14번째 줄입니다.\n",
            "15번째 줄입니다.\n",
            "\n"
          ]
        }
      ]
    },
    {
      "cell_type": "code",
      "source": [
        "with open(\"test.txt\", 'w', encoding=\"utf-8\") as f:\n",
        "  for i in range(1, 6):\n",
        "    f.write(f\"{i}번째 줄입니다.\\n\")"
      ],
      "metadata": {
        "id": "us0hIiQ9KIBN"
      },
      "execution_count": 132,
      "outputs": []
    },
    {
      "cell_type": "code",
      "source": [
        "with open(\"test.txt\", 'a', encoding=\"utf-8\") as f:\n",
        "  for i in range(6, 11):\n",
        "    f.write(f\"{i}번째 줄입니다.\\n\")"
      ],
      "metadata": {
        "id": "ly9GRLVLKYw9"
      },
      "execution_count": 133,
      "outputs": []
    },
    {
      "cell_type": "code",
      "source": [
        "# mode : r, w, a, rb, wb, ab"
      ],
      "metadata": {
        "id": "P8h88gZCKqqN"
      },
      "execution_count": null,
      "outputs": []
    }
  ]
}
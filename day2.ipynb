{
  "nbformat": 4,
  "nbformat_minor": 0,
  "metadata": {
    "colab": {
      "provenance": []
    },
    "kernelspec": {
      "name": "python3",
      "display_name": "Python 3"
    },
    "language_info": {
      "name": "python"
    }
  },
  "cells": [
    {
      "cell_type": "code",
      "execution_count": null,
      "metadata": {
        "id": "PqYxGLyfVRif"
      },
      "outputs": [],
      "source": [
        "러터널 자료형 : 숫자 리터널 : 정수 리터널 : 10\n",
        "                              실수 리터널 : 10.5\n",
        "                문자열 리터널 : \" \",' ',\"\"\" \"\"\", ''' ''', \"10\" : index : indexing, slicing\n",
        "파이썬 자료형 : 리스트 : [], [1,2]           : index : indexing, slicing\n",
        "                튜플   : (), (1,), (1,2,3)   : index : indexing, slicing\n",
        "                딕셔너리 : {}, {키1:값1,키2:값2,...,키n:값n}"
      ]
    },
    {
      "cell_type": "code",
      "source": [
        "dic= {'name': 'pey', 'phone': '0119993323', 'birth': '19981118'}\n",
        "print(dic['birth']) # 19981118\n",
        "# 년 , 월, 일로 따로 출력\n",
        "print(dic['birth'][:4] + \"년\")\n",
        "print(dic['birth'][4:6] + \"월\")\n",
        "print(dic['birth'][6:] + \"일\")"
      ],
      "metadata": {
        "id": "QYii6AOlY8H9"
      },
      "execution_count": null,
      "outputs": []
    },
    {
      "cell_type": "code",
      "source": [
        "dic= {'name': 'pey', 'phone': '0119993323', 'birth': '19981118'}\n",
        "dic['name'] = \"smlee\"  # 중복키를 허용하지 않는다.\n",
        "print(dic)\n",
        "dic['addr'] = '서울'\n",
        "print(dic)\n",
        "# print(dic['post']) # 키가 없는 경우에는 값을 가져오지 못한다.\n",
        "dic1 = {'classic' : 500 ,  \"pop\" : 600 }\n",
        "dic2 = {'classic' : 500 ,  \"pop\" : 600 , \"jazz\": 100 }\n",
        "# print(dic1['jazz'])\n",
        "print(dic1.get('jazz'))\n",
        "print(dic1.get('jazz', 100)) #  default value\n",
        "# print(dic1['jazz'] + dic2['jazz'])\n",
        "print(dic1['classic'] + dic2['classic'])\n",
        "print(dic1.get('classic') + dic2.get('classic'))\n",
        "print(dic1.get('classic',0) + dic2.get('classic',0))\n",
        "# print(dic1.get('jazz') + dic2.get('jazz')) # None + 100\n",
        "print(dic1.get('jazz',0) + dic2.get('jazz',0))"
      ],
      "metadata": {
        "id": "6_JMOMxxbkub"
      },
      "execution_count": null,
      "outputs": []
    },
    {
      "cell_type": "code",
      "source": [
        "# 딕셔너리 함수\n",
        "dic = {'name': 'smlee', 'phone': '0119993323', 'birth': '19981118', 'addr': '서울'}\n",
        "l = [1,2,3]\n",
        "del l[1]\n",
        "print(l)\n",
        "del l[0:2]\n",
        "print(l)\n",
        "del dic['name']\n",
        "print(dic)\n",
        "l.clear()\n",
        "dic.clear() # {}\n",
        "print(dic)\n",
        "### 딕셔너리에 있는 키만 가져오기\n",
        "dic = {'name': 'smlee', 'phone': '0119993323', 'birth': '19981118', 'addr': '서울'}\n",
        "print(dic.keys())\n",
        "l = list(dic.keys())\n",
        "print(l)\n",
        "# 딕셔너리에 있는  값만 가져오기\n",
        "print(dic.values())\n",
        "l = list(dic.values())\n",
        "print(l)\n",
        "# 키와 값을 쌍으로\n",
        "print(dic.items())\n",
        "l = list(dic.items())\n",
        "print(l)"
      ],
      "metadata": {
        "id": "OQEpXzrKbRAB"
      },
      "execution_count": null,
      "outputs": []
    },
    {
      "cell_type": "code",
      "source": [
        "리터널 자료형 : 숫자 리터널 : 정수 리터널 : 10\n",
        "                              실수 리터널 : 10.5\n",
        "                문자열 리터널 : \" \",' ',\"\"\" \"\"\", ''' ''', \"10\" : index : indexing, slicing\n",
        "파이썬 자료형 : 리스트 : [], [1,2]           : index : indexing, slicing\n",
        "                튜플   : (), (1,), (1,2,3)   : index : indexing, slicing\n",
        "                딕셔너리 : {}, {키1:값1,키2:값2,...,키n:값n} : 중복키를 허용하지 않는다\n",
        "                집합(set) : 교집합 , 합집합, 차집합 : {1,2,3,4} : 중복 값을 허용하지 않는다.\n",
        "                                                 {1,2,2,3,3,4,4} => {1,2,3,4}"
      ],
      "metadata": {
        "id": "apDOujdGfxHw"
      },
      "execution_count": null,
      "outputs": []
    },
    {
      "cell_type": "code",
      "source": [
        "dic = {\"name\":\"이숭무\"}\n",
        "s = {1,2,3,\"이숭무\"}\n",
        "print(s)\n",
        "s = {1,2,2,3,3,4,4}\n",
        "print(s)\n",
        "s1 = {1,2,3,4,5}\n",
        "s2 = {4,5,6,7,8}\n",
        "# 교집합 : &\n",
        "print(s1 & s2)\n",
        "print(s1.intersection(s2))\n",
        "# 합집합 : | (pipe)\n",
        "print(s1 | s2)\n",
        "print(s1.union(s2))\n",
        "# 차집합 : -\n",
        "print(s1 - s2)\n",
        "print(s1.difference(s2))\n",
        "print(s2.difference(s1))\n",
        "print(s2 - s1)"
      ],
      "metadata": {
        "id": "_iQoCNobgqEI"
      },
      "execution_count": null,
      "outputs": []
    },
    {
      "cell_type": "code",
      "source": [
        "#  집합자료형 함수\n",
        "#요소 추가\n",
        "s1 = {1,2,3}\n",
        "s1.add(7)\n",
        "print(s1)\n",
        "s1.add('hello')\n",
        "print(s1)\n",
        "# s1에 10,11,12를 추가\n",
        "#s1.add(10,11,12) # TypeError: set.add() takes exactly one argument (3 given)\n",
        "s1.add((10,11,12))\n",
        "print(s1)\n",
        "s1.update({10,11,12})\n",
        "print(s1)\n",
        "s1.update((10,11,12))\n",
        "s1.update([10,11,12])\n",
        "print(s1)\n",
        "# 삭제\n",
        "s1.remove((10, 11, 12))\n",
        "print(s1)\n",
        "s1.remove(1)\n",
        "print(s1)\n",
        "s1.clear() # set()\n",
        "print(s1)"
      ],
      "metadata": {
        "id": "2n7z_tSiiom9"
      },
      "execution_count": null,
      "outputs": []
    },
    {
      "cell_type": "code",
      "source": [
        "리터널 자료형 : 숫자 리터널 : 정수 리터널 : 10\n",
        "                              실수 리터널 : 10.5\n",
        "                문자열 리터널 : \" \",' ',\"\"\" \"\"\", ''' ''', \"10\" : index : indexing, slicing\n",
        "                부울(boolean) : 참/거짓 : True / False\n",
        "파이썬 자료형 : 리스트 : [], [1,2]           : index : indexing, slicing\n",
        "                튜플   : (), (1,), (1,2,3)   : index : indexing, slicing\n",
        "                딕셔너리 : {}, {키1:값1,키2:값2,...,키n:값n} : 중복키를 허용하지 않는다\n",
        "                집합(set) : 교집합 , 합집합, 차집합 : {1,2,3,4} : 중복 값을 허용하지 않는다.\n",
        "                                                 {1,2,2,3,3,4,4} => {1,2,3,4}"
      ],
      "metadata": {
        "id": "DZXuo1hOikE3"
      },
      "execution_count": null,
      "outputs": []
    },
    {
      "cell_type": "code",
      "source": [
        "b = True\n",
        "print(b)\n",
        " # b = true # true는 변수로 인식\n",
        "b = \"true\" # 문자열\n",
        "b = False\n",
        "print(b)\n",
        "# 관계(비교) 연산자 : >, < ,>=, <=, == , != (! : not)\n",
        "i1 = 10\n",
        "i2 = 20\n",
        "b = i1 > i2\n",
        "print(b)\n",
        "# 논리연산자 :  and , or : 관계연산자와 같이 사용\n",
        "print( True and True )\n",
        "print( True or False )\n",
        "# 합격 / 불합격\n",
        "mat = 40\n",
        "eng = 60\n",
        "kor = 80\n",
        "### 각 과목이 40점이상이고 평균이 60이상이면 합격(True) 아니면 불합격(False)\n",
        "result = mat >= 40 and eng >= 40 and kor >= 40 and (kor + mat + eng) / 3 >= 60\n",
        "print(result)"
      ],
      "metadata": {
        "id": "AR6y7uW4gs5_"
      },
      "execution_count": null,
      "outputs": []
    },
    {
      "cell_type": "code",
      "source": [
        "# 변환함수 :  int(), float(), str(), list(), tuple(), set() , bool()\n",
        "s = \"10\"\n",
        "i = int(s)\n",
        "print(i)\n",
        "l = [1,2,3,4]\n",
        "s = set(l)\n",
        "print(s)\n",
        "str1 = \"hello\"\n",
        "l = list(str1)\n",
        "print(l) # ['h', 'e', 'l', 'l', 'o']\n",
        "str1 = str(l) # \"['h', 'e', 'l', 'l', 'o']\"\n",
        "print(str1 + \"이숭무\")\n",
        "str1 = \"\".join(l)\n",
        "print(str1)\n",
        "str1 = \".\".join(l)\n",
        "print(str1)\n",
        "str1 = \" \".join(l)\n",
        "print(str1)\n",
        "result = \":\".join(str1) # h e l l o\n",
        "print(result)\n",
        "l = ['Life', 'is', 'too', 'short']\n",
        "result = \" \".join(l)\n",
        "print(result)"
      ],
      "metadata": {
        "id": "ZxicLYqQrLXa"
      },
      "execution_count": null,
      "outputs": []
    },
    {
      "cell_type": "code",
      "source": [
        "print(bool(\"hello\"))\n",
        "print(bool(\" \"))\n",
        "print(bool(\"\")) # blank\n",
        "print(bool(1))\n",
        "print(bool(-1))\n",
        "print(bool(0))\n",
        "print(bool([1,2,3]))\n",
        "print(bool([]))\n",
        "print(bool((1,2,3)))\n",
        "print(bool(()))\n",
        "print(bool({1,2,3}))\n",
        "print(bool(set()))\n",
        "print(bool({}))\n",
        "print(bool({\"1\":1}))"
      ],
      "metadata": {
        "id": "LwrfnOkXt7No"
      },
      "execution_count": null,
      "outputs": []
    },
    {
      "cell_type": "code",
      "source": [
        "# 자료형\n",
        "l = [1,2,3]\n",
        "print(type(l))\n",
        "print(type((1,2,3,4)))\n",
        "print(type(\"hello\"))\n",
        "print(type({}))\n",
        "print(type({1,2,3}))\n",
        "print(type(True))"
      ],
      "metadata": {
        "id": "QZ6BPFGbvTOI"
      },
      "execution_count": null,
      "outputs": []
    },
    {
      "cell_type": "code",
      "source": [
        "# 변수 선언법\n",
        "t = (1,2,3,4)\n",
        "print(t)\n",
        "t = 1,2,3,4\n",
        "print(t)\n",
        "a, b, c = 10, 20, 30\n",
        "print(a,b,c)\n",
        "a, b, c = (10, 20, 30)\n",
        "print(a,b,c)\n",
        "(a, b, c) = 10, 20, 30\n",
        "print(a,b,c)\n",
        "(a, b, c) = (10, 20, 30)\n",
        "print(a,b,c)\n",
        "a, b, c = [10, 20, 30]\n",
        "print(a,b,c)\n",
        "#a, b, c = 10, 20, 30, 40\n",
        "a = b = c = 10\n",
        "print(a,b,c)"
      ],
      "metadata": {
        "id": "29VRSxmDv6zW"
      },
      "execution_count": null,
      "outputs": []
    },
    {
      "cell_type": "code",
      "source": [
        "a = 10; b = 20\n",
        "# a와 b값을 교환\n",
        "temp = b\n",
        "b = a\n",
        "a = temp\n",
        "print(a, b)\n",
        "\n",
        "a, b = b, a\n",
        "print(a, b)"
      ],
      "metadata": {
        "id": "yW46BqeiyR79"
      },
      "execution_count": null,
      "outputs": []
    },
    {
      "cell_type": "code",
      "source": [
        "money = True\n",
        "if money:\n",
        "  print(\"차를 타고 가시오\")\n",
        "else:\n",
        "  print(\"걸어 가시오\")\n",
        "\n",
        "money = True\n",
        "if money:\n",
        "  print(\"차를 타고 가시오\")\n",
        "print(\"오류\")\n",
        "else:\n",
        "  print(\"걸어 가시오\")"
      ],
      "metadata": {
        "id": "8tnysqD_4JiB"
      },
      "execution_count": null,
      "outputs": []
    },
    {
      "cell_type": "code",
      "source": [
        "money = True\n",
        "if money:\n",
        "  print(\"차를 타고 가시오\")\n",
        "else:\n",
        "  print(\"걸어 가시오\")\n",
        "print(\"종료\")"
      ],
      "metadata": {
        "id": "W1UWiVlD5O-R"
      },
      "execution_count": null,
      "outputs": []
    },
    {
      "cell_type": "code",
      "source": [
        "# 영어, 수학 , 국어의 점수 40점 이상이고 평균이 60 이상이면 합격(True)\n",
        "eng = 30\n",
        "kor = 60\n",
        "mat = 80\n",
        "# 조건문 :  condition\n",
        "# if ~ else문\n",
        "if  eng >= 40 and kor >= 40 and mat >= 40 and (eng + kor +  mat) / 3 >= 60 :\n",
        "  print(\"합격\")\n",
        "else:\n",
        "  print(\"불합격\")"
      ],
      "metadata": {
        "id": "eo_9HYYgxVj3"
      },
      "execution_count": null,
      "outputs": []
    },
    {
      "cell_type": "code",
      "source": [
        "# 단일 if문\n",
        "if  eng >= 40 and kor >= 40 and mat >= 40 and (eng + kor +  mat) / 3 >= 60 :\n",
        "  print(\"합격\")\n",
        "\n",
        "result = eng >= 40 and kor >= 40 and mat >= 40 and (eng + kor +  mat) / 3 >= 60\n",
        "if result:\n",
        "  print(\"합격\")"
      ],
      "metadata": {
        "id": "6Yy5oj8t6cZw"
      },
      "execution_count": null,
      "outputs": []
    },
    {
      "cell_type": "code",
      "source": [
        "# condition은 논리연산과 관계연산으로 이루어진다.\n",
        "# 문제\n",
        "# 4년마다 윤년이지만 100년 마다 평년. 그런데 400년마다 윤년\n",
        "# year % 4 == 0, year % 100 != 0   , year % 400 == 0\n",
        "year = 2200\n",
        "if year % 4 == 0 and year % 100 != 0 or year % 400 == 0:\n",
        "  print(\"윤년\")\n",
        "else :\n",
        "  print(\"평년\")"
      ],
      "metadata": {
        "id": "ulwkaWTC7Dwi"
      },
      "execution_count": null,
      "outputs": []
    },
    {
      "cell_type": "code",
      "source": [
        "# in 연산자\n",
        "l = [1,2,3,4,5]\n",
        "result = 3 in l\n",
        "print(result)\n",
        "result = 3 in [1,2,3,4,5]\n",
        "print(result)\n",
        "result = 7 in l\n",
        "print(result)\n",
        "if 3 in l:\n",
        "  print(\"3 이 있습니다\")\n",
        "else:\n",
        "  print(\"3 이 없습니다.\")\n",
        "\n",
        "dic = {\"name1\":\"이숭무\", \"name2\":\"김찬중\"}\n",
        "if \"name1\" in dic:\n",
        "  print(\"name1 키가 있습니다\")\n",
        "else:\n",
        "  print(\"name1 키가 없습니다.\")\n",
        "\n",
        "pocket = ['paper', 'cellphone', 'money']\n",
        "if \"money\" in pocket:\n",
        "  print(\"차를 타고 가시오\")\n",
        "else:\n",
        "  print(\"걸어가시오\")"
      ],
      "metadata": {
        "id": "aiDJdaWg-YDG"
      },
      "execution_count": null,
      "outputs": []
    },
    {
      "cell_type": "code",
      "source": [
        "l = [1,2,3,4]\n",
        "result = 7 not in l\n",
        "print(result)\n",
        "if 9 not in l:\n",
        "  print(\"9 가 없습니다\")\n",
        "else:\n",
        "  print(\"9가 있습니다.\")"
      ],
      "metadata": {
        "id": "l5e1AwQNDfJi"
      },
      "execution_count": null,
      "outputs": []
    },
    {
      "cell_type": "code",
      "source": [
        "str1 = \"hello\"\n",
        "result = \"h\" in str1\n",
        "print(result)\n",
        "if \"h\" in str1:\n",
        "  print(\"문자열에는 h 가 있습니다.\")\n",
        "else:\n",
        "  print(\"문자열에 h가 없습니다.\")\n",
        "\n",
        "str1 = \"hello\"\n",
        "result = \"y\" not in str1"
      ],
      "metadata": {
        "id": "MIgHol3HCoKn"
      },
      "execution_count": null,
      "outputs": []
    },
    {
      "cell_type": "code",
      "source": [
        "# if ~ elif ~ else 문\n",
        "# 학점 90이상이면 \"A\" , 80점이상이면 \"B\", 70점이상이면 \"C\" , 60점이상이면 \"D\" 아니면 F\n",
        "score = 78\n",
        "if score >= 90:\n",
        "  print(\"A\")\n",
        "else:\n",
        "  if score >= 80:\n",
        "    print(\"B\")\n",
        "  else:\n",
        "    if score >= 70:\n",
        "      print(\"C\")\n",
        "    else:\n",
        "      if score >= 60:\n",
        "        print(\"D\")\n",
        "      else:\n",
        "        print(\"F\")\n",
        "print(\"==\" * 30)\n",
        "if score >= 90:\n",
        "  print(\"A\")\n",
        "elif score >= 80:\n",
        "  print(\"B\")\n",
        "elif score >= 70:\n",
        "  print(\"C\")\n",
        "elif score >= 60:\n",
        "  print(\"D\")\n",
        "else:\n",
        "  print(\"F\")\n",
        "\n",
        "print(\"==\" * 30)\n",
        "if score >= 90:\n",
        "  message = \"A\"\n",
        "elif score >= 80:\n",
        "  message = \"B\"\n",
        "elif score >= 70:\n",
        "  message = \"C\"\n",
        "elif score >= 60:\n",
        "  message = \"D\"\n",
        "else:\n",
        "  message = \"F\"\n",
        "\n",
        "print(message)"
      ],
      "metadata": {
        "id": "9_xgKn7TE33C"
      },
      "execution_count": null,
      "outputs": []
    },
    {
      "cell_type": "code",
      "source": [
        "if score >= 60:\n",
        "  message = \"합격\"\n",
        "else:\n",
        "  message = \"불합격\"\n",
        "print(message)\n",
        "\n",
        "message = \"합격\" if score >= 60 else \"불합격\"\n",
        "print(message)"
      ],
      "metadata": {
        "id": "oqKjoCO0HNlA"
      },
      "execution_count": null,
      "outputs": []
    },
    {
      "cell_type": "code",
      "source": [
        "score = 78\n",
        "if score >= 90:\n",
        "  message = \"A\"\n",
        "else:\n",
        "  if score >= 80:\n",
        "    message = \"B\"\n",
        "  else:\n",
        "    if score >= 70:\n",
        "      message = \"C\"\n",
        "    else:\n",
        "      if score >= 60:\n",
        "        message = \"D\"\n",
        "      else:\n",
        "        message = \"F\"\n",
        "print(message)\n",
        "message = \"A\" if score >= 90 else(\n",
        "          \"B\" if score >= 80 else(\n",
        "          \"C\" if score >= 70 else(\n",
        "          \"D\" if score >= 60 else \"F\"\n",
        ")))\n",
        "print(message)"
      ],
      "metadata": {
        "id": "CSRvtv20IN-x"
      },
      "execution_count": null,
      "outputs": []
    },
    {
      "cell_type": "code",
      "source": [
        "# if문을 이용한 사직연산\n",
        "a = 10; b = 20; opt = \"sub\"\n",
        "if opt == \"add\":\n",
        "  result = a + b\n",
        "elif opt == \"sub\":\n",
        "  result = a - b\n",
        "elif opt == \"mul\":\n",
        "  result = a * b\n",
        "else:\n",
        "  result = a / b\n",
        "print(result)\n",
        "# 파이썬 조건문\n",
        "result = a + b if opt == \"add\" else(\n",
        "         a - b if opt == \"sub\" else(\n",
        "         a * b if opt == \"mul\" else(\n",
        "         a / b\n",
        ")))\n",
        "print(result)"
      ],
      "metadata": {
        "id": "KenQ8mxEJZZX"
      },
      "execution_count": null,
      "outputs": []
    },
    {
      "cell_type": "code",
      "source": [
        "# 95점 이상이면 A+ 90점이상이면 A,...\n",
        "if score >= 90:\n",
        "  if score >= 95:\n",
        "    message = \"A+\"\n",
        "  else:\n",
        "    message = \"A\"\n",
        "elif score >= 80:\n",
        "  if score >= 85:\n",
        "    message = \"B+\"\n",
        "  else:\n",
        "    message = \"B\"\n",
        "elif score >= 70:\n",
        "  if score >= 75:\n",
        "    message = \"C+\"\n",
        "  else:\n",
        "    message = \"C\"\n",
        "elif score >= 60:\n",
        "  if score >= 65:\n",
        "    message = \"D+\"\n",
        "  else:\n",
        "    message = \"D\"\n",
        "else:\n",
        "  message = \"F\"\n",
        "\n",
        "message = \"A+\" if score >= 95 else(\n",
        "    \t    \"A\"  if score >= 90 else(\n",
        "          \"B+\" if score >= 85 else(\n",
        "          \"B\"  if score >= 80 else(\n",
        "          \"C+\" if score >= 75 else(\n",
        "          \"C\"  if score >= 70 else(\n",
        "          \"D+\" if score >= 65 else(\n",
        "          \"D\"  if score >= 60 else(\n",
        "          \"F\"))))))))\n",
        "print(message)"
      ],
      "metadata": {
        "id": "4jjM74OIK0Hu"
      },
      "execution_count": null,
      "outputs": []
    },
    {
      "cell_type": "code",
      "source": [
        "print(\"나무를 1번찍었습니다\")\n",
        "print(\"나무를 2번찍었습니다\")\n",
        "print(\"나무를 3번찍었습니다\")\n",
        "print(\"나무를 4번찍었습니다\")\n",
        "print(\"나무를 5번찍었습니다\")\n",
        "print(\"나무를 6번찍었습니다\")\n",
        "print(\"나무를 7번찍었습니다\")\n",
        "print(\"나무를 8번찍었습니다\")\n",
        "print(\"나무를 9번찍었습니다\")\n",
        "print(\"나무를 10번찍었습니다\")\n",
        "print(\"나무가 넘어갑니다\")\n",
        "num = 10\n",
        "print(f\"나무를 {num}번 찍었습니다.\")"
      ],
      "metadata": {
        "id": "gsAlxqFneHzH"
      },
      "execution_count": null,
      "outputs": []
    },
    {
      "cell_type": "code",
      "source": [
        "num = 1\n",
        "while num <= 10:\n",
        "  #print(f\"나무를 {num}번 찍었습니다.\")\n",
        "  #print(\"나무를 %d번 찍었습니다.\" % num)\n",
        "  print(\"나무를 {0}번 찍었습니다.\".format(num))\n",
        "  num = num + 1\n",
        "\n",
        "print(\"나무가 넘어갑니다\")"
      ],
      "metadata": {
        "id": "QkTDgXMEepRk"
      },
      "execution_count": null,
      "outputs": []
    },
    {
      "cell_type": "code",
      "source": [
        "# 구구단\n",
        "# 8단\n",
        "'''\n",
        "8 * 1 = (8 * 1)\n",
        "8 * 2 = (8 * 2)\n",
        "8 * 3 = (8 * 3)\n",
        "8 * 4 = (8 * 4)\n",
        "8 * 5 = (8 * 5)\n",
        "8 * 6 = (8 * 6)\n",
        "8 * 7 = (8 * 7)\n",
        "8 * 8 = (8 * 8)\n",
        "8 * 9 = (8 * 9)\n",
        "'''\n",
        "num = 1 # 초기값\n",
        "while num <= 9: # 조건식\n",
        "  #print(f\"8 * {num} = {8 * num}\")\n",
        "  #print(\"8 * %d = %d\" % (num, 8 * num))\n",
        "  print(\"8 * {0} = {1}\".format(num, 8 * num))\n",
        "  num = num + 1 # 증가식"
      ],
      "metadata": {
        "id": "kBg_S-u-gEte"
      },
      "execution_count": null,
      "outputs": []
    },
    {
      "cell_type": "code",
      "source": [
        "num = int(input(\"시작곱을 입력하세요 : \"))\n",
        "end = int(input(\"끝곱을 입력하세요 :\"))\n",
        "while num <= end:\n",
        "  print(f\"8 * {num} = { 8 * num }\")\n",
        "  num = num + 1"
      ],
      "metadata": {
        "id": "LDQmswMJho7l"
      },
      "execution_count": null,
      "outputs": []
    },
    {
      "cell_type": "code",
      "source": [
        "num = int(input(\"시작곱\"))\n",
        "end = int(input(\"끝곱\"))\n",
        "dan = int(input(\"단\"))\n",
        "while num <= end:\n",
        "  print(f\"{dan} * {num} = {dan * num}\")\n",
        "  num = num + 1"
      ],
      "metadata": {
        "id": "XTgrc1n0ju2b"
      },
      "execution_count": null,
      "outputs": []
    },
    {
      "cell_type": "code",
      "source": [
        "lotto = []\n",
        "num = 1\n",
        "while num <= 45:\n",
        "  lotto.append(num)\n",
        "  num = num + 1\n",
        "print(lotto)\n",
        "print(lotto[8])\n",
        "\n",
        "import random\n",
        "idx = random.randint(0, 44)\n",
        "print(idx)\n",
        "print(lotto[idx])\n",
        "result = lotto.pop(idx)\n",
        "print(result)\n",
        "print(lotto)"
      ],
      "metadata": {
        "id": "wYnTw_X5kxIZ"
      },
      "execution_count": null,
      "outputs": []
    },
    {
      "cell_type": "code",
      "source": [
        "lotto = []\n",
        "num = 1\n",
        "while num <= 45:\n",
        "  lotto.append(num)\n",
        "  num = num + 1\n",
        "print(lotto)\n",
        "size = len(lotto)\n",
        "print(\"size : \" , size)\n",
        "i = 1\n",
        "while i <= 6:\n",
        "  size = size - 1\n",
        "  idx = random.randint(0, size)\n",
        "  result = lotto.pop(idx)\n",
        "  print(result , end = \", \")\n",
        "  i = i + 1"
      ],
      "metadata": {
        "id": "7frKXtSOmXyh"
      },
      "execution_count": null,
      "outputs": []
    },
    {
      "cell_type": "code",
      "source": [
        "# 6단\n",
        "i = 1\n",
        "while i <= 9:\n",
        "  print(f\"6 * {i} = {6 * i}\")\n",
        "  i += 1 #i = i + 1\n",
        "# 7단\n",
        "i = 1\n",
        "while i <= 9:\n",
        "  print(f\"7 * {i} = {7 * i}\")\n",
        "  i += 1\n",
        "# 8단\n",
        "i = 1\n",
        "while i <= 9:\n",
        "  print(f\"8 * {i} = {8 * i}\")\n",
        "  i += 1"
      ],
      "metadata": {
        "id": "xfV4GKJUlQfa"
      },
      "execution_count": null,
      "outputs": []
    },
    {
      "cell_type": "code",
      "source": [
        "dan = 6\n",
        "while dan <= 8:\n",
        "  i = 1\n",
        "  while i <= 9:\n",
        "    print(f\"{dan} * {i} = {dan * i}\")\n",
        "    i += 1\n",
        "  dan += 1"
      ],
      "metadata": {
        "id": "UV4gifaaroaT"
      },
      "execution_count": null,
      "outputs": []
    },
    {
      "cell_type": "code",
      "source": [
        "dan = int(input(\"시작단\"))\n",
        "enddan = int(input(\"끝단\"))\n",
        "start = int(input(\"시작곱\"))\n",
        "endgop = int(input(\"끝곱\"))\n",
        "while dan <= enddan:\n",
        "  i = start\n",
        "  end = endgop\n",
        "  while i <= end:\n",
        "    print(f\"{dan} * {i} = {dan * i}\")\n",
        "    i += 1\n",
        "  dan += 1"
      ],
      "metadata": {
        "id": "uwMofEPWsbR9"
      },
      "execution_count": null,
      "outputs": []
    },
    {
      "cell_type": "code",
      "source": [
        "i = 1\n",
        "count = int(input(\"수량입력 : \"))\n",
        "lotto = []\n",
        "while i <= count:\n",
        "  num = 1\n",
        "  while num <= 45:\n",
        "    lotto.append(num)\n",
        "    num = num + 1\n",
        "  size = len(lotto)\n",
        "  j = 1\n",
        "  while j <= 6:\n",
        "    size = size - 1\n",
        "    idx = random.randint(0, size)\n",
        "    result = lotto.pop(idx)\n",
        "    print(result , end = \", \")\n",
        "    j = j + 1\n",
        "  lotto.clear()\n",
        "  print()\n",
        "  i += 1"
      ],
      "metadata": {
        "id": "G7zz3h4Ztue1"
      },
      "execution_count": null,
      "outputs": []
    },
    {
      "cell_type": "code",
      "source": [
        "제어문 : 조건문 : 단일 if, if ~ else, if ~ elif ~ else , 파이썬 조건문\n",
        "         반복문 : while, for"
      ],
      "metadata": {
        "id": "EMUd5kRkwOZ5"
      },
      "execution_count": null,
      "outputs": []
    },
    {
      "cell_type": "code",
      "source": [
        "i = 1\n",
        "while True: # 무한루프\n",
        "  print(\"ctrl + c를 눌러 중지 하시오 \")\n",
        "  if i == 10:\n",
        "     break\n",
        "  i += 1"
      ],
      "metadata": {
        "colab": {
          "base_uri": "https://localhost:8080/"
        },
        "id": "eUibtDfsw0va",
        "outputId": "f03d70f3-4e63-4955-8b0c-0ad611247763"
      },
      "execution_count": 1,
      "outputs": [
        {
          "output_type": "stream",
          "name": "stdout",
          "text": [
            "ctrl + c를 눌러 중지 하시오 \n",
            "ctrl + c를 눌러 중지 하시오 \n",
            "ctrl + c를 눌러 중지 하시오 \n",
            "ctrl + c를 눌러 중지 하시오 \n",
            "ctrl + c를 눌러 중지 하시오 \n",
            "ctrl + c를 눌러 중지 하시오 \n",
            "ctrl + c를 눌러 중지 하시오 \n",
            "ctrl + c를 눌러 중지 하시오 \n",
            "ctrl + c를 눌러 중지 하시오 \n",
            "ctrl + c를 눌러 중지 하시오 \n"
          ]
        }
      ]
    },
    {
      "cell_type": "code",
      "source": [
        "# 크기가 정해져 있을 때\n",
        "for i in [1,2,3,4]: # foreach\n",
        "  print(i)\n",
        "\n",
        "# 리스트에 있는 값의 합을 구하시오\n",
        "l = [1,2,3,4,5,6,7,8,9,10]\n",
        "sum1 = 0\n",
        "for num in l: # [1,2,3,4,5,6,7,8,9,10]\n",
        "  sum1 = sum1 + num\n",
        "print(sum1)\n",
        "print(sum(l))"
      ],
      "metadata": {
        "colab": {
          "base_uri": "https://localhost:8080/"
        },
        "id": "zbjxyOSkxqPC",
        "outputId": "c7396316-69b5-4b0f-f750-f57c18bcf912"
      },
      "execution_count": 5,
      "outputs": [
        {
          "output_type": "stream",
          "name": "stdout",
          "text": [
            "1\n",
            "2\n",
            "3\n",
            "4\n",
            "55\n",
            "55\n"
          ]
        }
      ]
    },
    {
      "cell_type": "code",
      "source": [
        "# 구구단\n",
        "# 8단\n",
        "'''\n",
        "8 * 1 = (8 * 1)\n",
        "8 * 2 = (8 * 2)\n",
        "8 * 3 = (8 * 3)\n",
        "8 * 4 = (8 * 4)\n",
        "8 * 5 = (8 * 5)\n",
        "8 * 6 = (8 * 6)\n",
        "8 * 7 = (8 * 7)\n",
        "8 * 8 = (8 * 8)\n",
        "8 * 9 = (8 * 9)\n",
        "'''\n",
        "for i in [1,2,3,4,5,6,7,8,9]:\n",
        "  print(f\"8 * {i} = {8 * i}\")\n",
        "\n",
        "for i in range(1, 10): # 1 ~ 9\n",
        "  print(f\"8 * {i} = {8 * i}\")"
      ],
      "metadata": {
        "colab": {
          "base_uri": "https://localhost:8080/"
        },
        "id": "ix6mLMoGzJdA",
        "outputId": "ab6073d3-c462-444c-a0ef-9be00513f525"
      },
      "execution_count": 9,
      "outputs": [
        {
          "output_type": "stream",
          "name": "stdout",
          "text": [
            "8 * 1 = 8\n",
            "8 * 2 = 16\n",
            "8 * 3 = 24\n",
            "8 * 4 = 32\n",
            "8 * 5 = 40\n",
            "8 * 6 = 48\n",
            "8 * 7 = 56\n",
            "8 * 8 = 64\n",
            "8 * 9 = 72\n",
            "8 * 1 = 8\n",
            "8 * 2 = 16\n",
            "8 * 3 = 24\n",
            "8 * 4 = 32\n",
            "8 * 5 = 40\n",
            "8 * 6 = 48\n",
            "8 * 7 = 56\n",
            "8 * 8 = 64\n",
            "8 * 9 = 72\n"
          ]
        }
      ]
    },
    {
      "cell_type": "code",
      "source": [
        "# 리스트의 하ㅣㅂ을 구하시오\n",
        "l = [1,2,3,4]\n",
        "#    0 1 2 3\n",
        "print(l[0])\n",
        "print(len(l)) # 4\n",
        "idx = 0\n",
        "sum1 = 0\n",
        "while idx < len(l):\n",
        "  sum1 += l[idx]\n",
        "  idx += 1\n",
        "\n",
        "print(sum1)\n",
        "\n",
        "sum1 = 0\n",
        "for num in l: # [1,2,3,4] : 요소를 직접 받아옴\n",
        "  sum1 += num\n",
        "print(sum1)\n",
        "\n",
        "sum1 = 0\n",
        "for idx in range(0, len(l)): # index를 이용\n",
        "  sum1 += l[idx]\n",
        "\n",
        "print(sum1)"
      ],
      "metadata": {
        "colab": {
          "base_uri": "https://localhost:8080/"
        },
        "id": "jaKVVxJ70EI4",
        "outputId": "530dc54d-8f2c-40ab-b93a-d99277939a3f"
      },
      "execution_count": 14,
      "outputs": [
        {
          "output_type": "stream",
          "name": "stdout",
          "text": [
            "1\n",
            "4\n",
            "10\n",
            "10\n",
            "10\n"
          ]
        }
      ]
    },
    {
      "cell_type": "code",
      "source": [
        "# 6단\n",
        "for gop in range(1, 10):\n",
        "  print(f\"6 * {gop} = { 6 * gop}\")\n",
        "# 7단\n",
        "for gop in range(1, 10):\n",
        "  print(f\"7 * {gop} = { 7 * gop}\")\n",
        "\n",
        "for dan in range(2, 10):\n",
        "    for gop in range(1, 10):\n",
        "      print(f\"{dan} * {gop} = { dan * gop}\")"
      ],
      "metadata": {
        "colab": {
          "base_uri": "https://localhost:8080/"
        },
        "id": "nvcNs-MO0GPW",
        "outputId": "be2e35f6-3c11-4d48-e4aa-66d0392cc3cb"
      },
      "execution_count": 17,
      "outputs": [
        {
          "output_type": "stream",
          "name": "stdout",
          "text": [
            "6 * 1 = 6\n",
            "6 * 2 = 12\n",
            "6 * 3 = 18\n",
            "6 * 4 = 24\n",
            "6 * 5 = 30\n",
            "6 * 6 = 36\n",
            "6 * 7 = 42\n",
            "6 * 8 = 48\n",
            "6 * 9 = 54\n",
            "7 * 1 = 7\n",
            "7 * 2 = 14\n",
            "7 * 3 = 21\n",
            "7 * 4 = 28\n",
            "7 * 5 = 35\n",
            "7 * 6 = 42\n",
            "7 * 7 = 49\n",
            "7 * 8 = 56\n",
            "7 * 9 = 63\n",
            "2 * 1 = 2\n",
            "2 * 2 = 4\n",
            "2 * 3 = 6\n",
            "2 * 4 = 8\n",
            "2 * 5 = 10\n",
            "2 * 6 = 12\n",
            "2 * 7 = 14\n",
            "2 * 8 = 16\n",
            "2 * 9 = 18\n",
            "3 * 1 = 3\n",
            "3 * 2 = 6\n",
            "3 * 3 = 9\n",
            "3 * 4 = 12\n",
            "3 * 5 = 15\n",
            "3 * 6 = 18\n",
            "3 * 7 = 21\n",
            "3 * 8 = 24\n",
            "3 * 9 = 27\n",
            "4 * 1 = 4\n",
            "4 * 2 = 8\n",
            "4 * 3 = 12\n",
            "4 * 4 = 16\n",
            "4 * 5 = 20\n",
            "4 * 6 = 24\n",
            "4 * 7 = 28\n",
            "4 * 8 = 32\n",
            "4 * 9 = 36\n",
            "5 * 1 = 5\n",
            "5 * 2 = 10\n",
            "5 * 3 = 15\n",
            "5 * 4 = 20\n",
            "5 * 5 = 25\n",
            "5 * 6 = 30\n",
            "5 * 7 = 35\n",
            "5 * 8 = 40\n",
            "5 * 9 = 45\n",
            "6 * 1 = 6\n",
            "6 * 2 = 12\n",
            "6 * 3 = 18\n",
            "6 * 4 = 24\n",
            "6 * 5 = 30\n",
            "6 * 6 = 36\n",
            "6 * 7 = 42\n",
            "6 * 8 = 48\n",
            "6 * 9 = 54\n",
            "7 * 1 = 7\n",
            "7 * 2 = 14\n",
            "7 * 3 = 21\n",
            "7 * 4 = 28\n",
            "7 * 5 = 35\n",
            "7 * 6 = 42\n",
            "7 * 7 = 49\n",
            "7 * 8 = 56\n",
            "7 * 9 = 63\n",
            "8 * 1 = 8\n",
            "8 * 2 = 16\n",
            "8 * 3 = 24\n",
            "8 * 4 = 32\n",
            "8 * 5 = 40\n",
            "8 * 6 = 48\n",
            "8 * 7 = 56\n",
            "8 * 8 = 64\n",
            "8 * 9 = 72\n",
            "9 * 1 = 9\n",
            "9 * 2 = 18\n",
            "9 * 3 = 27\n",
            "9 * 4 = 36\n",
            "9 * 5 = 45\n",
            "9 * 6 = 54\n",
            "9 * 7 = 63\n",
            "9 * 8 = 72\n",
            "9 * 9 = 81\n"
          ]
        }
      ]
    },
    {
      "cell_type": "code",
      "source": [
        "startdan = int(input(\"시작단\"))\n",
        "enddan = int(input(\"끝단\"))\n",
        "startgop =int(input(\"시작곱\"))\n",
        "endgop = int(input(\"끝곱\"))\n",
        "for dan in range(startdan, enddan + 1):\n",
        "    for gop in range(startgop, endgop + 1):\n",
        "      print(f\"{dan} * {gop} = { dan * gop}\")"
      ],
      "metadata": {
        "colab": {
          "base_uri": "https://localhost:8080/"
        },
        "id": "Hh87SvsV5dIB",
        "outputId": "207cc27a-716c-4cfe-a63f-e4297e2acf59"
      },
      "execution_count": 20,
      "outputs": [
        {
          "output_type": "stream",
          "name": "stdout",
          "text": [
            "시작단3\n",
            "끝단7\n",
            "시작곱3\n",
            "끝곱6\n",
            "3 * 3 = 9\n",
            "3 * 4 = 12\n",
            "3 * 5 = 15\n",
            "3 * 6 = 18\n",
            "4 * 3 = 12\n",
            "4 * 4 = 16\n",
            "4 * 5 = 20\n",
            "4 * 6 = 24\n",
            "5 * 3 = 15\n",
            "5 * 4 = 20\n",
            "5 * 5 = 25\n",
            "5 * 6 = 30\n",
            "6 * 3 = 18\n",
            "6 * 4 = 24\n",
            "6 * 5 = 30\n",
            "6 * 6 = 36\n",
            "7 * 3 = 21\n",
            "7 * 4 = 28\n",
            "7 * 5 = 35\n",
            "7 * 6 = 42\n"
          ]
        }
      ]
    },
    {
      "cell_type": "code",
      "source": [
        "l1 = [(1,2),(3,4),(5,6)]\n",
        "for t in l1:\n",
        "  print(t)\n",
        "\n",
        "a , b  = (1,2)\n",
        "\n",
        "for a , b in l1:\n",
        "  print(a, b)\n",
        "\n",
        "l2 = [[1,2,3],[4,5,6],[7,8,9]]\n",
        "for l  in l2:\n",
        "  print(l)\n",
        "for a, b, c  in l2:\n",
        "  print(a,b,c)\n",
        "\n",
        "l3 = [[1,2,3],[4,5],[6,7,8,9]]\n",
        "for l in l3:\n",
        "  print(l)\n",
        "#for a,b,c in l3:\n",
        "#  print()"
      ],
      "metadata": {
        "colab": {
          "base_uri": "https://localhost:8080/"
        },
        "id": "cqU-cRaF6vxD",
        "outputId": "25536285-3dcb-471d-94b5-04c86653962d"
      },
      "execution_count": 26,
      "outputs": [
        {
          "output_type": "stream",
          "name": "stdout",
          "text": [
            "(1, 2)\n",
            "(3, 4)\n",
            "(5, 6)\n",
            "1 2\n",
            "3 4\n",
            "5 6\n",
            "[1, 2, 3]\n",
            "[4, 5, 6]\n",
            "[7, 8, 9]\n",
            "1 2 3\n",
            "4 5 6\n",
            "7 8 9\n",
            "[1, 2, 3]\n",
            "[4, 5]\n",
            "[6, 7, 8, 9]\n"
          ]
        }
      ]
    },
    {
      "cell_type": "code",
      "source": [
        "# 리스트컨프리핸션 : append\n",
        "l = []\n",
        "for num in range(1, 46):\n",
        "  l.append(num)\n",
        "print(l)\n",
        "\n",
        "l = [num for num in range(1, 46) ]\n",
        "print(l)\n",
        "\n",
        "l = []\n",
        "a = [1,2,3,4]\n",
        "for num in a:\n",
        "  l.append(num * 3)\n",
        "print(l)\n",
        "\n",
        "l = [ num * 3 for num in a ]\n",
        "print(l)"
      ],
      "metadata": {
        "colab": {
          "base_uri": "https://localhost:8080/"
        },
        "id": "l0XcW_Vd8cbr",
        "outputId": "7eb17684-4d58-4b4c-84e2-907aaeb35b96"
      },
      "execution_count": 30,
      "outputs": [
        {
          "output_type": "stream",
          "name": "stdout",
          "text": [
            "[1, 2, 3, 4, 5, 6, 7, 8, 9, 10, 11, 12, 13, 14, 15, 16, 17, 18, 19, 20, 21, 22, 23, 24, 25, 26, 27, 28, 29, 30, 31, 32, 33, 34, 35, 36, 37, 38, 39, 40, 41, 42, 43, 44, 45]\n",
            "[1, 2, 3, 4, 5, 6, 7, 8, 9, 10, 11, 12, 13, 14, 15, 16, 17, 18, 19, 20, 21, 22, 23, 24, 25, 26, 27, 28, 29, 30, 31, 32, 33, 34, 35, 36, 37, 38, 39, 40, 41, 42, 43, 44, 45]\n",
            "[3, 6, 9, 12]\n",
            "[3, 6, 9, 12]\n"
          ]
        }
      ]
    },
    {
      "cell_type": "code",
      "source": [
        "lotto = []\n",
        "for num in range(1, 46):\n",
        "  lotto.append(num)"
      ],
      "metadata": {
        "id": "L5EswGeq9vAR"
      },
      "execution_count": null,
      "outputs": []
    },
    {
      "cell_type": "code",
      "source": [
        "import random\n",
        "lotto = [num for num in range(1, 46) ]\n",
        "size = len(lotto)\n",
        "for cnt in range(1, 7): # 1  ~ 6\n",
        "  size = size -1\n",
        "  idx = random.randint(0, size)\n",
        "  result = lotto.pop(idx)\n",
        "  print(result, end = \", \")"
      ],
      "metadata": {
        "colab": {
          "base_uri": "https://localhost:8080/"
        },
        "id": "6-GsycqN-BtY",
        "outputId": "c51173ef-35c9-4c5f-d45e-5a5a0469a9a3"
      },
      "execution_count": 31,
      "outputs": [
        {
          "output_type": "stream",
          "name": "stdout",
          "text": [
            "29, 41, 43, 26, 13, 16, "
          ]
        }
      ]
    },
    {
      "cell_type": "code",
      "source": [
        "# break, continue\n",
        "# 1 ~ 100까지의 수 중 짝수의 합을 구하시오\n",
        "sum1 = 0\n",
        "for i in range(1, 101):\n",
        "  if i % 2 == 0:\n",
        "    sum1 += i\n",
        "print(sum1)\n",
        "\n",
        "sum1 = 0\n",
        "for i in range(1, 101):\n",
        "  if  i % 2 != 0:\n",
        "    continue\n",
        "  sum1 += i\n",
        "print(sum1)\n",
        "\n",
        "sum1 = 0\n",
        "i = 1\n",
        "while i < 101:\n",
        "  if i % 2 == 0:\n",
        "    sum1 += i\n",
        "  i += 1\n",
        "print(sum1)\n",
        "\n",
        "sum1 = 0\n",
        "i = 0\n",
        "while i < 101:\n",
        "  i += 1\n",
        "  if i % 2 != 0:\n",
        "    continue\n",
        "  sum1 += i\n",
        "print(sum1)"
      ],
      "metadata": {
        "colab": {
          "base_uri": "https://localhost:8080/"
        },
        "id": "B2GJWAs8_WN5",
        "outputId": "b360ef78-7c0b-4c49-92ad-ef7a9e2b7ae2"
      },
      "execution_count": 38,
      "outputs": [
        {
          "output_type": "stream",
          "name": "stdout",
          "text": [
            "2550\n",
            "2550\n",
            "2550\n",
            "2550\n"
          ]
        }
      ]
    },
    {
      "cell_type": "code",
      "source": [],
      "metadata": {
        "id": "Dm2KbfzqB4ae"
      },
      "execution_count": null,
      "outputs": []
    },
    {
      "cell_type": "code",
      "source": [],
      "metadata": {
        "id": "exyXhyL7BMgi"
      },
      "execution_count": null,
      "outputs": []
    }
  ]
}
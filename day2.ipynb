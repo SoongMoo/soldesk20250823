{
  "nbformat": 4,
  "nbformat_minor": 0,
  "metadata": {
    "colab": {
      "provenance": []
    },
    "kernelspec": {
      "name": "python3",
      "display_name": "Python 3"
    },
    "language_info": {
      "name": "python"
    }
  },
  "cells": [
    {
      "cell_type": "code",
      "execution_count": null,
      "metadata": {
        "id": "PqYxGLyfVRif"
      },
      "outputs": [],
      "source": [
        "러터널 자료형 : 숫자 리터널 : 정수 리터널 : 10\n",
        "                              실수 리터널 : 10.5\n",
        "                문자열 리터널 : \" \",' ',\"\"\" \"\"\", ''' ''', \"10\" : index : indexing, slicing\n",
        "파이썬 자료형 : 리스트 : [], [1,2]           : index : indexing, slicing\n",
        "                튜플   : (), (1,), (1,2,3)   : index : indexing, slicing\n",
        "                딕셔너리 : {}, {키1:값1,키2:값2,...,키n:값n}"
      ]
    },
    {
      "cell_type": "code",
      "source": [
        "dic= {'name': 'pey', 'phone': '0119993323', 'birth': '19981118'}\n",
        "print(dic['birth']) # 19981118\n",
        "# 년 , 월, 일로 따로 출력\n",
        "print(dic['birth'][:4] + \"년\")\n",
        "print(dic['birth'][4:6] + \"월\")\n",
        "print(dic['birth'][6:] + \"일\")"
      ],
      "metadata": {
        "colab": {
          "base_uri": "https://localhost:8080/"
        },
        "id": "QYii6AOlY8H9",
        "outputId": "ee93d718-4899-4019-a1ec-dc134fb0adb4"
      },
      "execution_count": 5,
      "outputs": [
        {
          "output_type": "stream",
          "name": "stdout",
          "text": [
            "19981118\n",
            "1998년\n",
            "11월\n",
            "18일\n"
          ]
        }
      ]
    },
    {
      "cell_type": "code",
      "source": [
        "dic= {'name': 'pey', 'phone': '0119993323', 'birth': '19981118'}\n",
        "dic['name'] = \"smlee\"  # 중복키를 허용하지 않는다.\n",
        "print(dic)\n",
        "dic['addr'] = '서울'\n",
        "print(dic)\n",
        "# print(dic['post']) # 키가 없는 경우에는 값을 가져오지 못한다.\n",
        "dic1 = {'classic' : 500 ,  \"pop\" : 600 }\n",
        "dic2 = {'classic' : 500 ,  \"pop\" : 600 , \"jazz\": 100 }\n",
        "# print(dic1['jazz'])\n",
        "print(dic1.get('jazz'))\n",
        "print(dic1.get('jazz', 100)) #  default value\n",
        "# print(dic1['jazz'] + dic2['jazz'])\n",
        "print(dic1['classic'] + dic2['classic'])\n",
        "print(dic1.get('classic') + dic2.get('classic'))\n",
        "print(dic1.get('classic',0) + dic2.get('classic',0))\n",
        "# print(dic1.get('jazz') + dic2.get('jazz')) # None + 100\n",
        "print(dic1.get('jazz',0) + dic2.get('jazz',0))"
      ],
      "metadata": {
        "colab": {
          "base_uri": "https://localhost:8080/"
        },
        "id": "6_JMOMxxbkub",
        "outputId": "df425f4d-0b7d-4eaf-c224-eb296b8e022d"
      },
      "execution_count": 16,
      "outputs": [
        {
          "output_type": "stream",
          "name": "stdout",
          "text": [
            "{'name': 'smlee', 'phone': '0119993323', 'birth': '19981118'}\n",
            "{'name': 'smlee', 'phone': '0119993323', 'birth': '19981118', 'addr': '서울'}\n",
            "None\n",
            "100\n",
            "1000\n",
            "1000\n",
            "1000\n",
            "100\n"
          ]
        }
      ]
    },
    {
      "cell_type": "code",
      "source": [
        "# 딕셔너리 함수\n",
        "dic = {'name': 'smlee', 'phone': '0119993323', 'birth': '19981118', 'addr': '서울'}\n",
        "l = [1,2,3]\n",
        "del l[1]\n",
        "print(l)\n",
        "del l[0:2]\n",
        "print(l)\n",
        "del dic['name']\n",
        "print(dic)\n",
        "l.clear()\n",
        "dic.clear() # {}\n",
        "print(dic)\n",
        "### 딕셔너리에 있는 키만 가져오기\n",
        "dic = {'name': 'smlee', 'phone': '0119993323', 'birth': '19981118', 'addr': '서울'}\n",
        "print(dic.keys())\n",
        "l = list(dic.keys())\n",
        "print(l)\n",
        "# 딕셔너리에 있는  값만 가져오기\n",
        "print(dic.values())\n",
        "l = list(dic.values())\n",
        "print(l)\n",
        "# 키와 값을 쌍으로\n",
        "print(dic.items())\n",
        "l = list(dic.items())\n",
        "print(l)"
      ],
      "metadata": {
        "colab": {
          "base_uri": "https://localhost:8080/"
        },
        "id": "OQEpXzrKbRAB",
        "outputId": "0a02c329-55b7-44fa-d8cc-53376d03bdea"
      },
      "execution_count": 30,
      "outputs": [
        {
          "output_type": "stream",
          "name": "stdout",
          "text": [
            "[1, 3]\n",
            "[]\n",
            "{'phone': '0119993323', 'birth': '19981118', 'addr': '서울'}\n",
            "{}\n",
            "dict_keys(['name', 'phone', 'birth', 'addr'])\n",
            "['name', 'phone', 'birth', 'addr']\n",
            "dict_values(['smlee', '0119993323', '19981118', '서울'])\n",
            "['smlee', '0119993323', '19981118', '서울']\n",
            "dict_items([('name', 'smlee'), ('phone', '0119993323'), ('birth', '19981118'), ('addr', '서울')])\n",
            "[('name', 'smlee'), ('phone', '0119993323'), ('birth', '19981118'), ('addr', '서울')]\n"
          ]
        }
      ]
    },
    {
      "cell_type": "code",
      "source": [
        "리터널 자료형 : 숫자 리터널 : 정수 리터널 : 10\n",
        "                              실수 리터널 : 10.5\n",
        "                문자열 리터널 : \" \",' ',\"\"\" \"\"\", ''' ''', \"10\" : index : indexing, slicing\n",
        "파이썬 자료형 : 리스트 : [], [1,2]           : index : indexing, slicing\n",
        "                튜플   : (), (1,), (1,2,3)   : index : indexing, slicing\n",
        "                딕셔너리 : {}, {키1:값1,키2:값2,...,키n:값n} : 중복키를 허용하지 않는다\n",
        "                집합(set) : 교집합 , 합집합, 차집합 : {1,2,3,4} : 중복 값을 허용하지 않는다.\n",
        "                                                 {1,2,2,3,3,4,4} => {1,2,3,4}"
      ],
      "metadata": {
        "id": "apDOujdGfxHw"
      },
      "execution_count": null,
      "outputs": []
    },
    {
      "cell_type": "code",
      "source": [
        "dic = {\"name\":\"이숭무\"}\n",
        "s = {1,2,3,\"이숭무\"}\n",
        "print(s)\n",
        "s = {1,2,2,3,3,4,4}\n",
        "print(s)\n",
        "s1 = {1,2,3,4,5}\n",
        "s2 = {4,5,6,7,8}\n",
        "# 교집합 : &\n",
        "print(s1 & s2)\n",
        "print(s1.intersection(s2))\n",
        "# 합집합 : | (pipe)\n",
        "print(s1 | s2)\n",
        "print(s1.union(s2))\n",
        "# 차집합 : -\n",
        "print(s1 - s2)\n",
        "print(s1.difference(s2))\n",
        "print(s2.difference(s1))\n",
        "print(s2 - s1)"
      ],
      "metadata": {
        "colab": {
          "base_uri": "https://localhost:8080/"
        },
        "id": "_iQoCNobgqEI",
        "outputId": "0bec0b99-6e06-464c-ac1e-b3e8f49972e9"
      },
      "execution_count": 39,
      "outputs": [
        {
          "output_type": "stream",
          "name": "stdout",
          "text": [
            "{1, 2, 3, '이숭무'}\n",
            "{1, 2, 3, 4}\n",
            "{4, 5}\n",
            "{4, 5}\n",
            "{1, 2, 3, 4, 5, 6, 7, 8}\n",
            "{1, 2, 3, 4, 5, 6, 7, 8}\n",
            "{1, 2, 3}\n",
            "{1, 2, 3}\n",
            "{8, 6, 7}\n",
            "{8, 6, 7}\n"
          ]
        }
      ]
    },
    {
      "cell_type": "code",
      "source": [
        "#  집합자료형 함수\n",
        "#요소 추가\n",
        "s1 = {1,2,3}\n",
        "s1.add(7)\n",
        "print(s1)\n",
        "s1.add('hello')\n",
        "print(s1)\n",
        "# s1에 10,11,12를 추가\n",
        "#s1.add(10,11,12) # TypeError: set.add() takes exactly one argument (3 given)\n",
        "s1.add((10,11,12))\n",
        "print(s1)\n",
        "s1.update({10,11,12})\n",
        "print(s1)\n",
        "s1.update((10,11,12))\n",
        "s1.update([10,11,12])\n",
        "print(s1)\n",
        "# 삭제\n",
        "s1.remove((10, 11, 12))\n",
        "print(s1)\n",
        "s1.remove(1)\n",
        "print(s1)\n",
        "s1.clear() # set()\n",
        "print(s1)"
      ],
      "metadata": {
        "colab": {
          "base_uri": "https://localhost:8080/"
        },
        "id": "2n7z_tSiiom9",
        "outputId": "988a124d-e8e2-42da-f150-ab7ec4b314c9"
      },
      "execution_count": 52,
      "outputs": [
        {
          "output_type": "stream",
          "name": "stdout",
          "text": [
            "{1, 2, 3, 7}\n",
            "{1, 2, 3, 'hello', 7}\n",
            "{1, 2, 3, 'hello', 7, (10, 11, 12)}\n",
            "{1, 2, 3, 'hello', 7, 10, 11, 12, (10, 11, 12)}\n",
            "{1, 2, 3, 'hello', 7, 10, 11, 12, (10, 11, 12)}\n",
            "{1, 2, 3, 'hello', 7, 10, 11, 12}\n",
            "{2, 3, 'hello', 7, 10, 11, 12}\n",
            "set()\n"
          ]
        }
      ]
    },
    {
      "cell_type": "code",
      "source": [
        "리터널 자료형 : 숫자 리터널 : 정수 리터널 : 10\n",
        "                              실수 리터널 : 10.5\n",
        "                문자열 리터널 : \" \",' ',\"\"\" \"\"\", ''' ''', \"10\" : index : indexing, slicing\n",
        "                부울(boolean) : 참/거짓 : True / False\n",
        "파이썬 자료형 : 리스트 : [], [1,2]           : index : indexing, slicing\n",
        "                튜플   : (), (1,), (1,2,3)   : index : indexing, slicing\n",
        "                딕셔너리 : {}, {키1:값1,키2:값2,...,키n:값n} : 중복키를 허용하지 않는다\n",
        "                집합(set) : 교집합 , 합집합, 차집합 : {1,2,3,4} : 중복 값을 허용하지 않는다.\n",
        "                                                 {1,2,2,3,3,4,4} => {1,2,3,4}"
      ],
      "metadata": {
        "id": "DZXuo1hOikE3"
      },
      "execution_count": null,
      "outputs": []
    },
    {
      "cell_type": "code",
      "source": [
        "b = True\n",
        "print(b)\n",
        " # b = true # true는 변수로 인식\n",
        "b = \"true\" # 문자열\n",
        "b = False\n",
        "print(b)\n",
        "# 관계(비교) 연산자 : >, < ,>=, <=, == , != (! : not)\n",
        "i1 = 10\n",
        "i2 = 20\n",
        "b = i1 > i2\n",
        "print(b)\n",
        "# 논리연산자 :  and , or : 관계연산자와 같이 사용\n",
        "print( True and True )\n",
        "print( True or False )\n",
        "# 합격 / 불합격\n",
        "mat = 40\n",
        "eng = 60\n",
        "kor = 80\n",
        "### 각 과목이 40점이상이고 평균이 60이상이면 합격(True) 아니면 불합격(False)\n",
        "result = mat >= 40 and eng >= 40 and kor >= 40 and (kor + mat + eng) / 3 >= 60\n",
        "print(result)"
      ],
      "metadata": {
        "colab": {
          "base_uri": "https://localhost:8080/"
        },
        "id": "AR6y7uW4gs5_",
        "outputId": "adeaead2-d3da-48e5-f467-6172392fddaf"
      },
      "execution_count": 64,
      "outputs": [
        {
          "output_type": "stream",
          "name": "stdout",
          "text": [
            "True\n",
            "False\n",
            "False\n",
            "True\n",
            "True\n",
            "True\n"
          ]
        }
      ]
    },
    {
      "cell_type": "code",
      "source": [
        "# 변환함수 :  int(), float(), str(), list(), tuple(), set() , bool()\n",
        "s = \"10\"\n",
        "i = int(s)\n",
        "print(i)\n",
        "l = [1,2,3,4]\n",
        "s = set(l)\n",
        "print(s)\n",
        "str1 = \"hello\"\n",
        "l = list(str1)\n",
        "print(l) # ['h', 'e', 'l', 'l', 'o']\n",
        "str1 = str(l) # \"['h', 'e', 'l', 'l', 'o']\"\n",
        "print(str1 + \"이숭무\")\n",
        "str1 = \"\".join(l)\n",
        "print(str1)\n",
        "str1 = \".\".join(l)\n",
        "print(str1)\n",
        "str1 = \" \".join(l)\n",
        "print(str1)\n",
        "result = \":\".join(str1) # h e l l o\n",
        "print(result)\n",
        "l = ['Life', 'is', 'too', 'short']\n",
        "result = \" \".join(l)\n",
        "print(result)"
      ],
      "metadata": {
        "colab": {
          "base_uri": "https://localhost:8080/"
        },
        "id": "ZxicLYqQrLXa",
        "outputId": "26f61b04-7ddf-4a35-fa95-b1d7d01c0628"
      },
      "execution_count": 73,
      "outputs": [
        {
          "output_type": "stream",
          "name": "stdout",
          "text": [
            "10\n",
            "{1, 2, 3, 4}\n",
            "['h', 'e', 'l', 'l', 'o']\n",
            "['h', 'e', 'l', 'l', 'o']이숭무\n",
            "hello\n",
            "h.e.l.l.o\n",
            "h e l l o\n",
            "h: :e: :l: :l: :o\n",
            "Life is too short\n"
          ]
        }
      ]
    },
    {
      "cell_type": "code",
      "source": [
        "print(bool(\"hello\"))\n",
        "print(bool(\" \"))\n",
        "print(bool(\"\")) # blank\n",
        "print(bool(1))\n",
        "print(bool(-1))\n",
        "print(bool(0))\n",
        "print(bool([1,2,3]))\n",
        "print(bool([]))\n",
        "print(bool((1,2,3)))\n",
        "print(bool(()))\n",
        "print(bool({1,2,3}))\n",
        "print(bool(set()))\n",
        "print(bool({}))\n",
        "print(bool({\"1\":1}))"
      ],
      "metadata": {
        "colab": {
          "base_uri": "https://localhost:8080/"
        },
        "id": "LwrfnOkXt7No",
        "outputId": "b5dc943e-3c62-42cc-aee6-228b15cb38dc"
      },
      "execution_count": 86,
      "outputs": [
        {
          "output_type": "stream",
          "name": "stdout",
          "text": [
            "True\n",
            "True\n",
            "False\n",
            "True\n",
            "True\n",
            "False\n",
            "True\n",
            "False\n",
            "True\n",
            "False\n",
            "True\n",
            "False\n",
            "False\n",
            "True\n"
          ]
        }
      ]
    },
    {
      "cell_type": "code",
      "source": [
        "# 자료형\n",
        "l = [1,2,3]\n",
        "print(type(l))\n",
        "print(type((1,2,3,4)))\n",
        "print(type(\"hello\"))\n",
        "print(type({}))\n",
        "print(type({1,2,3}))\n",
        "print(type(True))"
      ],
      "metadata": {
        "colab": {
          "base_uri": "https://localhost:8080/"
        },
        "id": "QZ6BPFGbvTOI",
        "outputId": "32fc1d9f-7562-486c-dda7-14a44f096f69"
      },
      "execution_count": 92,
      "outputs": [
        {
          "output_type": "stream",
          "name": "stdout",
          "text": [
            "<class 'list'>\n",
            "<class 'tuple'>\n",
            "<class 'str'>\n",
            "<class 'dict'>\n",
            "<class 'set'>\n",
            "<class 'bool'>\n"
          ]
        }
      ]
    },
    {
      "cell_type": "code",
      "source": [
        "# 변수 선언법\n",
        "t = (1,2,3,4)\n",
        "print(t)\n",
        "t = 1,2,3,4\n",
        "print(t)\n",
        "a, b, c = 10, 20, 30\n",
        "print(a,b,c)\n",
        "a, b, c = (10, 20, 30)\n",
        "print(a,b,c)\n",
        "(a, b, c) = 10, 20, 30\n",
        "print(a,b,c)\n",
        "(a, b, c) = (10, 20, 30)\n",
        "print(a,b,c)\n",
        "a, b, c = [10, 20, 30]\n",
        "print(a,b,c)\n",
        "#a, b, c = 10, 20, 30, 40\n",
        "a = b = c = 10\n",
        "print(a,b,c)"
      ],
      "metadata": {
        "colab": {
          "base_uri": "https://localhost:8080/"
        },
        "id": "29VRSxmDv6zW",
        "outputId": "4a0a0bac-28aa-4e7a-9acf-ebd6e7bd27b5"
      },
      "execution_count": 105,
      "outputs": [
        {
          "output_type": "stream",
          "name": "stdout",
          "text": [
            "(1, 2, 3, 4)\n",
            "(1, 2, 3, 4)\n",
            "10 20 30\n",
            "10 20 30\n",
            "10 20 30\n",
            "10 20 30\n",
            "10 20 30\n",
            "10 10 10\n"
          ]
        }
      ]
    },
    {
      "cell_type": "code",
      "source": [
        "a = 10; b = 20\n",
        "# a와 b값을 교환\n",
        "temp = b\n",
        "b = a\n",
        "a = temp\n",
        "print(a, b)\n",
        "\n",
        "a, b = b, a\n",
        "print(a, b)"
      ],
      "metadata": {
        "colab": {
          "base_uri": "https://localhost:8080/"
        },
        "id": "yW46BqeiyR79",
        "outputId": "f0aed892-e0f4-45bf-afee-1961c543f981"
      },
      "execution_count": 108,
      "outputs": [
        {
          "output_type": "stream",
          "name": "stdout",
          "text": [
            "20 10\n",
            "10 20\n"
          ]
        }
      ]
    },
    {
      "cell_type": "code",
      "source": [
        "money = True\n",
        "if money:\n",
        "  print(\"차를 타고 가시오\")\n",
        "else:\n",
        "  print(\"걸어 가시오\")\n",
        "\n",
        "money = True\n",
        "if money:\n",
        "  print(\"차를 타고 가시오\")\n",
        "print(\"오류\")\n",
        "else:\n",
        "  print(\"걸어 가시오\")"
      ],
      "metadata": {
        "colab": {
          "base_uri": "https://localhost:8080/",
          "height": 110
        },
        "id": "8tnysqD_4JiB",
        "outputId": "b766839a-0671-4cd5-9515-2e8eb98afe09"
      },
      "execution_count": 114,
      "outputs": [
        {
          "output_type": "error",
          "ename": "SyntaxError",
          "evalue": "invalid syntax (ipython-input-857103759.py, line 11)",
          "traceback": [
            "\u001b[0;36m  File \u001b[0;32m\"/tmp/ipython-input-857103759.py\"\u001b[0;36m, line \u001b[0;32m11\u001b[0m\n\u001b[0;31m    else:\u001b[0m\n\u001b[0m    ^\u001b[0m\n\u001b[0;31mSyntaxError\u001b[0m\u001b[0;31m:\u001b[0m invalid syntax\n"
          ]
        }
      ]
    },
    {
      "cell_type": "code",
      "source": [
        "money = True\n",
        "if money:\n",
        "  print(\"차를 타고 가시오\")\n",
        "else:\n",
        "  print(\"걸어 가시오\")\n",
        "print(\"종료\")"
      ],
      "metadata": {
        "colab": {
          "base_uri": "https://localhost:8080/"
        },
        "id": "W1UWiVlD5O-R",
        "outputId": "be9e0875-7875-49cb-a573-65eab87b0fd9"
      },
      "execution_count": 115,
      "outputs": [
        {
          "output_type": "stream",
          "name": "stdout",
          "text": [
            "차를 타고 가시오\n",
            "종료\n"
          ]
        }
      ]
    },
    {
      "cell_type": "code",
      "source": [
        "# 영어, 수학 , 국어의 점수 40점 이상이고 평균이 60 이상이면 합격(True)\n",
        "eng = 30\n",
        "kor = 60\n",
        "mat = 80\n",
        "# 조건문 :  condition\n",
        "# if ~ else문\n",
        "if  eng >= 40 and kor >= 40 and mat >= 40 and (eng + kor +  mat) / 3 >= 60 :\n",
        "  print(\"합격\")\n",
        "else:\n",
        "  print(\"불합격\")"
      ],
      "metadata": {
        "colab": {
          "base_uri": "https://localhost:8080/"
        },
        "id": "eo_9HYYgxVj3",
        "outputId": "ec0caf69-afe8-43bf-e3c7-b1796c988912"
      },
      "execution_count": 118,
      "outputs": [
        {
          "output_type": "stream",
          "name": "stdout",
          "text": [
            "불합격\n"
          ]
        }
      ]
    },
    {
      "cell_type": "code",
      "source": [
        "# 단일 if문\n",
        "if  eng >= 40 and kor >= 40 and mat >= 40 and (eng + kor +  mat) / 3 >= 60 :\n",
        "  print(\"합격\")\n",
        "\n",
        "result = eng >= 40 and kor >= 40 and mat >= 40 and (eng + kor +  mat) / 3 >= 60\n",
        "if result:\n",
        "  print(\"합격\")"
      ],
      "metadata": {
        "id": "6Yy5oj8t6cZw"
      },
      "execution_count": 119,
      "outputs": []
    },
    {
      "cell_type": "code",
      "source": [
        "# condition은 논리연산과 관계연산으로 이루어진다.\n",
        "# 문제\n",
        "# 4년마다 윤년이지만 100년 마다 평년. 그런데 400년마다 윤년\n",
        "# year % 4 == 0, year % 100 != 0   , year % 400 == 0\n",
        "year = 2200\n",
        "if year % 4 == 0 and year % 100 != 0 or year % 400 == 0:\n",
        "  print(\"윤년\")\n",
        "else :\n",
        "  print(\"평년\")"
      ],
      "metadata": {
        "colab": {
          "base_uri": "https://localhost:8080/"
        },
        "id": "ulwkaWTC7Dwi",
        "outputId": "05a196a0-7c5d-4c2d-b673-48356d58d0a3"
      },
      "execution_count": 3,
      "outputs": [
        {
          "output_type": "stream",
          "name": "stdout",
          "text": [
            "평년\n"
          ]
        }
      ]
    },
    {
      "cell_type": "code",
      "source": [
        "# in 연산자\n",
        "l = [1,2,3,4,5]\n",
        "result = 3 in l\n",
        "print(result)\n",
        "result = 3 in [1,2,3,4,5]\n",
        "print(result)\n",
        "result = 7 in l\n",
        "print(result)\n",
        "if 3 in l:\n",
        "  print(\"3 이 있습니다\")\n",
        "else:\n",
        "  print(\"3 이 없습니다.\")\n",
        "\n",
        "dic = {\"name1\":\"이숭무\", \"name2\":\"김찬중\"}\n",
        "if \"name1\" in dic:\n",
        "  print(\"name1 키가 있습니다\")\n",
        "else:\n",
        "  print(\"name1 키가 없습니다.\")\n",
        "\n",
        "pocket = ['paper', 'cellphone', 'money']\n",
        "if \"money\" in pocket:\n",
        "  print(\"차를 타고 가시오\")\n",
        "else:\n",
        "  print(\"걸어가시오\")"
      ],
      "metadata": {
        "colab": {
          "base_uri": "https://localhost:8080/"
        },
        "id": "aiDJdaWg-YDG",
        "outputId": "fb084d85-e09f-4eb4-e6e3-8e1f640bf70c"
      },
      "execution_count": 12,
      "outputs": [
        {
          "output_type": "stream",
          "name": "stdout",
          "text": [
            "True\n",
            "True\n",
            "False\n",
            "3 이 있습니다\n",
            "name1 키가 있습니다\n",
            "차를 타고 가시오\n"
          ]
        }
      ]
    },
    {
      "cell_type": "code",
      "source": [
        "l = [1,2,3,4]\n",
        "result = 7 not in l\n",
        "print(result)\n",
        "if 9 not in l:\n",
        "  print(\"9 가 없습니다\")\n",
        "else:\n",
        "  print(\"9가 있습니다.\")"
      ],
      "metadata": {
        "colab": {
          "base_uri": "https://localhost:8080/"
        },
        "id": "l5e1AwQNDfJi",
        "outputId": "0fee3817-ae05-432b-bff1-d1833eafbb4c"
      },
      "execution_count": 13,
      "outputs": [
        {
          "output_type": "stream",
          "name": "stdout",
          "text": [
            "True\n"
          ]
        }
      ]
    },
    {
      "cell_type": "code",
      "source": [
        "str1 = \"hello\"\n",
        "result = \"h\" in str1\n",
        "print(result)\n",
        "if \"h\" in str1:\n",
        "  print(\"문자열에는 h 가 있습니다.\")\n",
        "else:\n",
        "  print(\"문자열에 h가 없습니다.\")\n",
        "\n",
        "str1 = \"hello\"\n",
        "result = \"y\" not in str1"
      ],
      "metadata": {
        "colab": {
          "base_uri": "https://localhost:8080/"
        },
        "id": "MIgHol3HCoKn",
        "outputId": "d4f967b3-4a1c-4371-ff7b-e3cbf50de3c7"
      },
      "execution_count": 14,
      "outputs": [
        {
          "output_type": "stream",
          "name": "stdout",
          "text": [
            "True\n"
          ]
        }
      ]
    },
    {
      "cell_type": "code",
      "source": [
        "# if ~ elif ~ else 문\n",
        "# 학점 90이상이면 \"A\" , 80점이상이면 \"B\", 70점이상이면 \"C\" , 60점이상이면 \"D\" 아니면 F\n",
        "score = 78\n",
        "if score >= 90:\n",
        "  print(\"A\")\n",
        "else:\n",
        "  if score >= 80:\n",
        "    print(\"B\")\n",
        "  else:\n",
        "    if score >= 70:\n",
        "      print(\"C\")\n",
        "    else:\n",
        "      if score >= 60:\n",
        "        print(\"D\")\n",
        "      else:\n",
        "        print(\"F\")\n",
        "print(\"==\" * 30)\n",
        "if score >= 90:\n",
        "  print(\"A\")\n",
        "elif score >= 80:\n",
        "  print(\"B\")\n",
        "elif score >= 70:\n",
        "  print(\"C\")\n",
        "elif score >= 60:\n",
        "  print(\"D\")\n",
        "else:\n",
        "  print(\"F\")\n",
        "\n",
        "print(\"==\" * 30)\n",
        "if score >= 90:\n",
        "  message = \"A\"\n",
        "elif score >= 80:\n",
        "  message = \"B\"\n",
        "elif score >= 70:\n",
        "  message = \"C\"\n",
        "elif score >= 60:\n",
        "  message = \"D\"\n",
        "else:\n",
        "  message = \"F\"\n",
        "\n",
        "print(message)"
      ],
      "metadata": {
        "colab": {
          "base_uri": "https://localhost:8080/"
        },
        "id": "9_xgKn7TE33C",
        "outputId": "b47c016f-6177-424a-bf98-b7e0ee4b18fa"
      },
      "execution_count": 16,
      "outputs": [
        {
          "output_type": "stream",
          "name": "stdout",
          "text": [
            "C\n",
            "============================================================\n",
            "C\n",
            "============================================================\n",
            "C\n"
          ]
        }
      ]
    },
    {
      "cell_type": "code",
      "source": [
        "if score >= 60:\n",
        "  message = \"합격\"\n",
        "else:\n",
        "  message = \"불합격\"\n",
        "print(message)\n",
        "\n",
        "message = \"합격\" if score >= 60 else \"불합격\"\n",
        "print(message)"
      ],
      "metadata": {
        "colab": {
          "base_uri": "https://localhost:8080/"
        },
        "id": "oqKjoCO0HNlA",
        "outputId": "67018dff-b975-4bbd-8de1-633fd459f977"
      },
      "execution_count": 18,
      "outputs": [
        {
          "output_type": "stream",
          "name": "stdout",
          "text": [
            "합격\n",
            "합격\n"
          ]
        }
      ]
    },
    {
      "cell_type": "code",
      "source": [
        "score = 78\n",
        "if score >= 90:\n",
        "  message = \"A\"\n",
        "else:\n",
        "  if score >= 80:\n",
        "    message = \"B\"\n",
        "  else:\n",
        "    if score >= 70:\n",
        "      message = \"C\"\n",
        "    else:\n",
        "      if score >= 60:\n",
        "        message = \"D\"\n",
        "      else:\n",
        "        message = \"F\"\n",
        "print(message)\n",
        "message = \"A\" if score >= 90 else(\n",
        "          \"B\" if score >= 80 else(\n",
        "          \"C\" if score >= 70 else(\n",
        "          \"D\" if score >= 60 else \"F\"\n",
        ")))\n",
        "print(message)"
      ],
      "metadata": {
        "colab": {
          "base_uri": "https://localhost:8080/"
        },
        "id": "CSRvtv20IN-x",
        "outputId": "788d35c3-f679-4911-dab0-131ad4ff8049"
      },
      "execution_count": 21,
      "outputs": [
        {
          "output_type": "stream",
          "name": "stdout",
          "text": [
            "C\n",
            "C\n"
          ]
        }
      ]
    },
    {
      "cell_type": "code",
      "source": [
        "# if문을 이용한 사직연산\n",
        "a = 10; b = 20; opt = \"sub\"\n",
        "if opt == \"add\":\n",
        "  result = a + b\n",
        "elif opt == \"sub\":\n",
        "  result = a - b\n",
        "elif opt == \"mul\":\n",
        "  result = a * b\n",
        "else:\n",
        "  result = a / b\n",
        "print(result)\n",
        "# 파이썬 조건문\n",
        "result = a + b if opt == \"add\" else(\n",
        "         a - b if opt == \"sub\" else(\n",
        "         a * b if opt == \"mul\" else(\n",
        "         a / b\n",
        ")))\n",
        "print(result)"
      ],
      "metadata": {
        "colab": {
          "base_uri": "https://localhost:8080/"
        },
        "id": "KenQ8mxEJZZX",
        "outputId": "0373fda3-0e96-4d8c-ed63-8b3ac220440a"
      },
      "execution_count": 22,
      "outputs": [
        {
          "output_type": "stream",
          "name": "stdout",
          "text": [
            "-10\n"
          ]
        }
      ]
    },
    {
      "cell_type": "code",
      "source": [
        "# 95점 이상이면 A+ 90점이상이면 A,...\n",
        "if score >= 90:\n",
        "  if score >= 95:\n",
        "    message = \"A+\"\n",
        "  else:\n",
        "    message = \"A\"\n",
        "elif score >= 80:\n",
        "  if score >= 85:\n",
        "    message = \"B+\"\n",
        "  else:\n",
        "    message = \"B\"\n",
        "elif score >= 70:\n",
        "  if score >= 75:\n",
        "    message = \"C+\"\n",
        "  else:\n",
        "    message = \"C\"\n",
        "elif score >= 60:\n",
        "  if score >= 65:\n",
        "    message = \"D+\"\n",
        "  else:\n",
        "    message = \"D\"\n",
        "else:\n",
        "  message = \"F\"\n",
        "\n",
        "message = \"A+\" if score >= 95 else(\n",
        "    \t    \"A\"  if score >= 90 else(\n",
        "          \"B+\" if score >= 85 else(\n",
        "          \"B\"  if score >= 80 else(\n",
        "          \"C+\" if score >= 75 else(\n",
        "          \"C\"  if score >= 70 else(\n",
        "          \"D+\" if score >= 65 else(\n",
        "          \"D\"  if score >= 60 else(\n",
        "          \"F\"))))))))\n",
        "print(message)"
      ],
      "metadata": {
        "id": "4jjM74OIK0Hu"
      },
      "execution_count": null,
      "outputs": []
    }
  ]
}
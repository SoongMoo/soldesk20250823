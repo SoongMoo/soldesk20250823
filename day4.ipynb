{
  "nbformat": 4,
  "nbformat_minor": 0,
  "metadata": {
    "colab": {
      "provenance": []
    },
    "kernelspec": {
      "name": "python3",
      "display_name": "Python 3"
    },
    "language_info": {
      "name": "python"
    }
  },
  "cells": [
    {
      "cell_type": "code",
      "execution_count": null,
      "metadata": {
        "id": "GEdd-o3ffTHo"
      },
      "outputs": [],
      "source": [
        "import urllib.request as req\n",
        "import requests\n",
        "\n",
        "from bs4 import BeautifulSoup\n",
        "태그, : find()\n",
        "선택자 : select_one() : 하나의 값만\n",
        "         select() : 리스트 : 여러개값을 반환"
      ]
    },
    {
      "cell_type": "code",
      "source": [
        "!pip install pandas"
      ],
      "metadata": {
        "colab": {
          "base_uri": "https://localhost:8080/"
        },
        "id": "t5FvtUmshqf0",
        "outputId": "4aaf1962-7b39-4983-b476-8207bbfcfc01"
      },
      "execution_count": 1,
      "outputs": [
        {
          "output_type": "stream",
          "name": "stdout",
          "text": [
            "Requirement already satisfied: pandas in /usr/local/lib/python3.12/dist-packages (2.2.2)\n",
            "Requirement already satisfied: numpy>=1.26.0 in /usr/local/lib/python3.12/dist-packages (from pandas) (2.0.2)\n",
            "Requirement already satisfied: python-dateutil>=2.8.2 in /usr/local/lib/python3.12/dist-packages (from pandas) (2.9.0.post0)\n",
            "Requirement already satisfied: pytz>=2020.1 in /usr/local/lib/python3.12/dist-packages (from pandas) (2025.2)\n",
            "Requirement already satisfied: tzdata>=2022.7 in /usr/local/lib/python3.12/dist-packages (from pandas) (2025.2)\n",
            "Requirement already satisfied: six>=1.5 in /usr/local/lib/python3.12/dist-packages (from python-dateutil>=2.8.2->pandas) (1.17.0)\n"
          ]
        }
      ]
    },
    {
      "cell_type": "code",
      "source": [
        "!pip install matplotlib"
      ],
      "metadata": {
        "colab": {
          "base_uri": "https://localhost:8080/"
        },
        "id": "9RWa_WqJilwD",
        "outputId": "d44292c5-ef10-4f0b-e4c4-ff6898a3affd"
      },
      "execution_count": 2,
      "outputs": [
        {
          "output_type": "stream",
          "name": "stdout",
          "text": [
            "Requirement already satisfied: matplotlib in /usr/local/lib/python3.12/dist-packages (3.10.0)\n",
            "Requirement already satisfied: contourpy>=1.0.1 in /usr/local/lib/python3.12/dist-packages (from matplotlib) (1.3.3)\n",
            "Requirement already satisfied: cycler>=0.10 in /usr/local/lib/python3.12/dist-packages (from matplotlib) (0.12.1)\n",
            "Requirement already satisfied: fonttools>=4.22.0 in /usr/local/lib/python3.12/dist-packages (from matplotlib) (4.59.2)\n",
            "Requirement already satisfied: kiwisolver>=1.3.1 in /usr/local/lib/python3.12/dist-packages (from matplotlib) (1.4.9)\n",
            "Requirement already satisfied: numpy>=1.23 in /usr/local/lib/python3.12/dist-packages (from matplotlib) (2.0.2)\n",
            "Requirement already satisfied: packaging>=20.0 in /usr/local/lib/python3.12/dist-packages (from matplotlib) (25.0)\n",
            "Requirement already satisfied: pillow>=8 in /usr/local/lib/python3.12/dist-packages (from matplotlib) (11.3.0)\n",
            "Requirement already satisfied: pyparsing>=2.3.1 in /usr/local/lib/python3.12/dist-packages (from matplotlib) (3.2.3)\n",
            "Requirement already satisfied: python-dateutil>=2.7 in /usr/local/lib/python3.12/dist-packages (from matplotlib) (2.9.0.post0)\n",
            "Requirement already satisfied: six>=1.5 in /usr/local/lib/python3.12/dist-packages (from python-dateutil>=2.7->matplotlib) (1.17.0)\n"
          ]
        }
      ]
    },
    {
      "cell_type": "code",
      "source": [
        "# 스크래핑\n",
        "import requests\n",
        "# 크롤링\n",
        "from bs4 import BeautifulSoup\n",
        "# 데이터분석\n",
        "import pandas\n",
        "# 시각화\n",
        "import matplotlib as mpl\n",
        "import matplotlib.pyplot as plt\n",
        "\n",
        "# 스크래핑\n",
        "url = \"https://www.weather.go.kr/w/observation/land/city-obs.do\"\n",
        "source = requests.get(url)\n",
        "\n",
        "# 크롤링\n",
        "soup = BeautifulSoup(source.content, 'html.parser')\n",
        "table = soup.find('table',{'class':'table-col'})\n",
        "\n",
        "# 크롤링한 데이터 저장\n",
        "data =[]\n",
        "for tr in table.find_all('tr'):\n",
        "    ths = list(tr.find_all('th'))\n",
        "    tds = list(tr.find_all('td'))\n",
        "    for th in ths:\n",
        "      if th.find(\"a\"):\n",
        "        point = th.find(\"a\").string\n",
        "        temp = tds[4].string\n",
        "        humidity = tds[8].string\n",
        "        data.append([point,temp,humidity])\n",
        "\n",
        "data\n",
        "with open(\"weather.csv\",\"w\",  encoding=\"utf-8\") as f:\n",
        "  f.write('지역,온도,습도\\n')\n",
        "  for l in data:\n",
        "    f.write(f\"{l[0],l[1],l[2]}\")\n",
        "#테이터 전처리\n",
        "df = pandas.read_csv(\"weather.csv\", encoding=\"utf-8\")\n",
        "df"
      ],
      "metadata": {
        "colab": {
          "base_uri": "https://localhost:8080/"
        },
        "id": "RB5y8zeghlYN",
        "outputId": "a40b1560-90d5-47bf-de6a-5ab11da91715"
      },
      "execution_count": 5,
      "outputs": [
        {
          "output_type": "execute_result",
          "data": {
            "text/plain": [
              "[['강릉', '20.4', '94'],\n",
              " ['강진군', '27.1', '94'],\n",
              " ['강화', '22.6', '80'],\n",
              " ['거제', '25.7', '91'],\n",
              " ['거창', '23.1', '93'],\n",
              " ['경주시', '23.5', '100'],\n",
              " ['고산', '28.7', '87'],\n",
              " ['고창', '26.2', '96'],\n",
              " ['고창군', '26.1', '93'],\n",
              " ['고흥', '26.3', '94'],\n",
              " ['광양시', '25.3', '99'],\n",
              " ['광주', '25.1', '94'],\n",
              " ['구미', '26.6', '85'],\n",
              " ['군산', '25.1', '84'],\n",
              " ['금산', '26.2', '85'],\n",
              " ['김해시', '26.0', '99'],\n",
              " ['남원', '24.7', '100'],\n",
              " ['남해', '25.9', '88'],\n",
              " ['대관령', '17.2', '95'],\n",
              " ['대구', '23.7', '96'],\n",
              " ['대전', '27.4', '87'],\n",
              " ['동두천', '21.5', '99'],\n",
              " ['동해', '21.0', '90'],\n",
              " ['목포', '26.6', '98'],\n",
              " ['문경', '22.6', '100'],\n",
              " ['밀양', '25.0', '96'],\n",
              " ['백령도', '22.8', '79'],\n",
              " ['보령', '25.0', '87'],\n",
              " ['보성군', '26.5', '99'],\n",
              " ['보은', '24.4', '93'],\n",
              " ['봉화', '22.4', '97'],\n",
              " ['부산', '25.6', '93'],\n",
              " ['부안', '24.3', '93'],\n",
              " ['부여', '27.4', '74'],\n",
              " ['북강릉', '19.7', '99'],\n",
              " ['북부산', '26.5', '93'],\n",
              " ['북창원', '26.5', '94'],\n",
              " ['북춘천', '22.1', '84'],\n",
              " ['산청', '23.4', '100'],\n",
              " ['상주', '23.2', '97'],\n",
              " ['서귀포', '29.2', '85'],\n",
              " ['서산', '22.8', '94'],\n",
              " ['서울', '22.7', '90'],\n",
              " ['서청주', '25.4', '86'],\n",
              " ['성산', '30.0', '82'],\n",
              " ['세종', '26.0', '83'],\n",
              " ['속초', '20.6', '93'],\n",
              " ['수원', '22.5', '87'],\n",
              " ['순천', '25.2', '96'],\n",
              " ['안동', '24.0', '95'],\n",
              " ['양산시', '26.7', '100'],\n",
              " ['양평', '22.4', '91'],\n",
              " ['여수', '24.6', '94'],\n",
              " ['영광군', '26.6', '90'],\n",
              " ['영덕', '23.5', '98'],\n",
              " ['영월', '21.8', '97'],\n",
              " ['영주', '22.6', '100'],\n",
              " ['영천', '23.1', '100'],\n",
              " ['완도', '27.6', '91'],\n",
              " ['울릉도', '24.6', '95'],\n",
              " ['울산', '24.9', '96'],\n",
              " ['울진', '22.3', '95'],\n",
              " ['원주', '21.2', '95'],\n",
              " ['의령군', '25.0', '87'],\n",
              " ['의성', '25.3', '98'],\n",
              " ['이천', '22.5', '100'],\n",
              " ['인제', '19.5', '91'],\n",
              " ['인천', '22.1', '94'],\n",
              " ['임실', '24.7', '97'],\n",
              " ['장수', '23.9', '92'],\n",
              " ['장흥', '26.7', '94'],\n",
              " ['전주', '24.9', '93'],\n",
              " ['정선군', '20.1', '97'],\n",
              " ['정읍', '25.7', '92'],\n",
              " ['제주', '28.4', '86'],\n",
              " ['제천', '21.6', '100'],\n",
              " ['진도군', '27.0', '94'],\n",
              " ['진주', '25.7', '94'],\n",
              " ['창원', '25.7', '95'],\n",
              " ['천안', '24.0', '99'],\n",
              " ['철원', '21.1', '84'],\n",
              " ['청송군', '24.0', '100'],\n",
              " ['청주', '26.2', '80'],\n",
              " ['추풍령', '23.3', '94'],\n",
              " ['춘천', '21.1', '90'],\n",
              " ['충주', '25.7', '86'],\n",
              " ['태백', '20.4', '95'],\n",
              " ['통영', '25.8', '93'],\n",
              " ['파주', '23.0', '85'],\n",
              " ['포항', '24.4', '98'],\n",
              " ['함양군', '23.6', '92'],\n",
              " ['합천', '24.7', '99'],\n",
              " ['해남', '27.9', '90'],\n",
              " ['홍성', '24.3', '82'],\n",
              " ['홍천', '20.5', '95'],\n",
              " ['흑산도', '27.4', '88']]"
            ]
          },
          "metadata": {},
          "execution_count": 5
        }
      ]
    }
  ]
}